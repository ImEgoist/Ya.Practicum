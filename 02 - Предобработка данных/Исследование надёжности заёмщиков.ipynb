{
 "cells": [
  {
   "cell_type": "markdown",
   "metadata": {},
   "source": [
    "# Исследование надёжности заёмщиков\n",
    "\n",
    "Заказчик — кредитный отдел банка. Нужно разобраться, влияет ли семейное положение и количество детей клиента на факт погашения кредита в срок. Входные данные от банка — статистика о платёжеспособности клиентов.\n",
    "\n",
    "Результаты исследования будут учтены при построении модели **кредитного скоринга** — специальной системы, которая оценивает способность потенциального заёмщика вернуть кредит банку."
   ]
  },
  {
   "cell_type": "markdown",
   "metadata": {},
   "source": [
    "# Описание данных\n",
    "\n",
    "- children — количество детей в семье\n",
    "- days_employed — общий трудовой стаж в днях\n",
    "- dob_years — возраст клиента в годах\n",
    "- education — уровень образования клиента\n",
    "- education_id — идентификатор уровня образования\n",
    "- family_status — семейное положение\n",
    "- family_status_id — идентификатор семейного положения\n",
    "- gender — пол клиента\n",
    "- income_type — тип занятости\n",
    "- debt — имел ли задолженность по возврату кредитов\n",
    "- total_income — ежемесячный доход\n",
    "- purpose — цель получения кредита"
   ]
  },
  {
   "cell_type": "markdown",
   "metadata": {},
   "source": [
    "## Откройте файл с данными и изучите общую информацию"
   ]
  },
  {
   "cell_type": "markdown",
   "metadata": {},
   "source": [
    "Приступим к работе с файлом. Прочитаем его, проверим данные о столбцах и получим первые десять строк таблицы."
   ]
  },
  {
   "cell_type": "code",
   "execution_count": 1,
   "metadata": {},
   "outputs": [
    {
     "name": "stdout",
     "output_type": "stream",
     "text": [
      "<class 'pandas.core.frame.DataFrame'>\n",
      "RangeIndex: 21525 entries, 0 to 21524\n",
      "Data columns (total 12 columns):\n",
      "children            21525 non-null int64\n",
      "days_employed       19351 non-null float64\n",
      "dob_years           21525 non-null int64\n",
      "education           21525 non-null object\n",
      "education_id        21525 non-null int64\n",
      "family_status       21525 non-null object\n",
      "family_status_id    21525 non-null int64\n",
      "gender              21525 non-null object\n",
      "income_type         21525 non-null object\n",
      "debt                21525 non-null int64\n",
      "total_income        19351 non-null float64\n",
      "purpose             21525 non-null object\n",
      "dtypes: float64(2), int64(5), object(5)\n",
      "memory usage: 2.0+ MB\n"
     ]
    }
   ],
   "source": [
    "import pandas as pd\n",
    "try:\n",
    "    data = pd.read_csv('/datasets/data.csv')\n",
    "except:\n",
    "    data = pd.read_csv('data.csv')\n",
    "data.info()"
   ]
  },
  {
   "cell_type": "code",
   "execution_count": 2,
   "metadata": {},
   "outputs": [
    {
     "data": {
      "text/html": [
       "<div>\n",
       "<style scoped>\n",
       "    .dataframe tbody tr th:only-of-type {\n",
       "        vertical-align: middle;\n",
       "    }\n",
       "\n",
       "    .dataframe tbody tr th {\n",
       "        vertical-align: top;\n",
       "    }\n",
       "\n",
       "    .dataframe thead th {\n",
       "        text-align: right;\n",
       "    }\n",
       "</style>\n",
       "<table border=\"1\" class=\"dataframe\">\n",
       "  <thead>\n",
       "    <tr style=\"text-align: right;\">\n",
       "      <th></th>\n",
       "      <th>children</th>\n",
       "      <th>days_employed</th>\n",
       "      <th>dob_years</th>\n",
       "      <th>education</th>\n",
       "      <th>education_id</th>\n",
       "      <th>family_status</th>\n",
       "      <th>family_status_id</th>\n",
       "      <th>gender</th>\n",
       "      <th>income_type</th>\n",
       "      <th>debt</th>\n",
       "      <th>total_income</th>\n",
       "      <th>purpose</th>\n",
       "    </tr>\n",
       "  </thead>\n",
       "  <tbody>\n",
       "    <tr>\n",
       "      <td>0</td>\n",
       "      <td>1</td>\n",
       "      <td>-8437.673028</td>\n",
       "      <td>42</td>\n",
       "      <td>высшее</td>\n",
       "      <td>0</td>\n",
       "      <td>женат / замужем</td>\n",
       "      <td>0</td>\n",
       "      <td>F</td>\n",
       "      <td>сотрудник</td>\n",
       "      <td>0</td>\n",
       "      <td>253875.639453</td>\n",
       "      <td>покупка жилья</td>\n",
       "    </tr>\n",
       "    <tr>\n",
       "      <td>1</td>\n",
       "      <td>1</td>\n",
       "      <td>-4024.803754</td>\n",
       "      <td>36</td>\n",
       "      <td>среднее</td>\n",
       "      <td>1</td>\n",
       "      <td>женат / замужем</td>\n",
       "      <td>0</td>\n",
       "      <td>F</td>\n",
       "      <td>сотрудник</td>\n",
       "      <td>0</td>\n",
       "      <td>112080.014102</td>\n",
       "      <td>приобретение автомобиля</td>\n",
       "    </tr>\n",
       "    <tr>\n",
       "      <td>2</td>\n",
       "      <td>0</td>\n",
       "      <td>-5623.422610</td>\n",
       "      <td>33</td>\n",
       "      <td>Среднее</td>\n",
       "      <td>1</td>\n",
       "      <td>женат / замужем</td>\n",
       "      <td>0</td>\n",
       "      <td>M</td>\n",
       "      <td>сотрудник</td>\n",
       "      <td>0</td>\n",
       "      <td>145885.952297</td>\n",
       "      <td>покупка жилья</td>\n",
       "    </tr>\n",
       "    <tr>\n",
       "      <td>3</td>\n",
       "      <td>3</td>\n",
       "      <td>-4124.747207</td>\n",
       "      <td>32</td>\n",
       "      <td>среднее</td>\n",
       "      <td>1</td>\n",
       "      <td>женат / замужем</td>\n",
       "      <td>0</td>\n",
       "      <td>M</td>\n",
       "      <td>сотрудник</td>\n",
       "      <td>0</td>\n",
       "      <td>267628.550329</td>\n",
       "      <td>дополнительное образование</td>\n",
       "    </tr>\n",
       "    <tr>\n",
       "      <td>4</td>\n",
       "      <td>0</td>\n",
       "      <td>340266.072047</td>\n",
       "      <td>53</td>\n",
       "      <td>среднее</td>\n",
       "      <td>1</td>\n",
       "      <td>гражданский брак</td>\n",
       "      <td>1</td>\n",
       "      <td>F</td>\n",
       "      <td>пенсионер</td>\n",
       "      <td>0</td>\n",
       "      <td>158616.077870</td>\n",
       "      <td>сыграть свадьбу</td>\n",
       "    </tr>\n",
       "    <tr>\n",
       "      <td>5</td>\n",
       "      <td>0</td>\n",
       "      <td>-926.185831</td>\n",
       "      <td>27</td>\n",
       "      <td>высшее</td>\n",
       "      <td>0</td>\n",
       "      <td>гражданский брак</td>\n",
       "      <td>1</td>\n",
       "      <td>M</td>\n",
       "      <td>компаньон</td>\n",
       "      <td>0</td>\n",
       "      <td>255763.565419</td>\n",
       "      <td>покупка жилья</td>\n",
       "    </tr>\n",
       "    <tr>\n",
       "      <td>6</td>\n",
       "      <td>0</td>\n",
       "      <td>-2879.202052</td>\n",
       "      <td>43</td>\n",
       "      <td>высшее</td>\n",
       "      <td>0</td>\n",
       "      <td>женат / замужем</td>\n",
       "      <td>0</td>\n",
       "      <td>F</td>\n",
       "      <td>компаньон</td>\n",
       "      <td>0</td>\n",
       "      <td>240525.971920</td>\n",
       "      <td>операции с жильем</td>\n",
       "    </tr>\n",
       "    <tr>\n",
       "      <td>7</td>\n",
       "      <td>0</td>\n",
       "      <td>-152.779569</td>\n",
       "      <td>50</td>\n",
       "      <td>СРЕДНЕЕ</td>\n",
       "      <td>1</td>\n",
       "      <td>женат / замужем</td>\n",
       "      <td>0</td>\n",
       "      <td>M</td>\n",
       "      <td>сотрудник</td>\n",
       "      <td>0</td>\n",
       "      <td>135823.934197</td>\n",
       "      <td>образование</td>\n",
       "    </tr>\n",
       "    <tr>\n",
       "      <td>8</td>\n",
       "      <td>2</td>\n",
       "      <td>-6929.865299</td>\n",
       "      <td>35</td>\n",
       "      <td>ВЫСШЕЕ</td>\n",
       "      <td>0</td>\n",
       "      <td>гражданский брак</td>\n",
       "      <td>1</td>\n",
       "      <td>F</td>\n",
       "      <td>сотрудник</td>\n",
       "      <td>0</td>\n",
       "      <td>95856.832424</td>\n",
       "      <td>на проведение свадьбы</td>\n",
       "    </tr>\n",
       "    <tr>\n",
       "      <td>9</td>\n",
       "      <td>0</td>\n",
       "      <td>-2188.756445</td>\n",
       "      <td>41</td>\n",
       "      <td>среднее</td>\n",
       "      <td>1</td>\n",
       "      <td>женат / замужем</td>\n",
       "      <td>0</td>\n",
       "      <td>M</td>\n",
       "      <td>сотрудник</td>\n",
       "      <td>0</td>\n",
       "      <td>144425.938277</td>\n",
       "      <td>покупка жилья для семьи</td>\n",
       "    </tr>\n",
       "  </tbody>\n",
       "</table>\n",
       "</div>"
      ],
      "text/plain": [
       "   children  days_employed  dob_years education  education_id  \\\n",
       "0         1   -8437.673028         42    высшее             0   \n",
       "1         1   -4024.803754         36   среднее             1   \n",
       "2         0   -5623.422610         33   Среднее             1   \n",
       "3         3   -4124.747207         32   среднее             1   \n",
       "4         0  340266.072047         53   среднее             1   \n",
       "5         0    -926.185831         27    высшее             0   \n",
       "6         0   -2879.202052         43    высшее             0   \n",
       "7         0    -152.779569         50   СРЕДНЕЕ             1   \n",
       "8         2   -6929.865299         35    ВЫСШЕЕ             0   \n",
       "9         0   -2188.756445         41   среднее             1   \n",
       "\n",
       "      family_status  family_status_id gender income_type  debt   total_income  \\\n",
       "0   женат / замужем                 0      F   сотрудник     0  253875.639453   \n",
       "1   женат / замужем                 0      F   сотрудник     0  112080.014102   \n",
       "2   женат / замужем                 0      M   сотрудник     0  145885.952297   \n",
       "3   женат / замужем                 0      M   сотрудник     0  267628.550329   \n",
       "4  гражданский брак                 1      F   пенсионер     0  158616.077870   \n",
       "5  гражданский брак                 1      M   компаньон     0  255763.565419   \n",
       "6   женат / замужем                 0      F   компаньон     0  240525.971920   \n",
       "7   женат / замужем                 0      M   сотрудник     0  135823.934197   \n",
       "8  гражданский брак                 1      F   сотрудник     0   95856.832424   \n",
       "9   женат / замужем                 0      M   сотрудник     0  144425.938277   \n",
       "\n",
       "                      purpose  \n",
       "0               покупка жилья  \n",
       "1     приобретение автомобиля  \n",
       "2               покупка жилья  \n",
       "3  дополнительное образование  \n",
       "4             сыграть свадьбу  \n",
       "5               покупка жилья  \n",
       "6           операции с жильем  \n",
       "7                 образование  \n",
       "8       на проведение свадьбы  \n",
       "9     покупка жилья для семьи  "
      ]
     },
     "execution_count": 2,
     "metadata": {},
     "output_type": "execute_result"
    }
   ],
   "source": [
    "data.head(10)"
   ]
  },
  {
   "cell_type": "markdown",
   "metadata": {},
   "source": [
    "**Вывод**\n",
    "Все значения в столбцах готовы к обработке, столбцы с числами имеют формат int или float.\n",
    "\n",
    "В столбце с днями работы есть отрицательные дробные значения - подозрительно и непонятно. Требуется понять, как их обработать, и почему это появилось. \n",
    "\n",
    "Есть пропуски в значениях отработанных дней и зарплаты - необходимо понять, откуда они.\n",
    "\n",
    "В столбце \"образование\" использовался разный регистр при вводе данных - обработать."
   ]
  },
  {
   "cell_type": "markdown",
   "metadata": {},
   "source": [
    "## Предобработка данных"
   ]
  },
  {
   "cell_type": "markdown",
   "metadata": {},
   "source": [
    "### Обработка пропусков"
   ]
  },
  {
   "cell_type": "markdown",
   "metadata": {},
   "source": [
    "Во-первых, надо разобраться с отрицательными значениями в столбце \"отработанные дни\" и \"количество детей\". Заменим отрицательные значения положительными с помощью метода apply(abs). И предположим, что произошла ошибка, из-за которой в некоторых случаях в столбце указаны не отработанные дни, а отработанные часы. Переведём эти значения в часы."
   ]
  },
  {
   "cell_type": "code",
   "execution_count": 3,
   "metadata": {},
   "outputs": [
    {
     "data": {
      "text/plain": [
       "array([ 0, 19, 20, 21, 22, 23, 24, 25, 26, 27, 28, 29, 30, 31, 32, 33, 34,\n",
       "       35, 36, 37, 38, 39, 40, 41, 42, 43, 44, 45, 46, 47, 48, 49, 50, 51,\n",
       "       52, 53, 54, 55, 56, 57, 58, 59, 60, 61, 62, 63, 64, 65, 66, 67, 68,\n",
       "       69, 70, 71, 72, 73, 74, 75], dtype=int64)"
      ]
     },
     "execution_count": 3,
     "metadata": {},
     "output_type": "execute_result"
    }
   ],
   "source": [
    "data['dob_years'].sort_values().unique()"
   ]
  },
  {
   "cell_type": "markdown",
   "metadata": {},
   "source": [
    "0 в столбце с возрастом похож на пропуск."
   ]
  },
  {
   "cell_type": "code",
   "execution_count": 4,
   "metadata": {},
   "outputs": [
    {
     "data": {
      "text/plain": [
       "35    617\n",
       "40    609\n",
       "41    607\n",
       "34    603\n",
       "38    598\n",
       "42    597\n",
       "33    581\n",
       "39    573\n",
       "31    560\n",
       "36    555\n",
       "44    547\n",
       "29    545\n",
       "30    540\n",
       "48    538\n",
       "37    537\n",
       "50    514\n",
       "43    513\n",
       "32    510\n",
       "49    508\n",
       "28    503\n",
       "45    497\n",
       "27    493\n",
       "56    487\n",
       "52    484\n",
       "47    480\n",
       "54    479\n",
       "46    475\n",
       "58    461\n",
       "57    460\n",
       "53    459\n",
       "51    448\n",
       "59    444\n",
       "55    443\n",
       "26    408\n",
       "60    377\n",
       "25    357\n",
       "61    355\n",
       "62    352\n",
       "63    269\n",
       "64    265\n",
       "24    264\n",
       "23    254\n",
       "65    194\n",
       "66    183\n",
       "22    183\n",
       "67    167\n",
       "21    111\n",
       "0     101\n",
       "68     99\n",
       "69     85\n",
       "70     65\n",
       "71     58\n",
       "20     51\n",
       "72     33\n",
       "19     14\n",
       "73      8\n",
       "74      6\n",
       "75      1\n",
       "Name: dob_years, dtype: int64"
      ]
     },
     "execution_count": 4,
     "metadata": {},
     "output_type": "execute_result"
    }
   ],
   "source": [
    "data['dob_years'].value_counts()"
   ]
  },
  {
   "cell_type": "markdown",
   "metadata": {},
   "source": [
    "В таблице возраста у 101 человека возраст составляет 0 лет. Исправим это."
   ]
  },
  {
   "cell_type": "code",
   "execution_count": 5,
   "metadata": {},
   "outputs": [],
   "source": [
    "years_median = data.groupby('income_type')['dob_years'].median()\n",
    "\n",
    "for income_type in years_median.index: \n",
    "    data.loc[data['income_type'] == income_type,'dob_years'] =  data.loc[data['income_type'] == income_type,'dob_years'].replace(0, years_median.loc[income_type])  "
   ]
  },
  {
   "cell_type": "code",
   "execution_count": 6,
   "metadata": {},
   "outputs": [
    {
     "data": {
      "text/plain": [
       "array([19, 20, 21, 22, 23, 24, 25, 26, 27, 28, 29, 30, 31, 32, 33, 34, 35,\n",
       "       36, 37, 38, 39, 40, 41, 42, 43, 44, 45, 46, 47, 48, 49, 50, 51, 52,\n",
       "       53, 54, 55, 56, 57, 58, 59, 60, 61, 62, 63, 64, 65, 66, 67, 68, 69,\n",
       "       70, 71, 72, 73, 74, 75], dtype=int64)"
      ]
     },
     "execution_count": 6,
     "metadata": {},
     "output_type": "execute_result"
    }
   ],
   "source": [
    "data['dob_years'].sort_values().unique()"
   ]
  },
  {
   "cell_type": "markdown",
   "metadata": {},
   "source": [
    "С возрастом разобрались. Посмотрим, что там по детям"
   ]
  },
  {
   "cell_type": "code",
   "execution_count": 7,
   "metadata": {
    "scrolled": true
   },
   "outputs": [
    {
     "data": {
      "text/plain": [
       " 0     14149\n",
       " 1      4818\n",
       " 2      2055\n",
       " 3       330\n",
       " 20       76\n",
       "-1        47\n",
       " 4        41\n",
       " 5         9\n",
       "Name: children, dtype: int64"
      ]
     },
     "execution_count": 7,
     "metadata": {},
     "output_type": "execute_result"
    }
   ],
   "source": [
    "data['children'].value_counts()"
   ]
  },
  {
   "cell_type": "markdown",
   "metadata": {},
   "source": [
    "Теперь с количеством детей всё в порядке. Хотя, конечно, согласна, что 20 детей - это перебор. Их немного, поэтому допущу, что тут имеет место человеческий фактор: опечатка. Было 2, стало 20"
   ]
  },
  {
   "cell_type": "code",
   "execution_count": 8,
   "metadata": {},
   "outputs": [],
   "source": [
    "data.loc[data['children'] == 20, 'children'] = 2"
   ]
  },
  {
   "cell_type": "code",
   "execution_count": 9,
   "metadata": {},
   "outputs": [
    {
     "data": {
      "text/plain": [
       "array([ 1,  0,  3,  2, -1,  4,  5], dtype=int64)"
      ]
     },
     "execution_count": 9,
     "metadata": {},
     "output_type": "execute_result"
    }
   ],
   "source": [
    "data['children'].unique()"
   ]
  },
  {
   "cell_type": "code",
   "execution_count": 10,
   "metadata": {},
   "outputs": [],
   "source": [
    "#заменим отрицательное значение на значение по модулю\n",
    "data['children'] = data['children'].apply(abs)"
   ]
  },
  {
   "cell_type": "code",
   "execution_count": 11,
   "metadata": {},
   "outputs": [
    {
     "data": {
      "text/plain": [
       "0    14149\n",
       "1     4865\n",
       "2     2131\n",
       "3      330\n",
       "4       41\n",
       "5        9\n",
       "Name: children, dtype: int64"
      ]
     },
     "execution_count": 11,
     "metadata": {},
     "output_type": "execute_result"
    }
   ],
   "source": [
    "data['children'].value_counts()"
   ]
  },
  {
   "cell_type": "markdown",
   "metadata": {},
   "source": [
    "Отрицательных дней работы быть не должно, у нас всё-таки не рабство. Поэтому предположим, что имеет место ошибка в данных."
   ]
  },
  {
   "cell_type": "code",
   "execution_count": 12,
   "metadata": {},
   "outputs": [],
   "source": [
    "#заменим отрицательные значения на значения по модулю\n",
    "data['days_employed'] = data['days_employed'].apply(abs)"
   ]
  },
  {
   "cell_type": "code",
   "execution_count": 13,
   "metadata": {},
   "outputs": [],
   "source": [
    "#если отработанных значений больше 30000 примем их за часы и переведём в дни\n",
    "data.loc[data['days_employed'] >30000, 'days_employed'] = data.loc[data['days_employed'] >30000, 'days_employed'] / 24"
   ]
  },
  {
   "cell_type": "code",
   "execution_count": 14,
   "metadata": {},
   "outputs": [
    {
     "data": {
      "text/html": [
       "<div>\n",
       "<style scoped>\n",
       "    .dataframe tbody tr th:only-of-type {\n",
       "        vertical-align: middle;\n",
       "    }\n",
       "\n",
       "    .dataframe tbody tr th {\n",
       "        vertical-align: top;\n",
       "    }\n",
       "\n",
       "    .dataframe thead th {\n",
       "        text-align: right;\n",
       "    }\n",
       "</style>\n",
       "<table border=\"1\" class=\"dataframe\">\n",
       "  <thead>\n",
       "    <tr style=\"text-align: right;\">\n",
       "      <th></th>\n",
       "      <th>children</th>\n",
       "      <th>days_employed</th>\n",
       "      <th>dob_years</th>\n",
       "      <th>education</th>\n",
       "      <th>education_id</th>\n",
       "      <th>family_status</th>\n",
       "      <th>family_status_id</th>\n",
       "      <th>gender</th>\n",
       "      <th>income_type</th>\n",
       "      <th>debt</th>\n",
       "      <th>total_income</th>\n",
       "      <th>purpose</th>\n",
       "    </tr>\n",
       "  </thead>\n",
       "  <tbody>\n",
       "    <tr>\n",
       "      <td>16335</td>\n",
       "      <td>1</td>\n",
       "      <td>18388.949901</td>\n",
       "      <td>61</td>\n",
       "      <td>среднее</td>\n",
       "      <td>1</td>\n",
       "      <td>женат / замужем</td>\n",
       "      <td>0</td>\n",
       "      <td>F</td>\n",
       "      <td>сотрудник</td>\n",
       "      <td>0</td>\n",
       "      <td>186178.934089</td>\n",
       "      <td>операции с недвижимостью</td>\n",
       "    </tr>\n",
       "    <tr>\n",
       "      <td>4299</td>\n",
       "      <td>0</td>\n",
       "      <td>17615.563266</td>\n",
       "      <td>61</td>\n",
       "      <td>среднее</td>\n",
       "      <td>1</td>\n",
       "      <td>женат / замужем</td>\n",
       "      <td>0</td>\n",
       "      <td>F</td>\n",
       "      <td>компаньон</td>\n",
       "      <td>0</td>\n",
       "      <td>122560.741753</td>\n",
       "      <td>покупка жилья</td>\n",
       "    </tr>\n",
       "    <tr>\n",
       "      <td>6954</td>\n",
       "      <td>0</td>\n",
       "      <td>16739.808353</td>\n",
       "      <td>56</td>\n",
       "      <td>среднее</td>\n",
       "      <td>1</td>\n",
       "      <td>вдовец / вдова</td>\n",
       "      <td>2</td>\n",
       "      <td>F</td>\n",
       "      <td>пенсионер</td>\n",
       "      <td>0</td>\n",
       "      <td>176278.441171</td>\n",
       "      <td>ремонт жилью</td>\n",
       "    </tr>\n",
       "    <tr>\n",
       "      <td>10006</td>\n",
       "      <td>0</td>\n",
       "      <td>16738.158823</td>\n",
       "      <td>69</td>\n",
       "      <td>высшее</td>\n",
       "      <td>0</td>\n",
       "      <td>Не женат / не замужем</td>\n",
       "      <td>4</td>\n",
       "      <td>F</td>\n",
       "      <td>пенсионер</td>\n",
       "      <td>0</td>\n",
       "      <td>57390.256908</td>\n",
       "      <td>получение образования</td>\n",
       "    </tr>\n",
       "    <tr>\n",
       "      <td>7664</td>\n",
       "      <td>1</td>\n",
       "      <td>16736.462226</td>\n",
       "      <td>61</td>\n",
       "      <td>среднее</td>\n",
       "      <td>1</td>\n",
       "      <td>женат / замужем</td>\n",
       "      <td>0</td>\n",
       "      <td>F</td>\n",
       "      <td>пенсионер</td>\n",
       "      <td>0</td>\n",
       "      <td>126214.519212</td>\n",
       "      <td>операции с жильем</td>\n",
       "    </tr>\n",
       "    <tr>\n",
       "      <td>2156</td>\n",
       "      <td>0</td>\n",
       "      <td>16736.436110</td>\n",
       "      <td>60</td>\n",
       "      <td>среднее</td>\n",
       "      <td>1</td>\n",
       "      <td>женат / замужем</td>\n",
       "      <td>0</td>\n",
       "      <td>M</td>\n",
       "      <td>пенсионер</td>\n",
       "      <td>0</td>\n",
       "      <td>325395.724541</td>\n",
       "      <td>автомобили</td>\n",
       "    </tr>\n",
       "    <tr>\n",
       "      <td>7794</td>\n",
       "      <td>0</td>\n",
       "      <td>16735.993752</td>\n",
       "      <td>61</td>\n",
       "      <td>среднее</td>\n",
       "      <td>1</td>\n",
       "      <td>гражданский брак</td>\n",
       "      <td>1</td>\n",
       "      <td>F</td>\n",
       "      <td>пенсионер</td>\n",
       "      <td>0</td>\n",
       "      <td>48286.441362</td>\n",
       "      <td>свадьба</td>\n",
       "    </tr>\n",
       "    <tr>\n",
       "      <td>4697</td>\n",
       "      <td>0</td>\n",
       "      <td>16734.793029</td>\n",
       "      <td>56</td>\n",
       "      <td>среднее</td>\n",
       "      <td>1</td>\n",
       "      <td>женат / замужем</td>\n",
       "      <td>0</td>\n",
       "      <td>F</td>\n",
       "      <td>пенсионер</td>\n",
       "      <td>0</td>\n",
       "      <td>48242.322502</td>\n",
       "      <td>покупка недвижимости</td>\n",
       "    </tr>\n",
       "    <tr>\n",
       "      <td>13420</td>\n",
       "      <td>0</td>\n",
       "      <td>16734.151387</td>\n",
       "      <td>63</td>\n",
       "      <td>Среднее</td>\n",
       "      <td>1</td>\n",
       "      <td>гражданский брак</td>\n",
       "      <td>1</td>\n",
       "      <td>F</td>\n",
       "      <td>пенсионер</td>\n",
       "      <td>0</td>\n",
       "      <td>51449.788325</td>\n",
       "      <td>сыграть свадьбу</td>\n",
       "    </tr>\n",
       "    <tr>\n",
       "      <td>17823</td>\n",
       "      <td>0</td>\n",
       "      <td>16733.936484</td>\n",
       "      <td>59</td>\n",
       "      <td>среднее</td>\n",
       "      <td>1</td>\n",
       "      <td>женат / замужем</td>\n",
       "      <td>0</td>\n",
       "      <td>F</td>\n",
       "      <td>пенсионер</td>\n",
       "      <td>0</td>\n",
       "      <td>152769.694536</td>\n",
       "      <td>покупка жилья для сдачи</td>\n",
       "    </tr>\n",
       "  </tbody>\n",
       "</table>\n",
       "</div>"
      ],
      "text/plain": [
       "       children  days_employed  dob_years education  education_id  \\\n",
       "16335         1   18388.949901         61   среднее             1   \n",
       "4299          0   17615.563266         61   среднее             1   \n",
       "6954          0   16739.808353         56   среднее             1   \n",
       "10006         0   16738.158823         69    высшее             0   \n",
       "7664          1   16736.462226         61   среднее             1   \n",
       "2156          0   16736.436110         60   среднее             1   \n",
       "7794          0   16735.993752         61   среднее             1   \n",
       "4697          0   16734.793029         56   среднее             1   \n",
       "13420         0   16734.151387         63   Среднее             1   \n",
       "17823         0   16733.936484         59   среднее             1   \n",
       "\n",
       "               family_status  family_status_id gender income_type  debt  \\\n",
       "16335        женат / замужем                 0      F   сотрудник     0   \n",
       "4299         женат / замужем                 0      F   компаньон     0   \n",
       "6954          вдовец / вдова                 2      F   пенсионер     0   \n",
       "10006  Не женат / не замужем                 4      F   пенсионер     0   \n",
       "7664         женат / замужем                 0      F   пенсионер     0   \n",
       "2156         женат / замужем                 0      M   пенсионер     0   \n",
       "7794        гражданский брак                 1      F   пенсионер     0   \n",
       "4697         женат / замужем                 0      F   пенсионер     0   \n",
       "13420       гражданский брак                 1      F   пенсионер     0   \n",
       "17823        женат / замужем                 0      F   пенсионер     0   \n",
       "\n",
       "        total_income                   purpose  \n",
       "16335  186178.934089  операции с недвижимостью  \n",
       "4299   122560.741753             покупка жилья  \n",
       "6954   176278.441171              ремонт жилью  \n",
       "10006   57390.256908     получение образования  \n",
       "7664   126214.519212         операции с жильем  \n",
       "2156   325395.724541                автомобили  \n",
       "7794    48286.441362                   свадьба  \n",
       "4697    48242.322502      покупка недвижимости  \n",
       "13420   51449.788325           сыграть свадьбу  \n",
       "17823  152769.694536   покупка жилья для сдачи  "
      ]
     },
     "execution_count": 14,
     "metadata": {},
     "output_type": "execute_result"
    }
   ],
   "source": [
    "data.sort_values(by='days_employed', ascending=False).head(10)"
   ]
  },
  {
   "cell_type": "markdown",
   "metadata": {},
   "source": [
    "Получилось, что к 61 году человек отработал 50 лет. Многовато, конечно. Но если предположить, что его 18000 - это часы, тогда его трудовой стаж составит 2 года, а это ещё более странно. Оставим эти значения в днях.\n",
    "\n",
    "Теперь разберёмся с пропущенными значениями в столбцах \"отработанные дни\" и \"з/п\". Посмотрим, сколько у на всего пропусков и где они расположены."
   ]
  },
  {
   "cell_type": "code",
   "execution_count": 15,
   "metadata": {},
   "outputs": [
    {
     "data": {
      "text/plain": [
       "children               0\n",
       "days_employed       2174\n",
       "dob_years              0\n",
       "education              0\n",
       "education_id           0\n",
       "family_status          0\n",
       "family_status_id       0\n",
       "gender                 0\n",
       "income_type            0\n",
       "debt                   0\n",
       "total_income        2174\n",
       "purpose                0\n",
       "dtype: int64"
      ]
     },
     "execution_count": 15,
     "metadata": {},
     "output_type": "execute_result"
    }
   ],
   "source": [
    "data.isna().sum()"
   ]
  },
  {
   "cell_type": "code",
   "execution_count": 16,
   "metadata": {},
   "outputs": [
    {
     "data": {
      "text/html": [
       "<div>\n",
       "<style scoped>\n",
       "    .dataframe tbody tr th:only-of-type {\n",
       "        vertical-align: middle;\n",
       "    }\n",
       "\n",
       "    .dataframe tbody tr th {\n",
       "        vertical-align: top;\n",
       "    }\n",
       "\n",
       "    .dataframe thead th {\n",
       "        text-align: right;\n",
       "    }\n",
       "</style>\n",
       "<table border=\"1\" class=\"dataframe\">\n",
       "  <thead>\n",
       "    <tr style=\"text-align: right;\">\n",
       "      <th></th>\n",
       "      <th>children</th>\n",
       "      <th>days_employed</th>\n",
       "      <th>dob_years</th>\n",
       "      <th>education</th>\n",
       "      <th>education_id</th>\n",
       "      <th>family_status</th>\n",
       "      <th>family_status_id</th>\n",
       "      <th>gender</th>\n",
       "      <th>income_type</th>\n",
       "      <th>debt</th>\n",
       "      <th>total_income</th>\n",
       "      <th>purpose</th>\n",
       "    </tr>\n",
       "  </thead>\n",
       "  <tbody>\n",
       "    <tr>\n",
       "      <td>12</td>\n",
       "      <td>0</td>\n",
       "      <td>NaN</td>\n",
       "      <td>65</td>\n",
       "      <td>среднее</td>\n",
       "      <td>1</td>\n",
       "      <td>гражданский брак</td>\n",
       "      <td>1</td>\n",
       "      <td>M</td>\n",
       "      <td>пенсионер</td>\n",
       "      <td>0</td>\n",
       "      <td>NaN</td>\n",
       "      <td>сыграть свадьбу</td>\n",
       "    </tr>\n",
       "    <tr>\n",
       "      <td>26</td>\n",
       "      <td>0</td>\n",
       "      <td>NaN</td>\n",
       "      <td>41</td>\n",
       "      <td>среднее</td>\n",
       "      <td>1</td>\n",
       "      <td>женат / замужем</td>\n",
       "      <td>0</td>\n",
       "      <td>M</td>\n",
       "      <td>госслужащий</td>\n",
       "      <td>0</td>\n",
       "      <td>NaN</td>\n",
       "      <td>образование</td>\n",
       "    </tr>\n",
       "    <tr>\n",
       "      <td>29</td>\n",
       "      <td>0</td>\n",
       "      <td>NaN</td>\n",
       "      <td>63</td>\n",
       "      <td>среднее</td>\n",
       "      <td>1</td>\n",
       "      <td>Не женат / не замужем</td>\n",
       "      <td>4</td>\n",
       "      <td>F</td>\n",
       "      <td>пенсионер</td>\n",
       "      <td>0</td>\n",
       "      <td>NaN</td>\n",
       "      <td>строительство жилой недвижимости</td>\n",
       "    </tr>\n",
       "    <tr>\n",
       "      <td>41</td>\n",
       "      <td>0</td>\n",
       "      <td>NaN</td>\n",
       "      <td>50</td>\n",
       "      <td>среднее</td>\n",
       "      <td>1</td>\n",
       "      <td>женат / замужем</td>\n",
       "      <td>0</td>\n",
       "      <td>F</td>\n",
       "      <td>госслужащий</td>\n",
       "      <td>0</td>\n",
       "      <td>NaN</td>\n",
       "      <td>сделка с подержанным автомобилем</td>\n",
       "    </tr>\n",
       "    <tr>\n",
       "      <td>55</td>\n",
       "      <td>0</td>\n",
       "      <td>NaN</td>\n",
       "      <td>54</td>\n",
       "      <td>среднее</td>\n",
       "      <td>1</td>\n",
       "      <td>гражданский брак</td>\n",
       "      <td>1</td>\n",
       "      <td>F</td>\n",
       "      <td>пенсионер</td>\n",
       "      <td>1</td>\n",
       "      <td>NaN</td>\n",
       "      <td>сыграть свадьбу</td>\n",
       "    </tr>\n",
       "    <tr>\n",
       "      <td>65</td>\n",
       "      <td>0</td>\n",
       "      <td>NaN</td>\n",
       "      <td>21</td>\n",
       "      <td>среднее</td>\n",
       "      <td>1</td>\n",
       "      <td>Не женат / не замужем</td>\n",
       "      <td>4</td>\n",
       "      <td>M</td>\n",
       "      <td>компаньон</td>\n",
       "      <td>0</td>\n",
       "      <td>NaN</td>\n",
       "      <td>операции с коммерческой недвижимостью</td>\n",
       "    </tr>\n",
       "    <tr>\n",
       "      <td>67</td>\n",
       "      <td>0</td>\n",
       "      <td>NaN</td>\n",
       "      <td>52</td>\n",
       "      <td>высшее</td>\n",
       "      <td>0</td>\n",
       "      <td>женат / замужем</td>\n",
       "      <td>0</td>\n",
       "      <td>F</td>\n",
       "      <td>пенсионер</td>\n",
       "      <td>0</td>\n",
       "      <td>NaN</td>\n",
       "      <td>покупка жилья для семьи</td>\n",
       "    </tr>\n",
       "    <tr>\n",
       "      <td>72</td>\n",
       "      <td>1</td>\n",
       "      <td>NaN</td>\n",
       "      <td>32</td>\n",
       "      <td>высшее</td>\n",
       "      <td>0</td>\n",
       "      <td>женат / замужем</td>\n",
       "      <td>0</td>\n",
       "      <td>M</td>\n",
       "      <td>госслужащий</td>\n",
       "      <td>0</td>\n",
       "      <td>NaN</td>\n",
       "      <td>операции с коммерческой недвижимостью</td>\n",
       "    </tr>\n",
       "    <tr>\n",
       "      <td>82</td>\n",
       "      <td>2</td>\n",
       "      <td>NaN</td>\n",
       "      <td>50</td>\n",
       "      <td>высшее</td>\n",
       "      <td>0</td>\n",
       "      <td>женат / замужем</td>\n",
       "      <td>0</td>\n",
       "      <td>F</td>\n",
       "      <td>сотрудник</td>\n",
       "      <td>0</td>\n",
       "      <td>NaN</td>\n",
       "      <td>жилье</td>\n",
       "    </tr>\n",
       "    <tr>\n",
       "      <td>83</td>\n",
       "      <td>0</td>\n",
       "      <td>NaN</td>\n",
       "      <td>52</td>\n",
       "      <td>среднее</td>\n",
       "      <td>1</td>\n",
       "      <td>женат / замужем</td>\n",
       "      <td>0</td>\n",
       "      <td>M</td>\n",
       "      <td>сотрудник</td>\n",
       "      <td>0</td>\n",
       "      <td>NaN</td>\n",
       "      <td>жилье</td>\n",
       "    </tr>\n",
       "  </tbody>\n",
       "</table>\n",
       "</div>"
      ],
      "text/plain": [
       "    children  days_employed  dob_years education  education_id  \\\n",
       "12         0            NaN         65   среднее             1   \n",
       "26         0            NaN         41   среднее             1   \n",
       "29         0            NaN         63   среднее             1   \n",
       "41         0            NaN         50   среднее             1   \n",
       "55         0            NaN         54   среднее             1   \n",
       "65         0            NaN         21   среднее             1   \n",
       "67         0            NaN         52    высшее             0   \n",
       "72         1            NaN         32    высшее             0   \n",
       "82         2            NaN         50    высшее             0   \n",
       "83         0            NaN         52   среднее             1   \n",
       "\n",
       "            family_status  family_status_id gender  income_type  debt  \\\n",
       "12       гражданский брак                 1      M    пенсионер     0   \n",
       "26        женат / замужем                 0      M  госслужащий     0   \n",
       "29  Не женат / не замужем                 4      F    пенсионер     0   \n",
       "41        женат / замужем                 0      F  госслужащий     0   \n",
       "55       гражданский брак                 1      F    пенсионер     1   \n",
       "65  Не женат / не замужем                 4      M    компаньон     0   \n",
       "67        женат / замужем                 0      F    пенсионер     0   \n",
       "72        женат / замужем                 0      M  госслужащий     0   \n",
       "82        женат / замужем                 0      F    сотрудник     0   \n",
       "83        женат / замужем                 0      M    сотрудник     0   \n",
       "\n",
       "    total_income                                purpose  \n",
       "12           NaN                        сыграть свадьбу  \n",
       "26           NaN                            образование  \n",
       "29           NaN       строительство жилой недвижимости  \n",
       "41           NaN       сделка с подержанным автомобилем  \n",
       "55           NaN                        сыграть свадьбу  \n",
       "65           NaN  операции с коммерческой недвижимостью  \n",
       "67           NaN                покупка жилья для семьи  \n",
       "72           NaN  операции с коммерческой недвижимостью  \n",
       "82           NaN                                  жилье  \n",
       "83           NaN                                  жилье  "
      ]
     },
     "execution_count": 16,
     "metadata": {},
     "output_type": "execute_result"
    }
   ],
   "source": [
    "data[data['days_employed'].isna()].head(10)"
   ]
  },
  {
   "cell_type": "markdown",
   "metadata": {},
   "source": [
    "Значения пропущены не только у предположительно неработающих пенсионеров. Значит, заменять их нулями будет неверно. \n",
    "\n",
    "Вероятно, ошибка техническая. Человек ошибался бы в разных столбцах при заполнении данных. И вряд ли человек делал бы абсолютно одинаковую ошибку: пропускал значения сразу в двух столбцах. Возможно, значения не соответствовали нужному формату, поэтому были удалены.\n",
    "\n",
    "Найдём для каждого столбца медианное значение и заменим им значение отсутствующее."
   ]
  },
  {
   "cell_type": "code",
   "execution_count": 17,
   "metadata": {},
   "outputs": [],
   "source": [
    "income_median = data.groupby('income_type')['total_income'].median()\n",
    "\n",
    "for income_type in income_median.index: \n",
    "    data.loc[data['income_type'] == income_type,'total_income'] = data.loc[data['income_type'] == income_type,'total_income'].fillna(income_median.loc[income_type]) "
   ]
  },
  {
   "cell_type": "code",
   "execution_count": 18,
   "metadata": {},
   "outputs": [],
   "source": [
    "days_median = data.groupby('income_type')['days_employed'].median()\n",
    "\n",
    "for income_type in days_median.index: \n",
    "    data.loc[data['income_type'] == income_type,'days_employed'] = data.loc[data['income_type'] == income_type,'days_employed'].fillna(income_median.loc[income_type]) "
   ]
  },
  {
   "cell_type": "code",
   "execution_count": 19,
   "metadata": {},
   "outputs": [
    {
     "data": {
      "text/plain": [
       "income_type\n",
       "безработный        15267.235531\n",
       "в декрете           3296.759962\n",
       "госслужащий         2689.368353\n",
       "компаньон           1547.382223\n",
       "пенсионер          15217.221094\n",
       "предприниматель      520.848083\n",
       "сотрудник           1574.202821\n",
       "студент              578.751554\n",
       "Name: days_employed, dtype: float64"
      ]
     },
     "execution_count": 19,
     "metadata": {},
     "output_type": "execute_result"
    }
   ],
   "source": [
    "days_median"
   ]
  },
  {
   "cell_type": "code",
   "execution_count": 20,
   "metadata": {},
   "outputs": [
    {
     "data": {
      "text/html": [
       "<div>\n",
       "<style scoped>\n",
       "    .dataframe tbody tr th:only-of-type {\n",
       "        vertical-align: middle;\n",
       "    }\n",
       "\n",
       "    .dataframe tbody tr th {\n",
       "        vertical-align: top;\n",
       "    }\n",
       "\n",
       "    .dataframe thead th {\n",
       "        text-align: right;\n",
       "    }\n",
       "</style>\n",
       "<table border=\"1\" class=\"dataframe\">\n",
       "  <thead>\n",
       "    <tr style=\"text-align: right;\">\n",
       "      <th></th>\n",
       "      <th>children</th>\n",
       "      <th>days_employed</th>\n",
       "      <th>dob_years</th>\n",
       "      <th>education</th>\n",
       "      <th>education_id</th>\n",
       "      <th>family_status</th>\n",
       "      <th>family_status_id</th>\n",
       "      <th>gender</th>\n",
       "      <th>income_type</th>\n",
       "      <th>debt</th>\n",
       "      <th>total_income</th>\n",
       "      <th>purpose</th>\n",
       "    </tr>\n",
       "  </thead>\n",
       "  <tbody>\n",
       "    <tr>\n",
       "      <td>0</td>\n",
       "      <td>1</td>\n",
       "      <td>8437.673028</td>\n",
       "      <td>42</td>\n",
       "      <td>высшее</td>\n",
       "      <td>0</td>\n",
       "      <td>женат / замужем</td>\n",
       "      <td>0</td>\n",
       "      <td>F</td>\n",
       "      <td>сотрудник</td>\n",
       "      <td>0</td>\n",
       "      <td>253875.639453</td>\n",
       "      <td>покупка жилья</td>\n",
       "    </tr>\n",
       "    <tr>\n",
       "      <td>1</td>\n",
       "      <td>1</td>\n",
       "      <td>4024.803754</td>\n",
       "      <td>36</td>\n",
       "      <td>среднее</td>\n",
       "      <td>1</td>\n",
       "      <td>женат / замужем</td>\n",
       "      <td>0</td>\n",
       "      <td>F</td>\n",
       "      <td>сотрудник</td>\n",
       "      <td>0</td>\n",
       "      <td>112080.014102</td>\n",
       "      <td>приобретение автомобиля</td>\n",
       "    </tr>\n",
       "    <tr>\n",
       "      <td>2</td>\n",
       "      <td>0</td>\n",
       "      <td>5623.422610</td>\n",
       "      <td>33</td>\n",
       "      <td>Среднее</td>\n",
       "      <td>1</td>\n",
       "      <td>женат / замужем</td>\n",
       "      <td>0</td>\n",
       "      <td>M</td>\n",
       "      <td>сотрудник</td>\n",
       "      <td>0</td>\n",
       "      <td>145885.952297</td>\n",
       "      <td>покупка жилья</td>\n",
       "    </tr>\n",
       "    <tr>\n",
       "      <td>3</td>\n",
       "      <td>3</td>\n",
       "      <td>4124.747207</td>\n",
       "      <td>32</td>\n",
       "      <td>среднее</td>\n",
       "      <td>1</td>\n",
       "      <td>женат / замужем</td>\n",
       "      <td>0</td>\n",
       "      <td>M</td>\n",
       "      <td>сотрудник</td>\n",
       "      <td>0</td>\n",
       "      <td>267628.550329</td>\n",
       "      <td>дополнительное образование</td>\n",
       "    </tr>\n",
       "    <tr>\n",
       "      <td>4</td>\n",
       "      <td>0</td>\n",
       "      <td>14177.753002</td>\n",
       "      <td>53</td>\n",
       "      <td>среднее</td>\n",
       "      <td>1</td>\n",
       "      <td>гражданский брак</td>\n",
       "      <td>1</td>\n",
       "      <td>F</td>\n",
       "      <td>пенсионер</td>\n",
       "      <td>0</td>\n",
       "      <td>158616.077870</td>\n",
       "      <td>сыграть свадьбу</td>\n",
       "    </tr>\n",
       "    <tr>\n",
       "      <td>5</td>\n",
       "      <td>0</td>\n",
       "      <td>926.185831</td>\n",
       "      <td>27</td>\n",
       "      <td>высшее</td>\n",
       "      <td>0</td>\n",
       "      <td>гражданский брак</td>\n",
       "      <td>1</td>\n",
       "      <td>M</td>\n",
       "      <td>компаньон</td>\n",
       "      <td>0</td>\n",
       "      <td>255763.565419</td>\n",
       "      <td>покупка жилья</td>\n",
       "    </tr>\n",
       "    <tr>\n",
       "      <td>6</td>\n",
       "      <td>0</td>\n",
       "      <td>2879.202052</td>\n",
       "      <td>43</td>\n",
       "      <td>высшее</td>\n",
       "      <td>0</td>\n",
       "      <td>женат / замужем</td>\n",
       "      <td>0</td>\n",
       "      <td>F</td>\n",
       "      <td>компаньон</td>\n",
       "      <td>0</td>\n",
       "      <td>240525.971920</td>\n",
       "      <td>операции с жильем</td>\n",
       "    </tr>\n",
       "    <tr>\n",
       "      <td>7</td>\n",
       "      <td>0</td>\n",
       "      <td>152.779569</td>\n",
       "      <td>50</td>\n",
       "      <td>СРЕДНЕЕ</td>\n",
       "      <td>1</td>\n",
       "      <td>женат / замужем</td>\n",
       "      <td>0</td>\n",
       "      <td>M</td>\n",
       "      <td>сотрудник</td>\n",
       "      <td>0</td>\n",
       "      <td>135823.934197</td>\n",
       "      <td>образование</td>\n",
       "    </tr>\n",
       "    <tr>\n",
       "      <td>8</td>\n",
       "      <td>2</td>\n",
       "      <td>6929.865299</td>\n",
       "      <td>35</td>\n",
       "      <td>ВЫСШЕЕ</td>\n",
       "      <td>0</td>\n",
       "      <td>гражданский брак</td>\n",
       "      <td>1</td>\n",
       "      <td>F</td>\n",
       "      <td>сотрудник</td>\n",
       "      <td>0</td>\n",
       "      <td>95856.832424</td>\n",
       "      <td>на проведение свадьбы</td>\n",
       "    </tr>\n",
       "    <tr>\n",
       "      <td>9</td>\n",
       "      <td>0</td>\n",
       "      <td>2188.756445</td>\n",
       "      <td>41</td>\n",
       "      <td>среднее</td>\n",
       "      <td>1</td>\n",
       "      <td>женат / замужем</td>\n",
       "      <td>0</td>\n",
       "      <td>M</td>\n",
       "      <td>сотрудник</td>\n",
       "      <td>0</td>\n",
       "      <td>144425.938277</td>\n",
       "      <td>покупка жилья для семьи</td>\n",
       "    </tr>\n",
       "  </tbody>\n",
       "</table>\n",
       "</div>"
      ],
      "text/plain": [
       "   children  days_employed  dob_years education  education_id  \\\n",
       "0         1    8437.673028         42    высшее             0   \n",
       "1         1    4024.803754         36   среднее             1   \n",
       "2         0    5623.422610         33   Среднее             1   \n",
       "3         3    4124.747207         32   среднее             1   \n",
       "4         0   14177.753002         53   среднее             1   \n",
       "5         0     926.185831         27    высшее             0   \n",
       "6         0    2879.202052         43    высшее             0   \n",
       "7         0     152.779569         50   СРЕДНЕЕ             1   \n",
       "8         2    6929.865299         35    ВЫСШЕЕ             0   \n",
       "9         0    2188.756445         41   среднее             1   \n",
       "\n",
       "      family_status  family_status_id gender income_type  debt   total_income  \\\n",
       "0   женат / замужем                 0      F   сотрудник     0  253875.639453   \n",
       "1   женат / замужем                 0      F   сотрудник     0  112080.014102   \n",
       "2   женат / замужем                 0      M   сотрудник     0  145885.952297   \n",
       "3   женат / замужем                 0      M   сотрудник     0  267628.550329   \n",
       "4  гражданский брак                 1      F   пенсионер     0  158616.077870   \n",
       "5  гражданский брак                 1      M   компаньон     0  255763.565419   \n",
       "6   женат / замужем                 0      F   компаньон     0  240525.971920   \n",
       "7   женат / замужем                 0      M   сотрудник     0  135823.934197   \n",
       "8  гражданский брак                 1      F   сотрудник     0   95856.832424   \n",
       "9   женат / замужем                 0      M   сотрудник     0  144425.938277   \n",
       "\n",
       "                      purpose  \n",
       "0               покупка жилья  \n",
       "1     приобретение автомобиля  \n",
       "2               покупка жилья  \n",
       "3  дополнительное образование  \n",
       "4             сыграть свадьбу  \n",
       "5               покупка жилья  \n",
       "6           операции с жильем  \n",
       "7                 образование  \n",
       "8       на проведение свадьбы  \n",
       "9     покупка жилья для семьи  "
      ]
     },
     "execution_count": 20,
     "metadata": {},
     "output_type": "execute_result"
    }
   ],
   "source": [
    "data.head(10)"
   ]
  },
  {
   "cell_type": "code",
   "execution_count": 21,
   "metadata": {},
   "outputs": [
    {
     "data": {
      "text/plain": [
       "children            0\n",
       "days_employed       0\n",
       "dob_years           0\n",
       "education           0\n",
       "education_id        0\n",
       "family_status       0\n",
       "family_status_id    0\n",
       "gender              0\n",
       "income_type         0\n",
       "debt                0\n",
       "total_income        0\n",
       "purpose             0\n",
       "dtype: int64"
      ]
     },
     "execution_count": 21,
     "metadata": {},
     "output_type": "execute_result"
    }
   ],
   "source": [
    "data.isna().sum()"
   ]
  },
  {
   "cell_type": "markdown",
   "metadata": {},
   "source": [
    "**Вывод**\n",
    "Все пропущенные значения в таблице я успешно заменила на медианные значения по столбцу. Пропусков в таблице больше нет.\n",
    "\n",
    "\n",
    "Отрицательные значения отработанных дней поменяла на положительные. Предположив, что значения больше 30 000 - это часы, заменила их на дни.\n",
    "\n",
    "Отрицательных детей и нулевой возраст тоже исправила. Всё-таки отрицательных детей быть не должно."
   ]
  },
  {
   "cell_type": "markdown",
   "metadata": {},
   "source": [
    "### Замена типа данных"
   ]
  },
  {
   "cell_type": "markdown",
   "metadata": {},
   "source": [
    "Если запись зарплаты в виде десятичного числа ещё возможна, то дробное количество отработанных дней явно вызывает сомнения. Переведём значения столбца days_employed в формат int методов astype(). Метод to_numeric() переведёт данные в формат float. Нам это не нужно."
   ]
  },
  {
   "cell_type": "code",
   "execution_count": 22,
   "metadata": {},
   "outputs": [],
   "source": [
    "data['days_employed'] = data['days_employed'].astype('int')"
   ]
  },
  {
   "cell_type": "code",
   "execution_count": 23,
   "metadata": {},
   "outputs": [],
   "source": [
    "data['total_income'] = data['total_income'].astype('int')"
   ]
  },
  {
   "cell_type": "code",
   "execution_count": 24,
   "metadata": {},
   "outputs": [
    {
     "name": "stdout",
     "output_type": "stream",
     "text": [
      "<class 'pandas.core.frame.DataFrame'>\n",
      "RangeIndex: 21525 entries, 0 to 21524\n",
      "Data columns (total 12 columns):\n",
      "children            21525 non-null int64\n",
      "days_employed       21525 non-null int32\n",
      "dob_years           21525 non-null int64\n",
      "education           21525 non-null object\n",
      "education_id        21525 non-null int64\n",
      "family_status       21525 non-null object\n",
      "family_status_id    21525 non-null int64\n",
      "gender              21525 non-null object\n",
      "income_type         21525 non-null object\n",
      "debt                21525 non-null int64\n",
      "total_income        21525 non-null int32\n",
      "purpose             21525 non-null object\n",
      "dtypes: int32(2), int64(5), object(5)\n",
      "memory usage: 1.8+ MB\n"
     ]
    }
   ],
   "source": [
    "data.info()"
   ]
  },
  {
   "cell_type": "code",
   "execution_count": 25,
   "metadata": {},
   "outputs": [
    {
     "data": {
      "text/html": [
       "<div>\n",
       "<style scoped>\n",
       "    .dataframe tbody tr th:only-of-type {\n",
       "        vertical-align: middle;\n",
       "    }\n",
       "\n",
       "    .dataframe tbody tr th {\n",
       "        vertical-align: top;\n",
       "    }\n",
       "\n",
       "    .dataframe thead th {\n",
       "        text-align: right;\n",
       "    }\n",
       "</style>\n",
       "<table border=\"1\" class=\"dataframe\">\n",
       "  <thead>\n",
       "    <tr style=\"text-align: right;\">\n",
       "      <th></th>\n",
       "      <th>children</th>\n",
       "      <th>days_employed</th>\n",
       "      <th>dob_years</th>\n",
       "      <th>education</th>\n",
       "      <th>education_id</th>\n",
       "      <th>family_status</th>\n",
       "      <th>family_status_id</th>\n",
       "      <th>gender</th>\n",
       "      <th>income_type</th>\n",
       "      <th>debt</th>\n",
       "      <th>total_income</th>\n",
       "      <th>purpose</th>\n",
       "    </tr>\n",
       "  </thead>\n",
       "  <tbody>\n",
       "    <tr>\n",
       "      <td>0</td>\n",
       "      <td>1</td>\n",
       "      <td>8437</td>\n",
       "      <td>42</td>\n",
       "      <td>высшее</td>\n",
       "      <td>0</td>\n",
       "      <td>женат / замужем</td>\n",
       "      <td>0</td>\n",
       "      <td>F</td>\n",
       "      <td>сотрудник</td>\n",
       "      <td>0</td>\n",
       "      <td>253875</td>\n",
       "      <td>покупка жилья</td>\n",
       "    </tr>\n",
       "    <tr>\n",
       "      <td>1</td>\n",
       "      <td>1</td>\n",
       "      <td>4024</td>\n",
       "      <td>36</td>\n",
       "      <td>среднее</td>\n",
       "      <td>1</td>\n",
       "      <td>женат / замужем</td>\n",
       "      <td>0</td>\n",
       "      <td>F</td>\n",
       "      <td>сотрудник</td>\n",
       "      <td>0</td>\n",
       "      <td>112080</td>\n",
       "      <td>приобретение автомобиля</td>\n",
       "    </tr>\n",
       "    <tr>\n",
       "      <td>2</td>\n",
       "      <td>0</td>\n",
       "      <td>5623</td>\n",
       "      <td>33</td>\n",
       "      <td>Среднее</td>\n",
       "      <td>1</td>\n",
       "      <td>женат / замужем</td>\n",
       "      <td>0</td>\n",
       "      <td>M</td>\n",
       "      <td>сотрудник</td>\n",
       "      <td>0</td>\n",
       "      <td>145885</td>\n",
       "      <td>покупка жилья</td>\n",
       "    </tr>\n",
       "    <tr>\n",
       "      <td>3</td>\n",
       "      <td>3</td>\n",
       "      <td>4124</td>\n",
       "      <td>32</td>\n",
       "      <td>среднее</td>\n",
       "      <td>1</td>\n",
       "      <td>женат / замужем</td>\n",
       "      <td>0</td>\n",
       "      <td>M</td>\n",
       "      <td>сотрудник</td>\n",
       "      <td>0</td>\n",
       "      <td>267628</td>\n",
       "      <td>дополнительное образование</td>\n",
       "    </tr>\n",
       "    <tr>\n",
       "      <td>4</td>\n",
       "      <td>0</td>\n",
       "      <td>14177</td>\n",
       "      <td>53</td>\n",
       "      <td>среднее</td>\n",
       "      <td>1</td>\n",
       "      <td>гражданский брак</td>\n",
       "      <td>1</td>\n",
       "      <td>F</td>\n",
       "      <td>пенсионер</td>\n",
       "      <td>0</td>\n",
       "      <td>158616</td>\n",
       "      <td>сыграть свадьбу</td>\n",
       "    </tr>\n",
       "  </tbody>\n",
       "</table>\n",
       "</div>"
      ],
      "text/plain": [
       "   children  days_employed  dob_years education  education_id  \\\n",
       "0         1           8437         42    высшее             0   \n",
       "1         1           4024         36   среднее             1   \n",
       "2         0           5623         33   Среднее             1   \n",
       "3         3           4124         32   среднее             1   \n",
       "4         0          14177         53   среднее             1   \n",
       "\n",
       "      family_status  family_status_id gender income_type  debt  total_income  \\\n",
       "0   женат / замужем                 0      F   сотрудник     0        253875   \n",
       "1   женат / замужем                 0      F   сотрудник     0        112080   \n",
       "2   женат / замужем                 0      M   сотрудник     0        145885   \n",
       "3   женат / замужем                 0      M   сотрудник     0        267628   \n",
       "4  гражданский брак                 1      F   пенсионер     0        158616   \n",
       "\n",
       "                      purpose  \n",
       "0               покупка жилья  \n",
       "1     приобретение автомобиля  \n",
       "2               покупка жилья  \n",
       "3  дополнительное образование  \n",
       "4             сыграть свадьбу  "
      ]
     },
     "execution_count": 25,
     "metadata": {},
     "output_type": "execute_result"
    }
   ],
   "source": [
    "data.head()"
   ]
  },
  {
   "cell_type": "markdown",
   "metadata": {},
   "source": [
    "**Вывод**\n",
    "Я заменила дробные значения на целочисленные. Получилось, что некоторые отработали очень много, другие - очень мало. Возможно, у них не было официального трудоустройства."
   ]
  },
  {
   "cell_type": "markdown",
   "metadata": {},
   "source": [
    "### Обработка дубликатов"
   ]
  },
  {
   "cell_type": "markdown",
   "metadata": {},
   "source": [
    "Во-первых, сразу разберёмся с регистром. Приведём все строки в столбце \"Образование\" к нижнему регистру."
   ]
  },
  {
   "cell_type": "code",
   "execution_count": 26,
   "metadata": {},
   "outputs": [],
   "source": [
    "data['education'] = data['education'].str.lower()"
   ]
  },
  {
   "cell_type": "markdown",
   "metadata": {},
   "source": [
    "Найдём и удалим грубые дубликаты методами duplicated() и drop_duplicates() в комбинации с reset_index()."
   ]
  },
  {
   "cell_type": "code",
   "execution_count": 27,
   "metadata": {},
   "outputs": [
    {
     "data": {
      "text/plain": [
       "71"
      ]
     },
     "execution_count": 27,
     "metadata": {},
     "output_type": "execute_result"
    }
   ],
   "source": [
    "data.duplicated().sum()"
   ]
  },
  {
   "cell_type": "code",
   "execution_count": 28,
   "metadata": {},
   "outputs": [],
   "source": [
    "data = data.drop_duplicates().reset_index(drop=True)"
   ]
  },
  {
   "cell_type": "code",
   "execution_count": 29,
   "metadata": {},
   "outputs": [
    {
     "data": {
      "text/plain": [
       "0"
      ]
     },
     "execution_count": 29,
     "metadata": {},
     "output_type": "execute_result"
    }
   ],
   "source": [
    "data.duplicated().sum()"
   ]
  },
  {
   "cell_type": "code",
   "execution_count": 30,
   "metadata": {},
   "outputs": [
    {
     "data": {
      "text/plain": [
       "array(['сотрудник', 'пенсионер', 'компаньон', 'госслужащий',\n",
       "       'безработный', 'предприниматель', 'студент', 'в декрете'],\n",
       "      dtype=object)"
      ]
     },
     "execution_count": 30,
     "metadata": {},
     "output_type": "execute_result"
    }
   ],
   "source": [
    "data['income_type'].unique()"
   ]
  },
  {
   "cell_type": "code",
   "execution_count": 31,
   "metadata": {},
   "outputs": [
    {
     "data": {
      "text/plain": [
       "array(['автомобили', 'автомобиль', 'высшее образование',\n",
       "       'дополнительное образование', 'жилье',\n",
       "       'заняться высшим образованием', 'заняться образованием',\n",
       "       'на покупку автомобиля', 'на покупку подержанного автомобиля',\n",
       "       'на покупку своего автомобиля', 'на проведение свадьбы',\n",
       "       'недвижимость', 'образование', 'операции с жильем',\n",
       "       'операции с коммерческой недвижимостью',\n",
       "       'операции с недвижимостью', 'операции со своей недвижимостью',\n",
       "       'покупка жилой недвижимости', 'покупка жилья',\n",
       "       'покупка жилья для сдачи', 'покупка жилья для семьи',\n",
       "       'покупка коммерческой недвижимости', 'покупка недвижимости',\n",
       "       'покупка своего жилья', 'получение высшего образования',\n",
       "       'получение дополнительного образования', 'получение образования',\n",
       "       'приобретение автомобиля', 'профильное образование',\n",
       "       'ремонт жилью', 'свадьба', 'свой автомобиль',\n",
       "       'сделка с автомобилем', 'сделка с подержанным автомобилем',\n",
       "       'строительство жилой недвижимости', 'строительство недвижимости',\n",
       "       'строительство собственной недвижимости', 'сыграть свадьбу'],\n",
       "      dtype=object)"
      ]
     },
     "execution_count": 31,
     "metadata": {},
     "output_type": "execute_result"
    }
   ],
   "source": [
    "data['purpose'].sort_values().unique()"
   ]
  },
  {
   "cell_type": "code",
   "execution_count": 32,
   "metadata": {},
   "outputs": [
    {
     "data": {
      "text/plain": [
       "array(['высшее', 'среднее', 'неоконченное высшее', 'начальное',\n",
       "       'ученая степень'], dtype=object)"
      ]
     },
     "execution_count": 32,
     "metadata": {},
     "output_type": "execute_result"
    }
   ],
   "source": [
    "data['education'].unique()"
   ]
  },
  {
   "cell_type": "code",
   "execution_count": 33,
   "metadata": {
    "scrolled": true
   },
   "outputs": [
    {
     "data": {
      "text/html": [
       "<div>\n",
       "<style scoped>\n",
       "    .dataframe tbody tr th:only-of-type {\n",
       "        vertical-align: middle;\n",
       "    }\n",
       "\n",
       "    .dataframe tbody tr th {\n",
       "        vertical-align: top;\n",
       "    }\n",
       "\n",
       "    .dataframe thead th {\n",
       "        text-align: right;\n",
       "    }\n",
       "</style>\n",
       "<table border=\"1\" class=\"dataframe\">\n",
       "  <thead>\n",
       "    <tr style=\"text-align: right;\">\n",
       "      <th></th>\n",
       "      <th>children</th>\n",
       "      <th>days_employed</th>\n",
       "      <th>dob_years</th>\n",
       "      <th>education</th>\n",
       "      <th>education_id</th>\n",
       "      <th>family_status</th>\n",
       "      <th>family_status_id</th>\n",
       "      <th>gender</th>\n",
       "      <th>income_type</th>\n",
       "      <th>debt</th>\n",
       "      <th>total_income</th>\n",
       "      <th>purpose</th>\n",
       "    </tr>\n",
       "  </thead>\n",
       "  <tbody>\n",
       "    <tr>\n",
       "      <td>0</td>\n",
       "      <td>1</td>\n",
       "      <td>8437</td>\n",
       "      <td>42</td>\n",
       "      <td>высшее</td>\n",
       "      <td>0</td>\n",
       "      <td>женат / замужем</td>\n",
       "      <td>0</td>\n",
       "      <td>F</td>\n",
       "      <td>сотрудник</td>\n",
       "      <td>0</td>\n",
       "      <td>253875</td>\n",
       "      <td>покупка жилья</td>\n",
       "    </tr>\n",
       "    <tr>\n",
       "      <td>1</td>\n",
       "      <td>1</td>\n",
       "      <td>4024</td>\n",
       "      <td>36</td>\n",
       "      <td>среднее</td>\n",
       "      <td>1</td>\n",
       "      <td>женат / замужем</td>\n",
       "      <td>0</td>\n",
       "      <td>F</td>\n",
       "      <td>сотрудник</td>\n",
       "      <td>0</td>\n",
       "      <td>112080</td>\n",
       "      <td>приобретение автомобиля</td>\n",
       "    </tr>\n",
       "    <tr>\n",
       "      <td>2</td>\n",
       "      <td>0</td>\n",
       "      <td>5623</td>\n",
       "      <td>33</td>\n",
       "      <td>среднее</td>\n",
       "      <td>1</td>\n",
       "      <td>женат / замужем</td>\n",
       "      <td>0</td>\n",
       "      <td>M</td>\n",
       "      <td>сотрудник</td>\n",
       "      <td>0</td>\n",
       "      <td>145885</td>\n",
       "      <td>покупка жилья</td>\n",
       "    </tr>\n",
       "    <tr>\n",
       "      <td>3</td>\n",
       "      <td>3</td>\n",
       "      <td>4124</td>\n",
       "      <td>32</td>\n",
       "      <td>среднее</td>\n",
       "      <td>1</td>\n",
       "      <td>женат / замужем</td>\n",
       "      <td>0</td>\n",
       "      <td>M</td>\n",
       "      <td>сотрудник</td>\n",
       "      <td>0</td>\n",
       "      <td>267628</td>\n",
       "      <td>дополнительное образование</td>\n",
       "    </tr>\n",
       "    <tr>\n",
       "      <td>4</td>\n",
       "      <td>0</td>\n",
       "      <td>14177</td>\n",
       "      <td>53</td>\n",
       "      <td>среднее</td>\n",
       "      <td>1</td>\n",
       "      <td>гражданский брак</td>\n",
       "      <td>1</td>\n",
       "      <td>F</td>\n",
       "      <td>пенсионер</td>\n",
       "      <td>0</td>\n",
       "      <td>158616</td>\n",
       "      <td>сыграть свадьбу</td>\n",
       "    </tr>\n",
       "  </tbody>\n",
       "</table>\n",
       "</div>"
      ],
      "text/plain": [
       "   children  days_employed  dob_years education  education_id  \\\n",
       "0         1           8437         42    высшее             0   \n",
       "1         1           4024         36   среднее             1   \n",
       "2         0           5623         33   среднее             1   \n",
       "3         3           4124         32   среднее             1   \n",
       "4         0          14177         53   среднее             1   \n",
       "\n",
       "      family_status  family_status_id gender income_type  debt  total_income  \\\n",
       "0   женат / замужем                 0      F   сотрудник     0        253875   \n",
       "1   женат / замужем                 0      F   сотрудник     0        112080   \n",
       "2   женат / замужем                 0      M   сотрудник     0        145885   \n",
       "3   женат / замужем                 0      M   сотрудник     0        267628   \n",
       "4  гражданский брак                 1      F   пенсионер     0        158616   \n",
       "\n",
       "                      purpose  \n",
       "0               покупка жилья  \n",
       "1     приобретение автомобиля  \n",
       "2               покупка жилья  \n",
       "3  дополнительное образование  \n",
       "4             сыграть свадьбу  "
      ]
     },
     "execution_count": 33,
     "metadata": {},
     "output_type": "execute_result"
    }
   ],
   "source": [
    "data.head()"
   ]
  },
  {
   "cell_type": "markdown",
   "metadata": {},
   "source": [
    "**Вывод**\n",
    "Предполагаю, что дубликаты в самих данных могли появиться потому, что люди заполняли заявление несколько раз. На всю таблицу выявился всего 71 дубликат. Из 20000 значений количество дубликатов - незначительное.\n",
    "\n",
    "Остался разброд в целях, например, \"образование\" и \"получение образования\", \"автомобили\" и \"автомобиль\". Они явно появились, потому что люди заполняли эту графу самостоятельно. У них не было унифицированных вариантов ответа, например, выпадающего списка. Люди писали, что думали. С этими дубликатами будем разбираться дальше."
   ]
  },
  {
   "cell_type": "markdown",
   "metadata": {},
   "source": [
    "### Лемматизация"
   ]
  },
  {
   "cell_type": "markdown",
   "metadata": {},
   "source": [
    "Нам необходимо лемматизировать цели кредита. Так мы сможем увидеть, на какие цели кредит берут чаще всего и соотнести цели кредита с категориями граждан. Воспользуемся библиотекой pymystem3 и методом lemmatize(), а так же контейнером Counter из модуля collections."
   ]
  },
  {
   "cell_type": "code",
   "execution_count": 34,
   "metadata": {},
   "outputs": [
    {
     "data": {
      "text/plain": [
       "Counter({'покупка': 5897,\n",
       "         ' ': 55023,\n",
       "         'жилье': 4460,\n",
       "         'приобретение': 461,\n",
       "         'автомобиль': 4306,\n",
       "         'дополнительный': 906,\n",
       "         'образование': 4013,\n",
       "         'сыграть': 765,\n",
       "         'свадьба': 2324,\n",
       "         'операция': 2604,\n",
       "         'с': 2918,\n",
       "         'на': 2222,\n",
       "         'проведение': 768,\n",
       "         'для': 1289,\n",
       "         'семья': 638,\n",
       "         'недвижимость': 6351,\n",
       "         'коммерческий': 1311,\n",
       "         'жилой': 1230,\n",
       "         'строительство': 1878,\n",
       "         'собственный': 635,\n",
       "         'подержать': 853,\n",
       "         'свой': 2230,\n",
       "         'со': 627,\n",
       "         'заниматься': 904,\n",
       "         'сделка': 941,\n",
       "         'получение': 1314,\n",
       "         'высокий': 1374,\n",
       "         'подержанный': 111,\n",
       "         'профильный': 436,\n",
       "         'сдача': 651,\n",
       "         'ремонт': 607,\n",
       "         '\\n': 1})"
      ]
     },
     "execution_count": 34,
     "metadata": {},
     "output_type": "execute_result"
    }
   ],
   "source": [
    "from pymystem3 import Mystem\n",
    "m = Mystem()\n",
    "from collections import Counter\n",
    "text = data['purpose']\n",
    "lemmas = ' '.join(text)\n",
    "lemmas = m.lemmatize(lemmas)\n",
    "Counter(lemmas)"
   ]
  },
  {
   "cell_type": "markdown",
   "metadata": {},
   "source": [
    "Из полученного списка выделим основные категории: покупка автомобиля -> автомобиль, свадьба, образование, ремонт и приобретение недвижимости -> недвижимость. Пора переходить к категоризации."
   ]
  },
  {
   "cell_type": "markdown",
   "metadata": {},
   "source": [
    "**Вывод** Самые частые цели кредита - покупка автомобиля, свадьба, образование и операции с недвижимостью."
   ]
  },
  {
   "cell_type": "markdown",
   "metadata": {},
   "source": [
    "<div class=\"alert alert-success\">\n",
    "<b>Комментарий ревьюера✅ v2: </b> Сейчас все отлично! Кстати, вот как это можно было сделать покороче:\n",
    "\n",
    "```python\n",
    "Counter(data['purpose'].apply(m.lemmatize).sum())\n",
    "```\n",
    "</div>"
   ]
  },
  {
   "cell_type": "markdown",
   "metadata": {},
   "source": [
    "### Категоризация данных"
   ]
  },
  {
   "cell_type": "markdown",
   "metadata": {},
   "source": [
    "Категоризируем данные по целям кредита. Для этого напишем функцию purpose_categorize(purpose), которая соотнесет все цели кредита, указанные в таблице по выделенным мной четырём категориям. В четырёх категориях кредитов разбираться проще, чем в 20.\n",
    "\n",
    "\"Цели кредита\" - это единственный столбец, который люди заполняли вручную. Там много одинаковых целей, написанных разными фразами, их необходимо категоризировать. Все остальные данные в столбцах унифицированы."
   ]
  },
  {
   "cell_type": "code",
   "execution_count": 35,
   "metadata": {},
   "outputs": [],
   "source": [
    "def purpose_categorize(purpose):\n",
    "    purpose_lemmas = m.lemmatize(purpose)\n",
    "    if 'недвижимость' in purpose_lemmas or 'жилье' in purpose_lemmas:\n",
    "        return 'недвижимость'\n",
    "    if 'свадьба' in purpose_lemmas:\n",
    "        return 'свадьба'\n",
    "    if 'автомобиль' in purpose_lemmas:\n",
    "        return 'автомобиль'\n",
    "    if 'образование' in purpose_lemmas:\n",
    "        return 'образование'\n",
    "    else:\n",
    "        'Цель не определена'"
   ]
  },
  {
   "cell_type": "markdown",
   "metadata": {},
   "source": [
    "Применим нашу функцию к столбцу \"цели кредита\". Заменим значения в столбце purpose на значения, полученные в результате работы функции. Не вижу смысла создавать новый столбец, который будет полностью повторять уже существующий."
   ]
  },
  {
   "cell_type": "code",
   "execution_count": null,
   "metadata": {},
   "outputs": [],
   "source": [
    "data['purpose'] = data['purpose'].apply(purpose_categorize)"
   ]
  },
  {
   "cell_type": "code",
   "execution_count": null,
   "metadata": {},
   "outputs": [],
   "source": [
    "data.head()"
   ]
  },
  {
   "cell_type": "code",
   "execution_count": null,
   "metadata": {},
   "outputs": [],
   "source": [
    "data['purpose'].unique()"
   ]
  },
  {
   "cell_type": "markdown",
   "metadata": {},
   "source": [
    "**Вывод на данном этапе**\n",
    "\n",
    "Я убила двух зайцев одним ударом: избавилась от дубликатов целей для кредита и категоризировала заявки."
   ]
  },
  {
   "cell_type": "markdown",
   "metadata": {},
   "source": [
    "Разделим категории граждан по уровню дохода. Возьмём доход менее 50000 малым, от 50000 до 150000 - средним, от 150000 до 400000 - высоким, всё остальное - отличным. Напишем функцию income_categorize(total_income), которая разделит наших граждан на категории."
   ]
  },
  {
   "cell_type": "code",
   "execution_count": null,
   "metadata": {},
   "outputs": [],
   "source": [
    "def income_categorize(total_income):\n",
    "    if total_income <= 50000:\n",
    "        return 'Малый доход'\n",
    "    if (total_income > 50000) & (total_income <= 150000):\n",
    "        return 'Средний доход'\n",
    "    if total_income > 150000:\n",
    "        return 'Высокий доход'"
   ]
  },
  {
   "cell_type": "code",
   "execution_count": null,
   "metadata": {},
   "outputs": [],
   "source": [
    "#создаём новый столбец income_category, применив функцию к столбцу total_income\n",
    "data['income_category'] = data['total_income'].apply(income_categorize)"
   ]
  },
  {
   "cell_type": "code",
   "execution_count": null,
   "metadata": {},
   "outputs": [],
   "source": [
    "data.head()"
   ]
  },
  {
   "cell_type": "markdown",
   "metadata": {},
   "source": [
    "3. Разделим наших граждан на категории по возрасту. Самое маленькое значение возраста в таблице - 19. Значит, детей брать не будем. Создадим функцию years_categorize(dob_years) и разделим всех наших граждан на три условные категории: взрослые, пенсионеры и молодёжь."
   ]
  },
  {
   "cell_type": "code",
   "execution_count": null,
   "metadata": {},
   "outputs": [],
   "source": [
    "def years_categorize(dob_years):\n",
    "    if dob_years <= 33:\n",
    "        return 'Молодёжь'\n",
    "    if (dob_years > 33) & (dob_years <= 65):\n",
    "        return 'Взрослый'\n",
    "    if dob_years > 65:\n",
    "        return 'Пенсионер'"
   ]
  },
  {
   "cell_type": "code",
   "execution_count": null,
   "metadata": {},
   "outputs": [],
   "source": [
    "#создадим новый столбец years_category, применив функцию к столбцу dob_years\n",
    "data['years_category'] = data['dob_years'].apply(years_categorize)"
   ]
  },
  {
   "cell_type": "code",
   "execution_count": null,
   "metadata": {},
   "outputs": [],
   "source": [
    "data.tail(10)"
   ]
  },
  {
   "cell_type": "markdown",
   "metadata": {},
   "source": [
    "**Вывод**\n",
    "\n",
    "Неопознанных целей для получения кредита нет, всё разлетелось по категориям. Доход упорядочен, как и возраст.\n",
    "\n",
    "Теперь, когда все данные приняли единообразный вид, можно отвечтать на основные вопросы работы."
   ]
  },
  {
   "cell_type": "markdown",
   "metadata": {},
   "source": [
    "## Ответьте на вопросы"
   ]
  },
  {
   "cell_type": "markdown",
   "metadata": {},
   "source": [
    "- Есть ли зависимость между наличием детей и возвратом кредита в срок?"
   ]
  },
  {
   "cell_type": "markdown",
   "metadata": {},
   "source": [
    "1. Узнаем, как связаны количество детей и возврат кредита в срок. Воспользуемся функцией pivot_table() и создадим сводную таблицу, в которой сгруппируем данные по детям, и узнаем, каков процент должников."
   ]
  },
  {
   "cell_type": "code",
   "execution_count": null,
   "metadata": {},
   "outputs": [],
   "source": [
    "child_debt = data.pivot_table(index=['children'], values='debt', aggfunc=['sum', 'count', 'mean'])\n",
    "child_debt.columns = ['sum', 'total', '%']\n",
    "child_debt['%'] = child_debt['%'] * 100\n",
    "child_debt = child_debt.sort_values(by=['%'], ascending=False)\n",
    "child_debt"
   ]
  },
  {
   "cell_type": "markdown",
   "metadata": {},
   "source": [
    "**Вывод**\n",
    "\n",
    "Глядя на таблицу, напрашивается один вывод: чем меньше детей, тем меньше задолженностей по кредиту. Картину портят только люди, у которых 5 детей. Но их всего 9 человек, можно не учитывать.\n",
    "\n",
    "Две самые многочисленные группы: семьи без детей и семьи с одним ребенком. Они отличаются всего на 1,5%. С другой стороны, если бы количество семей без детей с задолженностями по кредиту увеличилось на 1,5%, их абсолютно значение составило бы 1260 человек, вместо 1060. Прибавка в 200 человек. \n",
    "\n",
    "Получается, почти каждый десятый человек с 1-2 детьми имеет задолженность по кредиту. По-моему, это достаточно много."
   ]
  },
  {
   "cell_type": "markdown",
   "metadata": {},
   "source": [
    "- Есть ли зависимость между семейным положением и возвратом кредита в срок?"
   ]
  },
  {
   "cell_type": "markdown",
   "metadata": {},
   "source": [
    "2. Узнаем, как связано семейное положение граждан с возвратом кредита в срок. Создадим сводную таблицу:"
   ]
  },
  {
   "cell_type": "code",
   "execution_count": null,
   "metadata": {},
   "outputs": [],
   "source": [
    "family_status_debt = data.pivot_table(index=['family_status'], values='debt', aggfunc=['sum', 'count', 'mean'])\n",
    "family_status_debt.columns = ['sum', 'total', '%']\n",
    "family_status_debt['%'] = family_status_debt['%'] * 100\n",
    "family_status_debt = family_status_debt.sort_values(by=['%'], ascending=False)\n",
    "family_status_debt"
   ]
  },
  {
   "cell_type": "markdown",
   "metadata": {},
   "source": [
    "Меньше всего задолженностей у вдовцов. И теперь непонятно: радоваться за них или грустить. \n",
    "\n",
    "Почти 10% людей, не живущих в официальном браке имеют задолженность по кредиту. Создание семьи явно прибавляет людям ответственности.\n",
    "\n",
    "С другой стороны, интересно посмотреть на ответственность отдельно одиноких людей и людей с супругом."
   ]
  },
  {
   "cell_type": "code",
   "execution_count": null,
   "metadata": {},
   "outputs": [],
   "source": [
    "def family_status_category(family_status_id):\n",
    "    if family_status_id == 0 or family_status_id == 1:\n",
    "        return 'Семьянин'\n",
    "    if family_status_id == 2 or family_status_id == 3 or family_status_id == 4:\n",
    "        return 'Одиночка'\n",
    "    "
   ]
  },
  {
   "cell_type": "code",
   "execution_count": null,
   "metadata": {},
   "outputs": [],
   "source": [
    "data['family'] = data['family_status_id'].apply(family_status_category)\n",
    "data.tail(10)"
   ]
  },
  {
   "cell_type": "code",
   "execution_count": null,
   "metadata": {},
   "outputs": [],
   "source": [
    "family_debt = data.pivot_table(index=['family'], values='debt', aggfunc=['sum', 'count', 'mean'])\n",
    "family_debt.columns = ['sum', 'total', '%']\n",
    "family_debt['%'] = family_debt['%'] * 100\n",
    "family_debt = family_debt.sort_values(by=['%'], ascending=False)\n",
    "family_debt"
   ]
  },
  {
   "cell_type": "markdown",
   "metadata": {},
   "source": [
    "**Вывод**\n",
    "\n",
    "Могу утверждать, что семейное положение влияет на количество взятых кредитов и не влияет на количество задолженностей.\n"
   ]
  },
  {
   "cell_type": "markdown",
   "metadata": {},
   "source": [
    "- Есть ли зависимость между уровнем дохода и возвратом кредита в срок?"
   ]
  },
  {
   "cell_type": "markdown",
   "metadata": {},
   "source": [
    "3. Узнаем, как связан уровень дохода граждан с возвратом кредита в срок. Создадим сводную таблицу:"
   ]
  },
  {
   "cell_type": "code",
   "execution_count": null,
   "metadata": {},
   "outputs": [],
   "source": [
    "income_debt = data.pivot_table(index=['income_category'], values='debt', aggfunc=['sum', 'count', 'mean'])\n",
    "income_debt.columns = ['sum', 'total', '%']\n",
    "income_debt['%'] = income_debt['%'] * 100\n",
    "income_debt = income_debt.sort_values(by=['%'], ascending=False)\n",
    "income_debt"
   ]
  },
  {
   "cell_type": "markdown",
   "metadata": {},
   "source": [
    "**Вывод** Люди с малым доходом явно внимательнее к деньгам и погашениям задолженностей, чем люди с нормальным доходом."
   ]
  },
  {
   "cell_type": "markdown",
   "metadata": {},
   "source": [
    "- Как разные цели кредита влияют на его возврат в срок?"
   ]
  },
  {
   "cell_type": "markdown",
   "metadata": {},
   "source": [
    "4. Узнаем, как связаны цели кредита с возвратом его в срок. Создадим сводную таблицу:"
   ]
  },
  {
   "cell_type": "code",
   "execution_count": null,
   "metadata": {},
   "outputs": [],
   "source": [
    "purpose_debt = data.pivot_table(index=['purpose'], values='debt', aggfunc=['sum', 'count', 'mean'])\n",
    "purpose_debt.columns = ['sum', 'total', '%']\n",
    "purpose_debt['%'] = purpose_debt['%'] * 100\n",
    "purpose_debt = purpose_debt.sort_values(by=['%'], ascending=False)\n",
    "purpose_debt"
   ]
  },
  {
   "cell_type": "markdown",
   "metadata": {},
   "source": [
    "**Вывод** Между самой большой и самой маленькой категорией должников разница 2%."
   ]
  },
  {
   "cell_type": "markdown",
   "metadata": {},
   "source": [
    "5. Хочу добавить к сравнению ещё и возраст заёмщиков."
   ]
  },
  {
   "cell_type": "code",
   "execution_count": null,
   "metadata": {},
   "outputs": [],
   "source": [
    "years_debt = data.pivot_table(index=['years_category'], values='debt', aggfunc=['sum', 'count', 'mean'])\n",
    "years_debt.columns = ['sum', 'total', '%']\n",
    "years_debt['%'] = years_debt['%'] * 100\n",
    "years_debt = years_debt.sort_values(by=['%'], ascending=False)\n",
    "years_debt"
   ]
  },
  {
   "cell_type": "markdown",
   "metadata": {},
   "source": [
    "Вот оно как! Пенсионеры - самые молодцы. Взрослое население укладывается в те самые средние 7%, а больше всего должников среди молодёжи! Так я и думала."
   ]
  },
  {
   "cell_type": "markdown",
   "metadata": {},
   "source": [
    "## Общий вывод"
   ]
  },
  {
   "cell_type": "markdown",
   "metadata": {},
   "source": [
    "Судя по нашим данным, больше всего кредитов берут молодые семьи без детей на покупку недвижимости. И больше всего должников среди этих же самых людей. \n",
    "\n",
    "Первая гипотеза о связи количества детей с количеством задолженностей по кредиту подтвердилась: таблица показывает, что чем больше детей, тем чаще люди имеют задолженности. Связь есть\n",
    "\n",
    "Вторая гипотеза о связи семейного положения с количеством задолженностей не подтвердилась: люди, живущие в паре, чаще берут кредиты, но проблем с задолженностями у одиноких людей и людей в отношениях примерно одинаковое количество. Связи нет.\n",
    "\n",
    "Третья гипотеза о связи уровня доходов и количества задолженностей подтвердилась: люди с маленьким доходом задолженностей стараются не допускать. Связь есть.\n",
    "\n",
    "Четвёртая гипотеза о связи целей кредита с задолженностями подтвердилась: чем более устойчивые цели, тем более устойчивые платежи. Люди, взявшие кредит на недвижимость допускают меньше задолженностей, чем люди, взявшие кредит на автомобиль.\n",
    "\n",
    "Пятая, моя гипотеза, тоже подтвердилась. Я предположила, что люди разных возрастных категорий тоже возвращают кредит по-разному, и это оказалось правдой: у молодёжи существуют задолженности по кредитам в 11% случаев.\n"
   ]
  }
 ],
 "metadata": {
  "ExecuteTimeLog": [
   {
    "duration": 943,
    "start_time": "2021-12-04T08:46:01.364Z"
   },
   {
    "duration": 14,
    "start_time": "2021-12-04T08:56:06.736Z"
   },
   {
    "duration": 8,
    "start_time": "2021-12-04T08:56:22.702Z"
   },
   {
    "duration": 7,
    "start_time": "2021-12-04T08:56:29.189Z"
   },
   {
    "duration": 504,
    "start_time": "2021-12-04T08:58:05.307Z"
   },
   {
    "duration": 77,
    "start_time": "2021-12-04T08:58:12.176Z"
   },
   {
    "duration": 62,
    "start_time": "2021-12-04T08:58:26.443Z"
   },
   {
    "duration": 92,
    "start_time": "2021-12-04T08:58:38.511Z"
   },
   {
    "duration": 70,
    "start_time": "2021-12-04T08:59:44.204Z"
   },
   {
    "duration": 22,
    "start_time": "2021-12-04T08:59:47.214Z"
   },
   {
    "duration": 6,
    "start_time": "2021-12-04T09:00:38.480Z"
   },
   {
    "duration": 7,
    "start_time": "2021-12-04T09:01:08.614Z"
   },
   {
    "duration": 8,
    "start_time": "2021-12-04T09:01:13.004Z"
   },
   {
    "duration": 6,
    "start_time": "2021-12-04T09:01:41.159Z"
   },
   {
    "duration": 274,
    "start_time": "2021-12-04T09:03:38.108Z"
   },
   {
    "duration": 17,
    "start_time": "2021-12-04T09:03:58.781Z"
   },
   {
    "duration": 24,
    "start_time": "2021-12-04T09:04:26.118Z"
   },
   {
    "duration": 39,
    "start_time": "2021-12-04T09:07:48.308Z"
   },
   {
    "duration": 12,
    "start_time": "2021-12-04T09:08:07.629Z"
   },
   {
    "duration": 325,
    "start_time": "2021-12-04T16:32:17.622Z"
   },
   {
    "duration": 666,
    "start_time": "2021-12-04T16:32:23.856Z"
   },
   {
    "duration": 19,
    "start_time": "2021-12-04T16:32:25.495Z"
   },
   {
    "duration": 16,
    "start_time": "2021-12-04T16:32:29.842Z"
   },
   {
    "duration": 5,
    "start_time": "2021-12-04T16:33:07.421Z"
   },
   {
    "duration": 6,
    "start_time": "2021-12-04T16:33:25.916Z"
   },
   {
    "duration": 6,
    "start_time": "2021-12-04T16:33:30.538Z"
   },
   {
    "duration": 5,
    "start_time": "2021-12-04T16:33:49.815Z"
   },
   {
    "duration": 4,
    "start_time": "2021-12-04T16:35:14.189Z"
   },
   {
    "duration": 274,
    "start_time": "2021-12-04T16:35:19.039Z"
   },
   {
    "duration": 4,
    "start_time": "2021-12-04T16:35:22.996Z"
   },
   {
    "duration": 4,
    "start_time": "2021-12-04T16:35:28.663Z"
   },
   {
    "duration": 3,
    "start_time": "2021-12-04T16:35:29.306Z"
   },
   {
    "duration": 4,
    "start_time": "2021-12-04T16:35:30.056Z"
   },
   {
    "duration": 14,
    "start_time": "2021-12-04T16:35:44.804Z"
   },
   {
    "duration": 15,
    "start_time": "2021-12-04T16:35:52.460Z"
   },
   {
    "duration": 13,
    "start_time": "2021-12-04T16:36:32.542Z"
   },
   {
    "duration": 11,
    "start_time": "2021-12-04T16:37:02.805Z"
   },
   {
    "duration": 57,
    "start_time": "2021-12-04T16:37:09.965Z"
   },
   {
    "duration": 12,
    "start_time": "2021-12-04T16:37:11.017Z"
   },
   {
    "duration": 10,
    "start_time": "2021-12-04T16:37:14.441Z"
   },
   {
    "duration": 14,
    "start_time": "2021-12-04T16:37:16.306Z"
   },
   {
    "duration": 4,
    "start_time": "2021-12-04T16:37:17.861Z"
   },
   {
    "duration": 4,
    "start_time": "2021-12-04T16:37:18.485Z"
   },
   {
    "duration": 14,
    "start_time": "2021-12-04T16:37:19.260Z"
   },
   {
    "duration": 13,
    "start_time": "2021-12-04T16:37:20.760Z"
   },
   {
    "duration": 9,
    "start_time": "2021-12-04T16:37:36.933Z"
   },
   {
    "duration": 4,
    "start_time": "2021-12-04T16:49:14.264Z"
   },
   {
    "duration": 12,
    "start_time": "2021-12-04T16:49:21.585Z"
   },
   {
    "duration": 12,
    "start_time": "2021-12-04T16:49:29.742Z"
   },
   {
    "duration": 10,
    "start_time": "2021-12-04T16:55:54.149Z"
   },
   {
    "duration": 12,
    "start_time": "2021-12-04T16:56:06.675Z"
   },
   {
    "duration": 12,
    "start_time": "2021-12-04T16:56:23.897Z"
   },
   {
    "duration": 4,
    "start_time": "2021-12-04T17:07:30.357Z"
   },
   {
    "duration": 13,
    "start_time": "2021-12-04T17:07:31.062Z"
   },
   {
    "duration": 12,
    "start_time": "2021-12-04T17:07:31.879Z"
   },
   {
    "duration": 12,
    "start_time": "2021-12-04T17:12:23.492Z"
   },
   {
    "duration": 11,
    "start_time": "2021-12-04T17:12:34.606Z"
   },
   {
    "duration": 10,
    "start_time": "2021-12-04T17:14:08.921Z"
   },
   {
    "duration": 8,
    "start_time": "2021-12-04T17:14:19.658Z"
   },
   {
    "duration": 9,
    "start_time": "2021-12-04T17:14:32.518Z"
   },
   {
    "duration": 7,
    "start_time": "2021-12-04T17:14:53.096Z"
   },
   {
    "duration": 20,
    "start_time": "2021-12-04T17:16:16.416Z"
   },
   {
    "duration": 17,
    "start_time": "2021-12-04T17:16:21.984Z"
   },
   {
    "duration": 16,
    "start_time": "2021-12-04T17:17:24.668Z"
   },
   {
    "duration": 19,
    "start_time": "2021-12-04T17:17:53.557Z"
   },
   {
    "duration": 16,
    "start_time": "2021-12-04T17:18:08.328Z"
   },
   {
    "duration": 83,
    "start_time": "2021-12-04T17:18:50.852Z"
   },
   {
    "duration": 5,
    "start_time": "2021-12-04T17:18:58.351Z"
   },
   {
    "duration": 7,
    "start_time": "2021-12-04T17:19:24.645Z"
   },
   {
    "duration": 6,
    "start_time": "2021-12-04T17:20:02.291Z"
   },
   {
    "duration": 5,
    "start_time": "2021-12-04T17:21:56.522Z"
   },
   {
    "duration": 5,
    "start_time": "2021-12-04T17:22:24.286Z"
   },
   {
    "duration": 19,
    "start_time": "2021-12-04T17:26:35.909Z"
   },
   {
    "duration": 675,
    "start_time": "2021-12-05T06:55:32.864Z"
   },
   {
    "duration": 20,
    "start_time": "2021-12-05T06:55:33.540Z"
   },
   {
    "duration": 7,
    "start_time": "2021-12-05T06:55:43.365Z"
   },
   {
    "duration": 11,
    "start_time": "2021-12-05T06:55:49.049Z"
   },
   {
    "duration": 24,
    "start_time": "2021-12-05T06:57:04.225Z"
   },
   {
    "duration": 19,
    "start_time": "2021-12-05T06:57:18.844Z"
   },
   {
    "duration": 11,
    "start_time": "2021-12-05T07:02:34.496Z"
   },
   {
    "duration": 15,
    "start_time": "2021-12-05T07:02:45.928Z"
   },
   {
    "duration": 5,
    "start_time": "2021-12-05T07:04:36.368Z"
   },
   {
    "duration": 6,
    "start_time": "2021-12-05T07:07:43.665Z"
   },
   {
    "duration": 15,
    "start_time": "2021-12-05T07:07:59.648Z"
   },
   {
    "duration": 14,
    "start_time": "2021-12-05T07:08:12.843Z"
   },
   {
    "duration": 10,
    "start_time": "2021-12-05T07:08:22.103Z"
   },
   {
    "duration": 4,
    "start_time": "2021-12-05T07:08:52.432Z"
   },
   {
    "duration": 14,
    "start_time": "2021-12-05T07:08:53.160Z"
   },
   {
    "duration": 12,
    "start_time": "2021-12-05T07:08:54.415Z"
   },
   {
    "duration": 15,
    "start_time": "2021-12-05T07:09:00.683Z"
   },
   {
    "duration": 5,
    "start_time": "2021-12-05T07:09:01.648Z"
   },
   {
    "duration": 25,
    "start_time": "2021-12-05T07:09:02.271Z"
   },
   {
    "duration": 7,
    "start_time": "2021-12-05T07:09:03.518Z"
   },
   {
    "duration": 15,
    "start_time": "2021-12-05T07:09:06.473Z"
   },
   {
    "duration": 8,
    "start_time": "2021-12-05T07:09:07.319Z"
   },
   {
    "duration": 9,
    "start_time": "2021-12-05T07:09:07.809Z"
   },
   {
    "duration": 8,
    "start_time": "2021-12-05T07:09:08.209Z"
   },
   {
    "duration": 9,
    "start_time": "2021-12-05T07:09:08.674Z"
   },
   {
    "duration": 8,
    "start_time": "2021-12-05T07:09:09.183Z"
   },
   {
    "duration": 16,
    "start_time": "2021-12-05T07:09:12.609Z"
   },
   {
    "duration": 17,
    "start_time": "2021-12-05T07:09:13.163Z"
   },
   {
    "duration": 17,
    "start_time": "2021-12-05T07:09:13.599Z"
   },
   {
    "duration": 307,
    "start_time": "2021-12-05T07:16:01.547Z"
   },
   {
    "duration": 260,
    "start_time": "2021-12-05T07:17:39.543Z"
   },
   {
    "duration": 249,
    "start_time": "2021-12-05T07:17:59.493Z"
   },
   {
    "duration": 636,
    "start_time": "2021-12-05T07:21:36.608Z"
   },
   {
    "duration": 669,
    "start_time": "2021-12-05T07:22:00.558Z"
   },
   {
    "duration": 19,
    "start_time": "2021-12-05T07:31:11.993Z"
   },
   {
    "duration": 15,
    "start_time": "2021-12-05T07:33:37.009Z"
   },
   {
    "duration": 57,
    "start_time": "2021-12-05T07:33:44.738Z"
   },
   {
    "duration": 13,
    "start_time": "2021-12-05T07:33:45.478Z"
   },
   {
    "duration": 7,
    "start_time": "2021-12-05T07:33:48.258Z"
   },
   {
    "duration": 7,
    "start_time": "2021-12-05T07:33:48.662Z"
   },
   {
    "duration": 17,
    "start_time": "2021-12-05T07:33:49.675Z"
   },
   {
    "duration": 10,
    "start_time": "2021-12-05T07:33:51.436Z"
   },
   {
    "duration": 16,
    "start_time": "2021-12-05T07:33:53.657Z"
   },
   {
    "duration": 5,
    "start_time": "2021-12-05T07:33:54.071Z"
   },
   {
    "duration": 5,
    "start_time": "2021-12-05T07:33:54.825Z"
   },
   {
    "duration": 14,
    "start_time": "2021-12-05T07:33:55.796Z"
   },
   {
    "duration": 14,
    "start_time": "2021-12-05T07:33:56.741Z"
   },
   {
    "duration": 10,
    "start_time": "2021-12-05T07:33:57.703Z"
   },
   {
    "duration": 4,
    "start_time": "2021-12-05T07:34:01.049Z"
   },
   {
    "duration": 13,
    "start_time": "2021-12-05T07:34:01.742Z"
   },
   {
    "duration": 12,
    "start_time": "2021-12-05T07:34:02.736Z"
   },
   {
    "duration": 11,
    "start_time": "2021-12-05T07:34:05.294Z"
   },
   {
    "duration": 19,
    "start_time": "2021-12-05T07:34:06.666Z"
   },
   {
    "duration": 18,
    "start_time": "2021-12-05T07:34:08.098Z"
   },
   {
    "duration": 17,
    "start_time": "2021-12-05T07:34:09.691Z"
   },
   {
    "duration": 5,
    "start_time": "2021-12-05T07:34:10.971Z"
   },
   {
    "duration": 19,
    "start_time": "2021-12-05T07:34:12.327Z"
   },
   {
    "duration": 6,
    "start_time": "2021-12-05T07:34:16.913Z"
   },
   {
    "duration": 11,
    "start_time": "2021-12-05T07:34:22.404Z"
   },
   {
    "duration": 9,
    "start_time": "2021-12-05T07:34:23.933Z"
   },
   {
    "duration": 9,
    "start_time": "2021-12-05T07:34:25.332Z"
   },
   {
    "duration": 7,
    "start_time": "2021-12-05T07:34:26.131Z"
   },
   {
    "duration": 7,
    "start_time": "2021-12-05T07:34:26.920Z"
   },
   {
    "duration": 3,
    "start_time": "2021-12-05T07:42:38.207Z"
   },
   {
    "duration": 2995,
    "start_time": "2021-12-05T07:44:27.623Z"
   },
   {
    "duration": 12,
    "start_time": "2021-12-05T07:44:35.385Z"
   },
   {
    "duration": 14,
    "start_time": "2021-12-05T07:44:46.541Z"
   },
   {
    "duration": 3,
    "start_time": "2021-12-05T07:45:11.172Z"
   },
   {
    "duration": 3000,
    "start_time": "2021-12-05T07:45:11.737Z"
   },
   {
    "duration": 28,
    "start_time": "2021-12-05T07:45:14.739Z"
   },
   {
    "duration": 4,
    "start_time": "2021-12-05T07:52:53.630Z"
   },
   {
    "duration": 2913,
    "start_time": "2021-12-05T07:52:54.338Z"
   },
   {
    "duration": 23,
    "start_time": "2021-12-05T07:52:57.253Z"
   },
   {
    "duration": 6,
    "start_time": "2021-12-05T07:57:09.501Z"
   },
   {
    "duration": 643,
    "start_time": "2021-12-05T14:25:00.851Z"
   },
   {
    "duration": 20,
    "start_time": "2021-12-05T14:25:02.376Z"
   },
   {
    "duration": 8,
    "start_time": "2021-12-05T14:25:05.238Z"
   },
   {
    "duration": 12,
    "start_time": "2021-12-05T14:25:05.699Z"
   },
   {
    "duration": 18,
    "start_time": "2021-12-05T14:25:06.668Z"
   },
   {
    "duration": 10,
    "start_time": "2021-12-05T14:25:07.880Z"
   },
   {
    "duration": 16,
    "start_time": "2021-12-05T14:25:08.890Z"
   },
   {
    "duration": 6,
    "start_time": "2021-12-05T14:25:10.243Z"
   },
   {
    "duration": 5,
    "start_time": "2021-12-05T14:25:10.696Z"
   },
   {
    "duration": 15,
    "start_time": "2021-12-05T14:25:11.377Z"
   },
   {
    "duration": 15,
    "start_time": "2021-12-05T14:25:12.210Z"
   },
   {
    "duration": 11,
    "start_time": "2021-12-05T14:25:13.344Z"
   },
   {
    "duration": 4,
    "start_time": "2021-12-05T14:25:16.007Z"
   },
   {
    "duration": 13,
    "start_time": "2021-12-05T14:25:16.521Z"
   },
   {
    "duration": 12,
    "start_time": "2021-12-05T14:25:17.355Z"
   },
   {
    "duration": 13,
    "start_time": "2021-12-05T14:25:20.963Z"
   },
   {
    "duration": 17,
    "start_time": "2021-12-05T14:25:21.833Z"
   },
   {
    "duration": 18,
    "start_time": "2021-12-05T14:25:22.413Z"
   },
   {
    "duration": 15,
    "start_time": "2021-12-05T14:25:23.010Z"
   },
   {
    "duration": 5,
    "start_time": "2021-12-05T14:25:23.551Z"
   },
   {
    "duration": 18,
    "start_time": "2021-12-05T14:25:24.115Z"
   },
   {
    "duration": 5,
    "start_time": "2021-12-05T14:25:24.774Z"
   },
   {
    "duration": 12,
    "start_time": "2021-12-05T14:25:25.411Z"
   },
   {
    "duration": 8,
    "start_time": "2021-12-05T14:25:25.911Z"
   },
   {
    "duration": 8,
    "start_time": "2021-12-05T14:25:26.278Z"
   },
   {
    "duration": 7,
    "start_time": "2021-12-05T14:25:26.667Z"
   },
   {
    "duration": 7,
    "start_time": "2021-12-05T14:25:27.187Z"
   },
   {
    "duration": 6,
    "start_time": "2021-12-05T14:25:27.561Z"
   },
   {
    "duration": 630,
    "start_time": "2021-12-05T14:25:30.057Z"
   },
   {
    "duration": 4,
    "start_time": "2021-12-05T14:25:34.433Z"
   },
   {
    "duration": 2816,
    "start_time": "2021-12-05T14:25:35.549Z"
   },
   {
    "duration": 14,
    "start_time": "2021-12-05T14:25:38.367Z"
   },
   {
    "duration": 22,
    "start_time": "2021-12-05T14:25:38.383Z"
   },
   {
    "duration": 315,
    "start_time": "2021-12-05T14:27:57.667Z"
   },
   {
    "duration": 270,
    "start_time": "2021-12-05T14:28:02.249Z"
   },
   {
    "duration": 4,
    "start_time": "2021-12-05T15:21:06.163Z"
   },
   {
    "duration": 9,
    "start_time": "2021-12-05T15:22:15.568Z"
   },
   {
    "duration": 5,
    "start_time": "2021-12-05T15:22:24.369Z"
   },
   {
    "duration": 25,
    "start_time": "2021-12-05T15:29:35.757Z"
   },
   {
    "duration": 25,
    "start_time": "2021-12-05T15:29:42.126Z"
   },
   {
    "duration": 277,
    "start_time": "2021-12-05T15:31:16.712Z"
   },
   {
    "duration": 305,
    "start_time": "2021-12-05T15:32:14.069Z"
   },
   {
    "duration": 331,
    "start_time": "2021-12-05T15:32:30.475Z"
   },
   {
    "duration": 34,
    "start_time": "2021-12-05T15:34:02.355Z"
   },
   {
    "duration": 27,
    "start_time": "2021-12-05T15:34:23.288Z"
   },
   {
    "duration": 6,
    "start_time": "2021-12-05T15:35:45.883Z"
   },
   {
    "duration": 5,
    "start_time": "2021-12-05T15:36:04.588Z"
   },
   {
    "duration": 5,
    "start_time": "2021-12-05T15:36:19.105Z"
   },
   {
    "duration": 5,
    "start_time": "2021-12-05T15:37:07.990Z"
   },
   {
    "duration": 4,
    "start_time": "2021-12-05T15:39:56.582Z"
   },
   {
    "duration": 2787,
    "start_time": "2021-12-05T15:40:00.763Z"
   },
   {
    "duration": 14,
    "start_time": "2021-12-05T15:40:03.551Z"
   },
   {
    "duration": 5,
    "start_time": "2021-12-05T15:43:22.520Z"
   },
   {
    "duration": 10,
    "start_time": "2021-12-05T15:43:49.666Z"
   },
   {
    "duration": 12,
    "start_time": "2021-12-05T15:43:56.442Z"
   },
   {
    "duration": 83,
    "start_time": "2021-12-05T15:47:28.985Z"
   },
   {
    "duration": 28,
    "start_time": "2021-12-05T15:48:01.594Z"
   },
   {
    "duration": 27,
    "start_time": "2021-12-05T15:48:59.544Z"
   },
   {
    "duration": 26,
    "start_time": "2021-12-05T15:50:47.702Z"
   },
   {
    "duration": 31,
    "start_time": "2021-12-05T15:50:50.537Z"
   },
   {
    "duration": 517,
    "start_time": "2021-12-05T15:51:29.131Z"
   },
   {
    "duration": 33,
    "start_time": "2021-12-05T15:51:39.520Z"
   },
   {
    "duration": 28,
    "start_time": "2021-12-05T15:51:50.190Z"
   },
   {
    "duration": 28,
    "start_time": "2021-12-05T15:52:22.050Z"
   },
   {
    "duration": 92,
    "start_time": "2021-12-05T15:58:08.039Z"
   },
   {
    "duration": 31,
    "start_time": "2021-12-05T15:58:52.030Z"
   },
   {
    "duration": 29,
    "start_time": "2021-12-05T15:59:00.339Z"
   },
   {
    "duration": 27,
    "start_time": "2021-12-05T16:02:14.298Z"
   },
   {
    "duration": 5,
    "start_time": "2021-12-05T16:07:29.393Z"
   },
   {
    "duration": 9,
    "start_time": "2021-12-05T16:08:02.646Z"
   },
   {
    "duration": 4,
    "start_time": "2021-12-05T16:09:14.850Z"
   },
   {
    "duration": 282,
    "start_time": "2021-12-05T16:09:47.268Z"
   },
   {
    "duration": 7,
    "start_time": "2021-12-05T16:10:12.758Z"
   },
   {
    "duration": 289,
    "start_time": "2021-12-05T16:18:06.542Z"
   },
   {
    "duration": 6,
    "start_time": "2021-12-05T16:18:11.008Z"
   },
   {
    "duration": 7,
    "start_time": "2021-12-05T16:19:11.117Z"
   },
   {
    "duration": 6,
    "start_time": "2021-12-05T16:19:22.962Z"
   },
   {
    "duration": 8,
    "start_time": "2021-12-05T16:19:41.960Z"
   },
   {
    "duration": 7,
    "start_time": "2021-12-05T16:20:07.282Z"
   },
   {
    "duration": 7,
    "start_time": "2021-12-05T16:20:10.173Z"
   },
   {
    "duration": 5,
    "start_time": "2021-12-05T16:22:14.054Z"
   },
   {
    "duration": 8,
    "start_time": "2021-12-05T16:22:24.797Z"
   },
   {
    "duration": 4,
    "start_time": "2021-12-05T16:22:39.139Z"
   },
   {
    "duration": 8,
    "start_time": "2021-12-05T16:22:40.582Z"
   },
   {
    "duration": 5,
    "start_time": "2021-12-05T16:23:35.644Z"
   },
   {
    "duration": 7,
    "start_time": "2021-12-05T16:23:36.404Z"
   },
   {
    "duration": 54,
    "start_time": "2021-12-05T16:24:05.063Z"
   },
   {
    "duration": 14,
    "start_time": "2021-12-05T16:24:06.677Z"
   },
   {
    "duration": 13,
    "start_time": "2021-12-05T16:24:12.111Z"
   },
   {
    "duration": 6,
    "start_time": "2021-12-05T16:24:16.472Z"
   },
   {
    "duration": 8,
    "start_time": "2021-12-05T16:24:19.274Z"
   },
   {
    "duration": 5,
    "start_time": "2021-12-05T16:24:26.616Z"
   },
   {
    "duration": 8,
    "start_time": "2021-12-05T16:24:27.375Z"
   },
   {
    "duration": 4,
    "start_time": "2021-12-05T16:25:17.711Z"
   },
   {
    "duration": 87,
    "start_time": "2021-12-05T16:26:35.029Z"
   },
   {
    "duration": 7,
    "start_time": "2021-12-05T16:26:52.419Z"
   },
   {
    "duration": 7,
    "start_time": "2021-12-05T16:27:48.526Z"
   },
   {
    "duration": 6,
    "start_time": "2021-12-05T16:27:49.036Z"
   },
   {
    "duration": 17,
    "start_time": "2021-12-05T16:27:49.617Z"
   },
   {
    "duration": 10,
    "start_time": "2021-12-05T16:27:51.295Z"
   },
   {
    "duration": 14,
    "start_time": "2021-12-05T16:27:52.174Z"
   },
   {
    "duration": 5,
    "start_time": "2021-12-05T16:27:59.061Z"
   },
   {
    "duration": 5,
    "start_time": "2021-12-05T16:28:00.127Z"
   },
   {
    "duration": 17,
    "start_time": "2021-12-05T16:28:04.521Z"
   },
   {
    "duration": 12,
    "start_time": "2021-12-05T16:28:08.539Z"
   },
   {
    "duration": 10,
    "start_time": "2021-12-05T16:28:11.783Z"
   },
   {
    "duration": 5,
    "start_time": "2021-12-05T16:28:24.889Z"
   },
   {
    "duration": 12,
    "start_time": "2021-12-05T16:28:25.342Z"
   },
   {
    "duration": 12,
    "start_time": "2021-12-05T16:28:27.044Z"
   },
   {
    "duration": 3,
    "start_time": "2021-12-05T16:32:31.632Z"
   },
   {
    "duration": 9,
    "start_time": "2021-12-05T16:33:09.959Z"
   },
   {
    "duration": 12,
    "start_time": "2021-12-05T16:33:17.212Z"
   },
   {
    "duration": 3,
    "start_time": "2021-12-05T16:34:36.771Z"
   },
   {
    "duration": 10,
    "start_time": "2021-12-05T16:34:37.352Z"
   },
   {
    "duration": 13,
    "start_time": "2021-12-05T16:34:38.007Z"
   },
   {
    "duration": 3,
    "start_time": "2021-12-05T16:34:43.671Z"
   },
   {
    "duration": 8,
    "start_time": "2021-12-05T16:34:44.044Z"
   },
   {
    "duration": 13,
    "start_time": "2021-12-05T16:34:44.564Z"
   },
   {
    "duration": 29,
    "start_time": "2021-12-05T16:34:48.525Z"
   },
   {
    "duration": 31,
    "start_time": "2021-12-05T16:34:55.656Z"
   },
   {
    "duration": 31,
    "start_time": "2021-12-05T16:35:00.279Z"
   },
   {
    "duration": 30,
    "start_time": "2021-12-05T16:37:18.516Z"
   },
   {
    "duration": 7011,
    "start_time": "2021-12-05T16:43:34.825Z"
   },
   {
    "duration": 5,
    "start_time": "2021-12-05T16:43:46.560Z"
   },
   {
    "duration": 4,
    "start_time": "2021-12-05T16:44:46.798Z"
   },
   {
    "duration": 6,
    "start_time": "2021-12-05T16:45:06.996Z"
   },
   {
    "duration": 4,
    "start_time": "2021-12-05T16:51:18.450Z"
   },
   {
    "duration": 32309,
    "start_time": "2021-12-05T16:52:06.093Z"
   },
   {
    "duration": 45,
    "start_time": "2021-12-05T16:52:47.909Z"
   },
   {
    "duration": 37,
    "start_time": "2021-12-05T16:52:59.933Z"
   },
   {
    "duration": 29228,
    "start_time": "2021-12-05T16:53:13.528Z"
   },
   {
    "duration": 32,
    "start_time": "2021-12-05T16:53:42.758Z"
   },
   {
    "duration": 5,
    "start_time": "2021-12-05T16:54:36.074Z"
   },
   {
    "duration": 3,
    "start_time": "2021-12-05T16:55:01.435Z"
   },
   {
    "duration": 27338,
    "start_time": "2021-12-05T16:55:05.669Z"
   },
   {
    "duration": 40,
    "start_time": "2021-12-05T16:55:33.009Z"
   },
   {
    "duration": 29,
    "start_time": "2021-12-05T16:55:42.967Z"
   },
   {
    "duration": 29146,
    "start_time": "2021-12-05T16:55:50.863Z"
   },
   {
    "duration": 27,
    "start_time": "2021-12-05T16:56:43.725Z"
   },
   {
    "duration": 59,
    "start_time": "2021-12-05T16:56:49.924Z"
   },
   {
    "duration": 16,
    "start_time": "2021-12-05T16:56:51.040Z"
   },
   {
    "duration": 8,
    "start_time": "2021-12-05T16:56:53.347Z"
   },
   {
    "duration": 6,
    "start_time": "2021-12-05T16:56:54.302Z"
   },
   {
    "duration": 4,
    "start_time": "2021-12-05T16:56:55.486Z"
   },
   {
    "duration": 6,
    "start_time": "2021-12-05T16:56:55.781Z"
   },
   {
    "duration": 4,
    "start_time": "2021-12-05T16:56:57.084Z"
   },
   {
    "duration": 8,
    "start_time": "2021-12-05T16:56:57.405Z"
   },
   {
    "duration": 5,
    "start_time": "2021-12-05T16:56:58.301Z"
   },
   {
    "duration": 8,
    "start_time": "2021-12-05T16:56:59.338Z"
   },
   {
    "duration": 7,
    "start_time": "2021-12-05T16:56:59.686Z"
   },
   {
    "duration": 17,
    "start_time": "2021-12-05T16:57:00.106Z"
   },
   {
    "duration": 14,
    "start_time": "2021-12-05T16:57:01.851Z"
   },
   {
    "duration": 15,
    "start_time": "2021-12-05T16:57:02.294Z"
   },
   {
    "duration": 5,
    "start_time": "2021-12-05T16:57:03.799Z"
   },
   {
    "duration": 6,
    "start_time": "2021-12-05T16:57:04.422Z"
   },
   {
    "duration": 12,
    "start_time": "2021-12-05T16:57:04.966Z"
   },
   {
    "duration": 16,
    "start_time": "2021-12-05T16:57:05.441Z"
   },
   {
    "duration": 11,
    "start_time": "2021-12-05T16:57:06.111Z"
   },
   {
    "duration": 4,
    "start_time": "2021-12-05T16:57:08.455Z"
   },
   {
    "duration": 12,
    "start_time": "2021-12-05T16:57:08.954Z"
   },
   {
    "duration": 12,
    "start_time": "2021-12-05T16:57:09.496Z"
   },
   {
    "duration": 11,
    "start_time": "2021-12-05T16:57:17.985Z"
   },
   {
    "duration": 18,
    "start_time": "2021-12-05T16:57:18.759Z"
   },
   {
    "duration": 17,
    "start_time": "2021-12-05T16:57:19.194Z"
   },
   {
    "duration": 15,
    "start_time": "2021-12-05T16:57:19.695Z"
   },
   {
    "duration": 5,
    "start_time": "2021-12-05T16:57:20.198Z"
   },
   {
    "duration": 19,
    "start_time": "2021-12-05T16:57:21.113Z"
   },
   {
    "duration": 11,
    "start_time": "2021-12-05T16:57:21.942Z"
   },
   {
    "duration": 11,
    "start_time": "2021-12-05T16:57:22.595Z"
   },
   {
    "duration": 764,
    "start_time": "2021-12-05T16:57:26.318Z"
   },
   {
    "duration": 9,
    "start_time": "2021-12-05T16:57:28.645Z"
   },
   {
    "duration": 3099,
    "start_time": "2021-12-05T16:57:35.882Z"
   },
   {
    "duration": 18,
    "start_time": "2021-12-05T16:57:38.983Z"
   },
   {
    "duration": 5,
    "start_time": "2021-12-05T16:57:55.305Z"
   },
   {
    "duration": 4,
    "start_time": "2021-12-05T16:58:15.847Z"
   },
   {
    "duration": 16,
    "start_time": "2021-12-05T16:58:16.339Z"
   },
   {
    "duration": 12,
    "start_time": "2021-12-05T16:58:16.765Z"
   },
   {
    "duration": 2,
    "start_time": "2021-12-05T16:58:19.633Z"
   },
   {
    "duration": 8,
    "start_time": "2021-12-05T16:58:20.131Z"
   },
   {
    "duration": 12,
    "start_time": "2021-12-05T16:58:20.526Z"
   },
   {
    "duration": 30,
    "start_time": "2021-12-05T16:58:24.764Z"
   },
   {
    "duration": 28,
    "start_time": "2021-12-05T16:58:29.055Z"
   },
   {
    "duration": 5,
    "start_time": "2021-12-05T16:58:32.687Z"
   },
   {
    "duration": 3,
    "start_time": "2021-12-05T16:58:47.720Z"
   },
   {
    "duration": 27935,
    "start_time": "2021-12-05T16:58:53.312Z"
   },
   {
    "duration": 32,
    "start_time": "2021-12-05T16:59:45.886Z"
   },
   {
    "duration": 40392,
    "start_time": "2021-12-05T17:00:13.944Z"
   },
   {
    "duration": 282,
    "start_time": "2021-12-05T17:04:19.581Z"
   },
   {
    "duration": 15,
    "start_time": "2021-12-05T17:04:27.336Z"
   },
   {
    "duration": 1897,
    "start_time": "2021-12-05T17:05:07.913Z"
   },
   {
    "duration": 7,
    "start_time": "2021-12-05T17:05:33.640Z"
   },
   {
    "duration": 10,
    "start_time": "2021-12-05T17:06:12.614Z"
   },
   {
    "duration": 9,
    "start_time": "2021-12-05T17:06:24.606Z"
   },
   {
    "duration": 6,
    "start_time": "2021-12-05T17:07:20.080Z"
   },
   {
    "duration": 7,
    "start_time": "2021-12-05T17:07:24.829Z"
   },
   {
    "duration": 284,
    "start_time": "2021-12-05T17:08:59.231Z"
   },
   {
    "duration": 7287,
    "start_time": "2021-12-05T17:11:26.842Z"
   },
   {
    "duration": 17,
    "start_time": "2021-12-05T17:12:45.391Z"
   },
   {
    "duration": 17,
    "start_time": "2021-12-05T17:12:58.859Z"
   },
   {
    "duration": 4,
    "start_time": "2021-12-05T17:14:37.757Z"
   },
   {
    "duration": 20,
    "start_time": "2021-12-05T17:15:15.291Z"
   },
   {
    "duration": 29,
    "start_time": "2021-12-05T17:16:05.888Z"
   },
   {
    "duration": 10,
    "start_time": "2021-12-05T17:33:34.614Z"
   },
   {
    "duration": 10,
    "start_time": "2021-12-05T17:35:05.063Z"
   },
   {
    "duration": 13,
    "start_time": "2021-12-05T17:35:06.881Z"
   },
   {
    "duration": 1371,
    "start_time": "2021-12-05T17:38:11.548Z"
   },
   {
    "duration": 14,
    "start_time": "2021-12-05T17:38:17.180Z"
   },
   {
    "duration": 14,
    "start_time": "2021-12-05T17:38:19.625Z"
   },
   {
    "duration": 13,
    "start_time": "2021-12-05T17:38:32.596Z"
   },
   {
    "duration": 12,
    "start_time": "2021-12-05T17:38:41.172Z"
   },
   {
    "duration": 16,
    "start_time": "2021-12-05T17:38:44.423Z"
   },
   {
    "duration": 23,
    "start_time": "2021-12-05T17:39:05.840Z"
   },
   {
    "duration": 12,
    "start_time": "2021-12-05T17:39:09.980Z"
   },
   {
    "duration": 58,
    "start_time": "2021-12-05T17:39:53.450Z"
   },
   {
    "duration": 13,
    "start_time": "2021-12-05T17:39:54.993Z"
   },
   {
    "duration": 7,
    "start_time": "2021-12-05T17:39:57.936Z"
   },
   {
    "duration": 6,
    "start_time": "2021-12-05T17:39:59.081Z"
   },
   {
    "duration": 5,
    "start_time": "2021-12-05T17:40:00.273Z"
   },
   {
    "duration": 7,
    "start_time": "2021-12-05T17:40:00.787Z"
   },
   {
    "duration": 4,
    "start_time": "2021-12-05T17:40:01.731Z"
   },
   {
    "duration": 8,
    "start_time": "2021-12-05T17:40:02.408Z"
   },
   {
    "duration": 5,
    "start_time": "2021-12-05T17:40:03.157Z"
   },
   {
    "duration": 7,
    "start_time": "2021-12-05T17:40:04.580Z"
   },
   {
    "duration": 6,
    "start_time": "2021-12-05T17:40:05.017Z"
   },
   {
    "duration": 19,
    "start_time": "2021-12-05T17:40:05.766Z"
   },
   {
    "duration": 10,
    "start_time": "2021-12-05T17:40:07.559Z"
   },
   {
    "duration": 15,
    "start_time": "2021-12-05T17:40:08.255Z"
   },
   {
    "duration": 5,
    "start_time": "2021-12-05T17:40:09.845Z"
   },
   {
    "duration": 5,
    "start_time": "2021-12-05T17:40:10.432Z"
   },
   {
    "duration": 13,
    "start_time": "2021-12-05T17:40:10.983Z"
   },
   {
    "duration": 14,
    "start_time": "2021-12-05T17:40:11.600Z"
   },
   {
    "duration": 10,
    "start_time": "2021-12-05T17:40:12.484Z"
   },
   {
    "duration": 4,
    "start_time": "2021-12-05T17:40:15.686Z"
   },
   {
    "duration": 12,
    "start_time": "2021-12-05T17:40:16.156Z"
   },
   {
    "duration": 11,
    "start_time": "2021-12-05T17:40:16.959Z"
   },
   {
    "duration": 15,
    "start_time": "2021-12-05T17:40:21.146Z"
   },
   {
    "duration": 20,
    "start_time": "2021-12-05T17:40:21.888Z"
   },
   {
    "duration": 18,
    "start_time": "2021-12-05T17:40:22.288Z"
   },
   {
    "duration": 17,
    "start_time": "2021-12-05T17:40:22.656Z"
   },
   {
    "duration": 5,
    "start_time": "2021-12-05T17:40:23.169Z"
   },
   {
    "duration": 20,
    "start_time": "2021-12-05T17:40:23.752Z"
   },
   {
    "duration": 7,
    "start_time": "2021-12-05T17:40:24.642Z"
   },
   {
    "duration": 11,
    "start_time": "2021-12-05T17:40:25.369Z"
   },
   {
    "duration": 748,
    "start_time": "2021-12-05T17:40:29.174Z"
   },
   {
    "duration": 4,
    "start_time": "2021-12-05T17:40:31.581Z"
   },
   {
    "duration": 3087,
    "start_time": "2021-12-05T17:40:33.317Z"
   },
   {
    "duration": 12,
    "start_time": "2021-12-05T17:40:36.406Z"
   },
   {
    "duration": 12,
    "start_time": "2021-12-05T17:40:36.419Z"
   },
   {
    "duration": 3,
    "start_time": "2021-12-05T17:40:38.931Z"
   },
   {
    "duration": 10,
    "start_time": "2021-12-05T17:40:39.490Z"
   },
   {
    "duration": 13,
    "start_time": "2021-12-05T17:40:40.132Z"
   },
   {
    "duration": 8,
    "start_time": "2021-12-05T17:40:41.650Z"
   },
   {
    "duration": 10,
    "start_time": "2021-12-05T17:40:42.212Z"
   },
   {
    "duration": 15,
    "start_time": "2021-12-05T17:40:42.768Z"
   },
   {
    "duration": 31,
    "start_time": "2021-12-05T17:40:45.805Z"
   },
   {
    "duration": 32,
    "start_time": "2021-12-05T17:40:47.830Z"
   },
   {
    "duration": 3,
    "start_time": "2021-12-05T17:40:48.929Z"
   },
   {
    "duration": 19,
    "start_time": "2021-12-05T17:40:49.167Z"
   },
   {
    "duration": 35,
    "start_time": "2021-12-05T17:40:49.956Z"
   },
   {
    "duration": 31,
    "start_time": "2021-12-05T17:40:52.000Z"
   },
   {
    "duration": 261,
    "start_time": "2021-12-05T17:40:53.858Z"
   },
   {
    "duration": 32,
    "start_time": "2021-12-05T17:40:55.135Z"
   },
   {
    "duration": 687,
    "start_time": "2021-12-06T09:39:18.882Z"
   },
   {
    "duration": 19,
    "start_time": "2021-12-06T09:39:19.571Z"
   },
   {
    "duration": 7,
    "start_time": "2021-12-06T09:39:19.594Z"
   },
   {
    "duration": 6,
    "start_time": "2021-12-06T09:39:19.607Z"
   },
   {
    "duration": 8,
    "start_time": "2021-12-06T09:39:19.615Z"
   },
   {
    "duration": 9,
    "start_time": "2021-12-06T09:39:19.624Z"
   },
   {
    "duration": 9,
    "start_time": "2021-12-06T09:39:19.634Z"
   },
   {
    "duration": 10,
    "start_time": "2021-12-06T09:39:19.646Z"
   },
   {
    "duration": 7,
    "start_time": "2021-12-06T09:39:19.658Z"
   },
   {
    "duration": 9,
    "start_time": "2021-12-06T09:39:19.667Z"
   },
   {
    "duration": 30,
    "start_time": "2021-12-06T09:39:19.678Z"
   },
   {
    "duration": 18,
    "start_time": "2021-12-06T09:39:19.710Z"
   },
   {
    "duration": 11,
    "start_time": "2021-12-06T09:39:19.730Z"
   },
   {
    "duration": 13,
    "start_time": "2021-12-06T09:39:19.743Z"
   },
   {
    "duration": 5,
    "start_time": "2021-12-06T09:39:19.758Z"
   },
   {
    "duration": 42,
    "start_time": "2021-12-06T09:39:19.765Z"
   },
   {
    "duration": 13,
    "start_time": "2021-12-06T09:39:19.809Z"
   },
   {
    "duration": 12,
    "start_time": "2021-12-06T09:39:19.823Z"
   },
   {
    "duration": 11,
    "start_time": "2021-12-06T09:39:19.837Z"
   },
   {
    "duration": 4,
    "start_time": "2021-12-06T09:39:19.849Z"
   },
   {
    "duration": 12,
    "start_time": "2021-12-06T09:39:19.855Z"
   },
   {
    "duration": 43,
    "start_time": "2021-12-06T09:39:19.869Z"
   },
   {
    "duration": 11,
    "start_time": "2021-12-06T09:39:19.914Z"
   },
   {
    "duration": 20,
    "start_time": "2021-12-06T09:39:19.927Z"
   },
   {
    "duration": 17,
    "start_time": "2021-12-06T09:39:19.949Z"
   },
   {
    "duration": 40,
    "start_time": "2021-12-06T09:39:19.969Z"
   },
   {
    "duration": 4,
    "start_time": "2021-12-06T09:39:20.011Z"
   },
   {
    "duration": 22,
    "start_time": "2021-12-06T09:39:20.017Z"
   },
   {
    "duration": 5,
    "start_time": "2021-12-06T09:39:20.041Z"
   },
   {
    "duration": 11,
    "start_time": "2021-12-06T09:39:20.047Z"
   },
   {
    "duration": 684,
    "start_time": "2021-12-06T09:39:20.060Z"
   },
   {
    "duration": 3,
    "start_time": "2021-12-06T09:39:20.746Z"
   },
   {
    "duration": 3038,
    "start_time": "2021-12-06T09:39:20.751Z"
   },
   {
    "duration": 21,
    "start_time": "2021-12-06T09:39:23.790Z"
   },
   {
    "duration": 6,
    "start_time": "2021-12-06T09:39:23.813Z"
   },
   {
    "duration": 3,
    "start_time": "2021-12-06T09:39:23.821Z"
   },
   {
    "duration": 12,
    "start_time": "2021-12-06T09:39:23.826Z"
   },
   {
    "duration": 12,
    "start_time": "2021-12-06T09:39:23.840Z"
   },
   {
    "duration": 4,
    "start_time": "2021-12-06T09:39:23.853Z"
   },
   {
    "duration": 9,
    "start_time": "2021-12-06T09:39:23.859Z"
   },
   {
    "duration": 48,
    "start_time": "2021-12-06T09:39:23.870Z"
   },
   {
    "duration": 32,
    "start_time": "2021-12-06T09:39:23.920Z"
   },
   {
    "duration": 52,
    "start_time": "2021-12-06T09:39:23.954Z"
   },
   {
    "duration": 3,
    "start_time": "2021-12-06T09:39:24.008Z"
   },
   {
    "duration": 21,
    "start_time": "2021-12-06T09:39:24.013Z"
   },
   {
    "duration": 33,
    "start_time": "2021-12-06T09:39:24.037Z"
   },
   {
    "duration": 55,
    "start_time": "2021-12-06T09:39:24.072Z"
   },
   {
    "duration": 1086,
    "start_time": "2021-12-06T09:39:24.128Z"
   },
   {
    "duration": -23038,
    "start_time": "2021-12-06T09:39:48.254Z"
   },
   {
    "duration": 30,
    "start_time": "2021-12-06T10:07:47.701Z"
   },
   {
    "duration": 648,
    "start_time": "2021-12-06T10:47:36.765Z"
   },
   {
    "duration": 20,
    "start_time": "2021-12-06T10:47:37.494Z"
   },
   {
    "duration": 8,
    "start_time": "2021-12-06T10:47:41.134Z"
   },
   {
    "duration": 6,
    "start_time": "2021-12-06T10:47:42.747Z"
   },
   {
    "duration": 5,
    "start_time": "2021-12-06T10:47:47.980Z"
   },
   {
    "duration": 7,
    "start_time": "2021-12-06T10:47:50.787Z"
   },
   {
    "duration": 6,
    "start_time": "2021-12-06T10:48:14.334Z"
   },
   {
    "duration": 92,
    "start_time": "2021-12-06T10:50:43.838Z"
   },
   {
    "duration": 2706,
    "start_time": "2021-12-06T10:58:37.894Z"
   },
   {
    "duration": 336,
    "start_time": "2021-12-06T11:00:30.927Z"
   },
   {
    "duration": 44,
    "start_time": "2021-12-06T11:00:55.512Z"
   },
   {
    "duration": 71,
    "start_time": "2021-12-06T11:01:17.827Z"
   },
   {
    "duration": 15,
    "start_time": "2021-12-06T11:01:18.266Z"
   },
   {
    "duration": 8,
    "start_time": "2021-12-06T11:01:20.361Z"
   },
   {
    "duration": 8,
    "start_time": "2021-12-06T11:01:20.974Z"
   },
   {
    "duration": 6,
    "start_time": "2021-12-06T11:01:21.547Z"
   },
   {
    "duration": 7,
    "start_time": "2021-12-06T11:01:21.785Z"
   },
   {
    "duration": 6,
    "start_time": "2021-12-06T11:01:23.148Z"
   },
   {
    "duration": 7,
    "start_time": "2021-12-06T11:01:23.508Z"
   },
   {
    "duration": 5,
    "start_time": "2021-12-06T11:01:23.858Z"
   },
   {
    "duration": 6,
    "start_time": "2021-12-06T11:01:25.123Z"
   },
   {
    "duration": 8,
    "start_time": "2021-12-06T11:01:25.371Z"
   },
   {
    "duration": 17,
    "start_time": "2021-12-06T11:01:25.905Z"
   },
   {
    "duration": 10,
    "start_time": "2021-12-06T11:01:26.566Z"
   },
   {
    "duration": 16,
    "start_time": "2021-12-06T11:01:26.835Z"
   },
   {
    "duration": 6,
    "start_time": "2021-12-06T11:01:27.413Z"
   },
   {
    "duration": 6,
    "start_time": "2021-12-06T11:01:27.684Z"
   },
   {
    "duration": 14,
    "start_time": "2021-12-06T11:01:27.946Z"
   },
   {
    "duration": 15,
    "start_time": "2021-12-06T11:01:28.197Z"
   },
   {
    "duration": 11,
    "start_time": "2021-12-06T11:01:28.462Z"
   },
   {
    "duration": 4,
    "start_time": "2021-12-06T11:01:29.887Z"
   },
   {
    "duration": 12,
    "start_time": "2021-12-06T11:01:30.131Z"
   },
   {
    "duration": 12,
    "start_time": "2021-12-06T11:01:30.406Z"
   },
   {
    "duration": 11,
    "start_time": "2021-12-06T11:01:31.967Z"
   },
   {
    "duration": 19,
    "start_time": "2021-12-06T11:01:32.466Z"
   },
   {
    "duration": 19,
    "start_time": "2021-12-06T11:01:32.740Z"
   },
   {
    "duration": 17,
    "start_time": "2021-12-06T11:01:33.041Z"
   },
   {
    "duration": 6,
    "start_time": "2021-12-06T11:01:33.323Z"
   },
   {
    "duration": 18,
    "start_time": "2021-12-06T11:01:33.966Z"
   },
   {
    "duration": 6,
    "start_time": "2021-12-06T11:01:34.379Z"
   },
   {
    "duration": 11,
    "start_time": "2021-12-06T11:01:35.770Z"
   },
   {
    "duration": 2520,
    "start_time": "2021-12-06T11:01:37.554Z"
   },
   {
    "duration": 3,
    "start_time": "2021-12-06T11:01:40.076Z"
   },
   {
    "duration": 2972,
    "start_time": "2021-12-06T11:01:40.650Z"
   },
   {
    "duration": 21,
    "start_time": "2021-12-06T11:01:43.624Z"
   },
   {
    "duration": 7,
    "start_time": "2021-12-06T11:01:43.648Z"
   },
   {
    "duration": 4,
    "start_time": "2021-12-06T11:01:43.657Z"
   },
   {
    "duration": 14,
    "start_time": "2021-12-06T11:01:43.663Z"
   },
   {
    "duration": 16,
    "start_time": "2021-12-06T11:01:43.679Z"
   },
   {
    "duration": 3,
    "start_time": "2021-12-06T11:01:44.461Z"
   },
   {
    "duration": 8,
    "start_time": "2021-12-06T11:01:44.842Z"
   },
   {
    "duration": 15,
    "start_time": "2021-12-06T11:01:45.386Z"
   },
   {
    "duration": 43,
    "start_time": "2021-12-06T11:01:48.362Z"
   },
   {
    "duration": 29,
    "start_time": "2021-12-06T11:01:50.438Z"
   },
   {
    "duration": 4,
    "start_time": "2021-12-06T11:01:51.325Z"
   },
   {
    "duration": 19,
    "start_time": "2021-12-06T11:01:51.882Z"
   },
   {
    "duration": 31,
    "start_time": "2021-12-06T11:01:54.058Z"
   },
   {
    "duration": 29,
    "start_time": "2021-12-06T11:01:56.366Z"
   },
   {
    "duration": 29,
    "start_time": "2021-12-06T11:01:59.009Z"
   },
   {
    "duration": 28,
    "start_time": "2021-12-06T11:03:45.949Z"
   },
   {
    "duration": 4,
    "start_time": "2021-12-06T11:04:36.954Z"
   },
   {
    "duration": 14,
    "start_time": "2021-12-06T11:04:37.818Z"
   },
   {
    "duration": 14,
    "start_time": "2021-12-06T11:04:39.731Z"
   },
   {
    "duration": 322,
    "start_time": "2021-12-06T16:15:54.986Z"
   },
   {
    "duration": 641,
    "start_time": "2021-12-06T16:16:02.384Z"
   },
   {
    "duration": 19,
    "start_time": "2021-12-06T16:16:03.827Z"
   },
   {
    "duration": 6,
    "start_time": "2021-12-06T16:16:06.259Z"
   },
   {
    "duration": 6,
    "start_time": "2021-12-06T16:16:07.293Z"
   },
   {
    "duration": 5,
    "start_time": "2021-12-06T16:16:08.765Z"
   },
   {
    "duration": 6,
    "start_time": "2021-12-06T16:16:09.182Z"
   },
   {
    "duration": 6,
    "start_time": "2021-12-06T16:16:11.197Z"
   },
   {
    "duration": 8,
    "start_time": "2021-12-06T16:16:11.831Z"
   },
   {
    "duration": 4,
    "start_time": "2021-12-06T16:16:12.261Z"
   },
   {
    "duration": 7,
    "start_time": "2021-12-06T16:16:14.137Z"
   },
   {
    "duration": 10,
    "start_time": "2021-12-06T16:16:14.928Z"
   },
   {
    "duration": 16,
    "start_time": "2021-12-06T16:16:15.869Z"
   },
   {
    "duration": 10,
    "start_time": "2021-12-06T16:16:16.938Z"
   },
   {
    "duration": 13,
    "start_time": "2021-12-06T16:16:17.253Z"
   },
   {
    "duration": 6,
    "start_time": "2021-12-06T16:16:19.375Z"
   },
   {
    "duration": 6,
    "start_time": "2021-12-06T16:17:05.507Z"
   },
   {
    "duration": 6074,
    "start_time": "2021-12-06T16:18:06.423Z"
   },
   {
    "duration": 6536,
    "start_time": "2021-12-06T16:19:50.447Z"
   },
   {
    "duration": 36,
    "start_time": "2021-12-06T16:20:33.577Z"
   },
   {
    "duration": 237,
    "start_time": "2021-12-06T16:22:32.630Z"
   },
   {
    "duration": 8,
    "start_time": "2021-12-06T16:23:10.909Z"
   },
   {
    "duration": 37,
    "start_time": "2021-12-06T16:25:11.095Z"
   },
   {
    "duration": 36,
    "start_time": "2021-12-06T16:25:18.307Z"
   },
   {
    "duration": 227,
    "start_time": "2021-12-06T16:25:19.572Z"
   },
   {
    "duration": 12,
    "start_time": "2021-12-06T16:25:42.503Z"
   },
   {
    "duration": 10,
    "start_time": "2021-12-06T16:25:48.858Z"
   },
   {
    "duration": 5,
    "start_time": "2021-12-06T16:27:17.320Z"
   },
   {
    "duration": 7,
    "start_time": "2021-12-06T16:31:55.229Z"
   },
   {
    "duration": 8,
    "start_time": "2021-12-06T16:32:04.991Z"
   },
   {
    "duration": 88,
    "start_time": "2021-12-06T16:33:27.158Z"
   },
   {
    "duration": 38,
    "start_time": "2021-12-06T16:33:44.346Z"
   },
   {
    "duration": 7,
    "start_time": "2021-12-06T16:33:47.960Z"
   },
   {
    "duration": 39,
    "start_time": "2021-12-06T16:34:01.986Z"
   },
   {
    "duration": 54,
    "start_time": "2021-12-06T16:34:09.022Z"
   },
   {
    "duration": 12,
    "start_time": "2021-12-06T16:34:09.832Z"
   },
   {
    "duration": 6,
    "start_time": "2021-12-06T16:34:12.594Z"
   },
   {
    "duration": 6,
    "start_time": "2021-12-06T16:34:14.061Z"
   },
   {
    "duration": 39,
    "start_time": "2021-12-06T16:34:16.269Z"
   },
   {
    "duration": 8,
    "start_time": "2021-12-06T16:34:16.814Z"
   },
   {
    "duration": 53,
    "start_time": "2021-12-06T16:35:02.281Z"
   },
   {
    "duration": 12,
    "start_time": "2021-12-06T16:35:02.872Z"
   },
   {
    "duration": 7,
    "start_time": "2021-12-06T16:35:05.182Z"
   },
   {
    "duration": 7,
    "start_time": "2021-12-06T16:35:06.249Z"
   },
   {
    "duration": 38,
    "start_time": "2021-12-06T16:35:08.422Z"
   },
   {
    "duration": 7,
    "start_time": "2021-12-06T16:35:09.156Z"
   },
   {
    "duration": 260,
    "start_time": "2021-12-06T16:39:17.283Z"
   },
   {
    "duration": 11,
    "start_time": "2021-12-06T16:39:30.199Z"
   },
   {
    "duration": 4,
    "start_time": "2021-12-06T16:39:42.611Z"
   },
   {
    "duration": 5,
    "start_time": "2021-12-06T16:43:22.285Z"
   },
   {
    "duration": 4,
    "start_time": "2021-12-06T16:43:23.070Z"
   },
   {
    "duration": 52,
    "start_time": "2021-12-06T16:44:10.902Z"
   },
   {
    "duration": 12,
    "start_time": "2021-12-06T16:44:11.391Z"
   },
   {
    "duration": 7,
    "start_time": "2021-12-06T16:44:13.400Z"
   },
   {
    "duration": 6,
    "start_time": "2021-12-06T16:44:15.071Z"
   },
   {
    "duration": 39,
    "start_time": "2021-12-06T16:44:16.805Z"
   },
   {
    "duration": 6,
    "start_time": "2021-12-06T16:44:17.484Z"
   },
   {
    "duration": 6,
    "start_time": "2021-12-06T16:44:19.768Z"
   },
   {
    "duration": 5,
    "start_time": "2021-12-06T16:44:21.829Z"
   },
   {
    "duration": 4,
    "start_time": "2021-12-06T16:44:23.082Z"
   },
   {
    "duration": 7,
    "start_time": "2021-12-06T16:44:26.076Z"
   },
   {
    "duration": 4,
    "start_time": "2021-12-06T16:44:27.626Z"
   },
   {
    "duration": 6,
    "start_time": "2021-12-06T16:46:15.520Z"
   },
   {
    "duration": 921,
    "start_time": "2021-12-07T06:31:04.342Z"
   },
   {
    "duration": 33,
    "start_time": "2021-12-07T06:31:05.265Z"
   },
   {
    "duration": 8,
    "start_time": "2021-12-07T06:31:05.301Z"
   },
   {
    "duration": 8,
    "start_time": "2021-12-07T06:31:05.312Z"
   },
   {
    "duration": 661,
    "start_time": "2021-12-07T06:31:05.322Z"
   },
   {
    "duration": -22914,
    "start_time": "2021-12-07T06:31:28.903Z"
   },
   {
    "duration": -22922,
    "start_time": "2021-12-07T06:31:28.912Z"
   },
   {
    "duration": -22923,
    "start_time": "2021-12-07T06:31:28.915Z"
   },
   {
    "duration": -22924,
    "start_time": "2021-12-07T06:31:28.919Z"
   },
   {
    "duration": -22925,
    "start_time": "2021-12-07T06:31:28.922Z"
   },
   {
    "duration": -22926,
    "start_time": "2021-12-07T06:31:28.925Z"
   },
   {
    "duration": -22927,
    "start_time": "2021-12-07T06:31:28.928Z"
   },
   {
    "duration": -22927,
    "start_time": "2021-12-07T06:31:28.930Z"
   },
   {
    "duration": -22928,
    "start_time": "2021-12-07T06:31:28.933Z"
   },
   {
    "duration": -22932,
    "start_time": "2021-12-07T06:31:28.940Z"
   },
   {
    "duration": -22932,
    "start_time": "2021-12-07T06:31:28.942Z"
   },
   {
    "duration": -22947,
    "start_time": "2021-12-07T06:31:28.959Z"
   },
   {
    "duration": -22952,
    "start_time": "2021-12-07T06:31:28.966Z"
   },
   {
    "duration": -22952,
    "start_time": "2021-12-07T06:31:28.968Z"
   },
   {
    "duration": -22952,
    "start_time": "2021-12-07T06:31:28.971Z"
   },
   {
    "duration": -22953,
    "start_time": "2021-12-07T06:31:28.974Z"
   },
   {
    "duration": -22954,
    "start_time": "2021-12-07T06:31:28.977Z"
   },
   {
    "duration": -22954,
    "start_time": "2021-12-07T06:31:28.979Z"
   },
   {
    "duration": -22922,
    "start_time": "2021-12-07T06:31:28.982Z"
   },
   {
    "duration": -22927,
    "start_time": "2021-12-07T06:31:28.989Z"
   },
   {
    "duration": -22928,
    "start_time": "2021-12-07T06:31:28.992Z"
   },
   {
    "duration": -22929,
    "start_time": "2021-12-07T06:31:28.995Z"
   },
   {
    "duration": -22929,
    "start_time": "2021-12-07T06:31:28.997Z"
   },
   {
    "duration": -22930,
    "start_time": "2021-12-07T06:31:29.000Z"
   },
   {
    "duration": -22935,
    "start_time": "2021-12-07T06:31:29.007Z"
   },
   {
    "duration": -22936,
    "start_time": "2021-12-07T06:31:29.010Z"
   },
   {
    "duration": -22937,
    "start_time": "2021-12-07T06:31:29.013Z"
   },
   {
    "duration": -22937,
    "start_time": "2021-12-07T06:31:29.015Z"
   },
   {
    "duration": -22937,
    "start_time": "2021-12-07T06:31:29.017Z"
   },
   {
    "duration": -22949,
    "start_time": "2021-12-07T06:31:29.031Z"
   },
   {
    "duration": -23026,
    "start_time": "2021-12-07T06:31:29.110Z"
   },
   {
    "duration": -23044,
    "start_time": "2021-12-07T06:31:29.130Z"
   },
   {
    "duration": -23044,
    "start_time": "2021-12-07T06:31:29.132Z"
   },
   {
    "duration": -23044,
    "start_time": "2021-12-07T06:31:29.134Z"
   },
   {
    "duration": -23045,
    "start_time": "2021-12-07T06:31:29.137Z"
   },
   {
    "duration": -23046,
    "start_time": "2021-12-07T06:31:29.139Z"
   },
   {
    "duration": -23046,
    "start_time": "2021-12-07T06:31:29.141Z"
   },
   {
    "duration": -23051,
    "start_time": "2021-12-07T06:31:29.148Z"
   },
   {
    "duration": -23052,
    "start_time": "2021-12-07T06:31:29.151Z"
   },
   {
    "duration": -22994,
    "start_time": "2021-12-07T06:31:29.154Z"
   },
   {
    "duration": -22994,
    "start_time": "2021-12-07T06:31:29.156Z"
   },
   {
    "duration": -22995,
    "start_time": "2021-12-07T06:31:29.159Z"
   },
   {
    "duration": -22996,
    "start_time": "2021-12-07T06:31:29.162Z"
   },
   {
    "duration": -22996,
    "start_time": "2021-12-07T06:31:29.164Z"
   },
   {
    "duration": -23006,
    "start_time": "2021-12-07T06:31:29.176Z"
   },
   {
    "duration": -23006,
    "start_time": "2021-12-07T06:31:29.178Z"
   },
   {
    "duration": -23007,
    "start_time": "2021-12-07T06:31:29.181Z"
   },
   {
    "duration": 61,
    "start_time": "2021-12-07T06:32:01.659Z"
   },
   {
    "duration": 9,
    "start_time": "2021-12-07T06:32:10.958Z"
   },
   {
    "duration": 8,
    "start_time": "2021-12-07T06:32:12.633Z"
   },
   {
    "duration": 8,
    "start_time": "2021-12-07T06:32:13.826Z"
   },
   {
    "duration": 7,
    "start_time": "2021-12-07T06:32:14.749Z"
   },
   {
    "duration": 10,
    "start_time": "2021-12-07T06:39:20.259Z"
   },
   {
    "duration": 15,
    "start_time": "2021-12-07T06:39:20.452Z"
   },
   {
    "duration": 27,
    "start_time": "2021-12-07T06:39:21.196Z"
   },
   {
    "duration": 13,
    "start_time": "2021-12-07T06:39:22.255Z"
   },
   {
    "duration": 21,
    "start_time": "2021-12-07T06:39:22.820Z"
   },
   {
    "duration": 57,
    "start_time": "2021-12-07T06:39:23.904Z"
   },
   {
    "duration": 56,
    "start_time": "2021-12-07T06:39:24.263Z"
   },
   {
    "duration": 7,
    "start_time": "2021-12-07T06:39:24.894Z"
   },
   {
    "duration": 20,
    "start_time": "2021-12-07T06:39:39.116Z"
   },
   {
    "duration": 14,
    "start_time": "2021-12-07T06:39:39.418Z"
   },
   {
    "duration": 5,
    "start_time": "2021-12-07T06:44:23.100Z"
   },
   {
    "duration": 5,
    "start_time": "2021-12-07T06:44:23.298Z"
   },
   {
    "duration": 17,
    "start_time": "2021-12-07T06:44:23.511Z"
   },
   {
    "duration": 16,
    "start_time": "2021-12-07T06:44:23.702Z"
   },
   {
    "duration": 17,
    "start_time": "2021-12-07T06:45:47.569Z"
   },
   {
    "duration": 32,
    "start_time": "2021-12-07T06:45:47.914Z"
   },
   {
    "duration": 25,
    "start_time": "2021-12-07T06:45:48.077Z"
   },
   {
    "duration": 24,
    "start_time": "2021-12-07T06:45:48.264Z"
   },
   {
    "duration": 7,
    "start_time": "2021-12-07T06:45:48.486Z"
   },
   {
    "duration": 24,
    "start_time": "2021-12-07T06:45:48.912Z"
   },
   {
    "duration": 6,
    "start_time": "2021-12-07T06:45:51.387Z"
   },
   {
    "duration": 17,
    "start_time": "2021-12-07T06:45:52.792Z"
   },
   {
    "duration": 3226,
    "start_time": "2021-12-07T06:45:54.860Z"
   },
   {
    "duration": 6,
    "start_time": "2021-12-07T06:47:46.157Z"
   },
   {
    "duration": 4095,
    "start_time": "2021-12-07T06:47:46.713Z"
   },
   {
    "duration": 18,
    "start_time": "2021-12-07T06:47:50.812Z"
   },
   {
    "duration": 27,
    "start_time": "2021-12-07T06:47:50.834Z"
   },
   {
    "duration": 4,
    "start_time": "2021-12-07T06:47:59.120Z"
   },
   {
    "duration": 12,
    "start_time": "2021-12-07T06:47:59.549Z"
   },
   {
    "duration": 18,
    "start_time": "2021-12-07T06:47:59.915Z"
   },
   {
    "duration": 4,
    "start_time": "2021-12-07T06:48:07.807Z"
   },
   {
    "duration": 11,
    "start_time": "2021-12-07T06:48:08.018Z"
   },
   {
    "duration": 20,
    "start_time": "2021-12-07T06:50:52.045Z"
   },
   {
    "duration": 46,
    "start_time": "2021-12-07T06:50:57.659Z"
   },
   {
    "duration": 43,
    "start_time": "2021-12-07T06:50:59.433Z"
   },
   {
    "duration": 4,
    "start_time": "2021-12-07T06:50:59.922Z"
   },
   {
    "duration": 30,
    "start_time": "2021-12-07T06:51:00.152Z"
   },
   {
    "duration": 49,
    "start_time": "2021-12-07T06:51:00.354Z"
   },
   {
    "duration": 43,
    "start_time": "2021-12-07T06:51:03.836Z"
   },
   {
    "duration": 43,
    "start_time": "2021-12-07T06:51:51.852Z"
   },
   {
    "duration": 45,
    "start_time": "2021-12-07T06:52:12.088Z"
   },
   {
    "duration": 11,
    "start_time": "2021-12-07T06:52:33.641Z"
   },
   {
    "duration": 797,
    "start_time": "2021-12-07T06:52:39.576Z"
   },
   {
    "duration": 29,
    "start_time": "2021-12-07T06:52:40.376Z"
   },
   {
    "duration": 8,
    "start_time": "2021-12-07T06:52:40.412Z"
   },
   {
    "duration": 37,
    "start_time": "2021-12-07T06:52:40.423Z"
   },
   {
    "duration": 367,
    "start_time": "2021-12-07T06:52:40.463Z"
   },
   {
    "duration": -22877,
    "start_time": "2021-12-07T06:53:03.712Z"
   },
   {
    "duration": -22895,
    "start_time": "2021-12-07T06:53:03.731Z"
   },
   {
    "duration": -22899,
    "start_time": "2021-12-07T06:53:03.736Z"
   },
   {
    "duration": -22901,
    "start_time": "2021-12-07T06:53:03.740Z"
   },
   {
    "duration": -22910,
    "start_time": "2021-12-07T06:53:03.750Z"
   },
   {
    "duration": -22912,
    "start_time": "2021-12-07T06:53:03.754Z"
   },
   {
    "duration": -22914,
    "start_time": "2021-12-07T06:53:03.757Z"
   },
   {
    "duration": -22916,
    "start_time": "2021-12-07T06:53:03.760Z"
   },
   {
    "duration": -22918,
    "start_time": "2021-12-07T06:53:03.764Z"
   },
   {
    "duration": -22920,
    "start_time": "2021-12-07T06:53:03.768Z"
   },
   {
    "duration": -22922,
    "start_time": "2021-12-07T06:53:03.772Z"
   },
   {
    "duration": -22923,
    "start_time": "2021-12-07T06:53:03.774Z"
   },
   {
    "duration": -22925,
    "start_time": "2021-12-07T06:53:03.777Z"
   },
   {
    "duration": -22926,
    "start_time": "2021-12-07T06:53:03.780Z"
   },
   {
    "duration": -22927,
    "start_time": "2021-12-07T06:53:03.783Z"
   },
   {
    "duration": -22929,
    "start_time": "2021-12-07T06:53:03.786Z"
   },
   {
    "duration": -22937,
    "start_time": "2021-12-07T06:53:03.796Z"
   },
   {
    "duration": -22939,
    "start_time": "2021-12-07T06:53:03.799Z"
   },
   {
    "duration": -22940,
    "start_time": "2021-12-07T06:53:03.802Z"
   },
   {
    "duration": -22941,
    "start_time": "2021-12-07T06:53:03.804Z"
   },
   {
    "duration": -22942,
    "start_time": "2021-12-07T06:53:03.807Z"
   },
   {
    "duration": -22944,
    "start_time": "2021-12-07T06:53:03.810Z"
   },
   {
    "duration": -22944,
    "start_time": "2021-12-07T06:53:03.812Z"
   },
   {
    "duration": -22946,
    "start_time": "2021-12-07T06:53:03.815Z"
   },
   {
    "duration": -22947,
    "start_time": "2021-12-07T06:53:03.818Z"
   },
   {
    "duration": -22948,
    "start_time": "2021-12-07T06:53:03.820Z"
   },
   {
    "duration": -22950,
    "start_time": "2021-12-07T06:53:03.823Z"
   },
   {
    "duration": -22950,
    "start_time": "2021-12-07T06:53:03.825Z"
   },
   {
    "duration": -22952,
    "start_time": "2021-12-07T06:53:03.828Z"
   },
   {
    "duration": -22971,
    "start_time": "2021-12-07T06:53:03.849Z"
   },
   {
    "duration": -23007,
    "start_time": "2021-12-07T06:53:03.886Z"
   },
   {
    "duration": -23007,
    "start_time": "2021-12-07T06:53:03.888Z"
   },
   {
    "duration": -23009,
    "start_time": "2021-12-07T06:53:03.891Z"
   },
   {
    "duration": -23010,
    "start_time": "2021-12-07T06:53:03.894Z"
   },
   {
    "duration": -23013,
    "start_time": "2021-12-07T06:53:03.898Z"
   },
   {
    "duration": -23014,
    "start_time": "2021-12-07T06:53:03.901Z"
   },
   {
    "duration": -23016,
    "start_time": "2021-12-07T06:53:03.904Z"
   },
   {
    "duration": -23064,
    "start_time": "2021-12-07T06:53:03.954Z"
   },
   {
    "duration": -23066,
    "start_time": "2021-12-07T06:53:03.958Z"
   },
   {
    "duration": -23068,
    "start_time": "2021-12-07T06:53:03.961Z"
   },
   {
    "duration": -23069,
    "start_time": "2021-12-07T06:53:03.964Z"
   },
   {
    "duration": -23071,
    "start_time": "2021-12-07T06:53:03.967Z"
   },
   {
    "duration": -23071,
    "start_time": "2021-12-07T06:53:03.969Z"
   },
   {
    "duration": -23071,
    "start_time": "2021-12-07T06:53:03.971Z"
   },
   {
    "duration": -23011,
    "start_time": "2021-12-07T06:53:03.975Z"
   },
   {
    "duration": -23012,
    "start_time": "2021-12-07T06:53:03.977Z"
   },
   {
    "duration": -23013,
    "start_time": "2021-12-07T06:53:03.980Z"
   },
   {
    "duration": 8,
    "start_time": "2021-12-07T06:52:48.971Z"
   },
   {
    "duration": 8,
    "start_time": "2021-12-07T06:52:49.880Z"
   },
   {
    "duration": 8,
    "start_time": "2021-12-07T06:52:50.305Z"
   },
   {
    "duration": 7,
    "start_time": "2021-12-07T06:52:50.519Z"
   },
   {
    "duration": 10,
    "start_time": "2021-12-07T06:52:52.295Z"
   },
   {
    "duration": 9,
    "start_time": "2021-12-07T06:52:52.308Z"
   },
   {
    "duration": 10,
    "start_time": "2021-12-07T06:52:52.374Z"
   },
   {
    "duration": 10,
    "start_time": "2021-12-07T06:52:52.621Z"
   },
   {
    "duration": 27,
    "start_time": "2021-12-07T06:52:53.329Z"
   },
   {
    "duration": 13,
    "start_time": "2021-12-07T06:52:53.714Z"
   },
   {
    "duration": 21,
    "start_time": "2021-12-07T06:52:53.937Z"
   },
   {
    "duration": 58,
    "start_time": "2021-12-07T06:52:54.321Z"
   },
   {
    "duration": 55,
    "start_time": "2021-12-07T06:52:54.533Z"
   },
   {
    "duration": 6,
    "start_time": "2021-12-07T06:52:54.740Z"
   },
   {
    "duration": 20,
    "start_time": "2021-12-07T06:52:55.375Z"
   },
   {
    "duration": 15,
    "start_time": "2021-12-07T06:52:55.589Z"
   },
   {
    "duration": 6,
    "start_time": "2021-12-07T06:52:57.181Z"
   },
   {
    "duration": 5,
    "start_time": "2021-12-07T06:52:57.409Z"
   },
   {
    "duration": 16,
    "start_time": "2021-12-07T06:52:57.657Z"
   },
   {
    "duration": 17,
    "start_time": "2021-12-07T06:52:57.873Z"
   },
   {
    "duration": 16,
    "start_time": "2021-12-07T06:52:59.611Z"
   },
   {
    "duration": 25,
    "start_time": "2021-12-07T06:52:59.873Z"
   },
   {
    "duration": 28,
    "start_time": "2021-12-07T06:53:00.060Z"
   },
   {
    "duration": 24,
    "start_time": "2021-12-07T06:53:00.253Z"
   },
   {
    "duration": 7,
    "start_time": "2021-12-07T06:53:00.508Z"
   },
   {
    "duration": 26,
    "start_time": "2021-12-07T06:53:00.671Z"
   },
   {
    "duration": 7,
    "start_time": "2021-12-07T06:53:00.888Z"
   },
   {
    "duration": 17,
    "start_time": "2021-12-07T06:53:01.111Z"
   },
   {
    "duration": 3154,
    "start_time": "2021-12-07T06:53:02.156Z"
   },
   {
    "duration": 5,
    "start_time": "2021-12-07T06:53:05.313Z"
   },
   {
    "duration": 4059,
    "start_time": "2021-12-07T06:53:05.321Z"
   },
   {
    "duration": 16,
    "start_time": "2021-12-07T06:53:09.382Z"
   },
   {
    "duration": 8,
    "start_time": "2021-12-07T06:53:09.401Z"
   },
   {
    "duration": 4,
    "start_time": "2021-12-07T06:53:09.412Z"
   },
   {
    "duration": 45,
    "start_time": "2021-12-07T06:53:09.419Z"
   },
   {
    "duration": 19,
    "start_time": "2021-12-07T06:53:09.466Z"
   },
   {
    "duration": 4,
    "start_time": "2021-12-07T06:53:09.488Z"
   },
   {
    "duration": 12,
    "start_time": "2021-12-07T06:53:09.495Z"
   },
   {
    "duration": 52,
    "start_time": "2021-12-07T06:53:09.509Z"
   },
   {
    "duration": 48,
    "start_time": "2021-12-07T06:53:10.399Z"
   },
   {
    "duration": 51,
    "start_time": "2021-12-07T06:53:11.597Z"
   },
   {
    "duration": 4,
    "start_time": "2021-12-07T06:53:12.298Z"
   },
   {
    "duration": 30,
    "start_time": "2021-12-07T06:53:12.543Z"
   },
   {
    "duration": 47,
    "start_time": "2021-12-07T06:53:12.829Z"
   },
   {
    "duration": 45,
    "start_time": "2021-12-07T06:53:14.185Z"
   },
   {
    "duration": 48,
    "start_time": "2021-12-07T06:53:16.256Z"
   },
   {
    "duration": 45,
    "start_time": "2021-12-07T06:53:19.424Z"
   },
   {
    "duration": 306,
    "start_time": "2021-12-07T09:37:09.938Z"
   },
   {
    "duration": 621,
    "start_time": "2021-12-07T09:37:17.277Z"
   },
   {
    "duration": 16,
    "start_time": "2021-12-07T09:37:17.900Z"
   },
   {
    "duration": 5,
    "start_time": "2021-12-07T09:37:19.837Z"
   },
   {
    "duration": 5,
    "start_time": "2021-12-07T09:37:20.785Z"
   },
   {
    "duration": 39,
    "start_time": "2021-12-07T09:37:21.656Z"
   },
   {
    "duration": 6,
    "start_time": "2021-12-07T09:37:26.397Z"
   },
   {
    "duration": 6,
    "start_time": "2021-12-07T09:37:30.618Z"
   },
   {
    "duration": 6,
    "start_time": "2021-12-07T09:37:31.617Z"
   },
   {
    "duration": 5,
    "start_time": "2021-12-07T09:37:32.089Z"
   },
   {
    "duration": 7,
    "start_time": "2021-12-07T09:37:33.074Z"
   },
   {
    "duration": 5,
    "start_time": "2021-12-07T09:37:33.529Z"
   },
   {
    "duration": 7,
    "start_time": "2021-12-07T09:37:51.789Z"
   },
   {
    "duration": 9,
    "start_time": "2021-12-07T09:37:52.194Z"
   },
   {
    "duration": 15,
    "start_time": "2021-12-07T09:37:53.569Z"
   },
   {
    "duration": 9,
    "start_time": "2021-12-07T09:37:55.717Z"
   },
   {
    "duration": 14,
    "start_time": "2021-12-07T09:37:56.397Z"
   },
   {
    "duration": 36,
    "start_time": "2021-12-07T09:37:57.457Z"
   },
   {
    "duration": 37,
    "start_time": "2021-12-07T09:37:57.768Z"
   },
   {
    "duration": 4,
    "start_time": "2021-12-07T09:37:58.348Z"
   },
   {
    "duration": 11,
    "start_time": "2021-12-07T09:38:15.792Z"
   },
   {
    "duration": 10,
    "start_time": "2021-12-07T09:38:16.516Z"
   },
   {
    "duration": 4,
    "start_time": "2021-12-07T09:38:20.664Z"
   },
   {
    "duration": 4,
    "start_time": "2021-12-07T09:38:21.050Z"
   },
   {
    "duration": 12,
    "start_time": "2021-12-07T09:38:21.488Z"
   },
   {
    "duration": 10,
    "start_time": "2021-12-07T09:38:22.089Z"
   },
   {
    "duration": 11,
    "start_time": "2021-12-07T09:38:35.860Z"
   },
   {
    "duration": 18,
    "start_time": "2021-12-07T09:38:36.769Z"
   },
   {
    "duration": 18,
    "start_time": "2021-12-07T09:38:37.357Z"
   },
   {
    "duration": 15,
    "start_time": "2021-12-07T09:38:37.985Z"
   },
   {
    "duration": 5,
    "start_time": "2021-12-07T09:38:38.269Z"
   },
   {
    "duration": 17,
    "start_time": "2021-12-07T09:38:38.792Z"
   },
   {
    "duration": 5,
    "start_time": "2021-12-07T09:38:39.388Z"
   },
   {
    "duration": 10,
    "start_time": "2021-12-07T09:38:39.897Z"
   },
   {
    "duration": 2127,
    "start_time": "2021-12-07T09:38:41.896Z"
   },
   {
    "duration": 3,
    "start_time": "2021-12-07T09:40:22.273Z"
   },
   {
    "duration": 2658,
    "start_time": "2021-12-07T09:40:23.029Z"
   },
   {
    "duration": 10,
    "start_time": "2021-12-07T09:40:25.689Z"
   },
   {
    "duration": 7,
    "start_time": "2021-12-07T09:40:25.701Z"
   },
   {
    "duration": 4,
    "start_time": "2021-12-07T09:40:25.709Z"
   },
   {
    "duration": 8,
    "start_time": "2021-12-07T09:40:25.951Z"
   },
   {
    "duration": 11,
    "start_time": "2021-12-07T09:40:26.428Z"
   },
   {
    "duration": 3,
    "start_time": "2021-12-07T09:41:21.655Z"
   },
   {
    "duration": 7,
    "start_time": "2021-12-07T09:41:22.035Z"
   }
  ],
  "kernelspec": {
   "display_name": "Python 3 (ipykernel)",
   "language": "python",
   "name": "python3"
  },
  "language_info": {
   "codemirror_mode": {
    "name": "ipython",
    "version": 3
   },
   "file_extension": ".py",
   "mimetype": "text/x-python",
   "name": "python",
   "nbconvert_exporter": "python",
   "pygments_lexer": "ipython3",
   "version": "3.7.8"
  },
  "toc": {
   "base_numbering": 1,
   "nav_menu": {},
   "number_sections": true,
   "sideBar": true,
   "skip_h1_title": true,
   "title_cell": "Table of Contents",
   "title_sidebar": "Contents",
   "toc_cell": false,
   "toc_position": {
    "height": "calc(100% - 180px)",
    "left": "10px",
    "top": "150px",
    "width": "310px"
   },
   "toc_section_display": true,
   "toc_window_display": true
  }
 },
 "nbformat": 4,
 "nbformat_minor": 2
}
