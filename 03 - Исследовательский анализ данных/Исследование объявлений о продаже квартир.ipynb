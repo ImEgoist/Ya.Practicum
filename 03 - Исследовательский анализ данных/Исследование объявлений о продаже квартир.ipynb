{
 "cells": [
  {
   "cell_type": "markdown",
   "metadata": {
    "toc": true
   },
   "source": [
    "<h1>Содержание<span class=\"tocSkip\"></span></h1>\n",
    "<div class=\"toc\"><ul class=\"toc-item\"><li><span><a href=\"#Изучение-данных-из-файла\" data-toc-modified-id=\"Изучение-данных-из-файла-1\"><span class=\"toc-item-num\">1&nbsp;&nbsp;</span>Изучение данных из файла</a></span><ul class=\"toc-item\"><li><span><a href=\"#Вывод\" data-toc-modified-id=\"Вывод-1.1\"><span class=\"toc-item-num\">1.1&nbsp;&nbsp;</span>Вывод</a></span></li></ul></li><li><span><a href=\"#Предобработка-данных\" data-toc-modified-id=\"Предобработка-данных-2\"><span class=\"toc-item-num\">2&nbsp;&nbsp;</span>Предобработка данных</a></span><ul class=\"toc-item\"><li><span><a href=\"#Проверим-данные-на-наличие-явных-дубликатов.\" data-toc-modified-id=\"Проверим-данные-на-наличие-явных-дубликатов.-2.1\"><span class=\"toc-item-num\">2.1&nbsp;&nbsp;</span>Проверим данные на наличие явных дубликатов.</a></span></li><li><span><a href=\"#Обработка-пропусков\" data-toc-modified-id=\"Обработка-пропусков-2.2\"><span class=\"toc-item-num\">2.2&nbsp;&nbsp;</span>Обработка пропусков</a></span></li><li><span><a href=\"#Посмотрим-на-названия-населённых-пунктов.\" data-toc-modified-id=\"Посмотрим-на-названия-населённых-пунктов.-2.3\"><span class=\"toc-item-num\">2.3&nbsp;&nbsp;</span>Посмотрим на названия населённых пунктов.</a></span></li><li><span><a href=\"#Пропуски-в-колонке-со-счётом-дней-по-объявлениям\" data-toc-modified-id=\"Пропуски-в-колонке-со-счётом-дней-по-объявлениям-2.4\"><span class=\"toc-item-num\">2.4&nbsp;&nbsp;</span>Пропуски в колонке со счётом дней по объявлениям</a></span></li><li><span><a href=\"#Площади\" data-toc-modified-id=\"Площади-2.5\"><span class=\"toc-item-num\">2.5&nbsp;&nbsp;</span>Площади</a></span></li><li><span><a href=\"#Вывод\" data-toc-modified-id=\"Вывод-2.6\"><span class=\"toc-item-num\">2.6&nbsp;&nbsp;</span>Вывод</a></span></li></ul></li><li><span><a href=\"#Расчёты-и-добавление-результатов-в-таблицу\" data-toc-modified-id=\"Расчёты-и-добавление-результатов-в-таблицу-3\"><span class=\"toc-item-num\">3&nbsp;&nbsp;</span>Расчёты и добавление результатов в таблицу</a></span><ul class=\"toc-item\"><li><span><a href=\"#Месяц,-год,-день-недели\" data-toc-modified-id=\"Месяц,-год,-день-недели-3.1\"><span class=\"toc-item-num\">3.1&nbsp;&nbsp;</span>Месяц, год, день недели</a></span></li><li><span><a href=\"#Цена-квадратного-метра\" data-toc-modified-id=\"Цена-квадратного-метра-3.2\"><span class=\"toc-item-num\">3.2&nbsp;&nbsp;</span>Цена квадратного метра</a></span></li><li><span><a href=\"#Соотношение-площадей\" data-toc-modified-id=\"Соотношение-площадей-3.3\"><span class=\"toc-item-num\">3.3&nbsp;&nbsp;</span>Соотношение площадей</a></span></li><li><span><a href=\"#Этажи\" data-toc-modified-id=\"Этажи-3.4\"><span class=\"toc-item-num\">3.4&nbsp;&nbsp;</span>Этажи</a></span></li><li><span><a href=\"#Вывод\" data-toc-modified-id=\"Вывод-3.5\"><span class=\"toc-item-num\">3.5&nbsp;&nbsp;</span>Вывод</a></span></li></ul></li><li><span><a href=\"#Исследовательский-анализ-данных\" data-toc-modified-id=\"Исследовательский-анализ-данных-4\"><span class=\"toc-item-num\">4&nbsp;&nbsp;</span>Исследовательский анализ данных</a></span><ul class=\"toc-item\"><li><span><a href=\"#Изучение-параметров\" data-toc-modified-id=\"Изучение-параметров-4.1\"><span class=\"toc-item-num\">4.1&nbsp;&nbsp;</span>Изучение параметров</a></span></li><li><span><a href=\"#Время-продажи-квартиры\" data-toc-modified-id=\"Время-продажи-квартиры-4.2\"><span class=\"toc-item-num\">4.2&nbsp;&nbsp;</span>Время продажи квартиры</a></span></li><li><span><a href=\"#Редкие-и-выбивающиеся-значения\" data-toc-modified-id=\"Редкие-и-выбивающиеся-значения-4.3\"><span class=\"toc-item-num\">4.3&nbsp;&nbsp;</span>Редкие и выбивающиеся значения</a></span></li><li><span><a href=\"#Вывод\" data-toc-modified-id=\"Вывод-4.4\"><span class=\"toc-item-num\">4.4&nbsp;&nbsp;</span>Вывод</a></span></li><li><span><a href=\"#Факторы,-влияющие-на-стоимость\" data-toc-modified-id=\"Факторы,-влияющие-на-стоимость-4.5\"><span class=\"toc-item-num\">4.5&nbsp;&nbsp;</span>Факторы, влияющие на стоимость</a></span></li><li><span><a href=\"#Топ-10-населённых-пунктов\" data-toc-modified-id=\"Топ-10-населённых-пунктов-4.6\"><span class=\"toc-item-num\">4.6&nbsp;&nbsp;</span>Топ-10 населённых пунктов</a></span></li><li><span><a href=\"#Расстояние-до-центра\" data-toc-modified-id=\"Расстояние-до-центра-4.7\"><span class=\"toc-item-num\">4.7&nbsp;&nbsp;</span>Расстояние до центра</a></span></li></ul></li><li><span><a href=\"#Общий-вывод\" data-toc-modified-id=\"Общий-вывод-5\"><span class=\"toc-item-num\">5&nbsp;&nbsp;</span>Общий вывод</a></span></li><li><span><a href=\"#Чек-лист-готовности-проекта\" data-toc-modified-id=\"Чек-лист-готовности-проекта-6\"><span class=\"toc-item-num\">6&nbsp;&nbsp;</span>Чек-лист готовности проекта</a></span></li></ul></div>"
   ]
  },
  {
   "cell_type": "markdown",
   "metadata": {},
   "source": [
    "# Исследование объявлений о продаже квартир\n",
    "\n",
    "В вашем распоряжении данные сервиса Яндекс.Недвижимость — архив объявлений о продаже квартир в Санкт-Петербурге и соседних населённых пунктах за несколько лет. Нужно научиться определять рыночную стоимость объектов недвижимости. Ваша задача — установить параметры. Это позволит построить автоматизированную систему: она отследит аномалии и мошенническую деятельность. \n",
    "\n",
    "По каждой квартире на продажу доступны два вида данных. Первые вписаны пользователем, вторые получены автоматически на основе картографических данных. Например, расстояние до центра, аэропорта, ближайшего парка и водоёма. \n",
    "\n",
    "__Описание данных__\n",
    "\n",
    "- airports_nearest — расстояние до ближайшего аэропорта в метрах (м)\n",
    "- balcony — число балконов\n",
    "- ceiling_height — высота потолков (м)\n",
    "- cityCenters_nearest — расстояние до центра города (м)\n",
    "- days_exposition — сколько дней было размещено объявление (от публикации до снятия)\n",
    "- first_day_exposition — дата публикации\n",
    "- floor — этаж\n",
    "- floors_total — всего этажей в доме\n",
    "- is_apartment — апартаменты (булев тип)\n",
    "- kitchen_area — площадь кухни в квадратных метрах (м²)\n",
    "- last_price — цена на момент снятия с публикации\n",
    "- living_area — жилая площадь в квадратных метрах (м²)\n",
    "- locality_name — название населённого пункта\n",
    "- open_plan — свободная планировка (булев тип)\n",
    "- parks_around3000 — число парков в радиусе 3 км\n",
    "- parks_nearest — расстояние до ближайшего парка (м)\n",
    "- ponds_around3000 — число водоёмов в радиусе 3 км\n",
    "- ponds_nearest — расстояние до ближайшего водоёма (м)\n",
    "- rooms — число комнат\n",
    "- studio — квартира-студия (булев тип)\n",
    "- total_area — площадь квартиры в квадратных метрах (м²)\n",
    "- total_images — число фотографий квартиры в объявлении"
   ]
  },
  {
   "cell_type": "markdown",
   "metadata": {},
   "source": [
    "## Изучение данных из файла"
   ]
  },
  {
   "cell_type": "code",
   "execution_count": 1,
   "metadata": {},
   "outputs": [],
   "source": [
    "import pandas as pd\n",
    "import matplotlib.pyplot as plt\n",
    "import warnings\n",
    "warnings.filterwarnings('ignore')\n",
    "pd.set_option('display.max_columns', None)"
   ]
  },
  {
   "cell_type": "markdown",
   "metadata": {},
   "source": [
    "Приступим к изучению файла. Прочитаем его, получим информацию о колонках и выведем первые 10 строк на экран."
   ]
  },
  {
   "cell_type": "code",
   "execution_count": 2,
   "metadata": {},
   "outputs": [],
   "source": [
    "try:\n",
    "    data = pd.read_csv('/datasets/real_estate_data.csv')\n",
    "except:\n",
    "    data = pd.read_csv('real_estate_data.csv')"
   ]
  },
  {
   "cell_type": "code",
   "execution_count": 3,
   "metadata": {},
   "outputs": [
    {
     "name": "stdout",
     "output_type": "stream",
     "text": [
      "<class 'pandas.core.frame.DataFrame'>\n",
      "RangeIndex: 23699 entries, 0 to 23698\n",
      "Data columns (total 1 columns):\n",
      "total_images\tlast_price\ttotal_area\tfirst_day_exposition\trooms\tceiling_height\tfloors_total\tliving_area\tfloor\tis_apartment\tstudio\topen_plan\tkitchen_area\tbalcony\tlocality_name\tairports_nearest\tcityCenters_nearest\tparks_around3000\tparks_nearest\tponds_around3000\tponds_nearest\tdays_exposition    23699 non-null object\n",
      "dtypes: object(1)\n",
      "memory usage: 185.3+ KB\n"
     ]
    }
   ],
   "source": [
    "data.info()"
   ]
  },
  {
   "cell_type": "code",
   "execution_count": 4,
   "metadata": {},
   "outputs": [
    {
     "data": {
      "text/html": [
       "<div>\n",
       "<style scoped>\n",
       "    .dataframe tbody tr th:only-of-type {\n",
       "        vertical-align: middle;\n",
       "    }\n",
       "\n",
       "    .dataframe tbody tr th {\n",
       "        vertical-align: top;\n",
       "    }\n",
       "\n",
       "    .dataframe thead th {\n",
       "        text-align: right;\n",
       "    }\n",
       "</style>\n",
       "<table border=\"1\" class=\"dataframe\">\n",
       "  <thead>\n",
       "    <tr style=\"text-align: right;\">\n",
       "      <th></th>\n",
       "      <th>total_images\\tlast_price\\ttotal_area\\tfirst_day_exposition\\trooms\\tceiling_height\\tfloors_total\\tliving_area\\tfloor\\tis_apartment\\tstudio\\topen_plan\\tkitchen_area\\tbalcony\\tlocality_name\\tairports_nearest\\tcityCenters_nearest\\tparks_around3000\\tparks_nearest\\tponds_around3000\\tponds_nearest\\tdays_exposition</th>\n",
       "    </tr>\n",
       "  </thead>\n",
       "  <tbody>\n",
       "    <tr>\n",
       "      <td>0</td>\n",
       "      <td>20\\t13000000.0\\t108.0\\t2019-03-07T00:00:00\\t3\\...</td>\n",
       "    </tr>\n",
       "    <tr>\n",
       "      <td>1</td>\n",
       "      <td>7\\t3350000.0\\t40.4\\t2018-12-04T00:00:00\\t1\\t\\t...</td>\n",
       "    </tr>\n",
       "    <tr>\n",
       "      <td>2</td>\n",
       "      <td>10\\t5196000.0\\t56.0\\t2015-08-20T00:00:00\\t2\\t\\...</td>\n",
       "    </tr>\n",
       "    <tr>\n",
       "      <td>3</td>\n",
       "      <td>0\\t64900000.0\\t159.0\\t2015-07-24T00:00:00\\t3\\t...</td>\n",
       "    </tr>\n",
       "    <tr>\n",
       "      <td>4</td>\n",
       "      <td>2\\t10000000.0\\t100.0\\t2018-06-19T00:00:00\\t2\\t...</td>\n",
       "    </tr>\n",
       "  </tbody>\n",
       "</table>\n",
       "</div>"
      ],
      "text/plain": [
       "  total_images\\tlast_price\\ttotal_area\\tfirst_day_exposition\\trooms\\tceiling_height\\tfloors_total\\tliving_area\\tfloor\\tis_apartment\\tstudio\\topen_plan\\tkitchen_area\\tbalcony\\tlocality_name\\tairports_nearest\\tcityCenters_nearest\\tparks_around3000\\tparks_nearest\\tponds_around3000\\tponds_nearest\\tdays_exposition\n",
       "0  20\\t13000000.0\\t108.0\\t2019-03-07T00:00:00\\t3\\...                                                                                                                                                                                                                                                                  \n",
       "1  7\\t3350000.0\\t40.4\\t2018-12-04T00:00:00\\t1\\t\\t...                                                                                                                                                                                                                                                                  \n",
       "2  10\\t5196000.0\\t56.0\\t2015-08-20T00:00:00\\t2\\t\\...                                                                                                                                                                                                                                                                  \n",
       "3  0\\t64900000.0\\t159.0\\t2015-07-24T00:00:00\\t3\\t...                                                                                                                                                                                                                                                                  \n",
       "4  2\\t10000000.0\\t100.0\\t2018-06-19T00:00:00\\t2\\t...                                                                                                                                                                                                                                                                  "
      ]
     },
     "execution_count": 4,
     "metadata": {},
     "output_type": "execute_result"
    }
   ],
   "source": [
    "data.head()"
   ]
  },
  {
   "cell_type": "markdown",
   "metadata": {},
   "source": [
    "Первая проблема налицо: все данные склеены в один ком. Добавим разделение символом \\t при прочтении файла"
   ]
  },
  {
   "cell_type": "code",
   "execution_count": 5,
   "metadata": {},
   "outputs": [
    {
     "data": {
      "text/html": [
       "<div>\n",
       "<style scoped>\n",
       "    .dataframe tbody tr th:only-of-type {\n",
       "        vertical-align: middle;\n",
       "    }\n",
       "\n",
       "    .dataframe tbody tr th {\n",
       "        vertical-align: top;\n",
       "    }\n",
       "\n",
       "    .dataframe thead th {\n",
       "        text-align: right;\n",
       "    }\n",
       "</style>\n",
       "<table border=\"1\" class=\"dataframe\">\n",
       "  <thead>\n",
       "    <tr style=\"text-align: right;\">\n",
       "      <th></th>\n",
       "      <th>total_images</th>\n",
       "      <th>last_price</th>\n",
       "      <th>total_area</th>\n",
       "      <th>first_day_exposition</th>\n",
       "      <th>rooms</th>\n",
       "      <th>ceiling_height</th>\n",
       "      <th>floors_total</th>\n",
       "      <th>living_area</th>\n",
       "      <th>floor</th>\n",
       "      <th>is_apartment</th>\n",
       "      <th>studio</th>\n",
       "      <th>open_plan</th>\n",
       "      <th>kitchen_area</th>\n",
       "      <th>balcony</th>\n",
       "      <th>locality_name</th>\n",
       "      <th>airports_nearest</th>\n",
       "      <th>cityCenters_nearest</th>\n",
       "      <th>parks_around3000</th>\n",
       "      <th>parks_nearest</th>\n",
       "      <th>ponds_around3000</th>\n",
       "      <th>ponds_nearest</th>\n",
       "      <th>days_exposition</th>\n",
       "    </tr>\n",
       "  </thead>\n",
       "  <tbody>\n",
       "    <tr>\n",
       "      <td>0</td>\n",
       "      <td>20</td>\n",
       "      <td>13000000.0</td>\n",
       "      <td>108.0</td>\n",
       "      <td>2019-03-07T00:00:00</td>\n",
       "      <td>3</td>\n",
       "      <td>2.70</td>\n",
       "      <td>16.0</td>\n",
       "      <td>51.0</td>\n",
       "      <td>8</td>\n",
       "      <td>NaN</td>\n",
       "      <td>False</td>\n",
       "      <td>False</td>\n",
       "      <td>25.0</td>\n",
       "      <td>NaN</td>\n",
       "      <td>Санкт-Петербург</td>\n",
       "      <td>18863.0</td>\n",
       "      <td>16028.0</td>\n",
       "      <td>1.0</td>\n",
       "      <td>482.0</td>\n",
       "      <td>2.0</td>\n",
       "      <td>755.0</td>\n",
       "      <td>NaN</td>\n",
       "    </tr>\n",
       "    <tr>\n",
       "      <td>1</td>\n",
       "      <td>7</td>\n",
       "      <td>3350000.0</td>\n",
       "      <td>40.4</td>\n",
       "      <td>2018-12-04T00:00:00</td>\n",
       "      <td>1</td>\n",
       "      <td>NaN</td>\n",
       "      <td>11.0</td>\n",
       "      <td>18.6</td>\n",
       "      <td>1</td>\n",
       "      <td>NaN</td>\n",
       "      <td>False</td>\n",
       "      <td>False</td>\n",
       "      <td>11.0</td>\n",
       "      <td>2.0</td>\n",
       "      <td>посёлок Шушары</td>\n",
       "      <td>12817.0</td>\n",
       "      <td>18603.0</td>\n",
       "      <td>0.0</td>\n",
       "      <td>NaN</td>\n",
       "      <td>0.0</td>\n",
       "      <td>NaN</td>\n",
       "      <td>81.0</td>\n",
       "    </tr>\n",
       "    <tr>\n",
       "      <td>2</td>\n",
       "      <td>10</td>\n",
       "      <td>5196000.0</td>\n",
       "      <td>56.0</td>\n",
       "      <td>2015-08-20T00:00:00</td>\n",
       "      <td>2</td>\n",
       "      <td>NaN</td>\n",
       "      <td>5.0</td>\n",
       "      <td>34.3</td>\n",
       "      <td>4</td>\n",
       "      <td>NaN</td>\n",
       "      <td>False</td>\n",
       "      <td>False</td>\n",
       "      <td>8.3</td>\n",
       "      <td>0.0</td>\n",
       "      <td>Санкт-Петербург</td>\n",
       "      <td>21741.0</td>\n",
       "      <td>13933.0</td>\n",
       "      <td>1.0</td>\n",
       "      <td>90.0</td>\n",
       "      <td>2.0</td>\n",
       "      <td>574.0</td>\n",
       "      <td>558.0</td>\n",
       "    </tr>\n",
       "    <tr>\n",
       "      <td>3</td>\n",
       "      <td>0</td>\n",
       "      <td>64900000.0</td>\n",
       "      <td>159.0</td>\n",
       "      <td>2015-07-24T00:00:00</td>\n",
       "      <td>3</td>\n",
       "      <td>NaN</td>\n",
       "      <td>14.0</td>\n",
       "      <td>NaN</td>\n",
       "      <td>9</td>\n",
       "      <td>NaN</td>\n",
       "      <td>False</td>\n",
       "      <td>False</td>\n",
       "      <td>NaN</td>\n",
       "      <td>0.0</td>\n",
       "      <td>Санкт-Петербург</td>\n",
       "      <td>28098.0</td>\n",
       "      <td>6800.0</td>\n",
       "      <td>2.0</td>\n",
       "      <td>84.0</td>\n",
       "      <td>3.0</td>\n",
       "      <td>234.0</td>\n",
       "      <td>424.0</td>\n",
       "    </tr>\n",
       "    <tr>\n",
       "      <td>4</td>\n",
       "      <td>2</td>\n",
       "      <td>10000000.0</td>\n",
       "      <td>100.0</td>\n",
       "      <td>2018-06-19T00:00:00</td>\n",
       "      <td>2</td>\n",
       "      <td>3.03</td>\n",
       "      <td>14.0</td>\n",
       "      <td>32.0</td>\n",
       "      <td>13</td>\n",
       "      <td>NaN</td>\n",
       "      <td>False</td>\n",
       "      <td>False</td>\n",
       "      <td>41.0</td>\n",
       "      <td>NaN</td>\n",
       "      <td>Санкт-Петербург</td>\n",
       "      <td>31856.0</td>\n",
       "      <td>8098.0</td>\n",
       "      <td>2.0</td>\n",
       "      <td>112.0</td>\n",
       "      <td>1.0</td>\n",
       "      <td>48.0</td>\n",
       "      <td>121.0</td>\n",
       "    </tr>\n",
       "  </tbody>\n",
       "</table>\n",
       "</div>"
      ],
      "text/plain": [
       "   total_images  last_price  total_area first_day_exposition  rooms  \\\n",
       "0            20  13000000.0       108.0  2019-03-07T00:00:00      3   \n",
       "1             7   3350000.0        40.4  2018-12-04T00:00:00      1   \n",
       "2            10   5196000.0        56.0  2015-08-20T00:00:00      2   \n",
       "3             0  64900000.0       159.0  2015-07-24T00:00:00      3   \n",
       "4             2  10000000.0       100.0  2018-06-19T00:00:00      2   \n",
       "\n",
       "   ceiling_height  floors_total  living_area  floor is_apartment  studio  \\\n",
       "0            2.70          16.0         51.0      8          NaN   False   \n",
       "1             NaN          11.0         18.6      1          NaN   False   \n",
       "2             NaN           5.0         34.3      4          NaN   False   \n",
       "3             NaN          14.0          NaN      9          NaN   False   \n",
       "4            3.03          14.0         32.0     13          NaN   False   \n",
       "\n",
       "   open_plan  kitchen_area  balcony    locality_name  airports_nearest  \\\n",
       "0      False          25.0      NaN  Санкт-Петербург           18863.0   \n",
       "1      False          11.0      2.0   посёлок Шушары           12817.0   \n",
       "2      False           8.3      0.0  Санкт-Петербург           21741.0   \n",
       "3      False           NaN      0.0  Санкт-Петербург           28098.0   \n",
       "4      False          41.0      NaN  Санкт-Петербург           31856.0   \n",
       "\n",
       "   cityCenters_nearest  parks_around3000  parks_nearest  ponds_around3000  \\\n",
       "0              16028.0               1.0          482.0               2.0   \n",
       "1              18603.0               0.0            NaN               0.0   \n",
       "2              13933.0               1.0           90.0               2.0   \n",
       "3               6800.0               2.0           84.0               3.0   \n",
       "4               8098.0               2.0          112.0               1.0   \n",
       "\n",
       "   ponds_nearest  days_exposition  \n",
       "0          755.0              NaN  \n",
       "1            NaN             81.0  \n",
       "2          574.0            558.0  \n",
       "3          234.0            424.0  \n",
       "4           48.0            121.0  "
      ]
     },
     "execution_count": 5,
     "metadata": {},
     "output_type": "execute_result"
    }
   ],
   "source": [
    "try:\n",
    "    data = pd.read_csv('/datasets/real_estate_data.csv', sep='\\t')\n",
    "except:\n",
    "    data = pd.read_csv('real_estate_data.csv', sep='\\t')\n",
    "\n",
    "data.head()"
   ]
  },
  {
   "cell_type": "markdown",
   "metadata": {},
   "source": [
    "Выглядит лучше!"
   ]
  },
  {
   "cell_type": "code",
   "execution_count": 6,
   "metadata": {},
   "outputs": [
    {
     "name": "stdout",
     "output_type": "stream",
     "text": [
      "<class 'pandas.core.frame.DataFrame'>\n",
      "RangeIndex: 23699 entries, 0 to 23698\n",
      "Data columns (total 22 columns):\n",
      "total_images            23699 non-null int64\n",
      "last_price              23699 non-null float64\n",
      "total_area              23699 non-null float64\n",
      "first_day_exposition    23699 non-null object\n",
      "rooms                   23699 non-null int64\n",
      "ceiling_height          14504 non-null float64\n",
      "floors_total            23613 non-null float64\n",
      "living_area             21796 non-null float64\n",
      "floor                   23699 non-null int64\n",
      "is_apartment            2775 non-null object\n",
      "studio                  23699 non-null bool\n",
      "open_plan               23699 non-null bool\n",
      "kitchen_area            21421 non-null float64\n",
      "balcony                 12180 non-null float64\n",
      "locality_name           23650 non-null object\n",
      "airports_nearest        18157 non-null float64\n",
      "cityCenters_nearest     18180 non-null float64\n",
      "parks_around3000        18181 non-null float64\n",
      "parks_nearest           8079 non-null float64\n",
      "ponds_around3000        18181 non-null float64\n",
      "ponds_nearest           9110 non-null float64\n",
      "days_exposition         20518 non-null float64\n",
      "dtypes: bool(2), float64(14), int64(3), object(3)\n",
      "memory usage: 3.7+ MB\n"
     ]
    }
   ],
   "source": [
    "data.info()"
   ]
  },
  {
   "cell_type": "markdown",
   "metadata": {},
   "source": [
    "### Вывод\n",
    "\n",
    "В данных достаточно много пропусков. У некоторых значений надо будет изменить тип. Цену, количество балконов, аэропорты, расстояние до центра точно стоит привести к типу int. С парками и водоёмами подумаем. "
   ]
  },
  {
   "cell_type": "markdown",
   "metadata": {},
   "source": [
    "## Предобработка данных"
   ]
  },
  {
   "cell_type": "markdown",
   "metadata": {},
   "source": [
    "### Проверим данные на наличие явных дубликатов."
   ]
  },
  {
   "cell_type": "code",
   "execution_count": 7,
   "metadata": {},
   "outputs": [
    {
     "data": {
      "text/plain": [
       "0"
      ]
     },
     "execution_count": 7,
     "metadata": {},
     "output_type": "execute_result"
    }
   ],
   "source": [
    "data.duplicated().sum()"
   ]
  },
  {
   "cell_type": "markdown",
   "metadata": {},
   "source": [
    "Явных дубликатов нет, посмотрим, что будет дальше.\n",
    "\n"
   ]
  },
  {
   "cell_type": "markdown",
   "metadata": {},
   "source": [
    "### Обработка пропусков\n",
    "\n",
    "Начну обрабатывать пропуски со столбца is_apartment. Тут всё должно быть просто: помещение или является апартаментами, или нет."
   ]
  },
  {
   "cell_type": "code",
   "execution_count": 8,
   "metadata": {
    "scrolled": false
   },
   "outputs": [
    {
     "data": {
      "text/plain": [
       "array([nan, False, True], dtype=object)"
      ]
     },
     "execution_count": 8,
     "metadata": {},
     "output_type": "execute_result"
    }
   ],
   "source": [
    "data['is_apartment'].unique()"
   ]
  },
  {
   "cell_type": "code",
   "execution_count": 9,
   "metadata": {},
   "outputs": [
    {
     "data": {
      "text/plain": [
       "20924"
      ]
     },
     "execution_count": 9,
     "metadata": {},
     "output_type": "execute_result"
    }
   ],
   "source": [
    "data['is_apartment'].isna().sum()"
   ]
  },
  {
   "cell_type": "markdown",
   "metadata": {},
   "source": [
    "Столбец должен содержать только булевые значения True или False, но не все указали, является ли помещение апартаментами. Предположу, что раз этот параметр люди не указывали, его можно заменить на False."
   ]
  },
  {
   "cell_type": "code",
   "execution_count": 10,
   "metadata": {
    "scrolled": true
   },
   "outputs": [
    {
     "data": {
      "text/plain": [
       "array([False,  True])"
      ]
     },
     "execution_count": 10,
     "metadata": {},
     "output_type": "execute_result"
    }
   ],
   "source": [
    "data['is_apartment'] = data['is_apartment'].fillna(False)\n",
    "\n",
    "data['is_apartment'].unique()"
   ]
  },
  {
   "cell_type": "code",
   "execution_count": 11,
   "metadata": {},
   "outputs": [
    {
     "data": {
      "text/plain": [
       "0"
      ]
     },
     "execution_count": 11,
     "metadata": {},
     "output_type": "execute_result"
    }
   ],
   "source": [
    "data['is_apartment'].isna().sum()"
   ]
  },
  {
   "cell_type": "markdown",
   "metadata": {},
   "source": [
    "Избавились от неизвестности с апартаментами. Идём дальше.\n",
    "\n",
    "Следующие на очереди балконы. Предположу, что если значение не заполнено, балконов в доме нет."
   ]
  },
  {
   "cell_type": "code",
   "execution_count": 12,
   "metadata": {},
   "outputs": [
    {
     "data": {
      "text/plain": [
       "11519"
      ]
     },
     "execution_count": 12,
     "metadata": {},
     "output_type": "execute_result"
    }
   ],
   "source": [
    "data['balcony'].isna().sum()"
   ]
  },
  {
   "cell_type": "code",
   "execution_count": 13,
   "metadata": {},
   "outputs": [
    {
     "data": {
      "text/plain": [
       "array([nan,  2.,  0.,  1.,  5.,  4.,  3.])"
      ]
     },
     "execution_count": 13,
     "metadata": {},
     "output_type": "execute_result"
    }
   ],
   "source": [
    "data['balcony'].unique()"
   ]
  },
  {
   "cell_type": "code",
   "execution_count": 14,
   "metadata": {},
   "outputs": [
    {
     "data": {
      "text/plain": [
       "0"
      ]
     },
     "execution_count": 14,
     "metadata": {},
     "output_type": "execute_result"
    }
   ],
   "source": [
    "data['balcony'] = data['balcony'].fillna(0)\n",
    "\n",
    "data['balcony'].isna().sum()"
   ]
  },
  {
   "cell_type": "markdown",
   "metadata": {},
   "source": [
    "### Посмотрим на названия населённых пунктов."
   ]
  },
  {
   "cell_type": "code",
   "execution_count": 15,
   "metadata": {},
   "outputs": [
    {
     "data": {
      "text/plain": [
       "array(['Бокситогорск', 'Волосово', 'Волхов', 'Всеволожск', 'Выборг',\n",
       "       'Высоцк', 'Гатчина', 'Зеленогорск', 'Ивангород', 'Каменногорск',\n",
       "       'Кингисепп', 'Кириши', 'Кировск', 'Колпино', 'Коммунар',\n",
       "       'Красное Село', 'Кронштадт', 'Кудрово', 'Лодейное Поле',\n",
       "       'Ломоносов', 'Луга', 'Любань', 'Мурино', 'Никольское',\n",
       "       'Новая Ладога', 'Отрадное', 'Павловск', 'Петергоф', 'Пикалёво',\n",
       "       'Подпорожье', 'Приморск', 'Приозерск', 'Пушкин', 'Санкт-Петербург',\n",
       "       'Светогорск', 'Сертолово', 'Сестрорецк', 'Сланцы', 'Сосновый Бор',\n",
       "       'Сясьстрой', 'Тихвин', 'Тосно', 'Шлиссельбург',\n",
       "       'городской поселок Большая Ижора', 'городской поселок Янино-1',\n",
       "       'городской посёлок Будогощь', 'городской посёлок Виллози',\n",
       "       'городской посёлок Лесогорский', 'городской посёлок Мга',\n",
       "       'городской посёлок Назия', 'городской посёлок Новоселье',\n",
       "       'городской посёлок Павлово', 'городской посёлок Рощино',\n",
       "       'городской посёлок Свирьстрой', 'городской посёлок Советский',\n",
       "       'городской посёлок Фёдоровское', 'городской посёлок Янино-1',\n",
       "       'деревня Агалатово', 'деревня Аро', 'деревня Батово',\n",
       "       'деревня Бегуницы', 'деревня Белогорка', 'деревня Большая Вруда',\n",
       "       'деревня Большая Пустомержа', 'деревня Большие Колпаны',\n",
       "       'деревня Большое Рейзино', 'деревня Большой Сабск', 'деревня Бор',\n",
       "       'деревня Борисова Грива', 'деревня Ваганово', 'деревня Вартемяги',\n",
       "       'деревня Вахнова Кара', 'деревня Выскатка', 'деревня Гарболово',\n",
       "       'деревня Глинка', 'деревня Горбунки', 'деревня Гостилицы',\n",
       "       'деревня Заклинье', 'деревня Заневка', 'деревня Зимитицы',\n",
       "       'деревня Извара', 'деревня Иссад', 'деревня Калитино',\n",
       "       'деревня Кальтино', 'деревня Камышовка', 'деревня Каськово',\n",
       "       'деревня Келози', 'деревня Кипень', 'деревня Кисельня',\n",
       "       'деревня Колтуши', 'деревня Коркино', 'деревня Котлы',\n",
       "       'деревня Кривко', 'деревня Кудрово', 'деревня Кузьмолово',\n",
       "       'деревня Курковицы', 'деревня Куровицы', 'деревня Куттузи',\n",
       "       'деревня Лаврики', 'деревня Лаголово', 'деревня Лампово',\n",
       "       'деревня Лесколово', 'деревня Лопухинка', 'деревня Лупполово',\n",
       "       'деревня Малая Романовка', 'деревня Малое Верево',\n",
       "       'деревня Малое Карлино', 'деревня Малые Колпаны',\n",
       "       'деревня Мануйлово', 'деревня Меньково', 'деревня Мины',\n",
       "       'деревня Мистолово', 'деревня Ненимяки', 'деревня Нижние Осельки',\n",
       "       'деревня Нижняя', 'деревня Низино', 'деревня Новое Девяткино',\n",
       "       'деревня Новолисино', 'деревня Нурма', 'деревня Оржицы',\n",
       "       'деревня Парицы', 'деревня Пельгора', 'деревня Пеники',\n",
       "       'деревня Пижма', 'деревня Пикколово', 'деревня Пудомяги',\n",
       "       'деревня Пустынка', 'деревня Пчева', 'деревня Рабитицы',\n",
       "       'деревня Разбегаево', 'деревня Раздолье', 'деревня Разметелево',\n",
       "       'деревня Рапполово', 'деревня Реброво', 'деревня Русско',\n",
       "       'деревня Сижно', 'деревня Снегирёвка', 'деревня Старая',\n",
       "       'деревня Старая Пустошь', 'деревня Старое Хинколово',\n",
       "       'деревня Старополье', 'деревня Старосиверская',\n",
       "       'деревня Старые Бегуницы', 'деревня Суоранда',\n",
       "       'деревня Сяськелево', 'деревня Тарасово', 'деревня Терпилицы',\n",
       "       'деревня Тихковицы', 'деревня Тойворово', 'деревня Торосово',\n",
       "       'деревня Торошковичи', 'деревня Трубников Бор',\n",
       "       'деревня Фалилеево', 'деревня Фёдоровское', 'деревня Хапо-Ое',\n",
       "       'деревня Хязельки', 'деревня Чудской Бор', 'деревня Шпаньково',\n",
       "       'деревня Щеглово', 'деревня Юкки', 'деревня Ялгино',\n",
       "       'деревня Яльгелево', 'деревня Ям-Тесово',\n",
       "       'коттеджный поселок Кивеннапа Север', 'коттеджный поселок Счастье',\n",
       "       'коттеджный посёлок Лесное', 'поселок Аннино', 'поселок Барышево',\n",
       "       'поселок Бугры', 'поселок Возрождение', 'поселок Войсковицы',\n",
       "       'поселок Володарское', 'поселок Гаврилово', 'поселок Гарболово',\n",
       "       'поселок Гладкое', 'поселок Глажево', 'поселок Глебычево',\n",
       "       'поселок Гончарово', 'поселок Громово', 'поселок Дружноселье',\n",
       "       'поселок Елизаветино', 'поселок Жилгородок', 'поселок Жилпосёлок',\n",
       "       'поселок Житково', 'поселок Заводской', 'поселок Запорожское',\n",
       "       'поселок Зимитицы', 'поселок Ильичёво', 'поселок Калитино',\n",
       "       'поселок Каложицы', 'поселок Кингисеппский', 'поселок Кирпичное',\n",
       "       'поселок Кобралово', 'поселок Кобринское', 'поселок Коммунары',\n",
       "       'поселок Коробицыно', 'поселок Котельский',\n",
       "       'поселок Красная Долина', 'поселок Красносельское',\n",
       "       'поселок Лесное', 'поселок Лисий Нос', 'поселок Лукаши',\n",
       "       'поселок Любань', 'поселок Мельниково', 'поселок Мичуринское',\n",
       "       'поселок Молодцово', 'поселок Мурино', 'поселок Новый Свет',\n",
       "       'поселок Новый Учхоз', 'поселок Оредеж',\n",
       "       'поселок Пансионат Зелёный Бор', 'поселок Первомайское',\n",
       "       'поселок Перово', 'поселок Петровское', 'поселок Победа',\n",
       "       'поселок Поляны', 'поселок Почап', 'поселок Починок',\n",
       "       'поселок Пушное', 'поселок Пчевжа', 'поселок Рабитицы',\n",
       "       'поселок Романовка', 'поселок Ромашки', 'поселок Рябово',\n",
       "       'поселок Севастьяново', 'поселок Селезнёво', 'поселок Сельцо',\n",
       "       'поселок Семиозерье', 'поселок Семрино', 'поселок Серебрянский',\n",
       "       'поселок Совхозный', 'поселок Старая Малукса',\n",
       "       'поселок Стеклянный', 'поселок Сумино', 'поселок Суходолье',\n",
       "       'поселок Тельмана', 'поселок Терволово', 'поселок Торковичи',\n",
       "       'поселок Тёсово-4', 'поселок Углово', 'поселок Усть-Луга',\n",
       "       'поселок Ушаки', 'поселок Цвелодубово', 'поселок Цвылёво',\n",
       "       'поселок городского типа Большая Ижора',\n",
       "       'поселок городского типа Вырица',\n",
       "       'поселок городского типа Дружная Горка',\n",
       "       'поселок городского типа Дубровка',\n",
       "       'поселок городского типа Ефимовский',\n",
       "       'поселок городского типа Кондратьево',\n",
       "       'поселок городского типа Красный Бор',\n",
       "       'поселок городского типа Кузьмоловский',\n",
       "       'поселок городского типа Лебяжье',\n",
       "       'поселок городского типа Лесогорский',\n",
       "       'поселок городского типа Назия',\n",
       "       'поселок городского типа Никольский',\n",
       "       'поселок городского типа Приладожский',\n",
       "       'поселок городского типа Рахья', 'поселок городского типа Рощино',\n",
       "       'поселок городского типа Рябово',\n",
       "       'поселок городского типа Синявино',\n",
       "       'поселок городского типа Советский',\n",
       "       'поселок городского типа Токсово',\n",
       "       'поселок городского типа Форносово',\n",
       "       'поселок городского типа имени Свердлова',\n",
       "       'поселок станции Вещево', 'поселок станции Корнево',\n",
       "       'поселок станции Лужайка', 'поселок станции Приветнинское',\n",
       "       'посёлок Александровская', 'посёлок Алексеевка', 'посёлок Аннино',\n",
       "       'посёлок Белоостров', 'посёлок Бугры', 'посёлок Возрождение',\n",
       "       'посёлок Войскорово', 'посёлок Высокоключевой',\n",
       "       'посёлок Гаврилово', 'посёлок Дзержинского', 'посёлок Жилгородок',\n",
       "       'посёлок Ильичёво', 'посёлок Кикерино', 'посёлок Кобралово',\n",
       "       'посёлок Коробицыно', 'посёлок Левашово', 'посёлок Ленинское',\n",
       "       'посёлок Лисий Нос', 'посёлок Мельниково', 'посёлок Металлострой',\n",
       "       'посёлок Мичуринское', 'посёлок Молодёжное', 'посёлок Мурино',\n",
       "       'посёлок Мыза-Ивановка', 'посёлок Новогорелово',\n",
       "       'посёлок Новый Свет', 'посёлок Пансионат Зелёный Бор',\n",
       "       'посёлок Парголово', 'посёлок Перово', 'посёлок Песочный',\n",
       "       'посёлок Петро-Славянка', 'посёлок Петровское',\n",
       "       'посёлок Платформа 69-й километр', 'посёлок Плодовое',\n",
       "       'посёлок Плоское', 'посёлок Победа', 'посёлок Поляны',\n",
       "       'посёлок Понтонный', 'посёлок Пригородный', 'посёлок Пудость',\n",
       "       'посёлок Репино', 'посёлок Ропша', 'посёлок Сапёрное',\n",
       "       'посёлок Сапёрный', 'посёлок Сосново', 'посёлок Старая Малукса',\n",
       "       'посёлок Стеклянный', 'посёлок Стрельна', 'посёлок Суйда',\n",
       "       'посёлок Сумино', 'посёлок Тельмана', 'посёлок Терволово',\n",
       "       'посёлок Торфяное', 'посёлок Усть-Ижора', 'посёлок Усть-Луга',\n",
       "       'посёлок Форт Красная Горка', 'посёлок Шугозеро', 'посёлок Шушары',\n",
       "       'посёлок Щеглово', 'посёлок городского типа Важины',\n",
       "       'посёлок городского типа Вознесенье',\n",
       "       'посёлок городского типа Вырица',\n",
       "       'посёлок городского типа Красный Бор',\n",
       "       'посёлок городского типа Кузнечное',\n",
       "       'посёлок городского типа Кузьмоловский',\n",
       "       'посёлок городского типа Лебяжье', 'посёлок городского типа Мга',\n",
       "       'посёлок городского типа Павлово',\n",
       "       'посёлок городского типа Рощино', 'посёлок городского типа Рябово',\n",
       "       'посёлок городского типа Сиверский',\n",
       "       'посёлок городского типа Тайцы', 'посёлок городского типа Токсово',\n",
       "       'посёлок городского типа Ульяновка',\n",
       "       'посёлок городского типа Форносово',\n",
       "       'посёлок городского типа имени Морозова',\n",
       "       'посёлок городского типа имени Свердлова',\n",
       "       'посёлок при железнодорожной станции Вещево',\n",
       "       'посёлок при железнодорожной станции Приветнинское',\n",
       "       'посёлок станции Громово', 'посёлок станции Свирь',\n",
       "       'садоводческое некоммерческое товарищество Лесная Поляна',\n",
       "       'садовое товарищество Новая Ропша',\n",
       "       'садовое товарищество Приладожский', 'садовое товарищество Рахья',\n",
       "       'садовое товарищество Садко', 'село Копорье', 'село Никольское',\n",
       "       'село Павлово', 'село Паша', 'село Путилово', 'село Рождествено',\n",
       "       'село Русско-Высоцкое', 'село Старая Ладога', 'село Шум', nan],\n",
       "      dtype=object)"
      ]
     },
     "execution_count": 15,
     "metadata": {},
     "output_type": "execute_result"
    }
   ],
   "source": [
    "data['locality_name'].sort_values().unique()"
   ]
  },
  {
   "cell_type": "markdown",
   "metadata": {},
   "source": [
    "Есть предложение отказаться от слов \"посёлок\", \"село\", \"деревня\" и т.д. в названиях населённых пунктов.\n",
    "\n",
    "Соберём все слова, от которых хотим избавиться в отдельный список excess_names, а потом пройдёмся по нему циклом, чтобы все эти слова убрать."
   ]
  },
  {
   "cell_type": "code",
   "execution_count": 16,
   "metadata": {},
   "outputs": [],
   "source": [
    "excess_names = ['городской поселок ', 'городской посёлок ', 'деревня ', 'коттеджный поселок ', 'коттеджный посёлок ', \n",
    "                'поселок городского типа ', 'поселок станции ', 'поселок ', 'посёлок городского типа ', \n",
    "                'посёлок при железнодорожной станции ', 'посёлок станции ', 'посёлок ', \n",
    "               'садоводческое некоммерческое товарищество ', 'садоводческое товарищество ', 'садовое товарищество ', 'село '\n",
    "               ]\n",
    "for name in excess_names:\n",
    "    data['locality_name'] = data['locality_name'].str.replace(name, '')"
   ]
  },
  {
   "cell_type": "code",
   "execution_count": 17,
   "metadata": {},
   "outputs": [
    {
     "data": {
      "text/plain": [
       "array(['Агалатово', 'Александровская', 'Алексеевка', 'Аннино', 'Аро',\n",
       "       'Барышево', 'Батово', 'Бегуницы', 'Белогорка', 'Белоостров',\n",
       "       'Бокситогорск', 'Большая Вруда', 'Большая Ижора',\n",
       "       'Большая Пустомержа', 'Большие Колпаны', 'Большое Рейзино',\n",
       "       'Большой Сабск', 'Бор', 'Борисова Грива', 'Бугры', 'Будогощь',\n",
       "       'Ваганово', 'Важины', 'Вартемяги', 'Вахнова Кара', 'Вещево',\n",
       "       'Виллози', 'Вознесенье', 'Возрождение', 'Войсковицы', 'Войскорово',\n",
       "       'Володарское', 'Волосово', 'Волхов', 'Всеволожск', 'Выборг',\n",
       "       'Вырица', 'Выскатка', 'Высокоключевой', 'Высоцк', 'Гаврилово',\n",
       "       'Гарболово', 'Гатчина', 'Гладкое', 'Глажево', 'Глебычево',\n",
       "       'Глинка', 'Гончарово', 'Горбунки', 'Гостилицы', 'Громово',\n",
       "       'Дзержинского', 'Дружная Горка', 'Дружноселье', 'Дубровка',\n",
       "       'Елизаветино', 'Ефимовский', 'Жилгородок', 'Жилпосёлок', 'Житково',\n",
       "       'Заводской', 'Заклинье', 'Заневка', 'Запорожское', 'Зеленогорск',\n",
       "       'Зимитицы', 'Ивангород', 'Извара', 'Ильичёво', 'Иссад', 'Калитино',\n",
       "       'Каложицы', 'Кальтино', 'Каменногорск', 'Камышовка', 'Каськово',\n",
       "       'Келози', 'Кивеннапа Север', 'Кикерино', 'Кингисепп',\n",
       "       'Кингисеппский', 'Кипень', 'Кириши', 'Кировск', 'Кирпичное',\n",
       "       'Кисельня', 'Кобралово', 'Кобринское', 'Колпино', 'Колтуши',\n",
       "       'Коммунар', 'Коммунары', 'Кондратьево', 'Копорье', 'Коркино',\n",
       "       'Корнево', 'Коробицыно', 'Котельский', 'Котлы', 'Красная Долина',\n",
       "       'Красное Село', 'Красносельское', 'Красный Бор', 'Кривко',\n",
       "       'Кронштадт', 'Кудрово', 'Кузнечное', 'Кузьмолово', 'Кузьмоловский',\n",
       "       'Курковицы', 'Куровицы', 'Куттузи', 'Лаврики', 'Лаголово',\n",
       "       'Лампово', 'Лебяжье', 'Левашово', 'Ленинское', 'Лесколово',\n",
       "       'Лесная Поляна', 'Лесное', 'Лесогорский', 'Лисий Нос',\n",
       "       'Лодейное Поле', 'Ломоносов', 'Лопухинка', 'Луга', 'Лужайка',\n",
       "       'Лукаши', 'Лупполово', 'Любань', 'Малая Романовка', 'Малое Верево',\n",
       "       'Малое Карлино', 'Малые Колпаны', 'Мануйлово', 'Мга', 'Мельниково',\n",
       "       'Меньково', 'Металлострой', 'Мины', 'Мистолово', 'Мичуринское',\n",
       "       'Молодцово', 'Молодёжное', 'Мурино', 'Мыза-Ивановка', 'Назия',\n",
       "       'Ненимяки', 'Нижние Осельки', 'Нижняя', 'Низино', 'Никольский',\n",
       "       'Никольское', 'Новая Ладога', 'Новая Ропша', 'Новогорелово',\n",
       "       'Новое Девяткино', 'Новолисино', 'Новоселье', 'Новый Свет',\n",
       "       'Новый Учхоз', 'Нурма', 'Оредеж', 'Оржицы', 'Отрадное', 'Павлово',\n",
       "       'Павловск', 'Пансионат Зелёный Бор', 'Парголово', 'Парицы', 'Паша',\n",
       "       'Пельгора', 'Пеники', 'Первомайское', 'Перово', 'Песочный',\n",
       "       'Петергоф', 'Петро-Славянка', 'Петровское', 'Пижма', 'Пикалёво',\n",
       "       'Пикколово', 'Платформа 69-й километр', 'Плодовое', 'Плоское',\n",
       "       'Победа', 'Подпорожье', 'Поляны', 'Понтонный', 'Почап', 'Починок',\n",
       "       'Приветнинское', 'Пригородный', 'Приладожский', 'Приморск',\n",
       "       'Приозерск', 'Пудомяги', 'Пудость', 'Пустынка', 'Путилово',\n",
       "       'Пушкин', 'Пушное', 'Пчева', 'Пчевжа', 'Рабитицы', 'Разбегаево',\n",
       "       'Раздолье', 'Разметелево', 'Рапполово', 'Рахья', 'Реброво',\n",
       "       'Репино', 'Рождествено', 'Романовка', 'Ромашки', 'Ропша', 'Рощино',\n",
       "       'Русско', 'Русско-Высоцкое', 'Рябово', 'Садко', 'Санкт-Петербург',\n",
       "       'Сапёрное', 'Сапёрный', 'Светогорск', 'Свирь', 'Свирьстрой',\n",
       "       'Севастьяново', 'Селезнёво', 'Сельцо', 'Семиозерье', 'Семрино',\n",
       "       'Серебрянский', 'Сертолово', 'Сестрорецк', 'Сиверский', 'Сижно',\n",
       "       'Синявино', 'Сланцы', 'Снегирёвка', 'Советский', 'Совхозный',\n",
       "       'Сосново', 'Сосновый Бор', 'Старая', 'Старая Ладога',\n",
       "       'Старая Малукса', 'Старая Пустошь', 'Старое Хинколово',\n",
       "       'Старополье', 'Старосиверская', 'Старые Бегуницы', 'Стеклянный',\n",
       "       'Стрельна', 'Суйда', 'Сумино', 'Суоранда', 'Суходолье', 'Счастье',\n",
       "       'Сяськелево', 'Сясьстрой', 'Тайцы', 'Тарасово', 'Тельмана',\n",
       "       'Терволово', 'Терпилицы', 'Тихвин', 'Тихковицы', 'Тойворово',\n",
       "       'Токсово', 'Торковичи', 'Торосово', 'Торошковичи', 'Торфяное',\n",
       "       'Тосно', 'Трубников Бор', 'Тёсово-4', 'Углово', 'Ульяновка',\n",
       "       'Усть-Ижора', 'Усть-Луга', 'Ушаки', 'Фалилеево', 'Форносово',\n",
       "       'Форт Красная Горка', 'Фёдоровское', 'Хапо-Ое', 'Хязельки',\n",
       "       'Цвелодубово', 'Цвылёво', 'Чудской Бор', 'Шлиссельбург',\n",
       "       'Шпаньково', 'Шугозеро', 'Шум', 'Шушары', 'Щеглово', 'Юкки',\n",
       "       'Ялгино', 'Яльгелево', 'Ям-Тесово', 'Янино-1', 'имени Морозова',\n",
       "       'имени Свердлова', nan], dtype=object)"
      ]
     },
     "execution_count": 17,
     "metadata": {},
     "output_type": "execute_result"
    }
   ],
   "source": [
    "data['locality_name'].sort_values().unique()"
   ]
  },
  {
   "cell_type": "code",
   "execution_count": 18,
   "metadata": {},
   "outputs": [
    {
     "data": {
      "text/plain": [
       "0"
      ]
     },
     "execution_count": 18,
     "metadata": {},
     "output_type": "execute_result"
    }
   ],
   "source": [
    "data.duplicated().sum()"
   ]
  },
  {
   "cell_type": "markdown",
   "metadata": {},
   "source": [
    "Дубликатов в таблице нет, но есть объявления с отсутствующим названием города. Боюсь, от них придётся отказаться. "
   ]
  },
  {
   "cell_type": "code",
   "execution_count": 19,
   "metadata": {},
   "outputs": [],
   "source": [
    "data = data[(~data['locality_name'].isna())]"
   ]
  },
  {
   "cell_type": "code",
   "execution_count": 20,
   "metadata": {},
   "outputs": [
    {
     "name": "stdout",
     "output_type": "stream",
     "text": [
      "<class 'pandas.core.frame.DataFrame'>\n",
      "Int64Index: 23650 entries, 0 to 23698\n",
      "Data columns (total 22 columns):\n",
      "total_images            23650 non-null int64\n",
      "last_price              23650 non-null float64\n",
      "total_area              23650 non-null float64\n",
      "first_day_exposition    23650 non-null object\n",
      "rooms                   23650 non-null int64\n",
      "ceiling_height          14490 non-null float64\n",
      "floors_total            23565 non-null float64\n",
      "living_area             21752 non-null float64\n",
      "floor                   23650 non-null int64\n",
      "is_apartment            23650 non-null bool\n",
      "studio                  23650 non-null bool\n",
      "open_plan               23650 non-null bool\n",
      "kitchen_area            21381 non-null float64\n",
      "balcony                 23650 non-null float64\n",
      "locality_name           23650 non-null object\n",
      "airports_nearest        18116 non-null float64\n",
      "cityCenters_nearest     18139 non-null float64\n",
      "parks_around3000        18140 non-null float64\n",
      "parks_nearest           8064 non-null float64\n",
      "ponds_around3000        18140 non-null float64\n",
      "ponds_nearest           9085 non-null float64\n",
      "days_exposition         20470 non-null float64\n",
      "dtypes: bool(3), float64(14), int64(3), object(2)\n",
      "memory usage: 3.7+ MB\n"
     ]
    }
   ],
   "source": [
    "data.info()"
   ]
  },
  {
   "cell_type": "markdown",
   "metadata": {},
   "source": [
    "Пока-пока деревни, посёлки городского типа и снт.\n",
    "\n",
    "Столбец \"количество этажей\" имеет тип float. Посмотрим на него. То ли кто-то указал дробное количество этажей, то ли в столбце отсутствуют данные."
   ]
  },
  {
   "cell_type": "code",
   "execution_count": 21,
   "metadata": {},
   "outputs": [
    {
     "data": {
      "text/plain": [
       "5.0     5775\n",
       "9.0     3758\n",
       "16.0    1375\n",
       "12.0    1361\n",
       "4.0     1193\n",
       "10.0    1174\n",
       "25.0    1075\n",
       "6.0      910\n",
       "17.0     833\n",
       "3.0      667\n",
       "7.0      589\n",
       "14.0     553\n",
       "18.0     505\n",
       "24.0     462\n",
       "8.0      388\n",
       "2.0      381\n",
       "15.0     365\n",
       "23.0     349\n",
       "19.0     339\n",
       "22.0     286\n",
       "20.0     271\n",
       "13.0     229\n",
       "11.0     202\n",
       "27.0     164\n",
       "21.0     158\n",
       "26.0     124\n",
       "1.0       25\n",
       "35.0      24\n",
       "28.0      21\n",
       "36.0       3\n",
       "29.0       1\n",
       "60.0       1\n",
       "33.0       1\n",
       "52.0       1\n",
       "37.0       1\n",
       "34.0       1\n",
       "Name: floors_total, dtype: int64"
      ]
     },
     "execution_count": 21,
     "metadata": {},
     "output_type": "execute_result"
    }
   ],
   "source": [
    "data['floors_total'].value_counts()"
   ]
  },
  {
   "cell_type": "code",
   "execution_count": 22,
   "metadata": {},
   "outputs": [
    {
     "data": {
      "text/plain": [
       "85"
      ]
     },
     "execution_count": 22,
     "metadata": {},
     "output_type": "execute_result"
    }
   ],
   "source": [
    "data['floors_total'].isna().sum()"
   ]
  },
  {
   "cell_type": "markdown",
   "metadata": {},
   "source": [
    "В столбце есть отсутствующие значения. Их мало, так что избавимся от них"
   ]
  },
  {
   "cell_type": "code",
   "execution_count": 23,
   "metadata": {},
   "outputs": [
    {
     "name": "stdout",
     "output_type": "stream",
     "text": [
      "<class 'pandas.core.frame.DataFrame'>\n",
      "Int64Index: 23565 entries, 0 to 23698\n",
      "Data columns (total 22 columns):\n",
      "total_images            23565 non-null int64\n",
      "last_price              23565 non-null float64\n",
      "total_area              23565 non-null float64\n",
      "first_day_exposition    23565 non-null object\n",
      "rooms                   23565 non-null int64\n",
      "ceiling_height          14481 non-null float64\n",
      "floors_total            23565 non-null float64\n",
      "living_area             21700 non-null float64\n",
      "floor                   23565 non-null int64\n",
      "is_apartment            23565 non-null bool\n",
      "studio                  23565 non-null bool\n",
      "open_plan               23565 non-null bool\n",
      "kitchen_area            21343 non-null float64\n",
      "balcony                 23565 non-null float64\n",
      "locality_name           23565 non-null object\n",
      "airports_nearest        18041 non-null float64\n",
      "cityCenters_nearest     18064 non-null float64\n",
      "parks_around3000        18065 non-null float64\n",
      "parks_nearest           8030 non-null float64\n",
      "ponds_around3000        18065 non-null float64\n",
      "ponds_nearest           9036 non-null float64\n",
      "days_exposition         20394 non-null float64\n",
      "dtypes: bool(3), float64(14), int64(3), object(2)\n",
      "memory usage: 3.7+ MB\n"
     ]
    }
   ],
   "source": [
    "data.dropna(subset=['floors_total'], inplace=True)\n",
    "\n",
    "data.info()"
   ]
  },
  {
   "cell_type": "markdown",
   "metadata": {},
   "source": [
    "Заполним пропуски по столбцам с расстоянием до аэропорта, парками и водоёмами медианными значениями по столбцу."
   ]
  },
  {
   "cell_type": "code",
   "execution_count": 24,
   "metadata": {},
   "outputs": [],
   "source": [
    "data['ceiling_height'] = data['ceiling_height'].fillna(data['ceiling_height'].median())\n",
    "\n",
    "data['airports_nearest'] = data['airports_nearest'].fillna(data['airports_nearest'].median())\n",
    "\n",
    "data['cityCenters_nearest'] = data['cityCenters_nearest'].fillna(data['cityCenters_nearest'].median())\n",
    "\n",
    "data['parks_around3000'] = data['parks_around3000'].fillna(data['parks_around3000'].median())\n",
    "\n",
    "data['parks_nearest'] = data['parks_nearest'].fillna(data['parks_nearest'].median())\n",
    "\n",
    "data['ponds_around3000'] = data['ponds_around3000'].fillna(data['ponds_around3000'].median())\n",
    "\n",
    "data['ponds_nearest'] = data['ponds_nearest'].fillna(data['ponds_nearest'].median())"
   ]
  },
  {
   "cell_type": "markdown",
   "metadata": {},
   "source": [
    "И для них для всех поменяем тип на int с помощью метода astype()."
   ]
  },
  {
   "cell_type": "code",
   "execution_count": 25,
   "metadata": {},
   "outputs": [],
   "source": [
    "data['airports_nearest'] = data['airports_nearest'].astype('int')\n",
    "data['cityCenters_nearest'] = data['cityCenters_nearest'].astype('int')\n",
    "data['parks_around3000'] = data['parks_around3000'].astype('int')\n",
    "data['parks_nearest'] = data['parks_nearest'].astype('int')\n",
    "data['ponds_around3000'] = data['ponds_around3000'].astype('int')\n",
    "data['ponds_nearest'] = data['ponds_nearest'].astype('int')\n",
    "data['balcony'] = data['balcony'].astype('int')\n",
    "data['last_price'] = data['last_price'].astype('int')\n",
    "data['floor'] = data['floor'].astype('int')"
   ]
  },
  {
   "cell_type": "code",
   "execution_count": 26,
   "metadata": {},
   "outputs": [
    {
     "name": "stdout",
     "output_type": "stream",
     "text": [
      "<class 'pandas.core.frame.DataFrame'>\n",
      "Int64Index: 23565 entries, 0 to 23698\n",
      "Data columns (total 22 columns):\n",
      "total_images            23565 non-null int64\n",
      "last_price              23565 non-null int32\n",
      "total_area              23565 non-null float64\n",
      "first_day_exposition    23565 non-null object\n",
      "rooms                   23565 non-null int64\n",
      "ceiling_height          23565 non-null float64\n",
      "floors_total            23565 non-null float64\n",
      "living_area             21700 non-null float64\n",
      "floor                   23565 non-null int32\n",
      "is_apartment            23565 non-null bool\n",
      "studio                  23565 non-null bool\n",
      "open_plan               23565 non-null bool\n",
      "kitchen_area            21343 non-null float64\n",
      "balcony                 23565 non-null int32\n",
      "locality_name           23565 non-null object\n",
      "airports_nearest        23565 non-null int32\n",
      "cityCenters_nearest     23565 non-null int32\n",
      "parks_around3000        23565 non-null int32\n",
      "parks_nearest           23565 non-null int32\n",
      "ponds_around3000        23565 non-null int32\n",
      "ponds_nearest           23565 non-null int32\n",
      "days_exposition         20394 non-null float64\n",
      "dtypes: bool(3), float64(6), int32(9), int64(2), object(2)\n",
      "memory usage: 2.9+ MB\n"
     ]
    }
   ],
   "source": [
    "data.info()"
   ]
  },
  {
   "cell_type": "markdown",
   "metadata": {},
   "source": [
    "Прекрасно! Дробными остались колонки с площадью и ценой. Это нормально, и то над ценой можно подумать. А вот над \n",
    "этажами и комнатами надо поработать."
   ]
  },
  {
   "cell_type": "code",
   "execution_count": 27,
   "metadata": {},
   "outputs": [
    {
     "data": {
      "text/plain": [
       "1     8004\n",
       "2     7897\n",
       "3     5779\n",
       "4     1172\n",
       "5      325\n",
       "0      194\n",
       "6      104\n",
       "7       59\n",
       "8       12\n",
       "9        8\n",
       "10       3\n",
       "14       2\n",
       "11       2\n",
       "19       1\n",
       "12       1\n",
       "16       1\n",
       "15       1\n",
       "Name: rooms, dtype: int64"
      ]
     },
     "execution_count": 27,
     "metadata": {},
     "output_type": "execute_result"
    }
   ],
   "source": [
    "data['rooms'].value_counts()"
   ]
  },
  {
   "cell_type": "markdown",
   "metadata": {},
   "source": [
    "Очень подозрительное количество объявлений с нулём комнат. Возможно, это студии, так что оставим их, как есть"
   ]
  },
  {
   "cell_type": "markdown",
   "metadata": {},
   "source": [
    "### Пропуски в колонке со счётом дней по объявлениям"
   ]
  },
  {
   "cell_type": "code",
   "execution_count": 28,
   "metadata": {},
   "outputs": [
    {
     "data": {
      "text/plain": [
       "2018-02-01T00:00:00    366\n",
       "2017-11-10T00:00:00    240\n",
       "2017-10-13T00:00:00    124\n",
       "2017-09-27T00:00:00    111\n",
       "2018-03-26T00:00:00     97\n",
       "                      ... \n",
       "2015-05-09T00:00:00      1\n",
       "2016-09-25T00:00:00      1\n",
       "2015-08-18T00:00:00      1\n",
       "2015-06-20T00:00:00      1\n",
       "2015-01-02T00:00:00      1\n",
       "Name: first_day_exposition, Length: 1489, dtype: int64"
      ]
     },
     "execution_count": 28,
     "metadata": {},
     "output_type": "execute_result"
    }
   ],
   "source": [
    "data['first_day_exposition'].value_counts()"
   ]
  },
  {
   "cell_type": "code",
   "execution_count": 29,
   "metadata": {
    "scrolled": true
   },
   "outputs": [
    {
     "data": {
      "text/plain": [
       "0"
      ]
     },
     "execution_count": 29,
     "metadata": {},
     "output_type": "execute_result"
    }
   ],
   "source": [
    "data['first_day_exposition'].isna().sum()"
   ]
  },
  {
   "cell_type": "markdown",
   "metadata": {},
   "source": [
    "Пропусков нет. Переведём их в удобный формат."
   ]
  },
  {
   "cell_type": "code",
   "execution_count": 30,
   "metadata": {},
   "outputs": [],
   "source": [
    "data['first_day_exposition'] = pd.to_datetime(\n",
    "    data['first_day_exposition'], format='%Y.%m.%dT%H:%M:%S'\n",
    ")"
   ]
  },
  {
   "cell_type": "code",
   "execution_count": 31,
   "metadata": {},
   "outputs": [
    {
     "data": {
      "text/plain": [
       "<matplotlib.axes._subplots.AxesSubplot at 0x2792ed1a548>"
      ]
     },
     "execution_count": 31,
     "metadata": {},
     "output_type": "execute_result"
    },
    {
     "data": {
      "image/png": "[encoded data removed]",
      "text/plain": [
       "<Figure size 432x288 with 1 Axes>"
      ]
     },
     "metadata": {
      "needs_background": "light"
     },
     "output_type": "display_data"
    }
   ],
   "source": [
    "data.plot(x='first_day_exposition', y='days_exposition')"
   ]
  },
  {
   "cell_type": "code",
   "execution_count": 32,
   "metadata": {},
   "outputs": [
    {
     "data": {
      "text/plain": [
       "count    20394.000000\n",
       "mean       180.741395\n",
       "std        219.732782\n",
       "min          1.000000\n",
       "25%         45.000000\n",
       "50%         95.000000\n",
       "75%        231.000000\n",
       "max       1580.000000\n",
       "Name: days_exposition, dtype: float64"
      ]
     },
     "execution_count": 32,
     "metadata": {},
     "output_type": "execute_result"
    }
   ],
   "source": [
    "data['days_exposition'].describe()"
   ]
  },
  {
   "cell_type": "markdown",
   "metadata": {},
   "source": [
    "По графику можно увидеть, что каждое объявление висит в среднем 1000 дней. Между июлем 16-го и январём 17-го какой-то провал. Или наоборот - бум. Люди скупали квартиры, объявления закрывались достаточно быстро. А все дальнейшие объявления, видимо, ещё в работе, так что посчитать точное количество дней, которое они висят на сайте, будет некорректно.\n",
    "\n"
   ]
  },
  {
   "cell_type": "markdown",
   "metadata": {},
   "source": [
    "### Площади\n",
    "\n",
    "Теперь отправимся в пропуски в столбцах с площадями."
   ]
  },
  {
   "cell_type": "code",
   "execution_count": 33,
   "metadata": {},
   "outputs": [
    {
     "data": {
      "text/plain": [
       "2222"
      ]
     },
     "execution_count": 33,
     "metadata": {},
     "output_type": "execute_result"
    }
   ],
   "source": [
    "data['kitchen_area'].isna().sum()"
   ]
  },
  {
   "cell_type": "markdown",
   "metadata": {},
   "source": [
    "Сгруппируем объявления по количеству комнат в квартирах и заполним отсутствующие значения медианными значениями площади кухни для конкретного количества комнат."
   ]
  },
  {
   "cell_type": "code",
   "execution_count": 34,
   "metadata": {},
   "outputs": [],
   "source": [
    "data['kitchen_area'] = data['kitchen_area'].fillna(data.groupby('rooms')['kitchen_area'].transform('median'))"
   ]
  },
  {
   "cell_type": "code",
   "execution_count": 35,
   "metadata": {},
   "outputs": [
    {
     "data": {
      "text/plain": [
       "194"
      ]
     },
     "execution_count": 35,
     "metadata": {},
     "output_type": "execute_result"
    }
   ],
   "source": [
    "data['kitchen_area'].isna().sum()"
   ]
  },
  {
   "cell_type": "markdown",
   "metadata": {},
   "source": [
    "Не заполнились те пропуски, где нет данных до кухням и комнатам. Их заполним средним значением по всему столбцу."
   ]
  },
  {
   "cell_type": "code",
   "execution_count": 36,
   "metadata": {},
   "outputs": [],
   "source": [
    "data['kitchen_area'] = data['kitchen_area'].fillna(data['kitchen_area'].median())"
   ]
  },
  {
   "cell_type": "code",
   "execution_count": 37,
   "metadata": {},
   "outputs": [
    {
     "data": {
      "text/plain": [
       "0"
      ]
     },
     "execution_count": 37,
     "metadata": {},
     "output_type": "execute_result"
    }
   ],
   "source": [
    "data['kitchen_area'].isna().sum()"
   ]
  },
  {
   "cell_type": "code",
   "execution_count": 38,
   "metadata": {},
   "outputs": [
    {
     "data": {
      "text/html": [
       "<div>\n",
       "<style scoped>\n",
       "    .dataframe tbody tr th:only-of-type {\n",
       "        vertical-align: middle;\n",
       "    }\n",
       "\n",
       "    .dataframe tbody tr th {\n",
       "        vertical-align: top;\n",
       "    }\n",
       "\n",
       "    .dataframe thead th {\n",
       "        text-align: right;\n",
       "    }\n",
       "</style>\n",
       "<table border=\"1\" class=\"dataframe\">\n",
       "  <thead>\n",
       "    <tr style=\"text-align: right;\">\n",
       "      <th></th>\n",
       "      <th>total_images</th>\n",
       "      <th>last_price</th>\n",
       "      <th>total_area</th>\n",
       "      <th>first_day_exposition</th>\n",
       "      <th>rooms</th>\n",
       "      <th>ceiling_height</th>\n",
       "      <th>floors_total</th>\n",
       "      <th>living_area</th>\n",
       "      <th>floor</th>\n",
       "      <th>is_apartment</th>\n",
       "      <th>studio</th>\n",
       "      <th>open_plan</th>\n",
       "      <th>kitchen_area</th>\n",
       "      <th>balcony</th>\n",
       "      <th>locality_name</th>\n",
       "      <th>airports_nearest</th>\n",
       "      <th>cityCenters_nearest</th>\n",
       "      <th>parks_around3000</th>\n",
       "      <th>parks_nearest</th>\n",
       "      <th>ponds_around3000</th>\n",
       "      <th>ponds_nearest</th>\n",
       "      <th>days_exposition</th>\n",
       "    </tr>\n",
       "  </thead>\n",
       "  <tbody>\n",
       "    <tr>\n",
       "      <td>0</td>\n",
       "      <td>20</td>\n",
       "      <td>13000000</td>\n",
       "      <td>108.0</td>\n",
       "      <td>2019-03-07</td>\n",
       "      <td>3</td>\n",
       "      <td>2.70</td>\n",
       "      <td>16.0</td>\n",
       "      <td>51.0</td>\n",
       "      <td>8</td>\n",
       "      <td>False</td>\n",
       "      <td>False</td>\n",
       "      <td>False</td>\n",
       "      <td>25.0</td>\n",
       "      <td>0</td>\n",
       "      <td>Санкт-Петербург</td>\n",
       "      <td>18863</td>\n",
       "      <td>16028</td>\n",
       "      <td>1</td>\n",
       "      <td>482</td>\n",
       "      <td>2</td>\n",
       "      <td>755</td>\n",
       "      <td>NaN</td>\n",
       "    </tr>\n",
       "    <tr>\n",
       "      <td>1</td>\n",
       "      <td>7</td>\n",
       "      <td>3350000</td>\n",
       "      <td>40.4</td>\n",
       "      <td>2018-12-04</td>\n",
       "      <td>1</td>\n",
       "      <td>2.65</td>\n",
       "      <td>11.0</td>\n",
       "      <td>18.6</td>\n",
       "      <td>1</td>\n",
       "      <td>False</td>\n",
       "      <td>False</td>\n",
       "      <td>False</td>\n",
       "      <td>11.0</td>\n",
       "      <td>2</td>\n",
       "      <td>Шушары</td>\n",
       "      <td>12817</td>\n",
       "      <td>18603</td>\n",
       "      <td>0</td>\n",
       "      <td>455</td>\n",
       "      <td>0</td>\n",
       "      <td>503</td>\n",
       "      <td>81.0</td>\n",
       "    </tr>\n",
       "    <tr>\n",
       "      <td>2</td>\n",
       "      <td>10</td>\n",
       "      <td>5196000</td>\n",
       "      <td>56.0</td>\n",
       "      <td>2015-08-20</td>\n",
       "      <td>2</td>\n",
       "      <td>2.65</td>\n",
       "      <td>5.0</td>\n",
       "      <td>34.3</td>\n",
       "      <td>4</td>\n",
       "      <td>False</td>\n",
       "      <td>False</td>\n",
       "      <td>False</td>\n",
       "      <td>8.3</td>\n",
       "      <td>0</td>\n",
       "      <td>Санкт-Петербург</td>\n",
       "      <td>21741</td>\n",
       "      <td>13933</td>\n",
       "      <td>1</td>\n",
       "      <td>90</td>\n",
       "      <td>2</td>\n",
       "      <td>574</td>\n",
       "      <td>558.0</td>\n",
       "    </tr>\n",
       "    <tr>\n",
       "      <td>3</td>\n",
       "      <td>0</td>\n",
       "      <td>64900000</td>\n",
       "      <td>159.0</td>\n",
       "      <td>2015-07-24</td>\n",
       "      <td>3</td>\n",
       "      <td>2.65</td>\n",
       "      <td>14.0</td>\n",
       "      <td>NaN</td>\n",
       "      <td>9</td>\n",
       "      <td>False</td>\n",
       "      <td>False</td>\n",
       "      <td>False</td>\n",
       "      <td>9.5</td>\n",
       "      <td>0</td>\n",
       "      <td>Санкт-Петербург</td>\n",
       "      <td>28098</td>\n",
       "      <td>6800</td>\n",
       "      <td>2</td>\n",
       "      <td>84</td>\n",
       "      <td>3</td>\n",
       "      <td>234</td>\n",
       "      <td>424.0</td>\n",
       "    </tr>\n",
       "    <tr>\n",
       "      <td>4</td>\n",
       "      <td>2</td>\n",
       "      <td>10000000</td>\n",
       "      <td>100.0</td>\n",
       "      <td>2018-06-19</td>\n",
       "      <td>2</td>\n",
       "      <td>3.03</td>\n",
       "      <td>14.0</td>\n",
       "      <td>32.0</td>\n",
       "      <td>13</td>\n",
       "      <td>False</td>\n",
       "      <td>False</td>\n",
       "      <td>False</td>\n",
       "      <td>41.0</td>\n",
       "      <td>0</td>\n",
       "      <td>Санкт-Петербург</td>\n",
       "      <td>31856</td>\n",
       "      <td>8098</td>\n",
       "      <td>2</td>\n",
       "      <td>112</td>\n",
       "      <td>1</td>\n",
       "      <td>48</td>\n",
       "      <td>121.0</td>\n",
       "    </tr>\n",
       "  </tbody>\n",
       "</table>\n",
       "</div>"
      ],
      "text/plain": [
       "   total_images  last_price  total_area first_day_exposition  rooms  \\\n",
       "0            20    13000000       108.0           2019-03-07      3   \n",
       "1             7     3350000        40.4           2018-12-04      1   \n",
       "2            10     5196000        56.0           2015-08-20      2   \n",
       "3             0    64900000       159.0           2015-07-24      3   \n",
       "4             2    10000000       100.0           2018-06-19      2   \n",
       "\n",
       "   ceiling_height  floors_total  living_area  floor  is_apartment  studio  \\\n",
       "0            2.70          16.0         51.0      8         False   False   \n",
       "1            2.65          11.0         18.6      1         False   False   \n",
       "2            2.65           5.0         34.3      4         False   False   \n",
       "3            2.65          14.0          NaN      9         False   False   \n",
       "4            3.03          14.0         32.0     13         False   False   \n",
       "\n",
       "   open_plan  kitchen_area  balcony    locality_name  airports_nearest  \\\n",
       "0      False          25.0        0  Санкт-Петербург             18863   \n",
       "1      False          11.0        2           Шушары             12817   \n",
       "2      False           8.3        0  Санкт-Петербург             21741   \n",
       "3      False           9.5        0  Санкт-Петербург             28098   \n",
       "4      False          41.0        0  Санкт-Петербург             31856   \n",
       "\n",
       "   cityCenters_nearest  parks_around3000  parks_nearest  ponds_around3000  \\\n",
       "0                16028                 1            482                 2   \n",
       "1                18603                 0            455                 0   \n",
       "2                13933                 1             90                 2   \n",
       "3                 6800                 2             84                 3   \n",
       "4                 8098                 2            112                 1   \n",
       "\n",
       "   ponds_nearest  days_exposition  \n",
       "0            755              NaN  \n",
       "1            503             81.0  \n",
       "2            574            558.0  \n",
       "3            234            424.0  \n",
       "4             48            121.0  "
      ]
     },
     "execution_count": 38,
     "metadata": {},
     "output_type": "execute_result"
    }
   ],
   "source": [
    "data.head()"
   ]
  },
  {
   "cell_type": "markdown",
   "metadata": {},
   "source": [
    "Сделаем то же самое для пропусков в колонке с жилой площадью."
   ]
  },
  {
   "cell_type": "code",
   "execution_count": 39,
   "metadata": {},
   "outputs": [
    {
     "data": {
      "text/plain": [
       "0"
      ]
     },
     "execution_count": 39,
     "metadata": {},
     "output_type": "execute_result"
    }
   ],
   "source": [
    "data['living_area'] = data['living_area'].fillna(data.groupby('rooms')['living_area'].transform('median'))\n",
    "data['living_area'].isna().sum()"
   ]
  },
  {
   "cell_type": "code",
   "execution_count": 40,
   "metadata": {},
   "outputs": [
    {
     "name": "stdout",
     "output_type": "stream",
     "text": [
      "<class 'pandas.core.frame.DataFrame'>\n",
      "Int64Index: 23565 entries, 0 to 23698\n",
      "Data columns (total 22 columns):\n",
      "total_images            23565 non-null int64\n",
      "last_price              23565 non-null int32\n",
      "total_area              23565 non-null float64\n",
      "first_day_exposition    23565 non-null datetime64[ns]\n",
      "rooms                   23565 non-null int64\n",
      "ceiling_height          23565 non-null float64\n",
      "floors_total            23565 non-null float64\n",
      "living_area             23565 non-null float64\n",
      "floor                   23565 non-null int32\n",
      "is_apartment            23565 non-null bool\n",
      "studio                  23565 non-null bool\n",
      "open_plan               23565 non-null bool\n",
      "kitchen_area            23565 non-null float64\n",
      "balcony                 23565 non-null int32\n",
      "locality_name           23565 non-null object\n",
      "airports_nearest        23565 non-null int32\n",
      "cityCenters_nearest     23565 non-null int32\n",
      "parks_around3000        23565 non-null int32\n",
      "parks_nearest           23565 non-null int32\n",
      "ponds_around3000        23565 non-null int32\n",
      "ponds_nearest           23565 non-null int32\n",
      "days_exposition         20394 non-null float64\n",
      "dtypes: bool(3), datetime64[ns](1), float64(6), int32(9), int64(2), object(1)\n",
      "memory usage: 2.9+ MB\n"
     ]
    }
   ],
   "source": [
    "data.info()"
   ]
  },
  {
   "cell_type": "markdown",
   "metadata": {},
   "source": [
    "###  Вывод\n",
    "\n",
    "И так. Пропуски я заполнила в основном медианными значениями. Столбец с датой перевела в формат datetime, площади остались в формате float, все остальные колонки перевела в формат int. "
   ]
  },
  {
   "cell_type": "markdown",
   "metadata": {},
   "source": [
    "## Расчёты и добавление результатов в таблицу"
   ]
  },
  {
   "cell_type": "markdown",
   "metadata": {},
   "source": [
    "### Месяц, год, день недели\n",
    "\n",
    "Начнём с добавления в нашу таблицу отдельных колонок для месяца, года и дня недели, когда было создано объявление. Для этого поспользуемся функцией DatetimeIndex()."
   ]
  },
  {
   "cell_type": "code",
   "execution_count": 41,
   "metadata": {},
   "outputs": [
    {
     "data": {
      "text/html": [
       "<div>\n",
       "<style scoped>\n",
       "    .dataframe tbody tr th:only-of-type {\n",
       "        vertical-align: middle;\n",
       "    }\n",
       "\n",
       "    .dataframe tbody tr th {\n",
       "        vertical-align: top;\n",
       "    }\n",
       "\n",
       "    .dataframe thead th {\n",
       "        text-align: right;\n",
       "    }\n",
       "</style>\n",
       "<table border=\"1\" class=\"dataframe\">\n",
       "  <thead>\n",
       "    <tr style=\"text-align: right;\">\n",
       "      <th></th>\n",
       "      <th>total_images</th>\n",
       "      <th>last_price</th>\n",
       "      <th>total_area</th>\n",
       "      <th>first_day_exposition</th>\n",
       "      <th>rooms</th>\n",
       "      <th>ceiling_height</th>\n",
       "      <th>floors_total</th>\n",
       "      <th>living_area</th>\n",
       "      <th>floor</th>\n",
       "      <th>is_apartment</th>\n",
       "      <th>studio</th>\n",
       "      <th>open_plan</th>\n",
       "      <th>kitchen_area</th>\n",
       "      <th>balcony</th>\n",
       "      <th>locality_name</th>\n",
       "      <th>airports_nearest</th>\n",
       "      <th>cityCenters_nearest</th>\n",
       "      <th>parks_around3000</th>\n",
       "      <th>parks_nearest</th>\n",
       "      <th>ponds_around3000</th>\n",
       "      <th>ponds_nearest</th>\n",
       "      <th>days_exposition</th>\n",
       "      <th>month</th>\n",
       "      <th>year</th>\n",
       "      <th>weekday</th>\n",
       "    </tr>\n",
       "  </thead>\n",
       "  <tbody>\n",
       "    <tr>\n",
       "      <td>0</td>\n",
       "      <td>20</td>\n",
       "      <td>13000000</td>\n",
       "      <td>108.0</td>\n",
       "      <td>2019-03-07</td>\n",
       "      <td>3</td>\n",
       "      <td>2.70</td>\n",
       "      <td>16.0</td>\n",
       "      <td>51.0</td>\n",
       "      <td>8</td>\n",
       "      <td>False</td>\n",
       "      <td>False</td>\n",
       "      <td>False</td>\n",
       "      <td>25.0</td>\n",
       "      <td>0</td>\n",
       "      <td>Санкт-Петербург</td>\n",
       "      <td>18863</td>\n",
       "      <td>16028</td>\n",
       "      <td>1</td>\n",
       "      <td>482</td>\n",
       "      <td>2</td>\n",
       "      <td>755</td>\n",
       "      <td>NaN</td>\n",
       "      <td>3</td>\n",
       "      <td>2019</td>\n",
       "      <td>Thursday</td>\n",
       "    </tr>\n",
       "    <tr>\n",
       "      <td>1</td>\n",
       "      <td>7</td>\n",
       "      <td>3350000</td>\n",
       "      <td>40.4</td>\n",
       "      <td>2018-12-04</td>\n",
       "      <td>1</td>\n",
       "      <td>2.65</td>\n",
       "      <td>11.0</td>\n",
       "      <td>18.6</td>\n",
       "      <td>1</td>\n",
       "      <td>False</td>\n",
       "      <td>False</td>\n",
       "      <td>False</td>\n",
       "      <td>11.0</td>\n",
       "      <td>2</td>\n",
       "      <td>Шушары</td>\n",
       "      <td>12817</td>\n",
       "      <td>18603</td>\n",
       "      <td>0</td>\n",
       "      <td>455</td>\n",
       "      <td>0</td>\n",
       "      <td>503</td>\n",
       "      <td>81.0</td>\n",
       "      <td>12</td>\n",
       "      <td>2018</td>\n",
       "      <td>Tuesday</td>\n",
       "    </tr>\n",
       "    <tr>\n",
       "      <td>2</td>\n",
       "      <td>10</td>\n",
       "      <td>5196000</td>\n",
       "      <td>56.0</td>\n",
       "      <td>2015-08-20</td>\n",
       "      <td>2</td>\n",
       "      <td>2.65</td>\n",
       "      <td>5.0</td>\n",
       "      <td>34.3</td>\n",
       "      <td>4</td>\n",
       "      <td>False</td>\n",
       "      <td>False</td>\n",
       "      <td>False</td>\n",
       "      <td>8.3</td>\n",
       "      <td>0</td>\n",
       "      <td>Санкт-Петербург</td>\n",
       "      <td>21741</td>\n",
       "      <td>13933</td>\n",
       "      <td>1</td>\n",
       "      <td>90</td>\n",
       "      <td>2</td>\n",
       "      <td>574</td>\n",
       "      <td>558.0</td>\n",
       "      <td>8</td>\n",
       "      <td>2015</td>\n",
       "      <td>Thursday</td>\n",
       "    </tr>\n",
       "    <tr>\n",
       "      <td>3</td>\n",
       "      <td>0</td>\n",
       "      <td>64900000</td>\n",
       "      <td>159.0</td>\n",
       "      <td>2015-07-24</td>\n",
       "      <td>3</td>\n",
       "      <td>2.65</td>\n",
       "      <td>14.0</td>\n",
       "      <td>45.0</td>\n",
       "      <td>9</td>\n",
       "      <td>False</td>\n",
       "      <td>False</td>\n",
       "      <td>False</td>\n",
       "      <td>9.5</td>\n",
       "      <td>0</td>\n",
       "      <td>Санкт-Петербург</td>\n",
       "      <td>28098</td>\n",
       "      <td>6800</td>\n",
       "      <td>2</td>\n",
       "      <td>84</td>\n",
       "      <td>3</td>\n",
       "      <td>234</td>\n",
       "      <td>424.0</td>\n",
       "      <td>7</td>\n",
       "      <td>2015</td>\n",
       "      <td>Friday</td>\n",
       "    </tr>\n",
       "    <tr>\n",
       "      <td>4</td>\n",
       "      <td>2</td>\n",
       "      <td>10000000</td>\n",
       "      <td>100.0</td>\n",
       "      <td>2018-06-19</td>\n",
       "      <td>2</td>\n",
       "      <td>3.03</td>\n",
       "      <td>14.0</td>\n",
       "      <td>32.0</td>\n",
       "      <td>13</td>\n",
       "      <td>False</td>\n",
       "      <td>False</td>\n",
       "      <td>False</td>\n",
       "      <td>41.0</td>\n",
       "      <td>0</td>\n",
       "      <td>Санкт-Петербург</td>\n",
       "      <td>31856</td>\n",
       "      <td>8098</td>\n",
       "      <td>2</td>\n",
       "      <td>112</td>\n",
       "      <td>1</td>\n",
       "      <td>48</td>\n",
       "      <td>121.0</td>\n",
       "      <td>6</td>\n",
       "      <td>2018</td>\n",
       "      <td>Tuesday</td>\n",
       "    </tr>\n",
       "  </tbody>\n",
       "</table>\n",
       "</div>"
      ],
      "text/plain": [
       "   total_images  last_price  total_area first_day_exposition  rooms  \\\n",
       "0            20    13000000       108.0           2019-03-07      3   \n",
       "1             7     3350000        40.4           2018-12-04      1   \n",
       "2            10     5196000        56.0           2015-08-20      2   \n",
       "3             0    64900000       159.0           2015-07-24      3   \n",
       "4             2    10000000       100.0           2018-06-19      2   \n",
       "\n",
       "   ceiling_height  floors_total  living_area  floor  is_apartment  studio  \\\n",
       "0            2.70          16.0         51.0      8         False   False   \n",
       "1            2.65          11.0         18.6      1         False   False   \n",
       "2            2.65           5.0         34.3      4         False   False   \n",
       "3            2.65          14.0         45.0      9         False   False   \n",
       "4            3.03          14.0         32.0     13         False   False   \n",
       "\n",
       "   open_plan  kitchen_area  balcony    locality_name  airports_nearest  \\\n",
       "0      False          25.0        0  Санкт-Петербург             18863   \n",
       "1      False          11.0        2           Шушары             12817   \n",
       "2      False           8.3        0  Санкт-Петербург             21741   \n",
       "3      False           9.5        0  Санкт-Петербург             28098   \n",
       "4      False          41.0        0  Санкт-Петербург             31856   \n",
       "\n",
       "   cityCenters_nearest  parks_around3000  parks_nearest  ponds_around3000  \\\n",
       "0                16028                 1            482                 2   \n",
       "1                18603                 0            455                 0   \n",
       "2                13933                 1             90                 2   \n",
       "3                 6800                 2             84                 3   \n",
       "4                 8098                 2            112                 1   \n",
       "\n",
       "   ponds_nearest  days_exposition  month  year   weekday  \n",
       "0            755              NaN      3  2019  Thursday  \n",
       "1            503             81.0     12  2018   Tuesday  \n",
       "2            574            558.0      8  2015  Thursday  \n",
       "3            234            424.0      7  2015    Friday  \n",
       "4             48            121.0      6  2018   Tuesday  "
      ]
     },
     "execution_count": 41,
     "metadata": {},
     "output_type": "execute_result"
    }
   ],
   "source": [
    "data['month'] = pd.DatetimeIndex(data['first_day_exposition']).month\n",
    "\n",
    "data['year'] = pd.DatetimeIndex(data['first_day_exposition']).year\n",
    "\n",
    "data['weekday'] = pd.DatetimeIndex(data['first_day_exposition']).day_name()\n",
    "\n",
    "data.head()"
   ]
  },
  {
   "cell_type": "markdown",
   "metadata": {},
   "source": [
    "### Цена квадратного метра\n",
    "\n",
    "Посчитаем цену квадратного метра. Для этого добавим в таблицу новую колонку meter_cost, где разделим значения цены на общую площадь квартиры."
   ]
  },
  {
   "cell_type": "code",
   "execution_count": 42,
   "metadata": {},
   "outputs": [
    {
     "data": {
      "text/html": [
       "<div>\n",
       "<style scoped>\n",
       "    .dataframe tbody tr th:only-of-type {\n",
       "        vertical-align: middle;\n",
       "    }\n",
       "\n",
       "    .dataframe tbody tr th {\n",
       "        vertical-align: top;\n",
       "    }\n",
       "\n",
       "    .dataframe thead th {\n",
       "        text-align: right;\n",
       "    }\n",
       "</style>\n",
       "<table border=\"1\" class=\"dataframe\">\n",
       "  <thead>\n",
       "    <tr style=\"text-align: right;\">\n",
       "      <th></th>\n",
       "      <th>total_images</th>\n",
       "      <th>last_price</th>\n",
       "      <th>total_area</th>\n",
       "      <th>first_day_exposition</th>\n",
       "      <th>rooms</th>\n",
       "      <th>ceiling_height</th>\n",
       "      <th>floors_total</th>\n",
       "      <th>living_area</th>\n",
       "      <th>floor</th>\n",
       "      <th>is_apartment</th>\n",
       "      <th>studio</th>\n",
       "      <th>open_plan</th>\n",
       "      <th>kitchen_area</th>\n",
       "      <th>balcony</th>\n",
       "      <th>locality_name</th>\n",
       "      <th>airports_nearest</th>\n",
       "      <th>cityCenters_nearest</th>\n",
       "      <th>parks_around3000</th>\n",
       "      <th>parks_nearest</th>\n",
       "      <th>ponds_around3000</th>\n",
       "      <th>ponds_nearest</th>\n",
       "      <th>days_exposition</th>\n",
       "      <th>month</th>\n",
       "      <th>year</th>\n",
       "      <th>weekday</th>\n",
       "      <th>meter_cost</th>\n",
       "    </tr>\n",
       "  </thead>\n",
       "  <tbody>\n",
       "    <tr>\n",
       "      <td>0</td>\n",
       "      <td>20</td>\n",
       "      <td>13000000</td>\n",
       "      <td>108.0</td>\n",
       "      <td>2019-03-07</td>\n",
       "      <td>3</td>\n",
       "      <td>2.70</td>\n",
       "      <td>16.0</td>\n",
       "      <td>51.0</td>\n",
       "      <td>8</td>\n",
       "      <td>False</td>\n",
       "      <td>False</td>\n",
       "      <td>False</td>\n",
       "      <td>25.0</td>\n",
       "      <td>0</td>\n",
       "      <td>Санкт-Петербург</td>\n",
       "      <td>18863</td>\n",
       "      <td>16028</td>\n",
       "      <td>1</td>\n",
       "      <td>482</td>\n",
       "      <td>2</td>\n",
       "      <td>755</td>\n",
       "      <td>NaN</td>\n",
       "      <td>3</td>\n",
       "      <td>2019</td>\n",
       "      <td>Thursday</td>\n",
       "      <td>120370</td>\n",
       "    </tr>\n",
       "    <tr>\n",
       "      <td>1</td>\n",
       "      <td>7</td>\n",
       "      <td>3350000</td>\n",
       "      <td>40.4</td>\n",
       "      <td>2018-12-04</td>\n",
       "      <td>1</td>\n",
       "      <td>2.65</td>\n",
       "      <td>11.0</td>\n",
       "      <td>18.6</td>\n",
       "      <td>1</td>\n",
       "      <td>False</td>\n",
       "      <td>False</td>\n",
       "      <td>False</td>\n",
       "      <td>11.0</td>\n",
       "      <td>2</td>\n",
       "      <td>Шушары</td>\n",
       "      <td>12817</td>\n",
       "      <td>18603</td>\n",
       "      <td>0</td>\n",
       "      <td>455</td>\n",
       "      <td>0</td>\n",
       "      <td>503</td>\n",
       "      <td>81.0</td>\n",
       "      <td>12</td>\n",
       "      <td>2018</td>\n",
       "      <td>Tuesday</td>\n",
       "      <td>82920</td>\n",
       "    </tr>\n",
       "    <tr>\n",
       "      <td>2</td>\n",
       "      <td>10</td>\n",
       "      <td>5196000</td>\n",
       "      <td>56.0</td>\n",
       "      <td>2015-08-20</td>\n",
       "      <td>2</td>\n",
       "      <td>2.65</td>\n",
       "      <td>5.0</td>\n",
       "      <td>34.3</td>\n",
       "      <td>4</td>\n",
       "      <td>False</td>\n",
       "      <td>False</td>\n",
       "      <td>False</td>\n",
       "      <td>8.3</td>\n",
       "      <td>0</td>\n",
       "      <td>Санкт-Петербург</td>\n",
       "      <td>21741</td>\n",
       "      <td>13933</td>\n",
       "      <td>1</td>\n",
       "      <td>90</td>\n",
       "      <td>2</td>\n",
       "      <td>574</td>\n",
       "      <td>558.0</td>\n",
       "      <td>8</td>\n",
       "      <td>2015</td>\n",
       "      <td>Thursday</td>\n",
       "      <td>92785</td>\n",
       "    </tr>\n",
       "    <tr>\n",
       "      <td>3</td>\n",
       "      <td>0</td>\n",
       "      <td>64900000</td>\n",
       "      <td>159.0</td>\n",
       "      <td>2015-07-24</td>\n",
       "      <td>3</td>\n",
       "      <td>2.65</td>\n",
       "      <td>14.0</td>\n",
       "      <td>45.0</td>\n",
       "      <td>9</td>\n",
       "      <td>False</td>\n",
       "      <td>False</td>\n",
       "      <td>False</td>\n",
       "      <td>9.5</td>\n",
       "      <td>0</td>\n",
       "      <td>Санкт-Петербург</td>\n",
       "      <td>28098</td>\n",
       "      <td>6800</td>\n",
       "      <td>2</td>\n",
       "      <td>84</td>\n",
       "      <td>3</td>\n",
       "      <td>234</td>\n",
       "      <td>424.0</td>\n",
       "      <td>7</td>\n",
       "      <td>2015</td>\n",
       "      <td>Friday</td>\n",
       "      <td>408176</td>\n",
       "    </tr>\n",
       "    <tr>\n",
       "      <td>4</td>\n",
       "      <td>2</td>\n",
       "      <td>10000000</td>\n",
       "      <td>100.0</td>\n",
       "      <td>2018-06-19</td>\n",
       "      <td>2</td>\n",
       "      <td>3.03</td>\n",
       "      <td>14.0</td>\n",
       "      <td>32.0</td>\n",
       "      <td>13</td>\n",
       "      <td>False</td>\n",
       "      <td>False</td>\n",
       "      <td>False</td>\n",
       "      <td>41.0</td>\n",
       "      <td>0</td>\n",
       "      <td>Санкт-Петербург</td>\n",
       "      <td>31856</td>\n",
       "      <td>8098</td>\n",
       "      <td>2</td>\n",
       "      <td>112</td>\n",
       "      <td>1</td>\n",
       "      <td>48</td>\n",
       "      <td>121.0</td>\n",
       "      <td>6</td>\n",
       "      <td>2018</td>\n",
       "      <td>Tuesday</td>\n",
       "      <td>100000</td>\n",
       "    </tr>\n",
       "  </tbody>\n",
       "</table>\n",
       "</div>"
      ],
      "text/plain": [
       "   total_images  last_price  total_area first_day_exposition  rooms  \\\n",
       "0            20    13000000       108.0           2019-03-07      3   \n",
       "1             7     3350000        40.4           2018-12-04      1   \n",
       "2            10     5196000        56.0           2015-08-20      2   \n",
       "3             0    64900000       159.0           2015-07-24      3   \n",
       "4             2    10000000       100.0           2018-06-19      2   \n",
       "\n",
       "   ceiling_height  floors_total  living_area  floor  is_apartment  studio  \\\n",
       "0            2.70          16.0         51.0      8         False   False   \n",
       "1            2.65          11.0         18.6      1         False   False   \n",
       "2            2.65           5.0         34.3      4         False   False   \n",
       "3            2.65          14.0         45.0      9         False   False   \n",
       "4            3.03          14.0         32.0     13         False   False   \n",
       "\n",
       "   open_plan  kitchen_area  balcony    locality_name  airports_nearest  \\\n",
       "0      False          25.0        0  Санкт-Петербург             18863   \n",
       "1      False          11.0        2           Шушары             12817   \n",
       "2      False           8.3        0  Санкт-Петербург             21741   \n",
       "3      False           9.5        0  Санкт-Петербург             28098   \n",
       "4      False          41.0        0  Санкт-Петербург             31856   \n",
       "\n",
       "   cityCenters_nearest  parks_around3000  parks_nearest  ponds_around3000  \\\n",
       "0                16028                 1            482                 2   \n",
       "1                18603                 0            455                 0   \n",
       "2                13933                 1             90                 2   \n",
       "3                 6800                 2             84                 3   \n",
       "4                 8098                 2            112                 1   \n",
       "\n",
       "   ponds_nearest  days_exposition  month  year   weekday  meter_cost  \n",
       "0            755              NaN      3  2019  Thursday      120370  \n",
       "1            503             81.0     12  2018   Tuesday       82920  \n",
       "2            574            558.0      8  2015  Thursday       92785  \n",
       "3            234            424.0      7  2015    Friday      408176  \n",
       "4             48            121.0      6  2018   Tuesday      100000  "
      ]
     },
     "execution_count": 42,
     "metadata": {},
     "output_type": "execute_result"
    }
   ],
   "source": [
    "data['meter_cost'] = data['last_price'] / data['total_area']\n",
    "\n",
    "data['meter_cost'] = data['meter_cost'].astype('int')\n",
    "\n",
    "data.head()"
   ]
  },
  {
   "cell_type": "markdown",
   "metadata": {},
   "source": [
    "### Соотношение площадей\n",
    "\n",
    "Посчитаем соотношение жилой площади к общей и площади кухни - к общей. Для этого добавим в таблицу две новых колонки, в которой разделим соответствующее значение площади на площадь общую."
   ]
  },
  {
   "cell_type": "code",
   "execution_count": 43,
   "metadata": {},
   "outputs": [],
   "source": [
    "data['living_ratio'] = data['living_area'] / data['total_area']\n",
    "data['kitchen_ratio'] = data['kitchen_area'] / data['total_area']"
   ]
  },
  {
   "cell_type": "code",
   "execution_count": 44,
   "metadata": {},
   "outputs": [
    {
     "data": {
      "text/html": [
       "<div>\n",
       "<style scoped>\n",
       "    .dataframe tbody tr th:only-of-type {\n",
       "        vertical-align: middle;\n",
       "    }\n",
       "\n",
       "    .dataframe tbody tr th {\n",
       "        vertical-align: top;\n",
       "    }\n",
       "\n",
       "    .dataframe thead th {\n",
       "        text-align: right;\n",
       "    }\n",
       "</style>\n",
       "<table border=\"1\" class=\"dataframe\">\n",
       "  <thead>\n",
       "    <tr style=\"text-align: right;\">\n",
       "      <th></th>\n",
       "      <th>total_images</th>\n",
       "      <th>last_price</th>\n",
       "      <th>total_area</th>\n",
       "      <th>first_day_exposition</th>\n",
       "      <th>rooms</th>\n",
       "      <th>ceiling_height</th>\n",
       "      <th>floors_total</th>\n",
       "      <th>living_area</th>\n",
       "      <th>floor</th>\n",
       "      <th>is_apartment</th>\n",
       "      <th>studio</th>\n",
       "      <th>open_plan</th>\n",
       "      <th>kitchen_area</th>\n",
       "      <th>balcony</th>\n",
       "      <th>locality_name</th>\n",
       "      <th>airports_nearest</th>\n",
       "      <th>cityCenters_nearest</th>\n",
       "      <th>parks_around3000</th>\n",
       "      <th>parks_nearest</th>\n",
       "      <th>ponds_around3000</th>\n",
       "      <th>ponds_nearest</th>\n",
       "      <th>days_exposition</th>\n",
       "      <th>month</th>\n",
       "      <th>year</th>\n",
       "      <th>weekday</th>\n",
       "      <th>meter_cost</th>\n",
       "      <th>living_ratio</th>\n",
       "      <th>kitchen_ratio</th>\n",
       "    </tr>\n",
       "  </thead>\n",
       "  <tbody>\n",
       "    <tr>\n",
       "      <td>0</td>\n",
       "      <td>20</td>\n",
       "      <td>13000000</td>\n",
       "      <td>108.0</td>\n",
       "      <td>2019-03-07</td>\n",
       "      <td>3</td>\n",
       "      <td>2.70</td>\n",
       "      <td>16.0</td>\n",
       "      <td>51.0</td>\n",
       "      <td>8</td>\n",
       "      <td>False</td>\n",
       "      <td>False</td>\n",
       "      <td>False</td>\n",
       "      <td>25.0</td>\n",
       "      <td>0</td>\n",
       "      <td>Санкт-Петербург</td>\n",
       "      <td>18863</td>\n",
       "      <td>16028</td>\n",
       "      <td>1</td>\n",
       "      <td>482</td>\n",
       "      <td>2</td>\n",
       "      <td>755</td>\n",
       "      <td>NaN</td>\n",
       "      <td>3</td>\n",
       "      <td>2019</td>\n",
       "      <td>Thursday</td>\n",
       "      <td>120370</td>\n",
       "      <td>0.472222</td>\n",
       "      <td>0.231481</td>\n",
       "    </tr>\n",
       "    <tr>\n",
       "      <td>1</td>\n",
       "      <td>7</td>\n",
       "      <td>3350000</td>\n",
       "      <td>40.4</td>\n",
       "      <td>2018-12-04</td>\n",
       "      <td>1</td>\n",
       "      <td>2.65</td>\n",
       "      <td>11.0</td>\n",
       "      <td>18.6</td>\n",
       "      <td>1</td>\n",
       "      <td>False</td>\n",
       "      <td>False</td>\n",
       "      <td>False</td>\n",
       "      <td>11.0</td>\n",
       "      <td>2</td>\n",
       "      <td>Шушары</td>\n",
       "      <td>12817</td>\n",
       "      <td>18603</td>\n",
       "      <td>0</td>\n",
       "      <td>455</td>\n",
       "      <td>0</td>\n",
       "      <td>503</td>\n",
       "      <td>81.0</td>\n",
       "      <td>12</td>\n",
       "      <td>2018</td>\n",
       "      <td>Tuesday</td>\n",
       "      <td>82920</td>\n",
       "      <td>0.460396</td>\n",
       "      <td>0.272277</td>\n",
       "    </tr>\n",
       "    <tr>\n",
       "      <td>2</td>\n",
       "      <td>10</td>\n",
       "      <td>5196000</td>\n",
       "      <td>56.0</td>\n",
       "      <td>2015-08-20</td>\n",
       "      <td>2</td>\n",
       "      <td>2.65</td>\n",
       "      <td>5.0</td>\n",
       "      <td>34.3</td>\n",
       "      <td>4</td>\n",
       "      <td>False</td>\n",
       "      <td>False</td>\n",
       "      <td>False</td>\n",
       "      <td>8.3</td>\n",
       "      <td>0</td>\n",
       "      <td>Санкт-Петербург</td>\n",
       "      <td>21741</td>\n",
       "      <td>13933</td>\n",
       "      <td>1</td>\n",
       "      <td>90</td>\n",
       "      <td>2</td>\n",
       "      <td>574</td>\n",
       "      <td>558.0</td>\n",
       "      <td>8</td>\n",
       "      <td>2015</td>\n",
       "      <td>Thursday</td>\n",
       "      <td>92785</td>\n",
       "      <td>0.612500</td>\n",
       "      <td>0.148214</td>\n",
       "    </tr>\n",
       "    <tr>\n",
       "      <td>3</td>\n",
       "      <td>0</td>\n",
       "      <td>64900000</td>\n",
       "      <td>159.0</td>\n",
       "      <td>2015-07-24</td>\n",
       "      <td>3</td>\n",
       "      <td>2.65</td>\n",
       "      <td>14.0</td>\n",
       "      <td>45.0</td>\n",
       "      <td>9</td>\n",
       "      <td>False</td>\n",
       "      <td>False</td>\n",
       "      <td>False</td>\n",
       "      <td>9.5</td>\n",
       "      <td>0</td>\n",
       "      <td>Санкт-Петербург</td>\n",
       "      <td>28098</td>\n",
       "      <td>6800</td>\n",
       "      <td>2</td>\n",
       "      <td>84</td>\n",
       "      <td>3</td>\n",
       "      <td>234</td>\n",
       "      <td>424.0</td>\n",
       "      <td>7</td>\n",
       "      <td>2015</td>\n",
       "      <td>Friday</td>\n",
       "      <td>408176</td>\n",
       "      <td>0.283019</td>\n",
       "      <td>0.059748</td>\n",
       "    </tr>\n",
       "    <tr>\n",
       "      <td>4</td>\n",
       "      <td>2</td>\n",
       "      <td>10000000</td>\n",
       "      <td>100.0</td>\n",
       "      <td>2018-06-19</td>\n",
       "      <td>2</td>\n",
       "      <td>3.03</td>\n",
       "      <td>14.0</td>\n",
       "      <td>32.0</td>\n",
       "      <td>13</td>\n",
       "      <td>False</td>\n",
       "      <td>False</td>\n",
       "      <td>False</td>\n",
       "      <td>41.0</td>\n",
       "      <td>0</td>\n",
       "      <td>Санкт-Петербург</td>\n",
       "      <td>31856</td>\n",
       "      <td>8098</td>\n",
       "      <td>2</td>\n",
       "      <td>112</td>\n",
       "      <td>1</td>\n",
       "      <td>48</td>\n",
       "      <td>121.0</td>\n",
       "      <td>6</td>\n",
       "      <td>2018</td>\n",
       "      <td>Tuesday</td>\n",
       "      <td>100000</td>\n",
       "      <td>0.320000</td>\n",
       "      <td>0.410000</td>\n",
       "    </tr>\n",
       "  </tbody>\n",
       "</table>\n",
       "</div>"
      ],
      "text/plain": [
       "   total_images  last_price  total_area first_day_exposition  rooms  \\\n",
       "0            20    13000000       108.0           2019-03-07      3   \n",
       "1             7     3350000        40.4           2018-12-04      1   \n",
       "2            10     5196000        56.0           2015-08-20      2   \n",
       "3             0    64900000       159.0           2015-07-24      3   \n",
       "4             2    10000000       100.0           2018-06-19      2   \n",
       "\n",
       "   ceiling_height  floors_total  living_area  floor  is_apartment  studio  \\\n",
       "0            2.70          16.0         51.0      8         False   False   \n",
       "1            2.65          11.0         18.6      1         False   False   \n",
       "2            2.65           5.0         34.3      4         False   False   \n",
       "3            2.65          14.0         45.0      9         False   False   \n",
       "4            3.03          14.0         32.0     13         False   False   \n",
       "\n",
       "   open_plan  kitchen_area  balcony    locality_name  airports_nearest  \\\n",
       "0      False          25.0        0  Санкт-Петербург             18863   \n",
       "1      False          11.0        2           Шушары             12817   \n",
       "2      False           8.3        0  Санкт-Петербург             21741   \n",
       "3      False           9.5        0  Санкт-Петербург             28098   \n",
       "4      False          41.0        0  Санкт-Петербург             31856   \n",
       "\n",
       "   cityCenters_nearest  parks_around3000  parks_nearest  ponds_around3000  \\\n",
       "0                16028                 1            482                 2   \n",
       "1                18603                 0            455                 0   \n",
       "2                13933                 1             90                 2   \n",
       "3                 6800                 2             84                 3   \n",
       "4                 8098                 2            112                 1   \n",
       "\n",
       "   ponds_nearest  days_exposition  month  year   weekday  meter_cost  \\\n",
       "0            755              NaN      3  2019  Thursday      120370   \n",
       "1            503             81.0     12  2018   Tuesday       82920   \n",
       "2            574            558.0      8  2015  Thursday       92785   \n",
       "3            234            424.0      7  2015    Friday      408176   \n",
       "4             48            121.0      6  2018   Tuesday      100000   \n",
       "\n",
       "   living_ratio  kitchen_ratio  \n",
       "0      0.472222       0.231481  \n",
       "1      0.460396       0.272277  \n",
       "2      0.612500       0.148214  \n",
       "3      0.283019       0.059748  \n",
       "4      0.320000       0.410000  "
      ]
     },
     "execution_count": 44,
     "metadata": {},
     "output_type": "execute_result"
    }
   ],
   "source": [
    "data.head()"
   ]
  },
  {
   "cell_type": "markdown",
   "metadata": {},
   "source": [
    "### Этажи\n",
    "\n",
    "Напишем функцию, которая разделит этажи в наших объектах на три группы: первый, последний, другой. Функция примет значение из столбца floor и отнесёт объявление в одной из трёх групп. Добавим в таблицу новый столбец с помощью метода apply()."
   ]
  },
  {
   "cell_type": "code",
   "execution_count": 45,
   "metadata": {},
   "outputs": [
    {
     "data": {
      "text/html": [
       "<div>\n",
       "<style scoped>\n",
       "    .dataframe tbody tr th:only-of-type {\n",
       "        vertical-align: middle;\n",
       "    }\n",
       "\n",
       "    .dataframe tbody tr th {\n",
       "        vertical-align: top;\n",
       "    }\n",
       "\n",
       "    .dataframe thead th {\n",
       "        text-align: right;\n",
       "    }\n",
       "</style>\n",
       "<table border=\"1\" class=\"dataframe\">\n",
       "  <thead>\n",
       "    <tr style=\"text-align: right;\">\n",
       "      <th></th>\n",
       "      <th>total_images</th>\n",
       "      <th>last_price</th>\n",
       "      <th>total_area</th>\n",
       "      <th>first_day_exposition</th>\n",
       "      <th>rooms</th>\n",
       "      <th>ceiling_height</th>\n",
       "      <th>floors_total</th>\n",
       "      <th>living_area</th>\n",
       "      <th>floor</th>\n",
       "      <th>is_apartment</th>\n",
       "      <th>studio</th>\n",
       "      <th>open_plan</th>\n",
       "      <th>kitchen_area</th>\n",
       "      <th>balcony</th>\n",
       "      <th>locality_name</th>\n",
       "      <th>airports_nearest</th>\n",
       "      <th>cityCenters_nearest</th>\n",
       "      <th>parks_around3000</th>\n",
       "      <th>parks_nearest</th>\n",
       "      <th>ponds_around3000</th>\n",
       "      <th>ponds_nearest</th>\n",
       "      <th>days_exposition</th>\n",
       "      <th>month</th>\n",
       "      <th>year</th>\n",
       "      <th>weekday</th>\n",
       "      <th>meter_cost</th>\n",
       "      <th>living_ratio</th>\n",
       "      <th>kitchen_ratio</th>\n",
       "      <th>floor_define</th>\n",
       "    </tr>\n",
       "  </thead>\n",
       "  <tbody>\n",
       "    <tr>\n",
       "      <td>0</td>\n",
       "      <td>20</td>\n",
       "      <td>13000000</td>\n",
       "      <td>108.00</td>\n",
       "      <td>2019-03-07</td>\n",
       "      <td>3</td>\n",
       "      <td>2.70</td>\n",
       "      <td>16.0</td>\n",
       "      <td>51.00</td>\n",
       "      <td>8</td>\n",
       "      <td>False</td>\n",
       "      <td>False</td>\n",
       "      <td>False</td>\n",
       "      <td>25.00</td>\n",
       "      <td>0</td>\n",
       "      <td>Санкт-Петербург</td>\n",
       "      <td>18863</td>\n",
       "      <td>16028</td>\n",
       "      <td>1</td>\n",
       "      <td>482</td>\n",
       "      <td>2</td>\n",
       "      <td>755</td>\n",
       "      <td>NaN</td>\n",
       "      <td>3</td>\n",
       "      <td>2019</td>\n",
       "      <td>Thursday</td>\n",
       "      <td>120370</td>\n",
       "      <td>0.472222</td>\n",
       "      <td>0.231481</td>\n",
       "      <td>другой</td>\n",
       "    </tr>\n",
       "    <tr>\n",
       "      <td>1</td>\n",
       "      <td>7</td>\n",
       "      <td>3350000</td>\n",
       "      <td>40.40</td>\n",
       "      <td>2018-12-04</td>\n",
       "      <td>1</td>\n",
       "      <td>2.65</td>\n",
       "      <td>11.0</td>\n",
       "      <td>18.60</td>\n",
       "      <td>1</td>\n",
       "      <td>False</td>\n",
       "      <td>False</td>\n",
       "      <td>False</td>\n",
       "      <td>11.00</td>\n",
       "      <td>2</td>\n",
       "      <td>Шушары</td>\n",
       "      <td>12817</td>\n",
       "      <td>18603</td>\n",
       "      <td>0</td>\n",
       "      <td>455</td>\n",
       "      <td>0</td>\n",
       "      <td>503</td>\n",
       "      <td>81.0</td>\n",
       "      <td>12</td>\n",
       "      <td>2018</td>\n",
       "      <td>Tuesday</td>\n",
       "      <td>82920</td>\n",
       "      <td>0.460396</td>\n",
       "      <td>0.272277</td>\n",
       "      <td>первый</td>\n",
       "    </tr>\n",
       "    <tr>\n",
       "      <td>2</td>\n",
       "      <td>10</td>\n",
       "      <td>5196000</td>\n",
       "      <td>56.00</td>\n",
       "      <td>2015-08-20</td>\n",
       "      <td>2</td>\n",
       "      <td>2.65</td>\n",
       "      <td>5.0</td>\n",
       "      <td>34.30</td>\n",
       "      <td>4</td>\n",
       "      <td>False</td>\n",
       "      <td>False</td>\n",
       "      <td>False</td>\n",
       "      <td>8.30</td>\n",
       "      <td>0</td>\n",
       "      <td>Санкт-Петербург</td>\n",
       "      <td>21741</td>\n",
       "      <td>13933</td>\n",
       "      <td>1</td>\n",
       "      <td>90</td>\n",
       "      <td>2</td>\n",
       "      <td>574</td>\n",
       "      <td>558.0</td>\n",
       "      <td>8</td>\n",
       "      <td>2015</td>\n",
       "      <td>Thursday</td>\n",
       "      <td>92785</td>\n",
       "      <td>0.612500</td>\n",
       "      <td>0.148214</td>\n",
       "      <td>другой</td>\n",
       "    </tr>\n",
       "    <tr>\n",
       "      <td>3</td>\n",
       "      <td>0</td>\n",
       "      <td>64900000</td>\n",
       "      <td>159.00</td>\n",
       "      <td>2015-07-24</td>\n",
       "      <td>3</td>\n",
       "      <td>2.65</td>\n",
       "      <td>14.0</td>\n",
       "      <td>45.00</td>\n",
       "      <td>9</td>\n",
       "      <td>False</td>\n",
       "      <td>False</td>\n",
       "      <td>False</td>\n",
       "      <td>9.50</td>\n",
       "      <td>0</td>\n",
       "      <td>Санкт-Петербург</td>\n",
       "      <td>28098</td>\n",
       "      <td>6800</td>\n",
       "      <td>2</td>\n",
       "      <td>84</td>\n",
       "      <td>3</td>\n",
       "      <td>234</td>\n",
       "      <td>424.0</td>\n",
       "      <td>7</td>\n",
       "      <td>2015</td>\n",
       "      <td>Friday</td>\n",
       "      <td>408176</td>\n",
       "      <td>0.283019</td>\n",
       "      <td>0.059748</td>\n",
       "      <td>другой</td>\n",
       "    </tr>\n",
       "    <tr>\n",
       "      <td>4</td>\n",
       "      <td>2</td>\n",
       "      <td>10000000</td>\n",
       "      <td>100.00</td>\n",
       "      <td>2018-06-19</td>\n",
       "      <td>2</td>\n",
       "      <td>3.03</td>\n",
       "      <td>14.0</td>\n",
       "      <td>32.00</td>\n",
       "      <td>13</td>\n",
       "      <td>False</td>\n",
       "      <td>False</td>\n",
       "      <td>False</td>\n",
       "      <td>41.00</td>\n",
       "      <td>0</td>\n",
       "      <td>Санкт-Петербург</td>\n",
       "      <td>31856</td>\n",
       "      <td>8098</td>\n",
       "      <td>2</td>\n",
       "      <td>112</td>\n",
       "      <td>1</td>\n",
       "      <td>48</td>\n",
       "      <td>121.0</td>\n",
       "      <td>6</td>\n",
       "      <td>2018</td>\n",
       "      <td>Tuesday</td>\n",
       "      <td>100000</td>\n",
       "      <td>0.320000</td>\n",
       "      <td>0.410000</td>\n",
       "      <td>другой</td>\n",
       "    </tr>\n",
       "    <tr>\n",
       "      <td>5</td>\n",
       "      <td>10</td>\n",
       "      <td>2890000</td>\n",
       "      <td>30.40</td>\n",
       "      <td>2018-09-10</td>\n",
       "      <td>1</td>\n",
       "      <td>2.65</td>\n",
       "      <td>12.0</td>\n",
       "      <td>14.40</td>\n",
       "      <td>5</td>\n",
       "      <td>False</td>\n",
       "      <td>False</td>\n",
       "      <td>False</td>\n",
       "      <td>9.10</td>\n",
       "      <td>0</td>\n",
       "      <td>Янино-1</td>\n",
       "      <td>26757</td>\n",
       "      <td>13096</td>\n",
       "      <td>0</td>\n",
       "      <td>455</td>\n",
       "      <td>1</td>\n",
       "      <td>503</td>\n",
       "      <td>55.0</td>\n",
       "      <td>9</td>\n",
       "      <td>2018</td>\n",
       "      <td>Monday</td>\n",
       "      <td>95065</td>\n",
       "      <td>0.473684</td>\n",
       "      <td>0.299342</td>\n",
       "      <td>другой</td>\n",
       "    </tr>\n",
       "    <tr>\n",
       "      <td>6</td>\n",
       "      <td>6</td>\n",
       "      <td>3700000</td>\n",
       "      <td>37.30</td>\n",
       "      <td>2017-11-02</td>\n",
       "      <td>1</td>\n",
       "      <td>2.65</td>\n",
       "      <td>26.0</td>\n",
       "      <td>10.60</td>\n",
       "      <td>6</td>\n",
       "      <td>False</td>\n",
       "      <td>False</td>\n",
       "      <td>False</td>\n",
       "      <td>14.40</td>\n",
       "      <td>1</td>\n",
       "      <td>Парголово</td>\n",
       "      <td>52996</td>\n",
       "      <td>19143</td>\n",
       "      <td>0</td>\n",
       "      <td>455</td>\n",
       "      <td>0</td>\n",
       "      <td>503</td>\n",
       "      <td>155.0</td>\n",
       "      <td>11</td>\n",
       "      <td>2017</td>\n",
       "      <td>Thursday</td>\n",
       "      <td>99195</td>\n",
       "      <td>0.284182</td>\n",
       "      <td>0.386059</td>\n",
       "      <td>другой</td>\n",
       "    </tr>\n",
       "    <tr>\n",
       "      <td>7</td>\n",
       "      <td>5</td>\n",
       "      <td>7915000</td>\n",
       "      <td>71.60</td>\n",
       "      <td>2019-04-18</td>\n",
       "      <td>2</td>\n",
       "      <td>2.65</td>\n",
       "      <td>24.0</td>\n",
       "      <td>30.50</td>\n",
       "      <td>22</td>\n",
       "      <td>False</td>\n",
       "      <td>False</td>\n",
       "      <td>False</td>\n",
       "      <td>18.90</td>\n",
       "      <td>2</td>\n",
       "      <td>Санкт-Петербург</td>\n",
       "      <td>23982</td>\n",
       "      <td>11634</td>\n",
       "      <td>0</td>\n",
       "      <td>455</td>\n",
       "      <td>0</td>\n",
       "      <td>503</td>\n",
       "      <td>NaN</td>\n",
       "      <td>4</td>\n",
       "      <td>2019</td>\n",
       "      <td>Thursday</td>\n",
       "      <td>110544</td>\n",
       "      <td>0.425978</td>\n",
       "      <td>0.263966</td>\n",
       "      <td>другой</td>\n",
       "    </tr>\n",
       "    <tr>\n",
       "      <td>8</td>\n",
       "      <td>20</td>\n",
       "      <td>2900000</td>\n",
       "      <td>33.16</td>\n",
       "      <td>2018-05-23</td>\n",
       "      <td>1</td>\n",
       "      <td>2.65</td>\n",
       "      <td>27.0</td>\n",
       "      <td>15.43</td>\n",
       "      <td>26</td>\n",
       "      <td>False</td>\n",
       "      <td>False</td>\n",
       "      <td>False</td>\n",
       "      <td>8.81</td>\n",
       "      <td>0</td>\n",
       "      <td>Мурино</td>\n",
       "      <td>26757</td>\n",
       "      <td>13096</td>\n",
       "      <td>0</td>\n",
       "      <td>455</td>\n",
       "      <td>1</td>\n",
       "      <td>503</td>\n",
       "      <td>189.0</td>\n",
       "      <td>5</td>\n",
       "      <td>2018</td>\n",
       "      <td>Wednesday</td>\n",
       "      <td>87454</td>\n",
       "      <td>0.465320</td>\n",
       "      <td>0.265682</td>\n",
       "      <td>другой</td>\n",
       "    </tr>\n",
       "    <tr>\n",
       "      <td>9</td>\n",
       "      <td>18</td>\n",
       "      <td>5400000</td>\n",
       "      <td>61.00</td>\n",
       "      <td>2017-02-26</td>\n",
       "      <td>3</td>\n",
       "      <td>2.50</td>\n",
       "      <td>9.0</td>\n",
       "      <td>43.60</td>\n",
       "      <td>7</td>\n",
       "      <td>False</td>\n",
       "      <td>False</td>\n",
       "      <td>False</td>\n",
       "      <td>6.50</td>\n",
       "      <td>2</td>\n",
       "      <td>Санкт-Петербург</td>\n",
       "      <td>50898</td>\n",
       "      <td>15008</td>\n",
       "      <td>0</td>\n",
       "      <td>455</td>\n",
       "      <td>0</td>\n",
       "      <td>503</td>\n",
       "      <td>289.0</td>\n",
       "      <td>2</td>\n",
       "      <td>2017</td>\n",
       "      <td>Sunday</td>\n",
       "      <td>88524</td>\n",
       "      <td>0.714754</td>\n",
       "      <td>0.106557</td>\n",
       "      <td>другой</td>\n",
       "    </tr>\n",
       "  </tbody>\n",
       "</table>\n",
       "</div>"
      ],
      "text/plain": [
       "   total_images  last_price  total_area first_day_exposition  rooms  \\\n",
       "0            20    13000000      108.00           2019-03-07      3   \n",
       "1             7     3350000       40.40           2018-12-04      1   \n",
       "2            10     5196000       56.00           2015-08-20      2   \n",
       "3             0    64900000      159.00           2015-07-24      3   \n",
       "4             2    10000000      100.00           2018-06-19      2   \n",
       "5            10     2890000       30.40           2018-09-10      1   \n",
       "6             6     3700000       37.30           2017-11-02      1   \n",
       "7             5     7915000       71.60           2019-04-18      2   \n",
       "8            20     2900000       33.16           2018-05-23      1   \n",
       "9            18     5400000       61.00           2017-02-26      3   \n",
       "\n",
       "   ceiling_height  floors_total  living_area  floor  is_apartment  studio  \\\n",
       "0            2.70          16.0        51.00      8         False   False   \n",
       "1            2.65          11.0        18.60      1         False   False   \n",
       "2            2.65           5.0        34.30      4         False   False   \n",
       "3            2.65          14.0        45.00      9         False   False   \n",
       "4            3.03          14.0        32.00     13         False   False   \n",
       "5            2.65          12.0        14.40      5         False   False   \n",
       "6            2.65          26.0        10.60      6         False   False   \n",
       "7            2.65          24.0        30.50     22         False   False   \n",
       "8            2.65          27.0        15.43     26         False   False   \n",
       "9            2.50           9.0        43.60      7         False   False   \n",
       "\n",
       "   open_plan  kitchen_area  balcony    locality_name  airports_nearest  \\\n",
       "0      False         25.00        0  Санкт-Петербург             18863   \n",
       "1      False         11.00        2           Шушары             12817   \n",
       "2      False          8.30        0  Санкт-Петербург             21741   \n",
       "3      False          9.50        0  Санкт-Петербург             28098   \n",
       "4      False         41.00        0  Санкт-Петербург             31856   \n",
       "5      False          9.10        0          Янино-1             26757   \n",
       "6      False         14.40        1        Парголово             52996   \n",
       "7      False         18.90        2  Санкт-Петербург             23982   \n",
       "8      False          8.81        0           Мурино             26757   \n",
       "9      False          6.50        2  Санкт-Петербург             50898   \n",
       "\n",
       "   cityCenters_nearest  parks_around3000  parks_nearest  ponds_around3000  \\\n",
       "0                16028                 1            482                 2   \n",
       "1                18603                 0            455                 0   \n",
       "2                13933                 1             90                 2   \n",
       "3                 6800                 2             84                 3   \n",
       "4                 8098                 2            112                 1   \n",
       "5                13096                 0            455                 1   \n",
       "6                19143                 0            455                 0   \n",
       "7                11634                 0            455                 0   \n",
       "8                13096                 0            455                 1   \n",
       "9                15008                 0            455                 0   \n",
       "\n",
       "   ponds_nearest  days_exposition  month  year    weekday  meter_cost  \\\n",
       "0            755              NaN      3  2019   Thursday      120370   \n",
       "1            503             81.0     12  2018    Tuesday       82920   \n",
       "2            574            558.0      8  2015   Thursday       92785   \n",
       "3            234            424.0      7  2015     Friday      408176   \n",
       "4             48            121.0      6  2018    Tuesday      100000   \n",
       "5            503             55.0      9  2018     Monday       95065   \n",
       "6            503            155.0     11  2017   Thursday       99195   \n",
       "7            503              NaN      4  2019   Thursday      110544   \n",
       "8            503            189.0      5  2018  Wednesday       87454   \n",
       "9            503            289.0      2  2017     Sunday       88524   \n",
       "\n",
       "   living_ratio  kitchen_ratio floor_define  \n",
       "0      0.472222       0.231481       другой  \n",
       "1      0.460396       0.272277       первый  \n",
       "2      0.612500       0.148214       другой  \n",
       "3      0.283019       0.059748       другой  \n",
       "4      0.320000       0.410000       другой  \n",
       "5      0.473684       0.299342       другой  \n",
       "6      0.284182       0.386059       другой  \n",
       "7      0.425978       0.263966       другой  \n",
       "8      0.465320       0.265682       другой  \n",
       "9      0.714754       0.106557       другой  "
      ]
     },
     "execution_count": 45,
     "metadata": {},
     "output_type": "execute_result"
    }
   ],
   "source": [
    "def floors_define(row):\n",
    "    if row['floor'] == 1:\n",
    "        return 'первый'\n",
    "    if row['floor'] == row['floors_total']:\n",
    "        return 'последний'\n",
    "    else:\n",
    "        return 'другой'\n",
    "    \n",
    "data['floor_define'] = data.apply(floors_define, axis=1)\n",
    "data.head(10)"
   ]
  },
  {
   "cell_type": "markdown",
   "metadata": {},
   "source": [
    "### Вывод\n",
    "\n",
    "Колонки добавлены. Идём в исследования!"
   ]
  },
  {
   "cell_type": "markdown",
   "metadata": {},
   "source": [
    "## Исследовательский анализ данных"
   ]
  },
  {
   "cell_type": "markdown",
   "metadata": {},
   "source": [
    "### Изучение параметров\n",
    "\n",
    "Приступим к изучению следующих параметров: площадь, цена, число комнат, высота потолков и построим гистограммы для каждого параметра.\n",
    "\n",
    "Начнём с общей площади."
   ]
  },
  {
   "cell_type": "code",
   "execution_count": 46,
   "metadata": {},
   "outputs": [
    {
     "data": {
      "text/plain": [
       "Text(0.5, 1.0, 'Общая площадь квартир')"
      ]
     },
     "execution_count": 46,
     "metadata": {},
     "output_type": "execute_result"
    },
    {
     "data": {
      "image/png": "[encoded data removed]",
      "text/plain": [
       "<Figure size 432x288 with 1 Axes>"
      ]
     },
     "metadata": {
      "needs_background": "light"
     },
     "output_type": "display_data"
    }
   ],
   "source": [
    "data['total_area'].hist(bins=100)\n",
    "plt.ylabel('Количество')\n",
    "plt.xlabel('Метраж, кв.м.')\n",
    "plt.title('Общая площадь квартир')"
   ]
  },
  {
   "cell_type": "markdown",
   "metadata": {},
   "source": [
    "По графику видно, что пик площади приходится на 50-100 кв м. Ограничим нашу гистограмму максимальным значением по y=200."
   ]
  },
  {
   "cell_type": "code",
   "execution_count": 47,
   "metadata": {},
   "outputs": [
    {
     "data": {
      "text/plain": [
       "Text(0.5, 1.0, 'Общая площадь квартир')"
      ]
     },
     "execution_count": 47,
     "metadata": {},
     "output_type": "execute_result"
    },
    {
     "data": {
      "image/png": "[encoded data removed]",
      "text/plain": [
       "<Figure size 432x288 with 1 Axes>"
      ]
     },
     "metadata": {
      "needs_background": "light"
     },
     "output_type": "display_data"
    }
   ],
   "source": [
    "data.hist('total_area', bins=100, range=(0, 200))\n",
    "plt.ylabel('Количество')\n",
    "plt.xlabel('Метраж, кв. м.')\n",
    "plt.title('Общая площадь квартир')"
   ]
  },
  {
   "cell_type": "markdown",
   "metadata": {},
   "source": [
    "Больше всего предложений приходится на квартиры общей площадью чуть меньше 50 кв м. Есть квартиры площадью больше 100 метров, но количество таких предложений незначительно.\n",
    "\n",
    "Перейдём к рассмотрению цен."
   ]
  },
  {
   "cell_type": "code",
   "execution_count": 48,
   "metadata": {},
   "outputs": [
    {
     "data": {
      "text/plain": [
       "Text(0.5, 1.0, 'Цена')"
      ]
     },
     "execution_count": 48,
     "metadata": {},
     "output_type": "execute_result"
    },
    {
     "data": {
      "image/png": "[encoded data removed]",
      "text/plain": [
       "<Figure size 432x288 with 1 Axes>"
      ]
     },
     "metadata": {
      "needs_background": "light"
     },
     "output_type": "display_data"
    }
   ],
   "source": [
    "data.hist('last_price', bins=100)\n",
    "plt.ylabel('Количество')\n",
    "plt.xlabel('Цена, 100.000.000')\n",
    "plt.title('Цена')"
   ]
  },
  {
   "cell_type": "markdown",
   "metadata": {},
   "source": [
    "Уф! Стоимость квартир достигает 800.000.000. Сильно! Ограничим выборку 100.000.000"
   ]
  },
  {
   "cell_type": "code",
   "execution_count": 49,
   "metadata": {},
   "outputs": [
    {
     "data": {
      "text/plain": [
       "Text(0.5, 1.0, 'Цена')"
      ]
     },
     "execution_count": 49,
     "metadata": {},
     "output_type": "execute_result"
    },
    {
     "data": {
      "image/png": "[encoded data removed]",
      "text/plain": [
       "<Figure size 432x288 with 1 Axes>"
      ]
     },
     "metadata": {
      "needs_background": "light"
     },
     "output_type": "display_data"
    }
   ],
   "source": [
    "data.hist('last_price', bins=100, range=(0, 100000000))\n",
    "plt.ylabel('Количество')\n",
    "plt.xlabel('Цена, 100.000.000')\n",
    "plt.title('Цена')"
   ]
  },
  {
   "cell_type": "markdown",
   "metadata": {},
   "source": [
    "В общем-то можно и ещё уменьшить размах нашей гистограммы. Остановимся на предельном значении y=10.000.000"
   ]
  },
  {
   "cell_type": "code",
   "execution_count": 50,
   "metadata": {},
   "outputs": [
    {
     "data": {
      "text/plain": [
       "Text(0.5, 1.0, 'Цена')"
      ]
     },
     "execution_count": 50,
     "metadata": {},
     "output_type": "execute_result"
    },
    {
     "data": {
      "image/png": "[encoded data removed]",
      "text/plain": [
       "<Figure size 432x288 with 1 Axes>"
      ]
     },
     "metadata": {
      "needs_background": "light"
     },
     "output_type": "display_data"
    }
   ],
   "source": [
    "data.hist('last_price', bins=100, range=(0, 10000000))\n",
    "plt.ylabel('Количество')\n",
    "plt.xlabel('Цена, 10.000.000')\n",
    "plt.title('Цена')"
   ]
  },
  {
   "cell_type": "markdown",
   "metadata": {},
   "source": [
    "Пик стоимости приходится на 4 миллиона рублей. Нормальная такая цена.\n",
    "\n",
    "Перейдём к количеству комнат."
   ]
  },
  {
   "cell_type": "code",
   "execution_count": 51,
   "metadata": {},
   "outputs": [
    {
     "data": {
      "text/plain": [
       "array([[<matplotlib.axes._subplots.AxesSubplot object at 0x00000279305CAA08>]],\n",
       "      dtype=object)"
      ]
     },
     "execution_count": 51,
     "metadata": {},
     "output_type": "execute_result"
    },
    {
     "data": {
      "image/png": "[encoded data removed]",
      "text/plain": [
       "<Figure size 432x288 with 1 Axes>"
      ]
     },
     "metadata": {
      "needs_background": "light"
     },
     "output_type": "display_data"
    }
   ],
   "source": [
    "data.hist('ceiling_height', bins=100)"
   ]
  },
  {
   "cell_type": "code",
   "execution_count": 52,
   "metadata": {},
   "outputs": [
    {
     "data": {
      "text/plain": [
       "Text(0.5, 1.0, 'Комнаты')"
      ]
     },
     "execution_count": 52,
     "metadata": {},
     "output_type": "execute_result"
    },
    {
     "data": {
      "image/png": "[encoded data removed]",
      "text/plain": [
       "<Figure size 432x288 with 1 Axes>"
      ]
     },
     "metadata": {
      "needs_background": "light"
     },
     "output_type": "display_data"
    }
   ],
   "source": [
    "data.hist('rooms', bins=100, range=(0,10))\n",
    "plt.ylabel('Количество квартир')\n",
    "plt.xlabel('Количество комнат')\n",
    "plt.title('Комнаты')"
   ]
  },
  {
   "cell_type": "markdown",
   "metadata": {},
   "source": [
    "Тут всё ожидаемо. Никто не предлагает квартиру с 1,5 комнатами. А жаль."
   ]
  },
  {
   "cell_type": "code",
   "execution_count": 53,
   "metadata": {},
   "outputs": [
    {
     "data": {
      "text/plain": [
       "Text(0.5, 1.0, 'Высота потолков')"
      ]
     },
     "execution_count": 53,
     "metadata": {},
     "output_type": "execute_result"
    },
    {
     "data": {
      "image/png": "[encoded data removed]",
      "text/plain": [
       "<Figure size 432x288 with 1 Axes>"
      ]
     },
     "metadata": {
      "needs_background": "light"
     },
     "output_type": "display_data"
    }
   ],
   "source": [
    "data.hist('ceiling_height', bins=100)\n",
    "plt.ylabel('Количество')\n",
    "plt.xlabel('Метры')\n",
    "plt.title('Высота потолков')"
   ]
  },
  {
   "cell_type": "code",
   "execution_count": 54,
   "metadata": {},
   "outputs": [
    {
     "data": {
      "text/plain": [
       "Text(0.5, 1.0, 'Высота потолков')"
      ]
     },
     "execution_count": 54,
     "metadata": {},
     "output_type": "execute_result"
    },
    {
     "data": {
      "image/png": "[encoded data removed]",
      "text/plain": [
       "<Figure size 432x288 with 1 Axes>"
      ]
     },
     "metadata": {
      "needs_background": "light"
     },
     "output_type": "display_data"
    }
   ],
   "source": [
    "data.hist('ceiling_height', bins=100, range=(2, 4))\n",
    "plt.ylabel('Количество')\n",
    "plt.xlabel('Метры')\n",
    "plt.title('Высота потолков')"
   ]
  },
  {
   "cell_type": "markdown",
   "metadata": {},
   "source": [
    "Больше всего предложений квартир с потолками от 2.5 до 3 метров. Нормально для Питера."
   ]
  },
  {
   "cell_type": "markdown",
   "metadata": {},
   "source": [
    "### Время продажи квартиры\n",
    "\n",
    "Построим гистограмму по времени, которое объявление о продаже висело на сайте."
   ]
  },
  {
   "cell_type": "code",
   "execution_count": 55,
   "metadata": {},
   "outputs": [
    {
     "data": {
      "text/plain": [
       "Text(0.5, 1.0, 'Срок жизни объявления')"
      ]
     },
     "execution_count": 55,
     "metadata": {},
     "output_type": "execute_result"
    },
    {
     "data": {
      "image/png": "[encoded data removed]",
      "text/plain": [
       "<Figure size 432x288 with 1 Axes>"
      ]
     },
     "metadata": {
      "needs_background": "light"
     },
     "output_type": "display_data"
    }
   ],
   "source": [
    "data.hist('days_exposition', bins=200)\n",
    "plt.ylabel('Количество')\n",
    "plt.xlabel('Дни')\n",
    "plt.title('Срок жизни объявления')"
   ]
  },
  {
   "cell_type": "markdown",
   "metadata": {},
   "source": [
    "На гистограмме виден резкий пик для срока продажи. Волшебный день? Акция? \"Квартира провисит на нашей сайте 100 дней и гарантированно продастся! Или мы купим её у вас сами\". А что, неплохо. Всё-таки хочется немного приблизить."
   ]
  },
  {
   "cell_type": "code",
   "execution_count": 56,
   "metadata": {},
   "outputs": [
    {
     "data": {
      "text/plain": [
       "Text(0.5, 1.0, 'Срок жизни объявления')"
      ]
     },
     "execution_count": 56,
     "metadata": {},
     "output_type": "execute_result"
    },
    {
     "data": {
      "image/png": "[encoded data removed]",
      "text/plain": [
       "<Figure size 432x288 with 1 Axes>"
      ]
     },
     "metadata": {
      "needs_background": "light"
     },
     "output_type": "display_data"
    }
   ],
   "source": [
    "data.hist('days_exposition', bins=200, range=(0, 300))\n",
    "plt.ylabel('Количество')\n",
    "plt.xlabel('Дни')\n",
    "plt.title('Срок жизни объявления')"
   ]
  },
  {
   "cell_type": "markdown",
   "metadata": {},
   "source": [
    "В общем, тенденция прослеживается: чем дольше висит объявление, тем меньше продаж. На 45 и 60 днях явная аномалия. Продаж квартир в день выставления объявления нет, и то радует.\n",
    "\n",
    "Найдём распределение статистических характеристик для этого столбца."
   ]
  },
  {
   "cell_type": "code",
   "execution_count": 57,
   "metadata": {},
   "outputs": [
    {
     "data": {
      "text/plain": [
       "Text(0.5, 1.0, 'Срок жизни объявления')"
      ]
     },
     "execution_count": 57,
     "metadata": {},
     "output_type": "execute_result"
    },
    {
     "data": {
      "image/png": "[encoded data removed]",
      "text/plain": [
       "<Figure size 432x288 with 1 Axes>"
      ]
     },
     "metadata": {
      "needs_background": "light"
     },
     "output_type": "display_data"
    }
   ],
   "source": [
    "data.hist('days_exposition', bins=100, range=(0, 150))\n",
    "plt.ylabel('Количество')\n",
    "plt.xlabel('Дни')\n",
    "plt.title('Срок жизни объявления')"
   ]
  },
  {
   "cell_type": "code",
   "execution_count": 58,
   "metadata": {},
   "outputs": [
    {
     "data": {
      "text/plain": [
       "count    20394.000000\n",
       "mean       180.741395\n",
       "std        219.732782\n",
       "min          1.000000\n",
       "25%         45.000000\n",
       "50%         95.000000\n",
       "75%        231.000000\n",
       "max       1580.000000\n",
       "Name: days_exposition, dtype: float64"
      ]
     },
     "execution_count": 58,
     "metadata": {},
     "output_type": "execute_result"
    }
   ],
   "source": [
    "data['days_exposition'].describe()"
   ]
  },
  {
   "cell_type": "markdown",
   "metadata": {},
   "source": [
    "Медиана - 95, среднее 180, в два раза больше. На среднее точно влияют аномалии, медиане доверия больше. Говоря человеческим языком, в среднем квартиры продаются за 100 дней. Моё предположение с акцией было верным?\n",
    "\n",
    "Экстремально долгая продажа, конечно, больше 600 дней. Необычно быстрая - вопрос. По графику видно, что квартиры действительно покупают в первые дни довольно много. Предположу, что продажа в первые 10 дней будет считаться очень быстро. Первый квартиль отсекает 45 дней, но за этот промежуток продаётся очень много."
   ]
  },
  {
   "cell_type": "markdown",
   "metadata": {},
   "source": [
    "### Редкие и выбивающиеся значения"
   ]
  },
  {
   "cell_type": "markdown",
   "metadata": {},
   "source": [
    "Построим диаграмму размаха для столбца days_exposition"
   ]
  },
  {
   "cell_type": "code",
   "execution_count": 59,
   "metadata": {},
   "outputs": [
    {
     "data": {
      "text/plain": [
       "<matplotlib.axes._subplots.AxesSubplot at 0x279353a0108>"
      ]
     },
     "execution_count": 59,
     "metadata": {},
     "output_type": "execute_result"
    },
    {
     "data": {
      "image/png": "[encoded data removed]",
      "text/plain": [
       "<Figure size 648x1080 with 1 Axes>"
      ]
     },
     "metadata": {
      "needs_background": "light"
     },
     "output_type": "display_data"
    }
   ],
   "source": [
    "data.boxplot('days_exposition', figsize=(9, 15))"
   ]
  },
  {
   "cell_type": "markdown",
   "metadata": {},
   "source": [
    "Очень много выбросов.\n",
    "\n",
    "Посчитаю количество объявлений, где days_exposition больше 600, и где days_exposition меньше 20."
   ]
  },
  {
   "cell_type": "code",
   "execution_count": 60,
   "metadata": {},
   "outputs": [
    {
     "data": {
      "text/plain": [
       "1197"
      ]
     },
     "execution_count": 60,
     "metadata": {},
     "output_type": "execute_result"
    }
   ],
   "source": [
    "len(data.query('days_exposition >= 600'))"
   ]
  },
  {
   "cell_type": "code",
   "execution_count": 61,
   "metadata": {},
   "outputs": [
    {
     "data": {
      "text/plain": [
       "2360"
      ]
     },
     "execution_count": 61,
     "metadata": {},
     "output_type": "execute_result"
    }
   ],
   "source": [
    "len(data.query('days_exposition < 20'))"
   ]
  },
  {
   "cell_type": "markdown",
   "metadata": {},
   "source": [
    "Медиану мы уже увидели после вызова функции describe(). Интересно, что за верхним усом выбросы идут довольно плотно. Редеть значения начинают где-то в районе 1000. И объявлений days_exposition > 600 всего 917. А вот days_exposition < 20 почти 2.5 тысячи! Много!\n",
    "\n",
    "Посмотрим, сколько объявлений убираются в первые 10 дней."
   ]
  },
  {
   "cell_type": "code",
   "execution_count": 62,
   "metadata": {},
   "outputs": [
    {
     "data": {
      "text/plain": [
       "1125"
      ]
     },
     "execution_count": 62,
     "metadata": {},
     "output_type": "execute_result"
    }
   ],
   "source": [
    "len(data.query('days_exposition < 10'))"
   ]
  },
  {
   "cell_type": "markdown",
   "metadata": {},
   "source": [
    "Даже days_exposition < 10 больше тысячи. Уберу их, но какие-то у меня сомнения."
   ]
  },
  {
   "cell_type": "code",
   "execution_count": 63,
   "metadata": {},
   "outputs": [
    {
     "name": "stdout",
     "output_type": "stream",
     "text": [
      "<class 'pandas.core.frame.DataFrame'>\n",
      "Int64Index: 17945 entries, 1 to 23695\n",
      "Data columns (total 29 columns):\n",
      "total_images            17945 non-null int64\n",
      "last_price              17945 non-null int32\n",
      "total_area              17945 non-null float64\n",
      "first_day_exposition    17945 non-null datetime64[ns]\n",
      "rooms                   17945 non-null int64\n",
      "ceiling_height          17945 non-null float64\n",
      "floors_total            17945 non-null float64\n",
      "living_area             17945 non-null float64\n",
      "floor                   17945 non-null int32\n",
      "is_apartment            17945 non-null bool\n",
      "studio                  17945 non-null bool\n",
      "open_plan               17945 non-null bool\n",
      "kitchen_area            17945 non-null float64\n",
      "balcony                 17945 non-null int32\n",
      "locality_name           17945 non-null object\n",
      "airports_nearest        17945 non-null int32\n",
      "cityCenters_nearest     17945 non-null int32\n",
      "parks_around3000        17945 non-null int32\n",
      "parks_nearest           17945 non-null int32\n",
      "ponds_around3000        17945 non-null int32\n",
      "ponds_nearest           17945 non-null int32\n",
      "days_exposition         17945 non-null float64\n",
      "month                   17945 non-null int64\n",
      "year                    17945 non-null int64\n",
      "weekday                 17945 non-null object\n",
      "meter_cost              17945 non-null int32\n",
      "living_ratio            17945 non-null float64\n",
      "kitchen_ratio           17945 non-null float64\n",
      "floor_define            17945 non-null object\n",
      "dtypes: bool(3), datetime64[ns](1), float64(8), int32(10), int64(4), object(3)\n",
      "memory usage: 3.1+ MB\n"
     ]
    }
   ],
   "source": [
    "data = data[(data['days_exposition'] < 600) & (data['days_exposition'] > 10)]\n",
    "data.info()"
   ]
  },
  {
   "cell_type": "markdown",
   "metadata": {},
   "source": [
    "Осталось почти 18 тысяч значений.\n",
    "\n",
    "Посмотрим на столбец с ценой квадратного метра."
   ]
  },
  {
   "cell_type": "code",
   "execution_count": 64,
   "metadata": {},
   "outputs": [
    {
     "data": {
      "text/plain": [
       "<matplotlib.axes._subplots.AxesSubplot at 0x27935448c88>"
      ]
     },
     "execution_count": 64,
     "metadata": {},
     "output_type": "execute_result"
    },
    {
     "data": {
      "image/png": "[encoded data removed]",
      "text/plain": [
       "<Figure size 648x1080 with 1 Axes>"
      ]
     },
     "metadata": {
      "needs_background": "light"
     },
     "output_type": "display_data"
    }
   ],
   "source": [
    "data.boxplot('meter_cost', figsize=(9, 15))"
   ]
  },
  {
   "cell_type": "markdown",
   "metadata": {},
   "source": [
    "Ух, какой разлёт!"
   ]
  },
  {
   "cell_type": "code",
   "execution_count": 65,
   "metadata": {},
   "outputs": [
    {
     "data": {
      "text/plain": [
       "count    1.794500e+04\n",
       "mean     9.747330e+04\n",
       "std      4.773283e+04\n",
       "min      7.962000e+03\n",
       "25%      7.610400e+04\n",
       "50%      9.375000e+04\n",
       "75%      1.117640e+05\n",
       "max      1.907500e+06\n",
       "Name: meter_cost, dtype: float64"
      ]
     },
     "execution_count": 65,
     "metadata": {},
     "output_type": "execute_result"
    }
   ],
   "source": [
    "data['meter_cost'].describe()"
   ]
  },
  {
   "cell_type": "markdown",
   "metadata": {},
   "source": [
    "Медианная цена 93.750, уберём значения, меньшие 30.000"
   ]
  },
  {
   "cell_type": "code",
   "execution_count": 66,
   "metadata": {
    "scrolled": true
   },
   "outputs": [
    {
     "data": {
      "text/plain": [
       "1021"
      ]
     },
     "execution_count": 66,
     "metadata": {},
     "output_type": "execute_result"
    }
   ],
   "source": [
    "len(data.query('meter_cost > 150000'))"
   ]
  },
  {
   "cell_type": "code",
   "execution_count": 67,
   "metadata": {},
   "outputs": [
    {
     "data": {
      "text/plain": [
       "345"
      ]
     },
     "execution_count": 67,
     "metadata": {},
     "output_type": "execute_result"
    }
   ],
   "source": [
    "len(data.query('meter_cost < 30000'))"
   ]
  },
  {
   "cell_type": "code",
   "execution_count": 68,
   "metadata": {},
   "outputs": [
    {
     "name": "stdout",
     "output_type": "stream",
     "text": [
      "<class 'pandas.core.frame.DataFrame'>\n",
      "Int64Index: 16560 entries, 1 to 23695\n",
      "Data columns (total 29 columns):\n",
      "total_images            16560 non-null int64\n",
      "last_price              16560 non-null int32\n",
      "total_area              16560 non-null float64\n",
      "first_day_exposition    16560 non-null datetime64[ns]\n",
      "rooms                   16560 non-null int64\n",
      "ceiling_height          16560 non-null float64\n",
      "floors_total            16560 non-null float64\n",
      "living_area             16560 non-null float64\n",
      "floor                   16560 non-null int32\n",
      "is_apartment            16560 non-null bool\n",
      "studio                  16560 non-null bool\n",
      "open_plan               16560 non-null bool\n",
      "kitchen_area            16560 non-null float64\n",
      "balcony                 16560 non-null int32\n",
      "locality_name           16560 non-null object\n",
      "airports_nearest        16560 non-null int32\n",
      "cityCenters_nearest     16560 non-null int32\n",
      "parks_around3000        16560 non-null int32\n",
      "parks_nearest           16560 non-null int32\n",
      "ponds_around3000        16560 non-null int32\n",
      "ponds_nearest           16560 non-null int32\n",
      "days_exposition         16560 non-null float64\n",
      "month                   16560 non-null int64\n",
      "year                    16560 non-null int64\n",
      "weekday                 16560 non-null object\n",
      "meter_cost              16560 non-null int32\n",
      "living_ratio            16560 non-null float64\n",
      "kitchen_ratio           16560 non-null float64\n",
      "floor_define            16560 non-null object\n",
      "dtypes: bool(3), datetime64[ns](1), float64(8), int32(10), int64(4), object(3)\n",
      "memory usage: 2.8+ MB\n"
     ]
    }
   ],
   "source": [
    "data = data[(data['meter_cost'] < 150000) & (data['meter_cost'] > 30000)]\n",
    "data.info()"
   ]
  },
  {
   "cell_type": "markdown",
   "metadata": {},
   "source": [
    "Посмотрим на количество комнат."
   ]
  },
  {
   "cell_type": "code",
   "execution_count": 69,
   "metadata": {},
   "outputs": [
    {
     "data": {
      "text/plain": [
       "<matplotlib.axes._subplots.AxesSubplot at 0x279355ebbc8>"
      ]
     },
     "execution_count": 69,
     "metadata": {},
     "output_type": "execute_result"
    },
    {
     "data": {
      "image/png": "[encoded data removed]",
      "text/plain": [
       "<Figure size 648x1080 with 1 Axes>"
      ]
     },
     "metadata": {
      "needs_background": "light"
     },
     "output_type": "display_data"
    }
   ],
   "source": [
    "data.boxplot('rooms', figsize=(9, 15))"
   ]
  },
  {
   "cell_type": "code",
   "execution_count": 70,
   "metadata": {},
   "outputs": [
    {
     "data": {
      "text/plain": [
       "count    16560.000000\n",
       "mean         1.987742\n",
       "std          1.018594\n",
       "min          0.000000\n",
       "25%          1.000000\n",
       "50%          2.000000\n",
       "75%          3.000000\n",
       "max         19.000000\n",
       "Name: rooms, dtype: float64"
      ]
     },
     "execution_count": 70,
     "metadata": {},
     "output_type": "execute_result"
    }
   ],
   "source": [
    "data['rooms'].describe()"
   ]
  },
  {
   "cell_type": "markdown",
   "metadata": {},
   "source": [
    "Наш график считает, что 0 комнат - допустимый разброс. Я в общем-то тоже так считаю. Верхний ус показывает нам нормальное количество комнат, меньшее 6. Уберём остальные значения."
   ]
  },
  {
   "cell_type": "code",
   "execution_count": 71,
   "metadata": {},
   "outputs": [
    {
     "data": {
      "text/plain": [
       "35"
      ]
     },
     "execution_count": 71,
     "metadata": {},
     "output_type": "execute_result"
    }
   ],
   "source": [
    "len(data.query('rooms > 6'))"
   ]
  },
  {
   "cell_type": "code",
   "execution_count": 72,
   "metadata": {},
   "outputs": [
    {
     "name": "stdout",
     "output_type": "stream",
     "text": [
      "<class 'pandas.core.frame.DataFrame'>\n",
      "Int64Index: 16476 entries, 1 to 23695\n",
      "Data columns (total 29 columns):\n",
      "total_images            16476 non-null int64\n",
      "last_price              16476 non-null int32\n",
      "total_area              16476 non-null float64\n",
      "first_day_exposition    16476 non-null datetime64[ns]\n",
      "rooms                   16476 non-null int64\n",
      "ceiling_height          16476 non-null float64\n",
      "floors_total            16476 non-null float64\n",
      "living_area             16476 non-null float64\n",
      "floor                   16476 non-null int32\n",
      "is_apartment            16476 non-null bool\n",
      "studio                  16476 non-null bool\n",
      "open_plan               16476 non-null bool\n",
      "kitchen_area            16476 non-null float64\n",
      "balcony                 16476 non-null int32\n",
      "locality_name           16476 non-null object\n",
      "airports_nearest        16476 non-null int32\n",
      "cityCenters_nearest     16476 non-null int32\n",
      "parks_around3000        16476 non-null int32\n",
      "parks_nearest           16476 non-null int32\n",
      "ponds_around3000        16476 non-null int32\n",
      "ponds_nearest           16476 non-null int32\n",
      "days_exposition         16476 non-null float64\n",
      "month                   16476 non-null int64\n",
      "year                    16476 non-null int64\n",
      "weekday                 16476 non-null object\n",
      "meter_cost              16476 non-null int32\n",
      "living_ratio            16476 non-null float64\n",
      "kitchen_ratio           16476 non-null float64\n",
      "floor_define            16476 non-null object\n",
      "dtypes: bool(3), datetime64[ns](1), float64(8), int32(10), int64(4), object(3)\n",
      "memory usage: 2.8+ MB\n"
     ]
    }
   ],
   "source": [
    "data = data[data['rooms'] < 6]\n",
    "data.info()"
   ]
  },
  {
   "cell_type": "markdown",
   "metadata": {},
   "source": [
    "Посмотрим на высоту потолков."
   ]
  },
  {
   "cell_type": "code",
   "execution_count": 73,
   "metadata": {
    "scrolled": false
   },
   "outputs": [
    {
     "data": {
      "text/plain": [
       "<matplotlib.axes._subplots.AxesSubplot at 0x2793549d208>"
      ]
     },
     "execution_count": 73,
     "metadata": {},
     "output_type": "execute_result"
    },
    {
     "data": {
      "image/png": "[encoded data removed]",
      "text/plain": [
       "<Figure size 648x1080 with 1 Axes>"
      ]
     },
     "metadata": {
      "needs_background": "light"
     },
     "output_type": "display_data"
    }
   ],
   "source": [
    "data.boxplot('ceiling_height', figsize=(9, 15))"
   ]
  },
  {
   "cell_type": "markdown",
   "metadata": {},
   "source": [
    "Разброс высоты потолков такой, что даже медиану не видно."
   ]
  },
  {
   "cell_type": "code",
   "execution_count": 74,
   "metadata": {},
   "outputs": [
    {
     "data": {
      "text/plain": [
       "count    16476.000000\n",
       "mean         2.696364\n",
       "std          0.716104\n",
       "min          1.000000\n",
       "25%          2.600000\n",
       "50%          2.650000\n",
       "75%          2.680000\n",
       "max         27.500000\n",
       "Name: ceiling_height, dtype: float64"
      ]
     },
     "execution_count": 74,
     "metadata": {},
     "output_type": "execute_result"
    }
   ],
   "source": [
    "data['ceiling_height'].describe()"
   ]
  },
  {
   "cell_type": "markdown",
   "metadata": {},
   "source": [
    "Уберём значения, где потолки выше 3 метров."
   ]
  },
  {
   "cell_type": "code",
   "execution_count": 75,
   "metadata": {},
   "outputs": [
    {
     "data": {
      "text/plain": [
       "708"
      ]
     },
     "execution_count": 75,
     "metadata": {},
     "output_type": "execute_result"
    }
   ],
   "source": [
    "len(data.query('ceiling_height > 3'))"
   ]
  },
  {
   "cell_type": "code",
   "execution_count": 76,
   "metadata": {},
   "outputs": [
    {
     "name": "stdout",
     "output_type": "stream",
     "text": [
      "<class 'pandas.core.frame.DataFrame'>\n",
      "Int64Index: 15195 entries, 1 to 23695\n",
      "Data columns (total 29 columns):\n",
      "total_images            15195 non-null int64\n",
      "last_price              15195 non-null int32\n",
      "total_area              15195 non-null float64\n",
      "first_day_exposition    15195 non-null datetime64[ns]\n",
      "rooms                   15195 non-null int64\n",
      "ceiling_height          15195 non-null float64\n",
      "floors_total            15195 non-null float64\n",
      "living_area             15195 non-null float64\n",
      "floor                   15195 non-null int32\n",
      "is_apartment            15195 non-null bool\n",
      "studio                  15195 non-null bool\n",
      "open_plan               15195 non-null bool\n",
      "kitchen_area            15195 non-null float64\n",
      "balcony                 15195 non-null int32\n",
      "locality_name           15195 non-null object\n",
      "airports_nearest        15195 non-null int32\n",
      "cityCenters_nearest     15195 non-null int32\n",
      "parks_around3000        15195 non-null int32\n",
      "parks_nearest           15195 non-null int32\n",
      "ponds_around3000        15195 non-null int32\n",
      "ponds_nearest           15195 non-null int32\n",
      "days_exposition         15195 non-null float64\n",
      "month                   15195 non-null int64\n",
      "year                    15195 non-null int64\n",
      "weekday                 15195 non-null object\n",
      "meter_cost              15195 non-null int32\n",
      "living_ratio            15195 non-null float64\n",
      "kitchen_ratio           15195 non-null float64\n",
      "floor_define            15195 non-null object\n",
      "dtypes: bool(3), datetime64[ns](1), float64(8), int32(10), int64(4), object(3)\n",
      "memory usage: 2.6+ MB\n"
     ]
    }
   ],
   "source": [
    "data = data[data['ceiling_height'] < 3]\n",
    "data.info()"
   ]
  },
  {
   "cell_type": "markdown",
   "metadata": {},
   "source": [
    "### Вывод\n",
    "\n",
    "В каждой колонке есть аномальные значения. Где-то - сильно аномальные. Думаю, это связано с тем, что люди заполняли данные вручную. Где-то ошибка, где-то опечатка, вот и результат."
   ]
  },
  {
   "cell_type": "markdown",
   "metadata": {},
   "source": [
    "### Факторы, влияющие на стоимость"
   ]
  },
  {
   "cell_type": "markdown",
   "metadata": {},
   "source": [
    "Найдём корреляцию стоимости квадратного метра с количеством комнат, площадью и расстоянием до центра."
   ]
  },
  {
   "cell_type": "code",
   "execution_count": 77,
   "metadata": {},
   "outputs": [
    {
     "data": {
      "text/plain": [
       "-0.18493751745066042"
      ]
     },
     "execution_count": 77,
     "metadata": {},
     "output_type": "execute_result"
    }
   ],
   "source": [
    "data['meter_cost'].corr(data['rooms'])"
   ]
  },
  {
   "cell_type": "code",
   "execution_count": 78,
   "metadata": {},
   "outputs": [
    {
     "data": {
      "text/plain": [
       "-0.005841123592765081"
      ]
     },
     "execution_count": 78,
     "metadata": {},
     "output_type": "execute_result"
    }
   ],
   "source": [
    "data['meter_cost'].corr(data['total_area'])"
   ]
  },
  {
   "cell_type": "code",
   "execution_count": 79,
   "metadata": {},
   "outputs": [
    {
     "data": {
      "text/plain": [
       "-0.19148640375993264"
      ]
     },
     "execution_count": 79,
     "metadata": {},
     "output_type": "execute_result"
    }
   ],
   "source": [
    "data['meter_cost'].corr(data['cityCenters_nearest'])"
   ]
  },
  {
   "cell_type": "markdown",
   "metadata": {},
   "source": [
    "Пока что получается, что ничего не влияет. Даже немножко наоборот. Хотя это, конечно, непонятно.\n",
    "\n",
    "Для этажей, месяца, дня недели и года построим диаграмму размаха."
   ]
  },
  {
   "cell_type": "code",
   "execution_count": 80,
   "metadata": {},
   "outputs": [
    {
     "data": {
      "text/plain": [
       "<matplotlib.axes._subplots.AxesSubplot at 0x2793551e3c8>"
      ]
     },
     "execution_count": 80,
     "metadata": {},
     "output_type": "execute_result"
    },
    {
     "data": {
      "image/png": "[encoded data removed]",
      "text/plain": [
       "<Figure size 648x504 with 1 Axes>"
      ]
     },
     "metadata": {
      "needs_background": "light"
     },
     "output_type": "display_data"
    }
   ],
   "source": [
    "data.boxplot(column='meter_cost', by='floor_define', figsize=(9,7))"
   ]
  },
  {
   "cell_type": "markdown",
   "metadata": {},
   "source": [
    "На первом этаже квартиры покупают хуже всего. Да и последний этаж людям не особо нравится."
   ]
  },
  {
   "cell_type": "code",
   "execution_count": 81,
   "metadata": {},
   "outputs": [
    {
     "data": {
      "text/plain": [
       "<matplotlib.axes._subplots.AxesSubplot at 0x2793565d208>"
      ]
     },
     "execution_count": 81,
     "metadata": {},
     "output_type": "execute_result"
    },
    {
     "data": {
      "image/png": "[encoded data removed]",
      "text/plain": [
       "<Figure size 648x504 with 1 Axes>"
      ]
     },
     "metadata": {
      "needs_background": "light"
     },
     "output_type": "display_data"
    }
   ],
   "source": [
    "data.boxplot(column='meter_cost', by='month', figsize=(9,7))"
   ]
  },
  {
   "cell_type": "markdown",
   "metadata": {},
   "source": [
    "Месяц, когда было выставлено объявление, не особо влияет на стоимость. Различия минимальны."
   ]
  },
  {
   "cell_type": "code",
   "execution_count": 82,
   "metadata": {},
   "outputs": [
    {
     "data": {
      "text/plain": [
       "<matplotlib.axes._subplots.AxesSubplot at 0x2792ec66d08>"
      ]
     },
     "execution_count": 82,
     "metadata": {},
     "output_type": "execute_result"
    },
    {
     "data": {
      "image/png": "[encoded data removed]",
      "text/plain": [
       "<Figure size 648x504 with 1 Axes>"
      ]
     },
     "metadata": {
      "needs_background": "light"
     },
     "output_type": "display_data"
    }
   ],
   "source": [
    "data.boxplot(column='meter_cost', by='weekday', figsize=(9,7))"
   ]
  },
  {
   "cell_type": "markdown",
   "metadata": {},
   "source": [
    "Как и день недели, когда было выставлено объявление. "
   ]
  },
  {
   "cell_type": "code",
   "execution_count": 83,
   "metadata": {},
   "outputs": [
    {
     "data": {
      "text/plain": [
       "<matplotlib.axes._subplots.AxesSubplot at 0x27935da7248>"
      ]
     },
     "execution_count": 83,
     "metadata": {},
     "output_type": "execute_result"
    },
    {
     "data": {
      "image/png": "[encoded data removed]",
      "text/plain": [
       "<Figure size 648x504 with 1 Axes>"
      ]
     },
     "metadata": {
      "needs_background": "light"
     },
     "output_type": "display_data"
    }
   ],
   "source": [
    "data.boxplot(column='meter_cost', by='year', figsize=(9,7))"
   ]
  },
  {
   "cell_type": "markdown",
   "metadata": {},
   "source": [
    "А вот с годом всё интереснее: в 2019 явный рост, в 2105 спад, 16-18 цена оставалась примерно на одном уровне."
   ]
  },
  {
   "cell_type": "markdown",
   "metadata": {},
   "source": [
    "### Топ-10 населённых пунктов"
   ]
  },
  {
   "cell_type": "markdown",
   "metadata": {},
   "source": [
    "Найдём список из 10 самых часто встречающихся городов. Для этого отсортируем столбец locality_name по убыванию и возьмём первые десять городов."
   ]
  },
  {
   "cell_type": "code",
   "execution_count": 84,
   "metadata": {},
   "outputs": [
    {
     "data": {
      "text/plain": [
       "Index(['Санкт-Петербург', 'Мурино', 'Кудрово', 'Шушары', 'Всеволожск',\n",
       "       'Парголово', 'Колпино', 'Пушкин', 'Гатчина', 'Выборг'],\n",
       "      dtype='object')"
      ]
     },
     "execution_count": 84,
     "metadata": {},
     "output_type": "execute_result"
    }
   ],
   "source": [
    "top_10 = data['locality_name'].value_counts().head(10).index\n",
    "top_10"
   ]
  },
  {
   "cell_type": "markdown",
   "metadata": {},
   "source": [
    "Отсортируем нашу исходную таблицу по названиям, которые мы получили."
   ]
  },
  {
   "cell_type": "code",
   "execution_count": 85,
   "metadata": {},
   "outputs": [
    {
     "data": {
      "text/html": [
       "<div>\n",
       "<style scoped>\n",
       "    .dataframe tbody tr th:only-of-type {\n",
       "        vertical-align: middle;\n",
       "    }\n",
       "\n",
       "    .dataframe tbody tr th {\n",
       "        vertical-align: top;\n",
       "    }\n",
       "\n",
       "    .dataframe thead th {\n",
       "        text-align: right;\n",
       "    }\n",
       "</style>\n",
       "<table border=\"1\" class=\"dataframe\">\n",
       "  <thead>\n",
       "    <tr style=\"text-align: right;\">\n",
       "      <th></th>\n",
       "      <th>total_images</th>\n",
       "      <th>last_price</th>\n",
       "      <th>total_area</th>\n",
       "      <th>first_day_exposition</th>\n",
       "      <th>rooms</th>\n",
       "      <th>ceiling_height</th>\n",
       "      <th>floors_total</th>\n",
       "      <th>living_area</th>\n",
       "      <th>floor</th>\n",
       "      <th>is_apartment</th>\n",
       "      <th>studio</th>\n",
       "      <th>open_plan</th>\n",
       "      <th>kitchen_area</th>\n",
       "      <th>balcony</th>\n",
       "      <th>locality_name</th>\n",
       "      <th>airports_nearest</th>\n",
       "      <th>cityCenters_nearest</th>\n",
       "      <th>parks_around3000</th>\n",
       "      <th>parks_nearest</th>\n",
       "      <th>ponds_around3000</th>\n",
       "      <th>ponds_nearest</th>\n",
       "      <th>days_exposition</th>\n",
       "      <th>month</th>\n",
       "      <th>year</th>\n",
       "      <th>weekday</th>\n",
       "      <th>meter_cost</th>\n",
       "      <th>living_ratio</th>\n",
       "      <th>kitchen_ratio</th>\n",
       "      <th>floor_define</th>\n",
       "    </tr>\n",
       "  </thead>\n",
       "  <tbody>\n",
       "    <tr>\n",
       "      <td>1</td>\n",
       "      <td>7</td>\n",
       "      <td>3350000</td>\n",
       "      <td>40.40</td>\n",
       "      <td>2018-12-04</td>\n",
       "      <td>1</td>\n",
       "      <td>2.65</td>\n",
       "      <td>11.0</td>\n",
       "      <td>18.60</td>\n",
       "      <td>1</td>\n",
       "      <td>False</td>\n",
       "      <td>False</td>\n",
       "      <td>False</td>\n",
       "      <td>11.00</td>\n",
       "      <td>2</td>\n",
       "      <td>Шушары</td>\n",
       "      <td>12817</td>\n",
       "      <td>18603</td>\n",
       "      <td>0</td>\n",
       "      <td>455</td>\n",
       "      <td>0</td>\n",
       "      <td>503</td>\n",
       "      <td>81.0</td>\n",
       "      <td>12</td>\n",
       "      <td>2018</td>\n",
       "      <td>Tuesday</td>\n",
       "      <td>82920</td>\n",
       "      <td>0.460396</td>\n",
       "      <td>0.272277</td>\n",
       "      <td>первый</td>\n",
       "    </tr>\n",
       "    <tr>\n",
       "      <td>2</td>\n",
       "      <td>10</td>\n",
       "      <td>5196000</td>\n",
       "      <td>56.00</td>\n",
       "      <td>2015-08-20</td>\n",
       "      <td>2</td>\n",
       "      <td>2.65</td>\n",
       "      <td>5.0</td>\n",
       "      <td>34.30</td>\n",
       "      <td>4</td>\n",
       "      <td>False</td>\n",
       "      <td>False</td>\n",
       "      <td>False</td>\n",
       "      <td>8.30</td>\n",
       "      <td>0</td>\n",
       "      <td>Санкт-Петербург</td>\n",
       "      <td>21741</td>\n",
       "      <td>13933</td>\n",
       "      <td>1</td>\n",
       "      <td>90</td>\n",
       "      <td>2</td>\n",
       "      <td>574</td>\n",
       "      <td>558.0</td>\n",
       "      <td>8</td>\n",
       "      <td>2015</td>\n",
       "      <td>Thursday</td>\n",
       "      <td>92785</td>\n",
       "      <td>0.612500</td>\n",
       "      <td>0.148214</td>\n",
       "      <td>другой</td>\n",
       "    </tr>\n",
       "    <tr>\n",
       "      <td>6</td>\n",
       "      <td>6</td>\n",
       "      <td>3700000</td>\n",
       "      <td>37.30</td>\n",
       "      <td>2017-11-02</td>\n",
       "      <td>1</td>\n",
       "      <td>2.65</td>\n",
       "      <td>26.0</td>\n",
       "      <td>10.60</td>\n",
       "      <td>6</td>\n",
       "      <td>False</td>\n",
       "      <td>False</td>\n",
       "      <td>False</td>\n",
       "      <td>14.40</td>\n",
       "      <td>1</td>\n",
       "      <td>Парголово</td>\n",
       "      <td>52996</td>\n",
       "      <td>19143</td>\n",
       "      <td>0</td>\n",
       "      <td>455</td>\n",
       "      <td>0</td>\n",
       "      <td>503</td>\n",
       "      <td>155.0</td>\n",
       "      <td>11</td>\n",
       "      <td>2017</td>\n",
       "      <td>Thursday</td>\n",
       "      <td>99195</td>\n",
       "      <td>0.284182</td>\n",
       "      <td>0.386059</td>\n",
       "      <td>другой</td>\n",
       "    </tr>\n",
       "    <tr>\n",
       "      <td>8</td>\n",
       "      <td>20</td>\n",
       "      <td>2900000</td>\n",
       "      <td>33.16</td>\n",
       "      <td>2018-05-23</td>\n",
       "      <td>1</td>\n",
       "      <td>2.65</td>\n",
       "      <td>27.0</td>\n",
       "      <td>15.43</td>\n",
       "      <td>26</td>\n",
       "      <td>False</td>\n",
       "      <td>False</td>\n",
       "      <td>False</td>\n",
       "      <td>8.81</td>\n",
       "      <td>0</td>\n",
       "      <td>Мурино</td>\n",
       "      <td>26757</td>\n",
       "      <td>13096</td>\n",
       "      <td>0</td>\n",
       "      <td>455</td>\n",
       "      <td>1</td>\n",
       "      <td>503</td>\n",
       "      <td>189.0</td>\n",
       "      <td>5</td>\n",
       "      <td>2018</td>\n",
       "      <td>Wednesday</td>\n",
       "      <td>87454</td>\n",
       "      <td>0.465320</td>\n",
       "      <td>0.265682</td>\n",
       "      <td>другой</td>\n",
       "    </tr>\n",
       "    <tr>\n",
       "      <td>9</td>\n",
       "      <td>18</td>\n",
       "      <td>5400000</td>\n",
       "      <td>61.00</td>\n",
       "      <td>2017-02-26</td>\n",
       "      <td>3</td>\n",
       "      <td>2.50</td>\n",
       "      <td>9.0</td>\n",
       "      <td>43.60</td>\n",
       "      <td>7</td>\n",
       "      <td>False</td>\n",
       "      <td>False</td>\n",
       "      <td>False</td>\n",
       "      <td>6.50</td>\n",
       "      <td>2</td>\n",
       "      <td>Санкт-Петербург</td>\n",
       "      <td>50898</td>\n",
       "      <td>15008</td>\n",
       "      <td>0</td>\n",
       "      <td>455</td>\n",
       "      <td>0</td>\n",
       "      <td>503</td>\n",
       "      <td>289.0</td>\n",
       "      <td>2</td>\n",
       "      <td>2017</td>\n",
       "      <td>Sunday</td>\n",
       "      <td>88524</td>\n",
       "      <td>0.714754</td>\n",
       "      <td>0.106557</td>\n",
       "      <td>другой</td>\n",
       "    </tr>\n",
       "  </tbody>\n",
       "</table>\n",
       "</div>"
      ],
      "text/plain": [
       "   total_images  last_price  total_area first_day_exposition  rooms  \\\n",
       "1             7     3350000       40.40           2018-12-04      1   \n",
       "2            10     5196000       56.00           2015-08-20      2   \n",
       "6             6     3700000       37.30           2017-11-02      1   \n",
       "8            20     2900000       33.16           2018-05-23      1   \n",
       "9            18     5400000       61.00           2017-02-26      3   \n",
       "\n",
       "   ceiling_height  floors_total  living_area  floor  is_apartment  studio  \\\n",
       "1            2.65          11.0        18.60      1         False   False   \n",
       "2            2.65           5.0        34.30      4         False   False   \n",
       "6            2.65          26.0        10.60      6         False   False   \n",
       "8            2.65          27.0        15.43     26         False   False   \n",
       "9            2.50           9.0        43.60      7         False   False   \n",
       "\n",
       "   open_plan  kitchen_area  balcony    locality_name  airports_nearest  \\\n",
       "1      False         11.00        2           Шушары             12817   \n",
       "2      False          8.30        0  Санкт-Петербург             21741   \n",
       "6      False         14.40        1        Парголово             52996   \n",
       "8      False          8.81        0           Мурино             26757   \n",
       "9      False          6.50        2  Санкт-Петербург             50898   \n",
       "\n",
       "   cityCenters_nearest  parks_around3000  parks_nearest  ponds_around3000  \\\n",
       "1                18603                 0            455                 0   \n",
       "2                13933                 1             90                 2   \n",
       "6                19143                 0            455                 0   \n",
       "8                13096                 0            455                 1   \n",
       "9                15008                 0            455                 0   \n",
       "\n",
       "   ponds_nearest  days_exposition  month  year    weekday  meter_cost  \\\n",
       "1            503             81.0     12  2018    Tuesday       82920   \n",
       "2            574            558.0      8  2015   Thursday       92785   \n",
       "6            503            155.0     11  2017   Thursday       99195   \n",
       "8            503            189.0      5  2018  Wednesday       87454   \n",
       "9            503            289.0      2  2017     Sunday       88524   \n",
       "\n",
       "   living_ratio  kitchen_ratio floor_define  \n",
       "1      0.460396       0.272277       первый  \n",
       "2      0.612500       0.148214       другой  \n",
       "6      0.284182       0.386059       другой  \n",
       "8      0.465320       0.265682       другой  \n",
       "9      0.714754       0.106557       другой  "
      ]
     },
     "execution_count": 85,
     "metadata": {},
     "output_type": "execute_result"
    }
   ],
   "source": [
    "top_data = data[data['locality_name'].isin(top_10)]\n",
    "top_data.head()"
   ]
  },
  {
   "cell_type": "markdown",
   "metadata": {},
   "source": [
    "Найдём среднюю стоимость квадратного метра для каждого города. Для этого напишем цикл, который пройдёт по каждому названию из списка top_10 и рассчитает среднее по столбцу meter_cost."
   ]
  },
  {
   "cell_type": "code",
   "execution_count": 86,
   "metadata": {},
   "outputs": [
    {
     "name": "stdout",
     "output_type": "stream",
     "text": [
      "Санкт-Петербург 102113.8016357801\n",
      "Мурино 86092.53623188406\n",
      "Кудрово 94461.54285714286\n",
      "Шушары 77886.16981132075\n",
      "Всеволожск 66708.78571428571\n",
      "Парголово 89027.12962962964\n",
      "Колпино 74488.96183206108\n",
      "Пушкин 98218.64957264958\n",
      "Гатчина 68339.2175925926\n",
      "Выборг 57081.304093567254\n"
     ]
    }
   ],
   "source": [
    "for name in top_10:\n",
    "    mean_price = data.query('locality_name == @name')['meter_cost'].mean()\n",
    "    print(name, mean_price)"
   ]
  },
  {
   "cell_type": "markdown",
   "metadata": {},
   "source": [
    "Получается, населённый пункт с самой низкой стоимостью - Выборг, с самой высокой - Санкт-Петербург. Но про Питер можно было догадаться."
   ]
  },
  {
   "cell_type": "markdown",
   "metadata": {},
   "source": [
    "### Расстояние до центра"
   ]
  },
  {
   "cell_type": "code",
   "execution_count": 87,
   "metadata": {},
   "outputs": [
    {
     "data": {
      "text/html": [
       "<div>\n",
       "<style scoped>\n",
       "    .dataframe tbody tr th:only-of-type {\n",
       "        vertical-align: middle;\n",
       "    }\n",
       "\n",
       "    .dataframe tbody tr th {\n",
       "        vertical-align: top;\n",
       "    }\n",
       "\n",
       "    .dataframe thead th {\n",
       "        text-align: right;\n",
       "    }\n",
       "</style>\n",
       "<table border=\"1\" class=\"dataframe\">\n",
       "  <thead>\n",
       "    <tr style=\"text-align: right;\">\n",
       "      <th></th>\n",
       "      <th>total_images</th>\n",
       "      <th>last_price</th>\n",
       "      <th>total_area</th>\n",
       "      <th>first_day_exposition</th>\n",
       "      <th>rooms</th>\n",
       "      <th>ceiling_height</th>\n",
       "      <th>floors_total</th>\n",
       "      <th>living_area</th>\n",
       "      <th>floor</th>\n",
       "      <th>is_apartment</th>\n",
       "      <th>studio</th>\n",
       "      <th>open_plan</th>\n",
       "      <th>kitchen_area</th>\n",
       "      <th>balcony</th>\n",
       "      <th>locality_name</th>\n",
       "      <th>airports_nearest</th>\n",
       "      <th>cityCenters_nearest</th>\n",
       "      <th>parks_around3000</th>\n",
       "      <th>parks_nearest</th>\n",
       "      <th>ponds_around3000</th>\n",
       "      <th>ponds_nearest</th>\n",
       "      <th>days_exposition</th>\n",
       "      <th>month</th>\n",
       "      <th>year</th>\n",
       "      <th>weekday</th>\n",
       "      <th>meter_cost</th>\n",
       "      <th>living_ratio</th>\n",
       "      <th>kitchen_ratio</th>\n",
       "      <th>floor_define</th>\n",
       "      <th>centre_nearest_km</th>\n",
       "    </tr>\n",
       "  </thead>\n",
       "  <tbody>\n",
       "    <tr>\n",
       "      <td>1</td>\n",
       "      <td>7</td>\n",
       "      <td>3350000</td>\n",
       "      <td>40.40</td>\n",
       "      <td>2018-12-04</td>\n",
       "      <td>1</td>\n",
       "      <td>2.65</td>\n",
       "      <td>11.0</td>\n",
       "      <td>18.60</td>\n",
       "      <td>1</td>\n",
       "      <td>False</td>\n",
       "      <td>False</td>\n",
       "      <td>False</td>\n",
       "      <td>11.00</td>\n",
       "      <td>2</td>\n",
       "      <td>Шушары</td>\n",
       "      <td>12817</td>\n",
       "      <td>18603</td>\n",
       "      <td>0</td>\n",
       "      <td>455</td>\n",
       "      <td>0</td>\n",
       "      <td>503</td>\n",
       "      <td>81.0</td>\n",
       "      <td>12</td>\n",
       "      <td>2018</td>\n",
       "      <td>Tuesday</td>\n",
       "      <td>82920</td>\n",
       "      <td>0.460396</td>\n",
       "      <td>0.272277</td>\n",
       "      <td>первый</td>\n",
       "      <td>19.0</td>\n",
       "    </tr>\n",
       "    <tr>\n",
       "      <td>2</td>\n",
       "      <td>10</td>\n",
       "      <td>5196000</td>\n",
       "      <td>56.00</td>\n",
       "      <td>2015-08-20</td>\n",
       "      <td>2</td>\n",
       "      <td>2.65</td>\n",
       "      <td>5.0</td>\n",
       "      <td>34.30</td>\n",
       "      <td>4</td>\n",
       "      <td>False</td>\n",
       "      <td>False</td>\n",
       "      <td>False</td>\n",
       "      <td>8.30</td>\n",
       "      <td>0</td>\n",
       "      <td>Санкт-Петербург</td>\n",
       "      <td>21741</td>\n",
       "      <td>13933</td>\n",
       "      <td>1</td>\n",
       "      <td>90</td>\n",
       "      <td>2</td>\n",
       "      <td>574</td>\n",
       "      <td>558.0</td>\n",
       "      <td>8</td>\n",
       "      <td>2015</td>\n",
       "      <td>Thursday</td>\n",
       "      <td>92785</td>\n",
       "      <td>0.612500</td>\n",
       "      <td>0.148214</td>\n",
       "      <td>другой</td>\n",
       "      <td>14.0</td>\n",
       "    </tr>\n",
       "    <tr>\n",
       "      <td>5</td>\n",
       "      <td>10</td>\n",
       "      <td>2890000</td>\n",
       "      <td>30.40</td>\n",
       "      <td>2018-09-10</td>\n",
       "      <td>1</td>\n",
       "      <td>2.65</td>\n",
       "      <td>12.0</td>\n",
       "      <td>14.40</td>\n",
       "      <td>5</td>\n",
       "      <td>False</td>\n",
       "      <td>False</td>\n",
       "      <td>False</td>\n",
       "      <td>9.10</td>\n",
       "      <td>0</td>\n",
       "      <td>Янино-1</td>\n",
       "      <td>26757</td>\n",
       "      <td>13096</td>\n",
       "      <td>0</td>\n",
       "      <td>455</td>\n",
       "      <td>1</td>\n",
       "      <td>503</td>\n",
       "      <td>55.0</td>\n",
       "      <td>9</td>\n",
       "      <td>2018</td>\n",
       "      <td>Monday</td>\n",
       "      <td>95065</td>\n",
       "      <td>0.473684</td>\n",
       "      <td>0.299342</td>\n",
       "      <td>другой</td>\n",
       "      <td>13.0</td>\n",
       "    </tr>\n",
       "    <tr>\n",
       "      <td>6</td>\n",
       "      <td>6</td>\n",
       "      <td>3700000</td>\n",
       "      <td>37.30</td>\n",
       "      <td>2017-11-02</td>\n",
       "      <td>1</td>\n",
       "      <td>2.65</td>\n",
       "      <td>26.0</td>\n",
       "      <td>10.60</td>\n",
       "      <td>6</td>\n",
       "      <td>False</td>\n",
       "      <td>False</td>\n",
       "      <td>False</td>\n",
       "      <td>14.40</td>\n",
       "      <td>1</td>\n",
       "      <td>Парголово</td>\n",
       "      <td>52996</td>\n",
       "      <td>19143</td>\n",
       "      <td>0</td>\n",
       "      <td>455</td>\n",
       "      <td>0</td>\n",
       "      <td>503</td>\n",
       "      <td>155.0</td>\n",
       "      <td>11</td>\n",
       "      <td>2017</td>\n",
       "      <td>Thursday</td>\n",
       "      <td>99195</td>\n",
       "      <td>0.284182</td>\n",
       "      <td>0.386059</td>\n",
       "      <td>другой</td>\n",
       "      <td>19.0</td>\n",
       "    </tr>\n",
       "    <tr>\n",
       "      <td>8</td>\n",
       "      <td>20</td>\n",
       "      <td>2900000</td>\n",
       "      <td>33.16</td>\n",
       "      <td>2018-05-23</td>\n",
       "      <td>1</td>\n",
       "      <td>2.65</td>\n",
       "      <td>27.0</td>\n",
       "      <td>15.43</td>\n",
       "      <td>26</td>\n",
       "      <td>False</td>\n",
       "      <td>False</td>\n",
       "      <td>False</td>\n",
       "      <td>8.81</td>\n",
       "      <td>0</td>\n",
       "      <td>Мурино</td>\n",
       "      <td>26757</td>\n",
       "      <td>13096</td>\n",
       "      <td>0</td>\n",
       "      <td>455</td>\n",
       "      <td>1</td>\n",
       "      <td>503</td>\n",
       "      <td>189.0</td>\n",
       "      <td>5</td>\n",
       "      <td>2018</td>\n",
       "      <td>Wednesday</td>\n",
       "      <td>87454</td>\n",
       "      <td>0.465320</td>\n",
       "      <td>0.265682</td>\n",
       "      <td>другой</td>\n",
       "      <td>13.0</td>\n",
       "    </tr>\n",
       "  </tbody>\n",
       "</table>\n",
       "</div>"
      ],
      "text/plain": [
       "   total_images  last_price  total_area first_day_exposition  rooms  \\\n",
       "1             7     3350000       40.40           2018-12-04      1   \n",
       "2            10     5196000       56.00           2015-08-20      2   \n",
       "5            10     2890000       30.40           2018-09-10      1   \n",
       "6             6     3700000       37.30           2017-11-02      1   \n",
       "8            20     2900000       33.16           2018-05-23      1   \n",
       "\n",
       "   ceiling_height  floors_total  living_area  floor  is_apartment  studio  \\\n",
       "1            2.65          11.0        18.60      1         False   False   \n",
       "2            2.65           5.0        34.30      4         False   False   \n",
       "5            2.65          12.0        14.40      5         False   False   \n",
       "6            2.65          26.0        10.60      6         False   False   \n",
       "8            2.65          27.0        15.43     26         False   False   \n",
       "\n",
       "   open_plan  kitchen_area  balcony    locality_name  airports_nearest  \\\n",
       "1      False         11.00        2           Шушары             12817   \n",
       "2      False          8.30        0  Санкт-Петербург             21741   \n",
       "5      False          9.10        0          Янино-1             26757   \n",
       "6      False         14.40        1        Парголово             52996   \n",
       "8      False          8.81        0           Мурино             26757   \n",
       "\n",
       "   cityCenters_nearest  parks_around3000  parks_nearest  ponds_around3000  \\\n",
       "1                18603                 0            455                 0   \n",
       "2                13933                 1             90                 2   \n",
       "5                13096                 0            455                 1   \n",
       "6                19143                 0            455                 0   \n",
       "8                13096                 0            455                 1   \n",
       "\n",
       "   ponds_nearest  days_exposition  month  year    weekday  meter_cost  \\\n",
       "1            503             81.0     12  2018    Tuesday       82920   \n",
       "2            574            558.0      8  2015   Thursday       92785   \n",
       "5            503             55.0      9  2018     Monday       95065   \n",
       "6            503            155.0     11  2017   Thursday       99195   \n",
       "8            503            189.0      5  2018  Wednesday       87454   \n",
       "\n",
       "   living_ratio  kitchen_ratio floor_define  centre_nearest_km  \n",
       "1      0.460396       0.272277       первый               19.0  \n",
       "2      0.612500       0.148214       другой               14.0  \n",
       "5      0.473684       0.299342       другой               13.0  \n",
       "6      0.284182       0.386059       другой               19.0  \n",
       "8      0.465320       0.265682       другой               13.0  "
      ]
     },
     "execution_count": 87,
     "metadata": {},
     "output_type": "execute_result"
    }
   ],
   "source": [
    "data['centre_nearest_km'] = round(data['cityCenters_nearest'] / 1000)\n",
    "data.head()"
   ]
  },
  {
   "cell_type": "code",
   "execution_count": 88,
   "metadata": {},
   "outputs": [
    {
     "data": {
      "text/html": [
       "<div>\n",
       "<style scoped>\n",
       "    .dataframe tbody tr th:only-of-type {\n",
       "        vertical-align: middle;\n",
       "    }\n",
       "\n",
       "    .dataframe tbody tr th {\n",
       "        vertical-align: top;\n",
       "    }\n",
       "\n",
       "    .dataframe thead th {\n",
       "        text-align: right;\n",
       "    }\n",
       "</style>\n",
       "<table border=\"1\" class=\"dataframe\">\n",
       "  <thead>\n",
       "    <tr style=\"text-align: right;\">\n",
       "      <th></th>\n",
       "      <th>meter_cost</th>\n",
       "    </tr>\n",
       "    <tr>\n",
       "      <th>centre_nearest_km</th>\n",
       "      <th></th>\n",
       "    </tr>\n",
       "  </thead>\n",
       "  <tbody>\n",
       "    <tr>\n",
       "      <td>0.0</td>\n",
       "      <td>114373.333333</td>\n",
       "    </tr>\n",
       "    <tr>\n",
       "      <td>1.0</td>\n",
       "      <td>110847.800000</td>\n",
       "    </tr>\n",
       "    <tr>\n",
       "      <td>2.0</td>\n",
       "      <td>105605.774648</td>\n",
       "    </tr>\n",
       "    <tr>\n",
       "      <td>3.0</td>\n",
       "      <td>107582.214953</td>\n",
       "    </tr>\n",
       "    <tr>\n",
       "      <td>4.0</td>\n",
       "      <td>109254.638191</td>\n",
       "    </tr>\n",
       "  </tbody>\n",
       "</table>\n",
       "</div>"
      ],
      "text/plain": [
       "                      meter_cost\n",
       "centre_nearest_km               \n",
       "0.0                114373.333333\n",
       "1.0                110847.800000\n",
       "2.0                105605.774648\n",
       "3.0                107582.214953\n",
       "4.0                109254.638191"
      ]
     },
     "execution_count": 88,
     "metadata": {},
     "output_type": "execute_result"
    }
   ],
   "source": [
    "centre_distance = data.pivot_table(index='centre_nearest_km', values='meter_cost')\n",
    "centre_distance.head()"
   ]
  },
  {
   "cell_type": "code",
   "execution_count": 89,
   "metadata": {},
   "outputs": [
    {
     "data": {
      "text/plain": [
       "<matplotlib.axes._subplots.AxesSubplot at 0x2793551e388>"
      ]
     },
     "execution_count": 89,
     "metadata": {},
     "output_type": "execute_result"
    },
    {
     "data": {
      "image/png": "[encoded data removed]",
      "text/plain": [
       "<Figure size 432x288 with 1 Axes>"
      ]
     },
     "metadata": {
      "needs_background": "light"
     },
     "output_type": "display_data"
    }
   ],
   "source": [
    "centre_distance.plot(y='meter_cost', style='o-', title='Стоимость кв.м. в зависимости от удалённости от центра')"
   ]
  },
  {
   "cell_type": "markdown",
   "metadata": {},
   "source": [
    "От 0 до 1 км от центра - цена сильно выше, чем дальше. На графике есть пик в районе 6-7 км - это и будет центральной границей"
   ]
  },
  {
   "cell_type": "code",
   "execution_count": 90,
   "metadata": {},
   "outputs": [
    {
     "data": {
      "text/html": [
       "<div>\n",
       "<style scoped>\n",
       "    .dataframe tbody tr th:only-of-type {\n",
       "        vertical-align: middle;\n",
       "    }\n",
       "\n",
       "    .dataframe tbody tr th {\n",
       "        vertical-align: top;\n",
       "    }\n",
       "\n",
       "    .dataframe thead th {\n",
       "        text-align: right;\n",
       "    }\n",
       "</style>\n",
       "<table border=\"1\" class=\"dataframe\">\n",
       "  <thead>\n",
       "    <tr style=\"text-align: right;\">\n",
       "      <th></th>\n",
       "      <th>total_images</th>\n",
       "      <th>last_price</th>\n",
       "      <th>total_area</th>\n",
       "      <th>first_day_exposition</th>\n",
       "      <th>rooms</th>\n",
       "      <th>ceiling_height</th>\n",
       "      <th>floors_total</th>\n",
       "      <th>living_area</th>\n",
       "      <th>floor</th>\n",
       "      <th>is_apartment</th>\n",
       "      <th>studio</th>\n",
       "      <th>open_plan</th>\n",
       "      <th>kitchen_area</th>\n",
       "      <th>balcony</th>\n",
       "      <th>locality_name</th>\n",
       "      <th>airports_nearest</th>\n",
       "      <th>cityCenters_nearest</th>\n",
       "      <th>parks_around3000</th>\n",
       "      <th>parks_nearest</th>\n",
       "      <th>ponds_around3000</th>\n",
       "      <th>ponds_nearest</th>\n",
       "      <th>days_exposition</th>\n",
       "      <th>month</th>\n",
       "      <th>year</th>\n",
       "      <th>weekday</th>\n",
       "      <th>meter_cost</th>\n",
       "      <th>living_ratio</th>\n",
       "      <th>kitchen_ratio</th>\n",
       "      <th>floor_define</th>\n",
       "      <th>centre_nearest_km</th>\n",
       "    </tr>\n",
       "  </thead>\n",
       "  <tbody>\n",
       "    <tr>\n",
       "      <td>24</td>\n",
       "      <td>8</td>\n",
       "      <td>6500000</td>\n",
       "      <td>97.2</td>\n",
       "      <td>2015-10-31</td>\n",
       "      <td>2</td>\n",
       "      <td>2.65</td>\n",
       "      <td>3.0</td>\n",
       "      <td>46.5</td>\n",
       "      <td>1</td>\n",
       "      <td>False</td>\n",
       "      <td>False</td>\n",
       "      <td>False</td>\n",
       "      <td>19.6</td>\n",
       "      <td>0</td>\n",
       "      <td>Санкт-Петербург</td>\n",
       "      <td>20052</td>\n",
       "      <td>2336</td>\n",
       "      <td>3</td>\n",
       "      <td>411</td>\n",
       "      <td>3</td>\n",
       "      <td>124</td>\n",
       "      <td>265.0</td>\n",
       "      <td>10</td>\n",
       "      <td>2015</td>\n",
       "      <td>Saturday</td>\n",
       "      <td>66872</td>\n",
       "      <td>0.478395</td>\n",
       "      <td>0.201646</td>\n",
       "      <td>первый</td>\n",
       "      <td>2.0</td>\n",
       "    </tr>\n",
       "    <tr>\n",
       "      <td>99</td>\n",
       "      <td>32</td>\n",
       "      <td>9600000</td>\n",
       "      <td>90.0</td>\n",
       "      <td>2017-09-26</td>\n",
       "      <td>4</td>\n",
       "      <td>2.65</td>\n",
       "      <td>5.0</td>\n",
       "      <td>67.0</td>\n",
       "      <td>2</td>\n",
       "      <td>False</td>\n",
       "      <td>False</td>\n",
       "      <td>False</td>\n",
       "      <td>8.0</td>\n",
       "      <td>0</td>\n",
       "      <td>Санкт-Петербург</td>\n",
       "      <td>23277</td>\n",
       "      <td>2818</td>\n",
       "      <td>0</td>\n",
       "      <td>455</td>\n",
       "      <td>0</td>\n",
       "      <td>503</td>\n",
       "      <td>104.0</td>\n",
       "      <td>9</td>\n",
       "      <td>2017</td>\n",
       "      <td>Tuesday</td>\n",
       "      <td>106666</td>\n",
       "      <td>0.744444</td>\n",
       "      <td>0.088889</td>\n",
       "      <td>другой</td>\n",
       "      <td>3.0</td>\n",
       "    </tr>\n",
       "    <tr>\n",
       "      <td>111</td>\n",
       "      <td>4</td>\n",
       "      <td>4590000</td>\n",
       "      <td>40.0</td>\n",
       "      <td>2017-05-29</td>\n",
       "      <td>1</td>\n",
       "      <td>2.65</td>\n",
       "      <td>6.0</td>\n",
       "      <td>18.0</td>\n",
       "      <td>1</td>\n",
       "      <td>False</td>\n",
       "      <td>False</td>\n",
       "      <td>False</td>\n",
       "      <td>10.0</td>\n",
       "      <td>0</td>\n",
       "      <td>Санкт-Петербург</td>\n",
       "      <td>20062</td>\n",
       "      <td>6175</td>\n",
       "      <td>1</td>\n",
       "      <td>241</td>\n",
       "      <td>0</td>\n",
       "      <td>503</td>\n",
       "      <td>31.0</td>\n",
       "      <td>5</td>\n",
       "      <td>2017</td>\n",
       "      <td>Monday</td>\n",
       "      <td>114750</td>\n",
       "      <td>0.450000</td>\n",
       "      <td>0.250000</td>\n",
       "      <td>первый</td>\n",
       "      <td>6.0</td>\n",
       "    </tr>\n",
       "    <tr>\n",
       "      <td>138</td>\n",
       "      <td>8</td>\n",
       "      <td>4800000</td>\n",
       "      <td>40.0</td>\n",
       "      <td>2017-11-18</td>\n",
       "      <td>2</td>\n",
       "      <td>2.65</td>\n",
       "      <td>3.0</td>\n",
       "      <td>29.0</td>\n",
       "      <td>2</td>\n",
       "      <td>False</td>\n",
       "      <td>False</td>\n",
       "      <td>False</td>\n",
       "      <td>6.0</td>\n",
       "      <td>0</td>\n",
       "      <td>Санкт-Петербург</td>\n",
       "      <td>23371</td>\n",
       "      <td>2913</td>\n",
       "      <td>0</td>\n",
       "      <td>455</td>\n",
       "      <td>2</td>\n",
       "      <td>729</td>\n",
       "      <td>80.0</td>\n",
       "      <td>11</td>\n",
       "      <td>2017</td>\n",
       "      <td>Saturday</td>\n",
       "      <td>120000</td>\n",
       "      <td>0.725000</td>\n",
       "      <td>0.150000</td>\n",
       "      <td>другой</td>\n",
       "      <td>3.0</td>\n",
       "    </tr>\n",
       "    <tr>\n",
       "      <td>143</td>\n",
       "      <td>9</td>\n",
       "      <td>2990000</td>\n",
       "      <td>30.0</td>\n",
       "      <td>2016-06-08</td>\n",
       "      <td>1</td>\n",
       "      <td>2.50</td>\n",
       "      <td>9.0</td>\n",
       "      <td>20.0</td>\n",
       "      <td>9</td>\n",
       "      <td>False</td>\n",
       "      <td>False</td>\n",
       "      <td>False</td>\n",
       "      <td>5.6</td>\n",
       "      <td>0</td>\n",
       "      <td>Санкт-Петербург</td>\n",
       "      <td>30067</td>\n",
       "      <td>6262</td>\n",
       "      <td>0</td>\n",
       "      <td>455</td>\n",
       "      <td>1</td>\n",
       "      <td>332</td>\n",
       "      <td>60.0</td>\n",
       "      <td>6</td>\n",
       "      <td>2016</td>\n",
       "      <td>Wednesday</td>\n",
       "      <td>99666</td>\n",
       "      <td>0.666667</td>\n",
       "      <td>0.186667</td>\n",
       "      <td>последний</td>\n",
       "      <td>6.0</td>\n",
       "    </tr>\n",
       "  </tbody>\n",
       "</table>\n",
       "</div>"
      ],
      "text/plain": [
       "     total_images  last_price  total_area first_day_exposition  rooms  \\\n",
       "24              8     6500000        97.2           2015-10-31      2   \n",
       "99             32     9600000        90.0           2017-09-26      4   \n",
       "111             4     4590000        40.0           2017-05-29      1   \n",
       "138             8     4800000        40.0           2017-11-18      2   \n",
       "143             9     2990000        30.0           2016-06-08      1   \n",
       "\n",
       "     ceiling_height  floors_total  living_area  floor  is_apartment  studio  \\\n",
       "24             2.65           3.0         46.5      1         False   False   \n",
       "99             2.65           5.0         67.0      2         False   False   \n",
       "111            2.65           6.0         18.0      1         False   False   \n",
       "138            2.65           3.0         29.0      2         False   False   \n",
       "143            2.50           9.0         20.0      9         False   False   \n",
       "\n",
       "     open_plan  kitchen_area  balcony    locality_name  airports_nearest  \\\n",
       "24       False          19.6        0  Санкт-Петербург             20052   \n",
       "99       False           8.0        0  Санкт-Петербург             23277   \n",
       "111      False          10.0        0  Санкт-Петербург             20062   \n",
       "138      False           6.0        0  Санкт-Петербург             23371   \n",
       "143      False           5.6        0  Санкт-Петербург             30067   \n",
       "\n",
       "     cityCenters_nearest  parks_around3000  parks_nearest  ponds_around3000  \\\n",
       "24                  2336                 3            411                 3   \n",
       "99                  2818                 0            455                 0   \n",
       "111                 6175                 1            241                 0   \n",
       "138                 2913                 0            455                 2   \n",
       "143                 6262                 0            455                 1   \n",
       "\n",
       "     ponds_nearest  days_exposition  month  year    weekday  meter_cost  \\\n",
       "24             124            265.0     10  2015   Saturday       66872   \n",
       "99             503            104.0      9  2017    Tuesday      106666   \n",
       "111            503             31.0      5  2017     Monday      114750   \n",
       "138            729             80.0     11  2017   Saturday      120000   \n",
       "143            332             60.0      6  2016  Wednesday       99666   \n",
       "\n",
       "     living_ratio  kitchen_ratio floor_define  centre_nearest_km  \n",
       "24       0.478395       0.201646       первый                2.0  \n",
       "99       0.744444       0.088889       другой                3.0  \n",
       "111      0.450000       0.250000       первый                6.0  \n",
       "138      0.725000       0.150000       другой                3.0  \n",
       "143      0.666667       0.186667    последний                6.0  "
      ]
     },
     "execution_count": 90,
     "metadata": {},
     "output_type": "execute_result"
    }
   ],
   "source": [
    "data_centre = data.query('centre_nearest_km <= 7')\n",
    "data_centre.head()"
   ]
  },
  {
   "cell_type": "code",
   "execution_count": 91,
   "metadata": {},
   "outputs": [
    {
     "data": {
      "text/plain": [
       "Text(0.5, 1.0, 'Общая площадь')"
      ]
     },
     "execution_count": 91,
     "metadata": {},
     "output_type": "execute_result"
    },
    {
     "data": {
      "image/png": "[encoded data removed]",
      "text/plain": [
       "<Figure size 432x288 with 1 Axes>"
      ]
     },
     "metadata": {
      "needs_background": "light"
     },
     "output_type": "display_data"
    }
   ],
   "source": [
    "data_centre.hist('total_area')\n",
    "plt.ylabel('Количество')\n",
    "plt.xlabel('кв.м.')\n",
    "plt.title('Общая площадь')"
   ]
  },
  {
   "cell_type": "code",
   "execution_count": 92,
   "metadata": {},
   "outputs": [
    {
     "data": {
      "text/plain": [
       "Text(0.5, 1.0, 'Стоимость 1 кв.м.')"
      ]
     },
     "execution_count": 92,
     "metadata": {},
     "output_type": "execute_result"
    },
    {
     "data": {
      "image/png": "[encoded data removed]",
      "text/plain": [
       "<Figure size 432x288 with 1 Axes>"
      ]
     },
     "metadata": {
      "needs_background": "light"
     },
     "output_type": "display_data"
    }
   ],
   "source": [
    "data_centre.hist('meter_cost')\n",
    "plt.ylabel('Количество')\n",
    "plt.xlabel('Руб.')\n",
    "plt.title('Стоимость 1 кв.м.')"
   ]
  },
  {
   "cell_type": "code",
   "execution_count": 93,
   "metadata": {},
   "outputs": [
    {
     "data": {
      "text/plain": [
       "Text(0.5, 1.0, 'Комнаты')"
      ]
     },
     "execution_count": 93,
     "metadata": {},
     "output_type": "execute_result"
    },
    {
     "data": {
      "image/png": "[encoded data removed]",
      "text/plain": [
       "<Figure size 432x288 with 1 Axes>"
      ]
     },
     "metadata": {
      "needs_background": "light"
     },
     "output_type": "display_data"
    }
   ],
   "source": [
    "data_centre.hist('rooms', bins=5)\n",
    "plt.ylabel('Количество квартир')\n",
    "plt.xlabel('Количество комнат')\n",
    "plt.title('Комнаты')"
   ]
  },
  {
   "cell_type": "code",
   "execution_count": 94,
   "metadata": {},
   "outputs": [
    {
     "data": {
      "text/plain": [
       "Text(0.5, 1.0, 'Высота потолков')"
      ]
     },
     "execution_count": 94,
     "metadata": {},
     "output_type": "execute_result"
    },
    {
     "data": {
      "image/png": "[encoded data removed]",
      "text/plain": [
       "<Figure size 432x288 with 1 Axes>"
      ]
     },
     "metadata": {
      "needs_background": "light"
     },
     "output_type": "display_data"
    }
   ],
   "source": [
    "data_centre.hist('ceiling_height', bins=5)\n",
    "plt.ylabel('Количество')\n",
    "plt.xlabel('Метры')\n",
    "plt.title('Высота потолков')"
   ]
  },
  {
   "cell_type": "code",
   "execution_count": 95,
   "metadata": {},
   "outputs": [
    {
     "data": {
      "text/plain": [
       "-0.3481461343924934"
      ]
     },
     "execution_count": 95,
     "metadata": {},
     "output_type": "execute_result"
    }
   ],
   "source": [
    "data_centre['meter_cost'].corr(data['rooms'])"
   ]
  },
  {
   "cell_type": "code",
   "execution_count": 96,
   "metadata": {},
   "outputs": [
    {
     "data": {
      "text/plain": [
       "0.27841255670578346"
      ]
     },
     "execution_count": 96,
     "metadata": {},
     "output_type": "execute_result"
    }
   ],
   "source": [
    "data_centre['meter_cost'].corr(data['floor'])"
   ]
  },
  {
   "cell_type": "code",
   "execution_count": 97,
   "metadata": {
    "scrolled": true
   },
   "outputs": [
    {
     "data": {
      "text/plain": [
       "0.1283321708729902"
      ]
     },
     "execution_count": 97,
     "metadata": {},
     "output_type": "execute_result"
    }
   ],
   "source": [
    "data_centre['meter_cost'].corr(data['cityCenters_nearest'])"
   ]
  },
  {
   "cell_type": "markdown",
   "metadata": {},
   "source": [
    "В центре Питера расстояние до географического центра Питера особого влияния на стоимость квадратного метра жилья не оказывает. Как и количество комнат. Зато оказывает влияние этаж. Посмотрим подробнее на диаграмме размаха."
   ]
  },
  {
   "cell_type": "code",
   "execution_count": 98,
   "metadata": {
    "scrolled": false
   },
   "outputs": [
    {
     "data": {
      "text/plain": [
       "<matplotlib.axes._subplots.AxesSubplot at 0x2792f40a0c8>"
      ]
     },
     "execution_count": 98,
     "metadata": {},
     "output_type": "execute_result"
    },
    {
     "data": {
      "image/png": "[encoded data removed]",
      "text/plain": [
       "<Figure size 648x504 with 1 Axes>"
      ]
     },
     "metadata": {
      "needs_background": "light"
     },
     "output_type": "display_data"
    }
   ],
   "source": [
    "data_centre.boxplot(column='meter_cost', by='floor_define', figsize=(9,7))"
   ]
  },
  {
   "cell_type": "markdown",
   "metadata": {},
   "source": [
    "Удивительно, но в Питере люди чаще выбирают последний этаж. Даже странно, там же нет лифтов! И потолки громадные. Не поймёшь этих людей."
   ]
  },
  {
   "cell_type": "code",
   "execution_count": 99,
   "metadata": {},
   "outputs": [
    {
     "data": {
      "text/plain": [
       "<matplotlib.axes._subplots.AxesSubplot at 0x2792f3b1c48>"
      ]
     },
     "execution_count": 99,
     "metadata": {},
     "output_type": "execute_result"
    },
    {
     "data": {
      "image/png": "[encoded data removed]",
      "text/plain": [
       "<Figure size 648x504 with 1 Axes>"
      ]
     },
     "metadata": {
      "needs_background": "light"
     },
     "output_type": "display_data"
    }
   ],
   "source": [
    "data_centre.boxplot(column='meter_cost', by='month', figsize=(9,7))"
   ]
  },
  {
   "cell_type": "markdown",
   "metadata": {},
   "source": [
    "Зимой в Питере красиво, и люди хотят продавать свои квартиры дорого. Потом провал и подготовка к летнему спросу.  В мае выставляют самый низкий ценник. Дальше рост-рост-рост, до осени, когда начинается самое брр. Достаточно логично."
   ]
  },
  {
   "cell_type": "code",
   "execution_count": 100,
   "metadata": {},
   "outputs": [
    {
     "data": {
      "text/plain": [
       "<matplotlib.axes._subplots.AxesSubplot at 0x27937acbb88>"
      ]
     },
     "execution_count": 100,
     "metadata": {},
     "output_type": "execute_result"
    },
    {
     "data": {
      "image/png": "[encoded data removed]",
      "text/plain": [
       "<Figure size 648x504 with 1 Axes>"
      ]
     },
     "metadata": {
      "needs_background": "light"
     },
     "output_type": "display_data"
    }
   ],
   "source": [
    "data_centre.boxplot(column='meter_cost', by='weekday', figsize=(9,7))"
   ]
  },
  {
   "cell_type": "markdown",
   "metadata": {},
   "source": [
    "Самую высокую стоимость жилья санкт-петербуржцы устанавливают по средам и пятницам, а самую низкую - по воскресеньям."
   ]
  },
  {
   "cell_type": "code",
   "execution_count": 101,
   "metadata": {},
   "outputs": [
    {
     "data": {
      "text/plain": [
       "<matplotlib.axes._subplots.AxesSubplot at 0x27937ca01c8>"
      ]
     },
     "execution_count": 101,
     "metadata": {},
     "output_type": "execute_result"
    },
    {
     "data": {
      "image/png": "[encoded data removed]",
      "text/plain": [
       "<Figure size 648x504 with 1 Axes>"
      ]
     },
     "metadata": {
      "needs_background": "light"
     },
     "output_type": "display_data"
    }
   ],
   "source": [
    "data_centre.boxplot(column='meter_cost', by='year', figsize=(9,7))"
   ]
  },
  {
   "cell_type": "markdown",
   "metadata": {},
   "source": [
    "Общая цена жилья год от года растёт. Как и по всей стране."
   ]
  },
  {
   "cell_type": "markdown",
   "metadata": {},
   "source": [
    "## Общий вывод"
   ]
  },
  {
   "cell_type": "markdown",
   "metadata": {},
   "source": [
    "Если рассматривать весь массив данных целиком, то закономерности и какие-то особенности углядеть сложно. В одном городе важно одно, в другом - другое, и получается средняя температура по больнице, ничто ни на что не влияет. Если же рассматривать конкретно центр Питера, то хорошо можно увидеть зависимость стоимости квартиры от времени года. В Питер люди хотят летом, когда тепло и красиво, и зимой, когда тоже красиво. Также в Питере люди предпочитают верхние, последние этажи.\n",
    "\n",
    "В среднем по Питеру значения сильно размазанные и усреднённые, всё одинаково. В массиве центральных объявлений можно углядеть зависимости."
   ]
  }
 ],
 "metadata": {
  "ExecuteTimeLog": [
   {
    "duration": 736,
    "start_time": "2021-12-20T09:06:43.525Z"
   },
   {
    "duration": 75,
    "start_time": "2021-12-20T09:07:44.772Z"
   },
   {
    "duration": 13,
    "start_time": "2021-12-20T09:07:45.602Z"
   },
   {
    "duration": 19,
    "start_time": "2021-12-20T09:08:00.881Z"
   },
   {
    "duration": 86,
    "start_time": "2021-12-20T09:33:37.614Z"
   },
   {
    "duration": 39,
    "start_time": "2021-12-20T09:33:57.040Z"
   },
   {
    "duration": 369,
    "start_time": "2021-12-20T09:36:02.348Z"
   },
   {
    "duration": 15,
    "start_time": "2021-12-20T09:36:06.114Z"
   },
   {
    "duration": 7,
    "start_time": "2021-12-20T09:43:47.500Z"
   },
   {
    "duration": 10,
    "start_time": "2021-12-20T09:44:35.610Z"
   },
   {
    "duration": 258,
    "start_time": "2021-12-20T09:48:25.561Z"
   },
   {
    "duration": 10,
    "start_time": "2021-12-20T09:48:33.281Z"
   },
   {
    "duration": 7,
    "start_time": "2021-12-20T09:48:45.848Z"
   },
   {
    "duration": 7,
    "start_time": "2021-12-20T09:50:24.963Z"
   },
   {
    "duration": 9,
    "start_time": "2021-12-20T09:50:40.601Z"
   },
   {
    "duration": 7,
    "start_time": "2021-12-20T09:50:42.625Z"
   },
   {
    "duration": 7,
    "start_time": "2021-12-20T09:50:54.982Z"
   },
   {
    "duration": 7,
    "start_time": "2021-12-20T09:51:22.133Z"
   },
   {
    "duration": 6,
    "start_time": "2021-12-20T09:51:23.744Z"
   },
   {
    "duration": 6,
    "start_time": "2021-12-20T09:51:29.868Z"
   },
   {
    "duration": 7,
    "start_time": "2021-12-20T09:51:30.443Z"
   },
   {
    "duration": 3,
    "start_time": "2021-12-20T09:51:35.121Z"
   },
   {
    "duration": 71,
    "start_time": "2021-12-20T09:51:35.617Z"
   },
   {
    "duration": 10,
    "start_time": "2021-12-20T09:51:35.987Z"
   },
   {
    "duration": 10,
    "start_time": "2021-12-20T09:51:36.511Z"
   },
   {
    "duration": 82,
    "start_time": "2021-12-20T09:51:38.075Z"
   },
   {
    "duration": 38,
    "start_time": "2021-12-20T09:51:38.581Z"
   },
   {
    "duration": 18,
    "start_time": "2021-12-20T09:51:39.814Z"
   },
   {
    "duration": 6,
    "start_time": "2021-12-20T09:51:42.129Z"
   },
   {
    "duration": 7,
    "start_time": "2021-12-20T09:51:42.929Z"
   },
   {
    "duration": 7,
    "start_time": "2021-12-20T09:51:44.323Z"
   },
   {
    "duration": 7,
    "start_time": "2021-12-20T09:51:44.742Z"
   },
   {
    "duration": 5,
    "start_time": "2021-12-20T09:51:45.787Z"
   },
   {
    "duration": 9,
    "start_time": "2021-12-20T09:52:31.570Z"
   },
   {
    "duration": 6,
    "start_time": "2021-12-20T09:54:31.542Z"
   },
   {
    "duration": 6,
    "start_time": "2021-12-20T09:54:45.023Z"
   },
   {
    "duration": 5,
    "start_time": "2021-12-20T09:55:10.081Z"
   },
   {
    "duration": 6,
    "start_time": "2021-12-20T09:55:16.561Z"
   },
   {
    "duration": 9,
    "start_time": "2021-12-20T10:03:11.474Z"
   },
   {
    "duration": 27,
    "start_time": "2021-12-20T10:03:42.239Z"
   },
   {
    "duration": 39,
    "start_time": "2021-12-20T10:04:44.021Z"
   },
   {
    "duration": 233,
    "start_time": "2021-12-20T10:09:35.445Z"
   },
   {
    "duration": 257,
    "start_time": "2021-12-20T10:10:35.998Z"
   },
   {
    "duration": 29,
    "start_time": "2021-12-20T10:10:44.644Z"
   },
   {
    "duration": 3,
    "start_time": "2021-12-20T10:31:59.578Z"
   },
   {
    "duration": 71,
    "start_time": "2021-12-20T10:32:00.176Z"
   },
   {
    "duration": 10,
    "start_time": "2021-12-20T10:32:00.459Z"
   },
   {
    "duration": 9,
    "start_time": "2021-12-20T10:32:00.784Z"
   },
   {
    "duration": 86,
    "start_time": "2021-12-20T10:32:01.509Z"
   },
   {
    "duration": 38,
    "start_time": "2021-12-20T10:32:01.900Z"
   },
   {
    "duration": 16,
    "start_time": "2021-12-20T10:32:02.615Z"
   },
   {
    "duration": 38,
    "start_time": "2021-12-20T10:32:04.348Z"
   },
   {
    "duration": 7,
    "start_time": "2021-12-20T10:32:05.207Z"
   },
   {
    "duration": 7,
    "start_time": "2021-12-20T10:32:06.967Z"
   },
   {
    "duration": 7,
    "start_time": "2021-12-20T10:32:08.035Z"
   },
   {
    "duration": 8,
    "start_time": "2021-12-20T10:32:08.402Z"
   },
   {
    "duration": 8,
    "start_time": "2021-12-20T10:32:08.748Z"
   },
   {
    "duration": 6,
    "start_time": "2021-12-20T10:32:09.710Z"
   },
   {
    "duration": 6,
    "start_time": "2021-12-20T10:32:10.267Z"
   },
   {
    "duration": 5,
    "start_time": "2021-12-20T10:32:10.787Z"
   },
   {
    "duration": 6,
    "start_time": "2021-12-20T10:32:12.567Z"
   },
   {
    "duration": 26,
    "start_time": "2021-12-20T10:32:14.065Z"
   },
   {
    "duration": 239,
    "start_time": "2021-12-20T10:33:18.868Z"
   },
   {
    "duration": 27,
    "start_time": "2021-12-20T10:33:19.851Z"
   },
   {
    "duration": 3,
    "start_time": "2021-12-20T10:33:53.920Z"
   },
   {
    "duration": 71,
    "start_time": "2021-12-20T10:33:54.419Z"
   },
   {
    "duration": 10,
    "start_time": "2021-12-20T10:33:54.654Z"
   },
   {
    "duration": 13,
    "start_time": "2021-12-20T10:33:54.953Z"
   },
   {
    "duration": 81,
    "start_time": "2021-12-20T10:33:55.576Z"
   },
   {
    "duration": 39,
    "start_time": "2021-12-20T10:33:55.871Z"
   },
   {
    "duration": 15,
    "start_time": "2021-12-20T10:33:56.487Z"
   },
   {
    "duration": 38,
    "start_time": "2021-12-20T10:33:58.013Z"
   },
   {
    "duration": 7,
    "start_time": "2021-12-20T10:33:58.744Z"
   },
   {
    "duration": 7,
    "start_time": "2021-12-20T10:33:59.103Z"
   },
   {
    "duration": 7,
    "start_time": "2021-12-20T10:33:59.875Z"
   },
   {
    "duration": 5,
    "start_time": "2021-12-20T10:34:00.100Z"
   },
   {
    "duration": 6,
    "start_time": "2021-12-20T10:34:00.229Z"
   },
   {
    "duration": 6,
    "start_time": "2021-12-20T10:34:01.180Z"
   },
   {
    "duration": 6,
    "start_time": "2021-12-20T10:34:01.580Z"
   },
   {
    "duration": 4,
    "start_time": "2021-12-20T10:34:02.009Z"
   },
   {
    "duration": 7,
    "start_time": "2021-12-20T10:34:02.884Z"
   },
   {
    "duration": 27,
    "start_time": "2021-12-20T10:34:03.599Z"
   },
   {
    "duration": 280,
    "start_time": "2021-12-20T10:36:24.520Z"
   },
   {
    "duration": 27,
    "start_time": "2021-12-20T10:36:25.775Z"
   },
   {
    "duration": 37,
    "start_time": "2021-12-20T10:36:57.319Z"
   },
   {
    "duration": 92,
    "start_time": "2021-12-20T10:39:01.421Z"
   },
   {
    "duration": 12,
    "start_time": "2021-12-20T10:39:13.731Z"
   },
   {
    "duration": 18,
    "start_time": "2021-12-20T10:39:20.320Z"
   },
   {
    "duration": 245,
    "start_time": "2021-12-20T10:40:40.959Z"
   },
   {
    "duration": 265,
    "start_time": "2021-12-20T10:40:54.678Z"
   },
   {
    "duration": 7,
    "start_time": "2021-12-20T10:41:05.939Z"
   },
   {
    "duration": 8,
    "start_time": "2021-12-20T10:44:31.765Z"
   },
   {
    "duration": 6,
    "start_time": "2021-12-20T10:44:35.187Z"
   },
   {
    "duration": 272,
    "start_time": "2021-12-20T10:45:05.577Z"
   },
   {
    "duration": 12,
    "start_time": "2021-12-20T10:45:17.522Z"
   },
   {
    "duration": 751,
    "start_time": "2021-12-20T10:45:36.261Z"
   },
   {
    "duration": 342,
    "start_time": "2021-12-20T10:46:37.410Z"
   },
   {
    "duration": 5,
    "start_time": "2021-12-20T10:46:46.919Z"
   },
   {
    "duration": 6,
    "start_time": "2021-12-20T10:47:07.891Z"
   },
   {
    "duration": 9,
    "start_time": "2021-12-20T10:48:33.145Z"
   },
   {
    "duration": 16,
    "start_time": "2021-12-20T10:48:56.695Z"
   },
   {
    "duration": 8,
    "start_time": "2021-12-20T10:49:37.468Z"
   },
   {
    "duration": 8,
    "start_time": "2021-12-20T10:50:36.030Z"
   },
   {
    "duration": 9,
    "start_time": "2021-12-20T10:56:45.445Z"
   },
   {
    "duration": 36,
    "start_time": "2021-12-20T10:56:52.046Z"
   },
   {
    "duration": 7,
    "start_time": "2021-12-20T10:58:05.262Z"
   },
   {
    "duration": 21,
    "start_time": "2021-12-20T10:58:12.196Z"
   },
   {
    "duration": 36,
    "start_time": "2021-12-20T10:58:18.210Z"
   },
   {
    "duration": 6,
    "start_time": "2021-12-20T10:58:48.350Z"
   },
   {
    "duration": 16,
    "start_time": "2021-12-20T10:58:48.927Z"
   },
   {
    "duration": 8,
    "start_time": "2021-12-20T10:58:53.713Z"
   },
   {
    "duration": 5,
    "start_time": "2021-12-20T10:58:54.980Z"
   },
   {
    "duration": 41,
    "start_time": "2021-12-20T10:58:55.428Z"
   },
   {
    "duration": 7,
    "start_time": "2021-12-20T10:59:26.506Z"
   },
   {
    "duration": 5,
    "start_time": "2021-12-20T10:59:27.636Z"
   },
   {
    "duration": 32,
    "start_time": "2021-12-20T10:59:27.971Z"
   },
   {
    "duration": 294,
    "start_time": "2021-12-20T10:59:55.815Z"
   },
   {
    "duration": 34,
    "start_time": "2021-12-20T10:59:56.339Z"
   },
   {
    "duration": 5,
    "start_time": "2021-12-20T11:00:03.627Z"
   },
   {
    "duration": 6,
    "start_time": "2021-12-20T11:00:23.108Z"
   },
   {
    "duration": 37,
    "start_time": "2021-12-20T11:00:23.836Z"
   },
   {
    "duration": 10,
    "start_time": "2021-12-20T11:01:38.984Z"
   },
   {
    "duration": 12,
    "start_time": "2021-12-20T11:01:55.091Z"
   },
   {
    "duration": 5,
    "start_time": "2021-12-20T11:02:31.856Z"
   },
   {
    "duration": 7,
    "start_time": "2021-12-20T11:03:20.173Z"
   },
   {
    "duration": 37,
    "start_time": "2021-12-20T11:03:23.040Z"
   },
   {
    "duration": 630,
    "start_time": "2021-12-20T17:32:52.063Z"
   },
   {
    "duration": 68,
    "start_time": "2021-12-20T17:32:54.393Z"
   },
   {
    "duration": 9,
    "start_time": "2021-12-20T17:32:55.110Z"
   },
   {
    "duration": 12,
    "start_time": "2021-12-20T17:32:56.074Z"
   },
   {
    "duration": 68,
    "start_time": "2021-12-20T17:33:01.312Z"
   },
   {
    "duration": 25,
    "start_time": "2021-12-20T17:33:02.132Z"
   },
   {
    "duration": 10,
    "start_time": "2021-12-20T17:34:29.512Z"
   },
   {
    "duration": 25,
    "start_time": "2021-12-20T17:37:33.366Z"
   },
   {
    "duration": 6,
    "start_time": "2021-12-20T17:39:02.370Z"
   },
   {
    "duration": 6,
    "start_time": "2021-12-20T17:39:06.260Z"
   },
   {
    "duration": 5,
    "start_time": "2021-12-20T17:39:12.768Z"
   },
   {
    "duration": 5,
    "start_time": "2021-12-20T17:39:13.053Z"
   },
   {
    "duration": 4,
    "start_time": "2021-12-20T17:39:13.838Z"
   },
   {
    "duration": 5,
    "start_time": "2021-12-20T17:39:46.405Z"
   },
   {
    "duration": 7,
    "start_time": "2021-12-20T17:39:46.972Z"
   },
   {
    "duration": 4,
    "start_time": "2021-12-20T17:39:50.090Z"
   },
   {
    "duration": 5,
    "start_time": "2021-12-20T17:39:50.338Z"
   },
   {
    "duration": 4,
    "start_time": "2021-12-20T17:40:39.082Z"
   },
   {
    "duration": 19,
    "start_time": "2021-12-20T17:44:57.435Z"
   },
   {
    "duration": 174,
    "start_time": "2021-12-20T17:45:33.354Z"
   },
   {
    "duration": 20,
    "start_time": "2021-12-20T17:45:41.029Z"
   },
   {
    "duration": 27,
    "start_time": "2021-12-20T17:45:42.146Z"
   },
   {
    "duration": 9,
    "start_time": "2021-12-20T17:46:15.089Z"
   },
   {
    "duration": 10,
    "start_time": "2021-12-20T17:46:15.721Z"
   },
   {
    "duration": 5,
    "start_time": "2021-12-20T17:56:41.629Z"
   },
   {
    "duration": 10,
    "start_time": "2021-12-20T17:56:47.072Z"
   },
   {
    "duration": 6,
    "start_time": "2021-12-20T17:56:49.913Z"
   },
   {
    "duration": 8,
    "start_time": "2021-12-20T17:56:55.510Z"
   },
   {
    "duration": 4,
    "start_time": "2021-12-20T17:56:57.043Z"
   },
   {
    "duration": 7,
    "start_time": "2021-12-20T17:56:57.777Z"
   },
   {
    "duration": 9,
    "start_time": "2021-12-20T17:56:59.208Z"
   },
   {
    "duration": 4,
    "start_time": "2021-12-20T17:56:59.685Z"
   },
   {
    "duration": 22,
    "start_time": "2021-12-20T17:57:00.305Z"
   },
   {
    "duration": 4,
    "start_time": "2021-12-20T17:57:19.407Z"
   },
   {
    "duration": 12,
    "start_time": "2021-12-20T17:57:51.934Z"
   },
   {
    "duration": 29,
    "start_time": "2021-12-20T17:58:01.852Z"
   },
   {
    "duration": 5,
    "start_time": "2021-12-20T17:58:42.723Z"
   },
   {
    "duration": 9,
    "start_time": "2021-12-20T17:58:43.140Z"
   },
   {
    "duration": 23,
    "start_time": "2021-12-20T17:58:44.535Z"
   },
   {
    "duration": 73,
    "start_time": "2021-12-20T18:03:32.080Z"
   },
   {
    "duration": 347,
    "start_time": "2021-12-20T18:05:52.793Z"
   },
   {
    "duration": 9,
    "start_time": "2021-12-20T18:09:17.678Z"
   },
   {
    "duration": 255,
    "start_time": "2021-12-20T18:11:21.634Z"
   },
   {
    "duration": 521,
    "start_time": "2021-12-20T18:11:35.015Z"
   },
   {
    "duration": 267,
    "start_time": "2021-12-20T18:11:40.592Z"
   },
   {
    "duration": 9,
    "start_time": "2021-12-20T18:18:38.979Z"
   },
   {
    "duration": 7,
    "start_time": "2021-12-20T18:18:53.247Z"
   },
   {
    "duration": 10,
    "start_time": "2021-12-20T18:20:00.075Z"
   },
   {
    "duration": 11,
    "start_time": "2021-12-20T18:20:08.621Z"
   },
   {
    "duration": 14,
    "start_time": "2021-12-20T18:20:39.162Z"
   },
   {
    "duration": 10,
    "start_time": "2021-12-20T18:20:43.476Z"
   },
   {
    "duration": 23,
    "start_time": "2021-12-20T18:20:54.420Z"
   },
   {
    "duration": 7,
    "start_time": "2021-12-20T18:25:00.056Z"
   },
   {
    "duration": 24,
    "start_time": "2021-12-20T18:25:01.577Z"
   },
   {
    "duration": 5,
    "start_time": "2021-12-20T18:25:18.912Z"
   },
   {
    "duration": 22,
    "start_time": "2021-12-20T18:25:20.020Z"
   },
   {
    "duration": 274,
    "start_time": "2021-12-20T18:27:59.709Z"
   },
   {
    "duration": 12,
    "start_time": "2021-12-20T18:28:05.759Z"
   },
   {
    "duration": 24,
    "start_time": "2021-12-20T18:28:07.415Z"
   },
   {
    "duration": 22,
    "start_time": "2021-12-20T18:28:18.049Z"
   },
   {
    "duration": 5,
    "start_time": "2021-12-20T18:28:20.198Z"
   },
   {
    "duration": 22,
    "start_time": "2021-12-20T18:28:21.826Z"
   },
   {
    "duration": 6,
    "start_time": "2021-12-20T18:29:12.403Z"
   },
   {
    "duration": 12,
    "start_time": "2021-12-20T18:29:16.688Z"
   },
   {
    "duration": 23,
    "start_time": "2021-12-20T18:29:17.288Z"
   },
   {
    "duration": 2,
    "start_time": "2021-12-20T18:29:39.221Z"
   },
   {
    "duration": 77,
    "start_time": "2021-12-20T18:29:39.767Z"
   },
   {
    "duration": 10,
    "start_time": "2021-12-20T18:29:40.057Z"
   },
   {
    "duration": 7,
    "start_time": "2021-12-20T18:29:40.658Z"
   },
   {
    "duration": 65,
    "start_time": "2021-12-20T18:29:42.421Z"
   },
   {
    "duration": 27,
    "start_time": "2021-12-20T18:29:43.057Z"
   },
   {
    "duration": 12,
    "start_time": "2021-12-20T18:29:44.306Z"
   },
   {
    "duration": 25,
    "start_time": "2021-12-20T18:29:47.211Z"
   },
   {
    "duration": 5,
    "start_time": "2021-12-20T18:29:48.174Z"
   },
   {
    "duration": 6,
    "start_time": "2021-12-20T18:29:48.636Z"
   },
   {
    "duration": 5,
    "start_time": "2021-12-20T18:29:49.481Z"
   },
   {
    "duration": 5,
    "start_time": "2021-12-20T18:29:50.014Z"
   },
   {
    "duration": 5,
    "start_time": "2021-12-20T18:29:50.267Z"
   },
   {
    "duration": 5,
    "start_time": "2021-12-20T18:29:50.710Z"
   },
   {
    "duration": 5,
    "start_time": "2021-12-20T18:29:51.125Z"
   },
   {
    "duration": 4,
    "start_time": "2021-12-20T18:29:51.558Z"
   },
   {
    "duration": 5,
    "start_time": "2021-12-20T18:29:51.844Z"
   },
   {
    "duration": 5,
    "start_time": "2021-12-20T18:29:52.582Z"
   },
   {
    "duration": 19,
    "start_time": "2021-12-20T18:29:53.515Z"
   },
   {
    "duration": 180,
    "start_time": "2021-12-20T18:29:55.074Z"
   },
   {
    "duration": 19,
    "start_time": "2021-12-20T18:29:55.608Z"
   },
   {
    "duration": 25,
    "start_time": "2021-12-20T18:29:56.170Z"
   },
   {
    "duration": 8,
    "start_time": "2021-12-20T18:29:57.221Z"
   },
   {
    "duration": 13,
    "start_time": "2021-12-20T18:29:58.402Z"
   },
   {
    "duration": 7,
    "start_time": "2021-12-20T18:29:59.712Z"
   },
   {
    "duration": 5,
    "start_time": "2021-12-20T18:30:00.723Z"
   },
   {
    "duration": 9,
    "start_time": "2021-12-20T18:30:14.016Z"
   },
   {
    "duration": 5,
    "start_time": "2021-12-20T18:30:14.997Z"
   },
   {
    "duration": 8,
    "start_time": "2021-12-20T18:30:15.897Z"
   },
   {
    "duration": 6,
    "start_time": "2021-12-20T18:30:17.927Z"
   },
   {
    "duration": 7,
    "start_time": "2021-12-20T18:30:18.233Z"
   },
   {
    "duration": 17,
    "start_time": "2021-12-20T18:30:18.554Z"
   },
   {
    "duration": 27,
    "start_time": "2021-12-20T18:30:19.260Z"
   },
   {
    "duration": 318,
    "start_time": "2021-12-20T18:30:48.673Z"
   },
   {
    "duration": 256,
    "start_time": "2021-12-20T18:33:00.118Z"
   },
   {
    "duration": 290,
    "start_time": "2021-12-20T18:33:14.086Z"
   },
   {
    "duration": 452,
    "start_time": "2021-12-20T18:33:35.110Z"
   },
   {
    "duration": 299,
    "start_time": "2021-12-20T18:34:19.282Z"
   },
   {
    "duration": 9,
    "start_time": "2021-12-20T18:34:52.719Z"
   },
   {
    "duration": 5,
    "start_time": "2021-12-20T18:35:30.185Z"
   },
   {
    "duration": 293,
    "start_time": "2021-12-20T18:35:38.738Z"
   },
   {
    "duration": 4,
    "start_time": "2021-12-20T18:35:57.123Z"
   },
   {
    "duration": 306,
    "start_time": "2021-12-20T18:35:57.369Z"
   },
   {
    "duration": 3,
    "start_time": "2021-12-20T18:37:27.375Z"
   },
   {
    "duration": 55,
    "start_time": "2021-12-20T18:37:27.883Z"
   },
   {
    "duration": 8,
    "start_time": "2021-12-20T18:37:28.140Z"
   },
   {
    "duration": 7,
    "start_time": "2021-12-20T18:37:28.435Z"
   },
   {
    "duration": 66,
    "start_time": "2021-12-20T18:37:28.947Z"
   },
   {
    "duration": 23,
    "start_time": "2021-12-20T18:37:29.214Z"
   },
   {
    "duration": 11,
    "start_time": "2021-12-20T18:37:29.682Z"
   },
   {
    "duration": 25,
    "start_time": "2021-12-20T18:37:30.919Z"
   },
   {
    "duration": 6,
    "start_time": "2021-12-20T18:37:31.415Z"
   },
   {
    "duration": 6,
    "start_time": "2021-12-20T18:37:31.808Z"
   },
   {
    "duration": 6,
    "start_time": "2021-12-20T18:37:32.392Z"
   },
   {
    "duration": 5,
    "start_time": "2021-12-20T18:37:32.673Z"
   },
   {
    "duration": 4,
    "start_time": "2021-12-20T18:37:32.880Z"
   },
   {
    "duration": 6,
    "start_time": "2021-12-20T18:37:33.402Z"
   },
   {
    "duration": 5,
    "start_time": "2021-12-20T18:37:33.678Z"
   },
   {
    "duration": 3,
    "start_time": "2021-12-20T18:37:33.993Z"
   },
   {
    "duration": 5,
    "start_time": "2021-12-20T18:37:35.001Z"
   },
   {
    "duration": 4,
    "start_time": "2021-12-20T18:37:35.489Z"
   },
   {
    "duration": 25,
    "start_time": "2021-12-20T18:37:36.060Z"
   },
   {
    "duration": 174,
    "start_time": "2021-12-20T18:37:38.697Z"
   },
   {
    "duration": 18,
    "start_time": "2021-12-20T18:37:38.874Z"
   },
   {
    "duration": 27,
    "start_time": "2021-12-20T18:37:38.894Z"
   },
   {
    "duration": 7,
    "start_time": "2021-12-20T18:37:38.923Z"
   },
   {
    "duration": 11,
    "start_time": "2021-12-20T18:37:39.023Z"
   },
   {
    "duration": 7,
    "start_time": "2021-12-20T18:37:40.487Z"
   },
   {
    "duration": 5,
    "start_time": "2021-12-20T18:37:42.400Z"
   },
   {
    "duration": 9,
    "start_time": "2021-12-20T18:37:49.975Z"
   },
   {
    "duration": 5,
    "start_time": "2021-12-20T18:37:50.504Z"
   },
   {
    "duration": 8,
    "start_time": "2021-12-20T18:37:51.386Z"
   },
   {
    "duration": 296,
    "start_time": "2021-12-20T18:37:52.427Z"
   },
   {
    "duration": 7,
    "start_time": "2021-12-20T18:39:12.509Z"
   },
   {
    "duration": 5,
    "start_time": "2021-12-20T18:39:14.467Z"
   },
   {
    "duration": 7,
    "start_time": "2021-12-20T18:39:31.555Z"
   },
   {
    "duration": 4,
    "start_time": "2021-12-20T18:42:53.845Z"
   },
   {
    "duration": 10,
    "start_time": "2021-12-20T18:43:27.137Z"
   },
   {
    "duration": 8,
    "start_time": "2021-12-20T18:44:01.285Z"
   },
   {
    "duration": 10,
    "start_time": "2021-12-20T18:44:02.005Z"
   },
   {
    "duration": 6,
    "start_time": "2021-12-20T18:46:01.552Z"
   },
   {
    "duration": 9,
    "start_time": "2021-12-20T18:46:05.205Z"
   },
   {
    "duration": 5,
    "start_time": "2021-12-20T18:51:35.360Z"
   },
   {
    "duration": 6,
    "start_time": "2021-12-20T18:53:06.006Z"
   },
   {
    "duration": 6,
    "start_time": "2021-12-20T18:53:06.382Z"
   },
   {
    "duration": 6,
    "start_time": "2021-12-20T18:53:06.672Z"
   },
   {
    "duration": 7,
    "start_time": "2021-12-20T18:53:06.872Z"
   },
   {
    "duration": 5,
    "start_time": "2021-12-20T18:53:07.245Z"
   },
   {
    "duration": 10,
    "start_time": "2021-12-20T18:53:07.893Z"
   },
   {
    "duration": 10506,
    "start_time": "2021-12-20T18:53:39.590Z"
   },
   {
    "duration": 10,
    "start_time": "2021-12-20T18:54:06.316Z"
   },
   {
    "duration": 12,
    "start_time": "2021-12-20T18:54:08.314Z"
   },
   {
    "duration": 866,
    "start_time": "2021-12-21T16:50:12.534Z"
   },
   {
    "duration": 72,
    "start_time": "2021-12-21T16:50:14.462Z"
   },
   {
    "duration": 12,
    "start_time": "2021-12-21T16:50:14.940Z"
   },
   {
    "duration": 14,
    "start_time": "2021-12-21T16:50:15.407Z"
   },
   {
    "duration": 80,
    "start_time": "2021-12-21T16:50:16.408Z"
   },
   {
    "duration": 42,
    "start_time": "2021-12-21T16:50:16.709Z"
   },
   {
    "duration": 19,
    "start_time": "2021-12-21T16:50:18.073Z"
   },
   {
    "duration": 37,
    "start_time": "2021-12-21T16:50:45.319Z"
   },
   {
    "duration": 7,
    "start_time": "2021-12-21T16:50:47.392Z"
   },
   {
    "duration": 9,
    "start_time": "2021-12-21T16:50:48.427Z"
   },
   {
    "duration": 10,
    "start_time": "2021-12-21T16:50:54.764Z"
   },
   {
    "duration": 8,
    "start_time": "2021-12-21T16:50:55.625Z"
   },
   {
    "duration": 8,
    "start_time": "2021-12-21T16:50:56.504Z"
   },
   {
    "duration": 7,
    "start_time": "2021-12-21T16:51:00.473Z"
   },
   {
    "duration": 6,
    "start_time": "2021-12-21T16:51:01.533Z"
   },
   {
    "duration": 4,
    "start_time": "2021-12-21T16:51:03.215Z"
   },
   {
    "duration": 9,
    "start_time": "2021-12-21T16:51:04.394Z"
   },
   {
    "duration": 6,
    "start_time": "2021-12-21T16:51:07.178Z"
   },
   {
    "duration": 27,
    "start_time": "2021-12-21T16:51:10.136Z"
   },
   {
    "duration": 278,
    "start_time": "2021-12-21T16:51:11.927Z"
   },
   {
    "duration": 27,
    "start_time": "2021-12-21T16:51:12.788Z"
   },
   {
    "duration": 39,
    "start_time": "2021-12-21T16:51:13.859Z"
   },
   {
    "duration": 12,
    "start_time": "2021-12-21T16:51:16.988Z"
   },
   {
    "duration": 21,
    "start_time": "2021-12-21T16:51:18.423Z"
   },
   {
    "duration": 9,
    "start_time": "2021-12-21T16:51:19.612Z"
   },
   {
    "duration": 10,
    "start_time": "2021-12-21T16:51:28.185Z"
   },
   {
    "duration": 14,
    "start_time": "2021-12-21T16:51:31.339Z"
   },
   {
    "duration": 19,
    "start_time": "2021-12-21T16:51:32.616Z"
   },
   {
    "duration": 8,
    "start_time": "2021-12-21T16:52:07.629Z"
   },
   {
    "duration": 7,
    "start_time": "2021-12-21T16:52:07.858Z"
   },
   {
    "duration": 7,
    "start_time": "2021-12-21T16:52:08.069Z"
   },
   {
    "duration": 6,
    "start_time": "2021-12-21T16:52:08.281Z"
   },
   {
    "duration": 6,
    "start_time": "2021-12-21T16:52:08.477Z"
   },
   {
    "duration": 5,
    "start_time": "2021-12-21T16:52:08.703Z"
   },
   {
    "duration": 7,
    "start_time": "2021-12-21T16:52:09.024Z"
   },
   {
    "duration": 14,
    "start_time": "2021-12-21T16:52:09.721Z"
   },
   {
    "duration": 23,
    "start_time": "2021-12-21T16:52:13.161Z"
   },
   {
    "duration": 8,
    "start_time": "2021-12-21T16:52:27.085Z"
   },
   {
    "duration": 9,
    "start_time": "2021-12-21T16:56:19.666Z"
   },
   {
    "duration": 5,
    "start_time": "2021-12-21T16:56:20.008Z"
   },
   {
    "duration": 6,
    "start_time": "2021-12-21T16:56:20.504Z"
   },
   {
    "duration": 16,
    "start_time": "2021-12-21T16:56:28.159Z"
   },
   {
    "duration": 8,
    "start_time": "2021-12-21T16:56:28.623Z"
   },
   {
    "duration": 12,
    "start_time": "2021-12-21T16:56:28.904Z"
   },
   {
    "duration": 476,
    "start_time": "2021-12-21T16:56:29.140Z"
   },
   {
    "duration": 8,
    "start_time": "2021-12-21T17:20:25.082Z"
   },
   {
    "duration": 10,
    "start_time": "2021-12-21T17:20:26.329Z"
   },
   {
    "duration": 5,
    "start_time": "2021-12-21T17:20:26.808Z"
   },
   {
    "duration": 6,
    "start_time": "2021-12-21T17:20:27.394Z"
   },
   {
    "duration": 10,
    "start_time": "2021-12-21T17:20:27.691Z"
   },
   {
    "duration": 6,
    "start_time": "2021-12-21T17:20:28.984Z"
   },
   {
    "duration": 6,
    "start_time": "2021-12-21T17:20:29.629Z"
   },
   {
    "duration": 453,
    "start_time": "2021-12-21T17:20:30.403Z"
   },
   {
    "duration": 366,
    "start_time": "2021-12-21T17:27:38.583Z"
   },
   {
    "duration": 273,
    "start_time": "2021-12-21T17:28:00.849Z"
   },
   {
    "duration": 4,
    "start_time": "2021-12-21T17:42:07.627Z"
   },
   {
    "duration": 74,
    "start_time": "2021-12-21T17:42:08.193Z"
   },
   {
    "duration": 12,
    "start_time": "2021-12-21T17:42:08.441Z"
   },
   {
    "duration": 11,
    "start_time": "2021-12-21T17:42:08.730Z"
   },
   {
    "duration": 79,
    "start_time": "2021-12-21T17:42:09.295Z"
   },
   {
    "duration": 41,
    "start_time": "2021-12-21T17:42:09.558Z"
   },
   {
    "duration": 15,
    "start_time": "2021-12-21T17:42:10.093Z"
   },
   {
    "duration": 39,
    "start_time": "2021-12-21T17:42:11.544Z"
   },
   {
    "duration": 8,
    "start_time": "2021-12-21T17:42:12.157Z"
   },
   {
    "duration": 10,
    "start_time": "2021-12-21T17:42:12.474Z"
   },
   {
    "duration": 8,
    "start_time": "2021-12-21T17:42:13.100Z"
   },
   {
    "duration": 7,
    "start_time": "2021-12-21T17:42:13.395Z"
   },
   {
    "duration": 7,
    "start_time": "2021-12-21T17:42:13.652Z"
   },
   {
    "duration": 9,
    "start_time": "2021-12-21T17:42:14.187Z"
   },
   {
    "duration": 7,
    "start_time": "2021-12-21T17:42:14.557Z"
   },
   {
    "duration": 5,
    "start_time": "2021-12-21T17:42:15.040Z"
   },
   {
    "duration": 9,
    "start_time": "2021-12-21T17:42:15.295Z"
   },
   {
    "duration": 7,
    "start_time": "2021-12-21T17:42:15.904Z"
   },
   {
    "duration": 26,
    "start_time": "2021-12-21T17:42:16.569Z"
   },
   {
    "duration": 5,
    "start_time": "2021-12-21T17:42:18.408Z"
   },
   {
    "duration": 26,
    "start_time": "2021-12-21T17:42:19.466Z"
   },
   {
    "duration": 33,
    "start_time": "2021-12-21T17:43:46.077Z"
   },
   {
    "duration": 26,
    "start_time": "2021-12-21T17:43:46.506Z"
   },
   {
    "duration": 282,
    "start_time": "2021-12-21T17:44:08.108Z"
   },
   {
    "duration": 26,
    "start_time": "2021-12-21T17:44:08.784Z"
   },
   {
    "duration": 40,
    "start_time": "2021-12-21T17:44:13.580Z"
   },
   {
    "duration": 12,
    "start_time": "2021-12-21T17:44:14.613Z"
   },
   {
    "duration": 14,
    "start_time": "2021-12-21T17:44:15.563Z"
   },
   {
    "duration": 12,
    "start_time": "2021-12-21T17:44:16.447Z"
   },
   {
    "duration": 7,
    "start_time": "2021-12-21T17:44:17.080Z"
   },
   {
    "duration": 11,
    "start_time": "2021-12-21T17:44:17.999Z"
   },
   {
    "duration": 15,
    "start_time": "2021-12-21T17:44:18.433Z"
   },
   {
    "duration": 5,
    "start_time": "2021-12-21T17:44:19.596Z"
   },
   {
    "duration": 7,
    "start_time": "2021-12-21T17:44:19.846Z"
   },
   {
    "duration": 6,
    "start_time": "2021-12-21T17:44:20.088Z"
   },
   {
    "duration": 6,
    "start_time": "2021-12-21T17:44:20.319Z"
   },
   {
    "duration": 6,
    "start_time": "2021-12-21T17:44:20.548Z"
   },
   {
    "duration": 7,
    "start_time": "2021-12-21T17:44:20.797Z"
   },
   {
    "duration": 6,
    "start_time": "2021-12-21T17:44:21.077Z"
   },
   {
    "duration": 13,
    "start_time": "2021-12-21T17:44:21.494Z"
   },
   {
    "duration": 15,
    "start_time": "2021-12-21T17:44:21.910Z"
   },
   {
    "duration": 8,
    "start_time": "2021-12-21T17:44:22.523Z"
   },
   {
    "duration": 10,
    "start_time": "2021-12-21T17:44:24.587Z"
   },
   {
    "duration": 5,
    "start_time": "2021-12-21T17:44:25.042Z"
   },
   {
    "duration": 6,
    "start_time": "2021-12-21T17:46:55.705Z"
   },
   {
    "duration": 10,
    "start_time": "2021-12-21T17:47:26.647Z"
   },
   {
    "duration": 7,
    "start_time": "2021-12-21T17:49:40.610Z"
   },
   {
    "duration": 3782,
    "start_time": "2021-12-21T17:49:44.034Z"
   },
   {
    "duration": 8,
    "start_time": "2021-12-21T17:49:53.177Z"
   },
   {
    "duration": 841,
    "start_time": "2021-12-22T14:07:24.348Z"
   },
   {
    "duration": 74,
    "start_time": "2021-12-22T14:07:25.192Z"
   },
   {
    "duration": 11,
    "start_time": "2021-12-22T14:07:25.579Z"
   },
   {
    "duration": 14,
    "start_time": "2021-12-22T14:07:27.016Z"
   },
   {
    "duration": 89,
    "start_time": "2021-12-22T14:07:28.455Z"
   },
   {
    "duration": 41,
    "start_time": "2021-12-22T14:07:29.051Z"
   },
   {
    "duration": 15,
    "start_time": "2021-12-22T14:07:30.171Z"
   },
   {
    "duration": 39,
    "start_time": "2021-12-22T14:07:32.762Z"
   },
   {
    "duration": 6,
    "start_time": "2021-12-22T14:07:33.706Z"
   },
   {
    "duration": 6,
    "start_time": "2021-12-22T14:07:34.178Z"
   },
   {
    "duration": 7,
    "start_time": "2021-12-22T14:07:35.176Z"
   },
   {
    "duration": 6,
    "start_time": "2021-12-22T14:07:35.590Z"
   },
   {
    "duration": 6,
    "start_time": "2021-12-22T14:07:36.101Z"
   },
   {
    "duration": 6,
    "start_time": "2021-12-22T14:07:37.131Z"
   },
   {
    "duration": 6,
    "start_time": "2021-12-22T14:07:37.607Z"
   },
   {
    "duration": 5,
    "start_time": "2021-12-22T14:07:38.090Z"
   },
   {
    "duration": 6,
    "start_time": "2021-12-22T14:07:38.519Z"
   },
   {
    "duration": 6,
    "start_time": "2021-12-22T14:07:39.300Z"
   },
   {
    "duration": 28,
    "start_time": "2021-12-22T14:07:40.231Z"
   },
   {
    "duration": 283,
    "start_time": "2021-12-22T14:07:41.372Z"
   },
   {
    "duration": 28,
    "start_time": "2021-12-22T14:07:41.882Z"
   },
   {
    "duration": 41,
    "start_time": "2021-12-22T14:07:42.461Z"
   },
   {
    "duration": 13,
    "start_time": "2021-12-22T14:07:43.918Z"
   },
   {
    "duration": 14,
    "start_time": "2021-12-22T14:07:44.720Z"
   },
   {
    "duration": 10,
    "start_time": "2021-12-22T14:07:45.811Z"
   },
   {
    "duration": 6,
    "start_time": "2021-12-22T14:07:46.594Z"
   },
   {
    "duration": 10,
    "start_time": "2021-12-22T14:07:47.947Z"
   },
   {
    "duration": 14,
    "start_time": "2021-12-22T14:07:49.845Z"
   },
   {
    "duration": 6,
    "start_time": "2021-12-22T14:07:51.382Z"
   },
   {
    "duration": 6,
    "start_time": "2021-12-22T14:07:51.804Z"
   },
   {
    "duration": 6,
    "start_time": "2021-12-22T14:07:52.210Z"
   },
   {
    "duration": 6,
    "start_time": "2021-12-22T14:07:52.635Z"
   },
   {
    "duration": 6,
    "start_time": "2021-12-22T14:07:53.082Z"
   },
   {
    "duration": 6,
    "start_time": "2021-12-22T14:07:53.380Z"
   },
   {
    "duration": 6,
    "start_time": "2021-12-22T14:07:53.865Z"
   },
   {
    "duration": 12,
    "start_time": "2021-12-22T14:07:54.631Z"
   },
   {
    "duration": 16,
    "start_time": "2021-12-22T14:07:55.451Z"
   },
   {
    "duration": 9,
    "start_time": "2021-12-22T14:07:56.221Z"
   },
   {
    "duration": 10,
    "start_time": "2021-12-22T14:07:58.421Z"
   },
   {
    "duration": 5,
    "start_time": "2021-12-22T14:07:58.824Z"
   },
   {
    "duration": 6,
    "start_time": "2021-12-22T14:07:59.278Z"
   },
   {
    "duration": 12,
    "start_time": "2021-12-22T14:07:59.754Z"
   },
   {
    "duration": 7,
    "start_time": "2021-12-22T14:08:00.327Z"
   },
   {
    "duration": 12,
    "start_time": "2021-12-22T14:08:01.028Z"
   },
   {
    "duration": 501,
    "start_time": "2021-12-22T14:08:01.367Z"
   },
   {
    "duration": 12,
    "start_time": "2021-12-22T14:08:02.511Z"
   },
   {
    "duration": 6,
    "start_time": "2021-12-22T14:08:03.388Z"
   },
   {
    "duration": 6551,
    "start_time": "2021-12-22T14:08:03.925Z"
   },
   {
    "duration": -555,
    "start_time": "2021-12-22T14:08:11.033Z"
   },
   {
    "duration": 7137,
    "start_time": "2021-12-22T14:21:12.963Z"
   },
   {
    "duration": 6867,
    "start_time": "2021-12-22T14:21:57.754Z"
   },
   {
    "duration": 6436,
    "start_time": "2021-12-22T14:41:03.612Z"
   },
   {
    "duration": 6894,
    "start_time": "2021-12-22T14:41:43.660Z"
   },
   {
    "duration": 3,
    "start_time": "2021-12-22T14:42:49.960Z"
   },
   {
    "duration": 71,
    "start_time": "2021-12-22T14:42:50.750Z"
   },
   {
    "duration": 10,
    "start_time": "2021-12-22T14:42:51.105Z"
   },
   {
    "duration": 10,
    "start_time": "2021-12-22T14:42:52.063Z"
   },
   {
    "duration": 3,
    "start_time": "2021-12-22T15:15:01.321Z"
   },
   {
    "duration": 73,
    "start_time": "2021-12-22T15:15:02.480Z"
   },
   {
    "duration": 13,
    "start_time": "2021-12-22T15:15:02.976Z"
   },
   {
    "duration": 10,
    "start_time": "2021-12-22T15:15:04.597Z"
   },
   {
    "duration": 121,
    "start_time": "2021-12-22T15:15:05.709Z"
   },
   {
    "duration": 15,
    "start_time": "2021-12-22T15:15:07.393Z"
   },
   {
    "duration": 39,
    "start_time": "2021-12-22T15:15:09.784Z"
   },
   {
    "duration": 7,
    "start_time": "2021-12-22T15:15:10.583Z"
   },
   {
    "duration": 7,
    "start_time": "2021-12-22T15:15:10.986Z"
   },
   {
    "duration": 11,
    "start_time": "2021-12-22T15:15:11.798Z"
   },
   {
    "duration": 6,
    "start_time": "2021-12-22T15:15:12.136Z"
   },
   {
    "duration": 6,
    "start_time": "2021-12-22T15:15:13.193Z"
   },
   {
    "duration": 7,
    "start_time": "2021-12-22T15:15:13.584Z"
   },
   {
    "duration": 7,
    "start_time": "2021-12-22T15:15:13.960Z"
   },
   {
    "duration": 27,
    "start_time": "2021-12-22T15:15:15.707Z"
   },
   {
    "duration": 269,
    "start_time": "2021-12-22T15:15:17.048Z"
   },
   {
    "duration": 29,
    "start_time": "2021-12-22T15:15:17.632Z"
   },
   {
    "duration": 37,
    "start_time": "2021-12-22T15:15:18.127Z"
   },
   {
    "duration": 9,
    "start_time": "2021-12-22T15:15:19.033Z"
   },
   {
    "duration": 15,
    "start_time": "2021-12-22T15:15:19.783Z"
   },
   {
    "duration": 9,
    "start_time": "2021-12-22T15:15:21.136Z"
   },
   {
    "duration": 6,
    "start_time": "2021-12-22T15:15:21.911Z"
   },
   {
    "duration": 20,
    "start_time": "2021-12-22T15:15:23.293Z"
   },
   {
    "duration": 18,
    "start_time": "2021-12-22T15:15:25.000Z"
   },
   {
    "duration": 14,
    "start_time": "2021-12-22T15:15:25.459Z"
   },
   {
    "duration": 16,
    "start_time": "2021-12-22T15:15:26.300Z"
   },
   {
    "duration": 9,
    "start_time": "2021-12-22T15:15:27.055Z"
   },
   {
    "duration": 12,
    "start_time": "2021-12-22T15:15:28.129Z"
   },
   {
    "duration": 4,
    "start_time": "2021-12-22T15:15:28.567Z"
   },
   {
    "duration": 6,
    "start_time": "2021-12-22T15:15:28.994Z"
   },
   {
    "duration": 13,
    "start_time": "2021-12-22T15:15:29.475Z"
   },
   {
    "duration": 8,
    "start_time": "2021-12-22T15:15:30.365Z"
   },
   {
    "duration": 17,
    "start_time": "2021-12-22T15:15:31.138Z"
   },
   {
    "duration": 464,
    "start_time": "2021-12-22T15:15:31.505Z"
   },
   {
    "duration": 15,
    "start_time": "2021-12-22T15:15:32.822Z"
   },
   {
    "duration": 7,
    "start_time": "2021-12-22T15:15:33.611Z"
   },
   {
    "duration": 13,
    "start_time": "2021-12-22T15:15:36.073Z"
   },
   {
    "duration": 6,
    "start_time": "2021-12-22T15:15:40.096Z"
   },
   {
    "duration": 6,
    "start_time": "2021-12-22T15:15:50.332Z"
   },
   {
    "duration": 6,
    "start_time": "2021-12-22T15:18:09.571Z"
   },
   {
    "duration": 6,
    "start_time": "2021-12-22T15:18:14.271Z"
   },
   {
    "duration": 32,
    "start_time": "2021-12-22T15:18:27.540Z"
   },
   {
    "duration": 274,
    "start_time": "2021-12-22T15:19:50.157Z"
   },
   {
    "duration": 375,
    "start_time": "2021-12-22T15:21:14.031Z"
   },
   {
    "duration": 8,
    "start_time": "2021-12-22T15:21:38.611Z"
   },
   {
    "duration": 34,
    "start_time": "2021-12-22T15:21:50.822Z"
   },
   {
    "duration": 13,
    "start_time": "2021-12-22T15:23:08.225Z"
   },
   {
    "duration": 842,
    "start_time": "2021-12-22T17:50:02.386Z"
   },
   {
    "duration": 75,
    "start_time": "2021-12-22T17:50:04.577Z"
   },
   {
    "duration": 13,
    "start_time": "2021-12-22T17:50:06.408Z"
   },
   {
    "duration": 14,
    "start_time": "2021-12-22T17:50:08.043Z"
   },
   {
    "duration": 113,
    "start_time": "2021-12-22T17:50:11.514Z"
   },
   {
    "duration": 14,
    "start_time": "2021-12-22T17:50:23.930Z"
   },
   {
    "duration": 42,
    "start_time": "2021-12-22T17:50:56.733Z"
   },
   {
    "duration": 8,
    "start_time": "2021-12-22T17:51:54.802Z"
   },
   {
    "duration": 7,
    "start_time": "2021-12-22T17:51:55.807Z"
   },
   {
    "duration": 10,
    "start_time": "2021-12-22T17:51:58.606Z"
   },
   {
    "duration": 8,
    "start_time": "2021-12-22T17:51:59.303Z"
   },
   {
    "duration": 7,
    "start_time": "2021-12-22T17:52:02.042Z"
   },
   {
    "duration": 6,
    "start_time": "2021-12-22T17:52:02.824Z"
   },
   {
    "duration": 9,
    "start_time": "2021-12-22T17:52:04.574Z"
   },
   {
    "duration": 29,
    "start_time": "2021-12-22T17:52:24.133Z"
   },
   {
    "duration": 28,
    "start_time": "2021-12-22T17:52:49.885Z"
   },
   {
    "duration": 274,
    "start_time": "2021-12-22T17:52:54.325Z"
   },
   {
    "duration": 27,
    "start_time": "2021-12-22T17:52:55.256Z"
   },
   {
    "duration": 270,
    "start_time": "2021-12-22T17:56:31.020Z"
   },
   {
    "duration": 27,
    "start_time": "2021-12-22T17:56:31.675Z"
   },
   {
    "duration": 39,
    "start_time": "2021-12-22T17:56:34.973Z"
   },
   {
    "duration": 14,
    "start_time": "2021-12-22T17:56:36.980Z"
   },
   {
    "duration": 14,
    "start_time": "2021-12-22T17:56:47.216Z"
   },
   {
    "duration": 9,
    "start_time": "2021-12-22T17:57:23.261Z"
   },
   {
    "duration": 6,
    "start_time": "2021-12-22T17:57:24.504Z"
   },
   {
    "duration": 22,
    "start_time": "2021-12-22T17:57:27.187Z"
   },
   {
    "duration": 19,
    "start_time": "2021-12-22T17:58:11.704Z"
   },
   {
    "duration": 16,
    "start_time": "2021-12-22T17:58:35.944Z"
   },
   {
    "duration": 18,
    "start_time": "2021-12-22T17:58:37.556Z"
   },
   {
    "duration": 8,
    "start_time": "2021-12-22T18:01:56.331Z"
   },
   {
    "duration": 12,
    "start_time": "2021-12-22T18:14:56.038Z"
   },
   {
    "duration": 7,
    "start_time": "2021-12-22T18:15:01.282Z"
   },
   {
    "duration": 13,
    "start_time": "2021-12-22T18:15:54.963Z"
   },
   {
    "duration": 7,
    "start_time": "2021-12-22T18:15:55.938Z"
   },
   {
    "duration": 14,
    "start_time": "2021-12-22T18:15:57.157Z"
   },
   {
    "duration": 6,
    "start_time": "2021-12-22T18:16:25.591Z"
   },
   {
    "duration": 459,
    "start_time": "2021-12-22T18:16:26.436Z"
   },
   {
    "duration": 17,
    "start_time": "2021-12-22T18:18:10.572Z"
   },
   {
    "duration": 6,
    "start_time": "2021-12-22T18:19:37.508Z"
   },
   {
    "duration": -155,
    "start_time": "2021-12-22T18:21:03.860Z"
   },
   {
    "duration": -157,
    "start_time": "2021-12-22T18:21:03.864Z"
   },
   {
    "duration": 33,
    "start_time": "2021-12-22T18:21:05.141Z"
   },
   {
    "duration": 16,
    "start_time": "2021-12-22T18:21:49.888Z"
   },
   {
    "duration": 25,
    "start_time": "2021-12-22T18:22:03.747Z"
   },
   {
    "duration": 15,
    "start_time": "2021-12-22T18:22:08.510Z"
   },
   {
    "duration": 6,
    "start_time": "2021-12-22T18:22:52.483Z"
   },
   {
    "duration": 9,
    "start_time": "2021-12-22T18:22:53.774Z"
   },
   {
    "duration": 7,
    "start_time": "2021-12-22T18:22:54.487Z"
   },
   {
    "duration": 7,
    "start_time": "2021-12-22T18:22:55.766Z"
   },
   {
    "duration": 8,
    "start_time": "2021-12-22T18:22:56.522Z"
   },
   {
    "duration": 38,
    "start_time": "2021-12-22T18:22:57.956Z"
   },
   {
    "duration": 16,
    "start_time": "2021-12-22T18:23:00.073Z"
   },
   {
    "duration": 19,
    "start_time": "2021-12-22T18:23:01.189Z"
   },
   {
    "duration": 13,
    "start_time": "2021-12-22T18:24:21.852Z"
   },
   {
    "duration": 17,
    "start_time": "2021-12-22T18:24:24.081Z"
   },
   {
    "duration": 8,
    "start_time": "2021-12-22T18:28:21.360Z"
   },
   {
    "duration": 8,
    "start_time": "2021-12-22T18:28:21.975Z"
   },
   {
    "duration": 16,
    "start_time": "2021-12-22T18:28:22.534Z"
   },
   {
    "duration": 32,
    "start_time": "2021-12-22T18:28:24.617Z"
   },
   {
    "duration": 12,
    "start_time": "2021-12-22T18:30:00.019Z"
   },
   {
    "duration": 6,
    "start_time": "2021-12-22T18:30:00.230Z"
   },
   {
    "duration": 30,
    "start_time": "2021-12-22T18:30:01.102Z"
   },
   {
    "duration": 47,
    "start_time": "2021-12-22T18:30:45.264Z"
   },
   {
    "duration": 31,
    "start_time": "2021-12-22T18:30:49.839Z"
   },
   {
    "duration": 21,
    "start_time": "2021-12-22T18:31:25.952Z"
   },
   {
    "duration": 29,
    "start_time": "2021-12-22T18:31:26.617Z"
   },
   {
    "duration": 5,
    "start_time": "2021-12-22T18:32:38.543Z"
   },
   {
    "duration": 3,
    "start_time": "2021-12-22T18:32:43.614Z"
   },
   {
    "duration": 109,
    "start_time": "2021-12-22T18:32:44.455Z"
   },
   {
    "duration": 13,
    "start_time": "2021-12-22T18:32:44.721Z"
   },
   {
    "duration": 10,
    "start_time": "2021-12-22T18:32:45.319Z"
   },
   {
    "duration": 113,
    "start_time": "2021-12-22T18:32:46.235Z"
   },
   {
    "duration": 117,
    "start_time": "2021-12-22T18:32:51.147Z"
   },
   {
    "duration": 29,
    "start_time": "2021-12-22T18:32:54.783Z"
   },
   {
    "duration": 112,
    "start_time": "2021-12-22T18:32:57.475Z"
   },
   {
    "duration": 16,
    "start_time": "2021-12-22T18:32:59.051Z"
   },
   {
    "duration": 37,
    "start_time": "2021-12-22T18:33:03.876Z"
   },
   {
    "duration": 8,
    "start_time": "2021-12-22T18:33:05.136Z"
   },
   {
    "duration": 10,
    "start_time": "2021-12-22T18:33:05.519Z"
   },
   {
    "duration": 13,
    "start_time": "2021-12-22T18:33:06.330Z"
   },
   {
    "duration": 7,
    "start_time": "2021-12-22T18:33:06.709Z"
   },
   {
    "duration": 7,
    "start_time": "2021-12-22T18:33:07.471Z"
   },
   {
    "duration": 7,
    "start_time": "2021-12-22T18:33:07.833Z"
   },
   {
    "duration": 10,
    "start_time": "2021-12-22T18:33:08.135Z"
   },
   {
    "duration": 45,
    "start_time": "2021-12-22T18:33:08.825Z"
   },
   {
    "duration": 281,
    "start_time": "2021-12-22T18:33:10.249Z"
   },
   {
    "duration": 29,
    "start_time": "2021-12-22T18:33:10.571Z"
   },
   {
    "duration": 37,
    "start_time": "2021-12-22T18:33:10.964Z"
   },
   {
    "duration": 9,
    "start_time": "2021-12-22T18:33:11.766Z"
   },
   {
    "duration": 15,
    "start_time": "2021-12-22T18:33:12.102Z"
   },
   {
    "duration": 9,
    "start_time": "2021-12-22T18:33:13.111Z"
   },
   {
    "duration": 7,
    "start_time": "2021-12-22T18:33:13.570Z"
   },
   {
    "duration": 22,
    "start_time": "2021-12-22T18:33:14.322Z"
   },
   {
    "duration": 18,
    "start_time": "2021-12-22T18:33:15.066Z"
   },
   {
    "duration": 15,
    "start_time": "2021-12-22T18:33:15.812Z"
   },
   {
    "duration": 19,
    "start_time": "2021-12-22T18:33:16.170Z"
   },
   {
    "duration": 8,
    "start_time": "2021-12-22T18:33:16.876Z"
   },
   {
    "duration": 16,
    "start_time": "2021-12-22T18:33:17.936Z"
   },
   {
    "duration": 10,
    "start_time": "2021-12-22T18:33:18.278Z"
   },
   {
    "duration": 19,
    "start_time": "2021-12-22T18:33:18.982Z"
   },
   {
    "duration": 675,
    "start_time": "2021-12-22T18:33:19.360Z"
   },
   {
    "duration": 26,
    "start_time": "2021-12-22T18:33:20.037Z"
   },
   {
    "duration": 7,
    "start_time": "2021-12-22T18:33:20.846Z"
   },
   {
    "duration": 9,
    "start_time": "2021-12-22T18:33:21.580Z"
   },
   {
    "duration": 6,
    "start_time": "2021-12-22T18:33:21.888Z"
   },
   {
    "duration": 6,
    "start_time": "2021-12-22T18:33:22.726Z"
   },
   {
    "duration": 6,
    "start_time": "2021-12-22T18:33:22.990Z"
   },
   {
    "duration": 27,
    "start_time": "2021-12-22T18:33:23.297Z"
   },
   {
    "duration": 13,
    "start_time": "2021-12-22T18:33:24.146Z"
   },
   {
    "duration": 16,
    "start_time": "2021-12-22T18:33:24.637Z"
   },
   {
    "duration": 47,
    "start_time": "2021-12-22T18:33:26.959Z"
   },
   {
    "duration": 33,
    "start_time": "2021-12-22T18:33:28.095Z"
   },
   {
    "duration": 5,
    "start_time": "2021-12-22T18:33:30.884Z"
   },
   {
    "duration": 31,
    "start_time": "2021-12-22T18:33:31.838Z"
   },
   {
    "duration": 7,
    "start_time": "2021-12-22T18:33:55.550Z"
   },
   {
    "duration": 488,
    "start_time": "2021-12-22T18:40:28.157Z"
   },
   {
    "duration": 293,
    "start_time": "2021-12-22T18:40:48.319Z"
   },
   {
    "duration": 13,
    "start_time": "2021-12-22T18:41:10.628Z"
   },
   {
    "duration": 15,
    "start_time": "2021-12-22T18:41:43.399Z"
   },
   {
    "duration": 43,
    "start_time": "2021-12-22T18:41:52.571Z"
   },
   {
    "duration": 680,
    "start_time": "2021-12-22T18:44:56.334Z"
   },
   {
    "duration": 804,
    "start_time": "2021-12-22T18:45:02.938Z"
   },
   {
    "duration": 1134,
    "start_time": "2021-12-22T18:45:23.444Z"
   },
   {
    "duration": 1054,
    "start_time": "2021-12-22T18:45:43.267Z"
   },
   {
    "duration": 7,
    "start_time": "2021-12-22T18:49:52.151Z"
   },
   {
    "duration": 32,
    "start_time": "2021-12-22T18:49:52.761Z"
   },
   {
    "duration": 597,
    "start_time": "2021-12-22T18:54:56.576Z"
   },
   {
    "duration": 412,
    "start_time": "2021-12-22T18:55:04.926Z"
   },
   {
    "duration": 285,
    "start_time": "2021-12-22T18:55:10.658Z"
   },
   {
    "duration": 406,
    "start_time": "2021-12-22T18:55:14.263Z"
   },
   {
    "duration": 403,
    "start_time": "2021-12-22T18:57:06.830Z"
   },
   {
    "duration": 602,
    "start_time": "2021-12-22T18:57:13.982Z"
   },
   {
    "duration": 548,
    "start_time": "2021-12-22T18:57:24.290Z"
   },
   {
    "duration": 98,
    "start_time": "2021-12-22T18:59:26.803Z"
   },
   {
    "duration": 420,
    "start_time": "2021-12-22T18:59:52.722Z"
   },
   {
    "duration": 587,
    "start_time": "2021-12-22T19:00:10.624Z"
   },
   {
    "duration": 652,
    "start_time": "2021-12-22T19:00:36.010Z"
   },
   {
    "duration": 547,
    "start_time": "2021-12-22T19:00:41.018Z"
   },
   {
    "duration": 562,
    "start_time": "2021-12-22T19:00:49.021Z"
   },
   {
    "duration": 572,
    "start_time": "2021-12-22T19:01:05.712Z"
   },
   {
    "duration": 653,
    "start_time": "2021-12-22T19:01:35.977Z"
   },
   {
    "duration": 705,
    "start_time": "2021-12-22T19:03:21.595Z"
   },
   {
    "duration": 559,
    "start_time": "2021-12-22T19:03:31.237Z"
   },
   {
    "duration": 600,
    "start_time": "2021-12-22T19:03:40.151Z"
   },
   {
    "duration": 678,
    "start_time": "2021-12-22T19:03:43.995Z"
   },
   {
    "duration": 614,
    "start_time": "2021-12-22T19:03:52.534Z"
   },
   {
    "duration": 621,
    "start_time": "2021-12-22T19:03:58.782Z"
   },
   {
    "duration": 758,
    "start_time": "2021-12-22T19:04:29.642Z"
   },
   {
    "duration": 589,
    "start_time": "2021-12-22T19:05:12.759Z"
   },
   {
    "duration": 577,
    "start_time": "2021-12-22T19:06:08.780Z"
   },
   {
    "duration": 563,
    "start_time": "2021-12-22T19:06:42.736Z"
   },
   {
    "duration": 877,
    "start_time": "2021-12-22T19:08:22.212Z"
   },
   {
    "duration": 1263,
    "start_time": "2021-12-22T19:09:36.065Z"
   },
   {
    "duration": 856,
    "start_time": "2021-12-22T19:11:57.770Z"
   },
   {
    "duration": 13,
    "start_time": "2021-12-22T19:14:51.970Z"
   },
   {
    "duration": 1050,
    "start_time": "2021-12-23T18:17:50.322Z"
   },
   {
    "duration": 77,
    "start_time": "2021-12-23T18:17:52.798Z"
   },
   {
    "duration": 13,
    "start_time": "2021-12-23T18:17:53.163Z"
   },
   {
    "duration": 15,
    "start_time": "2021-12-23T18:17:54.167Z"
   },
   {
    "duration": 116,
    "start_time": "2021-12-23T18:17:55.373Z"
   },
   {
    "duration": 15,
    "start_time": "2021-12-23T18:17:57.148Z"
   },
   {
    "duration": 40,
    "start_time": "2021-12-23T18:17:59.686Z"
   },
   {
    "duration": 7,
    "start_time": "2021-12-23T18:18:01.146Z"
   },
   {
    "duration": 7,
    "start_time": "2021-12-23T18:18:01.611Z"
   },
   {
    "duration": 11,
    "start_time": "2021-12-23T18:18:02.594Z"
   },
   {
    "duration": 7,
    "start_time": "2021-12-23T18:18:03.268Z"
   },
   {
    "duration": 8,
    "start_time": "2021-12-23T18:18:08.509Z"
   },
   {
    "duration": 8,
    "start_time": "2021-12-23T18:18:09.050Z"
   },
   {
    "duration": 9,
    "start_time": "2021-12-23T18:18:09.597Z"
   },
   {
    "duration": 28,
    "start_time": "2021-12-23T18:18:10.684Z"
   },
   {
    "duration": 325,
    "start_time": "2021-12-23T18:18:11.650Z"
   },
   {
    "duration": 29,
    "start_time": "2021-12-23T18:18:12.231Z"
   },
   {
    "duration": 59,
    "start_time": "2021-12-23T18:18:12.751Z"
   },
   {
    "duration": 13,
    "start_time": "2021-12-23T18:18:13.681Z"
   },
   {
    "duration": 16,
    "start_time": "2021-12-23T18:18:14.690Z"
   },
   {
    "duration": 10,
    "start_time": "2021-12-23T18:18:15.805Z"
   },
   {
    "duration": 7,
    "start_time": "2021-12-23T18:18:16.405Z"
   },
   {
    "duration": 32,
    "start_time": "2021-12-23T18:18:17.435Z"
   },
   {
    "duration": 19,
    "start_time": "2021-12-23T18:18:18.606Z"
   },
   {
    "duration": 16,
    "start_time": "2021-12-23T18:18:19.587Z"
   },
   {
    "duration": 18,
    "start_time": "2021-12-23T18:18:20.271Z"
   },
   {
    "duration": 10,
    "start_time": "2021-12-23T18:18:21.679Z"
   },
   {
    "duration": 18,
    "start_time": "2021-12-23T18:18:23.441Z"
   },
   {
    "duration": 8,
    "start_time": "2021-12-23T18:18:23.889Z"
   },
   {
    "duration": 13,
    "start_time": "2021-12-23T18:18:24.859Z"
   },
   {
    "duration": 485,
    "start_time": "2021-12-23T18:18:25.546Z"
   },
   {
    "duration": 14,
    "start_time": "2021-12-23T18:18:26.177Z"
   },
   {
    "duration": 7,
    "start_time": "2021-12-23T18:18:28.093Z"
   },
   {
    "duration": 9,
    "start_time": "2021-12-23T18:18:29.128Z"
   },
   {
    "duration": 6,
    "start_time": "2021-12-23T18:18:29.630Z"
   },
   {
    "duration": 6,
    "start_time": "2021-12-23T18:18:30.707Z"
   },
   {
    "duration": 8,
    "start_time": "2021-12-23T18:18:31.549Z"
   },
   {
    "duration": 26,
    "start_time": "2021-12-23T18:18:32.867Z"
   },
   {
    "duration": 25,
    "start_time": "2021-12-23T18:18:33.943Z"
   },
   {
    "duration": 14,
    "start_time": "2021-12-23T18:18:34.488Z"
   },
   {
    "duration": 49,
    "start_time": "2021-12-23T18:18:37.336Z"
   },
   {
    "duration": 39,
    "start_time": "2021-12-23T18:18:38.792Z"
   },
   {
    "duration": 9,
    "start_time": "2021-12-23T18:18:39.741Z"
   },
   {
    "duration": 35,
    "start_time": "2021-12-23T18:18:40.396Z"
   },
   {
    "duration": 1112,
    "start_time": "2021-12-23T18:18:46.451Z"
   },
   {
    "duration": 582,
    "start_time": "2021-12-23T18:18:51.413Z"
   },
   {
    "duration": 612,
    "start_time": "2021-12-23T18:18:54.159Z"
   },
   {
    "duration": 590,
    "start_time": "2021-12-23T18:18:56.117Z"
   },
   {
    "duration": 571,
    "start_time": "2021-12-23T18:18:57.573Z"
   },
   {
    "duration": 582,
    "start_time": "2021-12-23T18:18:59.201Z"
   },
   {
    "duration": 668,
    "start_time": "2021-12-23T18:19:00.865Z"
   },
   {
    "duration": 617,
    "start_time": "2021-12-23T18:19:01.535Z"
   },
   {
    "duration": 896,
    "start_time": "2021-12-23T18:19:04.002Z"
   },
   {
    "duration": 910,
    "start_time": "2021-12-23T18:19:07.835Z"
   },
   {
    "duration": 13,
    "start_time": "2021-12-23T18:19:12.345Z"
   },
   {
    "duration": 391,
    "start_time": "2021-12-23T18:20:08.060Z"
   },
   {
    "duration": 1678,
    "start_time": "2021-12-23T18:20:28.352Z"
   },
   {
    "duration": 674,
    "start_time": "2021-12-23T18:26:27.966Z"
   },
   {
    "duration": 631,
    "start_time": "2021-12-23T18:26:35.802Z"
   },
   {
    "duration": 627,
    "start_time": "2021-12-23T18:27:07.028Z"
   },
   {
    "duration": 243,
    "start_time": "2021-12-23T18:31:28.086Z"
   },
   {
    "duration": 335,
    "start_time": "2021-12-23T18:33:44.384Z"
   },
   {
    "duration": 12,
    "start_time": "2021-12-23T18:58:25.675Z"
   },
   {
    "duration": 24,
    "start_time": "2021-12-23T18:58:37.771Z"
   },
   {
    "duration": 115,
    "start_time": "2021-12-23T18:59:04.385Z"
   },
   {
    "duration": 11,
    "start_time": "2021-12-23T18:59:21.392Z"
   },
   {
    "duration": 24,
    "start_time": "2021-12-23T18:59:39.038Z"
   },
   {
    "duration": 768,
    "start_time": "2021-12-24T11:55:02.097Z"
   },
   {
    "duration": 55,
    "start_time": "2021-12-24T11:55:03.942Z"
   },
   {
    "duration": 8,
    "start_time": "2021-12-24T11:55:04.839Z"
   },
   {
    "duration": 9,
    "start_time": "2021-12-24T11:55:05.667Z"
   },
   {
    "duration": 76,
    "start_time": "2021-12-24T11:55:07.040Z"
   },
   {
    "duration": 10,
    "start_time": "2021-12-24T11:55:08.387Z"
   },
   {
    "duration": 25,
    "start_time": "2021-12-24T11:55:10.675Z"
   },
   {
    "duration": 5,
    "start_time": "2021-12-24T11:55:12.312Z"
   },
   {
    "duration": 6,
    "start_time": "2021-12-24T11:55:12.925Z"
   },
   {
    "duration": 8,
    "start_time": "2021-12-24T11:55:13.987Z"
   },
   {
    "duration": 5,
    "start_time": "2021-12-24T11:55:14.516Z"
   },
   {
    "duration": 5,
    "start_time": "2021-12-24T11:55:15.640Z"
   },
   {
    "duration": 4,
    "start_time": "2021-12-24T11:55:16.060Z"
   },
   {
    "duration": 5,
    "start_time": "2021-12-24T11:55:16.383Z"
   },
   {
    "duration": 18,
    "start_time": "2021-12-24T11:55:17.251Z"
   },
   {
    "duration": 155,
    "start_time": "2021-12-24T11:55:18.356Z"
   },
   {
    "duration": 18,
    "start_time": "2021-12-24T11:55:18.680Z"
   },
   {
    "duration": 25,
    "start_time": "2021-12-24T11:55:19.087Z"
   },
   {
    "duration": 7,
    "start_time": "2021-12-24T11:55:20.040Z"
   },
   {
    "duration": 9,
    "start_time": "2021-12-24T11:55:20.416Z"
   },
   {
    "duration": 6,
    "start_time": "2021-12-24T11:55:21.317Z"
   },
   {
    "duration": 5,
    "start_time": "2021-12-24T11:55:21.940Z"
   },
   {
    "duration": 14,
    "start_time": "2021-12-24T11:55:23.055Z"
   },
   {
    "duration": 13,
    "start_time": "2021-12-24T11:55:23.950Z"
   },
   {
    "duration": 16,
    "start_time": "2021-12-24T11:55:24.915Z"
   },
   {
    "duration": 17,
    "start_time": "2021-12-24T11:55:25.452Z"
   },
   {
    "duration": 5,
    "start_time": "2021-12-24T11:55:26.460Z"
   },
   {
    "duration": 8,
    "start_time": "2021-12-24T11:55:27.756Z"
   },
   {
    "duration": 6,
    "start_time": "2021-12-24T11:55:28.256Z"
   },
   {
    "duration": 12,
    "start_time": "2021-12-24T11:55:29.236Z"
   },
   {
    "duration": 297,
    "start_time": "2021-12-24T11:55:29.667Z"
   },
   {
    "duration": 8,
    "start_time": "2021-12-24T11:55:30.216Z"
   },
   {
    "duration": 4,
    "start_time": "2021-12-24T11:55:32.918Z"
   },
   {
    "duration": 7,
    "start_time": "2021-12-24T11:55:43.595Z"
   },
   {
    "duration": 7,
    "start_time": "2021-12-24T11:55:44.173Z"
   },
   {
    "duration": 4,
    "start_time": "2021-12-24T11:55:45.383Z"
   },
   {
    "duration": 5,
    "start_time": "2021-12-24T11:55:45.895Z"
   },
   {
    "duration": 15,
    "start_time": "2021-12-24T11:55:46.369Z"
   },
   {
    "duration": 8,
    "start_time": "2021-12-24T11:55:47.355Z"
   },
   {
    "duration": 9,
    "start_time": "2021-12-24T11:55:47.895Z"
   },
   {
    "duration": 28,
    "start_time": "2021-12-24T11:55:49.988Z"
   },
   {
    "duration": 22,
    "start_time": "2021-12-24T11:55:51.288Z"
   },
   {
    "duration": 5,
    "start_time": "2021-12-24T11:55:52.384Z"
   },
   {
    "duration": 18,
    "start_time": "2021-12-24T11:55:53.000Z"
   },
   {
    "duration": 620,
    "start_time": "2021-12-24T11:55:54.104Z"
   },
   {
    "duration": 312,
    "start_time": "2021-12-24T11:55:56.652Z"
   },
   {
    "duration": 332,
    "start_time": "2021-12-24T11:55:57.941Z"
   },
   {
    "duration": 340,
    "start_time": "2021-12-24T11:55:59.192Z"
   },
   {
    "duration": 303,
    "start_time": "2021-12-24T11:56:00.750Z"
   },
   {
    "duration": 304,
    "start_time": "2021-12-24T11:56:02.547Z"
   },
   {
    "duration": 372,
    "start_time": "2021-12-24T11:56:04.228Z"
   },
   {
    "duration": 318,
    "start_time": "2021-12-24T11:56:06.186Z"
   },
   {
    "duration": 502,
    "start_time": "2021-12-24T11:56:10.096Z"
   },
   {
    "duration": 465,
    "start_time": "2021-12-24T11:56:12.195Z"
   },
   {
    "duration": 9,
    "start_time": "2021-12-24T11:56:13.475Z"
   },
   {
    "duration": 190,
    "start_time": "2021-12-24T11:56:14.575Z"
   },
   {
    "duration": 271,
    "start_time": "2021-12-24T11:56:59.256Z"
   },
   {
    "duration": 15,
    "start_time": "2021-12-24T11:57:01.788Z"
   },
   {
    "duration": 10,
    "start_time": "2021-12-24T11:57:03.096Z"
   },
   {
    "duration": 703,
    "start_time": "2021-12-24T11:59:49.440Z"
   },
   {
    "duration": 64,
    "start_time": "2021-12-24T11:59:51.220Z"
   },
   {
    "duration": 8,
    "start_time": "2021-12-24T11:59:51.856Z"
   },
   {
    "duration": 9,
    "start_time": "2021-12-24T11:59:52.448Z"
   },
   {
    "duration": 73,
    "start_time": "2021-12-24T11:59:53.540Z"
   },
   {
    "duration": 11,
    "start_time": "2021-12-24T11:59:54.416Z"
   },
   {
    "duration": 25,
    "start_time": "2021-12-24T11:59:56.076Z"
   },
   {
    "duration": 6,
    "start_time": "2021-12-24T11:59:57.396Z"
   },
   {
    "duration": 6,
    "start_time": "2021-12-24T11:59:57.869Z"
   },
   {
    "duration": 7,
    "start_time": "2021-12-24T11:59:58.806Z"
   },
   {
    "duration": 6,
    "start_time": "2021-12-24T11:59:59.340Z"
   },
   {
    "duration": 5,
    "start_time": "2021-12-24T12:00:00.156Z"
   },
   {
    "duration": 5,
    "start_time": "2021-12-24T12:00:00.582Z"
   },
   {
    "duration": 6,
    "start_time": "2021-12-24T12:00:01.105Z"
   },
   {
    "duration": 26,
    "start_time": "2021-12-24T12:00:02.128Z"
   },
   {
    "duration": 173,
    "start_time": "2021-12-24T12:00:03.253Z"
   },
   {
    "duration": 25,
    "start_time": "2021-12-24T12:00:03.712Z"
   },
   {
    "duration": 26,
    "start_time": "2021-12-24T12:00:04.084Z"
   },
   {
    "duration": 10,
    "start_time": "2021-12-24T12:00:05.156Z"
   },
   {
    "duration": 11,
    "start_time": "2021-12-24T12:00:05.676Z"
   },
   {
    "duration": 6,
    "start_time": "2021-12-24T12:00:06.640Z"
   },
   {
    "duration": 5,
    "start_time": "2021-12-24T12:00:07.148Z"
   },
   {
    "duration": 16,
    "start_time": "2021-12-24T12:00:08.278Z"
   },
   {
    "duration": 18,
    "start_time": "2021-12-24T12:00:09.224Z"
   },
   {
    "duration": 13,
    "start_time": "2021-12-24T12:00:10.293Z"
   },
   {
    "duration": 11,
    "start_time": "2021-12-24T12:00:10.897Z"
   },
   {
    "duration": 6,
    "start_time": "2021-12-24T12:00:11.896Z"
   },
   {
    "duration": 8,
    "start_time": "2021-12-24T12:00:13.296Z"
   },
   {
    "duration": 5,
    "start_time": "2021-12-24T12:00:13.818Z"
   },
   {
    "duration": 8,
    "start_time": "2021-12-24T12:00:15.046Z"
   },
   {
    "duration": 282,
    "start_time": "2021-12-24T12:00:15.748Z"
   },
   {
    "duration": 9,
    "start_time": "2021-12-24T12:00:16.244Z"
   },
   {
    "duration": 4,
    "start_time": "2021-12-24T12:00:17.640Z"
   },
   {
    "duration": 8,
    "start_time": "2021-12-24T12:00:18.324Z"
   },
   {
    "duration": 5,
    "start_time": "2021-12-24T12:00:18.695Z"
   },
   {
    "duration": 5,
    "start_time": "2021-12-24T12:00:19.440Z"
   },
   {
    "duration": 5,
    "start_time": "2021-12-24T12:00:19.806Z"
   },
   {
    "duration": 15,
    "start_time": "2021-12-24T12:00:20.140Z"
   },
   {
    "duration": 8,
    "start_time": "2021-12-24T12:00:20.898Z"
   },
   {
    "duration": 9,
    "start_time": "2021-12-24T12:00:21.194Z"
   },
   {
    "duration": 34,
    "start_time": "2021-12-24T12:00:22.424Z"
   },
   {
    "duration": 22,
    "start_time": "2021-12-24T12:00:23.088Z"
   },
   {
    "duration": 5,
    "start_time": "2021-12-24T12:00:23.704Z"
   },
   {
    "duration": 19,
    "start_time": "2021-12-24T12:00:23.975Z"
   },
   {
    "duration": 621,
    "start_time": "2021-12-24T12:00:24.540Z"
   },
   {
    "duration": 292,
    "start_time": "2021-12-24T12:00:25.651Z"
   },
   {
    "duration": 319,
    "start_time": "2021-12-24T12:00:26.188Z"
   },
   {
    "duration": 316,
    "start_time": "2021-12-24T12:00:26.707Z"
   },
   {
    "duration": 298,
    "start_time": "2021-12-24T12:00:27.212Z"
   },
   {
    "duration": 319,
    "start_time": "2021-12-24T12:00:27.693Z"
   },
   {
    "duration": 371,
    "start_time": "2021-12-24T12:00:28.205Z"
   },
   {
    "duration": 330,
    "start_time": "2021-12-24T12:00:28.578Z"
   },
   {
    "duration": 463,
    "start_time": "2021-12-24T12:00:29.258Z"
   },
   {
    "duration": 465,
    "start_time": "2021-12-24T12:00:29.904Z"
   },
   {
    "duration": 8,
    "start_time": "2021-12-24T12:00:30.656Z"
   },
   {
    "duration": 189,
    "start_time": "2021-12-24T12:00:31.958Z"
   },
   {
    "duration": 12,
    "start_time": "2021-12-24T12:01:16.507Z"
   },
   {
    "duration": 630,
    "start_time": "2021-12-24T12:01:38.671Z"
   },
   {
    "duration": 55,
    "start_time": "2021-12-24T12:01:39.303Z"
   },
   {
    "duration": 7,
    "start_time": "2021-12-24T12:01:39.360Z"
   },
   {
    "duration": 16,
    "start_time": "2021-12-24T12:01:39.370Z"
   },
   {
    "duration": 78,
    "start_time": "2021-12-24T12:01:39.388Z"
   },
   {
    "duration": 11,
    "start_time": "2021-12-24T12:01:39.468Z"
   },
   {
    "duration": 25,
    "start_time": "2021-12-24T12:01:39.481Z"
   },
   {
    "duration": 5,
    "start_time": "2021-12-24T12:01:39.529Z"
   },
   {
    "duration": 8,
    "start_time": "2021-12-24T12:01:39.536Z"
   },
   {
    "duration": 14,
    "start_time": "2021-12-24T12:01:39.545Z"
   },
   {
    "duration": 10,
    "start_time": "2021-12-24T12:01:39.560Z"
   },
   {
    "duration": 14,
    "start_time": "2021-12-24T12:01:39.571Z"
   },
   {
    "duration": 11,
    "start_time": "2021-12-24T12:01:39.586Z"
   },
   {
    "duration": 14,
    "start_time": "2021-12-24T12:01:39.599Z"
   },
   {
    "duration": 27,
    "start_time": "2021-12-24T12:01:39.614Z"
   },
   {
    "duration": 176,
    "start_time": "2021-12-24T12:01:39.642Z"
   },
   {
    "duration": 18,
    "start_time": "2021-12-24T12:01:39.820Z"
   },
   {
    "duration": 32,
    "start_time": "2021-12-24T12:01:39.839Z"
   },
   {
    "duration": 7,
    "start_time": "2021-12-24T12:01:39.872Z"
   },
   {
    "duration": 21,
    "start_time": "2021-12-24T12:01:39.880Z"
   },
   {
    "duration": 6,
    "start_time": "2021-12-24T12:01:39.902Z"
   },
   {
    "duration": 21,
    "start_time": "2021-12-24T12:01:39.910Z"
   },
   {
    "duration": 15,
    "start_time": "2021-12-24T12:01:39.934Z"
   },
   {
    "duration": 12,
    "start_time": "2021-12-24T12:01:39.951Z"
   },
   {
    "duration": 10,
    "start_time": "2021-12-24T12:01:39.965Z"
   },
   {
    "duration": 10,
    "start_time": "2021-12-24T12:01:39.977Z"
   },
   {
    "duration": 41,
    "start_time": "2021-12-24T12:01:39.989Z"
   },
   {
    "duration": 8,
    "start_time": "2021-12-24T12:01:40.031Z"
   },
   {
    "duration": 7,
    "start_time": "2021-12-24T12:01:40.040Z"
   },
   {
    "duration": 10,
    "start_time": "2021-12-24T12:01:40.049Z"
   },
   {
    "duration": 297,
    "start_time": "2021-12-24T12:01:40.061Z"
   },
   {
    "duration": 8,
    "start_time": "2021-12-24T12:01:40.360Z"
   },
   {
    "duration": 4,
    "start_time": "2021-12-24T12:01:40.370Z"
   },
   {
    "duration": 8,
    "start_time": "2021-12-24T12:01:40.375Z"
   },
   {
    "duration": 3,
    "start_time": "2021-12-24T12:01:40.385Z"
   },
   {
    "duration": 5,
    "start_time": "2021-12-24T12:01:40.390Z"
   },
   {
    "duration": 32,
    "start_time": "2021-12-24T12:01:40.397Z"
   },
   {
    "duration": 14,
    "start_time": "2021-12-24T12:01:40.431Z"
   },
   {
    "duration": 8,
    "start_time": "2021-12-24T12:01:40.447Z"
   },
   {
    "duration": 8,
    "start_time": "2021-12-24T12:01:40.456Z"
   },
   {
    "duration": 62,
    "start_time": "2021-12-24T12:01:40.466Z"
   },
   {
    "duration": 24,
    "start_time": "2021-12-24T12:01:40.530Z"
   },
   {
    "duration": 5,
    "start_time": "2021-12-24T12:01:40.556Z"
   },
   {
    "duration": 20,
    "start_time": "2021-12-24T12:01:40.563Z"
   },
   {
    "duration": 627,
    "start_time": "2021-12-24T12:01:40.584Z"
   },
   {
    "duration": 295,
    "start_time": "2021-12-24T12:01:41.213Z"
   },
   {
    "duration": 321,
    "start_time": "2021-12-24T12:01:41.510Z"
   },
   {
    "duration": 324,
    "start_time": "2021-12-24T12:01:41.833Z"
   },
   {
    "duration": 309,
    "start_time": "2021-12-24T12:01:42.159Z"
   },
   {
    "duration": 328,
    "start_time": "2021-12-24T12:01:42.470Z"
   },
   {
    "duration": 382,
    "start_time": "2021-12-24T12:01:42.800Z"
   },
   {
    "duration": 332,
    "start_time": "2021-12-24T12:01:43.183Z"
   },
   {
    "duration": 484,
    "start_time": "2021-12-24T12:01:43.517Z"
   },
   {
    "duration": 455,
    "start_time": "2021-12-24T12:01:44.003Z"
   },
   {
    "duration": 9,
    "start_time": "2021-12-24T12:01:44.459Z"
   },
   {
    "duration": 202,
    "start_time": "2021-12-24T12:01:44.470Z"
   },
   {
    "duration": 15,
    "start_time": "2021-12-24T12:01:44.674Z"
   },
   {
    "duration": 7,
    "start_time": "2021-12-24T12:01:44.691Z"
   },
   {
    "duration": 913,
    "start_time": "2021-12-25T08:08:43.424Z"
   },
   {
    "duration": 81,
    "start_time": "2021-12-25T08:08:44.340Z"
   },
   {
    "duration": 10,
    "start_time": "2021-12-25T08:08:44.425Z"
   },
   {
    "duration": 15,
    "start_time": "2021-12-25T08:08:44.438Z"
   },
   {
    "duration": 133,
    "start_time": "2021-12-25T08:08:44.455Z"
   },
   {
    "duration": 28,
    "start_time": "2021-12-25T08:08:44.591Z"
   },
   {
    "duration": 39,
    "start_time": "2021-12-25T08:08:44.621Z"
   },
   {
    "duration": 7,
    "start_time": "2021-12-25T08:08:44.663Z"
   },
   {
    "duration": 43,
    "start_time": "2021-12-25T08:08:44.673Z"
   },
   {
    "duration": 10,
    "start_time": "2021-12-25T08:08:44.719Z"
   },
   {
    "duration": 7,
    "start_time": "2021-12-25T08:08:44.731Z"
   },
   {
    "duration": 7,
    "start_time": "2021-12-25T08:08:44.741Z"
   },
   {
    "duration": 6,
    "start_time": "2021-12-25T08:08:44.750Z"
   },
   {
    "duration": 64,
    "start_time": "2021-12-25T08:08:44.758Z"
   },
   {
    "duration": 28,
    "start_time": "2021-12-25T08:08:44.824Z"
   },
   {
    "duration": 323,
    "start_time": "2021-12-25T08:08:44.854Z"
   },
   {
    "duration": 37,
    "start_time": "2021-12-25T08:08:45.179Z"
   },
   {
    "duration": 39,
    "start_time": "2021-12-25T08:08:45.219Z"
   },
   {
    "duration": 9,
    "start_time": "2021-12-25T08:08:45.260Z"
   },
   {
    "duration": 47,
    "start_time": "2021-12-25T08:08:45.271Z"
   },
   {
    "duration": 9,
    "start_time": "2021-12-25T08:08:45.320Z"
   },
   {
    "duration": 5,
    "start_time": "2021-12-25T08:08:45.332Z"
   },
   {
    "duration": 22,
    "start_time": "2021-12-25T08:08:45.342Z"
   },
   {
    "duration": 63,
    "start_time": "2021-12-25T08:08:45.367Z"
   },
   {
    "duration": 16,
    "start_time": "2021-12-25T08:08:45.433Z"
   },
   {
    "duration": 17,
    "start_time": "2021-12-25T08:08:45.452Z"
   },
   {
    "duration": 49,
    "start_time": "2021-12-25T08:08:45.472Z"
   },
   {
    "duration": 13,
    "start_time": "2021-12-25T08:08:45.523Z"
   },
   {
    "duration": 9,
    "start_time": "2021-12-25T08:08:45.539Z"
   },
   {
    "duration": 11,
    "start_time": "2021-12-25T08:08:45.551Z"
   },
   {
    "duration": 545,
    "start_time": "2021-12-25T08:08:45.565Z"
   },
   {
    "duration": 14,
    "start_time": "2021-12-25T08:08:46.112Z"
   },
   {
    "duration": 7,
    "start_time": "2021-12-25T08:08:46.128Z"
   },
   {
    "duration": 10,
    "start_time": "2021-12-25T08:08:46.137Z"
   },
   {
    "duration": 6,
    "start_time": "2021-12-25T08:08:46.149Z"
   },
   {
    "duration": 5,
    "start_time": "2021-12-25T08:08:46.158Z"
   },
   {
    "duration": 7,
    "start_time": "2021-12-25T08:08:46.218Z"
   },
   {
    "duration": 56,
    "start_time": "2021-12-25T08:08:46.227Z"
   },
   {
    "duration": 41,
    "start_time": "2021-12-25T08:08:46.287Z"
   },
   {
    "duration": 15,
    "start_time": "2021-12-25T08:08:46.331Z"
   },
   {
    "duration": 88,
    "start_time": "2021-12-25T08:08:46.348Z"
   },
   {
    "duration": 35,
    "start_time": "2021-12-25T08:08:46.439Z"
   },
   {
    "duration": 8,
    "start_time": "2021-12-25T08:08:46.476Z"
   },
   {
    "duration": 61,
    "start_time": "2021-12-25T08:08:46.488Z"
   },
   {
    "duration": 1069,
    "start_time": "2021-12-25T08:08:46.552Z"
   },
   {
    "duration": 549,
    "start_time": "2021-12-25T08:08:47.624Z"
   },
   {
    "duration": 647,
    "start_time": "2021-12-25T08:08:48.176Z"
   },
   {
    "duration": 680,
    "start_time": "2021-12-25T08:08:48.826Z"
   },
   {
    "duration": 568,
    "start_time": "2021-12-25T08:08:49.509Z"
   },
   {
    "duration": 565,
    "start_time": "2021-12-25T08:08:50.080Z"
   },
   {
    "duration": 691,
    "start_time": "2021-12-25T08:08:50.648Z"
   },
   {
    "duration": 591,
    "start_time": "2021-12-25T08:08:51.341Z"
   },
   {
    "duration": 931,
    "start_time": "2021-12-25T08:08:51.934Z"
   },
   {
    "duration": 862,
    "start_time": "2021-12-25T08:08:52.868Z"
   },
   {
    "duration": 11,
    "start_time": "2021-12-25T08:08:53.733Z"
   },
   {
    "duration": 459,
    "start_time": "2021-12-25T08:08:53.747Z"
   },
   {
    "duration": 472,
    "start_time": "2021-12-25T08:09:45.906Z"
   },
   {
    "duration": 420,
    "start_time": "2021-12-25T08:09:55.091Z"
   },
   {
    "duration": 25,
    "start_time": "2021-12-25T08:10:17.430Z"
   },
   {
    "duration": 14,
    "start_time": "2021-12-25T08:10:24.911Z"
   },
   {
    "duration": 881,
    "start_time": "2021-12-25T08:10:49.492Z"
   },
   {
    "duration": 74,
    "start_time": "2021-12-25T08:10:50.375Z"
   },
   {
    "duration": 11,
    "start_time": "2021-12-25T08:10:50.452Z"
   },
   {
    "duration": 14,
    "start_time": "2021-12-25T08:10:50.466Z"
   },
   {
    "duration": 136,
    "start_time": "2021-12-25T08:10:50.482Z"
   },
   {
    "duration": 15,
    "start_time": "2021-12-25T08:10:50.621Z"
   },
   {
    "duration": 39,
    "start_time": "2021-12-25T08:10:50.638Z"
   },
   {
    "duration": 41,
    "start_time": "2021-12-25T08:10:50.679Z"
   },
   {
    "duration": 8,
    "start_time": "2021-12-25T08:10:50.724Z"
   },
   {
    "duration": 9,
    "start_time": "2021-12-25T08:10:50.735Z"
   },
   {
    "duration": 8,
    "start_time": "2021-12-25T08:10:50.746Z"
   },
   {
    "duration": 8,
    "start_time": "2021-12-25T08:10:50.756Z"
   },
   {
    "duration": 6,
    "start_time": "2021-12-25T08:10:50.818Z"
   },
   {
    "duration": 7,
    "start_time": "2021-12-25T08:10:50.826Z"
   },
   {
    "duration": 26,
    "start_time": "2021-12-25T08:10:50.835Z"
   },
   {
    "duration": 330,
    "start_time": "2021-12-25T08:10:50.864Z"
   },
   {
    "duration": 32,
    "start_time": "2021-12-25T08:10:51.196Z"
   },
   {
    "duration": 42,
    "start_time": "2021-12-25T08:10:51.231Z"
   },
   {
    "duration": 49,
    "start_time": "2021-12-25T08:10:51.276Z"
   },
   {
    "duration": 18,
    "start_time": "2021-12-25T08:10:51.328Z"
   },
   {
    "duration": 12,
    "start_time": "2021-12-25T08:10:51.349Z"
   },
   {
    "duration": 56,
    "start_time": "2021-12-25T08:10:51.364Z"
   },
   {
    "duration": 27,
    "start_time": "2021-12-25T08:10:51.423Z"
   },
   {
    "duration": 72,
    "start_time": "2021-12-25T08:10:51.453Z"
   },
   {
    "duration": 20,
    "start_time": "2021-12-25T08:10:51.527Z"
   },
   {
    "duration": 21,
    "start_time": "2021-12-25T08:10:51.549Z"
   },
   {
    "duration": 10,
    "start_time": "2021-12-25T08:10:51.618Z"
   },
   {
    "duration": 15,
    "start_time": "2021-12-25T08:10:51.632Z"
   },
   {
    "duration": 9,
    "start_time": "2021-12-25T08:10:51.650Z"
   },
   {
    "duration": 63,
    "start_time": "2021-12-25T08:10:51.662Z"
   },
   {
    "duration": 497,
    "start_time": "2021-12-25T08:10:51.728Z"
   },
   {
    "duration": 15,
    "start_time": "2021-12-25T08:10:52.228Z"
   },
   {
    "duration": 7,
    "start_time": "2021-12-25T08:10:52.246Z"
   },
   {
    "duration": 11,
    "start_time": "2021-12-25T08:10:52.256Z"
   },
   {
    "duration": 7,
    "start_time": "2021-12-25T08:10:52.318Z"
   },
   {
    "duration": 6,
    "start_time": "2021-12-25T08:10:52.327Z"
   },
   {
    "duration": 6,
    "start_time": "2021-12-25T08:10:52.335Z"
   },
   {
    "duration": 29,
    "start_time": "2021-12-25T08:10:52.343Z"
   },
   {
    "duration": 52,
    "start_time": "2021-12-25T08:10:52.374Z"
   },
   {
    "duration": 15,
    "start_time": "2021-12-25T08:10:52.428Z"
   },
   {
    "duration": 87,
    "start_time": "2021-12-25T08:10:52.446Z"
   },
   {
    "duration": 34,
    "start_time": "2021-12-25T08:10:52.535Z"
   },
   {
    "duration": 6,
    "start_time": "2021-12-25T08:10:52.572Z"
   },
   {
    "duration": 62,
    "start_time": "2021-12-25T08:10:52.580Z"
   },
   {
    "duration": 1246,
    "start_time": "2021-12-25T08:10:52.644Z"
   },
   {
    "duration": 536,
    "start_time": "2021-12-25T08:10:53.893Z"
   },
   {
    "duration": 586,
    "start_time": "2021-12-25T08:10:54.431Z"
   },
   {
    "duration": 574,
    "start_time": "2021-12-25T08:10:55.020Z"
   },
   {
    "duration": 574,
    "start_time": "2021-12-25T08:10:55.597Z"
   },
   {
    "duration": 570,
    "start_time": "2021-12-25T08:10:56.174Z"
   },
   {
    "duration": 821,
    "start_time": "2021-12-25T08:10:56.747Z"
   },
   {
    "duration": 567,
    "start_time": "2021-12-25T08:10:57.571Z"
   },
   {
    "duration": 855,
    "start_time": "2021-12-25T08:10:58.140Z"
   },
   {
    "duration": 827,
    "start_time": "2021-12-25T08:10:58.997Z"
   },
   {
    "duration": 15,
    "start_time": "2021-12-25T08:10:59.827Z"
   },
   {
    "duration": 13,
    "start_time": "2021-12-25T08:11:47.225Z"
   },
   {
    "duration": 22,
    "start_time": "2021-12-25T08:12:00.398Z"
   },
   {
    "duration": 97,
    "start_time": "2021-12-25T08:13:01.194Z"
   },
   {
    "duration": 10,
    "start_time": "2021-12-25T08:13:20.373Z"
   },
   {
    "duration": 10,
    "start_time": "2021-12-25T08:13:44.534Z"
   },
   {
    "duration": 6,
    "start_time": "2021-12-25T08:13:55.538Z"
   },
   {
    "duration": 10,
    "start_time": "2021-12-25T08:13:59.742Z"
   },
   {
    "duration": 10,
    "start_time": "2021-12-25T08:14:41.722Z"
   },
   {
    "duration": 9,
    "start_time": "2021-12-25T08:14:47.517Z"
   },
   {
    "duration": 10,
    "start_time": "2021-12-25T08:15:37.909Z"
   },
   {
    "duration": 10,
    "start_time": "2021-12-25T08:16:51.451Z"
   },
   {
    "duration": 24,
    "start_time": "2021-12-25T08:17:43.151Z"
   },
   {
    "duration": 12,
    "start_time": "2021-12-25T08:17:46.692Z"
   },
   {
    "duration": 394,
    "start_time": "2021-12-25T08:33:41.234Z"
   },
   {
    "duration": 19,
    "start_time": "2021-12-25T08:33:53.086Z"
   },
   {
    "duration": 329,
    "start_time": "2021-12-25T08:34:07.398Z"
   },
   {
    "duration": 16,
    "start_time": "2021-12-25T08:34:45.408Z"
   },
   {
    "duration": 12,
    "start_time": "2021-12-25T08:36:56.498Z"
   },
   {
    "duration": 12,
    "start_time": "2021-12-25T08:37:27.065Z"
   },
   {
    "duration": 10,
    "start_time": "2021-12-25T08:40:30.830Z"
   },
   {
    "duration": 11,
    "start_time": "2021-12-25T08:40:58.398Z"
   },
   {
    "duration": 27,
    "start_time": "2021-12-25T08:41:05.873Z"
   },
   {
    "duration": 9,
    "start_time": "2021-12-25T08:41:15.864Z"
   },
   {
    "duration": 914,
    "start_time": "2021-12-25T08:41:35.986Z"
   },
   {
    "duration": 91,
    "start_time": "2021-12-25T08:41:36.903Z"
   },
   {
    "duration": 12,
    "start_time": "2021-12-25T08:41:36.996Z"
   },
   {
    "duration": 14,
    "start_time": "2021-12-25T08:41:37.011Z"
   },
   {
    "duration": 140,
    "start_time": "2021-12-25T08:41:37.028Z"
   },
   {
    "duration": 15,
    "start_time": "2021-12-25T08:41:37.171Z"
   },
   {
    "duration": 59,
    "start_time": "2021-12-25T08:41:37.189Z"
   },
   {
    "duration": 7,
    "start_time": "2021-12-25T08:41:37.252Z"
   },
   {
    "duration": 7,
    "start_time": "2021-12-25T08:41:37.262Z"
   },
   {
    "duration": 47,
    "start_time": "2021-12-25T08:41:37.272Z"
   },
   {
    "duration": 6,
    "start_time": "2021-12-25T08:41:37.321Z"
   },
   {
    "duration": 6,
    "start_time": "2021-12-25T08:41:37.330Z"
   },
   {
    "duration": 7,
    "start_time": "2021-12-25T08:41:37.338Z"
   },
   {
    "duration": 7,
    "start_time": "2021-12-25T08:41:37.348Z"
   },
   {
    "duration": 82,
    "start_time": "2021-12-25T08:41:37.358Z"
   },
   {
    "duration": 294,
    "start_time": "2021-12-25T08:41:37.442Z"
   },
   {
    "duration": 26,
    "start_time": "2021-12-25T08:41:37.738Z"
   },
   {
    "duration": 62,
    "start_time": "2021-12-25T08:41:37.767Z"
   },
   {
    "duration": 9,
    "start_time": "2021-12-25T08:41:37.831Z"
   },
   {
    "duration": 17,
    "start_time": "2021-12-25T08:41:37.842Z"
   },
   {
    "duration": 8,
    "start_time": "2021-12-25T08:41:37.861Z"
   },
   {
    "duration": 47,
    "start_time": "2021-12-25T08:41:37.872Z"
   },
   {
    "duration": 22,
    "start_time": "2021-12-25T08:41:37.925Z"
   },
   {
    "duration": 20,
    "start_time": "2021-12-25T08:41:37.950Z"
   },
   {
    "duration": 61,
    "start_time": "2021-12-25T08:41:37.973Z"
   },
   {
    "duration": 21,
    "start_time": "2021-12-25T08:41:38.036Z"
   },
   {
    "duration": 8,
    "start_time": "2021-12-25T08:41:38.059Z"
   },
   {
    "duration": 11,
    "start_time": "2021-12-25T08:41:38.117Z"
   },
   {
    "duration": 7,
    "start_time": "2021-12-25T08:41:38.131Z"
   },
   {
    "duration": 13,
    "start_time": "2021-12-25T08:41:38.140Z"
   },
   {
    "duration": 507,
    "start_time": "2021-12-25T08:41:38.156Z"
   },
   {
    "duration": 12,
    "start_time": "2021-12-25T08:41:38.666Z"
   },
   {
    "duration": 6,
    "start_time": "2021-12-25T08:41:38.680Z"
   },
   {
    "duration": 35,
    "start_time": "2021-12-25T08:41:38.689Z"
   },
   {
    "duration": 7,
    "start_time": "2021-12-25T08:41:38.726Z"
   },
   {
    "duration": 7,
    "start_time": "2021-12-25T08:41:38.735Z"
   },
   {
    "duration": 7,
    "start_time": "2021-12-25T08:41:38.744Z"
   },
   {
    "duration": 80,
    "start_time": "2021-12-25T08:41:38.754Z"
   },
   {
    "duration": 11,
    "start_time": "2021-12-25T08:41:38.837Z"
   },
   {
    "duration": 17,
    "start_time": "2021-12-25T08:41:38.851Z"
   },
   {
    "duration": 94,
    "start_time": "2021-12-25T08:41:38.871Z"
   },
   {
    "duration": 67,
    "start_time": "2021-12-25T08:41:38.968Z"
   },
   {
    "duration": 9,
    "start_time": "2021-12-25T08:41:39.038Z"
   },
   {
    "duration": 67,
    "start_time": "2021-12-25T08:41:39.050Z"
   },
   {
    "duration": 1053,
    "start_time": "2021-12-25T08:41:39.121Z"
   },
   {
    "duration": 556,
    "start_time": "2021-12-25T08:41:40.177Z"
   },
   {
    "duration": 583,
    "start_time": "2021-12-25T08:41:40.736Z"
   },
   {
    "duration": 611,
    "start_time": "2021-12-25T08:41:41.322Z"
   },
   {
    "duration": 574,
    "start_time": "2021-12-25T08:41:41.935Z"
   },
   {
    "duration": 549,
    "start_time": "2021-12-25T08:41:42.517Z"
   },
   {
    "duration": 642,
    "start_time": "2021-12-25T08:41:43.069Z"
   },
   {
    "duration": 558,
    "start_time": "2021-12-25T08:41:43.717Z"
   },
   {
    "duration": 870,
    "start_time": "2021-12-25T08:41:44.277Z"
   },
   {
    "duration": 832,
    "start_time": "2021-12-25T08:41:45.150Z"
   },
   {
    "duration": 12,
    "start_time": "2021-12-25T08:41:45.984Z"
   },
   {
    "duration": 458,
    "start_time": "2021-12-25T08:41:45.999Z"
   },
   {
    "duration": 13,
    "start_time": "2021-12-25T08:43:27.219Z"
   },
   {
    "duration": 518,
    "start_time": "2021-12-25T08:43:28.756Z"
   },
   {
    "duration": 12,
    "start_time": "2021-12-25T08:43:30.810Z"
   },
   {
    "duration": 11,
    "start_time": "2021-12-25T08:43:34.314Z"
   },
   {
    "duration": 11,
    "start_time": "2021-12-25T08:43:35.398Z"
   },
   {
    "duration": 23,
    "start_time": "2021-12-25T08:43:38.807Z"
   },
   {
    "duration": 321,
    "start_time": "2021-12-25T08:46:16.719Z"
   },
   {
    "duration": 920,
    "start_time": "2021-12-25T08:46:26.418Z"
   },
   {
    "duration": 23,
    "start_time": "2021-12-25T08:47:38.023Z"
   },
   {
    "duration": 806,
    "start_time": "2021-12-25T08:47:39.738Z"
   },
   {
    "duration": 1211,
    "start_time": "2021-12-25T08:48:37.591Z"
   },
   {
    "duration": 94,
    "start_time": "2021-12-25T08:48:38.805Z"
   },
   {
    "duration": 12,
    "start_time": "2021-12-25T08:48:38.902Z"
   },
   {
    "duration": 15,
    "start_time": "2021-12-25T08:48:38.917Z"
   },
   {
    "duration": 152,
    "start_time": "2021-12-25T08:48:38.935Z"
   },
   {
    "duration": 16,
    "start_time": "2021-12-25T08:48:39.090Z"
   },
   {
    "duration": 39,
    "start_time": "2021-12-25T08:48:39.117Z"
   },
   {
    "duration": 11,
    "start_time": "2021-12-25T08:48:39.162Z"
   },
   {
    "duration": 45,
    "start_time": "2021-12-25T08:48:39.178Z"
   },
   {
    "duration": 24,
    "start_time": "2021-12-25T08:48:39.227Z"
   },
   {
    "duration": 27,
    "start_time": "2021-12-25T08:48:39.254Z"
   },
   {
    "duration": 45,
    "start_time": "2021-12-25T08:48:39.284Z"
   },
   {
    "duration": 27,
    "start_time": "2021-12-25T08:48:39.332Z"
   },
   {
    "duration": 24,
    "start_time": "2021-12-25T08:48:39.362Z"
   },
   {
    "duration": 66,
    "start_time": "2021-12-25T08:48:39.389Z"
   },
   {
    "duration": 489,
    "start_time": "2021-12-25T08:48:39.458Z"
   },
   {
    "duration": 42,
    "start_time": "2021-12-25T08:48:39.950Z"
   },
   {
    "duration": 55,
    "start_time": "2021-12-25T08:48:39.995Z"
   },
   {
    "duration": 11,
    "start_time": "2021-12-25T08:48:40.053Z"
   },
   {
    "duration": 59,
    "start_time": "2021-12-25T08:48:40.067Z"
   },
   {
    "duration": 14,
    "start_time": "2021-12-25T08:48:40.129Z"
   },
   {
    "duration": 9,
    "start_time": "2021-12-25T08:48:40.146Z"
   },
   {
    "duration": 73,
    "start_time": "2021-12-25T08:48:40.165Z"
   },
   {
    "duration": 26,
    "start_time": "2021-12-25T08:48:40.243Z"
   },
   {
    "duration": 57,
    "start_time": "2021-12-25T08:48:40.272Z"
   },
   {
    "duration": 26,
    "start_time": "2021-12-25T08:48:40.332Z"
   },
   {
    "duration": 11,
    "start_time": "2021-12-25T08:48:40.361Z"
   },
   {
    "duration": 55,
    "start_time": "2021-12-25T08:48:40.375Z"
   },
   {
    "duration": 12,
    "start_time": "2021-12-25T08:48:40.433Z"
   },
   {
    "duration": 14,
    "start_time": "2021-12-25T08:48:40.448Z"
   },
   {
    "duration": 546,
    "start_time": "2021-12-25T08:48:40.465Z"
   },
   {
    "duration": 13,
    "start_time": "2021-12-25T08:48:41.013Z"
   },
   {
    "duration": 5,
    "start_time": "2021-12-25T08:48:41.029Z"
   },
   {
    "duration": 13,
    "start_time": "2021-12-25T08:48:41.037Z"
   },
   {
    "duration": 8,
    "start_time": "2021-12-25T08:48:41.053Z"
   },
   {
    "duration": 63,
    "start_time": "2021-12-25T08:48:41.063Z"
   },
   {
    "duration": 6,
    "start_time": "2021-12-25T08:48:41.128Z"
   },
   {
    "duration": 30,
    "start_time": "2021-12-25T08:48:41.136Z"
   },
   {
    "duration": 53,
    "start_time": "2021-12-25T08:48:41.169Z"
   },
   {
    "duration": 14,
    "start_time": "2021-12-25T08:48:41.225Z"
   },
   {
    "duration": 88,
    "start_time": "2021-12-25T08:48:41.242Z"
   },
   {
    "duration": 38,
    "start_time": "2021-12-25T08:48:41.333Z"
   },
   {
    "duration": 7,
    "start_time": "2021-12-25T08:48:41.373Z"
   },
   {
    "duration": 57,
    "start_time": "2021-12-25T08:48:41.383Z"
   },
   {
    "duration": 1154,
    "start_time": "2021-12-25T08:48:41.443Z"
   },
   {
    "duration": 532,
    "start_time": "2021-12-25T08:48:42.599Z"
   },
   {
    "duration": 565,
    "start_time": "2021-12-25T08:48:43.134Z"
   },
   {
    "duration": 563,
    "start_time": "2021-12-25T08:48:43.702Z"
   },
   {
    "duration": 546,
    "start_time": "2021-12-25T08:48:44.268Z"
   },
   {
    "duration": 663,
    "start_time": "2021-12-25T08:48:44.817Z"
   },
   {
    "duration": 744,
    "start_time": "2021-12-25T08:48:45.482Z"
   },
   {
    "duration": 569,
    "start_time": "2021-12-25T08:48:46.229Z"
   },
   {
    "duration": 860,
    "start_time": "2021-12-25T08:48:46.801Z"
   },
   {
    "duration": 863,
    "start_time": "2021-12-25T08:48:47.663Z"
   },
   {
    "duration": 13,
    "start_time": "2021-12-25T08:48:48.528Z"
   },
   {
    "duration": 465,
    "start_time": "2021-12-25T08:48:48.543Z"
   },
   {
    "duration": 16,
    "start_time": "2021-12-25T08:48:49.018Z"
   },
   {
    "duration": 131,
    "start_time": "2021-12-25T08:48:49.037Z"
   },
   {
    "duration": 10,
    "start_time": "2021-12-25T08:48:49.171Z"
   },
   {
    "duration": 49,
    "start_time": "2021-12-25T08:48:49.183Z"
   },
   {
    "duration": 960,
    "start_time": "2021-12-25T08:48:49.234Z"
   },
   {
    "duration": 25,
    "start_time": "2021-12-25T08:49:14.096Z"
   },
   {
    "duration": 910,
    "start_time": "2021-12-25T08:49:14.989Z"
   },
   {
    "duration": 25,
    "start_time": "2021-12-25T08:49:21.231Z"
   },
   {
    "duration": 1287,
    "start_time": "2021-12-25T08:49:24.534Z"
   },
   {
    "duration": 23,
    "start_time": "2021-12-25T08:49:58.782Z"
   },
   {
    "duration": 936,
    "start_time": "2021-12-25T08:49:58.809Z"
   },
   {
    "duration": 899,
    "start_time": "2021-12-25T08:50:55.506Z"
   },
   {
    "duration": 89,
    "start_time": "2021-12-25T08:50:56.408Z"
   },
   {
    "duration": 13,
    "start_time": "2021-12-25T08:50:56.500Z"
   },
   {
    "duration": 15,
    "start_time": "2021-12-25T08:50:56.516Z"
   },
   {
    "duration": 131,
    "start_time": "2021-12-25T08:50:56.533Z"
   },
   {
    "duration": 15,
    "start_time": "2021-12-25T08:50:56.667Z"
   },
   {
    "duration": 58,
    "start_time": "2021-12-25T08:50:56.684Z"
   },
   {
    "duration": 7,
    "start_time": "2021-12-25T08:50:56.746Z"
   },
   {
    "duration": 9,
    "start_time": "2021-12-25T08:50:56.756Z"
   },
   {
    "duration": 51,
    "start_time": "2021-12-25T08:50:56.767Z"
   },
   {
    "duration": 8,
    "start_time": "2021-12-25T08:50:56.821Z"
   },
   {
    "duration": 9,
    "start_time": "2021-12-25T08:50:56.832Z"
   },
   {
    "duration": 7,
    "start_time": "2021-12-25T08:50:56.843Z"
   },
   {
    "duration": 65,
    "start_time": "2021-12-25T08:50:56.853Z"
   },
   {
    "duration": 46,
    "start_time": "2021-12-25T08:50:56.921Z"
   },
   {
    "duration": 506,
    "start_time": "2021-12-25T08:50:56.970Z"
   },
   {
    "duration": 48,
    "start_time": "2021-12-25T08:50:57.479Z"
   },
   {
    "duration": 53,
    "start_time": "2021-12-25T08:50:57.530Z"
   },
   {
    "duration": 38,
    "start_time": "2021-12-25T08:50:57.586Z"
   },
   {
    "duration": 21,
    "start_time": "2021-12-25T08:50:57.627Z"
   },
   {
    "duration": 13,
    "start_time": "2021-12-25T08:50:57.651Z"
   },
   {
    "duration": 51,
    "start_time": "2021-12-25T08:50:57.666Z"
   },
   {
    "duration": 24,
    "start_time": "2021-12-25T08:50:57.723Z"
   },
   {
    "duration": 18,
    "start_time": "2021-12-25T08:50:57.751Z"
   },
   {
    "duration": 22,
    "start_time": "2021-12-25T08:50:57.816Z"
   },
   {
    "duration": 24,
    "start_time": "2021-12-25T08:50:57.841Z"
   },
   {
    "duration": 10,
    "start_time": "2021-12-25T08:50:57.867Z"
   },
   {
    "duration": 16,
    "start_time": "2021-12-25T08:50:57.917Z"
   },
   {
    "duration": 15,
    "start_time": "2021-12-25T08:50:57.936Z"
   },
   {
    "duration": 20,
    "start_time": "2021-12-25T08:50:57.954Z"
   },
   {
    "duration": 768,
    "start_time": "2021-12-25T08:50:57.977Z"
   },
   {
    "duration": 15,
    "start_time": "2021-12-25T08:50:58.748Z"
   },
   {
    "duration": 6,
    "start_time": "2021-12-25T08:50:58.766Z"
   },
   {
    "duration": 48,
    "start_time": "2021-12-25T08:50:58.774Z"
   },
   {
    "duration": 6,
    "start_time": "2021-12-25T08:50:58.824Z"
   },
   {
    "duration": 7,
    "start_time": "2021-12-25T08:50:58.833Z"
   },
   {
    "duration": 8,
    "start_time": "2021-12-25T08:50:58.842Z"
   },
   {
    "duration": 73,
    "start_time": "2021-12-25T08:50:58.852Z"
   },
   {
    "duration": 23,
    "start_time": "2021-12-25T08:50:58.927Z"
   },
   {
    "duration": 17,
    "start_time": "2021-12-25T08:50:58.953Z"
   },
   {
    "duration": 84,
    "start_time": "2021-12-25T08:50:58.973Z"
   },
   {
    "duration": 58,
    "start_time": "2021-12-25T08:50:59.060Z"
   },
   {
    "duration": 7,
    "start_time": "2021-12-25T08:50:59.121Z"
   },
   {
    "duration": 32,
    "start_time": "2021-12-25T08:50:59.131Z"
   },
   {
    "duration": 1076,
    "start_time": "2021-12-25T08:50:59.165Z"
   },
   {
    "duration": 558,
    "start_time": "2021-12-25T08:51:00.244Z"
   },
   {
    "duration": 598,
    "start_time": "2021-12-25T08:51:00.805Z"
   },
   {
    "duration": 716,
    "start_time": "2021-12-25T08:51:01.407Z"
   },
   {
    "duration": 553,
    "start_time": "2021-12-25T08:51:02.125Z"
   },
   {
    "duration": 546,
    "start_time": "2021-12-25T08:51:02.680Z"
   },
   {
    "duration": 647,
    "start_time": "2021-12-25T08:51:03.228Z"
   },
   {
    "duration": 575,
    "start_time": "2021-12-25T08:51:03.878Z"
   },
   {
    "duration": 1343,
    "start_time": "2021-12-25T08:51:04.455Z"
   },
   {
    "duration": 850,
    "start_time": "2021-12-25T08:51:05.800Z"
   },
   {
    "duration": 12,
    "start_time": "2021-12-25T08:51:06.653Z"
   },
   {
    "duration": 479,
    "start_time": "2021-12-25T08:51:06.668Z"
   },
   {
    "duration": 15,
    "start_time": "2021-12-25T08:51:07.149Z"
   },
   {
    "duration": 88,
    "start_time": "2021-12-25T08:51:07.167Z"
   },
   {
    "duration": 112,
    "start_time": "2021-12-25T08:51:07.258Z"
   },
   {
    "duration": 40,
    "start_time": "2021-12-25T08:51:07.373Z"
   },
   {
    "duration": 1032,
    "start_time": "2021-12-25T08:51:07.416Z"
   },
   {
    "duration": 24,
    "start_time": "2021-12-25T09:03:39.489Z"
   },
   {
    "duration": 986,
    "start_time": "2021-12-25T09:03:50.357Z"
   },
   {
    "duration": 99,
    "start_time": "2021-12-25T09:03:51.345Z"
   },
   {
    "duration": 13,
    "start_time": "2021-12-25T09:03:51.447Z"
   },
   {
    "duration": 21,
    "start_time": "2021-12-25T09:03:51.463Z"
   },
   {
    "duration": 150,
    "start_time": "2021-12-25T09:03:51.486Z"
   },
   {
    "duration": 17,
    "start_time": "2021-12-25T09:03:51.639Z"
   },
   {
    "duration": 70,
    "start_time": "2021-12-25T09:03:51.658Z"
   },
   {
    "duration": 8,
    "start_time": "2021-12-25T09:03:51.730Z"
   },
   {
    "duration": 10,
    "start_time": "2021-12-25T09:03:51.742Z"
   },
   {
    "duration": 14,
    "start_time": "2021-12-25T09:03:51.757Z"
   },
   {
    "duration": 49,
    "start_time": "2021-12-25T09:03:51.774Z"
   },
   {
    "duration": 7,
    "start_time": "2021-12-25T09:03:51.827Z"
   },
   {
    "duration": 7,
    "start_time": "2021-12-25T09:03:51.837Z"
   },
   {
    "duration": 7,
    "start_time": "2021-12-25T09:03:51.847Z"
   },
   {
    "duration": 79,
    "start_time": "2021-12-25T09:03:51.856Z"
   },
   {
    "duration": 307,
    "start_time": "2021-12-25T09:03:51.937Z"
   },
   {
    "duration": 26,
    "start_time": "2021-12-25T09:03:52.246Z"
   },
   {
    "duration": 62,
    "start_time": "2021-12-25T09:03:52.275Z"
   },
   {
    "duration": 9,
    "start_time": "2021-12-25T09:03:52.339Z"
   },
   {
    "duration": 15,
    "start_time": "2021-12-25T09:03:52.351Z"
   },
   {
    "duration": 8,
    "start_time": "2021-12-25T09:03:52.368Z"
   },
   {
    "duration": 43,
    "start_time": "2021-12-25T09:03:52.379Z"
   },
   {
    "duration": 22,
    "start_time": "2021-12-25T09:03:52.425Z"
   },
   {
    "duration": 19,
    "start_time": "2021-12-25T09:03:52.449Z"
   },
   {
    "duration": 58,
    "start_time": "2021-12-25T09:03:52.471Z"
   },
   {
    "duration": 17,
    "start_time": "2021-12-25T09:03:52.532Z"
   },
   {
    "duration": 9,
    "start_time": "2021-12-25T09:03:52.554Z"
   },
   {
    "duration": 57,
    "start_time": "2021-12-25T09:03:52.566Z"
   },
   {
    "duration": 7,
    "start_time": "2021-12-25T09:03:52.626Z"
   },
   {
    "duration": 14,
    "start_time": "2021-12-25T09:03:52.635Z"
   },
   {
    "duration": 518,
    "start_time": "2021-12-25T09:03:52.651Z"
   },
   {
    "duration": 11,
    "start_time": "2021-12-25T09:03:53.171Z"
   },
   {
    "duration": 5,
    "start_time": "2021-12-25T09:03:53.185Z"
   },
   {
    "duration": 31,
    "start_time": "2021-12-25T09:03:53.192Z"
   },
   {
    "duration": 11,
    "start_time": "2021-12-25T09:03:53.225Z"
   },
   {
    "duration": 6,
    "start_time": "2021-12-25T09:03:53.239Z"
   },
   {
    "duration": 8,
    "start_time": "2021-12-25T09:03:53.247Z"
   },
   {
    "duration": 76,
    "start_time": "2021-12-25T09:03:53.257Z"
   },
   {
    "duration": 12,
    "start_time": "2021-12-25T09:03:53.335Z"
   },
   {
    "duration": 13,
    "start_time": "2021-12-25T09:03:53.349Z"
   },
   {
    "duration": 90,
    "start_time": "2021-12-25T09:03:53.364Z"
   },
   {
    "duration": 36,
    "start_time": "2021-12-25T09:03:53.457Z"
   },
   {
    "duration": 24,
    "start_time": "2021-12-25T09:03:53.495Z"
   },
   {
    "duration": 35,
    "start_time": "2021-12-25T09:03:53.523Z"
   },
   {
    "duration": 1104,
    "start_time": "2021-12-25T09:03:53.562Z"
   },
   {
    "duration": 563,
    "start_time": "2021-12-25T09:03:54.669Z"
   },
   {
    "duration": 619,
    "start_time": "2021-12-25T09:03:55.235Z"
   },
   {
    "duration": 630,
    "start_time": "2021-12-25T09:03:55.857Z"
   },
   {
    "duration": 586,
    "start_time": "2021-12-25T09:03:56.490Z"
   },
   {
    "duration": 583,
    "start_time": "2021-12-25T09:03:57.079Z"
   },
   {
    "duration": 666,
    "start_time": "2021-12-25T09:03:57.664Z"
   },
   {
    "duration": 568,
    "start_time": "2021-12-25T09:03:58.332Z"
   },
   {
    "duration": 879,
    "start_time": "2021-12-25T09:03:58.902Z"
   },
   {
    "duration": 853,
    "start_time": "2021-12-25T09:03:59.783Z"
   },
   {
    "duration": 16,
    "start_time": "2021-12-25T09:04:00.639Z"
   },
   {
    "duration": 569,
    "start_time": "2021-12-25T09:04:00.658Z"
   },
   {
    "duration": 12,
    "start_time": "2021-12-25T09:04:01.230Z"
   },
   {
    "duration": 32,
    "start_time": "2021-12-25T09:04:01.245Z"
   },
   {
    "duration": 128,
    "start_time": "2021-12-25T09:04:01.279Z"
   },
   {
    "duration": 25,
    "start_time": "2021-12-25T09:04:09.755Z"
   },
   {
    "duration": 238,
    "start_time": "2021-12-25T09:05:44.167Z"
   },
   {
    "duration": 423,
    "start_time": "2021-12-25T09:06:00.560Z"
   },
   {
    "duration": 11,
    "start_time": "2021-12-25T09:06:21.814Z"
   },
   {
    "duration": 430,
    "start_time": "2021-12-25T09:07:15.618Z"
   },
   {
    "duration": 11,
    "start_time": "2021-12-25T09:07:19.458Z"
   },
   {
    "duration": 7,
    "start_time": "2021-12-25T09:07:56.902Z"
   },
   {
    "duration": 6,
    "start_time": "2021-12-25T09:08:08.529Z"
   },
   {
    "duration": 96,
    "start_time": "2021-12-25T09:09:01.018Z"
   },
   {
    "duration": 8,
    "start_time": "2021-12-25T09:09:05.677Z"
   },
   {
    "duration": 8,
    "start_time": "2021-12-25T09:09:08.586Z"
   },
   {
    "duration": 10,
    "start_time": "2021-12-25T09:09:17.978Z"
   },
   {
    "duration": 11,
    "start_time": "2021-12-25T09:09:50.627Z"
   },
   {
    "duration": 21,
    "start_time": "2021-12-25T09:09:57.026Z"
   },
   {
    "duration": 421,
    "start_time": "2021-12-25T09:12:28.228Z"
   },
   {
    "duration": 9,
    "start_time": "2021-12-25T09:12:54.226Z"
   },
   {
    "duration": 20,
    "start_time": "2021-12-25T09:13:31.926Z"
   },
   {
    "duration": 453,
    "start_time": "2021-12-25T09:14:08.186Z"
   },
   {
    "duration": 12,
    "start_time": "2021-12-25T09:14:33.353Z"
   },
   {
    "duration": 11,
    "start_time": "2021-12-25T09:14:57.154Z"
   },
   {
    "duration": 10,
    "start_time": "2021-12-25T09:15:03.062Z"
   },
   {
    "duration": 21,
    "start_time": "2021-12-25T09:15:46.979Z"
   },
   {
    "duration": 6,
    "start_time": "2021-12-25T09:19:56.491Z"
   },
   {
    "duration": 6,
    "start_time": "2021-12-25T09:20:34.114Z"
   },
   {
    "duration": 6,
    "start_time": "2021-12-25T09:21:04.407Z"
   },
   {
    "duration": 8,
    "start_time": "2021-12-25T09:21:34.143Z"
   },
   {
    "duration": 1140,
    "start_time": "2021-12-25T09:22:21.547Z"
   },
   {
    "duration": 328,
    "start_time": "2021-12-25T09:23:53.113Z"
   },
   {
    "duration": 453,
    "start_time": "2021-12-25T09:25:02.009Z"
   },
   {
    "duration": 564,
    "start_time": "2021-12-25T09:25:35.916Z"
   },
   {
    "duration": 415,
    "start_time": "2021-12-25T09:25:58.537Z"
   },
   {
    "duration": 380,
    "start_time": "2021-12-25T09:26:19.522Z"
   },
   {
    "duration": 612,
    "start_time": "2021-12-25T09:26:56.124Z"
   },
   {
    "duration": 473,
    "start_time": "2021-12-25T09:27:04.093Z"
   },
   {
    "duration": 359,
    "start_time": "2021-12-25T09:27:22.852Z"
   },
   {
    "duration": 598,
    "start_time": "2021-12-25T09:27:31.527Z"
   },
   {
    "duration": 731,
    "start_time": "2021-12-25T09:27:35.570Z"
   },
   {
    "duration": 447,
    "start_time": "2021-12-25T09:27:39.837Z"
   },
   {
    "duration": 7,
    "start_time": "2021-12-25T09:32:03.382Z"
   },
   {
    "duration": 9,
    "start_time": "2021-12-25T09:32:12.634Z"
   },
   {
    "duration": 37,
    "start_time": "2021-12-25T09:32:49.475Z"
   },
   {
    "duration": 6756,
    "start_time": "2021-12-25T09:35:41.394Z"
   },
   {
    "duration": 338,
    "start_time": "2021-12-25T09:41:08.498Z"
   },
   {
    "duration": 300,
    "start_time": "2021-12-25T09:41:17.095Z"
   },
   {
    "duration": 145,
    "start_time": "2021-12-25T09:41:24.208Z"
   },
   {
    "duration": 48,
    "start_time": "2021-12-25T09:42:00.492Z"
   },
   {
    "duration": 336,
    "start_time": "2021-12-25T09:43:02.477Z"
   },
   {
    "duration": 255,
    "start_time": "2021-12-25T09:43:04.721Z"
   },
   {
    "duration": 79,
    "start_time": "2021-12-25T09:43:23.704Z"
   },
   {
    "duration": 48,
    "start_time": "2021-12-25T09:43:30.604Z"
   },
   {
    "duration": 90,
    "start_time": "2021-12-25T09:44:04.606Z"
   },
   {
    "duration": 54,
    "start_time": "2021-12-25T09:44:06.822Z"
   },
   {
    "duration": 44,
    "start_time": "2021-12-25T09:45:03.816Z"
   },
   {
    "duration": 56,
    "start_time": "2021-12-25T09:45:05.527Z"
   },
   {
    "duration": 870,
    "start_time": "2021-12-25T09:45:16.856Z"
   },
   {
    "duration": 89,
    "start_time": "2021-12-25T09:45:17.729Z"
   },
   {
    "duration": 11,
    "start_time": "2021-12-25T09:45:17.821Z"
   },
   {
    "duration": 20,
    "start_time": "2021-12-25T09:45:17.835Z"
   },
   {
    "duration": 132,
    "start_time": "2021-12-25T09:45:17.858Z"
   },
   {
    "duration": 16,
    "start_time": "2021-12-25T09:45:17.992Z"
   },
   {
    "duration": 45,
    "start_time": "2021-12-25T09:45:18.011Z"
   },
   {
    "duration": 8,
    "start_time": "2021-12-25T09:45:18.062Z"
   },
   {
    "duration": 47,
    "start_time": "2021-12-25T09:45:18.074Z"
   },
   {
    "duration": 13,
    "start_time": "2021-12-25T09:45:18.124Z"
   },
   {
    "duration": 8,
    "start_time": "2021-12-25T09:45:18.140Z"
   },
   {
    "duration": 7,
    "start_time": "2021-12-25T09:45:18.151Z"
   },
   {
    "duration": 62,
    "start_time": "2021-12-25T09:45:18.161Z"
   },
   {
    "duration": 8,
    "start_time": "2021-12-25T09:45:18.225Z"
   },
   {
    "duration": 28,
    "start_time": "2021-12-25T09:45:18.235Z"
   },
   {
    "duration": 330,
    "start_time": "2021-12-25T09:45:18.265Z"
   },
   {
    "duration": 32,
    "start_time": "2021-12-25T09:45:18.597Z"
   },
   {
    "duration": 39,
    "start_time": "2021-12-25T09:45:18.631Z"
   },
   {
    "duration": 44,
    "start_time": "2021-12-25T09:45:18.673Z"
   },
   {
    "duration": 15,
    "start_time": "2021-12-25T09:45:18.720Z"
   },
   {
    "duration": 10,
    "start_time": "2021-12-25T09:45:18.737Z"
   },
   {
    "duration": 7,
    "start_time": "2021-12-25T09:45:18.750Z"
   },
   {
    "duration": 72,
    "start_time": "2021-12-25T09:45:18.764Z"
   },
   {
    "duration": 20,
    "start_time": "2021-12-25T09:45:18.840Z"
   },
   {
    "duration": 54,
    "start_time": "2021-12-25T09:45:18.863Z"
   },
   {
    "duration": 23,
    "start_time": "2021-12-25T09:45:18.920Z"
   },
   {
    "duration": 12,
    "start_time": "2021-12-25T09:45:18.946Z"
   },
   {
    "duration": 57,
    "start_time": "2021-12-25T09:45:18.961Z"
   },
   {
    "duration": 9,
    "start_time": "2021-12-25T09:45:19.021Z"
   },
   {
    "duration": 36,
    "start_time": "2021-12-25T09:45:19.032Z"
   },
   {
    "duration": 604,
    "start_time": "2021-12-25T09:45:19.070Z"
   },
   {
    "duration": 12,
    "start_time": "2021-12-25T09:45:19.676Z"
   },
   {
    "duration": 27,
    "start_time": "2021-12-25T09:45:19.690Z"
   },
   {
    "duration": 10,
    "start_time": "2021-12-25T09:45:19.719Z"
   },
   {
    "duration": 8,
    "start_time": "2021-12-25T09:45:19.731Z"
   },
   {
    "duration": 9,
    "start_time": "2021-12-25T09:45:19.741Z"
   },
   {
    "duration": 11,
    "start_time": "2021-12-25T09:45:19.752Z"
   },
   {
    "duration": 30,
    "start_time": "2021-12-25T09:45:19.817Z"
   },
   {
    "duration": 19,
    "start_time": "2021-12-25T09:45:19.850Z"
   },
   {
    "duration": 52,
    "start_time": "2021-12-25T09:45:19.871Z"
   },
   {
    "duration": 53,
    "start_time": "2021-12-25T09:45:19.925Z"
   },
   {
    "duration": 60,
    "start_time": "2021-12-25T09:45:19.980Z"
   },
   {
    "duration": 7,
    "start_time": "2021-12-25T09:45:20.043Z"
   },
   {
    "duration": 60,
    "start_time": "2021-12-25T09:45:20.053Z"
   },
   {
    "duration": 1214,
    "start_time": "2021-12-25T09:45:20.116Z"
   },
   {
    "duration": 563,
    "start_time": "2021-12-25T09:45:21.333Z"
   },
   {
    "duration": 588,
    "start_time": "2021-12-25T09:45:21.898Z"
   },
   {
    "duration": 567,
    "start_time": "2021-12-25T09:45:22.488Z"
   },
   {
    "duration": 562,
    "start_time": "2021-12-25T09:45:23.057Z"
   },
   {
    "duration": 559,
    "start_time": "2021-12-25T09:45:23.622Z"
   },
   {
    "duration": 665,
    "start_time": "2021-12-25T09:45:24.183Z"
   },
   {
    "duration": 552,
    "start_time": "2021-12-25T09:45:24.850Z"
   },
   {
    "duration": 960,
    "start_time": "2021-12-25T09:45:25.404Z"
   },
   {
    "duration": 840,
    "start_time": "2021-12-25T09:45:26.367Z"
   },
   {
    "duration": 14,
    "start_time": "2021-12-25T09:45:27.218Z"
   },
   {
    "duration": 453,
    "start_time": "2021-12-25T09:45:27.236Z"
   },
   {
    "duration": 27,
    "start_time": "2021-12-25T09:45:27.692Z"
   },
   {
    "duration": 127,
    "start_time": "2021-12-25T09:45:27.722Z"
   },
   {
    "duration": 10,
    "start_time": "2021-12-25T09:45:27.852Z"
   },
   {
    "duration": 59,
    "start_time": "2021-12-25T09:45:27.865Z"
   },
   {
    "duration": 470,
    "start_time": "2021-12-25T09:45:27.927Z"
   },
   {
    "duration": 27,
    "start_time": "2021-12-25T09:45:28.400Z"
   },
   {
    "duration": 12,
    "start_time": "2021-12-25T09:45:28.431Z"
   },
   {
    "duration": 24,
    "start_time": "2021-12-25T09:45:28.446Z"
   },
   {
    "duration": 534,
    "start_time": "2021-12-25T09:45:28.472Z"
   },
   {
    "duration": 16,
    "start_time": "2021-12-25T09:45:29.009Z"
   },
   {
    "duration": 46,
    "start_time": "2021-12-25T09:45:29.027Z"
   },
   {
    "duration": 450,
    "start_time": "2021-12-25T09:45:29.081Z"
   },
   {
    "duration": 14,
    "start_time": "2021-12-25T09:45:29.534Z"
   },
   {
    "duration": 17,
    "start_time": "2021-12-25T09:45:29.551Z"
   },
   {
    "duration": 57,
    "start_time": "2021-12-25T09:45:29.571Z"
   },
   {
    "duration": 11,
    "start_time": "2021-12-25T09:45:29.631Z"
   },
   {
    "duration": 22,
    "start_time": "2021-12-25T09:45:29.645Z"
   },
   {
    "duration": 10,
    "start_time": "2021-12-25T09:45:29.669Z"
   },
   {
    "duration": 451,
    "start_time": "2021-12-25T09:45:29.682Z"
   },
   {
    "duration": 759,
    "start_time": "2021-12-25T09:45:30.136Z"
   },
   {
    "duration": 533,
    "start_time": "2021-12-25T09:45:30.898Z"
   },
   {
    "duration": 508,
    "start_time": "2021-12-25T09:45:31.434Z"
   },
   {
    "duration": 11,
    "start_time": "2021-12-25T09:45:31.945Z"
   },
   {
    "duration": 64,
    "start_time": "2021-12-25T09:45:31.958Z"
   },
   {
    "duration": 50,
    "start_time": "2021-12-25T09:45:43.781Z"
   },
   {
    "duration": 41,
    "start_time": "2021-12-25T09:45:44.976Z"
   },
   {
    "duration": 372,
    "start_time": "2021-12-25T09:46:16.484Z"
   },
   {
    "duration": 46,
    "start_time": "2021-12-25T09:46:22.020Z"
   },
   {
    "duration": 49,
    "start_time": "2021-12-25T09:46:31.446Z"
   },
   {
    "duration": 858,
    "start_time": "2021-12-25T09:46:49.042Z"
   },
   {
    "duration": 91,
    "start_time": "2021-12-25T09:46:49.902Z"
   },
   {
    "duration": 12,
    "start_time": "2021-12-25T09:46:49.999Z"
   },
   {
    "duration": 14,
    "start_time": "2021-12-25T09:46:50.018Z"
   },
   {
    "duration": 149,
    "start_time": "2021-12-25T09:46:50.034Z"
   },
   {
    "duration": 16,
    "start_time": "2021-12-25T09:46:50.186Z"
   },
   {
    "duration": 47,
    "start_time": "2021-12-25T09:46:50.205Z"
   },
   {
    "duration": 7,
    "start_time": "2021-12-25T09:46:50.255Z"
   },
   {
    "duration": 9,
    "start_time": "2021-12-25T09:46:50.264Z"
   },
   {
    "duration": 46,
    "start_time": "2021-12-25T09:46:50.276Z"
   },
   {
    "duration": 5,
    "start_time": "2021-12-25T09:46:50.324Z"
   },
   {
    "duration": 5,
    "start_time": "2021-12-25T09:46:50.332Z"
   },
   {
    "duration": 7,
    "start_time": "2021-12-25T09:46:50.339Z"
   },
   {
    "duration": 7,
    "start_time": "2021-12-25T09:46:50.348Z"
   },
   {
    "duration": 81,
    "start_time": "2021-12-25T09:46:50.358Z"
   },
   {
    "duration": 297,
    "start_time": "2021-12-25T09:46:50.441Z"
   },
   {
    "duration": 28,
    "start_time": "2021-12-25T09:46:50.740Z"
   },
   {
    "duration": 62,
    "start_time": "2021-12-25T09:46:50.771Z"
   },
   {
    "duration": 9,
    "start_time": "2021-12-25T09:46:50.836Z"
   },
   {
    "duration": 15,
    "start_time": "2021-12-25T09:46:50.847Z"
   },
   {
    "duration": 8,
    "start_time": "2021-12-25T09:46:50.865Z"
   },
   {
    "duration": 43,
    "start_time": "2021-12-25T09:46:50.879Z"
   },
   {
    "duration": 24,
    "start_time": "2021-12-25T09:46:50.926Z"
   },
   {
    "duration": 18,
    "start_time": "2021-12-25T09:46:50.952Z"
   },
   {
    "duration": 54,
    "start_time": "2021-12-25T09:46:50.973Z"
   },
   {
    "duration": 17,
    "start_time": "2021-12-25T09:46:51.030Z"
   },
   {
    "duration": 8,
    "start_time": "2021-12-25T09:46:51.049Z"
   },
   {
    "duration": 21,
    "start_time": "2021-12-25T09:46:51.059Z"
   },
   {
    "duration": 8,
    "start_time": "2021-12-25T09:46:51.116Z"
   },
   {
    "duration": 17,
    "start_time": "2021-12-25T09:46:51.127Z"
   },
   {
    "duration": 715,
    "start_time": "2021-12-25T09:46:51.147Z"
   },
   {
    "duration": 13,
    "start_time": "2021-12-25T09:46:51.864Z"
   },
   {
    "duration": 6,
    "start_time": "2021-12-25T09:46:51.880Z"
   },
   {
    "duration": 11,
    "start_time": "2021-12-25T09:46:51.917Z"
   },
   {
    "duration": 7,
    "start_time": "2021-12-25T09:46:51.931Z"
   },
   {
    "duration": 6,
    "start_time": "2021-12-25T09:46:51.941Z"
   },
   {
    "duration": 7,
    "start_time": "2021-12-25T09:46:51.949Z"
   },
   {
    "duration": 79,
    "start_time": "2021-12-25T09:46:51.959Z"
   },
   {
    "duration": 12,
    "start_time": "2021-12-25T09:46:52.041Z"
   },
   {
    "duration": 15,
    "start_time": "2021-12-25T09:46:52.056Z"
   },
   {
    "duration": 48,
    "start_time": "2021-12-25T09:46:52.118Z"
   },
   {
    "duration": 56,
    "start_time": "2021-12-25T09:46:52.169Z"
   },
   {
    "duration": 7,
    "start_time": "2021-12-25T09:46:52.227Z"
   },
   {
    "duration": 32,
    "start_time": "2021-12-25T09:46:52.237Z"
   },
   {
    "duration": 1288,
    "start_time": "2021-12-25T09:46:52.272Z"
   },
   {
    "duration": 558,
    "start_time": "2021-12-25T09:46:53.562Z"
   },
   {
    "duration": 599,
    "start_time": "2021-12-25T09:46:54.122Z"
   },
   {
    "duration": 597,
    "start_time": "2021-12-25T09:46:54.723Z"
   },
   {
    "duration": 565,
    "start_time": "2021-12-25T09:46:55.322Z"
   },
   {
    "duration": 575,
    "start_time": "2021-12-25T09:46:55.890Z"
   },
   {
    "duration": 679,
    "start_time": "2021-12-25T09:46:56.467Z"
   },
   {
    "duration": 568,
    "start_time": "2021-12-25T09:46:57.149Z"
   },
   {
    "duration": 890,
    "start_time": "2021-12-25T09:46:57.719Z"
   },
   {
    "duration": 843,
    "start_time": "2021-12-25T09:46:58.612Z"
   },
   {
    "duration": 12,
    "start_time": "2021-12-25T09:46:59.457Z"
   },
   {
    "duration": 460,
    "start_time": "2021-12-25T09:46:59.471Z"
   },
   {
    "duration": 12,
    "start_time": "2021-12-25T09:46:59.934Z"
   },
   {
    "duration": 128,
    "start_time": "2021-12-25T09:46:59.949Z"
   },
   {
    "duration": 10,
    "start_time": "2021-12-25T09:47:00.080Z"
   },
   {
    "duration": 23,
    "start_time": "2021-12-25T09:47:00.117Z"
   },
   {
    "duration": 466,
    "start_time": "2021-12-25T09:47:00.142Z"
   },
   {
    "duration": 11,
    "start_time": "2021-12-25T09:47:00.617Z"
   },
   {
    "duration": 9,
    "start_time": "2021-12-25T09:47:00.630Z"
   },
   {
    "duration": 32,
    "start_time": "2021-12-25T09:47:00.641Z"
   },
   {
    "duration": 462,
    "start_time": "2021-12-25T09:47:00.676Z"
   },
   {
    "duration": 9,
    "start_time": "2021-12-25T09:47:01.140Z"
   },
   {
    "duration": 41,
    "start_time": "2021-12-25T09:47:01.157Z"
   },
   {
    "duration": 453,
    "start_time": "2021-12-25T09:47:01.201Z"
   },
   {
    "duration": 11,
    "start_time": "2021-12-25T09:47:01.657Z"
   },
   {
    "duration": 13,
    "start_time": "2021-12-25T09:47:01.670Z"
   },
   {
    "duration": 49,
    "start_time": "2021-12-25T09:47:01.686Z"
   },
   {
    "duration": 7,
    "start_time": "2021-12-25T09:47:01.737Z"
   },
   {
    "duration": 12,
    "start_time": "2021-12-25T09:47:01.747Z"
   },
   {
    "duration": 14,
    "start_time": "2021-12-25T09:47:01.762Z"
   },
   {
    "duration": 456,
    "start_time": "2021-12-25T09:47:01.779Z"
   },
   {
    "duration": 628,
    "start_time": "2021-12-25T09:47:02.238Z"
   },
   {
    "duration": 514,
    "start_time": "2021-12-25T09:47:02.869Z"
   },
   {
    "duration": 479,
    "start_time": "2021-12-25T09:47:03.386Z"
   },
   {
    "duration": 12,
    "start_time": "2021-12-25T09:47:03.868Z"
   },
   {
    "duration": 66,
    "start_time": "2021-12-25T09:47:03.883Z"
   },
   {
    "duration": 74,
    "start_time": "2021-12-25T09:47:03.952Z"
   },
   {
    "duration": 349,
    "start_time": "2021-12-25T09:57:38.003Z"
   },
   {
    "duration": 5,
    "start_time": "2021-12-25T09:57:43.339Z"
   },
   {
    "duration": 262,
    "start_time": "2021-12-25T09:58:13.926Z"
   },
   {
    "duration": 50,
    "start_time": "2021-12-25T09:58:30.481Z"
   },
   {
    "duration": 5,
    "start_time": "2021-12-25T09:58:33.265Z"
   },
   {
    "duration": 11,
    "start_time": "2021-12-25T10:00:27.391Z"
   },
   {
    "duration": 4,
    "start_time": "2021-12-25T10:02:31.995Z"
   },
   {
    "duration": 371,
    "start_time": "2021-12-25T10:02:36.664Z"
   },
   {
    "duration": 17,
    "start_time": "2021-12-25T10:07:45.255Z"
   },
   {
    "duration": 6,
    "start_time": "2021-12-25T10:08:01.276Z"
   },
   {
    "duration": 40,
    "start_time": "2021-12-25T10:08:07.223Z"
   },
   {
    "duration": 17,
    "start_time": "2021-12-25T10:09:06.108Z"
   },
   {
    "duration": 22,
    "start_time": "2021-12-25T10:09:18.842Z"
   },
   {
    "duration": 1053,
    "start_time": "2021-12-25T10:09:50.743Z"
   },
   {
    "duration": 314,
    "start_time": "2021-12-25T10:10:00.554Z"
   },
   {
    "duration": 23,
    "start_time": "2021-12-25T10:10:25.193Z"
   },
   {
    "duration": 493,
    "start_time": "2021-12-25T10:10:40.451Z"
   },
   {
    "duration": 500,
    "start_time": "2021-12-25T10:10:53.510Z"
   },
   {
    "duration": 476,
    "start_time": "2021-12-25T10:11:02.097Z"
   },
   {
    "duration": 581,
    "start_time": "2021-12-25T10:11:07.966Z"
   },
   {
    "duration": 307,
    "start_time": "2021-12-25T10:11:21.245Z"
   },
   {
    "duration": 344,
    "start_time": "2021-12-25T10:11:26.736Z"
   },
   {
    "duration": 6295,
    "start_time": "2021-12-25T10:14:04.115Z"
   },
   {
    "duration": 6496,
    "start_time": "2021-12-25T10:14:41.318Z"
   },
   {
    "duration": 317,
    "start_time": "2021-12-25T10:15:43.681Z"
   },
   {
    "duration": 319,
    "start_time": "2021-12-25T10:15:53.328Z"
   },
   {
    "duration": 8,
    "start_time": "2021-12-25T10:19:17.814Z"
   },
   {
    "duration": 34,
    "start_time": "2021-12-25T10:19:26.073Z"
   },
   {
    "duration": 33,
    "start_time": "2021-12-25T10:19:46.580Z"
   },
   {
    "duration": 39,
    "start_time": "2021-12-25T10:19:50.054Z"
   },
   {
    "duration": 95183,
    "start_time": "2021-12-25T10:21:36.593Z"
   },
   {
    "duration": 25,
    "start_time": "2021-12-25T10:27:01.180Z"
   },
   {
    "duration": 1870,
    "start_time": "2021-12-25T10:27:19.018Z"
   },
   {
    "duration": 6608,
    "start_time": "2021-12-25T10:29:54.577Z"
   },
   {
    "duration": 875,
    "start_time": "2021-12-25T10:36:20.829Z"
   },
   {
    "duration": 92,
    "start_time": "2021-12-25T10:36:21.706Z"
   },
   {
    "duration": 12,
    "start_time": "2021-12-25T10:36:21.801Z"
   },
   {
    "duration": 12,
    "start_time": "2021-12-25T10:36:21.816Z"
   },
   {
    "duration": 138,
    "start_time": "2021-12-25T10:36:21.830Z"
   },
   {
    "duration": 14,
    "start_time": "2021-12-25T10:36:21.970Z"
   },
   {
    "duration": 50,
    "start_time": "2021-12-25T10:36:21.986Z"
   },
   {
    "duration": 7,
    "start_time": "2021-12-25T10:36:22.040Z"
   },
   {
    "duration": 8,
    "start_time": "2021-12-25T10:36:22.050Z"
   },
   {
    "duration": 10,
    "start_time": "2021-12-25T10:36:22.060Z"
   },
   {
    "duration": 46,
    "start_time": "2021-12-25T10:36:22.073Z"
   },
   {
    "duration": 7,
    "start_time": "2021-12-25T10:36:22.122Z"
   },
   {
    "duration": 6,
    "start_time": "2021-12-25T10:36:22.131Z"
   },
   {
    "duration": 7,
    "start_time": "2021-12-25T10:36:22.139Z"
   },
   {
    "duration": 79,
    "start_time": "2021-12-25T10:36:22.148Z"
   },
   {
    "duration": 304,
    "start_time": "2021-12-25T10:36:22.229Z"
   },
   {
    "duration": 26,
    "start_time": "2021-12-25T10:36:22.535Z"
   },
   {
    "duration": 64,
    "start_time": "2021-12-25T10:36:22.563Z"
   },
   {
    "duration": 9,
    "start_time": "2021-12-25T10:36:22.630Z"
   },
   {
    "duration": 14,
    "start_time": "2021-12-25T10:36:22.641Z"
   },
   {
    "duration": 9,
    "start_time": "2021-12-25T10:36:22.657Z"
   },
   {
    "duration": 51,
    "start_time": "2021-12-25T10:36:22.668Z"
   },
   {
    "duration": 22,
    "start_time": "2021-12-25T10:36:22.725Z"
   },
   {
    "duration": 20,
    "start_time": "2021-12-25T10:36:22.750Z"
   },
   {
    "duration": 61,
    "start_time": "2021-12-25T10:36:22.773Z"
   },
   {
    "duration": 17,
    "start_time": "2021-12-25T10:36:22.836Z"
   },
   {
    "duration": 8,
    "start_time": "2021-12-25T10:36:22.856Z"
   },
   {
    "duration": 53,
    "start_time": "2021-12-25T10:36:22.866Z"
   },
   {
    "duration": 9,
    "start_time": "2021-12-25T10:36:22.921Z"
   },
   {
    "duration": 18,
    "start_time": "2021-12-25T10:36:22.933Z"
   },
   {
    "duration": 520,
    "start_time": "2021-12-25T10:36:22.954Z"
   },
   {
    "duration": 11,
    "start_time": "2021-12-25T10:36:23.477Z"
   },
   {
    "duration": 26,
    "start_time": "2021-12-25T10:36:23.490Z"
   },
   {
    "duration": 9,
    "start_time": "2021-12-25T10:36:23.518Z"
   },
   {
    "duration": 6,
    "start_time": "2021-12-25T10:36:23.529Z"
   },
   {
    "duration": 8,
    "start_time": "2021-12-25T10:36:23.537Z"
   },
   {
    "duration": 6,
    "start_time": "2021-12-25T10:36:23.547Z"
   },
   {
    "duration": 79,
    "start_time": "2021-12-25T10:36:23.556Z"
   },
   {
    "duration": 11,
    "start_time": "2021-12-25T10:36:23.637Z"
   },
   {
    "duration": 12,
    "start_time": "2021-12-25T10:36:23.651Z"
   },
   {
    "duration": 87,
    "start_time": "2021-12-25T10:36:23.666Z"
   },
   {
    "duration": 35,
    "start_time": "2021-12-25T10:36:23.755Z"
   },
   {
    "duration": 25,
    "start_time": "2021-12-25T10:36:23.793Z"
   },
   {
    "duration": 31,
    "start_time": "2021-12-25T10:36:23.821Z"
   },
   {
    "duration": 1139,
    "start_time": "2021-12-25T10:36:23.855Z"
   },
   {
    "duration": 533,
    "start_time": "2021-12-25T10:36:24.996Z"
   },
   {
    "duration": 677,
    "start_time": "2021-12-25T10:36:25.532Z"
   },
   {
    "duration": 578,
    "start_time": "2021-12-25T10:36:26.211Z"
   },
   {
    "duration": 581,
    "start_time": "2021-12-25T10:36:26.791Z"
   },
   {
    "duration": 559,
    "start_time": "2021-12-25T10:36:27.374Z"
   },
   {
    "duration": 637,
    "start_time": "2021-12-25T10:36:27.935Z"
   },
   {
    "duration": 580,
    "start_time": "2021-12-25T10:36:28.574Z"
   },
   {
    "duration": 855,
    "start_time": "2021-12-25T10:36:29.156Z"
   },
   {
    "duration": 813,
    "start_time": "2021-12-25T10:36:30.017Z"
   },
   {
    "duration": 12,
    "start_time": "2021-12-25T10:36:30.833Z"
   },
   {
    "duration": 452,
    "start_time": "2021-12-25T10:36:30.847Z"
   },
   {
    "duration": 21,
    "start_time": "2021-12-25T10:36:31.301Z"
   },
   {
    "duration": 133,
    "start_time": "2021-12-25T10:36:31.325Z"
   },
   {
    "duration": 10,
    "start_time": "2021-12-25T10:36:31.460Z"
   },
   {
    "duration": 60,
    "start_time": "2021-12-25T10:36:31.473Z"
   },
   {
    "duration": 431,
    "start_time": "2021-12-25T10:36:31.535Z"
   },
   {
    "duration": 10,
    "start_time": "2021-12-25T10:36:31.968Z"
   },
   {
    "duration": 36,
    "start_time": "2021-12-25T10:36:31.981Z"
   },
   {
    "duration": 21,
    "start_time": "2021-12-25T10:36:32.020Z"
   },
   {
    "duration": 451,
    "start_time": "2021-12-25T10:36:32.044Z"
   },
   {
    "duration": 24,
    "start_time": "2021-12-25T10:36:32.498Z"
   },
   {
    "duration": 23,
    "start_time": "2021-12-25T10:36:32.525Z"
   },
   {
    "duration": 460,
    "start_time": "2021-12-25T10:36:32.559Z"
   },
   {
    "duration": 14,
    "start_time": "2021-12-25T10:36:33.023Z"
   },
   {
    "duration": 12,
    "start_time": "2021-12-25T10:36:33.040Z"
   },
   {
    "duration": 68,
    "start_time": "2021-12-25T10:36:33.054Z"
   },
   {
    "duration": 6,
    "start_time": "2021-12-25T10:36:33.124Z"
   },
   {
    "duration": 7,
    "start_time": "2021-12-25T10:36:33.132Z"
   },
   {
    "duration": 6,
    "start_time": "2021-12-25T10:36:33.141Z"
   },
   {
    "duration": 415,
    "start_time": "2021-12-25T10:36:33.149Z"
   },
   {
    "duration": 606,
    "start_time": "2021-12-25T10:36:33.567Z"
   },
   {
    "duration": 498,
    "start_time": "2021-12-25T10:36:34.176Z"
   },
   {
    "duration": 560,
    "start_time": "2021-12-25T10:36:34.677Z"
   },
   {
    "duration": 11,
    "start_time": "2021-12-25T10:36:35.239Z"
   },
   {
    "duration": 66,
    "start_time": "2021-12-25T10:36:35.252Z"
   },
   {
    "duration": 50,
    "start_time": "2021-12-25T10:36:35.321Z"
   },
   {
    "duration": 43,
    "start_time": "2021-12-25T10:36:35.374Z"
   },
   {
    "duration": 38,
    "start_time": "2021-12-25T10:36:35.420Z"
   },
   {
    "duration": 57,
    "start_time": "2021-12-25T10:36:35.461Z"
   },
   {
    "duration": 323,
    "start_time": "2021-12-25T10:36:35.521Z"
   },
   {
    "duration": 37,
    "start_time": "2021-12-25T10:36:35.847Z"
   },
   {
    "duration": 8,
    "start_time": "2021-12-25T10:37:56.857Z"
   },
   {
    "duration": 9,
    "start_time": "2021-12-25T10:38:14.294Z"
   },
   {
    "duration": 350,
    "start_time": "2021-12-25T10:38:53.009Z"
   },
   {
    "duration": 332,
    "start_time": "2021-12-25T10:39:21.604Z"
   },
   {
    "duration": 315,
    "start_time": "2021-12-25T10:39:54.198Z"
   },
   {
    "duration": 541,
    "start_time": "2021-12-25T10:40:11.801Z"
   },
   {
    "duration": 295,
    "start_time": "2021-12-25T10:40:23.753Z"
   },
   {
    "duration": 282,
    "start_time": "2021-12-25T10:40:40.078Z"
   },
   {
    "duration": 7,
    "start_time": "2021-12-25T10:41:48.826Z"
   },
   {
    "duration": 7,
    "start_time": "2021-12-25T10:42:01.986Z"
   },
   {
    "duration": 7,
    "start_time": "2021-12-25T10:42:07.192Z"
   },
   {
    "duration": 7,
    "start_time": "2021-12-25T10:42:40.589Z"
   },
   {
    "duration": 450,
    "start_time": "2021-12-25T10:43:05.470Z"
   },
   {
    "duration": 7,
    "start_time": "2021-12-25T10:43:24.841Z"
   },
   {
    "duration": 560,
    "start_time": "2021-12-25T10:46:13.668Z"
   },
   {
    "duration": 8,
    "start_time": "2021-12-25T10:46:27.722Z"
   },
   {
    "duration": 636,
    "start_time": "2021-12-25T10:46:41.839Z"
   },
   {
    "duration": 538,
    "start_time": "2021-12-25T10:47:07.054Z"
   },
   {
    "duration": 840,
    "start_time": "2021-12-25T10:47:28.148Z"
   },
   {
    "duration": 91,
    "start_time": "2021-12-25T10:47:28.990Z"
   },
   {
    "duration": 11,
    "start_time": "2021-12-25T10:47:29.084Z"
   },
   {
    "duration": 25,
    "start_time": "2021-12-25T10:47:29.098Z"
   },
   {
    "duration": 127,
    "start_time": "2021-12-25T10:47:29.125Z"
   },
   {
    "duration": 15,
    "start_time": "2021-12-25T10:47:29.254Z"
   },
   {
    "duration": 56,
    "start_time": "2021-12-25T10:47:29.271Z"
   },
   {
    "duration": 8,
    "start_time": "2021-12-25T10:47:29.330Z"
   },
   {
    "duration": 11,
    "start_time": "2021-12-25T10:47:29.342Z"
   },
   {
    "duration": 12,
    "start_time": "2021-12-25T10:47:29.356Z"
   },
   {
    "duration": 51,
    "start_time": "2021-12-25T10:47:29.371Z"
   },
   {
    "duration": 10,
    "start_time": "2021-12-25T10:47:29.425Z"
   },
   {
    "duration": 9,
    "start_time": "2021-12-25T10:47:29.437Z"
   },
   {
    "duration": 7,
    "start_time": "2021-12-25T10:47:29.448Z"
   },
   {
    "duration": 80,
    "start_time": "2021-12-25T10:47:29.458Z"
   },
   {
    "duration": 289,
    "start_time": "2021-12-25T10:47:29.541Z"
   },
   {
    "duration": 27,
    "start_time": "2021-12-25T10:47:29.832Z"
   },
   {
    "duration": 65,
    "start_time": "2021-12-25T10:47:29.861Z"
   },
   {
    "duration": 10,
    "start_time": "2021-12-25T10:47:29.929Z"
   },
   {
    "duration": 24,
    "start_time": "2021-12-25T10:47:29.941Z"
   },
   {
    "duration": 51,
    "start_time": "2021-12-25T10:47:29.968Z"
   },
   {
    "duration": 7,
    "start_time": "2021-12-25T10:47:30.022Z"
   },
   {
    "duration": 25,
    "start_time": "2021-12-25T10:47:30.038Z"
   },
   {
    "duration": 66,
    "start_time": "2021-12-25T10:47:30.067Z"
   },
   {
    "duration": 20,
    "start_time": "2021-12-25T10:47:30.135Z"
   },
   {
    "duration": 62,
    "start_time": "2021-12-25T10:47:30.157Z"
   },
   {
    "duration": 10,
    "start_time": "2021-12-25T10:47:30.222Z"
   },
   {
    "duration": 19,
    "start_time": "2021-12-25T10:47:30.236Z"
   },
   {
    "duration": 10,
    "start_time": "2021-12-25T10:47:30.258Z"
   },
   {
    "duration": 57,
    "start_time": "2021-12-25T10:47:30.271Z"
   },
   {
    "duration": 500,
    "start_time": "2021-12-25T10:47:30.331Z"
   },
   {
    "duration": 15,
    "start_time": "2021-12-25T10:47:30.834Z"
   },
   {
    "duration": 7,
    "start_time": "2021-12-25T10:47:30.853Z"
   },
   {
    "duration": 58,
    "start_time": "2021-12-25T10:47:30.863Z"
   },
   {
    "duration": 7,
    "start_time": "2021-12-25T10:47:30.923Z"
   },
   {
    "duration": 10,
    "start_time": "2021-12-25T10:47:30.932Z"
   },
   {
    "duration": 6,
    "start_time": "2021-12-25T10:47:30.945Z"
   },
   {
    "duration": 70,
    "start_time": "2021-12-25T10:47:30.953Z"
   },
   {
    "duration": 20,
    "start_time": "2021-12-25T10:47:31.026Z"
   },
   {
    "duration": 14,
    "start_time": "2021-12-25T10:47:31.049Z"
   },
   {
    "duration": 83,
    "start_time": "2021-12-25T10:47:31.065Z"
   },
   {
    "duration": 38,
    "start_time": "2021-12-25T10:47:31.150Z"
   },
   {
    "duration": 27,
    "start_time": "2021-12-25T10:47:31.190Z"
   },
   {
    "duration": 31,
    "start_time": "2021-12-25T10:47:31.219Z"
   },
   {
    "duration": 1080,
    "start_time": "2021-12-25T10:47:31.252Z"
   },
   {
    "duration": 651,
    "start_time": "2021-12-25T10:47:32.335Z"
   },
   {
    "duration": 586,
    "start_time": "2021-12-25T10:47:32.989Z"
   },
   {
    "duration": 579,
    "start_time": "2021-12-25T10:47:33.577Z"
   },
   {
    "duration": 548,
    "start_time": "2021-12-25T10:47:34.158Z"
   },
   {
    "duration": 574,
    "start_time": "2021-12-25T10:47:34.709Z"
   },
   {
    "duration": 647,
    "start_time": "2021-12-25T10:47:35.285Z"
   },
   {
    "duration": 578,
    "start_time": "2021-12-25T10:47:35.934Z"
   },
   {
    "duration": 552,
    "start_time": "2021-12-25T10:47:39.725Z"
   },
   {
    "duration": 572,
    "start_time": "2021-12-25T10:47:49.256Z"
   },
   {
    "duration": 545,
    "start_time": "2021-12-25T10:47:54.593Z"
   },
   {
    "duration": 658,
    "start_time": "2021-12-25T10:48:09.660Z"
   },
   {
    "duration": 10,
    "start_time": "2021-12-25T10:54:31.929Z"
   },
   {
    "duration": 10,
    "start_time": "2021-12-25T10:54:37.604Z"
   },
   {
    "duration": 9,
    "start_time": "2021-12-25T10:54:41.506Z"
   },
   {
    "duration": 10,
    "start_time": "2021-12-25T10:56:22.930Z"
   },
   {
    "duration": 10,
    "start_time": "2021-12-25T10:56:26.620Z"
   },
   {
    "duration": 9,
    "start_time": "2021-12-25T10:56:30.374Z"
   },
   {
    "duration": 10,
    "start_time": "2021-12-25T10:56:33.651Z"
   },
   {
    "duration": 4,
    "start_time": "2021-12-25T10:57:06.204Z"
   },
   {
    "duration": 92,
    "start_time": "2021-12-25T10:57:06.210Z"
   },
   {
    "duration": 10,
    "start_time": "2021-12-25T10:57:06.304Z"
   },
   {
    "duration": 9,
    "start_time": "2021-12-25T10:57:06.317Z"
   },
   {
    "duration": 151,
    "start_time": "2021-12-25T10:57:06.329Z"
   },
   {
    "duration": 39,
    "start_time": "2021-12-25T10:57:06.483Z"
   },
   {
    "duration": 38,
    "start_time": "2021-12-25T10:57:06.526Z"
   },
   {
    "duration": 8,
    "start_time": "2021-12-25T10:57:06.567Z"
   },
   {
    "duration": 40,
    "start_time": "2021-12-25T10:57:06.577Z"
   },
   {
    "duration": 9,
    "start_time": "2021-12-25T10:57:06.620Z"
   },
   {
    "duration": 6,
    "start_time": "2021-12-25T10:57:06.631Z"
   },
   {
    "duration": 9,
    "start_time": "2021-12-25T10:57:06.639Z"
   },
   {
    "duration": 6,
    "start_time": "2021-12-25T10:57:06.651Z"
   },
   {
    "duration": 58,
    "start_time": "2021-12-25T10:57:06.659Z"
   },
   {
    "duration": 35,
    "start_time": "2021-12-25T10:57:06.719Z"
   },
   {
    "duration": 313,
    "start_time": "2021-12-25T10:57:06.757Z"
   },
   {
    "duration": 26,
    "start_time": "2021-12-25T10:57:07.073Z"
   },
   {
    "duration": 37,
    "start_time": "2021-12-25T10:57:07.118Z"
   },
   {
    "duration": 11,
    "start_time": "2021-12-25T10:57:07.160Z"
   },
   {
    "duration": 47,
    "start_time": "2021-12-25T10:57:07.175Z"
   },
   {
    "duration": 10,
    "start_time": "2021-12-25T10:57:07.225Z"
   },
   {
    "duration": 5,
    "start_time": "2021-12-25T10:57:07.238Z"
   },
   {
    "duration": 20,
    "start_time": "2021-12-25T10:57:07.246Z"
   },
   {
    "duration": 63,
    "start_time": "2021-12-25T10:57:07.269Z"
   },
   {
    "duration": 15,
    "start_time": "2021-12-25T10:57:07.334Z"
   },
   {
    "duration": 16,
    "start_time": "2021-12-25T10:57:07.351Z"
   },
   {
    "duration": 51,
    "start_time": "2021-12-25T10:57:07.370Z"
   },
   {
    "duration": 16,
    "start_time": "2021-12-25T10:57:07.424Z"
   },
   {
    "duration": 8,
    "start_time": "2021-12-25T10:57:07.443Z"
   },
   {
    "duration": 66,
    "start_time": "2021-12-25T10:57:07.454Z"
   },
   {
    "duration": 498,
    "start_time": "2021-12-25T10:57:07.523Z"
   },
   {
    "duration": 16,
    "start_time": "2021-12-25T10:57:08.024Z"
   },
   {
    "duration": 7,
    "start_time": "2021-12-25T10:57:08.043Z"
   },
   {
    "duration": 12,
    "start_time": "2021-12-25T10:57:08.053Z"
   },
   {
    "duration": 7,
    "start_time": "2021-12-25T10:57:08.118Z"
   },
   {
    "duration": 7,
    "start_time": "2021-12-25T10:57:08.128Z"
   },
   {
    "duration": 7,
    "start_time": "2021-12-25T10:57:08.139Z"
   },
   {
    "duration": 86,
    "start_time": "2021-12-25T10:57:08.149Z"
   },
   {
    "duration": 12,
    "start_time": "2021-12-25T10:57:08.237Z"
   },
   {
    "duration": 14,
    "start_time": "2021-12-25T10:57:08.252Z"
   },
   {
    "duration": 96,
    "start_time": "2021-12-25T10:57:08.268Z"
   },
   {
    "duration": 56,
    "start_time": "2021-12-25T10:57:08.366Z"
   },
   {
    "duration": 7,
    "start_time": "2021-12-25T10:57:08.425Z"
   },
   {
    "duration": 32,
    "start_time": "2021-12-25T10:57:08.434Z"
   },
   {
    "duration": 1020,
    "start_time": "2021-12-25T10:57:08.468Z"
   },
   {
    "duration": 552,
    "start_time": "2021-12-25T10:57:09.490Z"
   },
   {
    "duration": 631,
    "start_time": "2021-12-25T10:57:10.045Z"
   },
   {
    "duration": 698,
    "start_time": "2021-12-25T10:57:10.679Z"
   },
   {
    "duration": 860,
    "start_time": "2021-12-25T10:57:11.379Z"
   },
   {
    "duration": 564,
    "start_time": "2021-12-25T10:57:12.241Z"
   },
   {
    "duration": 555,
    "start_time": "2021-12-25T10:57:12.807Z"
   },
   {
    "duration": 561,
    "start_time": "2021-12-25T10:57:13.364Z"
   },
   {
    "duration": 564,
    "start_time": "2021-12-25T10:57:13.928Z"
   },
   {
    "duration": 711,
    "start_time": "2021-12-25T10:57:14.494Z"
   },
   {
    "duration": 843,
    "start_time": "2021-12-25T10:57:15.219Z"
   },
   {
    "duration": 834,
    "start_time": "2021-12-25T10:57:16.065Z"
   },
   {
    "duration": 22,
    "start_time": "2021-12-25T10:57:16.902Z"
   },
   {
    "duration": 453,
    "start_time": "2021-12-25T10:57:16.926Z"
   },
   {
    "duration": 11,
    "start_time": "2021-12-25T10:57:17.381Z"
   },
   {
    "duration": 11,
    "start_time": "2021-12-25T10:57:17.418Z"
   },
   {
    "duration": 12,
    "start_time": "2021-12-25T10:57:17.431Z"
   },
   {
    "duration": 25,
    "start_time": "2021-12-25T10:57:17.445Z"
   },
   {
    "duration": 508,
    "start_time": "2021-12-25T10:57:17.473Z"
   },
   {
    "duration": 11,
    "start_time": "2021-12-25T10:57:17.984Z"
   },
   {
    "duration": 29,
    "start_time": "2021-12-25T10:57:17.997Z"
   },
   {
    "duration": 9,
    "start_time": "2021-12-25T10:57:18.029Z"
   },
   {
    "duration": 24,
    "start_time": "2021-12-25T10:57:24.247Z"
   },
   {
    "duration": 405,
    "start_time": "2021-12-25T10:58:28.663Z"
   },
   {
    "duration": 13,
    "start_time": "2021-12-25T10:58:31.718Z"
   },
   {
    "duration": 10,
    "start_time": "2021-12-25T10:59:07.218Z"
   },
   {
    "duration": 9,
    "start_time": "2021-12-25T11:00:16.324Z"
   },
   {
    "duration": 20,
    "start_time": "2021-12-25T11:00:16.911Z"
   },
   {
    "duration": 403,
    "start_time": "2021-12-25T11:00:28.542Z"
   },
   {
    "duration": 13,
    "start_time": "2021-12-25T11:00:34.063Z"
   },
   {
    "duration": 10,
    "start_time": "2021-12-25T11:01:19.119Z"
   },
   {
    "duration": 18,
    "start_time": "2021-12-25T11:01:19.792Z"
   },
   {
    "duration": 8,
    "start_time": "2021-12-25T11:03:57.798Z"
   },
   {
    "duration": 12,
    "start_time": "2021-12-25T11:03:57.992Z"
   },
   {
    "duration": 9,
    "start_time": "2021-12-25T11:03:58.143Z"
   },
   {
    "duration": 356,
    "start_time": "2021-12-25T11:09:29.540Z"
   },
   {
    "duration": 588,
    "start_time": "2021-12-25T11:09:31.882Z"
   },
   {
    "duration": 473,
    "start_time": "2021-12-25T11:09:33.707Z"
   },
   {
    "duration": 599,
    "start_time": "2021-12-25T11:09:35.472Z"
   },
   {
    "duration": 11,
    "start_time": "2021-12-25T11:09:48.755Z"
   },
   {
    "duration": 36,
    "start_time": "2021-12-25T11:09:49.354Z"
   },
   {
    "duration": 49,
    "start_time": "2021-12-25T11:15:40.703Z"
   },
   {
    "duration": 346,
    "start_time": "2021-12-25T11:17:34.245Z"
   },
   {
    "duration": 36,
    "start_time": "2021-12-25T11:17:42.844Z"
   },
   {
    "duration": 22,
    "start_time": "2021-12-25T11:17:43.700Z"
   },
   {
    "duration": 300,
    "start_time": "2021-12-25T11:17:44.278Z"
   },
   {
    "duration": 37,
    "start_time": "2021-12-25T11:17:45.551Z"
   },
   {
    "duration": 294,
    "start_time": "2021-12-25T11:17:46.000Z"
   },
   {
    "duration": 320,
    "start_time": "2021-12-25T11:17:46.452Z"
   },
   {
    "duration": 297,
    "start_time": "2021-12-25T11:17:46.889Z"
   },
   {
    "duration": 286,
    "start_time": "2021-12-25T11:17:47.410Z"
   },
   {
    "duration": 8,
    "start_time": "2021-12-25T11:17:47.797Z"
   },
   {
    "duration": 7,
    "start_time": "2021-12-25T11:17:48.267Z"
   },
   {
    "duration": 8,
    "start_time": "2021-12-25T11:17:48.713Z"
   },
   {
    "duration": 492,
    "start_time": "2021-12-25T11:17:49.154Z"
   },
   {
    "duration": 608,
    "start_time": "2021-12-25T11:18:36.966Z"
   },
   {
    "duration": 476,
    "start_time": "2021-12-25T11:18:44.131Z"
   },
   {
    "duration": 397,
    "start_time": "2021-12-25T11:18:47.505Z"
   },
   {
    "duration": 932,
    "start_time": "2021-12-26T06:04:04.990Z"
   },
   {
    "duration": 74,
    "start_time": "2021-12-26T06:04:05.925Z"
   },
   {
    "duration": 11,
    "start_time": "2021-12-26T06:04:06.001Z"
   },
   {
    "duration": 15,
    "start_time": "2021-12-26T06:04:06.015Z"
   },
   {
    "duration": 124,
    "start_time": "2021-12-26T06:04:06.032Z"
   },
   {
    "duration": 16,
    "start_time": "2021-12-26T06:04:06.162Z"
   },
   {
    "duration": 39,
    "start_time": "2021-12-26T06:04:06.180Z"
   },
   {
    "duration": 7,
    "start_time": "2021-12-26T06:04:06.223Z"
   },
   {
    "duration": 8,
    "start_time": "2021-12-26T06:04:06.264Z"
   },
   {
    "duration": 10,
    "start_time": "2021-12-26T06:04:06.274Z"
   },
   {
    "duration": 7,
    "start_time": "2021-12-26T06:04:06.287Z"
   },
   {
    "duration": 6,
    "start_time": "2021-12-26T06:04:06.296Z"
   },
   {
    "duration": 6,
    "start_time": "2021-12-26T06:04:06.304Z"
   },
   {
    "duration": 56,
    "start_time": "2021-12-26T06:04:06.312Z"
   },
   {
    "duration": 27,
    "start_time": "2021-12-26T06:04:06.371Z"
   },
   {
    "duration": 307,
    "start_time": "2021-12-26T06:04:06.400Z"
   },
   {
    "duration": 26,
    "start_time": "2021-12-26T06:04:06.710Z"
   },
   {
    "duration": 54,
    "start_time": "2021-12-26T06:04:06.739Z"
   },
   {
    "duration": 10,
    "start_time": "2021-12-26T06:04:06.795Z"
   },
   {
    "duration": 15,
    "start_time": "2021-12-26T06:04:06.807Z"
   },
   {
    "duration": 42,
    "start_time": "2021-12-26T06:04:06.824Z"
   },
   {
    "duration": 7,
    "start_time": "2021-12-26T06:04:06.868Z"
   },
   {
    "duration": 21,
    "start_time": "2021-12-26T06:04:06.881Z"
   },
   {
    "duration": 18,
    "start_time": "2021-12-26T06:04:06.905Z"
   },
   {
    "duration": 49,
    "start_time": "2021-12-26T06:04:06.926Z"
   },
   {
    "duration": 19,
    "start_time": "2021-12-26T06:04:06.977Z"
   },
   {
    "duration": 10,
    "start_time": "2021-12-26T06:04:06.999Z"
   },
   {
    "duration": 56,
    "start_time": "2021-12-26T06:04:07.012Z"
   },
   {
    "duration": 8,
    "start_time": "2021-12-26T06:04:07.070Z"
   },
   {
    "duration": 13,
    "start_time": "2021-12-26T06:04:07.081Z"
   },
   {
    "duration": 504,
    "start_time": "2021-12-26T06:04:07.097Z"
   },
   {
    "duration": 14,
    "start_time": "2021-12-26T06:04:07.604Z"
   },
   {
    "duration": 8,
    "start_time": "2021-12-26T06:04:07.621Z"
   },
   {
    "duration": 41,
    "start_time": "2021-12-26T06:04:07.632Z"
   },
   {
    "duration": 8,
    "start_time": "2021-12-26T06:04:07.675Z"
   },
   {
    "duration": 7,
    "start_time": "2021-12-26T06:04:07.685Z"
   },
   {
    "duration": 6,
    "start_time": "2021-12-26T06:04:07.695Z"
   },
   {
    "duration": 74,
    "start_time": "2021-12-26T06:04:07.704Z"
   },
   {
    "duration": 12,
    "start_time": "2021-12-26T06:04:07.780Z"
   },
   {
    "duration": 13,
    "start_time": "2021-12-26T06:04:07.794Z"
   },
   {
    "duration": 74,
    "start_time": "2021-12-26T06:04:07.809Z"
   },
   {
    "duration": 36,
    "start_time": "2021-12-26T06:04:07.885Z"
   },
   {
    "duration": 7,
    "start_time": "2021-12-26T06:04:07.923Z"
   },
   {
    "duration": 50,
    "start_time": "2021-12-26T06:04:07.933Z"
   },
   {
    "duration": 1019,
    "start_time": "2021-12-26T06:04:07.986Z"
   },
   {
    "duration": 547,
    "start_time": "2021-12-26T06:04:09.008Z"
   },
   {
    "duration": 596,
    "start_time": "2021-12-26T06:04:09.557Z"
   },
   {
    "duration": 574,
    "start_time": "2021-12-26T06:04:10.162Z"
   },
   {
    "duration": 551,
    "start_time": "2021-12-26T06:04:10.739Z"
   },
   {
    "duration": 574,
    "start_time": "2021-12-26T06:04:11.292Z"
   },
   {
    "duration": 683,
    "start_time": "2021-12-26T06:04:11.869Z"
   },
   {
    "duration": 559,
    "start_time": "2021-12-26T06:04:12.555Z"
   },
   {
    "duration": 561,
    "start_time": "2021-12-26T06:04:13.116Z"
   },
   {
    "duration": 584,
    "start_time": "2021-12-26T06:04:13.679Z"
   },
   {
    "duration": 990,
    "start_time": "2021-12-26T06:04:14.265Z"
   },
   {
    "duration": 918,
    "start_time": "2021-12-26T06:04:15.257Z"
   },
   {
    "duration": 11,
    "start_time": "2021-12-26T06:04:16.178Z"
   },
   {
    "duration": 450,
    "start_time": "2021-12-26T06:04:16.191Z"
   },
   {
    "duration": 22,
    "start_time": "2021-12-26T06:04:16.643Z"
   },
   {
    "duration": 9,
    "start_time": "2021-12-26T06:04:16.668Z"
   },
   {
    "duration": 8,
    "start_time": "2021-12-26T06:04:16.680Z"
   },
   {
    "duration": 23,
    "start_time": "2021-12-26T06:04:16.690Z"
   },
   {
    "duration": 482,
    "start_time": "2021-12-26T06:04:16.715Z"
   },
   {
    "duration": 10,
    "start_time": "2021-12-26T06:04:17.199Z"
   },
   {
    "duration": 8,
    "start_time": "2021-12-26T06:04:17.212Z"
   },
   {
    "duration": 8,
    "start_time": "2021-12-26T06:04:17.222Z"
   },
   {
    "duration": 49,
    "start_time": "2021-12-26T06:04:17.233Z"
   },
   {
    "duration": 452,
    "start_time": "2021-12-26T06:04:17.290Z"
   },
   {
    "duration": 23,
    "start_time": "2021-12-26T06:04:17.745Z"
   },
   {
    "duration": 8,
    "start_time": "2021-12-26T06:04:17.770Z"
   },
   {
    "duration": 21,
    "start_time": "2021-12-26T06:04:17.780Z"
   },
   {
    "duration": 451,
    "start_time": "2021-12-26T06:04:17.804Z"
   },
   {
    "duration": 12,
    "start_time": "2021-12-26T06:04:18.262Z"
   },
   {
    "duration": 9,
    "start_time": "2021-12-26T06:04:18.276Z"
   },
   {
    "duration": 20,
    "start_time": "2021-12-26T06:04:18.287Z"
   },
   {
    "duration": 6,
    "start_time": "2021-12-26T06:04:18.309Z"
   },
   {
    "duration": 47,
    "start_time": "2021-12-26T06:04:18.317Z"
   },
   {
    "duration": 7,
    "start_time": "2021-12-26T06:04:18.366Z"
   },
   {
    "duration": 395,
    "start_time": "2021-12-26T06:04:18.375Z"
   },
   {
    "duration": 610,
    "start_time": "2021-12-26T06:04:18.773Z"
   },
   {
    "duration": 493,
    "start_time": "2021-12-26T06:04:19.387Z"
   },
   {
    "duration": 580,
    "start_time": "2021-12-26T06:04:19.883Z"
   },
   {
    "duration": 10,
    "start_time": "2021-12-26T06:04:20.466Z"
   },
   {
    "duration": 43,
    "start_time": "2021-12-26T06:04:20.479Z"
   },
   {
    "duration": 87,
    "start_time": "2021-12-26T06:04:20.526Z"
   },
   {
    "duration": 58,
    "start_time": "2021-12-26T06:04:20.616Z"
   },
   {
    "duration": 38,
    "start_time": "2021-12-26T06:04:20.677Z"
   },
   {
    "duration": 328,
    "start_time": "2021-12-26T06:04:20.719Z"
   },
   {
    "duration": 47,
    "start_time": "2021-12-26T06:04:21.050Z"
   },
   {
    "duration": 316,
    "start_time": "2021-12-26T06:04:21.100Z"
   },
   {
    "duration": 362,
    "start_time": "2021-12-26T06:04:21.420Z"
   },
   {
    "duration": 326,
    "start_time": "2021-12-26T06:04:21.785Z"
   },
   {
    "duration": 308,
    "start_time": "2021-12-26T06:04:22.114Z"
   },
   {
    "duration": 10,
    "start_time": "2021-12-26T06:04:22.425Z"
   },
   {
    "duration": 26,
    "start_time": "2021-12-26T06:04:22.438Z"
   },
   {
    "duration": 6,
    "start_time": "2021-12-26T06:04:22.467Z"
   },
   {
    "duration": 414,
    "start_time": "2021-12-26T06:04:22.476Z"
   },
   {
    "duration": 635,
    "start_time": "2021-12-26T06:04:22.893Z"
   },
   {
    "duration": 509,
    "start_time": "2021-12-26T06:04:23.530Z"
   },
   {
    "duration": 424,
    "start_time": "2021-12-26T06:04:24.042Z"
   },
   {
    "duration": 690,
    "start_time": "2021-12-26T14:47:44.139Z"
   },
   {
    "duration": 82,
    "start_time": "2021-12-26T14:47:44.830Z"
   },
   {
    "duration": 8,
    "start_time": "2021-12-26T14:47:44.914Z"
   },
   {
    "duration": 10,
    "start_time": "2021-12-26T14:47:44.925Z"
   },
   {
    "duration": 90,
    "start_time": "2021-12-26T14:47:44.936Z"
   },
   {
    "duration": 12,
    "start_time": "2021-12-26T14:47:45.028Z"
   },
   {
    "duration": 27,
    "start_time": "2021-12-26T14:47:45.042Z"
   },
   {
    "duration": 5,
    "start_time": "2021-12-26T14:47:45.072Z"
   },
   {
    "duration": 8,
    "start_time": "2021-12-26T14:47:45.080Z"
   },
   {
    "duration": 8,
    "start_time": "2021-12-26T14:47:45.090Z"
   },
   {
    "duration": 5,
    "start_time": "2021-12-26T14:47:45.100Z"
   },
   {
    "duration": 5,
    "start_time": "2021-12-26T14:47:45.107Z"
   },
   {
    "duration": 5,
    "start_time": "2021-12-26T14:47:45.114Z"
   },
   {
    "duration": 41,
    "start_time": "2021-12-26T14:47:45.121Z"
   },
   {
    "duration": 19,
    "start_time": "2021-12-26T14:47:45.164Z"
   },
   {
    "duration": 179,
    "start_time": "2021-12-26T14:47:45.185Z"
   },
   {
    "duration": 20,
    "start_time": "2021-12-26T14:47:45.366Z"
   },
   {
    "duration": 26,
    "start_time": "2021-12-26T14:47:45.388Z"
   },
   {
    "duration": 8,
    "start_time": "2021-12-26T14:47:45.416Z"
   },
   {
    "duration": 43,
    "start_time": "2021-12-26T14:47:45.425Z"
   },
   {
    "duration": 7,
    "start_time": "2021-12-26T14:47:45.470Z"
   },
   {
    "duration": 5,
    "start_time": "2021-12-26T14:47:45.479Z"
   },
   {
    "duration": 16,
    "start_time": "2021-12-26T14:47:45.488Z"
   },
   {
    "duration": 13,
    "start_time": "2021-12-26T14:47:45.506Z"
   },
   {
    "duration": 45,
    "start_time": "2021-12-26T14:47:45.521Z"
   },
   {
    "duration": 12,
    "start_time": "2021-12-26T14:47:45.567Z"
   },
   {
    "duration": 5,
    "start_time": "2021-12-26T14:47:45.580Z"
   },
   {
    "duration": 8,
    "start_time": "2021-12-26T14:47:45.586Z"
   },
   {
    "duration": 5,
    "start_time": "2021-12-26T14:47:45.595Z"
   },
   {
    "duration": 9,
    "start_time": "2021-12-26T14:47:45.601Z"
   },
   {
    "duration": 336,
    "start_time": "2021-12-26T14:47:45.611Z"
   },
   {
    "duration": 12,
    "start_time": "2021-12-26T14:47:45.949Z"
   },
   {
    "duration": 4,
    "start_time": "2021-12-26T14:47:45.962Z"
   },
   {
    "duration": 7,
    "start_time": "2021-12-26T14:47:45.968Z"
   },
   {
    "duration": 3,
    "start_time": "2021-12-26T14:47:45.976Z"
   },
   {
    "duration": 5,
    "start_time": "2021-12-26T14:47:45.981Z"
   },
   {
    "duration": 6,
    "start_time": "2021-12-26T14:47:45.987Z"
   },
   {
    "duration": 17,
    "start_time": "2021-12-26T14:47:45.994Z"
   },
   {
    "duration": 11,
    "start_time": "2021-12-26T14:47:46.013Z"
   },
   {
    "duration": 10,
    "start_time": "2021-12-26T14:47:46.061Z"
   },
   {
    "duration": 29,
    "start_time": "2021-12-26T14:47:46.073Z"
   },
   {
    "duration": 23,
    "start_time": "2021-12-26T14:47:46.103Z"
   },
   {
    "duration": 4,
    "start_time": "2021-12-26T14:47:46.127Z"
   },
   {
    "duration": 40,
    "start_time": "2021-12-26T14:47:46.133Z"
   },
   {
    "duration": 610,
    "start_time": "2021-12-26T14:47:46.174Z"
   },
   {
    "duration": 634,
    "start_time": "2021-12-26T14:48:25.275Z"
   },
   {
    "duration": 435,
    "start_time": "2021-12-26T14:51:30.834Z"
   },
   {
    "duration": 693,
    "start_time": "2021-12-26T14:51:45.662Z"
   },
   {
    "duration": 692,
    "start_time": "2021-12-26T14:52:03.477Z"
   },
   {
    "duration": 843,
    "start_time": "2021-12-26T14:54:06.556Z"
   },
   {
    "duration": 303,
    "start_time": "2021-12-26T14:58:18.318Z"
   },
   {
    "duration": 559,
    "start_time": "2021-12-26T14:58:36.225Z"
   },
   {
    "duration": 1121,
    "start_time": "2021-12-26T15:00:25.331Z"
   },
   {
    "duration": 307,
    "start_time": "2021-12-26T15:01:21.234Z"
   },
   {
    "duration": 275,
    "start_time": "2021-12-26T15:01:51.042Z"
   },
   {
    "duration": 270,
    "start_time": "2021-12-26T15:02:06.403Z"
   },
   {
    "duration": 310,
    "start_time": "2021-12-26T15:02:15.465Z"
   },
   {
    "duration": 1372,
    "start_time": "2021-12-26T15:03:28.474Z"
   },
   {
    "duration": 297,
    "start_time": "2021-12-26T15:03:56.136Z"
   },
   {
    "duration": 547,
    "start_time": "2021-12-26T15:04:29.076Z"
   },
   {
    "duration": 302,
    "start_time": "2021-12-26T15:04:38.774Z"
   },
   {
    "duration": 887,
    "start_time": "2021-12-26T15:06:42.159Z"
   },
   {
    "duration": 310,
    "start_time": "2021-12-26T15:06:55.266Z"
   },
   {
    "duration": 656,
    "start_time": "2021-12-26T15:08:25.244Z"
   },
   {
    "duration": 557,
    "start_time": "2021-12-26T15:08:35.832Z"
   },
   {
    "duration": 557,
    "start_time": "2021-12-26T15:09:53.565Z"
   },
   {
    "duration": 566,
    "start_time": "2021-12-26T15:11:13.295Z"
   },
   {
    "duration": 730,
    "start_time": "2021-12-26T15:12:30.876Z"
   },
   {
    "duration": 565,
    "start_time": "2021-12-26T15:12:55.305Z"
   },
   {
    "duration": 696,
    "start_time": "2021-12-26T15:13:13.377Z"
   },
   {
    "duration": 801,
    "start_time": "2021-12-26T15:13:21.088Z"
   },
   {
    "duration": 1093,
    "start_time": "2021-12-26T15:13:31.103Z"
   },
   {
    "duration": 396,
    "start_time": "2021-12-26T15:15:04.708Z"
   },
   {
    "duration": 309,
    "start_time": "2021-12-26T15:15:18.030Z"
   },
   {
    "duration": 681,
    "start_time": "2021-12-26T15:15:27.834Z"
   },
   {
    "duration": 563,
    "start_time": "2021-12-26T15:15:39.410Z"
   },
   {
    "duration": 561,
    "start_time": "2021-12-26T15:18:07.032Z"
   },
   {
    "duration": 331,
    "start_time": "2021-12-26T15:18:15.876Z"
   },
   {
    "duration": 326,
    "start_time": "2021-12-26T15:18:55.804Z"
   },
   {
    "duration": 318,
    "start_time": "2021-12-26T15:19:07.983Z"
   },
   {
    "duration": 441,
    "start_time": "2021-12-26T15:19:13.924Z"
   },
   {
    "duration": 347,
    "start_time": "2021-12-26T15:19:27.885Z"
   },
   {
    "duration": 337,
    "start_time": "2021-12-26T15:19:38.781Z"
   },
   {
    "duration": 357,
    "start_time": "2021-12-26T15:20:09.967Z"
   },
   {
    "duration": 321,
    "start_time": "2021-12-26T15:20:30.179Z"
   },
   {
    "duration": 462,
    "start_time": "2021-12-26T15:20:41.355Z"
   },
   {
    "duration": 350,
    "start_time": "2021-12-26T15:20:47.163Z"
   },
   {
    "duration": 333,
    "start_time": "2021-12-26T15:20:52.313Z"
   },
   {
    "duration": 563,
    "start_time": "2021-12-26T15:21:02.000Z"
   },
   {
    "duration": 313,
    "start_time": "2021-12-26T15:21:13.175Z"
   },
   {
    "duration": 328,
    "start_time": "2021-12-26T15:21:20.054Z"
   },
   {
    "duration": 644,
    "start_time": "2021-12-26T15:21:44.627Z"
   },
   {
    "duration": 592,
    "start_time": "2021-12-26T15:21:56.516Z"
   },
   {
    "duration": 506,
    "start_time": "2021-12-26T15:23:05.760Z"
   },
   {
    "duration": 360,
    "start_time": "2021-12-26T15:23:17.079Z"
   },
   {
    "duration": 507,
    "start_time": "2021-12-26T15:26:33.446Z"
   },
   {
    "duration": 12,
    "start_time": "2021-12-26T15:26:34.802Z"
   },
   {
    "duration": 254,
    "start_time": "2021-12-26T15:27:39.948Z"
   },
   {
    "duration": 3,
    "start_time": "2021-12-26T15:27:45.152Z"
   },
   {
    "duration": 82,
    "start_time": "2021-12-26T15:27:45.158Z"
   },
   {
    "duration": 10,
    "start_time": "2021-12-26T15:27:45.242Z"
   },
   {
    "duration": 9,
    "start_time": "2021-12-26T15:27:45.254Z"
   },
   {
    "duration": 93,
    "start_time": "2021-12-26T15:27:45.265Z"
   },
   {
    "duration": 10,
    "start_time": "2021-12-26T15:27:45.360Z"
   },
   {
    "duration": 25,
    "start_time": "2021-12-26T15:27:45.372Z"
   },
   {
    "duration": 5,
    "start_time": "2021-12-26T15:27:45.399Z"
   },
   {
    "duration": 9,
    "start_time": "2021-12-26T15:27:45.406Z"
   },
   {
    "duration": 11,
    "start_time": "2021-12-26T15:27:45.417Z"
   },
   {
    "duration": 34,
    "start_time": "2021-12-26T15:27:45.430Z"
   },
   {
    "duration": 6,
    "start_time": "2021-12-26T15:27:45.466Z"
   },
   {
    "duration": 8,
    "start_time": "2021-12-26T15:27:45.474Z"
   },
   {
    "duration": 6,
    "start_time": "2021-12-26T15:27:45.484Z"
   },
   {
    "duration": 21,
    "start_time": "2021-12-26T15:27:45.491Z"
   },
   {
    "duration": 219,
    "start_time": "2021-12-26T15:27:45.514Z"
   },
   {
    "duration": 27,
    "start_time": "2021-12-26T15:27:45.734Z"
   },
   {
    "duration": 24,
    "start_time": "2021-12-26T15:27:45.763Z"
   },
   {
    "duration": 8,
    "start_time": "2021-12-26T15:27:45.789Z"
   },
   {
    "duration": 23,
    "start_time": "2021-12-26T15:27:45.799Z"
   },
   {
    "duration": 11,
    "start_time": "2021-12-26T15:27:45.824Z"
   },
   {
    "duration": 12,
    "start_time": "2021-12-26T15:27:45.837Z"
   },
   {
    "duration": 32,
    "start_time": "2021-12-26T15:27:45.850Z"
   },
   {
    "duration": 14,
    "start_time": "2021-12-26T15:27:45.886Z"
   },
   {
    "duration": 12,
    "start_time": "2021-12-26T15:27:45.902Z"
   },
   {
    "duration": 22,
    "start_time": "2021-12-26T15:27:45.916Z"
   },
   {
    "duration": 16,
    "start_time": "2021-12-26T15:27:45.940Z"
   },
   {
    "duration": 23,
    "start_time": "2021-12-26T15:27:45.957Z"
   },
   {
    "duration": 14,
    "start_time": "2021-12-26T15:27:45.982Z"
   },
   {
    "duration": 21,
    "start_time": "2021-12-26T15:27:45.998Z"
   },
   {
    "duration": 304,
    "start_time": "2021-12-26T15:27:46.021Z"
   },
   {
    "duration": 8,
    "start_time": "2021-12-26T15:27:46.327Z"
   },
   {
    "duration": 8,
    "start_time": "2021-12-26T15:27:46.337Z"
   },
   {
    "duration": 21,
    "start_time": "2021-12-26T15:27:46.347Z"
   },
   {
    "duration": 5,
    "start_time": "2021-12-26T15:27:46.369Z"
   },
   {
    "duration": 5,
    "start_time": "2021-12-26T15:27:46.375Z"
   },
   {
    "duration": 7,
    "start_time": "2021-12-26T15:27:46.381Z"
   },
   {
    "duration": 23,
    "start_time": "2021-12-26T15:27:46.389Z"
   },
   {
    "duration": 10,
    "start_time": "2021-12-26T15:27:46.414Z"
   },
   {
    "duration": 11,
    "start_time": "2021-12-26T15:27:46.425Z"
   },
   {
    "duration": 52,
    "start_time": "2021-12-26T15:27:46.437Z"
   },
   {
    "duration": 20,
    "start_time": "2021-12-26T15:27:46.491Z"
   },
   {
    "duration": 5,
    "start_time": "2021-12-26T15:27:46.512Z"
   },
   {
    "duration": 43,
    "start_time": "2021-12-26T15:27:46.518Z"
   },
   {
    "duration": 581,
    "start_time": "2021-12-26T15:27:46.563Z"
   },
   {
    "duration": 591,
    "start_time": "2021-12-26T15:27:47.145Z"
   },
   {
    "duration": -2046,
    "start_time": "2021-12-26T15:27:49.785Z"
   },
   {
    "duration": -2052,
    "start_time": "2021-12-26T15:27:49.792Z"
   },
   {
    "duration": -2057,
    "start_time": "2021-12-26T15:27:49.798Z"
   },
   {
    "duration": -2062,
    "start_time": "2021-12-26T15:27:49.804Z"
   },
   {
    "duration": -2067,
    "start_time": "2021-12-26T15:27:49.810Z"
   },
   {
    "duration": -2134,
    "start_time": "2021-12-26T15:27:49.893Z"
   },
   {
    "duration": -2145,
    "start_time": "2021-12-26T15:27:49.906Z"
   },
   {
    "duration": -2155,
    "start_time": "2021-12-26T15:27:49.917Z"
   },
   {
    "duration": -2167,
    "start_time": "2021-12-26T15:27:49.930Z"
   },
   {
    "duration": -2171,
    "start_time": "2021-12-26T15:27:49.935Z"
   },
   {
    "duration": -2177,
    "start_time": "2021-12-26T15:27:49.942Z"
   },
   {
    "duration": -2181,
    "start_time": "2021-12-26T15:27:49.947Z"
   },
   {
    "duration": -2186,
    "start_time": "2021-12-26T15:27:49.953Z"
   },
   {
    "duration": -2191,
    "start_time": "2021-12-26T15:27:49.959Z"
   },
   {
    "duration": -2197,
    "start_time": "2021-12-26T15:27:49.965Z"
   },
   {
    "duration": -2202,
    "start_time": "2021-12-26T15:27:49.971Z"
   },
   {
    "duration": -2207,
    "start_time": "2021-12-26T15:27:49.977Z"
   },
   {
    "duration": -2213,
    "start_time": "2021-12-26T15:27:49.984Z"
   },
   {
    "duration": -2230,
    "start_time": "2021-12-26T15:27:50.001Z"
   },
   {
    "duration": -2235,
    "start_time": "2021-12-26T15:27:50.007Z"
   },
   {
    "duration": -2241,
    "start_time": "2021-12-26T15:27:50.014Z"
   },
   {
    "duration": -2246,
    "start_time": "2021-12-26T15:27:50.019Z"
   },
   {
    "duration": -2252,
    "start_time": "2021-12-26T15:27:50.026Z"
   },
   {
    "duration": -2285,
    "start_time": "2021-12-26T15:27:50.060Z"
   },
   {
    "duration": -2292,
    "start_time": "2021-12-26T15:27:50.067Z"
   },
   {
    "duration": -2296,
    "start_time": "2021-12-26T15:27:50.072Z"
   },
   {
    "duration": -2301,
    "start_time": "2021-12-26T15:27:50.078Z"
   },
   {
    "duration": -2307,
    "start_time": "2021-12-26T15:27:50.084Z"
   },
   {
    "duration": -2312,
    "start_time": "2021-12-26T15:27:50.090Z"
   },
   {
    "duration": -2316,
    "start_time": "2021-12-26T15:27:50.095Z"
   },
   {
    "duration": -2332,
    "start_time": "2021-12-26T15:27:50.112Z"
   },
   {
    "duration": -2338,
    "start_time": "2021-12-26T15:27:50.118Z"
   },
   {
    "duration": -2344,
    "start_time": "2021-12-26T15:27:50.125Z"
   },
   {
    "duration": -2350,
    "start_time": "2021-12-26T15:27:50.131Z"
   },
   {
    "duration": -2355,
    "start_time": "2021-12-26T15:27:50.137Z"
   },
   {
    "duration": -2360,
    "start_time": "2021-12-26T15:27:50.143Z"
   },
   {
    "duration": -2366,
    "start_time": "2021-12-26T15:27:50.149Z"
   },
   {
    "duration": -2371,
    "start_time": "2021-12-26T15:27:50.155Z"
   },
   {
    "duration": -2376,
    "start_time": "2021-12-26T15:27:50.161Z"
   },
   {
    "duration": -2381,
    "start_time": "2021-12-26T15:27:50.166Z"
   },
   {
    "duration": -2387,
    "start_time": "2021-12-26T15:27:50.173Z"
   },
   {
    "duration": -2391,
    "start_time": "2021-12-26T15:27:50.178Z"
   },
   {
    "duration": 3,
    "start_time": "2021-12-26T15:28:19.668Z"
   },
   {
    "duration": 80,
    "start_time": "2021-12-26T15:28:19.676Z"
   },
   {
    "duration": 8,
    "start_time": "2021-12-26T15:28:19.758Z"
   },
   {
    "duration": 7,
    "start_time": "2021-12-26T15:28:19.768Z"
   },
   {
    "duration": 123,
    "start_time": "2021-12-26T15:28:19.777Z"
   },
   {
    "duration": 11,
    "start_time": "2021-12-26T15:28:19.901Z"
   },
   {
    "duration": 26,
    "start_time": "2021-12-26T15:28:19.913Z"
   },
   {
    "duration": 5,
    "start_time": "2021-12-26T15:28:19.941Z"
   },
   {
    "duration": 17,
    "start_time": "2021-12-26T15:28:19.948Z"
   },
   {
    "duration": 9,
    "start_time": "2021-12-26T15:28:19.968Z"
   },
   {
    "duration": 5,
    "start_time": "2021-12-26T15:28:19.979Z"
   },
   {
    "duration": 10,
    "start_time": "2021-12-26T15:28:19.985Z"
   },
   {
    "duration": 7,
    "start_time": "2021-12-26T15:28:19.996Z"
   },
   {
    "duration": 9,
    "start_time": "2021-12-26T15:28:20.004Z"
   },
   {
    "duration": 59,
    "start_time": "2021-12-26T15:28:20.015Z"
   },
   {
    "duration": 175,
    "start_time": "2021-12-26T15:28:20.075Z"
   },
   {
    "duration": 23,
    "start_time": "2021-12-26T15:28:20.251Z"
   },
   {
    "duration": 24,
    "start_time": "2021-12-26T15:28:20.276Z"
   },
   {
    "duration": 7,
    "start_time": "2021-12-26T15:28:20.301Z"
   },
   {
    "duration": 16,
    "start_time": "2021-12-26T15:28:20.309Z"
   },
   {
    "duration": 5,
    "start_time": "2021-12-26T15:28:20.327Z"
   },
   {
    "duration": 28,
    "start_time": "2021-12-26T15:28:20.334Z"
   },
   {
    "duration": 15,
    "start_time": "2021-12-26T15:28:20.363Z"
   },
   {
    "duration": 14,
    "start_time": "2021-12-26T15:28:20.379Z"
   },
   {
    "duration": 12,
    "start_time": "2021-12-26T15:28:20.394Z"
   },
   {
    "duration": 12,
    "start_time": "2021-12-26T15:28:20.408Z"
   },
   {
    "duration": 44,
    "start_time": "2021-12-26T15:28:20.422Z"
   },
   {
    "duration": 9,
    "start_time": "2021-12-26T15:28:20.471Z"
   },
   {
    "duration": 5,
    "start_time": "2021-12-26T15:28:20.484Z"
   },
   {
    "duration": 9,
    "start_time": "2021-12-26T15:28:20.491Z"
   },
   {
    "duration": 328,
    "start_time": "2021-12-26T15:28:20.502Z"
   },
   {
    "duration": 8,
    "start_time": "2021-12-26T15:28:20.831Z"
   },
   {
    "duration": 4,
    "start_time": "2021-12-26T15:28:20.841Z"
   },
   {
    "duration": 19,
    "start_time": "2021-12-26T15:28:20.846Z"
   },
   {
    "duration": 7,
    "start_time": "2021-12-26T15:28:20.866Z"
   },
   {
    "duration": 7,
    "start_time": "2021-12-26T15:28:20.874Z"
   },
   {
    "duration": 6,
    "start_time": "2021-12-26T15:28:20.883Z"
   },
   {
    "duration": 17,
    "start_time": "2021-12-26T15:28:20.890Z"
   },
   {
    "duration": 10,
    "start_time": "2021-12-26T15:28:20.909Z"
   },
   {
    "duration": 13,
    "start_time": "2021-12-26T15:28:20.920Z"
   },
   {
    "duration": 55,
    "start_time": "2021-12-26T15:28:20.935Z"
   },
   {
    "duration": 22,
    "start_time": "2021-12-26T15:28:20.992Z"
   },
   {
    "duration": 4,
    "start_time": "2021-12-26T15:28:21.016Z"
   },
   {
    "duration": 42,
    "start_time": "2021-12-26T15:28:21.022Z"
   },
   {
    "duration": 630,
    "start_time": "2021-12-26T15:28:21.066Z"
   },
   {
    "duration": 582,
    "start_time": "2021-12-26T15:28:21.698Z"
   },
   {
    "duration": -1967,
    "start_time": "2021-12-26T15:28:24.249Z"
   },
   {
    "duration": -1972,
    "start_time": "2021-12-26T15:28:24.255Z"
   },
   {
    "duration": -1977,
    "start_time": "2021-12-26T15:28:24.261Z"
   },
   {
    "duration": -1982,
    "start_time": "2021-12-26T15:28:24.267Z"
   },
   {
    "duration": -1987,
    "start_time": "2021-12-26T15:28:24.273Z"
   },
   {
    "duration": -1993,
    "start_time": "2021-12-26T15:28:24.280Z"
   },
   {
    "duration": -1998,
    "start_time": "2021-12-26T15:28:24.285Z"
   },
   {
    "duration": -2057,
    "start_time": "2021-12-26T15:28:24.346Z"
   },
   {
    "duration": -2063,
    "start_time": "2021-12-26T15:28:24.353Z"
   },
   {
    "duration": -2070,
    "start_time": "2021-12-26T15:28:24.361Z"
   },
   {
    "duration": -2083,
    "start_time": "2021-12-26T15:28:24.375Z"
   },
   {
    "duration": -2095,
    "start_time": "2021-12-26T15:28:24.388Z"
   },
   {
    "duration": -2105,
    "start_time": "2021-12-26T15:28:24.399Z"
   },
   {
    "duration": -2117,
    "start_time": "2021-12-26T15:28:24.412Z"
   },
   {
    "duration": -2121,
    "start_time": "2021-12-26T15:28:24.418Z"
   },
   {
    "duration": -2126,
    "start_time": "2021-12-26T15:28:24.424Z"
   },
   {
    "duration": -2131,
    "start_time": "2021-12-26T15:28:24.430Z"
   },
   {
    "duration": -2136,
    "start_time": "2021-12-26T15:28:24.436Z"
   },
   {
    "duration": -2141,
    "start_time": "2021-12-26T15:28:24.442Z"
   },
   {
    "duration": -2162,
    "start_time": "2021-12-26T15:28:24.464Z"
   },
   {
    "duration": -2174,
    "start_time": "2021-12-26T15:28:24.476Z"
   },
   {
    "duration": -2185,
    "start_time": "2021-12-26T15:28:24.489Z"
   },
   {
    "duration": -2196,
    "start_time": "2021-12-26T15:28:24.500Z"
   },
   {
    "duration": -2202,
    "start_time": "2021-12-26T15:28:24.507Z"
   },
   {
    "duration": -2207,
    "start_time": "2021-12-26T15:28:24.513Z"
   },
   {
    "duration": -2212,
    "start_time": "2021-12-26T15:28:24.519Z"
   },
   {
    "duration": -2166,
    "start_time": "2021-12-26T15:28:24.525Z"
   },
   {
    "duration": -2170,
    "start_time": "2021-12-26T15:28:24.531Z"
   },
   {
    "duration": -2174,
    "start_time": "2021-12-26T15:28:24.536Z"
   },
   {
    "duration": -2180,
    "start_time": "2021-12-26T15:28:24.543Z"
   },
   {
    "duration": -2184,
    "start_time": "2021-12-26T15:28:24.548Z"
   },
   {
    "duration": -2190,
    "start_time": "2021-12-26T15:28:24.555Z"
   },
   {
    "duration": -2205,
    "start_time": "2021-12-26T15:28:24.571Z"
   },
   {
    "duration": -2211,
    "start_time": "2021-12-26T15:28:24.578Z"
   },
   {
    "duration": -2238,
    "start_time": "2021-12-26T15:28:24.606Z"
   },
   {
    "duration": -2243,
    "start_time": "2021-12-26T15:28:24.612Z"
   },
   {
    "duration": -2259,
    "start_time": "2021-12-26T15:28:24.629Z"
   },
   {
    "duration": -2265,
    "start_time": "2021-12-26T15:28:24.636Z"
   },
   {
    "duration": -2269,
    "start_time": "2021-12-26T15:28:24.641Z"
   },
   {
    "duration": -2275,
    "start_time": "2021-12-26T15:28:24.648Z"
   },
   {
    "duration": -2280,
    "start_time": "2021-12-26T15:28:24.654Z"
   },
   {
    "duration": 532,
    "start_time": "2021-12-26T15:28:39.701Z"
   },
   {
    "duration": 338,
    "start_time": "2021-12-26T15:28:41.337Z"
   },
   {
    "duration": 319,
    "start_time": "2021-12-26T15:28:41.954Z"
   },
   {
    "duration": 332,
    "start_time": "2021-12-26T15:28:42.555Z"
   },
   {
    "duration": 315,
    "start_time": "2021-12-26T15:28:43.234Z"
   },
   {
    "duration": 313,
    "start_time": "2021-12-26T15:28:43.568Z"
   },
   {
    "duration": 328,
    "start_time": "2021-12-26T15:28:44.228Z"
   },
   {
    "duration": 327,
    "start_time": "2021-12-26T15:28:44.618Z"
   },
   {
    "duration": 720,
    "start_time": "2021-12-26T15:28:46.809Z"
   },
   {
    "duration": 485,
    "start_time": "2021-12-26T15:28:48.129Z"
   },
   {
    "duration": 336,
    "start_time": "2021-12-26T15:28:49.396Z"
   },
   {
    "duration": 9,
    "start_time": "2021-12-26T15:28:49.749Z"
   },
   {
    "duration": 247,
    "start_time": "2021-12-26T15:28:51.224Z"
   },
   {
    "duration": 10,
    "start_time": "2021-12-26T15:28:55.326Z"
   },
   {
    "duration": 9,
    "start_time": "2021-12-26T15:28:56.023Z"
   },
   {
    "duration": 8,
    "start_time": "2021-12-26T15:28:57.086Z"
   },
   {
    "duration": 16,
    "start_time": "2021-12-26T15:28:57.934Z"
   },
   {
    "duration": 262,
    "start_time": "2021-12-26T15:28:59.050Z"
   },
   {
    "duration": 9,
    "start_time": "2021-12-26T15:29:00.440Z"
   },
   {
    "duration": 7,
    "start_time": "2021-12-26T15:29:01.510Z"
   },
   {
    "duration": 7,
    "start_time": "2021-12-26T15:29:02.106Z"
   },
   {
    "duration": 16,
    "start_time": "2021-12-26T15:29:02.536Z"
   },
   {
    "duration": 257,
    "start_time": "2021-12-26T15:29:03.656Z"
   },
   {
    "duration": 7,
    "start_time": "2021-12-26T15:29:04.272Z"
   },
   {
    "duration": 8,
    "start_time": "2021-12-26T15:29:05.453Z"
   },
   {
    "duration": 15,
    "start_time": "2021-12-26T15:29:06.056Z"
   },
   {
    "duration": 277,
    "start_time": "2021-12-26T15:29:07.114Z"
   },
   {
    "duration": 8,
    "start_time": "2021-12-26T15:29:09.671Z"
   },
   {
    "duration": 7,
    "start_time": "2021-12-26T15:29:11.164Z"
   },
   {
    "duration": 16,
    "start_time": "2021-12-26T15:29:11.820Z"
   },
   {
    "duration": 5,
    "start_time": "2021-12-26T15:29:17.114Z"
   },
   {
    "duration": 5,
    "start_time": "2021-12-26T15:29:17.758Z"
   },
   {
    "duration": 6,
    "start_time": "2021-12-26T15:29:18.548Z"
   },
   {
    "duration": 220,
    "start_time": "2021-12-26T15:29:19.585Z"
   },
   {
    "duration": 362,
    "start_time": "2021-12-26T15:29:20.965Z"
   },
   {
    "duration": 279,
    "start_time": "2021-12-26T15:29:22.312Z"
   },
   {
    "duration": 254,
    "start_time": "2021-12-26T15:29:23.682Z"
   },
   {
    "duration": 7,
    "start_time": "2021-12-26T15:29:26.820Z"
   },
   {
    "duration": 24,
    "start_time": "2021-12-26T15:29:28.596Z"
   },
   {
    "duration": 32,
    "start_time": "2021-12-26T15:29:29.911Z"
   },
   {
    "duration": 22,
    "start_time": "2021-12-26T15:29:31.797Z"
   },
   {
    "duration": 14,
    "start_time": "2021-12-26T15:29:32.833Z"
   },
   {
    "duration": 189,
    "start_time": "2021-12-26T15:29:36.435Z"
   },
   {
    "duration": 82,
    "start_time": "2021-12-26T15:30:27.750Z"
   },
   {
    "duration": 9454,
    "start_time": "2021-12-26T15:30:31.511Z"
   },
   {
    "duration": 199,
    "start_time": "2021-12-26T15:30:51.645Z"
   },
   {
    "duration": 174,
    "start_time": "2021-12-26T15:31:21.792Z"
   },
   {
    "duration": 176,
    "start_time": "2021-12-26T15:32:19.177Z"
   },
   {
    "duration": 187,
    "start_time": "2021-12-26T15:32:27.517Z"
   },
   {
    "duration": 92,
    "start_time": "2021-12-26T15:33:05.149Z"
   },
   {
    "duration": 408,
    "start_time": "2021-12-26T15:33:08.164Z"
   },
   {
    "duration": 178,
    "start_time": "2021-12-26T15:35:21.349Z"
   },
   {
    "duration": 264,
    "start_time": "2021-12-26T15:38:05.720Z"
   },
   {
    "duration": 25,
    "start_time": "2021-12-26T15:38:11.074Z"
   },
   {
    "duration": 176,
    "start_time": "2021-12-26T15:38:12.383Z"
   },
   {
    "duration": 517,
    "start_time": "2021-12-26T15:38:32.284Z"
   },
   {
    "duration": 190,
    "start_time": "2021-12-26T15:38:40.076Z"
   },
   {
    "duration": 183,
    "start_time": "2021-12-26T15:38:52.114Z"
   },
   {
    "duration": 192,
    "start_time": "2021-12-26T15:39:04.951Z"
   },
   {
    "duration": 5,
    "start_time": "2021-12-26T15:39:09.903Z"
   },
   {
    "duration": 6,
    "start_time": "2021-12-26T15:39:10.607Z"
   },
   {
    "duration": 6,
    "start_time": "2021-12-26T15:39:11.188Z"
   },
   {
    "duration": 229,
    "start_time": "2021-12-26T15:39:13.615Z"
   },
   {
    "duration": 370,
    "start_time": "2021-12-26T15:39:22.536Z"
   },
   {
    "duration": 290,
    "start_time": "2021-12-26T15:39:23.983Z"
   },
   {
    "duration": 252,
    "start_time": "2021-12-26T15:39:24.944Z"
   },
   {
    "duration": 22,
    "start_time": "2021-12-26T15:43:37.943Z"
   },
   {
    "duration": 183,
    "start_time": "2021-12-26T15:43:42.009Z"
   },
   {
    "duration": 183,
    "start_time": "2021-12-26T15:43:43.975Z"
   },
   {
    "duration": 189,
    "start_time": "2021-12-26T15:43:47.173Z"
   },
   {
    "duration": 177,
    "start_time": "2021-12-26T15:43:54.328Z"
   },
   {
    "duration": 6,
    "start_time": "2021-12-26T15:43:57.037Z"
   },
   {
    "duration": 6,
    "start_time": "2021-12-26T15:43:58.734Z"
   },
   {
    "duration": 6,
    "start_time": "2021-12-26T15:44:00.338Z"
   },
   {
    "duration": 209,
    "start_time": "2021-12-26T15:44:07.967Z"
   },
   {
    "duration": 333,
    "start_time": "2021-12-26T15:44:12.329Z"
   },
   {
    "duration": 281,
    "start_time": "2021-12-26T15:44:21.973Z"
   },
   {
    "duration": 235,
    "start_time": "2021-12-26T15:44:25.594Z"
   },
   {
    "duration": 278,
    "start_time": "2021-12-26T15:48:00.971Z"
   },
   {
    "duration": 344,
    "start_time": "2021-12-26T15:48:56.945Z"
   },
   {
    "duration": 1093,
    "start_time": "2021-12-27T06:36:18.690Z"
   },
   {
    "duration": 78,
    "start_time": "2021-12-27T06:36:19.785Z"
   },
   {
    "duration": 9,
    "start_time": "2021-12-27T06:36:19.866Z"
   },
   {
    "duration": 16,
    "start_time": "2021-12-27T06:36:19.878Z"
   },
   {
    "duration": 131,
    "start_time": "2021-12-27T06:36:19.896Z"
   },
   {
    "duration": 15,
    "start_time": "2021-12-27T06:36:20.029Z"
   },
   {
    "duration": 39,
    "start_time": "2021-12-27T06:36:20.060Z"
   },
   {
    "duration": 7,
    "start_time": "2021-12-27T06:36:20.104Z"
   },
   {
    "duration": 10,
    "start_time": "2021-12-27T06:36:20.114Z"
   },
   {
    "duration": 41,
    "start_time": "2021-12-27T06:36:20.126Z"
   },
   {
    "duration": 11,
    "start_time": "2021-12-27T06:36:20.170Z"
   },
   {
    "duration": 13,
    "start_time": "2021-12-27T06:36:20.184Z"
   },
   {
    "duration": 11,
    "start_time": "2021-12-27T06:36:20.200Z"
   },
   {
    "duration": 11,
    "start_time": "2021-12-27T06:36:20.213Z"
   },
   {
    "duration": 29,
    "start_time": "2021-12-27T06:36:20.260Z"
   },
   {
    "duration": 306,
    "start_time": "2021-12-27T06:36:20.293Z"
   },
   {
    "duration": 26,
    "start_time": "2021-12-27T06:36:20.602Z"
   },
   {
    "duration": 54,
    "start_time": "2021-12-27T06:36:20.630Z"
   },
   {
    "duration": 11,
    "start_time": "2021-12-27T06:36:20.687Z"
   },
   {
    "duration": 18,
    "start_time": "2021-12-27T06:36:20.701Z"
   },
   {
    "duration": 41,
    "start_time": "2021-12-27T06:36:20.722Z"
   },
   {
    "duration": 74,
    "start_time": "2021-12-27T06:36:20.766Z"
   },
   {
    "duration": 32,
    "start_time": "2021-12-27T06:36:20.847Z"
   },
   {
    "duration": 19,
    "start_time": "2021-12-27T06:36:20.883Z"
   },
   {
    "duration": 18,
    "start_time": "2021-12-27T06:36:20.905Z"
   },
   {
    "duration": 45,
    "start_time": "2021-12-27T06:36:20.926Z"
   },
   {
    "duration": 8,
    "start_time": "2021-12-27T06:36:20.974Z"
   },
   {
    "duration": 16,
    "start_time": "2021-12-27T06:36:20.984Z"
   },
   {
    "duration": 10,
    "start_time": "2021-12-27T06:36:21.003Z"
   },
   {
    "duration": 58,
    "start_time": "2021-12-27T06:36:21.015Z"
   },
   {
    "duration": 501,
    "start_time": "2021-12-27T06:36:21.076Z"
   },
   {
    "duration": 16,
    "start_time": "2021-12-27T06:36:21.580Z"
   },
   {
    "duration": 8,
    "start_time": "2021-12-27T06:36:21.599Z"
   },
   {
    "duration": 52,
    "start_time": "2021-12-27T06:36:21.610Z"
   },
   {
    "duration": 8,
    "start_time": "2021-12-27T06:36:21.665Z"
   },
   {
    "duration": 6,
    "start_time": "2021-12-27T06:36:21.675Z"
   },
   {
    "duration": 6,
    "start_time": "2021-12-27T06:36:21.684Z"
   },
   {
    "duration": 27,
    "start_time": "2021-12-27T06:36:21.692Z"
   },
   {
    "duration": 45,
    "start_time": "2021-12-27T06:36:21.721Z"
   },
   {
    "duration": 15,
    "start_time": "2021-12-27T06:36:21.769Z"
   },
   {
    "duration": 76,
    "start_time": "2021-12-27T06:36:21.786Z"
   },
   {
    "duration": 55,
    "start_time": "2021-12-27T06:36:21.865Z"
   },
   {
    "duration": 7,
    "start_time": "2021-12-27T06:36:21.922Z"
   },
   {
    "duration": 45,
    "start_time": "2021-12-27T06:36:21.932Z"
   },
   {
    "duration": 1139,
    "start_time": "2021-12-27T06:36:21.979Z"
   },
   {
    "duration": 564,
    "start_time": "2021-12-27T06:36:23.120Z"
   },
   {
    "duration": 609,
    "start_time": "2021-12-27T06:36:23.686Z"
   },
   {
    "duration": 615,
    "start_time": "2021-12-27T06:36:24.298Z"
   },
   {
    "duration": 613,
    "start_time": "2021-12-27T06:36:24.915Z"
   },
   {
    "duration": 703,
    "start_time": "2021-12-27T06:36:25.536Z"
   },
   {
    "duration": 645,
    "start_time": "2021-12-27T06:36:26.242Z"
   },
   {
    "duration": 569,
    "start_time": "2021-12-27T06:36:26.890Z"
   },
   {
    "duration": 561,
    "start_time": "2021-12-27T06:36:27.462Z"
   },
   {
    "duration": 576,
    "start_time": "2021-12-27T06:36:28.025Z"
   },
   {
    "duration": 998,
    "start_time": "2021-12-27T06:36:28.604Z"
   },
   {
    "duration": 975,
    "start_time": "2021-12-27T06:36:29.604Z"
   },
   {
    "duration": 624,
    "start_time": "2021-12-27T06:36:30.581Z"
   },
   {
    "duration": 16,
    "start_time": "2021-12-27T06:36:31.208Z"
   },
   {
    "duration": 461,
    "start_time": "2021-12-27T06:36:31.227Z"
   },
   {
    "duration": 13,
    "start_time": "2021-12-27T06:36:31.691Z"
   },
   {
    "duration": 11,
    "start_time": "2021-12-27T06:36:31.707Z"
   },
   {
    "duration": 45,
    "start_time": "2021-12-27T06:36:31.721Z"
   },
   {
    "duration": 28,
    "start_time": "2021-12-27T06:36:31.769Z"
   },
   {
    "duration": 459,
    "start_time": "2021-12-27T06:36:31.800Z"
   },
   {
    "duration": 11,
    "start_time": "2021-12-27T06:36:32.261Z"
   },
   {
    "duration": 13,
    "start_time": "2021-12-27T06:36:32.275Z"
   },
   {
    "duration": 10,
    "start_time": "2021-12-27T06:36:32.290Z"
   },
   {
    "duration": 59,
    "start_time": "2021-12-27T06:36:32.309Z"
   },
   {
    "duration": 423,
    "start_time": "2021-12-27T06:36:32.371Z"
   },
   {
    "duration": 11,
    "start_time": "2021-12-27T06:36:32.796Z"
   },
   {
    "duration": 8,
    "start_time": "2021-12-27T06:36:32.810Z"
   },
   {
    "duration": 49,
    "start_time": "2021-12-27T06:36:32.821Z"
   },
   {
    "duration": 417,
    "start_time": "2021-12-27T06:36:32.872Z"
   },
   {
    "duration": 11,
    "start_time": "2021-12-27T06:36:33.291Z"
   },
   {
    "duration": 8,
    "start_time": "2021-12-27T06:36:33.304Z"
   },
   {
    "duration": 46,
    "start_time": "2021-12-27T06:36:33.315Z"
   },
   {
    "duration": 6,
    "start_time": "2021-12-27T06:36:33.364Z"
   },
   {
    "duration": 6,
    "start_time": "2021-12-27T06:36:33.372Z"
   },
   {
    "duration": 7,
    "start_time": "2021-12-27T06:36:33.380Z"
   },
   {
    "duration": 393,
    "start_time": "2021-12-27T06:36:33.389Z"
   },
   {
    "duration": 712,
    "start_time": "2021-12-27T06:36:33.784Z"
   },
   {
    "duration": 569,
    "start_time": "2021-12-27T06:36:34.498Z"
   },
   {
    "duration": 437,
    "start_time": "2021-12-27T06:36:35.070Z"
   },
   {
    "duration": 9,
    "start_time": "2021-12-27T06:36:35.509Z"
   },
   {
    "duration": 57,
    "start_time": "2021-12-27T06:36:35.520Z"
   },
   {
    "duration": 49,
    "start_time": "2021-12-27T06:36:35.579Z"
   },
   {
    "duration": 62,
    "start_time": "2021-12-27T06:36:35.631Z"
   },
   {
    "duration": 26,
    "start_time": "2021-12-27T06:36:35.695Z"
   },
   {
    "duration": 374,
    "start_time": "2021-12-27T06:36:35.723Z"
   },
   {
    "duration": 70,
    "start_time": "2021-12-27T06:36:36.100Z"
   },
   {
    "duration": 348,
    "start_time": "2021-12-27T06:36:36.172Z"
   },
   {
    "duration": 331,
    "start_time": "2021-12-27T06:36:36.522Z"
   },
   {
    "duration": 340,
    "start_time": "2021-12-27T06:36:36.855Z"
   },
   {
    "duration": 329,
    "start_time": "2021-12-27T06:36:37.198Z"
   },
   {
    "duration": 7,
    "start_time": "2021-12-27T06:36:37.530Z"
   },
   {
    "duration": 22,
    "start_time": "2021-12-27T06:36:37.540Z"
   },
   {
    "duration": 13,
    "start_time": "2021-12-27T06:36:37.565Z"
   },
   {
    "duration": 369,
    "start_time": "2021-12-27T06:36:37.581Z"
   },
   {
    "duration": 590,
    "start_time": "2021-12-27T06:36:37.953Z"
   },
   {
    "duration": 477,
    "start_time": "2021-12-27T06:36:38.545Z"
   },
   {
    "duration": 414,
    "start_time": "2021-12-27T06:36:39.024Z"
   }
  ],
  "kernelspec": {
   "display_name": "Python 3 (ipykernel)",
   "language": "python",
   "name": "python3"
  },
  "language_info": {
   "codemirror_mode": {
    "name": "ipython",
    "version": 3
   },
   "file_extension": ".py",
   "mimetype": "text/x-python",
   "name": "python",
   "nbconvert_exporter": "python",
   "pygments_lexer": "ipython3",
   "version": "3.7.8"
  },
  "toc": {
   "base_numbering": 1,
   "nav_menu": {},
   "number_sections": true,
   "sideBar": true,
   "skip_h1_title": true,
   "title_cell": "Содержание",
   "title_sidebar": "Contents",
   "toc_cell": true,
   "toc_position": {},
   "toc_section_display": true,
   "toc_window_display": true
  }
 },
 "nbformat": 4,
 "nbformat_minor": 2
}
