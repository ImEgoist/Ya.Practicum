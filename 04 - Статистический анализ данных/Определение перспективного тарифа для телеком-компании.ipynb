{
 "cells": [
  {
   "cell_type": "markdown",
   "metadata": {},
   "source": [
    "## Знакомство с данными"
   ]
  },
  {
   "cell_type": "markdown",
   "metadata": {},
   "source": [
    "Нужно проанализировать поведение клиентов и сделать выбор, какой из двух тарифов лучше. Клиентам предлагают два тарифных плана: «Смарт» и «Ультра». Чтобы скорректировать рекламный бюджет, коммерческий департамент хочет понять, какой тариф приносит больше денег.\n",
    "\n",
    "Нам предстоит сделать предварительный анализ тарифов на небольшой выборке клиентов. В нашем распоряжении данные 500 пользователей «Мегалайна»: кто они, откуда, каким тарифом пользуются, сколько звонков и сообщений каждый отправил за 2018 год. Нужно проанализировать поведение клиентов и сделать вывод — какой тариф лучше."
   ]
  },
  {
   "cell_type": "markdown",
   "metadata": {},
   "source": [
    "### Описание тарифов\n",
    "\n",
    "__Тариф «Смарт»__\n",
    "- Ежемесячная плата: 550 рублей\n",
    "- Включено 500 минут разговора, 50 сообщений и 15 Гб интернет-трафика\n",
    "- Стоимость услуг сверх тарифного пакета:\n",
    "    - минута разговора: 3 рубля\n",
    "    - сообщение: 3 рубля\n",
    "    - 1 Гб интернет-трафика: 200 рублей\n",
    "    \n",
    "__Тариф «Ультра»__\n",
    "- Ежемесячная плата: 1950 рублей\n",
    "- Включено 3000 минут разговора, 1000 сообщений и 30 Гб интернет-трафика\n",
    "- Стоимость услуг сверх тарифного пакета:\n",
    "    - минута разговора: 1 рубль\n",
    "    - сообщение: 1 рубль\n",
    "    - 1 Гб интернет-трафика: 150 рублей\n",
    "    \n",
    "__Примечание__\n",
    "«Мегалайн» всегда округляет секунды до минут, а мегабайты — до гигабайт. Каждый звонок округляется отдельно: даже если он длился всего 1 секунду, будет засчитан как 1 минута.\n",
    "Для веб-трафика отдельные сессии не считаются. Вместо этого общая сумма за месяц округляется в бо́льшую сторону. Если абонент использует 1025 мегабайт в этом месяце, с него возьмут плату за 2 гигабайта. Примите, что неиспользованные за предыдущий месяц звонки, смс, интернет на следующий месяц не переносятся."
   ]
  },
  {
   "cell_type": "markdown",
   "metadata": {},
   "source": [
    "### Описание данных\n",
    "\n",
    "Таблица __users__ (информация о пользователях):\n",
    "- user_id — уникальный идентификатор пользователя\n",
    "- first_name — имя пользователя\n",
    "- last_name — фамилия пользователя\n",
    "- age — возраст пользователя (годы)\n",
    "- reg_date — дата подключения тарифа (день, месяц, год)\n",
    "- churn_date — дата прекращения пользования тарифом (если значение пропущено, то тариф ещё действовал на момент выгрузки данных)\n",
    "- city — город проживания пользователя\n",
    "- tariff — название тарифного плана\n",
    "\n",
    "Таблица **calls** (информация о звонках):\n",
    "- id — уникальный номер звонка\n",
    "- call_date — дата звонка\n",
    "- duration — длительность звонка в минутах\n",
    "- user_id — идентификатор пользователя, сделавшего звонок\n",
    "\n",
    "Таблица **messages** (информация о сообщениях):\n",
    "- id — уникальный номер сообщения\n",
    "- message_date — дата сообщения\n",
    "- user_id — идентификатор пользователя, отправившего сообщение\n",
    "\n",
    "Таблица **internet** (информация об интернет-сессиях):\n",
    "- id — уникальный номер сессии\n",
    "- mb_used — объём потраченного за сессию интернет-трафика (в мегабайтах)\n",
    "- session_date — дата интернет-сессии\n",
    "- user_id — идентификатор пользователя\n",
    "\n",
    "Таблица **tariffs** (информация о тарифах):\n",
    "- tariff_name — название тарифа\n",
    "- rub_monthly_fee — ежемесячная абонентская плата в рублях\n",
    "- minutes_included — количество минут разговора в месяц, включённых в абонентскую плату\n",
    "- messages_included — количество сообщений в месяц, включённых в абонентскую плату\n",
    "- mb_per_month_included — объём интернет-трафика, включённого в абонентскую плату (в мегабайтах)\n",
    "- rub_per_minute — стоимость минуты разговора сверх тарифного пакета (например, если в тарифе 100 минут разговора в месяц, то со 101 минуты будет взиматься плата)\n",
    "- rub_per_message — стоимость отправки сообщения сверх тарифного пакета\n",
    "- rub_per_gb — стоимость дополнительного гигабайта интернет-трафика сверх тарифного пакета (1 гигабайт = 1024 мегабайта)"
   ]
  },
  {
   "cell_type": "markdown",
   "metadata": {},
   "source": [
    "### Знакомство с данными"
   ]
  },
  {
   "cell_type": "markdown",
   "metadata": {},
   "source": [
    "Для начала импортируем все необходимые библиотеки."
   ]
  },
  {
   "cell_type": "code",
   "execution_count": 2,
   "metadata": {},
   "outputs": [],
   "source": [
    "import pandas as pd\n",
    "from scipy import stats as st\n",
    "import numpy as np\n",
    "import matplotlib.pyplot as plt\n",
    "import warnings\n",
    "\n",
    "warnings.filterwarnings('ignore')\n",
    "pd.set_option('display.max_columns', None)"
   ]
  },
  {
   "cell_type": "markdown",
   "metadata": {},
   "source": [
    "Приступим к изучению данных файлов"
   ]
  },
  {
   "cell_type": "code",
   "execution_count": 3,
   "metadata": {},
   "outputs": [],
   "source": [
    "try: \n",
    "    calls = pd.read_csv('/datasets/calls.csv')\n",
    "    internet = pd.read_csv('/datasets/internet.csv')\n",
    "    messages = pd.read_csv('/datasets/messages.csv')\n",
    "    tariffs = pd.read_csv('/datasets/tariffs.csv')\n",
    "    users = pd.read_csv('/datasets/users.csv')\n",
    "except: \n",
    "    calls = pd.read_csv('calls.csv')\n",
    "    internet = pd.read_csv('internet.csv')\n",
    "    messages = pd.read_csv('messages.csv')\n",
    "    tariffs = pd.read_csv('tariffs.csv')\n",
    "    users = pd.read_csv('users.csv')"
   ]
  },
  {
   "cell_type": "markdown",
   "metadata": {},
   "source": [
    "Напишем функцию, которая обработает каждый датасет и выведет по нему информацию."
   ]
  },
  {
   "cell_type": "code",
   "execution_count": 4,
   "metadata": {},
   "outputs": [],
   "source": [
    "def information(data):\n",
    "    display(data.info())\n",
    "    display(data.head(15))\n",
    "    print('Выявлено дубликатов:', data.duplicated().sum())"
   ]
  },
  {
   "cell_type": "code",
   "execution_count": 5,
   "metadata": {},
   "outputs": [
    {
     "name": "stdout",
     "output_type": "stream",
     "text": [
      "<class 'pandas.core.frame.DataFrame'>\n",
      "RangeIndex: 500 entries, 0 to 499\n",
      "Data columns (total 8 columns):\n",
      "user_id       500 non-null int64\n",
      "age           500 non-null int64\n",
      "churn_date    38 non-null object\n",
      "city          500 non-null object\n",
      "first_name    500 non-null object\n",
      "last_name     500 non-null object\n",
      "reg_date      500 non-null object\n",
      "tariff        500 non-null object\n",
      "dtypes: int64(2), object(6)\n",
      "memory usage: 31.4+ KB\n"
     ]
    },
    {
     "data": {
      "text/plain": [
       "None"
      ]
     },
     "metadata": {},
     "output_type": "display_data"
    },
    {
     "data": {
      "text/html": [
       "<div>\n",
       "<style scoped>\n",
       "    .dataframe tbody tr th:only-of-type {\n",
       "        vertical-align: middle;\n",
       "    }\n",
       "\n",
       "    .dataframe tbody tr th {\n",
       "        vertical-align: top;\n",
       "    }\n",
       "\n",
       "    .dataframe thead th {\n",
       "        text-align: right;\n",
       "    }\n",
       "</style>\n",
       "<table border=\"1\" class=\"dataframe\">\n",
       "  <thead>\n",
       "    <tr style=\"text-align: right;\">\n",
       "      <th></th>\n",
       "      <th>user_id</th>\n",
       "      <th>age</th>\n",
       "      <th>churn_date</th>\n",
       "      <th>city</th>\n",
       "      <th>first_name</th>\n",
       "      <th>last_name</th>\n",
       "      <th>reg_date</th>\n",
       "      <th>tariff</th>\n",
       "    </tr>\n",
       "  </thead>\n",
       "  <tbody>\n",
       "    <tr>\n",
       "      <td>0</td>\n",
       "      <td>1000</td>\n",
       "      <td>52</td>\n",
       "      <td>NaN</td>\n",
       "      <td>Краснодар</td>\n",
       "      <td>Рафаил</td>\n",
       "      <td>Верещагин</td>\n",
       "      <td>2018-05-25</td>\n",
       "      <td>ultra</td>\n",
       "    </tr>\n",
       "    <tr>\n",
       "      <td>1</td>\n",
       "      <td>1001</td>\n",
       "      <td>41</td>\n",
       "      <td>NaN</td>\n",
       "      <td>Москва</td>\n",
       "      <td>Иван</td>\n",
       "      <td>Ежов</td>\n",
       "      <td>2018-11-01</td>\n",
       "      <td>smart</td>\n",
       "    </tr>\n",
       "    <tr>\n",
       "      <td>2</td>\n",
       "      <td>1002</td>\n",
       "      <td>59</td>\n",
       "      <td>NaN</td>\n",
       "      <td>Стерлитамак</td>\n",
       "      <td>Евгений</td>\n",
       "      <td>Абрамович</td>\n",
       "      <td>2018-06-17</td>\n",
       "      <td>smart</td>\n",
       "    </tr>\n",
       "    <tr>\n",
       "      <td>3</td>\n",
       "      <td>1003</td>\n",
       "      <td>23</td>\n",
       "      <td>NaN</td>\n",
       "      <td>Москва</td>\n",
       "      <td>Белла</td>\n",
       "      <td>Белякова</td>\n",
       "      <td>2018-08-17</td>\n",
       "      <td>ultra</td>\n",
       "    </tr>\n",
       "    <tr>\n",
       "      <td>4</td>\n",
       "      <td>1004</td>\n",
       "      <td>68</td>\n",
       "      <td>NaN</td>\n",
       "      <td>Новокузнецк</td>\n",
       "      <td>Татьяна</td>\n",
       "      <td>Авдеенко</td>\n",
       "      <td>2018-05-14</td>\n",
       "      <td>ultra</td>\n",
       "    </tr>\n",
       "    <tr>\n",
       "      <td>5</td>\n",
       "      <td>1005</td>\n",
       "      <td>67</td>\n",
       "      <td>NaN</td>\n",
       "      <td>Набережные Челны</td>\n",
       "      <td>Афанасий</td>\n",
       "      <td>Горлов</td>\n",
       "      <td>2018-01-25</td>\n",
       "      <td>smart</td>\n",
       "    </tr>\n",
       "    <tr>\n",
       "      <td>6</td>\n",
       "      <td>1006</td>\n",
       "      <td>21</td>\n",
       "      <td>NaN</td>\n",
       "      <td>Ульяновск</td>\n",
       "      <td>Леонид</td>\n",
       "      <td>Ермолаев</td>\n",
       "      <td>2018-02-26</td>\n",
       "      <td>smart</td>\n",
       "    </tr>\n",
       "    <tr>\n",
       "      <td>7</td>\n",
       "      <td>1007</td>\n",
       "      <td>65</td>\n",
       "      <td>NaN</td>\n",
       "      <td>Москва</td>\n",
       "      <td>Юна</td>\n",
       "      <td>Березина</td>\n",
       "      <td>2018-04-19</td>\n",
       "      <td>smart</td>\n",
       "    </tr>\n",
       "    <tr>\n",
       "      <td>8</td>\n",
       "      <td>1008</td>\n",
       "      <td>63</td>\n",
       "      <td>NaN</td>\n",
       "      <td>Челябинск</td>\n",
       "      <td>Рустэм</td>\n",
       "      <td>Пономарёв</td>\n",
       "      <td>2018-12-19</td>\n",
       "      <td>smart</td>\n",
       "    </tr>\n",
       "    <tr>\n",
       "      <td>9</td>\n",
       "      <td>1009</td>\n",
       "      <td>24</td>\n",
       "      <td>NaN</td>\n",
       "      <td>Пермь</td>\n",
       "      <td>Василиса</td>\n",
       "      <td>Блинова</td>\n",
       "      <td>2018-03-22</td>\n",
       "      <td>smart</td>\n",
       "    </tr>\n",
       "    <tr>\n",
       "      <td>10</td>\n",
       "      <td>1010</td>\n",
       "      <td>26</td>\n",
       "      <td>NaN</td>\n",
       "      <td>Тюмень</td>\n",
       "      <td>Эдуард</td>\n",
       "      <td>Кононов</td>\n",
       "      <td>2018-08-05</td>\n",
       "      <td>smart</td>\n",
       "    </tr>\n",
       "    <tr>\n",
       "      <td>11</td>\n",
       "      <td>1011</td>\n",
       "      <td>44</td>\n",
       "      <td>NaN</td>\n",
       "      <td>Самара</td>\n",
       "      <td>Веселина</td>\n",
       "      <td>Алёшко</td>\n",
       "      <td>2018-03-19</td>\n",
       "      <td>smart</td>\n",
       "    </tr>\n",
       "    <tr>\n",
       "      <td>12</td>\n",
       "      <td>1012</td>\n",
       "      <td>38</td>\n",
       "      <td>NaN</td>\n",
       "      <td>Санкт-Петербург</td>\n",
       "      <td>Варлам</td>\n",
       "      <td>Соловьев</td>\n",
       "      <td>2018-03-28</td>\n",
       "      <td>smart</td>\n",
       "    </tr>\n",
       "    <tr>\n",
       "      <td>13</td>\n",
       "      <td>1013</td>\n",
       "      <td>36</td>\n",
       "      <td>NaN</td>\n",
       "      <td>Иваново</td>\n",
       "      <td>Борис</td>\n",
       "      <td>Андреенко</td>\n",
       "      <td>2018-11-14</td>\n",
       "      <td>ultra</td>\n",
       "    </tr>\n",
       "    <tr>\n",
       "      <td>14</td>\n",
       "      <td>1014</td>\n",
       "      <td>64</td>\n",
       "      <td>NaN</td>\n",
       "      <td>Чебоксары</td>\n",
       "      <td>Яков</td>\n",
       "      <td>Акинфьев</td>\n",
       "      <td>2018-05-15</td>\n",
       "      <td>smart</td>\n",
       "    </tr>\n",
       "  </tbody>\n",
       "</table>\n",
       "</div>"
      ],
      "text/plain": [
       "    user_id  age churn_date              city first_name  last_name  \\\n",
       "0      1000   52        NaN         Краснодар     Рафаил  Верещагин   \n",
       "1      1001   41        NaN            Москва       Иван       Ежов   \n",
       "2      1002   59        NaN       Стерлитамак    Евгений  Абрамович   \n",
       "3      1003   23        NaN            Москва      Белла   Белякова   \n",
       "4      1004   68        NaN       Новокузнецк    Татьяна   Авдеенко   \n",
       "5      1005   67        NaN  Набережные Челны   Афанасий     Горлов   \n",
       "6      1006   21        NaN         Ульяновск     Леонид   Ермолаев   \n",
       "7      1007   65        NaN            Москва        Юна   Березина   \n",
       "8      1008   63        NaN         Челябинск     Рустэм  Пономарёв   \n",
       "9      1009   24        NaN             Пермь   Василиса    Блинова   \n",
       "10     1010   26        NaN            Тюмень     Эдуард    Кононов   \n",
       "11     1011   44        NaN            Самара   Веселина     Алёшко   \n",
       "12     1012   38        NaN   Санкт-Петербург     Варлам   Соловьев   \n",
       "13     1013   36        NaN           Иваново      Борис  Андреенко   \n",
       "14     1014   64        NaN         Чебоксары       Яков   Акинфьев   \n",
       "\n",
       "      reg_date tariff  \n",
       "0   2018-05-25  ultra  \n",
       "1   2018-11-01  smart  \n",
       "2   2018-06-17  smart  \n",
       "3   2018-08-17  ultra  \n",
       "4   2018-05-14  ultra  \n",
       "5   2018-01-25  smart  \n",
       "6   2018-02-26  smart  \n",
       "7   2018-04-19  smart  \n",
       "8   2018-12-19  smart  \n",
       "9   2018-03-22  smart  \n",
       "10  2018-08-05  smart  \n",
       "11  2018-03-19  smart  \n",
       "12  2018-03-28  smart  \n",
       "13  2018-11-14  ultra  \n",
       "14  2018-05-15  smart  "
      ]
     },
     "metadata": {},
     "output_type": "display_data"
    },
    {
     "name": "stdout",
     "output_type": "stream",
     "text": [
      "Выявлено дубликатов: 0\n"
     ]
    }
   ],
   "source": [
    "information(users)"
   ]
  },
  {
   "cell_type": "markdown",
   "metadata": {},
   "source": [
    "В колонке churn_date всего 38 значений, но это значит лишь, что абоненты не меняли свой тариф за время наблюдения."
   ]
  },
  {
   "cell_type": "code",
   "execution_count": 6,
   "metadata": {},
   "outputs": [
    {
     "data": {
      "text/plain": [
       "Москва             99\n",
       "Санкт-Петербург    39\n",
       "Новосибирск        16\n",
       "Омск               14\n",
       "Казань             14\n",
       "                   ..\n",
       "Нижневартовск       1\n",
       "Иваново             1\n",
       "Химки               1\n",
       "Подольск            1\n",
       "Архангельск         1\n",
       "Name: city, Length: 76, dtype: int64"
      ]
     },
     "execution_count": 6,
     "metadata": {},
     "output_type": "execute_result"
    }
   ],
   "source": [
    "users['city'].value_counts()"
   ]
  },
  {
   "cell_type": "markdown",
   "metadata": {},
   "source": [
    "Не заполненных значений в городах нет, мы знаем, где живут наши клиенты."
   ]
  },
  {
   "cell_type": "code",
   "execution_count": 7,
   "metadata": {},
   "outputs": [
    {
     "name": "stdout",
     "output_type": "stream",
     "text": [
      "<class 'pandas.core.frame.DataFrame'>\n",
      "RangeIndex: 202607 entries, 0 to 202606\n",
      "Data columns (total 4 columns):\n",
      "id           202607 non-null object\n",
      "call_date    202607 non-null object\n",
      "duration     202607 non-null float64\n",
      "user_id      202607 non-null int64\n",
      "dtypes: float64(1), int64(1), object(2)\n",
      "memory usage: 6.2+ MB\n"
     ]
    },
    {
     "data": {
      "text/plain": [
       "None"
      ]
     },
     "metadata": {},
     "output_type": "display_data"
    },
    {
     "data": {
      "text/html": [
       "<div>\n",
       "<style scoped>\n",
       "    .dataframe tbody tr th:only-of-type {\n",
       "        vertical-align: middle;\n",
       "    }\n",
       "\n",
       "    .dataframe tbody tr th {\n",
       "        vertical-align: top;\n",
       "    }\n",
       "\n",
       "    .dataframe thead th {\n",
       "        text-align: right;\n",
       "    }\n",
       "</style>\n",
       "<table border=\"1\" class=\"dataframe\">\n",
       "  <thead>\n",
       "    <tr style=\"text-align: right;\">\n",
       "      <th></th>\n",
       "      <th>id</th>\n",
       "      <th>call_date</th>\n",
       "      <th>duration</th>\n",
       "      <th>user_id</th>\n",
       "    </tr>\n",
       "  </thead>\n",
       "  <tbody>\n",
       "    <tr>\n",
       "      <td>0</td>\n",
       "      <td>1000_0</td>\n",
       "      <td>2018-07-25</td>\n",
       "      <td>0.00</td>\n",
       "      <td>1000</td>\n",
       "    </tr>\n",
       "    <tr>\n",
       "      <td>1</td>\n",
       "      <td>1000_1</td>\n",
       "      <td>2018-08-17</td>\n",
       "      <td>0.00</td>\n",
       "      <td>1000</td>\n",
       "    </tr>\n",
       "    <tr>\n",
       "      <td>2</td>\n",
       "      <td>1000_2</td>\n",
       "      <td>2018-06-11</td>\n",
       "      <td>2.85</td>\n",
       "      <td>1000</td>\n",
       "    </tr>\n",
       "    <tr>\n",
       "      <td>3</td>\n",
       "      <td>1000_3</td>\n",
       "      <td>2018-09-21</td>\n",
       "      <td>13.80</td>\n",
       "      <td>1000</td>\n",
       "    </tr>\n",
       "    <tr>\n",
       "      <td>4</td>\n",
       "      <td>1000_4</td>\n",
       "      <td>2018-12-15</td>\n",
       "      <td>5.18</td>\n",
       "      <td>1000</td>\n",
       "    </tr>\n",
       "    <tr>\n",
       "      <td>5</td>\n",
       "      <td>1000_5</td>\n",
       "      <td>2018-11-02</td>\n",
       "      <td>0.00</td>\n",
       "      <td>1000</td>\n",
       "    </tr>\n",
       "    <tr>\n",
       "      <td>6</td>\n",
       "      <td>1000_6</td>\n",
       "      <td>2018-10-18</td>\n",
       "      <td>0.00</td>\n",
       "      <td>1000</td>\n",
       "    </tr>\n",
       "    <tr>\n",
       "      <td>7</td>\n",
       "      <td>1000_7</td>\n",
       "      <td>2018-08-22</td>\n",
       "      <td>18.31</td>\n",
       "      <td>1000</td>\n",
       "    </tr>\n",
       "    <tr>\n",
       "      <td>8</td>\n",
       "      <td>1000_8</td>\n",
       "      <td>2018-09-15</td>\n",
       "      <td>18.44</td>\n",
       "      <td>1000</td>\n",
       "    </tr>\n",
       "    <tr>\n",
       "      <td>9</td>\n",
       "      <td>1000_9</td>\n",
       "      <td>2018-08-15</td>\n",
       "      <td>0.00</td>\n",
       "      <td>1000</td>\n",
       "    </tr>\n",
       "    <tr>\n",
       "      <td>10</td>\n",
       "      <td>1000_10</td>\n",
       "      <td>2018-08-22</td>\n",
       "      <td>5.03</td>\n",
       "      <td>1000</td>\n",
       "    </tr>\n",
       "    <tr>\n",
       "      <td>11</td>\n",
       "      <td>1000_11</td>\n",
       "      <td>2018-05-28</td>\n",
       "      <td>18.82</td>\n",
       "      <td>1000</td>\n",
       "    </tr>\n",
       "    <tr>\n",
       "      <td>12</td>\n",
       "      <td>1000_12</td>\n",
       "      <td>2018-07-05</td>\n",
       "      <td>2.02</td>\n",
       "      <td>1000</td>\n",
       "    </tr>\n",
       "    <tr>\n",
       "      <td>13</td>\n",
       "      <td>1000_13</td>\n",
       "      <td>2018-09-29</td>\n",
       "      <td>7.15</td>\n",
       "      <td>1000</td>\n",
       "    </tr>\n",
       "    <tr>\n",
       "      <td>14</td>\n",
       "      <td>1000_14</td>\n",
       "      <td>2018-12-11</td>\n",
       "      <td>9.13</td>\n",
       "      <td>1000</td>\n",
       "    </tr>\n",
       "  </tbody>\n",
       "</table>\n",
       "</div>"
      ],
      "text/plain": [
       "         id   call_date  duration  user_id\n",
       "0    1000_0  2018-07-25      0.00     1000\n",
       "1    1000_1  2018-08-17      0.00     1000\n",
       "2    1000_2  2018-06-11      2.85     1000\n",
       "3    1000_3  2018-09-21     13.80     1000\n",
       "4    1000_4  2018-12-15      5.18     1000\n",
       "5    1000_5  2018-11-02      0.00     1000\n",
       "6    1000_6  2018-10-18      0.00     1000\n",
       "7    1000_7  2018-08-22     18.31     1000\n",
       "8    1000_8  2018-09-15     18.44     1000\n",
       "9    1000_9  2018-08-15      0.00     1000\n",
       "10  1000_10  2018-08-22      5.03     1000\n",
       "11  1000_11  2018-05-28     18.82     1000\n",
       "12  1000_12  2018-07-05      2.02     1000\n",
       "13  1000_13  2018-09-29      7.15     1000\n",
       "14  1000_14  2018-12-11      9.13     1000"
      ]
     },
     "metadata": {},
     "output_type": "display_data"
    },
    {
     "name": "stdout",
     "output_type": "stream",
     "text": [
      "Выявлено дубликатов: 0\n"
     ]
    }
   ],
   "source": [
    "information(calls)"
   ]
  },
  {
   "cell_type": "code",
   "execution_count": 8,
   "metadata": {},
   "outputs": [
    {
     "name": "stdout",
     "output_type": "stream",
     "text": [
      "<class 'pandas.core.frame.DataFrame'>\n",
      "RangeIndex: 123036 entries, 0 to 123035\n",
      "Data columns (total 3 columns):\n",
      "id              123036 non-null object\n",
      "message_date    123036 non-null object\n",
      "user_id         123036 non-null int64\n",
      "dtypes: int64(1), object(2)\n",
      "memory usage: 2.8+ MB\n"
     ]
    },
    {
     "data": {
      "text/plain": [
       "None"
      ]
     },
     "metadata": {},
     "output_type": "display_data"
    },
    {
     "data": {
      "text/html": [
       "<div>\n",
       "<style scoped>\n",
       "    .dataframe tbody tr th:only-of-type {\n",
       "        vertical-align: middle;\n",
       "    }\n",
       "\n",
       "    .dataframe tbody tr th {\n",
       "        vertical-align: top;\n",
       "    }\n",
       "\n",
       "    .dataframe thead th {\n",
       "        text-align: right;\n",
       "    }\n",
       "</style>\n",
       "<table border=\"1\" class=\"dataframe\">\n",
       "  <thead>\n",
       "    <tr style=\"text-align: right;\">\n",
       "      <th></th>\n",
       "      <th>id</th>\n",
       "      <th>message_date</th>\n",
       "      <th>user_id</th>\n",
       "    </tr>\n",
       "  </thead>\n",
       "  <tbody>\n",
       "    <tr>\n",
       "      <td>0</td>\n",
       "      <td>1000_0</td>\n",
       "      <td>2018-06-27</td>\n",
       "      <td>1000</td>\n",
       "    </tr>\n",
       "    <tr>\n",
       "      <td>1</td>\n",
       "      <td>1000_1</td>\n",
       "      <td>2018-10-08</td>\n",
       "      <td>1000</td>\n",
       "    </tr>\n",
       "    <tr>\n",
       "      <td>2</td>\n",
       "      <td>1000_2</td>\n",
       "      <td>2018-08-04</td>\n",
       "      <td>1000</td>\n",
       "    </tr>\n",
       "    <tr>\n",
       "      <td>3</td>\n",
       "      <td>1000_3</td>\n",
       "      <td>2018-06-16</td>\n",
       "      <td>1000</td>\n",
       "    </tr>\n",
       "    <tr>\n",
       "      <td>4</td>\n",
       "      <td>1000_4</td>\n",
       "      <td>2018-12-05</td>\n",
       "      <td>1000</td>\n",
       "    </tr>\n",
       "    <tr>\n",
       "      <td>5</td>\n",
       "      <td>1000_5</td>\n",
       "      <td>2018-06-20</td>\n",
       "      <td>1000</td>\n",
       "    </tr>\n",
       "    <tr>\n",
       "      <td>6</td>\n",
       "      <td>1000_6</td>\n",
       "      <td>2018-11-19</td>\n",
       "      <td>1000</td>\n",
       "    </tr>\n",
       "    <tr>\n",
       "      <td>7</td>\n",
       "      <td>1000_7</td>\n",
       "      <td>2018-10-29</td>\n",
       "      <td>1000</td>\n",
       "    </tr>\n",
       "    <tr>\n",
       "      <td>8</td>\n",
       "      <td>1000_8</td>\n",
       "      <td>2018-06-25</td>\n",
       "      <td>1000</td>\n",
       "    </tr>\n",
       "    <tr>\n",
       "      <td>9</td>\n",
       "      <td>1000_9</td>\n",
       "      <td>2018-12-18</td>\n",
       "      <td>1000</td>\n",
       "    </tr>\n",
       "    <tr>\n",
       "      <td>10</td>\n",
       "      <td>1000_10</td>\n",
       "      <td>2018-05-30</td>\n",
       "      <td>1000</td>\n",
       "    </tr>\n",
       "    <tr>\n",
       "      <td>11</td>\n",
       "      <td>1000_11</td>\n",
       "      <td>2018-07-06</td>\n",
       "      <td>1000</td>\n",
       "    </tr>\n",
       "    <tr>\n",
       "      <td>12</td>\n",
       "      <td>1000_12</td>\n",
       "      <td>2018-08-20</td>\n",
       "      <td>1000</td>\n",
       "    </tr>\n",
       "    <tr>\n",
       "      <td>13</td>\n",
       "      <td>1000_13</td>\n",
       "      <td>2018-10-30</td>\n",
       "      <td>1000</td>\n",
       "    </tr>\n",
       "    <tr>\n",
       "      <td>14</td>\n",
       "      <td>1000_14</td>\n",
       "      <td>2018-09-14</td>\n",
       "      <td>1000</td>\n",
       "    </tr>\n",
       "  </tbody>\n",
       "</table>\n",
       "</div>"
      ],
      "text/plain": [
       "         id message_date  user_id\n",
       "0    1000_0   2018-06-27     1000\n",
       "1    1000_1   2018-10-08     1000\n",
       "2    1000_2   2018-08-04     1000\n",
       "3    1000_3   2018-06-16     1000\n",
       "4    1000_4   2018-12-05     1000\n",
       "5    1000_5   2018-06-20     1000\n",
       "6    1000_6   2018-11-19     1000\n",
       "7    1000_7   2018-10-29     1000\n",
       "8    1000_8   2018-06-25     1000\n",
       "9    1000_9   2018-12-18     1000\n",
       "10  1000_10   2018-05-30     1000\n",
       "11  1000_11   2018-07-06     1000\n",
       "12  1000_12   2018-08-20     1000\n",
       "13  1000_13   2018-10-30     1000\n",
       "14  1000_14   2018-09-14     1000"
      ]
     },
     "metadata": {},
     "output_type": "display_data"
    },
    {
     "name": "stdout",
     "output_type": "stream",
     "text": [
      "Выявлено дубликатов: 0\n"
     ]
    }
   ],
   "source": [
    "information(messages)"
   ]
  },
  {
   "cell_type": "code",
   "execution_count": 9,
   "metadata": {},
   "outputs": [
    {
     "name": "stdout",
     "output_type": "stream",
     "text": [
      "<class 'pandas.core.frame.DataFrame'>\n",
      "RangeIndex: 149396 entries, 0 to 149395\n",
      "Data columns (total 5 columns):\n",
      "Unnamed: 0      149396 non-null int64\n",
      "id              149396 non-null object\n",
      "mb_used         149396 non-null float64\n",
      "session_date    149396 non-null object\n",
      "user_id         149396 non-null int64\n",
      "dtypes: float64(1), int64(2), object(2)\n",
      "memory usage: 5.7+ MB\n"
     ]
    },
    {
     "data": {
      "text/plain": [
       "None"
      ]
     },
     "metadata": {},
     "output_type": "display_data"
    },
    {
     "data": {
      "text/html": [
       "<div>\n",
       "<style scoped>\n",
       "    .dataframe tbody tr th:only-of-type {\n",
       "        vertical-align: middle;\n",
       "    }\n",
       "\n",
       "    .dataframe tbody tr th {\n",
       "        vertical-align: top;\n",
       "    }\n",
       "\n",
       "    .dataframe thead th {\n",
       "        text-align: right;\n",
       "    }\n",
       "</style>\n",
       "<table border=\"1\" class=\"dataframe\">\n",
       "  <thead>\n",
       "    <tr style=\"text-align: right;\">\n",
       "      <th></th>\n",
       "      <th>Unnamed: 0</th>\n",
       "      <th>id</th>\n",
       "      <th>mb_used</th>\n",
       "      <th>session_date</th>\n",
       "      <th>user_id</th>\n",
       "    </tr>\n",
       "  </thead>\n",
       "  <tbody>\n",
       "    <tr>\n",
       "      <td>0</td>\n",
       "      <td>0</td>\n",
       "      <td>1000_0</td>\n",
       "      <td>112.95</td>\n",
       "      <td>2018-11-25</td>\n",
       "      <td>1000</td>\n",
       "    </tr>\n",
       "    <tr>\n",
       "      <td>1</td>\n",
       "      <td>1</td>\n",
       "      <td>1000_1</td>\n",
       "      <td>1052.81</td>\n",
       "      <td>2018-09-07</td>\n",
       "      <td>1000</td>\n",
       "    </tr>\n",
       "    <tr>\n",
       "      <td>2</td>\n",
       "      <td>2</td>\n",
       "      <td>1000_2</td>\n",
       "      <td>1197.26</td>\n",
       "      <td>2018-06-25</td>\n",
       "      <td>1000</td>\n",
       "    </tr>\n",
       "    <tr>\n",
       "      <td>3</td>\n",
       "      <td>3</td>\n",
       "      <td>1000_3</td>\n",
       "      <td>550.27</td>\n",
       "      <td>2018-08-22</td>\n",
       "      <td>1000</td>\n",
       "    </tr>\n",
       "    <tr>\n",
       "      <td>4</td>\n",
       "      <td>4</td>\n",
       "      <td>1000_4</td>\n",
       "      <td>302.56</td>\n",
       "      <td>2018-09-24</td>\n",
       "      <td>1000</td>\n",
       "    </tr>\n",
       "    <tr>\n",
       "      <td>5</td>\n",
       "      <td>5</td>\n",
       "      <td>1000_5</td>\n",
       "      <td>399.97</td>\n",
       "      <td>2018-10-02</td>\n",
       "      <td>1000</td>\n",
       "    </tr>\n",
       "    <tr>\n",
       "      <td>6</td>\n",
       "      <td>6</td>\n",
       "      <td>1000_6</td>\n",
       "      <td>540.08</td>\n",
       "      <td>2018-09-07</td>\n",
       "      <td>1000</td>\n",
       "    </tr>\n",
       "    <tr>\n",
       "      <td>7</td>\n",
       "      <td>7</td>\n",
       "      <td>1000_7</td>\n",
       "      <td>415.70</td>\n",
       "      <td>2018-07-11</td>\n",
       "      <td>1000</td>\n",
       "    </tr>\n",
       "    <tr>\n",
       "      <td>8</td>\n",
       "      <td>8</td>\n",
       "      <td>1000_8</td>\n",
       "      <td>505.40</td>\n",
       "      <td>2018-10-08</td>\n",
       "      <td>1000</td>\n",
       "    </tr>\n",
       "    <tr>\n",
       "      <td>9</td>\n",
       "      <td>9</td>\n",
       "      <td>1000_9</td>\n",
       "      <td>345.54</td>\n",
       "      <td>2018-09-03</td>\n",
       "      <td>1000</td>\n",
       "    </tr>\n",
       "    <tr>\n",
       "      <td>10</td>\n",
       "      <td>10</td>\n",
       "      <td>1000_10</td>\n",
       "      <td>385.14</td>\n",
       "      <td>2018-09-27</td>\n",
       "      <td>1000</td>\n",
       "    </tr>\n",
       "    <tr>\n",
       "      <td>11</td>\n",
       "      <td>11</td>\n",
       "      <td>1000_11</td>\n",
       "      <td>0.00</td>\n",
       "      <td>2018-08-28</td>\n",
       "      <td>1000</td>\n",
       "    </tr>\n",
       "    <tr>\n",
       "      <td>12</td>\n",
       "      <td>12</td>\n",
       "      <td>1000_12</td>\n",
       "      <td>375.87</td>\n",
       "      <td>2018-06-20</td>\n",
       "      <td>1000</td>\n",
       "    </tr>\n",
       "    <tr>\n",
       "      <td>13</td>\n",
       "      <td>13</td>\n",
       "      <td>1000_13</td>\n",
       "      <td>393.83</td>\n",
       "      <td>2018-08-09</td>\n",
       "      <td>1000</td>\n",
       "    </tr>\n",
       "    <tr>\n",
       "      <td>14</td>\n",
       "      <td>14</td>\n",
       "      <td>1000_14</td>\n",
       "      <td>180.64</td>\n",
       "      <td>2018-08-11</td>\n",
       "      <td>1000</td>\n",
       "    </tr>\n",
       "  </tbody>\n",
       "</table>\n",
       "</div>"
      ],
      "text/plain": [
       "    Unnamed: 0       id  mb_used session_date  user_id\n",
       "0            0   1000_0   112.95   2018-11-25     1000\n",
       "1            1   1000_1  1052.81   2018-09-07     1000\n",
       "2            2   1000_2  1197.26   2018-06-25     1000\n",
       "3            3   1000_3   550.27   2018-08-22     1000\n",
       "4            4   1000_4   302.56   2018-09-24     1000\n",
       "5            5   1000_5   399.97   2018-10-02     1000\n",
       "6            6   1000_6   540.08   2018-09-07     1000\n",
       "7            7   1000_7   415.70   2018-07-11     1000\n",
       "8            8   1000_8   505.40   2018-10-08     1000\n",
       "9            9   1000_9   345.54   2018-09-03     1000\n",
       "10          10  1000_10   385.14   2018-09-27     1000\n",
       "11          11  1000_11     0.00   2018-08-28     1000\n",
       "12          12  1000_12   375.87   2018-06-20     1000\n",
       "13          13  1000_13   393.83   2018-08-09     1000\n",
       "14          14  1000_14   180.64   2018-08-11     1000"
      ]
     },
     "metadata": {},
     "output_type": "display_data"
    },
    {
     "name": "stdout",
     "output_type": "stream",
     "text": [
      "Выявлено дубликатов: 0\n"
     ]
    }
   ],
   "source": [
    "information(internet)"
   ]
  },
  {
   "cell_type": "markdown",
   "metadata": {},
   "source": [
    "Понятно, для каждого пользователя дана детализация его действий. "
   ]
  },
  {
   "cell_type": "code",
   "execution_count": 10,
   "metadata": {},
   "outputs": [
    {
     "name": "stdout",
     "output_type": "stream",
     "text": [
      "<class 'pandas.core.frame.DataFrame'>\n",
      "RangeIndex: 2 entries, 0 to 1\n",
      "Data columns (total 8 columns):\n",
      "messages_included        2 non-null int64\n",
      "mb_per_month_included    2 non-null int64\n",
      "minutes_included         2 non-null int64\n",
      "rub_monthly_fee          2 non-null int64\n",
      "rub_per_gb               2 non-null int64\n",
      "rub_per_message          2 non-null int64\n",
      "rub_per_minute           2 non-null int64\n",
      "tariff_name              2 non-null object\n",
      "dtypes: int64(7), object(1)\n",
      "memory usage: 256.0+ bytes\n"
     ]
    },
    {
     "data": {
      "text/plain": [
       "None"
      ]
     },
     "metadata": {},
     "output_type": "display_data"
    },
    {
     "data": {
      "text/html": [
       "<div>\n",
       "<style scoped>\n",
       "    .dataframe tbody tr th:only-of-type {\n",
       "        vertical-align: middle;\n",
       "    }\n",
       "\n",
       "    .dataframe tbody tr th {\n",
       "        vertical-align: top;\n",
       "    }\n",
       "\n",
       "    .dataframe thead th {\n",
       "        text-align: right;\n",
       "    }\n",
       "</style>\n",
       "<table border=\"1\" class=\"dataframe\">\n",
       "  <thead>\n",
       "    <tr style=\"text-align: right;\">\n",
       "      <th></th>\n",
       "      <th>messages_included</th>\n",
       "      <th>mb_per_month_included</th>\n",
       "      <th>minutes_included</th>\n",
       "      <th>rub_monthly_fee</th>\n",
       "      <th>rub_per_gb</th>\n",
       "      <th>rub_per_message</th>\n",
       "      <th>rub_per_minute</th>\n",
       "      <th>tariff_name</th>\n",
       "    </tr>\n",
       "  </thead>\n",
       "  <tbody>\n",
       "    <tr>\n",
       "      <td>0</td>\n",
       "      <td>50</td>\n",
       "      <td>15360</td>\n",
       "      <td>500</td>\n",
       "      <td>550</td>\n",
       "      <td>200</td>\n",
       "      <td>3</td>\n",
       "      <td>3</td>\n",
       "      <td>smart</td>\n",
       "    </tr>\n",
       "    <tr>\n",
       "      <td>1</td>\n",
       "      <td>1000</td>\n",
       "      <td>30720</td>\n",
       "      <td>3000</td>\n",
       "      <td>1950</td>\n",
       "      <td>150</td>\n",
       "      <td>1</td>\n",
       "      <td>1</td>\n",
       "      <td>ultra</td>\n",
       "    </tr>\n",
       "  </tbody>\n",
       "</table>\n",
       "</div>"
      ],
      "text/plain": [
       "   messages_included  mb_per_month_included  minutes_included  \\\n",
       "0                 50                  15360               500   \n",
       "1               1000                  30720              3000   \n",
       "\n",
       "   rub_monthly_fee  rub_per_gb  rub_per_message  rub_per_minute tariff_name  \n",
       "0              550         200                3               3       smart  \n",
       "1             1950         150                1               1       ultra  "
      ]
     },
     "metadata": {},
     "output_type": "display_data"
    },
    {
     "name": "stdout",
     "output_type": "stream",
     "text": [
      "Выявлено дубликатов: 0\n"
     ]
    }
   ],
   "source": [
    "information(tariffs)"
   ]
  },
  {
   "cell_type": "markdown",
   "metadata": {},
   "source": [
    "Посмотрим наглядное распределение пользователей по тарифам."
   ]
  },
  {
   "cell_type": "code",
   "execution_count": 11,
   "metadata": {},
   "outputs": [
    {
     "data": {
      "text/plain": [
       "<matplotlib.axes._subplots.AxesSubplot at 0x20cdc098fc8>"
      ]
     },
     "execution_count": 11,
     "metadata": {},
     "output_type": "execute_result"
    },
    {
     "data": {
      "image/png": "[encoded data removed]",
      "text/plain": [
       "<Figure size 504x360 with 1 Axes>"
      ]
     },
     "metadata": {},
     "output_type": "display_data"
    }
   ],
   "source": [
    "users['tariff'].value_counts().plot(kind='pie', autopct='%1.f%%', figsize=(7,5))"
   ]
  },
  {
   "cell_type": "markdown",
   "metadata": {},
   "source": [
    "### Вывод\n",
    "\n",
    "На первый взгляд информация в датасетах кажется хорошей, полной.\n",
    "\n",
    "В датасете с интернетом лишняя колонка с индексами. Надо будет убрать. Во всех таблицах поменять формат столбца даты на DateTime.\n",
    "\n",
    "Явных дубликатов в таблицах не обнаружено."
   ]
  },
  {
   "cell_type": "markdown",
   "metadata": {},
   "source": [
    "## Предобработка данных"
   ]
  },
  {
   "cell_type": "markdown",
   "metadata": {},
   "source": [
    "### Замена типов данных"
   ]
  },
  {
   "cell_type": "markdown",
   "metadata": {},
   "source": [
    "Начнём с замены типов данных в колонках с датами на формат DateTime."
   ]
  },
  {
   "cell_type": "code",
   "execution_count": 12,
   "metadata": {},
   "outputs": [
    {
     "name": "stdout",
     "output_type": "stream",
     "text": [
      "<class 'pandas.core.frame.DataFrame'>\n",
      "RangeIndex: 500 entries, 0 to 499\n",
      "Data columns (total 8 columns):\n",
      "user_id       500 non-null int64\n",
      "age           500 non-null int64\n",
      "churn_date    38 non-null object\n",
      "city          500 non-null object\n",
      "first_name    500 non-null object\n",
      "last_name     500 non-null object\n",
      "reg_date      500 non-null datetime64[ns]\n",
      "tariff        500 non-null object\n",
      "dtypes: datetime64[ns](1), int64(2), object(5)\n",
      "memory usage: 31.4+ KB\n"
     ]
    }
   ],
   "source": [
    "users['reg_date'] = pd.to_datetime(users['reg_date'], format = '%Y.%m.%d')\n",
    "users.info()"
   ]
  },
  {
   "cell_type": "code",
   "execution_count": 13,
   "metadata": {
    "scrolled": true
   },
   "outputs": [
    {
     "name": "stdout",
     "output_type": "stream",
     "text": [
      "<class 'pandas.core.frame.DataFrame'>\n",
      "RangeIndex: 202607 entries, 0 to 202606\n",
      "Data columns (total 4 columns):\n",
      "id           202607 non-null object\n",
      "call_date    202607 non-null datetime64[ns]\n",
      "duration     202607 non-null float64\n",
      "user_id      202607 non-null int64\n",
      "dtypes: datetime64[ns](1), float64(1), int64(1), object(1)\n",
      "memory usage: 6.2+ MB\n"
     ]
    }
   ],
   "source": [
    "calls['call_date'] = pd.to_datetime(calls['call_date'], format = '%Y.%m.%d')\n",
    "calls.info()"
   ]
  },
  {
   "cell_type": "code",
   "execution_count": 14,
   "metadata": {
    "scrolled": false
   },
   "outputs": [
    {
     "name": "stdout",
     "output_type": "stream",
     "text": [
      "<class 'pandas.core.frame.DataFrame'>\n",
      "RangeIndex: 123036 entries, 0 to 123035\n",
      "Data columns (total 3 columns):\n",
      "id              123036 non-null object\n",
      "message_date    123036 non-null datetime64[ns]\n",
      "user_id         123036 non-null int64\n",
      "dtypes: datetime64[ns](1), int64(1), object(1)\n",
      "memory usage: 2.8+ MB\n"
     ]
    }
   ],
   "source": [
    "messages['message_date'] = pd.to_datetime(messages['message_date'], format = '%Y.%m.%d')\n",
    "messages.info()"
   ]
  },
  {
   "cell_type": "code",
   "execution_count": 15,
   "metadata": {},
   "outputs": [
    {
     "name": "stdout",
     "output_type": "stream",
     "text": [
      "<class 'pandas.core.frame.DataFrame'>\n",
      "RangeIndex: 149396 entries, 0 to 149395\n",
      "Data columns (total 5 columns):\n",
      "Unnamed: 0      149396 non-null int64\n",
      "id              149396 non-null object\n",
      "mb_used         149396 non-null float64\n",
      "session_date    149396 non-null datetime64[ns]\n",
      "user_id         149396 non-null int64\n",
      "dtypes: datetime64[ns](1), float64(1), int64(2), object(1)\n",
      "memory usage: 5.7+ MB\n"
     ]
    }
   ],
   "source": [
    "internet['session_date'] = pd.to_datetime(internet['session_date'], format = '%Y.%m.%d')\n",
    "internet.info()"
   ]
  },
  {
   "cell_type": "markdown",
   "metadata": {},
   "source": [
    "Теперь всё в порядке."
   ]
  },
  {
   "cell_type": "markdown",
   "metadata": {},
   "source": [
    "### Поиск ошибок"
   ]
  },
  {
   "cell_type": "markdown",
   "metadata": {},
   "source": [
    "Поищем нулевые значения в звонках и интернетах."
   ]
  },
  {
   "cell_type": "code",
   "execution_count": 16,
   "metadata": {},
   "outputs": [
    {
     "data": {
      "text/plain": [
       "39613"
      ]
     },
     "execution_count": 16,
     "metadata": {},
     "output_type": "execute_result"
    }
   ],
   "source": [
    "calls[calls['duration'] == 0.00]['duration'].count()"
   ]
  },
  {
   "cell_type": "code",
   "execution_count": 17,
   "metadata": {},
   "outputs": [
    {
     "data": {
      "text/plain": [
       "19.551644316336553"
      ]
     },
     "execution_count": 17,
     "metadata": {},
     "output_type": "execute_result"
    }
   ],
   "source": [
    "calls[calls['duration'] == 0.00]['duration'].count() / len(calls['duration']) * 100"
   ]
  },
  {
   "cell_type": "markdown",
   "metadata": {},
   "source": [
    "В наших наблюдениях 20% нулевых звонков."
   ]
  },
  {
   "cell_type": "code",
   "execution_count": 18,
   "metadata": {},
   "outputs": [
    {
     "data": {
      "text/plain": [
       "19598"
      ]
     },
     "execution_count": 18,
     "metadata": {},
     "output_type": "execute_result"
    }
   ],
   "source": [
    "internet[internet['mb_used'] == 0.00]['mb_used'].count()"
   ]
  },
  {
   "cell_type": "code",
   "execution_count": 19,
   "metadata": {},
   "outputs": [
    {
     "data": {
      "text/plain": [
       "13.118155773916303"
      ]
     },
     "execution_count": 19,
     "metadata": {},
     "output_type": "execute_result"
    }
   ],
   "source": [
    "internet[internet['mb_used'] == 0.00]['mb_used'].count() / len(internet['mb_used']) * 100"
   ]
  },
  {
   "cell_type": "markdown",
   "metadata": {},
   "source": [
    "И 13% нулевых интернетов. Сильно пугаться не будем, примем нулевые звонки - пропущенными, а нулевые интернеты - ошибочными сессиями. Двигаемся дальше."
   ]
  },
  {
   "cell_type": "markdown",
   "metadata": {},
   "source": [
    "Удалим лишний столбец в таблице интернет."
   ]
  },
  {
   "cell_type": "code",
   "execution_count": 20,
   "metadata": {},
   "outputs": [
    {
     "data": {
      "text/html": [
       "<div>\n",
       "<style scoped>\n",
       "    .dataframe tbody tr th:only-of-type {\n",
       "        vertical-align: middle;\n",
       "    }\n",
       "\n",
       "    .dataframe tbody tr th {\n",
       "        vertical-align: top;\n",
       "    }\n",
       "\n",
       "    .dataframe thead th {\n",
       "        text-align: right;\n",
       "    }\n",
       "</style>\n",
       "<table border=\"1\" class=\"dataframe\">\n",
       "  <thead>\n",
       "    <tr style=\"text-align: right;\">\n",
       "      <th></th>\n",
       "      <th>id</th>\n",
       "      <th>mb_used</th>\n",
       "      <th>session_date</th>\n",
       "      <th>user_id</th>\n",
       "    </tr>\n",
       "  </thead>\n",
       "  <tbody>\n",
       "    <tr>\n",
       "      <td>0</td>\n",
       "      <td>1000_0</td>\n",
       "      <td>112.95</td>\n",
       "      <td>2018-11-25</td>\n",
       "      <td>1000</td>\n",
       "    </tr>\n",
       "    <tr>\n",
       "      <td>1</td>\n",
       "      <td>1000_1</td>\n",
       "      <td>1052.81</td>\n",
       "      <td>2018-09-07</td>\n",
       "      <td>1000</td>\n",
       "    </tr>\n",
       "    <tr>\n",
       "      <td>2</td>\n",
       "      <td>1000_2</td>\n",
       "      <td>1197.26</td>\n",
       "      <td>2018-06-25</td>\n",
       "      <td>1000</td>\n",
       "    </tr>\n",
       "    <tr>\n",
       "      <td>3</td>\n",
       "      <td>1000_3</td>\n",
       "      <td>550.27</td>\n",
       "      <td>2018-08-22</td>\n",
       "      <td>1000</td>\n",
       "    </tr>\n",
       "    <tr>\n",
       "      <td>4</td>\n",
       "      <td>1000_4</td>\n",
       "      <td>302.56</td>\n",
       "      <td>2018-09-24</td>\n",
       "      <td>1000</td>\n",
       "    </tr>\n",
       "  </tbody>\n",
       "</table>\n",
       "</div>"
      ],
      "text/plain": [
       "       id  mb_used session_date  user_id\n",
       "0  1000_0   112.95   2018-11-25     1000\n",
       "1  1000_1  1052.81   2018-09-07     1000\n",
       "2  1000_2  1197.26   2018-06-25     1000\n",
       "3  1000_3   550.27   2018-08-22     1000\n",
       "4  1000_4   302.56   2018-09-24     1000"
      ]
     },
     "execution_count": 20,
     "metadata": {},
     "output_type": "execute_result"
    }
   ],
   "source": [
    "internet = internet.drop(['Unnamed: 0'], axis = 1)\n",
    "internet.head()"
   ]
  },
  {
   "cell_type": "markdown",
   "metadata": {},
   "source": [
    "Не будем удалять нулевые значения, пусть остаются."
   ]
  },
  {
   "cell_type": "markdown",
   "metadata": {},
   "source": [
    "### Подготовка таблиц"
   ]
  },
  {
   "cell_type": "markdown",
   "metadata": {},
   "source": [
    "Для начала надо округлить все минуты и мегабайты вверх, как это делается по правилам компании."
   ]
  },
  {
   "cell_type": "code",
   "execution_count": 21,
   "metadata": {},
   "outputs": [
    {
     "data": {
      "text/html": [
       "<div>\n",
       "<style scoped>\n",
       "    .dataframe tbody tr th:only-of-type {\n",
       "        vertical-align: middle;\n",
       "    }\n",
       "\n",
       "    .dataframe tbody tr th {\n",
       "        vertical-align: top;\n",
       "    }\n",
       "\n",
       "    .dataframe thead th {\n",
       "        text-align: right;\n",
       "    }\n",
       "</style>\n",
       "<table border=\"1\" class=\"dataframe\">\n",
       "  <thead>\n",
       "    <tr style=\"text-align: right;\">\n",
       "      <th></th>\n",
       "      <th>id</th>\n",
       "      <th>call_date</th>\n",
       "      <th>duration</th>\n",
       "      <th>user_id</th>\n",
       "      <th>month</th>\n",
       "    </tr>\n",
       "  </thead>\n",
       "  <tbody>\n",
       "    <tr>\n",
       "      <td>0</td>\n",
       "      <td>1000_0</td>\n",
       "      <td>2018-07-25</td>\n",
       "      <td>0.0</td>\n",
       "      <td>1000</td>\n",
       "      <td>7</td>\n",
       "    </tr>\n",
       "    <tr>\n",
       "      <td>1</td>\n",
       "      <td>1000_1</td>\n",
       "      <td>2018-08-17</td>\n",
       "      <td>0.0</td>\n",
       "      <td>1000</td>\n",
       "      <td>8</td>\n",
       "    </tr>\n",
       "    <tr>\n",
       "      <td>2</td>\n",
       "      <td>1000_2</td>\n",
       "      <td>2018-06-11</td>\n",
       "      <td>3.0</td>\n",
       "      <td>1000</td>\n",
       "      <td>6</td>\n",
       "    </tr>\n",
       "    <tr>\n",
       "      <td>3</td>\n",
       "      <td>1000_3</td>\n",
       "      <td>2018-09-21</td>\n",
       "      <td>14.0</td>\n",
       "      <td>1000</td>\n",
       "      <td>9</td>\n",
       "    </tr>\n",
       "    <tr>\n",
       "      <td>4</td>\n",
       "      <td>1000_4</td>\n",
       "      <td>2018-12-15</td>\n",
       "      <td>6.0</td>\n",
       "      <td>1000</td>\n",
       "      <td>12</td>\n",
       "    </tr>\n",
       "  </tbody>\n",
       "</table>\n",
       "</div>"
      ],
      "text/plain": [
       "       id  call_date  duration  user_id  month\n",
       "0  1000_0 2018-07-25       0.0     1000      7\n",
       "1  1000_1 2018-08-17       0.0     1000      8\n",
       "2  1000_2 2018-06-11       3.0     1000      6\n",
       "3  1000_3 2018-09-21      14.0     1000      9\n",
       "4  1000_4 2018-12-15       6.0     1000     12"
      ]
     },
     "execution_count": 21,
     "metadata": {},
     "output_type": "execute_result"
    }
   ],
   "source": [
    "calls['month'] = pd.DatetimeIndex(calls['call_date']).month\n",
    "calls['duration'] = np.ceil(calls['duration'])\n",
    "calls.head()"
   ]
  },
  {
   "cell_type": "code",
   "execution_count": 22,
   "metadata": {},
   "outputs": [
    {
     "data": {
      "text/html": [
       "<div>\n",
       "<style scoped>\n",
       "    .dataframe tbody tr th:only-of-type {\n",
       "        vertical-align: middle;\n",
       "    }\n",
       "\n",
       "    .dataframe tbody tr th {\n",
       "        vertical-align: top;\n",
       "    }\n",
       "\n",
       "    .dataframe thead th {\n",
       "        text-align: right;\n",
       "    }\n",
       "</style>\n",
       "<table border=\"1\" class=\"dataframe\">\n",
       "  <thead>\n",
       "    <tr style=\"text-align: right;\">\n",
       "      <th></th>\n",
       "      <th>id</th>\n",
       "      <th>mb_used</th>\n",
       "      <th>session_date</th>\n",
       "      <th>user_id</th>\n",
       "      <th>month</th>\n",
       "    </tr>\n",
       "  </thead>\n",
       "  <tbody>\n",
       "    <tr>\n",
       "      <td>0</td>\n",
       "      <td>1000_0</td>\n",
       "      <td>113.0</td>\n",
       "      <td>2018-11-25</td>\n",
       "      <td>1000</td>\n",
       "      <td>11</td>\n",
       "    </tr>\n",
       "    <tr>\n",
       "      <td>1</td>\n",
       "      <td>1000_1</td>\n",
       "      <td>1053.0</td>\n",
       "      <td>2018-09-07</td>\n",
       "      <td>1000</td>\n",
       "      <td>9</td>\n",
       "    </tr>\n",
       "    <tr>\n",
       "      <td>2</td>\n",
       "      <td>1000_2</td>\n",
       "      <td>1198.0</td>\n",
       "      <td>2018-06-25</td>\n",
       "      <td>1000</td>\n",
       "      <td>6</td>\n",
       "    </tr>\n",
       "    <tr>\n",
       "      <td>3</td>\n",
       "      <td>1000_3</td>\n",
       "      <td>551.0</td>\n",
       "      <td>2018-08-22</td>\n",
       "      <td>1000</td>\n",
       "      <td>8</td>\n",
       "    </tr>\n",
       "    <tr>\n",
       "      <td>4</td>\n",
       "      <td>1000_4</td>\n",
       "      <td>303.0</td>\n",
       "      <td>2018-09-24</td>\n",
       "      <td>1000</td>\n",
       "      <td>9</td>\n",
       "    </tr>\n",
       "  </tbody>\n",
       "</table>\n",
       "</div>"
      ],
      "text/plain": [
       "       id  mb_used session_date  user_id  month\n",
       "0  1000_0    113.0   2018-11-25     1000     11\n",
       "1  1000_1   1053.0   2018-09-07     1000      9\n",
       "2  1000_2   1198.0   2018-06-25     1000      6\n",
       "3  1000_3    551.0   2018-08-22     1000      8\n",
       "4  1000_4    303.0   2018-09-24     1000      9"
      ]
     },
     "execution_count": 22,
     "metadata": {},
     "output_type": "execute_result"
    }
   ],
   "source": [
    "internet['month'] = pd.DatetimeIndex(internet['session_date']).month\n",
    "internet['mb_used'] = np.ceil(internet['mb_used'])\n",
    "internet.head()"
   ]
  },
  {
   "cell_type": "code",
   "execution_count": 23,
   "metadata": {},
   "outputs": [
    {
     "data": {
      "text/html": [
       "<div>\n",
       "<style scoped>\n",
       "    .dataframe tbody tr th:only-of-type {\n",
       "        vertical-align: middle;\n",
       "    }\n",
       "\n",
       "    .dataframe tbody tr th {\n",
       "        vertical-align: top;\n",
       "    }\n",
       "\n",
       "    .dataframe thead th {\n",
       "        text-align: right;\n",
       "    }\n",
       "</style>\n",
       "<table border=\"1\" class=\"dataframe\">\n",
       "  <thead>\n",
       "    <tr style=\"text-align: right;\">\n",
       "      <th></th>\n",
       "      <th>id</th>\n",
       "      <th>message_date</th>\n",
       "      <th>user_id</th>\n",
       "      <th>month</th>\n",
       "    </tr>\n",
       "  </thead>\n",
       "  <tbody>\n",
       "    <tr>\n",
       "      <td>0</td>\n",
       "      <td>1000_0</td>\n",
       "      <td>2018-06-27</td>\n",
       "      <td>1000</td>\n",
       "      <td>6</td>\n",
       "    </tr>\n",
       "    <tr>\n",
       "      <td>1</td>\n",
       "      <td>1000_1</td>\n",
       "      <td>2018-10-08</td>\n",
       "      <td>1000</td>\n",
       "      <td>10</td>\n",
       "    </tr>\n",
       "    <tr>\n",
       "      <td>2</td>\n",
       "      <td>1000_2</td>\n",
       "      <td>2018-08-04</td>\n",
       "      <td>1000</td>\n",
       "      <td>8</td>\n",
       "    </tr>\n",
       "    <tr>\n",
       "      <td>3</td>\n",
       "      <td>1000_3</td>\n",
       "      <td>2018-06-16</td>\n",
       "      <td>1000</td>\n",
       "      <td>6</td>\n",
       "    </tr>\n",
       "    <tr>\n",
       "      <td>4</td>\n",
       "      <td>1000_4</td>\n",
       "      <td>2018-12-05</td>\n",
       "      <td>1000</td>\n",
       "      <td>12</td>\n",
       "    </tr>\n",
       "  </tbody>\n",
       "</table>\n",
       "</div>"
      ],
      "text/plain": [
       "       id message_date  user_id  month\n",
       "0  1000_0   2018-06-27     1000      6\n",
       "1  1000_1   2018-10-08     1000     10\n",
       "2  1000_2   2018-08-04     1000      8\n",
       "3  1000_3   2018-06-16     1000      6\n",
       "4  1000_4   2018-12-05     1000     12"
      ]
     },
     "execution_count": 23,
     "metadata": {},
     "output_type": "execute_result"
    }
   ],
   "source": [
    "messages['month'] = pd.DatetimeIndex(messages['message_date']).month\n",
    "messages.head()"
   ]
  },
  {
   "cell_type": "markdown",
   "metadata": {},
   "source": [
    "Теперь можно точно сказать, за сколько минут и мегабайтов пользователям начислили оплату."
   ]
  },
  {
   "cell_type": "markdown",
   "metadata": {},
   "source": [
    "### Подсчет данных для каждого пользователя\n"
   ]
  },
  {
   "cell_type": "markdown",
   "metadata": {},
   "source": [
    "С помощью метода pivot_table создадим сводные таблицы, в которых сгруппируем пользователей по месяцам и количеству израсходованных элементов."
   ]
  },
  {
   "cell_type": "code",
   "execution_count": 24,
   "metadata": {},
   "outputs": [
    {
     "data": {
      "text/html": [
       "<div>\n",
       "<style scoped>\n",
       "    .dataframe tbody tr th:only-of-type {\n",
       "        vertical-align: middle;\n",
       "    }\n",
       "\n",
       "    .dataframe tbody tr th {\n",
       "        vertical-align: top;\n",
       "    }\n",
       "\n",
       "    .dataframe thead th {\n",
       "        text-align: right;\n",
       "    }\n",
       "</style>\n",
       "<table border=\"1\" class=\"dataframe\">\n",
       "  <thead>\n",
       "    <tr style=\"text-align: right;\">\n",
       "      <th></th>\n",
       "      <th>user_id</th>\n",
       "      <th>month</th>\n",
       "      <th>duration</th>\n",
       "    </tr>\n",
       "  </thead>\n",
       "  <tbody>\n",
       "    <tr>\n",
       "      <td>0</td>\n",
       "      <td>1000</td>\n",
       "      <td>5</td>\n",
       "      <td>159.0</td>\n",
       "    </tr>\n",
       "    <tr>\n",
       "      <td>1</td>\n",
       "      <td>1000</td>\n",
       "      <td>6</td>\n",
       "      <td>172.0</td>\n",
       "    </tr>\n",
       "    <tr>\n",
       "      <td>2</td>\n",
       "      <td>1000</td>\n",
       "      <td>7</td>\n",
       "      <td>340.0</td>\n",
       "    </tr>\n",
       "    <tr>\n",
       "      <td>3</td>\n",
       "      <td>1000</td>\n",
       "      <td>8</td>\n",
       "      <td>408.0</td>\n",
       "    </tr>\n",
       "    <tr>\n",
       "      <td>4</td>\n",
       "      <td>1000</td>\n",
       "      <td>9</td>\n",
       "      <td>466.0</td>\n",
       "    </tr>\n",
       "  </tbody>\n",
       "</table>\n",
       "</div>"
      ],
      "text/plain": [
       "   user_id  month  duration\n",
       "0     1000      5     159.0\n",
       "1     1000      6     172.0\n",
       "2     1000      7     340.0\n",
       "3     1000      8     408.0\n",
       "4     1000      9     466.0"
      ]
     },
     "execution_count": 24,
     "metadata": {},
     "output_type": "execute_result"
    }
   ],
   "source": [
    "calls = calls.groupby(['user_id', 'month']).agg({'duration': 'sum'}).reset_index()\n",
    "calls.head()"
   ]
  },
  {
   "cell_type": "code",
   "execution_count": 25,
   "metadata": {},
   "outputs": [
    {
     "data": {
      "text/html": [
       "<div>\n",
       "<style scoped>\n",
       "    .dataframe tbody tr th:only-of-type {\n",
       "        vertical-align: middle;\n",
       "    }\n",
       "\n",
       "    .dataframe tbody tr th {\n",
       "        vertical-align: top;\n",
       "    }\n",
       "\n",
       "    .dataframe thead th {\n",
       "        text-align: right;\n",
       "    }\n",
       "</style>\n",
       "<table border=\"1\" class=\"dataframe\">\n",
       "  <thead>\n",
       "    <tr style=\"text-align: right;\">\n",
       "      <th></th>\n",
       "      <th>user_id</th>\n",
       "      <th>month</th>\n",
       "      <th>mb_used</th>\n",
       "    </tr>\n",
       "  </thead>\n",
       "  <tbody>\n",
       "    <tr>\n",
       "      <td>0</td>\n",
       "      <td>1000</td>\n",
       "      <td>5</td>\n",
       "      <td>2256.0</td>\n",
       "    </tr>\n",
       "    <tr>\n",
       "      <td>1</td>\n",
       "      <td>1000</td>\n",
       "      <td>6</td>\n",
       "      <td>23257.0</td>\n",
       "    </tr>\n",
       "    <tr>\n",
       "      <td>2</td>\n",
       "      <td>1000</td>\n",
       "      <td>7</td>\n",
       "      <td>14016.0</td>\n",
       "    </tr>\n",
       "    <tr>\n",
       "      <td>3</td>\n",
       "      <td>1000</td>\n",
       "      <td>8</td>\n",
       "      <td>14070.0</td>\n",
       "    </tr>\n",
       "    <tr>\n",
       "      <td>4</td>\n",
       "      <td>1000</td>\n",
       "      <td>9</td>\n",
       "      <td>14581.0</td>\n",
       "    </tr>\n",
       "  </tbody>\n",
       "</table>\n",
       "</div>"
      ],
      "text/plain": [
       "   user_id  month  mb_used\n",
       "0     1000      5   2256.0\n",
       "1     1000      6  23257.0\n",
       "2     1000      7  14016.0\n",
       "3     1000      8  14070.0\n",
       "4     1000      9  14581.0"
      ]
     },
     "execution_count": 25,
     "metadata": {},
     "output_type": "execute_result"
    }
   ],
   "source": [
    "internet = internet.groupby(['user_id', 'month']).agg({'mb_used': 'sum'}).reset_index()\n",
    "internet.head()"
   ]
  },
  {
   "cell_type": "code",
   "execution_count": 26,
   "metadata": {},
   "outputs": [
    {
     "data": {
      "text/html": [
       "<div>\n",
       "<style scoped>\n",
       "    .dataframe tbody tr th:only-of-type {\n",
       "        vertical-align: middle;\n",
       "    }\n",
       "\n",
       "    .dataframe tbody tr th {\n",
       "        vertical-align: top;\n",
       "    }\n",
       "\n",
       "    .dataframe thead th {\n",
       "        text-align: right;\n",
       "    }\n",
       "</style>\n",
       "<table border=\"1\" class=\"dataframe\">\n",
       "  <thead>\n",
       "    <tr style=\"text-align: right;\">\n",
       "      <th></th>\n",
       "      <th>user_id</th>\n",
       "      <th>month</th>\n",
       "      <th>messages</th>\n",
       "    </tr>\n",
       "  </thead>\n",
       "  <tbody>\n",
       "    <tr>\n",
       "      <td>0</td>\n",
       "      <td>1000</td>\n",
       "      <td>5</td>\n",
       "      <td>22</td>\n",
       "    </tr>\n",
       "    <tr>\n",
       "      <td>1</td>\n",
       "      <td>1000</td>\n",
       "      <td>6</td>\n",
       "      <td>60</td>\n",
       "    </tr>\n",
       "    <tr>\n",
       "      <td>2</td>\n",
       "      <td>1000</td>\n",
       "      <td>7</td>\n",
       "      <td>75</td>\n",
       "    </tr>\n",
       "    <tr>\n",
       "      <td>3</td>\n",
       "      <td>1000</td>\n",
       "      <td>8</td>\n",
       "      <td>81</td>\n",
       "    </tr>\n",
       "    <tr>\n",
       "      <td>4</td>\n",
       "      <td>1000</td>\n",
       "      <td>9</td>\n",
       "      <td>57</td>\n",
       "    </tr>\n",
       "  </tbody>\n",
       "</table>\n",
       "</div>"
      ],
      "text/plain": [
       "   user_id  month  messages\n",
       "0     1000      5        22\n",
       "1     1000      6        60\n",
       "2     1000      7        75\n",
       "3     1000      8        81\n",
       "4     1000      9        57"
      ]
     },
     "execution_count": 26,
     "metadata": {},
     "output_type": "execute_result"
    }
   ],
   "source": [
    "messages = messages.groupby(['user_id', 'month']).agg({'id': 'count'}).rename(columns = {'id': 'messages'}).reset_index()\n",
    "messages.head()"
   ]
  },
  {
   "cell_type": "markdown",
   "metadata": {},
   "source": [
    "У нас получилось разное количество строк в таблицах. Думаю, это связано с тем, что в некоторые месяцы пользователи не пользовались смсками, минутами и мегабайтами. Вот и получился ноль, который не посчитался."
   ]
  },
  {
   "cell_type": "markdown",
   "metadata": {},
   "source": [
    "По результатам сводных таблиц составим одну большую таблицу, в которую соберём все маленькие. И заполним пропуски нулями."
   ]
  },
  {
   "cell_type": "code",
   "execution_count": 27,
   "metadata": {},
   "outputs": [
    {
     "data": {
      "text/html": [
       "<div>\n",
       "<style scoped>\n",
       "    .dataframe tbody tr th:only-of-type {\n",
       "        vertical-align: middle;\n",
       "    }\n",
       "\n",
       "    .dataframe tbody tr th {\n",
       "        vertical-align: top;\n",
       "    }\n",
       "\n",
       "    .dataframe thead th {\n",
       "        text-align: right;\n",
       "    }\n",
       "</style>\n",
       "<table border=\"1\" class=\"dataframe\">\n",
       "  <thead>\n",
       "    <tr style=\"text-align: right;\">\n",
       "      <th></th>\n",
       "      <th>user_id</th>\n",
       "      <th>month</th>\n",
       "      <th>duration</th>\n",
       "      <th>mb_used</th>\n",
       "      <th>messages</th>\n",
       "      <th>age</th>\n",
       "      <th>churn_date</th>\n",
       "      <th>city</th>\n",
       "      <th>first_name</th>\n",
       "      <th>last_name</th>\n",
       "      <th>reg_date</th>\n",
       "      <th>tariff</th>\n",
       "      <th>messages_included</th>\n",
       "      <th>mb_per_month_included</th>\n",
       "      <th>minutes_included</th>\n",
       "      <th>rub_monthly_fee</th>\n",
       "      <th>rub_per_gb</th>\n",
       "      <th>rub_per_message</th>\n",
       "      <th>rub_per_minute</th>\n",
       "      <th>tariff_name</th>\n",
       "    </tr>\n",
       "  </thead>\n",
       "  <tbody>\n",
       "    <tr>\n",
       "      <td>0</td>\n",
       "      <td>1000</td>\n",
       "      <td>5</td>\n",
       "      <td>159.0</td>\n",
       "      <td>2256.0</td>\n",
       "      <td>22.0</td>\n",
       "      <td>52</td>\n",
       "      <td>NaN</td>\n",
       "      <td>Краснодар</td>\n",
       "      <td>Рафаил</td>\n",
       "      <td>Верещагин</td>\n",
       "      <td>2018-05-25</td>\n",
       "      <td>ultra</td>\n",
       "      <td>1000</td>\n",
       "      <td>30720</td>\n",
       "      <td>3000</td>\n",
       "      <td>1950</td>\n",
       "      <td>150</td>\n",
       "      <td>1</td>\n",
       "      <td>1</td>\n",
       "      <td>ultra</td>\n",
       "    </tr>\n",
       "    <tr>\n",
       "      <td>1</td>\n",
       "      <td>1000</td>\n",
       "      <td>6</td>\n",
       "      <td>172.0</td>\n",
       "      <td>23257.0</td>\n",
       "      <td>60.0</td>\n",
       "      <td>52</td>\n",
       "      <td>NaN</td>\n",
       "      <td>Краснодар</td>\n",
       "      <td>Рафаил</td>\n",
       "      <td>Верещагин</td>\n",
       "      <td>2018-05-25</td>\n",
       "      <td>ultra</td>\n",
       "      <td>1000</td>\n",
       "      <td>30720</td>\n",
       "      <td>3000</td>\n",
       "      <td>1950</td>\n",
       "      <td>150</td>\n",
       "      <td>1</td>\n",
       "      <td>1</td>\n",
       "      <td>ultra</td>\n",
       "    </tr>\n",
       "    <tr>\n",
       "      <td>2</td>\n",
       "      <td>1000</td>\n",
       "      <td>7</td>\n",
       "      <td>340.0</td>\n",
       "      <td>14016.0</td>\n",
       "      <td>75.0</td>\n",
       "      <td>52</td>\n",
       "      <td>NaN</td>\n",
       "      <td>Краснодар</td>\n",
       "      <td>Рафаил</td>\n",
       "      <td>Верещагин</td>\n",
       "      <td>2018-05-25</td>\n",
       "      <td>ultra</td>\n",
       "      <td>1000</td>\n",
       "      <td>30720</td>\n",
       "      <td>3000</td>\n",
       "      <td>1950</td>\n",
       "      <td>150</td>\n",
       "      <td>1</td>\n",
       "      <td>1</td>\n",
       "      <td>ultra</td>\n",
       "    </tr>\n",
       "    <tr>\n",
       "      <td>3</td>\n",
       "      <td>1000</td>\n",
       "      <td>8</td>\n",
       "      <td>408.0</td>\n",
       "      <td>14070.0</td>\n",
       "      <td>81.0</td>\n",
       "      <td>52</td>\n",
       "      <td>NaN</td>\n",
       "      <td>Краснодар</td>\n",
       "      <td>Рафаил</td>\n",
       "      <td>Верещагин</td>\n",
       "      <td>2018-05-25</td>\n",
       "      <td>ultra</td>\n",
       "      <td>1000</td>\n",
       "      <td>30720</td>\n",
       "      <td>3000</td>\n",
       "      <td>1950</td>\n",
       "      <td>150</td>\n",
       "      <td>1</td>\n",
       "      <td>1</td>\n",
       "      <td>ultra</td>\n",
       "    </tr>\n",
       "    <tr>\n",
       "      <td>4</td>\n",
       "      <td>1000</td>\n",
       "      <td>9</td>\n",
       "      <td>466.0</td>\n",
       "      <td>14581.0</td>\n",
       "      <td>57.0</td>\n",
       "      <td>52</td>\n",
       "      <td>NaN</td>\n",
       "      <td>Краснодар</td>\n",
       "      <td>Рафаил</td>\n",
       "      <td>Верещагин</td>\n",
       "      <td>2018-05-25</td>\n",
       "      <td>ultra</td>\n",
       "      <td>1000</td>\n",
       "      <td>30720</td>\n",
       "      <td>3000</td>\n",
       "      <td>1950</td>\n",
       "      <td>150</td>\n",
       "      <td>1</td>\n",
       "      <td>1</td>\n",
       "      <td>ultra</td>\n",
       "    </tr>\n",
       "    <tr>\n",
       "      <td>...</td>\n",
       "      <td>...</td>\n",
       "      <td>...</td>\n",
       "      <td>...</td>\n",
       "      <td>...</td>\n",
       "      <td>...</td>\n",
       "      <td>...</td>\n",
       "      <td>...</td>\n",
       "      <td>...</td>\n",
       "      <td>...</td>\n",
       "      <td>...</td>\n",
       "      <td>...</td>\n",
       "      <td>...</td>\n",
       "      <td>...</td>\n",
       "      <td>...</td>\n",
       "      <td>...</td>\n",
       "      <td>...</td>\n",
       "      <td>...</td>\n",
       "      <td>...</td>\n",
       "      <td>...</td>\n",
       "      <td>...</td>\n",
       "    </tr>\n",
       "    <tr>\n",
       "      <td>3209</td>\n",
       "      <td>1489</td>\n",
       "      <td>8</td>\n",
       "      <td>0.0</td>\n",
       "      <td>11066.0</td>\n",
       "      <td>17.0</td>\n",
       "      <td>35</td>\n",
       "      <td>NaN</td>\n",
       "      <td>Санкт-Петербург</td>\n",
       "      <td>Павел</td>\n",
       "      <td>Гончаров</td>\n",
       "      <td>2018-08-15</td>\n",
       "      <td>smart</td>\n",
       "      <td>50</td>\n",
       "      <td>15360</td>\n",
       "      <td>500</td>\n",
       "      <td>550</td>\n",
       "      <td>200</td>\n",
       "      <td>3</td>\n",
       "      <td>3</td>\n",
       "      <td>smart</td>\n",
       "    </tr>\n",
       "    <tr>\n",
       "      <td>3210</td>\n",
       "      <td>1489</td>\n",
       "      <td>9</td>\n",
       "      <td>0.0</td>\n",
       "      <td>17232.0</td>\n",
       "      <td>32.0</td>\n",
       "      <td>35</td>\n",
       "      <td>NaN</td>\n",
       "      <td>Санкт-Петербург</td>\n",
       "      <td>Павел</td>\n",
       "      <td>Гончаров</td>\n",
       "      <td>2018-08-15</td>\n",
       "      <td>smart</td>\n",
       "      <td>50</td>\n",
       "      <td>15360</td>\n",
       "      <td>500</td>\n",
       "      <td>550</td>\n",
       "      <td>200</td>\n",
       "      <td>3</td>\n",
       "      <td>3</td>\n",
       "      <td>smart</td>\n",
       "    </tr>\n",
       "    <tr>\n",
       "      <td>3211</td>\n",
       "      <td>1489</td>\n",
       "      <td>10</td>\n",
       "      <td>0.0</td>\n",
       "      <td>19588.0</td>\n",
       "      <td>21.0</td>\n",
       "      <td>35</td>\n",
       "      <td>NaN</td>\n",
       "      <td>Санкт-Петербург</td>\n",
       "      <td>Павел</td>\n",
       "      <td>Гончаров</td>\n",
       "      <td>2018-08-15</td>\n",
       "      <td>smart</td>\n",
       "      <td>50</td>\n",
       "      <td>15360</td>\n",
       "      <td>500</td>\n",
       "      <td>550</td>\n",
       "      <td>200</td>\n",
       "      <td>3</td>\n",
       "      <td>3</td>\n",
       "      <td>smart</td>\n",
       "    </tr>\n",
       "    <tr>\n",
       "      <td>3212</td>\n",
       "      <td>1489</td>\n",
       "      <td>11</td>\n",
       "      <td>0.0</td>\n",
       "      <td>17516.0</td>\n",
       "      <td>20.0</td>\n",
       "      <td>35</td>\n",
       "      <td>NaN</td>\n",
       "      <td>Санкт-Петербург</td>\n",
       "      <td>Павел</td>\n",
       "      <td>Гончаров</td>\n",
       "      <td>2018-08-15</td>\n",
       "      <td>smart</td>\n",
       "      <td>50</td>\n",
       "      <td>15360</td>\n",
       "      <td>500</td>\n",
       "      <td>550</td>\n",
       "      <td>200</td>\n",
       "      <td>3</td>\n",
       "      <td>3</td>\n",
       "      <td>smart</td>\n",
       "    </tr>\n",
       "    <tr>\n",
       "      <td>3213</td>\n",
       "      <td>1489</td>\n",
       "      <td>12</td>\n",
       "      <td>0.0</td>\n",
       "      <td>17341.0</td>\n",
       "      <td>35.0</td>\n",
       "      <td>35</td>\n",
       "      <td>NaN</td>\n",
       "      <td>Санкт-Петербург</td>\n",
       "      <td>Павел</td>\n",
       "      <td>Гончаров</td>\n",
       "      <td>2018-08-15</td>\n",
       "      <td>smart</td>\n",
       "      <td>50</td>\n",
       "      <td>15360</td>\n",
       "      <td>500</td>\n",
       "      <td>550</td>\n",
       "      <td>200</td>\n",
       "      <td>3</td>\n",
       "      <td>3</td>\n",
       "      <td>smart</td>\n",
       "    </tr>\n",
       "  </tbody>\n",
       "</table>\n",
       "<p>3214 rows × 20 columns</p>\n",
       "</div>"
      ],
      "text/plain": [
       "      user_id  month  duration  mb_used  messages  age churn_date  \\\n",
       "0        1000      5     159.0   2256.0      22.0   52        NaN   \n",
       "1        1000      6     172.0  23257.0      60.0   52        NaN   \n",
       "2        1000      7     340.0  14016.0      75.0   52        NaN   \n",
       "3        1000      8     408.0  14070.0      81.0   52        NaN   \n",
       "4        1000      9     466.0  14581.0      57.0   52        NaN   \n",
       "...       ...    ...       ...      ...       ...  ...        ...   \n",
       "3209     1489      8       0.0  11066.0      17.0   35        NaN   \n",
       "3210     1489      9       0.0  17232.0      32.0   35        NaN   \n",
       "3211     1489     10       0.0  19588.0      21.0   35        NaN   \n",
       "3212     1489     11       0.0  17516.0      20.0   35        NaN   \n",
       "3213     1489     12       0.0  17341.0      35.0   35        NaN   \n",
       "\n",
       "                 city first_name  last_name   reg_date tariff  \\\n",
       "0           Краснодар     Рафаил  Верещагин 2018-05-25  ultra   \n",
       "1           Краснодар     Рафаил  Верещагин 2018-05-25  ultra   \n",
       "2           Краснодар     Рафаил  Верещагин 2018-05-25  ultra   \n",
       "3           Краснодар     Рафаил  Верещагин 2018-05-25  ultra   \n",
       "4           Краснодар     Рафаил  Верещагин 2018-05-25  ultra   \n",
       "...               ...        ...        ...        ...    ...   \n",
       "3209  Санкт-Петербург      Павел   Гончаров 2018-08-15  smart   \n",
       "3210  Санкт-Петербург      Павел   Гончаров 2018-08-15  smart   \n",
       "3211  Санкт-Петербург      Павел   Гончаров 2018-08-15  smart   \n",
       "3212  Санкт-Петербург      Павел   Гончаров 2018-08-15  smart   \n",
       "3213  Санкт-Петербург      Павел   Гончаров 2018-08-15  smart   \n",
       "\n",
       "      messages_included  mb_per_month_included  minutes_included  \\\n",
       "0                  1000                  30720              3000   \n",
       "1                  1000                  30720              3000   \n",
       "2                  1000                  30720              3000   \n",
       "3                  1000                  30720              3000   \n",
       "4                  1000                  30720              3000   \n",
       "...                 ...                    ...               ...   \n",
       "3209                 50                  15360               500   \n",
       "3210                 50                  15360               500   \n",
       "3211                 50                  15360               500   \n",
       "3212                 50                  15360               500   \n",
       "3213                 50                  15360               500   \n",
       "\n",
       "      rub_monthly_fee  rub_per_gb  rub_per_message  rub_per_minute tariff_name  \n",
       "0                1950         150                1               1       ultra  \n",
       "1                1950         150                1               1       ultra  \n",
       "2                1950         150                1               1       ultra  \n",
       "3                1950         150                1               1       ultra  \n",
       "4                1950         150                1               1       ultra  \n",
       "...               ...         ...              ...             ...         ...  \n",
       "3209              550         200                3               3       smart  \n",
       "3210              550         200                3               3       smart  \n",
       "3211              550         200                3               3       smart  \n",
       "3212              550         200                3               3       smart  \n",
       "3213              550         200                3               3       smart  \n",
       "\n",
       "[3214 rows x 20 columns]"
      ]
     },
     "execution_count": 27,
     "metadata": {},
     "output_type": "execute_result"
    }
   ],
   "source": [
    "report = calls.merge(internet, on = ['user_id', 'month'], how = 'outer')\\\n",
    "              .merge(messages, on = ['user_id', 'month'], how = 'outer').fillna(0)\n",
    "report = report.merge(users, on = 'user_id', how = 'left').merge(tariffs, left_on = 'tariff', \n",
    "                                                                 right_on = 'tariff_name', how = 'left')\n",
    "report"
   ]
  },
  {
   "cell_type": "markdown",
   "metadata": {},
   "source": [
    "Напишем функцию, которая посчитает перерасход по ежемесячной оплате для каждого пользователя."
   ]
  },
  {
   "cell_type": "code",
   "execution_count": 53,
   "metadata": {},
   "outputs": [],
   "source": [
    "def get_revenue(row):\n",
    "    \n",
    "    # считаем овердрафты\n",
    "    minutes_over = (row['duration'] - row['minutes_included']) *  row['rub_per_minute']\n",
    "    messages_over = (row['messages'] - row['messages_included']) * row['rub_per_message']\n",
    "    internet_over = (row['mb_used'] - row['mb_per_month_included']) * row['rub_per_gb'] / 1024\n",
    "    #делим на 1024, т.к. цена указана за гигабайт = 1024 мегабайт, а считаем мегабайты\n",
    "    \n",
    "    # убираем отрицательные овердрафты\n",
    "    if minutes_over < 0: \n",
    "        minutes_over = 0\n",
    "    if messages_over < 0:\n",
    "        messages_over = 0\n",
    "    if internet_over < 0:\n",
    "        internet_over = 0\n",
    "        \n",
    "    if row['tariff'] == 'ultra':\n",
    "        income = 1950\n",
    "    if row['tariff'] == 'smart':\n",
    "        income = 550\n",
    "    \n",
    "    # считаем выручку\n",
    "    return round(minutes_over + messages_over + internet_over + income, 1)\n",
    "\n",
    "\n",
    "report['revenue'] = report.apply(get_revenue, axis = 1)"
   ]
  },
  {
   "cell_type": "code",
   "execution_count": 54,
   "metadata": {},
   "outputs": [
    {
     "data": {
      "text/html": [
       "<div>\n",
       "<style scoped>\n",
       "    .dataframe tbody tr th:only-of-type {\n",
       "        vertical-align: middle;\n",
       "    }\n",
       "\n",
       "    .dataframe tbody tr th {\n",
       "        vertical-align: top;\n",
       "    }\n",
       "\n",
       "    .dataframe thead th {\n",
       "        text-align: right;\n",
       "    }\n",
       "</style>\n",
       "<table border=\"1\" class=\"dataframe\">\n",
       "  <thead>\n",
       "    <tr style=\"text-align: right;\">\n",
       "      <th></th>\n",
       "      <th>user_id</th>\n",
       "      <th>month</th>\n",
       "      <th>duration</th>\n",
       "      <th>mb_used</th>\n",
       "      <th>messages</th>\n",
       "      <th>age</th>\n",
       "      <th>churn_date</th>\n",
       "      <th>city</th>\n",
       "      <th>first_name</th>\n",
       "      <th>last_name</th>\n",
       "      <th>reg_date</th>\n",
       "      <th>tariff</th>\n",
       "      <th>messages_included</th>\n",
       "      <th>mb_per_month_included</th>\n",
       "      <th>minutes_included</th>\n",
       "      <th>rub_monthly_fee</th>\n",
       "      <th>rub_per_gb</th>\n",
       "      <th>rub_per_message</th>\n",
       "      <th>rub_per_minute</th>\n",
       "      <th>tariff_name</th>\n",
       "      <th>revenue</th>\n",
       "    </tr>\n",
       "  </thead>\n",
       "  <tbody>\n",
       "    <tr>\n",
       "      <td>0</td>\n",
       "      <td>1000</td>\n",
       "      <td>5</td>\n",
       "      <td>159.0</td>\n",
       "      <td>2256.0</td>\n",
       "      <td>22.0</td>\n",
       "      <td>52</td>\n",
       "      <td>NaN</td>\n",
       "      <td>Краснодар</td>\n",
       "      <td>Рафаил</td>\n",
       "      <td>Верещагин</td>\n",
       "      <td>2018-05-25</td>\n",
       "      <td>ultra</td>\n",
       "      <td>1000</td>\n",
       "      <td>30720</td>\n",
       "      <td>3000</td>\n",
       "      <td>1950</td>\n",
       "      <td>150</td>\n",
       "      <td>1</td>\n",
       "      <td>1</td>\n",
       "      <td>ultra</td>\n",
       "      <td>1950.0</td>\n",
       "    </tr>\n",
       "    <tr>\n",
       "      <td>1</td>\n",
       "      <td>1000</td>\n",
       "      <td>6</td>\n",
       "      <td>172.0</td>\n",
       "      <td>23257.0</td>\n",
       "      <td>60.0</td>\n",
       "      <td>52</td>\n",
       "      <td>NaN</td>\n",
       "      <td>Краснодар</td>\n",
       "      <td>Рафаил</td>\n",
       "      <td>Верещагин</td>\n",
       "      <td>2018-05-25</td>\n",
       "      <td>ultra</td>\n",
       "      <td>1000</td>\n",
       "      <td>30720</td>\n",
       "      <td>3000</td>\n",
       "      <td>1950</td>\n",
       "      <td>150</td>\n",
       "      <td>1</td>\n",
       "      <td>1</td>\n",
       "      <td>ultra</td>\n",
       "      <td>1950.0</td>\n",
       "    </tr>\n",
       "    <tr>\n",
       "      <td>2</td>\n",
       "      <td>1000</td>\n",
       "      <td>7</td>\n",
       "      <td>340.0</td>\n",
       "      <td>14016.0</td>\n",
       "      <td>75.0</td>\n",
       "      <td>52</td>\n",
       "      <td>NaN</td>\n",
       "      <td>Краснодар</td>\n",
       "      <td>Рафаил</td>\n",
       "      <td>Верещагин</td>\n",
       "      <td>2018-05-25</td>\n",
       "      <td>ultra</td>\n",
       "      <td>1000</td>\n",
       "      <td>30720</td>\n",
       "      <td>3000</td>\n",
       "      <td>1950</td>\n",
       "      <td>150</td>\n",
       "      <td>1</td>\n",
       "      <td>1</td>\n",
       "      <td>ultra</td>\n",
       "      <td>1950.0</td>\n",
       "    </tr>\n",
       "    <tr>\n",
       "      <td>3</td>\n",
       "      <td>1000</td>\n",
       "      <td>8</td>\n",
       "      <td>408.0</td>\n",
       "      <td>14070.0</td>\n",
       "      <td>81.0</td>\n",
       "      <td>52</td>\n",
       "      <td>NaN</td>\n",
       "      <td>Краснодар</td>\n",
       "      <td>Рафаил</td>\n",
       "      <td>Верещагин</td>\n",
       "      <td>2018-05-25</td>\n",
       "      <td>ultra</td>\n",
       "      <td>1000</td>\n",
       "      <td>30720</td>\n",
       "      <td>3000</td>\n",
       "      <td>1950</td>\n",
       "      <td>150</td>\n",
       "      <td>1</td>\n",
       "      <td>1</td>\n",
       "      <td>ultra</td>\n",
       "      <td>1950.0</td>\n",
       "    </tr>\n",
       "    <tr>\n",
       "      <td>4</td>\n",
       "      <td>1000</td>\n",
       "      <td>9</td>\n",
       "      <td>466.0</td>\n",
       "      <td>14581.0</td>\n",
       "      <td>57.0</td>\n",
       "      <td>52</td>\n",
       "      <td>NaN</td>\n",
       "      <td>Краснодар</td>\n",
       "      <td>Рафаил</td>\n",
       "      <td>Верещагин</td>\n",
       "      <td>2018-05-25</td>\n",
       "      <td>ultra</td>\n",
       "      <td>1000</td>\n",
       "      <td>30720</td>\n",
       "      <td>3000</td>\n",
       "      <td>1950</td>\n",
       "      <td>150</td>\n",
       "      <td>1</td>\n",
       "      <td>1</td>\n",
       "      <td>ultra</td>\n",
       "      <td>1950.0</td>\n",
       "    </tr>\n",
       "    <tr>\n",
       "      <td>...</td>\n",
       "      <td>...</td>\n",
       "      <td>...</td>\n",
       "      <td>...</td>\n",
       "      <td>...</td>\n",
       "      <td>...</td>\n",
       "      <td>...</td>\n",
       "      <td>...</td>\n",
       "      <td>...</td>\n",
       "      <td>...</td>\n",
       "      <td>...</td>\n",
       "      <td>...</td>\n",
       "      <td>...</td>\n",
       "      <td>...</td>\n",
       "      <td>...</td>\n",
       "      <td>...</td>\n",
       "      <td>...</td>\n",
       "      <td>...</td>\n",
       "      <td>...</td>\n",
       "      <td>...</td>\n",
       "      <td>...</td>\n",
       "      <td>...</td>\n",
       "    </tr>\n",
       "    <tr>\n",
       "      <td>3209</td>\n",
       "      <td>1489</td>\n",
       "      <td>8</td>\n",
       "      <td>0.0</td>\n",
       "      <td>11066.0</td>\n",
       "      <td>17.0</td>\n",
       "      <td>35</td>\n",
       "      <td>NaN</td>\n",
       "      <td>Санкт-Петербург</td>\n",
       "      <td>Павел</td>\n",
       "      <td>Гончаров</td>\n",
       "      <td>2018-08-15</td>\n",
       "      <td>smart</td>\n",
       "      <td>50</td>\n",
       "      <td>15360</td>\n",
       "      <td>500</td>\n",
       "      <td>550</td>\n",
       "      <td>200</td>\n",
       "      <td>3</td>\n",
       "      <td>3</td>\n",
       "      <td>smart</td>\n",
       "      <td>550.0</td>\n",
       "    </tr>\n",
       "    <tr>\n",
       "      <td>3210</td>\n",
       "      <td>1489</td>\n",
       "      <td>9</td>\n",
       "      <td>0.0</td>\n",
       "      <td>17232.0</td>\n",
       "      <td>32.0</td>\n",
       "      <td>35</td>\n",
       "      <td>NaN</td>\n",
       "      <td>Санкт-Петербург</td>\n",
       "      <td>Павел</td>\n",
       "      <td>Гончаров</td>\n",
       "      <td>2018-08-15</td>\n",
       "      <td>smart</td>\n",
       "      <td>50</td>\n",
       "      <td>15360</td>\n",
       "      <td>500</td>\n",
       "      <td>550</td>\n",
       "      <td>200</td>\n",
       "      <td>3</td>\n",
       "      <td>3</td>\n",
       "      <td>smart</td>\n",
       "      <td>915.6</td>\n",
       "    </tr>\n",
       "    <tr>\n",
       "      <td>3211</td>\n",
       "      <td>1489</td>\n",
       "      <td>10</td>\n",
       "      <td>0.0</td>\n",
       "      <td>19588.0</td>\n",
       "      <td>21.0</td>\n",
       "      <td>35</td>\n",
       "      <td>NaN</td>\n",
       "      <td>Санкт-Петербург</td>\n",
       "      <td>Павел</td>\n",
       "      <td>Гончаров</td>\n",
       "      <td>2018-08-15</td>\n",
       "      <td>smart</td>\n",
       "      <td>50</td>\n",
       "      <td>15360</td>\n",
       "      <td>500</td>\n",
       "      <td>550</td>\n",
       "      <td>200</td>\n",
       "      <td>3</td>\n",
       "      <td>3</td>\n",
       "      <td>smart</td>\n",
       "      <td>1375.8</td>\n",
       "    </tr>\n",
       "    <tr>\n",
       "      <td>3212</td>\n",
       "      <td>1489</td>\n",
       "      <td>11</td>\n",
       "      <td>0.0</td>\n",
       "      <td>17516.0</td>\n",
       "      <td>20.0</td>\n",
       "      <td>35</td>\n",
       "      <td>NaN</td>\n",
       "      <td>Санкт-Петербург</td>\n",
       "      <td>Павел</td>\n",
       "      <td>Гончаров</td>\n",
       "      <td>2018-08-15</td>\n",
       "      <td>smart</td>\n",
       "      <td>50</td>\n",
       "      <td>15360</td>\n",
       "      <td>500</td>\n",
       "      <td>550</td>\n",
       "      <td>200</td>\n",
       "      <td>3</td>\n",
       "      <td>3</td>\n",
       "      <td>smart</td>\n",
       "      <td>971.1</td>\n",
       "    </tr>\n",
       "    <tr>\n",
       "      <td>3213</td>\n",
       "      <td>1489</td>\n",
       "      <td>12</td>\n",
       "      <td>0.0</td>\n",
       "      <td>17341.0</td>\n",
       "      <td>35.0</td>\n",
       "      <td>35</td>\n",
       "      <td>NaN</td>\n",
       "      <td>Санкт-Петербург</td>\n",
       "      <td>Павел</td>\n",
       "      <td>Гончаров</td>\n",
       "      <td>2018-08-15</td>\n",
       "      <td>smart</td>\n",
       "      <td>50</td>\n",
       "      <td>15360</td>\n",
       "      <td>500</td>\n",
       "      <td>550</td>\n",
       "      <td>200</td>\n",
       "      <td>3</td>\n",
       "      <td>3</td>\n",
       "      <td>smart</td>\n",
       "      <td>936.9</td>\n",
       "    </tr>\n",
       "  </tbody>\n",
       "</table>\n",
       "<p>3214 rows × 21 columns</p>\n",
       "</div>"
      ],
      "text/plain": [
       "      user_id  month  duration  mb_used  messages  age churn_date  \\\n",
       "0        1000      5     159.0   2256.0      22.0   52        NaN   \n",
       "1        1000      6     172.0  23257.0      60.0   52        NaN   \n",
       "2        1000      7     340.0  14016.0      75.0   52        NaN   \n",
       "3        1000      8     408.0  14070.0      81.0   52        NaN   \n",
       "4        1000      9     466.0  14581.0      57.0   52        NaN   \n",
       "...       ...    ...       ...      ...       ...  ...        ...   \n",
       "3209     1489      8       0.0  11066.0      17.0   35        NaN   \n",
       "3210     1489      9       0.0  17232.0      32.0   35        NaN   \n",
       "3211     1489     10       0.0  19588.0      21.0   35        NaN   \n",
       "3212     1489     11       0.0  17516.0      20.0   35        NaN   \n",
       "3213     1489     12       0.0  17341.0      35.0   35        NaN   \n",
       "\n",
       "                 city first_name  last_name   reg_date tariff  \\\n",
       "0           Краснодар     Рафаил  Верещагин 2018-05-25  ultra   \n",
       "1           Краснодар     Рафаил  Верещагин 2018-05-25  ultra   \n",
       "2           Краснодар     Рафаил  Верещагин 2018-05-25  ultra   \n",
       "3           Краснодар     Рафаил  Верещагин 2018-05-25  ultra   \n",
       "4           Краснодар     Рафаил  Верещагин 2018-05-25  ultra   \n",
       "...               ...        ...        ...        ...    ...   \n",
       "3209  Санкт-Петербург      Павел   Гончаров 2018-08-15  smart   \n",
       "3210  Санкт-Петербург      Павел   Гончаров 2018-08-15  smart   \n",
       "3211  Санкт-Петербург      Павел   Гончаров 2018-08-15  smart   \n",
       "3212  Санкт-Петербург      Павел   Гончаров 2018-08-15  smart   \n",
       "3213  Санкт-Петербург      Павел   Гончаров 2018-08-15  smart   \n",
       "\n",
       "      messages_included  mb_per_month_included  minutes_included  \\\n",
       "0                  1000                  30720              3000   \n",
       "1                  1000                  30720              3000   \n",
       "2                  1000                  30720              3000   \n",
       "3                  1000                  30720              3000   \n",
       "4                  1000                  30720              3000   \n",
       "...                 ...                    ...               ...   \n",
       "3209                 50                  15360               500   \n",
       "3210                 50                  15360               500   \n",
       "3211                 50                  15360               500   \n",
       "3212                 50                  15360               500   \n",
       "3213                 50                  15360               500   \n",
       "\n",
       "      rub_monthly_fee  rub_per_gb  rub_per_message  rub_per_minute  \\\n",
       "0                1950         150                1               1   \n",
       "1                1950         150                1               1   \n",
       "2                1950         150                1               1   \n",
       "3                1950         150                1               1   \n",
       "4                1950         150                1               1   \n",
       "...               ...         ...              ...             ...   \n",
       "3209              550         200                3               3   \n",
       "3210              550         200                3               3   \n",
       "3211              550         200                3               3   \n",
       "3212              550         200                3               3   \n",
       "3213              550         200                3               3   \n",
       "\n",
       "     tariff_name  revenue  \n",
       "0          ultra   1950.0  \n",
       "1          ultra   1950.0  \n",
       "2          ultra   1950.0  \n",
       "3          ultra   1950.0  \n",
       "4          ultra   1950.0  \n",
       "...          ...      ...  \n",
       "3209       smart    550.0  \n",
       "3210       smart    915.6  \n",
       "3211       smart   1375.8  \n",
       "3212       smart    971.1  \n",
       "3213       smart    936.9  \n",
       "\n",
       "[3214 rows x 21 columns]"
      ]
     },
     "execution_count": 54,
     "metadata": {},
     "output_type": "execute_result"
    }
   ],
   "source": [
    "report"
   ]
  },
  {
   "cell_type": "markdown",
   "metadata": {},
   "source": [
    "### Вывод\n",
    "\n",
    "Мы собрали все данные в одну таблицу, по которой теперь можно проводить анализ."
   ]
  },
  {
   "cell_type": "markdown",
   "metadata": {},
   "source": [
    "## Анализ данных"
   ]
  },
  {
   "cell_type": "markdown",
   "metadata": {},
   "source": [
    "### Подсчет дисперсии, среднего и стандартного отклонения"
   ]
  },
  {
   "cell_type": "markdown",
   "metadata": {},
   "source": [
    "Подсчитаем медиаонное значение, среднее, дисперсию и стандартное отклонение для обоих тарифов."
   ]
  },
  {
   "cell_type": "code",
   "execution_count": 60,
   "metadata": {
    "scrolled": true
   },
   "outputs": [
    {
     "data": {
      "text/html": [
       "<div>\n",
       "<style scoped>\n",
       "    .dataframe tbody tr th:only-of-type {\n",
       "        vertical-align: middle;\n",
       "    }\n",
       "\n",
       "    .dataframe tbody tr th {\n",
       "        vertical-align: top;\n",
       "    }\n",
       "\n",
       "    .dataframe thead tr th {\n",
       "        text-align: left;\n",
       "    }\n",
       "\n",
       "    .dataframe thead tr:last-of-type th {\n",
       "        text-align: right;\n",
       "    }\n",
       "</style>\n",
       "<table border=\"1\" class=\"dataframe\">\n",
       "  <thead>\n",
       "    <tr>\n",
       "      <th></th>\n",
       "      <th colspan=\"4\" halign=\"left\">duration</th>\n",
       "    </tr>\n",
       "    <tr>\n",
       "      <th></th>\n",
       "      <th>median</th>\n",
       "      <th>mean</th>\n",
       "      <th>var</th>\n",
       "      <th>std</th>\n",
       "    </tr>\n",
       "    <tr>\n",
       "      <th>tariff</th>\n",
       "      <th></th>\n",
       "      <th></th>\n",
       "      <th></th>\n",
       "      <th></th>\n",
       "    </tr>\n",
       "  </thead>\n",
       "  <tbody>\n",
       "    <tr>\n",
       "      <td>smart</td>\n",
       "      <td>422.0</td>\n",
       "      <td>417.934948</td>\n",
       "      <td>36219.315784</td>\n",
       "      <td>190.313730</td>\n",
       "    </tr>\n",
       "    <tr>\n",
       "      <td>ultra</td>\n",
       "      <td>518.0</td>\n",
       "      <td>526.623350</td>\n",
       "      <td>100873.633397</td>\n",
       "      <td>317.606098</td>\n",
       "    </tr>\n",
       "  </tbody>\n",
       "</table>\n",
       "</div>"
      ],
      "text/plain": [
       "       duration                                       \n",
       "         median        mean            var         std\n",
       "tariff                                                \n",
       "smart     422.0  417.934948   36219.315784  190.313730\n",
       "ultra     518.0  526.623350  100873.633397  317.606098"
      ]
     },
     "execution_count": 60,
     "metadata": {},
     "output_type": "execute_result"
    }
   ],
   "source": [
    "report.groupby('tariff').agg({'duration':['median','mean','var','std']})"
   ]
  },
  {
   "cell_type": "markdown",
   "metadata": {},
   "source": [
    "Сделаем то же самое для интернета. "
   ]
  },
  {
   "cell_type": "code",
   "execution_count": 61,
   "metadata": {},
   "outputs": [
    {
     "data": {
      "text/html": [
       "<div>\n",
       "<style scoped>\n",
       "    .dataframe tbody tr th:only-of-type {\n",
       "        vertical-align: middle;\n",
       "    }\n",
       "\n",
       "    .dataframe tbody tr th {\n",
       "        vertical-align: top;\n",
       "    }\n",
       "\n",
       "    .dataframe thead tr th {\n",
       "        text-align: left;\n",
       "    }\n",
       "\n",
       "    .dataframe thead tr:last-of-type th {\n",
       "        text-align: right;\n",
       "    }\n",
       "</style>\n",
       "<table border=\"1\" class=\"dataframe\">\n",
       "  <thead>\n",
       "    <tr>\n",
       "      <th></th>\n",
       "      <th colspan=\"4\" halign=\"left\">mb_used</th>\n",
       "    </tr>\n",
       "    <tr>\n",
       "      <th></th>\n",
       "      <th>median</th>\n",
       "      <th>mean</th>\n",
       "      <th>var</th>\n",
       "      <th>std</th>\n",
       "    </tr>\n",
       "    <tr>\n",
       "      <th>tariff</th>\n",
       "      <th></th>\n",
       "      <th></th>\n",
       "      <th></th>\n",
       "      <th></th>\n",
       "    </tr>\n",
       "  </thead>\n",
       "  <tbody>\n",
       "    <tr>\n",
       "      <td>smart</td>\n",
       "      <td>16531.0</td>\n",
       "      <td>16229.188425</td>\n",
       "      <td>3.454591e+07</td>\n",
       "      <td>5877.576978</td>\n",
       "    </tr>\n",
       "    <tr>\n",
       "      <td>ultra</td>\n",
       "      <td>19324.0</td>\n",
       "      <td>19486.901523</td>\n",
       "      <td>1.019356e+08</td>\n",
       "      <td>10096.317202</td>\n",
       "    </tr>\n",
       "  </tbody>\n",
       "</table>\n",
       "</div>"
      ],
      "text/plain": [
       "        mb_used                                          \n",
       "         median          mean           var           std\n",
       "tariff                                                   \n",
       "smart   16531.0  16229.188425  3.454591e+07   5877.576978\n",
       "ultra   19324.0  19486.901523  1.019356e+08  10096.317202"
      ]
     },
     "execution_count": 61,
     "metadata": {},
     "output_type": "execute_result"
    }
   ],
   "source": [
    "report.groupby('tariff').agg({'mb_used':['median','mean','var','std']})"
   ]
  },
  {
   "cell_type": "markdown",
   "metadata": {},
   "source": [
    "И для смс"
   ]
  },
  {
   "cell_type": "code",
   "execution_count": 62,
   "metadata": {},
   "outputs": [
    {
     "data": {
      "text/html": [
       "<div>\n",
       "<style scoped>\n",
       "    .dataframe tbody tr th:only-of-type {\n",
       "        vertical-align: middle;\n",
       "    }\n",
       "\n",
       "    .dataframe tbody tr th {\n",
       "        vertical-align: top;\n",
       "    }\n",
       "\n",
       "    .dataframe thead tr th {\n",
       "        text-align: left;\n",
       "    }\n",
       "\n",
       "    .dataframe thead tr:last-of-type th {\n",
       "        text-align: right;\n",
       "    }\n",
       "</style>\n",
       "<table border=\"1\" class=\"dataframe\">\n",
       "  <thead>\n",
       "    <tr>\n",
       "      <th></th>\n",
       "      <th colspan=\"4\" halign=\"left\">messages</th>\n",
       "    </tr>\n",
       "    <tr>\n",
       "      <th></th>\n",
       "      <th>median</th>\n",
       "      <th>mean</th>\n",
       "      <th>var</th>\n",
       "      <th>std</th>\n",
       "    </tr>\n",
       "    <tr>\n",
       "      <th>tariff</th>\n",
       "      <th></th>\n",
       "      <th></th>\n",
       "      <th></th>\n",
       "      <th></th>\n",
       "    </tr>\n",
       "  </thead>\n",
       "  <tbody>\n",
       "    <tr>\n",
       "      <td>smart</td>\n",
       "      <td>28.0</td>\n",
       "      <td>33.384029</td>\n",
       "      <td>796.812958</td>\n",
       "      <td>28.227876</td>\n",
       "    </tr>\n",
       "    <tr>\n",
       "      <td>ultra</td>\n",
       "      <td>38.0</td>\n",
       "      <td>49.363452</td>\n",
       "      <td>2285.266143</td>\n",
       "      <td>47.804457</td>\n",
       "    </tr>\n",
       "  </tbody>\n",
       "</table>\n",
       "</div>"
      ],
      "text/plain": [
       "       messages                                   \n",
       "         median       mean          var        std\n",
       "tariff                                            \n",
       "smart      28.0  33.384029   796.812958  28.227876\n",
       "ultra      38.0  49.363452  2285.266143  47.804457"
      ]
     },
     "execution_count": 62,
     "metadata": {},
     "output_type": "execute_result"
    }
   ],
   "source": [
    "report.groupby('tariff').agg({'messages':['median','mean','var','std']})"
   ]
  },
  {
   "cell_type": "markdown",
   "metadata": {},
   "source": [
    "Посмотрим на значения по переплатам"
   ]
  },
  {
   "cell_type": "code",
   "execution_count": 63,
   "metadata": {},
   "outputs": [
    {
     "data": {
      "text/html": [
       "<div>\n",
       "<style scoped>\n",
       "    .dataframe tbody tr th:only-of-type {\n",
       "        vertical-align: middle;\n",
       "    }\n",
       "\n",
       "    .dataframe tbody tr th {\n",
       "        vertical-align: top;\n",
       "    }\n",
       "\n",
       "    .dataframe thead tr th {\n",
       "        text-align: left;\n",
       "    }\n",
       "\n",
       "    .dataframe thead tr:last-of-type th {\n",
       "        text-align: right;\n",
       "    }\n",
       "</style>\n",
       "<table border=\"1\" class=\"dataframe\">\n",
       "  <thead>\n",
       "    <tr>\n",
       "      <th></th>\n",
       "      <th colspan=\"4\" halign=\"left\">messages</th>\n",
       "    </tr>\n",
       "    <tr>\n",
       "      <th></th>\n",
       "      <th>median</th>\n",
       "      <th>mean</th>\n",
       "      <th>var</th>\n",
       "      <th>std</th>\n",
       "    </tr>\n",
       "    <tr>\n",
       "      <th>tariff</th>\n",
       "      <th></th>\n",
       "      <th></th>\n",
       "      <th></th>\n",
       "      <th></th>\n",
       "    </tr>\n",
       "  </thead>\n",
       "  <tbody>\n",
       "    <tr>\n",
       "      <td>smart</td>\n",
       "      <td>28.0</td>\n",
       "      <td>33.384029</td>\n",
       "      <td>796.812958</td>\n",
       "      <td>28.227876</td>\n",
       "    </tr>\n",
       "    <tr>\n",
       "      <td>ultra</td>\n",
       "      <td>38.0</td>\n",
       "      <td>49.363452</td>\n",
       "      <td>2285.266143</td>\n",
       "      <td>47.804457</td>\n",
       "    </tr>\n",
       "  </tbody>\n",
       "</table>\n",
       "</div>"
      ],
      "text/plain": [
       "       messages                                   \n",
       "         median       mean          var        std\n",
       "tariff                                            \n",
       "smart      28.0  33.384029   796.812958  28.227876\n",
       "ultra      38.0  49.363452  2285.266143  47.804457"
      ]
     },
     "execution_count": 63,
     "metadata": {},
     "output_type": "execute_result"
    }
   ],
   "source": [
    "report.groupby('tariff').agg({'messages':['median','mean','var','std']})"
   ]
  },
  {
   "cell_type": "markdown",
   "metadata": {},
   "source": [
    "### Вывод\n",
    "\n",
    "Пользователи тарифа смарт в среднем расходуют 400 минут, 16000 мб и 30 смс. Пользователи тарифа ультра в среднем расходуют 500 минут, 20000 мб и 50 смс. Получается, пользователи тарифа ультра реже переплачивают за услуги, но их тариф и дороже."
   ]
  },
  {
   "cell_type": "markdown",
   "metadata": {},
   "source": [
    "## Проверка гипотез"
   ]
  },
  {
   "cell_type": "markdown",
   "metadata": {},
   "source": [
    "### Первая гипотеза"
   ]
  },
  {
   "cell_type": "markdown",
   "metadata": {},
   "source": [
    "Первая гипотеза - средняя выручка пользователей тарифов «Ультра» и «Смарт» различаются\n",
    "\n",
    "Примем гипотезу H0: \"средняя выручка по тарифу Ультра равна средней выручке по тарифу Смарт\". Тогда альтернативная гипотеза H1: \"средняя выручка по тарифу Ультра НЕ равна средней выручке по тарифу Смарт\""
   ]
  },
  {
   "cell_type": "markdown",
   "metadata": {},
   "source": [
    "Примем альфа = 0.01 и воспользуемся методом scipy.stats.ttest_ind() для проверки гипотезы, равны ли средние двух совокупностей."
   ]
  },
  {
   "cell_type": "code",
   "execution_count": 47,
   "metadata": {},
   "outputs": [
    {
     "name": "stdout",
     "output_type": "stream",
     "text": [
      "p-значение:  1.172655564462924e-190\n",
      "Отвергаем нулевую гипотезу\n"
     ]
    }
   ],
   "source": [
    "results = st.stats.ttest_ind(users_smart['revenue'], users_ultra['revenue'], equal_var=True)\n",
    "alpha = 0.01\n",
    "print('p-значение: ', results.pvalue)\n",
    "if results.pvalue < alpha:\n",
    "    print(\"Отвергаем нулевую гипотезу\")\n",
    "else:\n",
    "    print(\"Не получилось отвергнуть нулевую гипотезу\") "
   ]
  },
  {
   "cell_type": "markdown",
   "metadata": {},
   "source": [
    "p-value получилось очень маленьким, значит, средние нулевая гипотеза будет верна с очень низкой вероятностью, отвергнем её."
   ]
  },
  {
   "cell_type": "markdown",
   "metadata": {},
   "source": [
    "### Вторая гипотеза"
   ]
  },
  {
   "cell_type": "markdown",
   "metadata": {},
   "source": [
    "Вторая гипотеза - средняя выручка пользователей из Москвы отличается от выручки пользователей из других регионов.\n",
    "\n",
    "Примем гипотезу H0: \"средняя выручка пользователей из Москвы равна средней выручке пользователей из других регионов\". Тогда альтернативная гипотеза H1: \"средняя выручка пользователей из Москвы НЕ равна средней выручке пользователей из других регионов\""
   ]
  },
  {
   "cell_type": "markdown",
   "metadata": {},
   "source": [
    "Для начала составим два датафрейма. В одном будут жители Москвы, в другом - жители остальных городов."
   ]
  },
  {
   "cell_type": "code",
   "execution_count": 48,
   "metadata": {
    "scrolled": false
   },
   "outputs": [
    {
     "data": {
      "text/html": [
       "<div>\n",
       "<style scoped>\n",
       "    .dataframe tbody tr th:only-of-type {\n",
       "        vertical-align: middle;\n",
       "    }\n",
       "\n",
       "    .dataframe tbody tr th {\n",
       "        vertical-align: top;\n",
       "    }\n",
       "\n",
       "    .dataframe thead th {\n",
       "        text-align: right;\n",
       "    }\n",
       "</style>\n",
       "<table border=\"1\" class=\"dataframe\">\n",
       "  <thead>\n",
       "    <tr style=\"text-align: right;\">\n",
       "      <th></th>\n",
       "      <th>user_id</th>\n",
       "      <th>month</th>\n",
       "      <th>duration</th>\n",
       "      <th>mb_used</th>\n",
       "      <th>messages</th>\n",
       "      <th>age</th>\n",
       "      <th>churn_date</th>\n",
       "      <th>city</th>\n",
       "      <th>first_name</th>\n",
       "      <th>last_name</th>\n",
       "      <th>reg_date</th>\n",
       "      <th>tariff</th>\n",
       "      <th>messages_included</th>\n",
       "      <th>mb_per_month_included</th>\n",
       "      <th>minutes_included</th>\n",
       "      <th>rub_monthly_fee</th>\n",
       "      <th>rub_per_gb</th>\n",
       "      <th>rub_per_message</th>\n",
       "      <th>rub_per_minute</th>\n",
       "      <th>tariff_name</th>\n",
       "      <th>revenue</th>\n",
       "    </tr>\n",
       "  </thead>\n",
       "  <tbody>\n",
       "    <tr>\n",
       "      <td>8</td>\n",
       "      <td>1001</td>\n",
       "      <td>11</td>\n",
       "      <td>430.0</td>\n",
       "      <td>18452.0</td>\n",
       "      <td>0.0</td>\n",
       "      <td>41</td>\n",
       "      <td>NaN</td>\n",
       "      <td>Москва</td>\n",
       "      <td>Иван</td>\n",
       "      <td>Ежов</td>\n",
       "      <td>2018-11-01</td>\n",
       "      <td>smart</td>\n",
       "      <td>50</td>\n",
       "      <td>15360</td>\n",
       "      <td>500</td>\n",
       "      <td>550</td>\n",
       "      <td>200</td>\n",
       "      <td>3</td>\n",
       "      <td>3</td>\n",
       "      <td>smart</td>\n",
       "      <td>1153.906250</td>\n",
       "    </tr>\n",
       "    <tr>\n",
       "      <td>9</td>\n",
       "      <td>1001</td>\n",
       "      <td>12</td>\n",
       "      <td>414.0</td>\n",
       "      <td>14053.0</td>\n",
       "      <td>0.0</td>\n",
       "      <td>41</td>\n",
       "      <td>NaN</td>\n",
       "      <td>Москва</td>\n",
       "      <td>Иван</td>\n",
       "      <td>Ежов</td>\n",
       "      <td>2018-11-01</td>\n",
       "      <td>smart</td>\n",
       "      <td>50</td>\n",
       "      <td>15360</td>\n",
       "      <td>500</td>\n",
       "      <td>550</td>\n",
       "      <td>200</td>\n",
       "      <td>3</td>\n",
       "      <td>3</td>\n",
       "      <td>smart</td>\n",
       "      <td>550.000000</td>\n",
       "    </tr>\n",
       "    <tr>\n",
       "      <td>17</td>\n",
       "      <td>1003</td>\n",
       "      <td>8</td>\n",
       "      <td>380.0</td>\n",
       "      <td>8571.0</td>\n",
       "      <td>37.0</td>\n",
       "      <td>23</td>\n",
       "      <td>NaN</td>\n",
       "      <td>Москва</td>\n",
       "      <td>Белла</td>\n",
       "      <td>Белякова</td>\n",
       "      <td>2018-08-17</td>\n",
       "      <td>ultra</td>\n",
       "      <td>1000</td>\n",
       "      <td>30720</td>\n",
       "      <td>3000</td>\n",
       "      <td>1950</td>\n",
       "      <td>150</td>\n",
       "      <td>1</td>\n",
       "      <td>1</td>\n",
       "      <td>ultra</td>\n",
       "      <td>1950.000000</td>\n",
       "    </tr>\n",
       "    <tr>\n",
       "      <td>18</td>\n",
       "      <td>1003</td>\n",
       "      <td>9</td>\n",
       "      <td>961.0</td>\n",
       "      <td>12479.0</td>\n",
       "      <td>91.0</td>\n",
       "      <td>23</td>\n",
       "      <td>NaN</td>\n",
       "      <td>Москва</td>\n",
       "      <td>Белла</td>\n",
       "      <td>Белякова</td>\n",
       "      <td>2018-08-17</td>\n",
       "      <td>ultra</td>\n",
       "      <td>1000</td>\n",
       "      <td>30720</td>\n",
       "      <td>3000</td>\n",
       "      <td>1950</td>\n",
       "      <td>150</td>\n",
       "      <td>1</td>\n",
       "      <td>1</td>\n",
       "      <td>ultra</td>\n",
       "      <td>1950.000000</td>\n",
       "    </tr>\n",
       "    <tr>\n",
       "      <td>19</td>\n",
       "      <td>1003</td>\n",
       "      <td>10</td>\n",
       "      <td>855.0</td>\n",
       "      <td>14779.0</td>\n",
       "      <td>83.0</td>\n",
       "      <td>23</td>\n",
       "      <td>NaN</td>\n",
       "      <td>Москва</td>\n",
       "      <td>Белла</td>\n",
       "      <td>Белякова</td>\n",
       "      <td>2018-08-17</td>\n",
       "      <td>ultra</td>\n",
       "      <td>1000</td>\n",
       "      <td>30720</td>\n",
       "      <td>3000</td>\n",
       "      <td>1950</td>\n",
       "      <td>150</td>\n",
       "      <td>1</td>\n",
       "      <td>1</td>\n",
       "      <td>ultra</td>\n",
       "      <td>1950.000000</td>\n",
       "    </tr>\n",
       "    <tr>\n",
       "      <td>...</td>\n",
       "      <td>...</td>\n",
       "      <td>...</td>\n",
       "      <td>...</td>\n",
       "      <td>...</td>\n",
       "      <td>...</td>\n",
       "      <td>...</td>\n",
       "      <td>...</td>\n",
       "      <td>...</td>\n",
       "      <td>...</td>\n",
       "      <td>...</td>\n",
       "      <td>...</td>\n",
       "      <td>...</td>\n",
       "      <td>...</td>\n",
       "      <td>...</td>\n",
       "      <td>...</td>\n",
       "      <td>...</td>\n",
       "      <td>...</td>\n",
       "      <td>...</td>\n",
       "      <td>...</td>\n",
       "      <td>...</td>\n",
       "      <td>...</td>\n",
       "    </tr>\n",
       "    <tr>\n",
       "      <td>3119</td>\n",
       "      <td>1490</td>\n",
       "      <td>9</td>\n",
       "      <td>322.0</td>\n",
       "      <td>14838.0</td>\n",
       "      <td>48.0</td>\n",
       "      <td>30</td>\n",
       "      <td>NaN</td>\n",
       "      <td>Москва</td>\n",
       "      <td>Радомир</td>\n",
       "      <td>Алесин</td>\n",
       "      <td>2018-04-03</td>\n",
       "      <td>smart</td>\n",
       "      <td>50</td>\n",
       "      <td>15360</td>\n",
       "      <td>500</td>\n",
       "      <td>550</td>\n",
       "      <td>200</td>\n",
       "      <td>3</td>\n",
       "      <td>3</td>\n",
       "      <td>smart</td>\n",
       "      <td>550.000000</td>\n",
       "    </tr>\n",
       "    <tr>\n",
       "      <td>3120</td>\n",
       "      <td>1490</td>\n",
       "      <td>10</td>\n",
       "      <td>312.0</td>\n",
       "      <td>20690.0</td>\n",
       "      <td>45.0</td>\n",
       "      <td>30</td>\n",
       "      <td>NaN</td>\n",
       "      <td>Москва</td>\n",
       "      <td>Радомир</td>\n",
       "      <td>Алесин</td>\n",
       "      <td>2018-04-03</td>\n",
       "      <td>smart</td>\n",
       "      <td>50</td>\n",
       "      <td>15360</td>\n",
       "      <td>500</td>\n",
       "      <td>550</td>\n",
       "      <td>200</td>\n",
       "      <td>3</td>\n",
       "      <td>3</td>\n",
       "      <td>smart</td>\n",
       "      <td>1591.015625</td>\n",
       "    </tr>\n",
       "    <tr>\n",
       "      <td>3121</td>\n",
       "      <td>1490</td>\n",
       "      <td>11</td>\n",
       "      <td>282.0</td>\n",
       "      <td>18733.0</td>\n",
       "      <td>47.0</td>\n",
       "      <td>30</td>\n",
       "      <td>NaN</td>\n",
       "      <td>Москва</td>\n",
       "      <td>Радомир</td>\n",
       "      <td>Алесин</td>\n",
       "      <td>2018-04-03</td>\n",
       "      <td>smart</td>\n",
       "      <td>50</td>\n",
       "      <td>15360</td>\n",
       "      <td>500</td>\n",
       "      <td>550</td>\n",
       "      <td>200</td>\n",
       "      <td>3</td>\n",
       "      <td>3</td>\n",
       "      <td>smart</td>\n",
       "      <td>1208.789062</td>\n",
       "    </tr>\n",
       "    <tr>\n",
       "      <td>3122</td>\n",
       "      <td>1490</td>\n",
       "      <td>12</td>\n",
       "      <td>290.0</td>\n",
       "      <td>15806.0</td>\n",
       "      <td>46.0</td>\n",
       "      <td>30</td>\n",
       "      <td>NaN</td>\n",
       "      <td>Москва</td>\n",
       "      <td>Радомир</td>\n",
       "      <td>Алесин</td>\n",
       "      <td>2018-04-03</td>\n",
       "      <td>smart</td>\n",
       "      <td>50</td>\n",
       "      <td>15360</td>\n",
       "      <td>500</td>\n",
       "      <td>550</td>\n",
       "      <td>200</td>\n",
       "      <td>3</td>\n",
       "      <td>3</td>\n",
       "      <td>smart</td>\n",
       "      <td>637.109375</td>\n",
       "    </tr>\n",
       "    <tr>\n",
       "      <td>3208</td>\n",
       "      <td>1476</td>\n",
       "      <td>4</td>\n",
       "      <td>0.0</td>\n",
       "      <td>531.0</td>\n",
       "      <td>0.0</td>\n",
       "      <td>50</td>\n",
       "      <td>NaN</td>\n",
       "      <td>Москва</td>\n",
       "      <td>Валентина</td>\n",
       "      <td>Семенова</td>\n",
       "      <td>2018-04-30</td>\n",
       "      <td>ultra</td>\n",
       "      <td>1000</td>\n",
       "      <td>30720</td>\n",
       "      <td>3000</td>\n",
       "      <td>1950</td>\n",
       "      <td>150</td>\n",
       "      <td>1</td>\n",
       "      <td>1</td>\n",
       "      <td>ultra</td>\n",
       "      <td>1950.000000</td>\n",
       "    </tr>\n",
       "  </tbody>\n",
       "</table>\n",
       "<p>611 rows × 21 columns</p>\n",
       "</div>"
      ],
      "text/plain": [
       "      user_id  month  duration  mb_used  messages  age churn_date    city  \\\n",
       "8        1001     11     430.0  18452.0       0.0   41        NaN  Москва   \n",
       "9        1001     12     414.0  14053.0       0.0   41        NaN  Москва   \n",
       "17       1003      8     380.0   8571.0      37.0   23        NaN  Москва   \n",
       "18       1003      9     961.0  12479.0      91.0   23        NaN  Москва   \n",
       "19       1003     10     855.0  14779.0      83.0   23        NaN  Москва   \n",
       "...       ...    ...       ...      ...       ...  ...        ...     ...   \n",
       "3119     1490      9     322.0  14838.0      48.0   30        NaN  Москва   \n",
       "3120     1490     10     312.0  20690.0      45.0   30        NaN  Москва   \n",
       "3121     1490     11     282.0  18733.0      47.0   30        NaN  Москва   \n",
       "3122     1490     12     290.0  15806.0      46.0   30        NaN  Москва   \n",
       "3208     1476      4       0.0    531.0       0.0   50        NaN  Москва   \n",
       "\n",
       "     first_name last_name   reg_date tariff  messages_included  \\\n",
       "8          Иван      Ежов 2018-11-01  smart                 50   \n",
       "9          Иван      Ежов 2018-11-01  smart                 50   \n",
       "17        Белла  Белякова 2018-08-17  ultra               1000   \n",
       "18        Белла  Белякова 2018-08-17  ultra               1000   \n",
       "19        Белла  Белякова 2018-08-17  ultra               1000   \n",
       "...         ...       ...        ...    ...                ...   \n",
       "3119    Радомир    Алесин 2018-04-03  smart                 50   \n",
       "3120    Радомир    Алесин 2018-04-03  smart                 50   \n",
       "3121    Радомир    Алесин 2018-04-03  smart                 50   \n",
       "3122    Радомир    Алесин 2018-04-03  smart                 50   \n",
       "3208  Валентина  Семенова 2018-04-30  ultra               1000   \n",
       "\n",
       "      mb_per_month_included  minutes_included  rub_monthly_fee  rub_per_gb  \\\n",
       "8                     15360               500              550         200   \n",
       "9                     15360               500              550         200   \n",
       "17                    30720              3000             1950         150   \n",
       "18                    30720              3000             1950         150   \n",
       "19                    30720              3000             1950         150   \n",
       "...                     ...               ...              ...         ...   \n",
       "3119                  15360               500              550         200   \n",
       "3120                  15360               500              550         200   \n",
       "3121                  15360               500              550         200   \n",
       "3122                  15360               500              550         200   \n",
       "3208                  30720              3000             1950         150   \n",
       "\n",
       "      rub_per_message  rub_per_minute tariff_name      revenue  \n",
       "8                   3               3       smart  1153.906250  \n",
       "9                   3               3       smart   550.000000  \n",
       "17                  1               1       ultra  1950.000000  \n",
       "18                  1               1       ultra  1950.000000  \n",
       "19                  1               1       ultra  1950.000000  \n",
       "...               ...             ...         ...          ...  \n",
       "3119                3               3       smart   550.000000  \n",
       "3120                3               3       smart  1591.015625  \n",
       "3121                3               3       smart  1208.789062  \n",
       "3122                3               3       smart   637.109375  \n",
       "3208                1               1       ultra  1950.000000  \n",
       "\n",
       "[611 rows x 21 columns]"
      ]
     },
     "execution_count": 48,
     "metadata": {},
     "output_type": "execute_result"
    }
   ],
   "source": [
    "moscow_users = report.query('city == \"Москва\"')\n",
    "moscow_users"
   ]
  },
  {
   "cell_type": "code",
   "execution_count": 49,
   "metadata": {},
   "outputs": [
    {
     "data": {
      "text/html": [
       "<div>\n",
       "<style scoped>\n",
       "    .dataframe tbody tr th:only-of-type {\n",
       "        vertical-align: middle;\n",
       "    }\n",
       "\n",
       "    .dataframe tbody tr th {\n",
       "        vertical-align: top;\n",
       "    }\n",
       "\n",
       "    .dataframe thead th {\n",
       "        text-align: right;\n",
       "    }\n",
       "</style>\n",
       "<table border=\"1\" class=\"dataframe\">\n",
       "  <thead>\n",
       "    <tr style=\"text-align: right;\">\n",
       "      <th></th>\n",
       "      <th>user_id</th>\n",
       "      <th>month</th>\n",
       "      <th>duration</th>\n",
       "      <th>mb_used</th>\n",
       "      <th>messages</th>\n",
       "      <th>age</th>\n",
       "      <th>churn_date</th>\n",
       "      <th>city</th>\n",
       "      <th>first_name</th>\n",
       "      <th>last_name</th>\n",
       "      <th>reg_date</th>\n",
       "      <th>tariff</th>\n",
       "      <th>messages_included</th>\n",
       "      <th>mb_per_month_included</th>\n",
       "      <th>minutes_included</th>\n",
       "      <th>rub_monthly_fee</th>\n",
       "      <th>rub_per_gb</th>\n",
       "      <th>rub_per_message</th>\n",
       "      <th>rub_per_minute</th>\n",
       "      <th>tariff_name</th>\n",
       "      <th>revenue</th>\n",
       "    </tr>\n",
       "  </thead>\n",
       "  <tbody>\n",
       "    <tr>\n",
       "      <td>0</td>\n",
       "      <td>1000</td>\n",
       "      <td>5</td>\n",
       "      <td>159.0</td>\n",
       "      <td>2256.0</td>\n",
       "      <td>22.0</td>\n",
       "      <td>52</td>\n",
       "      <td>NaN</td>\n",
       "      <td>Краснодар</td>\n",
       "      <td>Рафаил</td>\n",
       "      <td>Верещагин</td>\n",
       "      <td>2018-05-25</td>\n",
       "      <td>ultra</td>\n",
       "      <td>1000</td>\n",
       "      <td>30720</td>\n",
       "      <td>3000</td>\n",
       "      <td>1950</td>\n",
       "      <td>150</td>\n",
       "      <td>1</td>\n",
       "      <td>1</td>\n",
       "      <td>ultra</td>\n",
       "      <td>1950.000000</td>\n",
       "    </tr>\n",
       "    <tr>\n",
       "      <td>1</td>\n",
       "      <td>1000</td>\n",
       "      <td>6</td>\n",
       "      <td>172.0</td>\n",
       "      <td>23257.0</td>\n",
       "      <td>60.0</td>\n",
       "      <td>52</td>\n",
       "      <td>NaN</td>\n",
       "      <td>Краснодар</td>\n",
       "      <td>Рафаил</td>\n",
       "      <td>Верещагин</td>\n",
       "      <td>2018-05-25</td>\n",
       "      <td>ultra</td>\n",
       "      <td>1000</td>\n",
       "      <td>30720</td>\n",
       "      <td>3000</td>\n",
       "      <td>1950</td>\n",
       "      <td>150</td>\n",
       "      <td>1</td>\n",
       "      <td>1</td>\n",
       "      <td>ultra</td>\n",
       "      <td>1950.000000</td>\n",
       "    </tr>\n",
       "    <tr>\n",
       "      <td>2</td>\n",
       "      <td>1000</td>\n",
       "      <td>7</td>\n",
       "      <td>340.0</td>\n",
       "      <td>14016.0</td>\n",
       "      <td>75.0</td>\n",
       "      <td>52</td>\n",
       "      <td>NaN</td>\n",
       "      <td>Краснодар</td>\n",
       "      <td>Рафаил</td>\n",
       "      <td>Верещагин</td>\n",
       "      <td>2018-05-25</td>\n",
       "      <td>ultra</td>\n",
       "      <td>1000</td>\n",
       "      <td>30720</td>\n",
       "      <td>3000</td>\n",
       "      <td>1950</td>\n",
       "      <td>150</td>\n",
       "      <td>1</td>\n",
       "      <td>1</td>\n",
       "      <td>ultra</td>\n",
       "      <td>1950.000000</td>\n",
       "    </tr>\n",
       "    <tr>\n",
       "      <td>3</td>\n",
       "      <td>1000</td>\n",
       "      <td>8</td>\n",
       "      <td>408.0</td>\n",
       "      <td>14070.0</td>\n",
       "      <td>81.0</td>\n",
       "      <td>52</td>\n",
       "      <td>NaN</td>\n",
       "      <td>Краснодар</td>\n",
       "      <td>Рафаил</td>\n",
       "      <td>Верещагин</td>\n",
       "      <td>2018-05-25</td>\n",
       "      <td>ultra</td>\n",
       "      <td>1000</td>\n",
       "      <td>30720</td>\n",
       "      <td>3000</td>\n",
       "      <td>1950</td>\n",
       "      <td>150</td>\n",
       "      <td>1</td>\n",
       "      <td>1</td>\n",
       "      <td>ultra</td>\n",
       "      <td>1950.000000</td>\n",
       "    </tr>\n",
       "    <tr>\n",
       "      <td>4</td>\n",
       "      <td>1000</td>\n",
       "      <td>9</td>\n",
       "      <td>466.0</td>\n",
       "      <td>14581.0</td>\n",
       "      <td>57.0</td>\n",
       "      <td>52</td>\n",
       "      <td>NaN</td>\n",
       "      <td>Краснодар</td>\n",
       "      <td>Рафаил</td>\n",
       "      <td>Верещагин</td>\n",
       "      <td>2018-05-25</td>\n",
       "      <td>ultra</td>\n",
       "      <td>1000</td>\n",
       "      <td>30720</td>\n",
       "      <td>3000</td>\n",
       "      <td>1950</td>\n",
       "      <td>150</td>\n",
       "      <td>1</td>\n",
       "      <td>1</td>\n",
       "      <td>ultra</td>\n",
       "      <td>1950.000000</td>\n",
       "    </tr>\n",
       "    <tr>\n",
       "      <td>...</td>\n",
       "      <td>...</td>\n",
       "      <td>...</td>\n",
       "      <td>...</td>\n",
       "      <td>...</td>\n",
       "      <td>...</td>\n",
       "      <td>...</td>\n",
       "      <td>...</td>\n",
       "      <td>...</td>\n",
       "      <td>...</td>\n",
       "      <td>...</td>\n",
       "      <td>...</td>\n",
       "      <td>...</td>\n",
       "      <td>...</td>\n",
       "      <td>...</td>\n",
       "      <td>...</td>\n",
       "      <td>...</td>\n",
       "      <td>...</td>\n",
       "      <td>...</td>\n",
       "      <td>...</td>\n",
       "      <td>...</td>\n",
       "      <td>...</td>\n",
       "    </tr>\n",
       "    <tr>\n",
       "      <td>3209</td>\n",
       "      <td>1489</td>\n",
       "      <td>8</td>\n",
       "      <td>0.0</td>\n",
       "      <td>11066.0</td>\n",
       "      <td>17.0</td>\n",
       "      <td>35</td>\n",
       "      <td>NaN</td>\n",
       "      <td>Санкт-Петербург</td>\n",
       "      <td>Павел</td>\n",
       "      <td>Гончаров</td>\n",
       "      <td>2018-08-15</td>\n",
       "      <td>smart</td>\n",
       "      <td>50</td>\n",
       "      <td>15360</td>\n",
       "      <td>500</td>\n",
       "      <td>550</td>\n",
       "      <td>200</td>\n",
       "      <td>3</td>\n",
       "      <td>3</td>\n",
       "      <td>smart</td>\n",
       "      <td>550.000000</td>\n",
       "    </tr>\n",
       "    <tr>\n",
       "      <td>3210</td>\n",
       "      <td>1489</td>\n",
       "      <td>9</td>\n",
       "      <td>0.0</td>\n",
       "      <td>17232.0</td>\n",
       "      <td>32.0</td>\n",
       "      <td>35</td>\n",
       "      <td>NaN</td>\n",
       "      <td>Санкт-Петербург</td>\n",
       "      <td>Павел</td>\n",
       "      <td>Гончаров</td>\n",
       "      <td>2018-08-15</td>\n",
       "      <td>smart</td>\n",
       "      <td>50</td>\n",
       "      <td>15360</td>\n",
       "      <td>500</td>\n",
       "      <td>550</td>\n",
       "      <td>200</td>\n",
       "      <td>3</td>\n",
       "      <td>3</td>\n",
       "      <td>smart</td>\n",
       "      <td>915.625000</td>\n",
       "    </tr>\n",
       "    <tr>\n",
       "      <td>3211</td>\n",
       "      <td>1489</td>\n",
       "      <td>10</td>\n",
       "      <td>0.0</td>\n",
       "      <td>19588.0</td>\n",
       "      <td>21.0</td>\n",
       "      <td>35</td>\n",
       "      <td>NaN</td>\n",
       "      <td>Санкт-Петербург</td>\n",
       "      <td>Павел</td>\n",
       "      <td>Гончаров</td>\n",
       "      <td>2018-08-15</td>\n",
       "      <td>smart</td>\n",
       "      <td>50</td>\n",
       "      <td>15360</td>\n",
       "      <td>500</td>\n",
       "      <td>550</td>\n",
       "      <td>200</td>\n",
       "      <td>3</td>\n",
       "      <td>3</td>\n",
       "      <td>smart</td>\n",
       "      <td>1375.781250</td>\n",
       "    </tr>\n",
       "    <tr>\n",
       "      <td>3212</td>\n",
       "      <td>1489</td>\n",
       "      <td>11</td>\n",
       "      <td>0.0</td>\n",
       "      <td>17516.0</td>\n",
       "      <td>20.0</td>\n",
       "      <td>35</td>\n",
       "      <td>NaN</td>\n",
       "      <td>Санкт-Петербург</td>\n",
       "      <td>Павел</td>\n",
       "      <td>Гончаров</td>\n",
       "      <td>2018-08-15</td>\n",
       "      <td>smart</td>\n",
       "      <td>50</td>\n",
       "      <td>15360</td>\n",
       "      <td>500</td>\n",
       "      <td>550</td>\n",
       "      <td>200</td>\n",
       "      <td>3</td>\n",
       "      <td>3</td>\n",
       "      <td>smart</td>\n",
       "      <td>971.093750</td>\n",
       "    </tr>\n",
       "    <tr>\n",
       "      <td>3213</td>\n",
       "      <td>1489</td>\n",
       "      <td>12</td>\n",
       "      <td>0.0</td>\n",
       "      <td>17341.0</td>\n",
       "      <td>35.0</td>\n",
       "      <td>35</td>\n",
       "      <td>NaN</td>\n",
       "      <td>Санкт-Петербург</td>\n",
       "      <td>Павел</td>\n",
       "      <td>Гончаров</td>\n",
       "      <td>2018-08-15</td>\n",
       "      <td>smart</td>\n",
       "      <td>50</td>\n",
       "      <td>15360</td>\n",
       "      <td>500</td>\n",
       "      <td>550</td>\n",
       "      <td>200</td>\n",
       "      <td>3</td>\n",
       "      <td>3</td>\n",
       "      <td>smart</td>\n",
       "      <td>936.914062</td>\n",
       "    </tr>\n",
       "  </tbody>\n",
       "</table>\n",
       "<p>2603 rows × 21 columns</p>\n",
       "</div>"
      ],
      "text/plain": [
       "      user_id  month  duration  mb_used  messages  age churn_date  \\\n",
       "0        1000      5     159.0   2256.0      22.0   52        NaN   \n",
       "1        1000      6     172.0  23257.0      60.0   52        NaN   \n",
       "2        1000      7     340.0  14016.0      75.0   52        NaN   \n",
       "3        1000      8     408.0  14070.0      81.0   52        NaN   \n",
       "4        1000      9     466.0  14581.0      57.0   52        NaN   \n",
       "...       ...    ...       ...      ...       ...  ...        ...   \n",
       "3209     1489      8       0.0  11066.0      17.0   35        NaN   \n",
       "3210     1489      9       0.0  17232.0      32.0   35        NaN   \n",
       "3211     1489     10       0.0  19588.0      21.0   35        NaN   \n",
       "3212     1489     11       0.0  17516.0      20.0   35        NaN   \n",
       "3213     1489     12       0.0  17341.0      35.0   35        NaN   \n",
       "\n",
       "                 city first_name  last_name   reg_date tariff  \\\n",
       "0           Краснодар     Рафаил  Верещагин 2018-05-25  ultra   \n",
       "1           Краснодар     Рафаил  Верещагин 2018-05-25  ultra   \n",
       "2           Краснодар     Рафаил  Верещагин 2018-05-25  ultra   \n",
       "3           Краснодар     Рафаил  Верещагин 2018-05-25  ultra   \n",
       "4           Краснодар     Рафаил  Верещагин 2018-05-25  ultra   \n",
       "...               ...        ...        ...        ...    ...   \n",
       "3209  Санкт-Петербург      Павел   Гончаров 2018-08-15  smart   \n",
       "3210  Санкт-Петербург      Павел   Гончаров 2018-08-15  smart   \n",
       "3211  Санкт-Петербург      Павел   Гончаров 2018-08-15  smart   \n",
       "3212  Санкт-Петербург      Павел   Гончаров 2018-08-15  smart   \n",
       "3213  Санкт-Петербург      Павел   Гончаров 2018-08-15  smart   \n",
       "\n",
       "      messages_included  mb_per_month_included  minutes_included  \\\n",
       "0                  1000                  30720              3000   \n",
       "1                  1000                  30720              3000   \n",
       "2                  1000                  30720              3000   \n",
       "3                  1000                  30720              3000   \n",
       "4                  1000                  30720              3000   \n",
       "...                 ...                    ...               ...   \n",
       "3209                 50                  15360               500   \n",
       "3210                 50                  15360               500   \n",
       "3211                 50                  15360               500   \n",
       "3212                 50                  15360               500   \n",
       "3213                 50                  15360               500   \n",
       "\n",
       "      rub_monthly_fee  rub_per_gb  rub_per_message  rub_per_minute  \\\n",
       "0                1950         150                1               1   \n",
       "1                1950         150                1               1   \n",
       "2                1950         150                1               1   \n",
       "3                1950         150                1               1   \n",
       "4                1950         150                1               1   \n",
       "...               ...         ...              ...             ...   \n",
       "3209              550         200                3               3   \n",
       "3210              550         200                3               3   \n",
       "3211              550         200                3               3   \n",
       "3212              550         200                3               3   \n",
       "3213              550         200                3               3   \n",
       "\n",
       "     tariff_name      revenue  \n",
       "0          ultra  1950.000000  \n",
       "1          ultra  1950.000000  \n",
       "2          ultra  1950.000000  \n",
       "3          ultra  1950.000000  \n",
       "4          ultra  1950.000000  \n",
       "...          ...          ...  \n",
       "3209       smart   550.000000  \n",
       "3210       smart   915.625000  \n",
       "3211       smart  1375.781250  \n",
       "3212       smart   971.093750  \n",
       "3213       smart   936.914062  \n",
       "\n",
       "[2603 rows x 21 columns]"
      ]
     },
     "execution_count": 49,
     "metadata": {},
     "output_type": "execute_result"
    }
   ],
   "source": [
    "other_users = report.query('city != \"Москва\"')\n",
    "other_users"
   ]
  },
  {
   "cell_type": "markdown",
   "metadata": {},
   "source": [
    "Возьмём альфа = 0.01"
   ]
  },
  {
   "cell_type": "code",
   "execution_count": 50,
   "metadata": {},
   "outputs": [
    {
     "name": "stdout",
     "output_type": "stream",
     "text": [
      "p-значение:  0.47443187631524797\n",
      "Не получилось отвергнуть нулевую гипотезу\n"
     ]
    }
   ],
   "source": [
    "results = st.stats.ttest_ind(moscow_users['revenue'], other_users['revenue'], equal_var=True)\n",
    "alpha = 0.01\n",
    "print('p-значение: ', results.pvalue)\n",
    "if results.pvalue < alpha:\n",
    "    print(\"Отвергаем нулевую гипотезу\")\n",
    "else:\n",
    "    print(\"Не получилось отвергнуть нулевую гипотезу\") "
   ]
  },
  {
   "cell_type": "markdown",
   "metadata": {},
   "source": [
    "Хоть p-value оказалось маленьким, оно всё-таки недостаточно мало, чтобы отвергнуть вторую гипотезу."
   ]
  },
  {
   "cell_type": "markdown",
   "metadata": {},
   "source": [
    "## Общий вывод"
   ]
  },
  {
   "cell_type": "markdown",
   "metadata": {},
   "source": [
    "Выручка по тарифам различается, средние двух совокупностей не равны. Маркетинговому отделу нужно подумать, как распределить бюджеты, потому что один тариф для компании полусается выгоднее другого. По нашим данным могу предположить, что тариф ультра для компании выгоднее, т.к. его абонентская плата дороже. По доходности она не перекрывается даже переплатой пользователей тарифа смарт за дополнительные услуги.\n",
    "\n",
    "Вторую гипотезу принимаем неверной и считаем, что маркетинговые кампании для разных городов России и для Москвы могут быть одинаковыми, т.к. их средние выручки примерно равны."
   ]
  }
 ],
 "metadata": {
  "ExecuteTimeLog": [
   {
    "duration": 852,
    "start_time": "2022-01-12T17:30:24.988Z"
   },
   {
    "duration": 122,
    "start_time": "2022-01-12T17:31:52.208Z"
   },
   {
    "duration": 349,
    "start_time": "2022-01-12T17:34:38.968Z"
   },
   {
    "duration": 3,
    "start_time": "2022-01-12T17:34:39.940Z"
   },
   {
    "duration": 2,
    "start_time": "2022-01-12T17:35:01.270Z"
   },
   {
    "duration": 3,
    "start_time": "2022-01-12T17:35:18.421Z"
   },
   {
    "duration": 22,
    "start_time": "2022-01-12T17:35:19.230Z"
   },
   {
    "duration": 19,
    "start_time": "2022-01-12T17:36:19.432Z"
   },
   {
    "duration": 3,
    "start_time": "2022-01-12T17:36:21.784Z"
   },
   {
    "duration": 21,
    "start_time": "2022-01-12T17:36:22.423Z"
   },
   {
    "duration": 18,
    "start_time": "2022-01-12T17:37:05.481Z"
   },
   {
    "duration": 15,
    "start_time": "2022-01-12T17:37:31.972Z"
   },
   {
    "duration": 11,
    "start_time": "2022-01-12T17:37:37.310Z"
   },
   {
    "duration": 13,
    "start_time": "2022-01-12T17:37:50.316Z"
   },
   {
    "duration": 8,
    "start_time": "2022-01-12T17:44:35.864Z"
   },
   {
    "duration": 20,
    "start_time": "2022-01-12T17:47:52.277Z"
   },
   {
    "duration": 16,
    "start_time": "2022-01-12T17:47:56.826Z"
   },
   {
    "duration": 8,
    "start_time": "2022-01-12T17:47:57.465Z"
   },
   {
    "duration": 17,
    "start_time": "2022-01-12T17:48:14.685Z"
   },
   {
    "duration": 23,
    "start_time": "2022-01-12T17:49:06.920Z"
   },
   {
    "duration": 7,
    "start_time": "2022-01-12T17:49:07.370Z"
   },
   {
    "duration": 3,
    "start_time": "2022-01-12T18:00:37.697Z"
   },
   {
    "duration": 498,
    "start_time": "2022-01-12T18:00:38.275Z"
   },
   {
    "duration": 6,
    "start_time": "2022-01-12T18:00:49.817Z"
   },
   {
    "duration": 22,
    "start_time": "2022-01-12T18:00:50.309Z"
   },
   {
    "duration": 25,
    "start_time": "2022-01-12T18:00:51.069Z"
   },
   {
    "duration": 20,
    "start_time": "2022-01-12T18:00:51.753Z"
   },
   {
    "duration": 26,
    "start_time": "2022-01-12T18:00:52.397Z"
   },
   {
    "duration": 13,
    "start_time": "2022-01-12T18:00:54.054Z"
   },
   {
    "duration": 1345,
    "start_time": "2022-01-12T18:05:30.285Z"
   },
   {
    "duration": 5,
    "start_time": "2022-01-12T18:05:53.449Z"
   },
   {
    "duration": 7,
    "start_time": "2022-01-12T18:06:05.641Z"
   },
   {
    "duration": 9,
    "start_time": "2022-01-12T18:06:13.297Z"
   },
   {
    "duration": 4623,
    "start_time": "2022-01-12T18:07:40.025Z"
   },
   {
    "duration": 692,
    "start_time": "2022-01-12T18:07:43.958Z"
   },
   {
    "duration": 54,
    "start_time": "2022-01-12T18:07:56.554Z"
   },
   {
    "duration": 13,
    "start_time": "2022-01-12T18:07:59.420Z"
   },
   {
    "duration": 20,
    "start_time": "2022-01-12T18:09:03.642Z"
   },
   {
    "duration": 8,
    "start_time": "2022-01-12T18:09:04.444Z"
   },
   {
    "duration": 38,
    "start_time": "2022-01-12T18:13:39.708Z"
   },
   {
    "duration": 558,
    "start_time": "2022-01-12T18:18:29.297Z"
   },
   {
    "duration": 17,
    "start_time": "2022-01-12T18:18:36.405Z"
   },
   {
    "duration": 13,
    "start_time": "2022-01-12T18:18:46.762Z"
   },
   {
    "duration": 1010,
    "start_time": "2022-01-12T18:19:46.335Z"
   },
   {
    "duration": 371,
    "start_time": "2022-01-12T18:19:47.347Z"
   },
   {
    "duration": 3,
    "start_time": "2022-01-12T18:19:47.722Z"
   },
   {
    "duration": 22,
    "start_time": "2022-01-12T18:19:47.728Z"
   },
   {
    "duration": 62,
    "start_time": "2022-01-12T18:19:47.752Z"
   },
   {
    "duration": 28,
    "start_time": "2022-01-12T18:19:47.818Z"
   },
   {
    "duration": 25,
    "start_time": "2022-01-12T18:19:47.847Z"
   },
   {
    "duration": 45,
    "start_time": "2022-01-12T18:19:47.874Z"
   },
   {
    "duration": 11,
    "start_time": "2022-01-12T18:19:47.922Z"
   },
   {
    "duration": 42,
    "start_time": "2022-01-12T18:19:47.935Z"
   },
   {
    "duration": 56,
    "start_time": "2022-01-12T18:19:47.978Z"
   },
   {
    "duration": 30,
    "start_time": "2022-01-12T18:19:48.036Z"
   },
   {
    "duration": 9,
    "start_time": "2022-01-12T18:19:48.068Z"
   },
   {
    "duration": 8,
    "start_time": "2022-01-12T18:20:23.665Z"
   },
   {
    "duration": 4,
    "start_time": "2022-01-12T18:34:17.571Z"
   },
   {
    "duration": 4,
    "start_time": "2022-01-12T18:34:32.086Z"
   },
   {
    "duration": 305,
    "start_time": "2022-01-13T11:54:11.243Z"
   },
   {
    "duration": 1020,
    "start_time": "2022-01-13T11:54:22.568Z"
   },
   {
    "duration": 376,
    "start_time": "2022-01-13T11:54:23.590Z"
   },
   {
    "duration": 3,
    "start_time": "2022-01-13T11:54:23.968Z"
   },
   {
    "duration": 25,
    "start_time": "2022-01-13T11:54:23.974Z"
   },
   {
    "duration": 32,
    "start_time": "2022-01-13T11:54:24.001Z"
   },
   {
    "duration": 20,
    "start_time": "2022-01-13T11:54:24.034Z"
   },
   {
    "duration": 30,
    "start_time": "2022-01-13T11:54:24.055Z"
   },
   {
    "duration": 31,
    "start_time": "2022-01-13T11:54:24.087Z"
   },
   {
    "duration": 12,
    "start_time": "2022-01-13T11:54:24.120Z"
   },
   {
    "duration": 51,
    "start_time": "2022-01-13T11:54:24.134Z"
   },
   {
    "duration": 25,
    "start_time": "2022-01-13T11:54:24.186Z"
   },
   {
    "duration": 35,
    "start_time": "2022-01-13T11:54:24.213Z"
   },
   {
    "duration": 9,
    "start_time": "2022-01-13T11:54:24.250Z"
   },
   {
    "duration": 19,
    "start_time": "2022-01-13T11:54:24.261Z"
   },
   {
    "duration": 10,
    "start_time": "2022-01-13T11:54:50.089Z"
   },
   {
    "duration": 10,
    "start_time": "2022-01-13T11:54:54.861Z"
   },
   {
    "duration": 10,
    "start_time": "2022-01-13T11:55:52.468Z"
   },
   {
    "duration": 1084,
    "start_time": "2022-01-16T08:28:07.439Z"
   },
   {
    "duration": 415,
    "start_time": "2022-01-16T08:28:08.525Z"
   },
   {
    "duration": 3,
    "start_time": "2022-01-16T08:28:08.942Z"
   },
   {
    "duration": 22,
    "start_time": "2022-01-16T08:28:08.947Z"
   },
   {
    "duration": 29,
    "start_time": "2022-01-16T08:28:08.971Z"
   },
   {
    "duration": 21,
    "start_time": "2022-01-16T08:28:09.002Z"
   },
   {
    "duration": 59,
    "start_time": "2022-01-16T08:28:09.025Z"
   },
   {
    "duration": 13,
    "start_time": "2022-01-16T08:28:09.085Z"
   },
   {
    "duration": 8,
    "start_time": "2022-01-16T08:28:09.100Z"
   },
   {
    "duration": 75,
    "start_time": "2022-01-16T08:28:09.110Z"
   },
   {
    "duration": 28,
    "start_time": "2022-01-16T08:28:09.187Z"
   },
   {
    "duration": 50,
    "start_time": "2022-01-16T08:28:09.217Z"
   },
   {
    "duration": 11,
    "start_time": "2022-01-16T08:28:09.269Z"
   },
   {
    "duration": 11,
    "start_time": "2022-01-16T08:28:09.281Z"
   },
   {
    "duration": 8,
    "start_time": "2022-01-16T08:28:09.293Z"
   },
   {
    "duration": 8,
    "start_time": "2022-01-16T08:28:09.303Z"
   },
   {
    "duration": 18,
    "start_time": "2022-01-16T08:31:17.347Z"
   },
   {
    "duration": 25,
    "start_time": "2022-01-16T08:41:03.860Z"
   },
   {
    "duration": 10,
    "start_time": "2022-01-16T08:41:14.963Z"
   },
   {
    "duration": 26,
    "start_time": "2022-01-16T08:42:11.038Z"
   },
   {
    "duration": 16,
    "start_time": "2022-01-16T08:42:23.637Z"
   },
   {
    "duration": 26,
    "start_time": "2022-01-16T08:42:31.026Z"
   },
   {
    "duration": 28,
    "start_time": "2022-01-16T08:42:45.846Z"
   },
   {
    "duration": 10,
    "start_time": "2022-01-16T08:43:22.134Z"
   },
   {
    "duration": 22,
    "start_time": "2022-01-16T08:43:27.493Z"
   },
   {
    "duration": 3,
    "start_time": "2022-01-16T08:52:05.356Z"
   },
   {
    "duration": 330,
    "start_time": "2022-01-16T08:53:03.276Z"
   },
   {
    "duration": 3,
    "start_time": "2022-01-16T08:54:36.358Z"
   },
   {
    "duration": 13,
    "start_time": "2022-01-16T08:54:48.227Z"
   },
   {
    "duration": 32,
    "start_time": "2022-01-16T08:55:49.209Z"
   },
   {
    "duration": 27,
    "start_time": "2022-01-16T08:56:23.519Z"
   },
   {
    "duration": 251,
    "start_time": "2022-01-16T08:59:51.959Z"
   },
   {
    "duration": 35,
    "start_time": "2022-01-16T09:00:06.562Z"
   },
   {
    "duration": 38,
    "start_time": "2022-01-16T09:00:15.062Z"
   },
   {
    "duration": 299,
    "start_time": "2022-01-16T09:00:56.280Z"
   },
   {
    "duration": 300,
    "start_time": "2022-01-16T09:01:34.916Z"
   },
   {
    "duration": 33,
    "start_time": "2022-01-16T09:02:15.964Z"
   },
   {
    "duration": 17,
    "start_time": "2022-01-16T09:03:30.124Z"
   },
   {
    "duration": 260,
    "start_time": "2022-01-16T09:03:55.165Z"
   },
   {
    "duration": 34,
    "start_time": "2022-01-16T09:04:00.737Z"
   },
   {
    "duration": 35,
    "start_time": "2022-01-16T09:06:44.917Z"
   },
   {
    "duration": 23,
    "start_time": "2022-01-16T09:10:43.237Z"
   },
   {
    "duration": 27,
    "start_time": "2022-01-16T09:10:49.229Z"
   },
   {
    "duration": 7,
    "start_time": "2022-01-16T09:15:34.957Z"
   },
   {
    "duration": 6,
    "start_time": "2022-01-16T09:15:55.487Z"
   },
   {
    "duration": 7,
    "start_time": "2022-01-16T09:16:02.586Z"
   },
   {
    "duration": 9,
    "start_time": "2022-01-16T09:17:04.457Z"
   },
   {
    "duration": 15,
    "start_time": "2022-01-16T09:17:09.364Z"
   },
   {
    "duration": 28,
    "start_time": "2022-01-16T09:19:29.696Z"
   },
   {
    "duration": 22,
    "start_time": "2022-01-16T09:32:28.810Z"
   },
   {
    "duration": 20,
    "start_time": "2022-01-16T09:33:10.713Z"
   },
   {
    "duration": 16,
    "start_time": "2022-01-16T09:33:27.398Z"
   },
   {
    "duration": 6932,
    "start_time": "2022-01-16T09:33:31.973Z"
   },
   {
    "duration": 1077,
    "start_time": "2022-01-16T09:33:50.049Z"
   },
   {
    "duration": 393,
    "start_time": "2022-01-16T09:33:51.128Z"
   },
   {
    "duration": 2,
    "start_time": "2022-01-16T09:33:51.523Z"
   },
   {
    "duration": 21,
    "start_time": "2022-01-16T09:33:51.527Z"
   },
   {
    "duration": 6,
    "start_time": "2022-01-16T09:33:51.550Z"
   },
   {
    "duration": 29,
    "start_time": "2022-01-16T09:33:51.557Z"
   },
   {
    "duration": 21,
    "start_time": "2022-01-16T09:33:51.587Z"
   },
   {
    "duration": 24,
    "start_time": "2022-01-16T09:33:51.611Z"
   },
   {
    "duration": 13,
    "start_time": "2022-01-16T09:33:51.662Z"
   },
   {
    "duration": 8,
    "start_time": "2022-01-16T09:33:51.676Z"
   },
   {
    "duration": 49,
    "start_time": "2022-01-16T09:33:51.686Z"
   },
   {
    "duration": 50,
    "start_time": "2022-01-16T09:33:51.736Z"
   },
   {
    "duration": 34,
    "start_time": "2022-01-16T09:33:51.788Z"
   },
   {
    "duration": 10,
    "start_time": "2022-01-16T09:33:51.824Z"
   },
   {
    "duration": 11,
    "start_time": "2022-01-16T09:33:51.861Z"
   },
   {
    "duration": 9,
    "start_time": "2022-01-16T09:33:51.873Z"
   },
   {
    "duration": 9,
    "start_time": "2022-01-16T09:33:51.883Z"
   },
   {
    "duration": 8,
    "start_time": "2022-01-16T09:33:51.894Z"
   },
   {
    "duration": 60,
    "start_time": "2022-01-16T09:33:51.904Z"
   },
   {
    "duration": 26,
    "start_time": "2022-01-16T09:33:51.966Z"
   },
   {
    "duration": 20,
    "start_time": "2022-01-16T09:33:51.994Z"
   },
   {
    "duration": 57,
    "start_time": "2022-01-16T09:33:52.015Z"
   },
   {
    "duration": 22,
    "start_time": "2022-01-16T09:33:52.075Z"
   },
   {
    "duration": 23,
    "start_time": "2022-01-16T09:33:52.099Z"
   },
   {
    "duration": 43,
    "start_time": "2022-01-16T09:34:30.559Z"
   },
   {
    "duration": 191,
    "start_time": "2022-01-16T09:46:58.717Z"
   },
   {
    "duration": 28,
    "start_time": "2022-01-16T09:47:09.717Z"
   },
   {
    "duration": 3,
    "start_time": "2022-01-16T09:47:44.547Z"
   },
   {
    "duration": 24,
    "start_time": "2022-01-16T09:48:01.278Z"
   },
   {
    "duration": 598,
    "start_time": "2022-01-16T10:04:21.374Z"
   },
   {
    "duration": 466,
    "start_time": "2022-01-16T10:04:53.156Z"
   },
   {
    "duration": 8,
    "start_time": "2022-01-16T10:05:15.045Z"
   },
   {
    "duration": 462,
    "start_time": "2022-01-16T10:05:45.688Z"
   },
   {
    "duration": 73,
    "start_time": "2022-01-16T10:05:57.899Z"
   },
   {
    "duration": 89,
    "start_time": "2022-01-16T10:06:32.012Z"
   },
   {
    "duration": 83,
    "start_time": "2022-01-16T10:06:36.019Z"
   },
   {
    "duration": 283,
    "start_time": "2022-01-16T10:08:15.014Z"
   },
   {
    "duration": 14,
    "start_time": "2022-01-16T10:08:37.926Z"
   },
   {
    "duration": 11,
    "start_time": "2022-01-16T10:08:44.137Z"
   },
   {
    "duration": 11,
    "start_time": "2022-01-16T16:11:10.946Z"
   },
   {
    "duration": 18,
    "start_time": "2022-01-16T16:11:23.444Z"
   },
   {
    "duration": 27,
    "start_time": "2022-01-16T16:11:52.214Z"
   },
   {
    "duration": 8,
    "start_time": "2022-01-16T16:12:33.026Z"
   },
   {
    "duration": 8,
    "start_time": "2022-01-16T16:12:58.584Z"
   },
   {
    "duration": 8,
    "start_time": "2022-01-16T17:04:17.806Z"
   },
   {
    "duration": 8,
    "start_time": "2022-01-16T17:05:14.499Z"
   },
   {
    "duration": 10,
    "start_time": "2022-01-16T17:05:50.560Z"
   },
   {
    "duration": 259,
    "start_time": "2022-01-16T17:06:51.475Z"
   },
   {
    "duration": 9,
    "start_time": "2022-01-16T17:07:04.070Z"
   },
   {
    "duration": 9,
    "start_time": "2022-01-16T17:08:01.803Z"
   },
   {
    "duration": 9,
    "start_time": "2022-01-16T17:08:25.780Z"
   },
   {
    "duration": 9,
    "start_time": "2022-01-16T17:08:51.972Z"
   },
   {
    "duration": 6028,
    "start_time": "2022-01-16T17:10:53.482Z"
   },
   {
    "duration": 6183,
    "start_time": "2022-01-16T17:12:04.590Z"
   },
   {
    "duration": 18,
    "start_time": "2022-01-16T17:12:29.555Z"
   },
   {
    "duration": 14,
    "start_time": "2022-01-16T17:12:49.835Z"
   },
   {
    "duration": 260,
    "start_time": "2022-01-16T17:21:18.395Z"
   },
   {
    "duration": 255,
    "start_time": "2022-01-16T17:22:44.199Z"
   },
   {
    "duration": 436,
    "start_time": "2022-01-16T17:22:54.800Z"
   },
   {
    "duration": 347,
    "start_time": "2022-01-16T17:23:43.509Z"
   },
   {
    "duration": 393,
    "start_time": "2022-01-16T17:24:02.497Z"
   },
   {
    "duration": 342,
    "start_time": "2022-01-16T17:24:11.099Z"
   },
   {
    "duration": 364,
    "start_time": "2022-01-16T17:24:17.754Z"
   },
   {
    "duration": 364,
    "start_time": "2022-01-16T17:24:37.761Z"
   },
   {
    "duration": 458,
    "start_time": "2022-01-16T17:24:45.845Z"
   },
   {
    "duration": 349,
    "start_time": "2022-01-16T17:26:50.727Z"
   },
   {
    "duration": 368,
    "start_time": "2022-01-16T17:26:59.512Z"
   },
   {
    "duration": 5,
    "start_time": "2022-01-16T17:34:45.744Z"
   },
   {
    "duration": 4,
    "start_time": "2022-01-16T17:35:20.167Z"
   },
   {
    "duration": 4,
    "start_time": "2022-01-16T17:35:34.180Z"
   },
   {
    "duration": 5,
    "start_time": "2022-01-16T17:37:21.745Z"
   },
   {
    "duration": 6,
    "start_time": "2022-01-16T17:37:34.340Z"
   },
   {
    "duration": 5,
    "start_time": "2022-01-16T17:37:37.299Z"
   },
   {
    "duration": 10,
    "start_time": "2022-01-16T17:37:52.155Z"
   },
   {
    "duration": 8,
    "start_time": "2022-01-16T17:41:20.276Z"
   },
   {
    "duration": 8,
    "start_time": "2022-01-16T17:42:19.128Z"
   },
   {
    "duration": 9,
    "start_time": "2022-01-16T17:42:47.870Z"
   },
   {
    "duration": 15,
    "start_time": "2022-01-16T17:42:52.215Z"
   },
   {
    "duration": 4,
    "start_time": "2022-01-16T17:43:46.043Z"
   },
   {
    "duration": 5,
    "start_time": "2022-01-16T17:44:02.321Z"
   },
   {
    "duration": 1185,
    "start_time": "2022-01-16T17:44:41.661Z"
   },
   {
    "duration": 428,
    "start_time": "2022-01-16T17:44:42.848Z"
   },
   {
    "duration": 3,
    "start_time": "2022-01-16T17:44:43.278Z"
   },
   {
    "duration": 39,
    "start_time": "2022-01-16T17:44:43.283Z"
   },
   {
    "duration": 14,
    "start_time": "2022-01-16T17:44:43.324Z"
   },
   {
    "duration": 53,
    "start_time": "2022-01-16T17:44:43.340Z"
   },
   {
    "duration": 22,
    "start_time": "2022-01-16T17:44:43.395Z"
   },
   {
    "duration": 53,
    "start_time": "2022-01-16T17:44:43.419Z"
   },
   {
    "duration": 13,
    "start_time": "2022-01-16T17:44:43.475Z"
   },
   {
    "duration": 13,
    "start_time": "2022-01-16T17:44:43.490Z"
   },
   {
    "duration": 73,
    "start_time": "2022-01-16T17:44:43.505Z"
   },
   {
    "duration": 28,
    "start_time": "2022-01-16T17:44:43.580Z"
   },
   {
    "duration": 51,
    "start_time": "2022-01-16T17:44:43.610Z"
   },
   {
    "duration": 12,
    "start_time": "2022-01-16T17:44:43.663Z"
   },
   {
    "duration": 12,
    "start_time": "2022-01-16T17:44:43.677Z"
   },
   {
    "duration": 14,
    "start_time": "2022-01-16T17:44:43.691Z"
   },
   {
    "duration": 12,
    "start_time": "2022-01-16T17:44:43.707Z"
   },
   {
    "duration": 44,
    "start_time": "2022-01-16T17:44:43.721Z"
   },
   {
    "duration": 33,
    "start_time": "2022-01-16T17:44:43.766Z"
   },
   {
    "duration": 26,
    "start_time": "2022-01-16T17:44:43.801Z"
   },
   {
    "duration": 47,
    "start_time": "2022-01-16T17:44:43.829Z"
   },
   {
    "duration": 33,
    "start_time": "2022-01-16T17:44:43.877Z"
   },
   {
    "duration": 24,
    "start_time": "2022-01-16T17:44:43.912Z"
   },
   {
    "duration": 15,
    "start_time": "2022-01-16T17:44:56.659Z"
   },
   {
    "duration": 23,
    "start_time": "2022-01-16T17:44:59.071Z"
   },
   {
    "duration": 15,
    "start_time": "2022-01-16T17:45:07.243Z"
   },
   {
    "duration": 358,
    "start_time": "2022-01-16T17:46:00.497Z"
   },
   {
    "duration": 922,
    "start_time": "2022-01-16T17:45:59.936Z"
   },
   {
    "duration": 282,
    "start_time": "2022-01-16T17:46:01.190Z"
   },
   {
    "duration": 3,
    "start_time": "2022-01-16T17:46:05.675Z"
   },
   {
    "duration": 419,
    "start_time": "2022-01-16T17:46:05.680Z"
   },
   {
    "duration": 3,
    "start_time": "2022-01-16T17:46:06.101Z"
   },
   {
    "duration": 23,
    "start_time": "2022-01-16T17:46:06.106Z"
   },
   {
    "duration": 5,
    "start_time": "2022-01-16T17:46:06.131Z"
   },
   {
    "duration": 47,
    "start_time": "2022-01-16T17:46:06.137Z"
   },
   {
    "duration": 21,
    "start_time": "2022-01-16T17:46:06.186Z"
   },
   {
    "duration": 26,
    "start_time": "2022-01-16T17:46:06.209Z"
   },
   {
    "duration": 44,
    "start_time": "2022-01-16T17:46:06.237Z"
   },
   {
    "duration": 7,
    "start_time": "2022-01-16T17:46:06.284Z"
   },
   {
    "duration": 42,
    "start_time": "2022-01-16T17:46:06.293Z"
   },
   {
    "duration": 47,
    "start_time": "2022-01-16T17:46:06.337Z"
   },
   {
    "duration": 34,
    "start_time": "2022-01-16T17:46:06.386Z"
   },
   {
    "duration": 10,
    "start_time": "2022-01-16T17:46:06.422Z"
   },
   {
    "duration": 41,
    "start_time": "2022-01-16T17:46:06.433Z"
   },
   {
    "duration": 17,
    "start_time": "2022-01-16T17:46:06.476Z"
   },
   {
    "duration": 8,
    "start_time": "2022-01-16T17:46:06.494Z"
   },
   {
    "duration": 9,
    "start_time": "2022-01-16T17:46:06.504Z"
   },
   {
    "duration": 34,
    "start_time": "2022-01-16T17:46:06.514Z"
   },
   {
    "duration": 38,
    "start_time": "2022-01-16T17:46:06.549Z"
   },
   {
    "duration": 21,
    "start_time": "2022-01-16T17:46:06.589Z"
   },
   {
    "duration": 26,
    "start_time": "2022-01-16T17:46:06.612Z"
   },
   {
    "duration": 28,
    "start_time": "2022-01-16T17:46:06.664Z"
   },
   {
    "duration": 25,
    "start_time": "2022-01-16T17:46:06.694Z"
   },
   {
    "duration": 65,
    "start_time": "2022-01-16T17:46:06.721Z"
   },
   {
    "duration": 222,
    "start_time": "2022-01-16T17:46:06.787Z"
   },
   {
    "duration": 27,
    "start_time": "2022-01-16T17:46:07.013Z"
   },
   {
    "duration": 109,
    "start_time": "2022-01-16T17:46:07.042Z"
   },
   {
    "duration": 23,
    "start_time": "2022-01-16T17:46:07.152Z"
   },
   {
    "duration": 5,
    "start_time": "2022-01-16T17:46:07.177Z"
   },
   {
    "duration": 6,
    "start_time": "2022-01-16T17:46:07.184Z"
   },
   {
    "duration": 10,
    "start_time": "2022-01-16T17:46:07.192Z"
   },
   {
    "duration": 6,
    "start_time": "2022-01-16T17:46:07.203Z"
   },
   {
    "duration": 5,
    "start_time": "2022-01-16T17:46:07.211Z"
   },
   {
    "duration": 7,
    "start_time": "2022-01-16T17:46:07.218Z"
   },
   {
    "duration": 5,
    "start_time": "2022-01-16T17:46:11.023Z"
   },
   {
    "duration": 4,
    "start_time": "2022-01-16T17:46:23.991Z"
   },
   {
    "duration": 253,
    "start_time": "2022-01-16T17:46:26.096Z"
   },
   {
    "duration": 5,
    "start_time": "2022-01-16T17:46:36.169Z"
   },
   {
    "duration": 5,
    "start_time": "2022-01-16T17:46:51.796Z"
   },
   {
    "duration": 4,
    "start_time": "2022-01-16T17:46:56.248Z"
   },
   {
    "duration": 5,
    "start_time": "2022-01-16T17:47:44.356Z"
   },
   {
    "duration": 4,
    "start_time": "2022-01-16T17:48:18.401Z"
   },
   {
    "duration": 4,
    "start_time": "2022-01-16T17:49:17.001Z"
   },
   {
    "duration": 5,
    "start_time": "2022-01-16T17:49:58.072Z"
   },
   {
    "duration": 83,
    "start_time": "2022-01-16T17:50:39.576Z"
   },
   {
    "duration": 89,
    "start_time": "2022-01-16T17:50:45.524Z"
   },
   {
    "duration": 5,
    "start_time": "2022-01-16T17:51:00.911Z"
   },
   {
    "duration": 5,
    "start_time": "2022-01-16T17:51:38.438Z"
   },
   {
    "duration": 6,
    "start_time": "2022-01-16T17:52:00.141Z"
   },
   {
    "duration": 5,
    "start_time": "2022-01-16T17:52:26.489Z"
   },
   {
    "duration": 5,
    "start_time": "2022-01-16T17:52:40.183Z"
   },
   {
    "duration": 91,
    "start_time": "2022-01-16T17:52:51.448Z"
   },
   {
    "duration": 5,
    "start_time": "2022-01-16T17:52:54.147Z"
   },
   {
    "duration": 372,
    "start_time": "2022-01-16T17:53:52.292Z"
   },
   {
    "duration": 356,
    "start_time": "2022-01-16T17:54:03.472Z"
   },
   {
    "duration": 9,
    "start_time": "2022-01-16T17:54:55.595Z"
   },
   {
    "duration": 5,
    "start_time": "2022-01-16T17:55:27.184Z"
   },
   {
    "duration": 247,
    "start_time": "2022-01-16T18:03:23.476Z"
   },
   {
    "duration": 439,
    "start_time": "2022-01-16T18:03:33.362Z"
   },
   {
    "duration": 428,
    "start_time": "2022-01-16T18:04:33.752Z"
   },
   {
    "duration": 15725,
    "start_time": "2022-01-16T18:08:11.313Z"
   },
   {
    "duration": 6,
    "start_time": "2022-01-16T18:16:10.382Z"
   },
   {
    "duration": 5,
    "start_time": "2022-01-16T18:16:54.998Z"
   },
   {
    "duration": 6,
    "start_time": "2022-01-16T18:17:39.358Z"
   },
   {
    "duration": 6,
    "start_time": "2022-01-16T18:20:33.746Z"
   },
   {
    "duration": 31,
    "start_time": "2022-01-16T18:20:39.589Z"
   },
   {
    "duration": 29,
    "start_time": "2022-01-16T18:21:00.523Z"
   },
   {
    "duration": 7,
    "start_time": "2022-01-16T18:21:21.504Z"
   },
   {
    "duration": 88,
    "start_time": "2022-01-16T18:40:58.230Z"
   },
   {
    "duration": 7352,
    "start_time": "2022-01-16T18:45:54.996Z"
   },
   {
    "duration": 1427,
    "start_time": "2022-01-17T06:44:08.829Z"
   },
   {
    "duration": 536,
    "start_time": "2022-01-17T06:44:10.259Z"
   },
   {
    "duration": 4,
    "start_time": "2022-01-17T06:44:10.798Z"
   },
   {
    "duration": 34,
    "start_time": "2022-01-17T06:44:10.805Z"
   },
   {
    "duration": 9,
    "start_time": "2022-01-17T06:44:10.841Z"
   },
   {
    "duration": 47,
    "start_time": "2022-01-17T06:44:10.852Z"
   },
   {
    "duration": 30,
    "start_time": "2022-01-17T06:44:10.902Z"
   },
   {
    "duration": 64,
    "start_time": "2022-01-17T06:44:10.935Z"
   },
   {
    "duration": 21,
    "start_time": "2022-01-17T06:44:11.004Z"
   },
   {
    "duration": 157,
    "start_time": "2022-01-17T06:44:11.069Z"
   },
   {
    "duration": 12,
    "start_time": "2022-01-17T06:44:11.229Z"
   },
   {
    "duration": 82,
    "start_time": "2022-01-17T06:44:11.244Z"
   },
   {
    "duration": 62,
    "start_time": "2022-01-17T06:44:11.329Z"
   },
   {
    "duration": 46,
    "start_time": "2022-01-17T06:44:11.393Z"
   },
   {
    "duration": 33,
    "start_time": "2022-01-17T06:44:11.441Z"
   },
   {
    "duration": 12,
    "start_time": "2022-01-17T06:44:11.476Z"
   },
   {
    "duration": 15,
    "start_time": "2022-01-17T06:44:11.490Z"
   },
   {
    "duration": 11,
    "start_time": "2022-01-17T06:44:11.507Z"
   },
   {
    "duration": 62,
    "start_time": "2022-01-17T06:44:11.521Z"
   },
   {
    "duration": 46,
    "start_time": "2022-01-17T06:44:11.585Z"
   },
   {
    "duration": 55,
    "start_time": "2022-01-17T06:44:11.634Z"
   },
   {
    "duration": 29,
    "start_time": "2022-01-17T06:44:11.692Z"
   },
   {
    "duration": 63,
    "start_time": "2022-01-17T06:44:11.724Z"
   },
   {
    "duration": 33,
    "start_time": "2022-01-17T06:44:11.790Z"
   },
   {
    "duration": 54,
    "start_time": "2022-01-17T06:44:11.825Z"
   },
   {
    "duration": 65,
    "start_time": "2022-01-17T06:44:11.882Z"
   },
   {
    "duration": 338,
    "start_time": "2022-01-17T06:44:11.969Z"
   },
   {
    "duration": 59,
    "start_time": "2022-01-17T06:44:12.310Z"
   },
   {
    "duration": 20,
    "start_time": "2022-01-17T06:44:12.371Z"
   },
   {
    "duration": 5,
    "start_time": "2022-01-17T06:44:12.394Z"
   },
   {
    "duration": 9,
    "start_time": "2022-01-17T06:44:12.402Z"
   },
   {
    "duration": 9,
    "start_time": "2022-01-17T06:44:12.414Z"
   },
   {
    "duration": 43,
    "start_time": "2022-01-17T06:44:12.426Z"
   },
   {
    "duration": 6,
    "start_time": "2022-01-17T06:44:12.472Z"
   },
   {
    "duration": 7,
    "start_time": "2022-01-17T06:44:12.481Z"
   },
   {
    "duration": 13,
    "start_time": "2022-01-17T06:44:12.490Z"
   },
   {
    "duration": 6,
    "start_time": "2022-01-17T06:44:12.506Z"
   },
   {
    "duration": 653,
    "start_time": "2022-01-17T06:44:12.514Z"
   },
   {
    "duration": 613,
    "start_time": "2022-01-17T06:44:13.169Z"
   },
   {
    "duration": 585,
    "start_time": "2022-01-17T06:44:13.785Z"
   },
   {
    "duration": 7,
    "start_time": "2022-01-17T06:44:14.373Z"
   },
   {
    "duration": 44,
    "start_time": "2022-01-17T06:44:14.382Z"
   },
   {
    "duration": 68,
    "start_time": "2022-01-17T06:44:14.428Z"
   },
   {
    "duration": 7,
    "start_time": "2022-01-17T06:44:14.499Z"
   },
   {
    "duration": 5,
    "start_time": "2022-01-17T07:13:56.050Z"
   },
   {
    "duration": 95,
    "start_time": "2022-01-17T07:52:03.259Z"
   },
   {
    "duration": 417,
    "start_time": "2022-01-17T07:52:19.246Z"
   },
   {
    "duration": 6,
    "start_time": "2022-01-17T07:52:28.738Z"
   },
   {
    "duration": 7,
    "start_time": "2022-01-17T07:52:55.119Z"
   },
   {
    "duration": 6,
    "start_time": "2022-01-17T07:57:56.270Z"
   },
   {
    "duration": 674,
    "start_time": "2022-01-17T07:58:26.065Z"
   },
   {
    "duration": 267,
    "start_time": "2022-01-20T09:06:47.893Z"
   },
   {
    "duration": 1060,
    "start_time": "2022-01-20T09:06:54.619Z"
   },
   {
    "duration": 361,
    "start_time": "2022-01-20T09:06:55.681Z"
   },
   {
    "duration": 2,
    "start_time": "2022-01-20T09:06:56.044Z"
   },
   {
    "duration": 20,
    "start_time": "2022-01-20T09:06:56.048Z"
   },
   {
    "duration": 5,
    "start_time": "2022-01-20T09:06:56.069Z"
   },
   {
    "duration": 28,
    "start_time": "2022-01-20T09:06:56.076Z"
   },
   {
    "duration": 39,
    "start_time": "2022-01-20T09:06:56.106Z"
   },
   {
    "duration": 24,
    "start_time": "2022-01-20T09:06:56.147Z"
   },
   {
    "duration": 11,
    "start_time": "2022-01-20T09:06:56.174Z"
   },
   {
    "duration": 134,
    "start_time": "2022-01-20T09:06:56.187Z"
   },
   {
    "duration": 7,
    "start_time": "2022-01-20T09:06:56.322Z"
   },
   {
    "duration": 49,
    "start_time": "2022-01-20T09:06:56.331Z"
   },
   {
    "duration": 24,
    "start_time": "2022-01-20T09:06:56.382Z"
   },
   {
    "duration": 50,
    "start_time": "2022-01-20T09:06:56.407Z"
   },
   {
    "duration": 9,
    "start_time": "2022-01-20T09:06:56.459Z"
   },
   {
    "duration": 9,
    "start_time": "2022-01-20T09:06:56.469Z"
   },
   {
    "duration": 7,
    "start_time": "2022-01-20T09:06:56.479Z"
   },
   {
    "duration": 8,
    "start_time": "2022-01-20T09:06:56.487Z"
   },
   {
    "duration": 13,
    "start_time": "2022-01-20T09:06:56.497Z"
   },
   {
    "duration": 59,
    "start_time": "2022-01-20T09:06:56.511Z"
   },
   {
    "duration": 23,
    "start_time": "2022-01-20T09:06:56.571Z"
   },
   {
    "duration": 18,
    "start_time": "2022-01-20T09:06:56.595Z"
   },
   {
    "duration": 45,
    "start_time": "2022-01-20T09:06:56.614Z"
   },
   {
    "duration": 19,
    "start_time": "2022-01-20T09:06:56.661Z"
   },
   {
    "duration": 20,
    "start_time": "2022-01-20T09:06:56.681Z"
   },
   {
    "duration": 55,
    "start_time": "2022-01-20T09:06:56.702Z"
   },
   {
    "duration": 184,
    "start_time": "2022-01-20T09:06:56.760Z"
   },
   {
    "duration": 271,
    "start_time": "2022-01-20T09:06:56.946Z"
   },
   {
    "duration": -724,
    "start_time": "2022-01-20T09:06:57.942Z"
   },
   {
    "duration": -732,
    "start_time": "2022-01-20T09:06:57.951Z"
   },
   {
    "duration": -752,
    "start_time": "2022-01-20T09:06:57.972Z"
   },
   {
    "duration": -755,
    "start_time": "2022-01-20T09:06:57.976Z"
   },
   {
    "duration": -758,
    "start_time": "2022-01-20T09:06:57.980Z"
   },
   {
    "duration": -761,
    "start_time": "2022-01-20T09:06:57.984Z"
   },
   {
    "duration": -763,
    "start_time": "2022-01-20T09:06:57.987Z"
   },
   {
    "duration": -766,
    "start_time": "2022-01-20T09:06:57.991Z"
   },
   {
    "duration": -768,
    "start_time": "2022-01-20T09:06:57.994Z"
   },
   {
    "duration": -771,
    "start_time": "2022-01-20T09:06:57.998Z"
   },
   {
    "duration": -774,
    "start_time": "2022-01-20T09:06:58.002Z"
   },
   {
    "duration": -776,
    "start_time": "2022-01-20T09:06:58.005Z"
   },
   {
    "duration": -779,
    "start_time": "2022-01-20T09:06:58.009Z"
   },
   {
    "duration": -782,
    "start_time": "2022-01-20T09:06:58.013Z"
   },
   {
    "duration": -784,
    "start_time": "2022-01-20T09:06:58.016Z"
   },
   {
    "duration": -788,
    "start_time": "2022-01-20T09:06:58.021Z"
   },
   {
    "duration": -791,
    "start_time": "2022-01-20T09:06:58.024Z"
   },
   {
    "duration": -794,
    "start_time": "2022-01-20T09:06:58.028Z"
   },
   {
    "duration": -796,
    "start_time": "2022-01-20T09:06:58.031Z"
   },
   {
    "duration": -799,
    "start_time": "2022-01-20T09:06:58.035Z"
   },
   {
    "duration": -801,
    "start_time": "2022-01-20T09:06:58.038Z"
   },
   {
    "duration": -804,
    "start_time": "2022-01-20T09:06:58.042Z"
   },
   {
    "duration": 340,
    "start_time": "2022-01-20T09:29:07.128Z"
   },
   {
    "duration": 247,
    "start_time": "2022-01-20T09:29:31.553Z"
   },
   {
    "duration": 211,
    "start_time": "2022-01-20T09:38:48.571Z"
   },
   {
    "duration": 22,
    "start_time": "2022-01-20T09:38:49.958Z"
   },
   {
    "duration": 1079,
    "start_time": "2022-01-20T09:39:03.371Z"
   },
   {
    "duration": 660,
    "start_time": "2022-01-20T09:39:04.452Z"
   },
   {
    "duration": 3,
    "start_time": "2022-01-20T09:39:05.114Z"
   },
   {
    "duration": 46,
    "start_time": "2022-01-20T09:39:05.119Z"
   },
   {
    "duration": 13,
    "start_time": "2022-01-20T09:39:05.167Z"
   },
   {
    "duration": 57,
    "start_time": "2022-01-20T09:39:05.181Z"
   },
   {
    "duration": 27,
    "start_time": "2022-01-20T09:39:05.240Z"
   },
   {
    "duration": 56,
    "start_time": "2022-01-20T09:39:05.270Z"
   },
   {
    "duration": 20,
    "start_time": "2022-01-20T09:39:05.328Z"
   },
   {
    "duration": 94,
    "start_time": "2022-01-20T09:39:05.350Z"
   },
   {
    "duration": 8,
    "start_time": "2022-01-20T09:39:05.446Z"
   },
   {
    "duration": 62,
    "start_time": "2022-01-20T09:39:05.455Z"
   },
   {
    "duration": 53,
    "start_time": "2022-01-20T09:39:05.519Z"
   },
   {
    "duration": 80,
    "start_time": "2022-01-20T09:39:05.574Z"
   },
   {
    "duration": 25,
    "start_time": "2022-01-20T09:39:05.655Z"
   },
   {
    "duration": 51,
    "start_time": "2022-01-20T09:39:05.682Z"
   },
   {
    "duration": 20,
    "start_time": "2022-01-20T09:39:05.735Z"
   },
   {
    "duration": 27,
    "start_time": "2022-01-20T09:39:05.756Z"
   },
   {
    "duration": 45,
    "start_time": "2022-01-20T09:39:05.785Z"
   },
   {
    "duration": 61,
    "start_time": "2022-01-20T09:39:05.831Z"
   },
   {
    "duration": 34,
    "start_time": "2022-01-20T09:39:05.894Z"
   },
   {
    "duration": 35,
    "start_time": "2022-01-20T09:39:05.930Z"
   },
   {
    "duration": 50,
    "start_time": "2022-01-20T09:39:05.968Z"
   },
   {
    "duration": 28,
    "start_time": "2022-01-20T09:39:06.020Z"
   },
   {
    "duration": 29,
    "start_time": "2022-01-20T09:39:06.050Z"
   },
   {
    "duration": 69,
    "start_time": "2022-01-20T09:39:06.081Z"
   },
   {
    "duration": 231,
    "start_time": "2022-01-20T09:39:06.152Z"
   },
   {
    "duration": 24,
    "start_time": "2022-01-20T09:39:06.384Z"
   },
   {
    "duration": 22,
    "start_time": "2022-01-20T09:39:06.410Z"
   },
   {
    "duration": 53,
    "start_time": "2022-01-20T09:39:06.433Z"
   },
   {
    "duration": 50,
    "start_time": "2022-01-20T09:39:06.488Z"
   },
   {
    "duration": 36,
    "start_time": "2022-01-20T09:39:06.539Z"
   },
   {
    "duration": 368,
    "start_time": "2022-01-20T09:39:06.576Z"
   },
   {
    "duration": 3,
    "start_time": "2022-01-20T09:39:06.946Z"
   },
   {
    "duration": 62,
    "start_time": "2022-01-20T09:39:06.951Z"
   },
   {
    "duration": 35,
    "start_time": "2022-01-20T09:39:07.015Z"
   },
   {
    "duration": 352,
    "start_time": "2022-01-20T09:39:07.052Z"
   },
   {
    "duration": 4,
    "start_time": "2022-01-20T09:39:07.406Z"
   },
   {
    "duration": 22,
    "start_time": "2022-01-20T09:39:07.411Z"
   },
   {
    "duration": 43,
    "start_time": "2022-01-20T09:39:07.435Z"
   },
   {
    "duration": 332,
    "start_time": "2022-01-20T09:39:07.480Z"
   },
   {
    "duration": 4,
    "start_time": "2022-01-20T09:39:07.814Z"
   },
   {
    "duration": 5,
    "start_time": "2022-01-20T09:39:07.819Z"
   },
   {
    "duration": 5,
    "start_time": "2022-01-20T09:39:07.825Z"
   },
   {
    "duration": 443,
    "start_time": "2022-01-20T09:39:07.832Z"
   },
   {
    "duration": 4,
    "start_time": "2022-01-20T09:39:08.277Z"
   },
   {
    "duration": 71,
    "start_time": "2022-01-20T09:39:08.283Z"
   },
   {
    "duration": 25,
    "start_time": "2022-01-20T09:39:08.355Z"
   },
   {
    "duration": 4,
    "start_time": "2022-01-20T09:39:08.381Z"
   },
   {
    "duration": 14,
    "start_time": "2022-01-20T09:41:28.689Z"
   },
   {
    "duration": 12,
    "start_time": "2022-01-20T09:41:36.798Z"
   },
   {
    "duration": 6810,
    "start_time": "2022-01-20T09:41:40.749Z"
   },
   {
    "duration": 3,
    "start_time": "2022-01-20T09:43:53.943Z"
   },
   {
    "duration": 28,
    "start_time": "2022-01-20T09:43:53.948Z"
   },
   {
    "duration": 3,
    "start_time": "2022-01-20T09:44:28.326Z"
   },
   {
    "duration": 19,
    "start_time": "2022-01-20T09:44:46.357Z"
   },
   {
    "duration": 8,
    "start_time": "2022-01-20T09:44:52.274Z"
   },
   {
    "duration": 16,
    "start_time": "2022-01-20T09:44:54.177Z"
   },
   {
    "duration": 13,
    "start_time": "2022-01-20T09:44:55.437Z"
   },
   {
    "duration": 14,
    "start_time": "2022-01-20T09:44:55.934Z"
   },
   {
    "duration": 14,
    "start_time": "2022-01-20T09:44:56.947Z"
   },
   {
    "duration": 77,
    "start_time": "2022-01-20T09:44:57.997Z"
   },
   {
    "duration": 5878,
    "start_time": "2022-01-20T09:45:39.287Z"
   },
   {
    "duration": 1090,
    "start_time": "2022-01-20T09:45:56.511Z"
   },
   {
    "duration": 406,
    "start_time": "2022-01-20T09:45:57.603Z"
   },
   {
    "duration": 3,
    "start_time": "2022-01-20T09:45:58.012Z"
   },
   {
    "duration": 42,
    "start_time": "2022-01-20T09:45:58.016Z"
   },
   {
    "duration": 33,
    "start_time": "2022-01-20T09:45:58.059Z"
   },
   {
    "duration": 166,
    "start_time": "2022-01-20T09:45:58.094Z"
   },
   {
    "duration": 60,
    "start_time": "2022-01-20T09:45:58.262Z"
   },
   {
    "duration": 97,
    "start_time": "2022-01-20T09:45:58.325Z"
   },
   {
    "duration": 27,
    "start_time": "2022-01-20T09:45:58.424Z"
   },
   {
    "duration": 95,
    "start_time": "2022-01-20T09:45:58.453Z"
   },
   {
    "duration": 8,
    "start_time": "2022-01-20T09:45:58.549Z"
   },
   {
    "duration": 63,
    "start_time": "2022-01-20T09:45:58.559Z"
   },
   {
    "duration": 25,
    "start_time": "2022-01-20T09:45:58.624Z"
   },
   {
    "duration": 40,
    "start_time": "2022-01-20T09:45:58.651Z"
   },
   {
    "duration": 14,
    "start_time": "2022-01-20T09:45:58.693Z"
   },
   {
    "duration": 16,
    "start_time": "2022-01-20T09:45:58.709Z"
   },
   {
    "duration": 59,
    "start_time": "2022-01-20T09:45:58.727Z"
   },
   {
    "duration": 42,
    "start_time": "2022-01-20T09:45:58.789Z"
   },
   {
    "duration": 22,
    "start_time": "2022-01-20T09:45:58.833Z"
   },
   {
    "duration": 28,
    "start_time": "2022-01-20T09:45:58.857Z"
   },
   {
    "duration": 25,
    "start_time": "2022-01-20T09:45:58.887Z"
   },
   {
    "duration": 33,
    "start_time": "2022-01-20T09:45:58.914Z"
   },
   {
    "duration": 25,
    "start_time": "2022-01-20T09:45:58.951Z"
   },
   {
    "duration": 22,
    "start_time": "2022-01-20T09:45:58.978Z"
   },
   {
    "duration": 40,
    "start_time": "2022-01-20T09:45:59.002Z"
   },
   {
    "duration": 40,
    "start_time": "2022-01-20T09:45:59.043Z"
   },
   {
    "duration": 238,
    "start_time": "2022-01-20T09:45:59.084Z"
   },
   {
    "duration": 29,
    "start_time": "2022-01-20T09:45:59.324Z"
   },
   {
    "duration": 12,
    "start_time": "2022-01-20T09:45:59.354Z"
   },
   {
    "duration": 3,
    "start_time": "2022-01-20T09:45:59.368Z"
   },
   {
    "duration": 6,
    "start_time": "2022-01-20T09:45:59.373Z"
   },
   {
    "duration": 5,
    "start_time": "2022-01-20T09:45:59.380Z"
   },
   {
    "duration": 389,
    "start_time": "2022-01-20T09:45:59.387Z"
   },
   {
    "duration": 4,
    "start_time": "2022-01-20T09:45:59.778Z"
   },
   {
    "duration": 7,
    "start_time": "2022-01-20T09:45:59.784Z"
   },
   {
    "duration": 5,
    "start_time": "2022-01-20T09:45:59.792Z"
   },
   {
    "duration": 387,
    "start_time": "2022-01-20T09:45:59.799Z"
   },
   {
    "duration": 5,
    "start_time": "2022-01-20T09:46:00.188Z"
   },
   {
    "duration": 11,
    "start_time": "2022-01-20T09:46:00.194Z"
   },
   {
    "duration": 12,
    "start_time": "2022-01-20T09:46:00.206Z"
   },
   {
    "duration": 375,
    "start_time": "2022-01-20T09:46:00.219Z"
   },
   {
    "duration": 5,
    "start_time": "2022-01-20T09:46:00.595Z"
   },
   {
    "duration": 11,
    "start_time": "2022-01-20T09:46:00.601Z"
   },
   {
    "duration": 9,
    "start_time": "2022-01-20T09:46:00.614Z"
   },
   {
    "duration": 505,
    "start_time": "2022-01-20T09:46:00.624Z"
   },
   {
    "duration": 15,
    "start_time": "2022-01-20T09:46:01.131Z"
   },
   {
    "duration": 94,
    "start_time": "2022-01-20T09:46:01.147Z"
   },
   {
    "duration": 63,
    "start_time": "2022-01-20T09:46:01.243Z"
   },
   {
    "duration": 19,
    "start_time": "2022-01-20T09:46:01.308Z"
   }
  ],
  "kernelspec": {
   "display_name": "Python 3 (ipykernel)",
   "language": "python",
   "name": "python3"
  },
  "language_info": {
   "codemirror_mode": {
    "name": "ipython",
    "version": 3
   },
   "file_extension": ".py",
   "mimetype": "text/x-python",
   "name": "python",
   "nbconvert_exporter": "python",
   "pygments_lexer": "ipython3",
   "version": "3.7.8"
  },
  "toc": {
   "base_numbering": 1,
   "nav_menu": {},
   "number_sections": true,
   "sideBar": true,
   "skip_h1_title": true,
   "title_cell": "Table of Contents",
   "title_sidebar": "Contents",
   "toc_cell": false,
   "toc_position": {},
   "toc_section_display": true,
   "toc_window_display": true
  }
 },
 "nbformat": 4,
 "nbformat_minor": 2
}
