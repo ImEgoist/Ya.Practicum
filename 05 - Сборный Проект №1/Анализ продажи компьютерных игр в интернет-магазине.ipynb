{
 "cells": [
  {
   "cell_type": "markdown",
   "id": "ddd4c6e3",
   "metadata": {
    "toc": true
   },
   "source": [
    "<h1>Table of Contents<span class=\"tocSkip\"></span></h1>\n",
    "<div class=\"toc\"><ul class=\"toc-item\"><li><span><a href=\"#Общая-информация\" data-toc-modified-id=\"Общая-информация-1\">Общая информация</a></span><ul class=\"toc-item\"><li><span><a href=\"#Описание-проекта\" data-toc-modified-id=\"Описание-проекта-1.1\">Описание проекта</a></span></li><li><span><a href=\"#Описание-данных\" data-toc-modified-id=\"Описание-данных-1.2\">Описание данных</a></span></li><li><span><a href=\"#Общая-информация-о-данных\" data-toc-modified-id=\"Общая-информация-о-данных-1.3\">Общая информация о данных</a></span></li><li><span><a href=\"#Вывод\" data-toc-modified-id=\"Вывод-1.4\">Вывод</a></span></li></ul></li><li><span><a href=\"#Подготовка-данных\" data-toc-modified-id=\"Подготовка-данных-2\">Подготовка данных</a></span><ul class=\"toc-item\"><li><span><a href=\"#Переименование-столбцов,-поиск-дубликатов\" data-toc-modified-id=\"Переименование-столбцов,-поиск-дубликатов-2.1\">Переименование столбцов, поиск дубликатов</a></span></li><li><span><a href=\"#Поиск-пропусков-и-замена-типов-данных\" data-toc-modified-id=\"Поиск-пропусков-и-замена-типов-данных-2.2\">Поиск пропусков и замена типов данных</a></span></li><li><span><a href=\"#Суммарные-продажи-во-всех-регионах\" data-toc-modified-id=\"Суммарные-продажи-во-всех-регионах-2.3\">Суммарные продажи во всех регионах</a></span></li><li><span><a href=\"#Вывод\" data-toc-modified-id=\"Вывод-2.4\">Вывод</a></span></li></ul></li><li><span><a href=\"#Исследовательский-анализ-данных\" data-toc-modified-id=\"Исследовательский-анализ-данных-3\">Исследовательский анализ данных</a></span><ul class=\"toc-item\"><li><span><a href=\"#Распределение-игр-по-годам\" data-toc-modified-id=\"Распределение-игр-по-годам-3.1\">Распределение игр по годам</a></span></li><li><span><a href=\"#Самые-популярные-платформы\" data-toc-modified-id=\"Самые-популярные-платформы-3.2\">Самые популярные платформы</a></span></li><li><span><a href=\"#Потенциальная-прибыль\" data-toc-modified-id=\"Потенциальная-прибыль-3.3\">Потенциальная прибыль</a></span></li><li><span><a href=\"#Комментарий-от-ревьюера-v_1\" data-toc-modified-id=\"Комментарий-от-ревьюера-v_1-3.4\">Комментарий от ревьюера v_1</a></span></li><li><span><a href=\"#Диаграмма-размаха\" data-toc-modified-id=\"Диаграмма-размаха-3.5\">Диаграмма размаха</a></span></li><li><span><a href=\"#Комментарий-от-ревьюера-v_1\" data-toc-modified-id=\"Комментарий-от-ревьюера-v_1-3.6\">Комментарий от ревьюера v_1</a></span></li><li><span><a href=\"#Влияние-оценок-критиков-на-продажи\" data-toc-modified-id=\"Влияние-оценок-критиков-на-продажи-3.7\">Влияние оценок критиков на продажи</a></span></li><li><span><a href=\"#Комментарий-от-ревьюера-v_1\" data-toc-modified-id=\"Комментарий-от-ревьюера-v_1-3.8\">Комментарий от ревьюера v_1</a></span></li><li><span><a href=\"#Распределение-игр-по-жанрам\" data-toc-modified-id=\"Распределение-игр-по-жанрам-3.9\">Распределение игр по жанрам</a></span></li><li><span><a href=\"#Комментарий-от-ревьюера-v_1\" data-toc-modified-id=\"Комментарий-от-ревьюера-v_1-3.10\">Комментарий от ревьюера v_1</a></span></li><li><span><a href=\"#Комментарий-от-ревьюера-v_2\" data-toc-modified-id=\"Комментарий-от-ревьюера-v_2-3.11\">Комментарий от ревьюера v_2</a></span></li><li><span><a href=\"#Вывод\" data-toc-modified-id=\"Вывод-3.12\">Вывод</a></span></li></ul></li><li><span><a href=\"#Портрет-пользователей\" data-toc-modified-id=\"Портрет-пользователей-4\">Портрет пользователей</a></span><ul class=\"toc-item\"><li><span><a href=\"#Исследования\" data-toc-modified-id=\"Исследования-4.1\">Исследования</a></span></li><li><span><a href=\"#Вывод\" data-toc-modified-id=\"Вывод-4.2\">Вывод</a></span></li><li><span><a href=\"#Комментарий-от-ревьюера-v_1\" data-toc-modified-id=\"Комментарий-от-ревьюера-v_1-4.3\">Комментарий от ревьюера v_1</a></span></li><li><span><a href=\"#Комментарий-от-ревьюера-v_1\" data-toc-modified-id=\"Комментарий-от-ревьюера-v_1-4.4\">Комментарий от ревьюера v_1</a></span></li></ul></li><li><span><a href=\"#Проверка-гипотез\" data-toc-modified-id=\"Проверка-гипотез-5\">Проверка гипотез</a></span><ul class=\"toc-item\"><li><span><a href=\"#Первая-гипотеза---о-рейтингах-платформ-Xbox-one-и-PC\" data-toc-modified-id=\"Первая-гипотеза---о-рейтингах-платформ-Xbox-one-и-PC-5.1\">Первая гипотеза - о рейтингах платформ Xbox one и PC</a></span></li><li><span><a href=\"#Комментарий-от-ревьюера-v_1\" data-toc-modified-id=\"Комментарий-от-ревьюера-v_1-5.2\">Комментарий от ревьюера v_1</a></span></li><li><span><a href=\"#Вторая-гипотеза---о-рейтингах-жанров-Action-и-Sports\" data-toc-modified-id=\"Вторая-гипотеза---о-рейтингах-жанров-Action-и-Sports-5.3\">Вторая гипотеза - о рейтингах жанров Action и Sports</a></span></li><li><span><a href=\"#Комментарий-от-ревьюера-v_1\" data-toc-modified-id=\"Комментарий-от-ревьюера-v_1-5.4\">Комментарий от ревьюера v_1</a></span></li><li><span><a href=\"#Комментарий-от-ревьюера-v_1\" data-toc-modified-id=\"Комментарий-от-ревьюера-v_1-5.5\">Комментарий от ревьюера v_1</a></span></li><li><span><a href=\"#Комментарий-от-ревьюера-v_1\" data-toc-modified-id=\"Комментарий-от-ревьюера-v_1-5.6\">Комментарий от ревьюера v_1</a></span></li><li><span><a href=\"#Комментарий-от-ревьюера-v_2\" data-toc-modified-id=\"Комментарий-от-ревьюера-v_2-5.7\">Комментарий от ревьюера v_2</a></span></li></ul></li><li><span><a href=\"#Общий-вывод\" data-toc-modified-id=\"Общий-вывод-6\">Общий вывод</a></span><ul class=\"toc-item\"><li><span><a href=\"#Комментарий-от-ревьюера-v_1\" data-toc-modified-id=\"Комментарий-от-ревьюера-v_1-6.1\">Комментарий от ревьюера v_1</a></span></li></ul></li></ul></div>"
   ]
  },
  {
   "cell_type": "markdown",
   "id": "3c3bdb19",
   "metadata": {},
   "source": [
    "## Общая информация"
   ]
  },
  {
   "cell_type": "markdown",
   "id": "5e807cbc",
   "metadata": {},
   "source": [
    "### Описание проекта"
   ]
  },
  {
   "cell_type": "markdown",
   "id": "06c12baa",
   "metadata": {},
   "source": [
    "Я работаю в интернет-магазине «Стримчик», который продаёт по всему миру компьютерные игры. Из открытых источников доступны исторические данные о продажах игр, оценки пользователей и экспертов, жанры и платформы (например, Xbox или PlayStation). Мне нужно выявить определяющие успешность игры закономерности. Это позволит сделать ставку на потенциально популярный продукт и спланировать рекламные кампании.\n",
    "\n",
    "Перед нами данные до 2016 года. Представим, что сейчас декабрь 2016 г., и мы планируете кампанию на 2017-й. Нужно отработать принцип работы с данными. Неважно, прогнозируем ли мы продажи на 2017 год по данным 2016-го или же 2027-й — по данным 2026 года.\n",
    "\n",
    "В наборе данных попадается аббревиатура ESRB (Entertainment Software Rating Board) — это ассоциация, определяющая возрастной рейтинг компьютерных игр. ESRB оценивает игровой контент и присваивает ему подходящую возрастную категорию, например, «Для взрослых», «Для детей младшего возраста» или «Для подростков»."
   ]
  },
  {
   "cell_type": "markdown",
   "id": "ab99c9b1",
   "metadata": {},
   "source": [
    "### Описание данных"
   ]
  },
  {
   "cell_type": "markdown",
   "id": "d2b2977e",
   "metadata": {},
   "source": [
    "- Name — название игры\n",
    "- Platform — платформа\n",
    "- Year_of_Release — год выпуска\n",
    "- Genre — жанр игры\n",
    "- NA_sales — продажи в Северной Америке (миллионы проданных копий)\n",
    "- EU_sales — продажи в Европе (миллионы проданных копий)\n",
    "- JP_sales — продажи в Японии (миллионы проданных копий)\n",
    "- Other_sales — продажи в других странах (миллионы проданных копий)\n",
    "- Critic_Score — оценка критиков (максимум 100)\n",
    "- User_Score — оценка пользователей (максимум 10)\n",
    "- Rating — рейтинг от организации ESRB (англ. Entertainment Software Rating Board). Эта ассоциация определяет рейтинг компьютерных игр и присваивает им подходящую возрастную категорию."
   ]
  },
  {
   "cell_type": "markdown",
   "id": "a11c39f3",
   "metadata": {},
   "source": [
    "### Общая информация о данных"
   ]
  },
  {
   "cell_type": "markdown",
   "id": "9c8f30b5",
   "metadata": {},
   "source": [
    "Загрузим все необходимые библиотеки"
   ]
  },
  {
   "cell_type": "code",
   "execution_count": 1,
   "id": "63920a08",
   "metadata": {},
   "outputs": [],
   "source": [
    "import pandas as pd\n",
    "import matplotlib.pyplot as plt\n",
    "import warnings\n",
    "import seaborn as sns\n",
    "from scipy import stats as st\n",
    "warnings.filterwarnings('ignore')"
   ]
  },
  {
   "cell_type": "markdown",
   "id": "00a1af19",
   "metadata": {},
   "source": [
    "Прочитаем файл и посмотрим на первые строчки нашего датасета."
   ]
  },
  {
   "cell_type": "code",
   "execution_count": 2,
   "id": "a276b960",
   "metadata": {},
   "outputs": [
    {
     "data": {
      "text/html": [
       "<div>\n",
       "<style scoped>\n",
       "    .dataframe tbody tr th:only-of-type {\n",
       "        vertical-align: middle;\n",
       "    }\n",
       "\n",
       "    .dataframe tbody tr th {\n",
       "        vertical-align: top;\n",
       "    }\n",
       "\n",
       "    .dataframe thead th {\n",
       "        text-align: right;\n",
       "    }\n",
       "</style>\n",
       "<table border=\"1\" class=\"dataframe\">\n",
       "  <thead>\n",
       "    <tr style=\"text-align: right;\">\n",
       "      <th></th>\n",
       "      <th>Name</th>\n",
       "      <th>Platform</th>\n",
       "      <th>Year_of_Release</th>\n",
       "      <th>Genre</th>\n",
       "      <th>NA_sales</th>\n",
       "      <th>EU_sales</th>\n",
       "      <th>JP_sales</th>\n",
       "      <th>Other_sales</th>\n",
       "      <th>Critic_Score</th>\n",
       "      <th>User_Score</th>\n",
       "      <th>Rating</th>\n",
       "    </tr>\n",
       "  </thead>\n",
       "  <tbody>\n",
       "    <tr>\n",
       "      <td>0</td>\n",
       "      <td>Wii Sports</td>\n",
       "      <td>Wii</td>\n",
       "      <td>2006.0</td>\n",
       "      <td>Sports</td>\n",
       "      <td>41.36</td>\n",
       "      <td>28.96</td>\n",
       "      <td>3.77</td>\n",
       "      <td>8.45</td>\n",
       "      <td>76.0</td>\n",
       "      <td>8</td>\n",
       "      <td>E</td>\n",
       "    </tr>\n",
       "    <tr>\n",
       "      <td>1</td>\n",
       "      <td>Super Mario Bros.</td>\n",
       "      <td>NES</td>\n",
       "      <td>1985.0</td>\n",
       "      <td>Platform</td>\n",
       "      <td>29.08</td>\n",
       "      <td>3.58</td>\n",
       "      <td>6.81</td>\n",
       "      <td>0.77</td>\n",
       "      <td>NaN</td>\n",
       "      <td>NaN</td>\n",
       "      <td>NaN</td>\n",
       "    </tr>\n",
       "    <tr>\n",
       "      <td>2</td>\n",
       "      <td>Mario Kart Wii</td>\n",
       "      <td>Wii</td>\n",
       "      <td>2008.0</td>\n",
       "      <td>Racing</td>\n",
       "      <td>15.68</td>\n",
       "      <td>12.76</td>\n",
       "      <td>3.79</td>\n",
       "      <td>3.29</td>\n",
       "      <td>82.0</td>\n",
       "      <td>8.3</td>\n",
       "      <td>E</td>\n",
       "    </tr>\n",
       "    <tr>\n",
       "      <td>3</td>\n",
       "      <td>Wii Sports Resort</td>\n",
       "      <td>Wii</td>\n",
       "      <td>2009.0</td>\n",
       "      <td>Sports</td>\n",
       "      <td>15.61</td>\n",
       "      <td>10.93</td>\n",
       "      <td>3.28</td>\n",
       "      <td>2.95</td>\n",
       "      <td>80.0</td>\n",
       "      <td>8</td>\n",
       "      <td>E</td>\n",
       "    </tr>\n",
       "    <tr>\n",
       "      <td>4</td>\n",
       "      <td>Pokemon Red/Pokemon Blue</td>\n",
       "      <td>GB</td>\n",
       "      <td>1996.0</td>\n",
       "      <td>Role-Playing</td>\n",
       "      <td>11.27</td>\n",
       "      <td>8.89</td>\n",
       "      <td>10.22</td>\n",
       "      <td>1.00</td>\n",
       "      <td>NaN</td>\n",
       "      <td>NaN</td>\n",
       "      <td>NaN</td>\n",
       "    </tr>\n",
       "  </tbody>\n",
       "</table>\n",
       "</div>"
      ],
      "text/plain": [
       "                       Name Platform  Year_of_Release         Genre  NA_sales  \\\n",
       "0                Wii Sports      Wii           2006.0        Sports     41.36   \n",
       "1         Super Mario Bros.      NES           1985.0      Platform     29.08   \n",
       "2            Mario Kart Wii      Wii           2008.0        Racing     15.68   \n",
       "3         Wii Sports Resort      Wii           2009.0        Sports     15.61   \n",
       "4  Pokemon Red/Pokemon Blue       GB           1996.0  Role-Playing     11.27   \n",
       "\n",
       "   EU_sales  JP_sales  Other_sales  Critic_Score User_Score Rating  \n",
       "0     28.96      3.77         8.45          76.0          8      E  \n",
       "1      3.58      6.81         0.77           NaN        NaN    NaN  \n",
       "2     12.76      3.79         3.29          82.0        8.3      E  \n",
       "3     10.93      3.28         2.95          80.0          8      E  \n",
       "4      8.89     10.22         1.00           NaN        NaN    NaN  "
      ]
     },
     "execution_count": 2,
     "metadata": {},
     "output_type": "execute_result"
    }
   ],
   "source": [
    "try: \n",
    "    games = pd.read_csv('/datasets/games.csv')\n",
    "except: \n",
    "    games = pd.read_csv('games.csv')\n",
    "games.head()"
   ]
  },
  {
   "cell_type": "code",
   "execution_count": 3,
   "id": "5fdf1196",
   "metadata": {},
   "outputs": [
    {
     "name": "stdout",
     "output_type": "stream",
     "text": [
      "<class 'pandas.core.frame.DataFrame'>\n",
      "RangeIndex: 16715 entries, 0 to 16714\n",
      "Data columns (total 11 columns):\n",
      "Name               16713 non-null object\n",
      "Platform           16715 non-null object\n",
      "Year_of_Release    16446 non-null float64\n",
      "Genre              16713 non-null object\n",
      "NA_sales           16715 non-null float64\n",
      "EU_sales           16715 non-null float64\n",
      "JP_sales           16715 non-null float64\n",
      "Other_sales        16715 non-null float64\n",
      "Critic_Score       8137 non-null float64\n",
      "User_Score         10014 non-null object\n",
      "Rating             9949 non-null object\n",
      "dtypes: float64(6), object(5)\n",
      "memory usage: 1.4+ MB\n"
     ]
    }
   ],
   "source": [
    "games.info()"
   ]
  },
  {
   "cell_type": "markdown",
   "id": "b5ce018f",
   "metadata": {},
   "source": [
    "### Вывод \n",
    "\n",
    "Пропуски есть, посмотрим на их количество. Нужно будет привести всё к нижнему регистру и заменить тип в столбце с годом выпуска игры на int. В столбцe user_score есть нечисловые данные, надо будет выяснять, в чём там дело. Он должен быть того же типа, что и critic_score - float."
   ]
  },
  {
   "cell_type": "markdown",
   "id": "3d907424",
   "metadata": {},
   "source": [
    "## Подготовка данных"
   ]
  },
  {
   "cell_type": "markdown",
   "id": "79d19313",
   "metadata": {},
   "source": [
    "### Переименование столбцов, поиск дубликатов"
   ]
  },
  {
   "cell_type": "markdown",
   "id": "76d85b60",
   "metadata": {},
   "source": [
    "Начнём подготовку данных с переименования столбцов. В них нет лишних пробелов и символов, но их надо привести к нижнему регистру."
   ]
  },
  {
   "cell_type": "code",
   "execution_count": 4,
   "id": "96730182",
   "metadata": {},
   "outputs": [
    {
     "data": {
      "text/plain": [
       "Index(['Name', 'Platform', 'Year_of_Release', 'Genre', 'NA_sales', 'EU_sales',\n",
       "       'JP_sales', 'Other_sales', 'Critic_Score', 'User_Score', 'Rating'],\n",
       "      dtype='object')"
      ]
     },
     "execution_count": 4,
     "metadata": {},
     "output_type": "execute_result"
    }
   ],
   "source": [
    "games.columns"
   ]
  },
  {
   "cell_type": "code",
   "execution_count": 5,
   "id": "530bf729",
   "metadata": {},
   "outputs": [
    {
     "data": {
      "text/plain": [
       "Index(['name', 'platform', 'year_of_release', 'genre', 'na_sales', 'eu_sales',\n",
       "       'jp_sales', 'other_sales', 'critic_score', 'user_score', 'rating'],\n",
       "      dtype='object')"
      ]
     },
     "execution_count": 5,
     "metadata": {},
     "output_type": "execute_result"
    }
   ],
   "source": [
    "games.columns = games.columns.str.lower()\n",
    "games.columns"
   ]
  },
  {
   "cell_type": "code",
   "execution_count": 6,
   "id": "f382bd31",
   "metadata": {
    "scrolled": true
   },
   "outputs": [
    {
     "data": {
      "text/html": [
       "<div>\n",
       "<style scoped>\n",
       "    .dataframe tbody tr th:only-of-type {\n",
       "        vertical-align: middle;\n",
       "    }\n",
       "\n",
       "    .dataframe tbody tr th {\n",
       "        vertical-align: top;\n",
       "    }\n",
       "\n",
       "    .dataframe thead th {\n",
       "        text-align: right;\n",
       "    }\n",
       "</style>\n",
       "<table border=\"1\" class=\"dataframe\">\n",
       "  <thead>\n",
       "    <tr style=\"text-align: right;\">\n",
       "      <th></th>\n",
       "      <th>name</th>\n",
       "      <th>platform</th>\n",
       "      <th>year_of_release</th>\n",
       "      <th>genre</th>\n",
       "      <th>na_sales</th>\n",
       "      <th>eu_sales</th>\n",
       "      <th>jp_sales</th>\n",
       "      <th>other_sales</th>\n",
       "      <th>critic_score</th>\n",
       "      <th>user_score</th>\n",
       "      <th>rating</th>\n",
       "    </tr>\n",
       "  </thead>\n",
       "  <tbody>\n",
       "    <tr>\n",
       "      <td>0</td>\n",
       "      <td>Wii Sports</td>\n",
       "      <td>Wii</td>\n",
       "      <td>2006.0</td>\n",
       "      <td>Sports</td>\n",
       "      <td>41.36</td>\n",
       "      <td>28.96</td>\n",
       "      <td>3.77</td>\n",
       "      <td>8.45</td>\n",
       "      <td>76.0</td>\n",
       "      <td>8</td>\n",
       "      <td>E</td>\n",
       "    </tr>\n",
       "    <tr>\n",
       "      <td>1</td>\n",
       "      <td>Super Mario Bros.</td>\n",
       "      <td>NES</td>\n",
       "      <td>1985.0</td>\n",
       "      <td>Platform</td>\n",
       "      <td>29.08</td>\n",
       "      <td>3.58</td>\n",
       "      <td>6.81</td>\n",
       "      <td>0.77</td>\n",
       "      <td>NaN</td>\n",
       "      <td>NaN</td>\n",
       "      <td>NaN</td>\n",
       "    </tr>\n",
       "    <tr>\n",
       "      <td>2</td>\n",
       "      <td>Mario Kart Wii</td>\n",
       "      <td>Wii</td>\n",
       "      <td>2008.0</td>\n",
       "      <td>Racing</td>\n",
       "      <td>15.68</td>\n",
       "      <td>12.76</td>\n",
       "      <td>3.79</td>\n",
       "      <td>3.29</td>\n",
       "      <td>82.0</td>\n",
       "      <td>8.3</td>\n",
       "      <td>E</td>\n",
       "    </tr>\n",
       "    <tr>\n",
       "      <td>3</td>\n",
       "      <td>Wii Sports Resort</td>\n",
       "      <td>Wii</td>\n",
       "      <td>2009.0</td>\n",
       "      <td>Sports</td>\n",
       "      <td>15.61</td>\n",
       "      <td>10.93</td>\n",
       "      <td>3.28</td>\n",
       "      <td>2.95</td>\n",
       "      <td>80.0</td>\n",
       "      <td>8</td>\n",
       "      <td>E</td>\n",
       "    </tr>\n",
       "    <tr>\n",
       "      <td>4</td>\n",
       "      <td>Pokemon Red/Pokemon Blue</td>\n",
       "      <td>GB</td>\n",
       "      <td>1996.0</td>\n",
       "      <td>Role-Playing</td>\n",
       "      <td>11.27</td>\n",
       "      <td>8.89</td>\n",
       "      <td>10.22</td>\n",
       "      <td>1.00</td>\n",
       "      <td>NaN</td>\n",
       "      <td>NaN</td>\n",
       "      <td>NaN</td>\n",
       "    </tr>\n",
       "  </tbody>\n",
       "</table>\n",
       "</div>"
      ],
      "text/plain": [
       "                       name platform  year_of_release         genre  na_sales  \\\n",
       "0                Wii Sports      Wii           2006.0        Sports     41.36   \n",
       "1         Super Mario Bros.      NES           1985.0      Platform     29.08   \n",
       "2            Mario Kart Wii      Wii           2008.0        Racing     15.68   \n",
       "3         Wii Sports Resort      Wii           2009.0        Sports     15.61   \n",
       "4  Pokemon Red/Pokemon Blue       GB           1996.0  Role-Playing     11.27   \n",
       "\n",
       "   eu_sales  jp_sales  other_sales  critic_score user_score rating  \n",
       "0     28.96      3.77         8.45          76.0          8      E  \n",
       "1      3.58      6.81         0.77           NaN        NaN    NaN  \n",
       "2     12.76      3.79         3.29          82.0        8.3      E  \n",
       "3     10.93      3.28         2.95          80.0          8      E  \n",
       "4      8.89     10.22         1.00           NaN        NaN    NaN  "
      ]
     },
     "execution_count": 6,
     "metadata": {},
     "output_type": "execute_result"
    }
   ],
   "source": [
    "games.head()"
   ]
  },
  {
   "cell_type": "markdown",
   "id": "fb85ef1c",
   "metadata": {},
   "source": [
    "Сделано. Теперь приведём все буквы к нижнему регистру."
   ]
  },
  {
   "cell_type": "code",
   "execution_count": 7,
   "id": "5a084ab9",
   "metadata": {},
   "outputs": [
    {
     "data": {
      "text/html": [
       "<div>\n",
       "<style scoped>\n",
       "    .dataframe tbody tr th:only-of-type {\n",
       "        vertical-align: middle;\n",
       "    }\n",
       "\n",
       "    .dataframe tbody tr th {\n",
       "        vertical-align: top;\n",
       "    }\n",
       "\n",
       "    .dataframe thead th {\n",
       "        text-align: right;\n",
       "    }\n",
       "</style>\n",
       "<table border=\"1\" class=\"dataframe\">\n",
       "  <thead>\n",
       "    <tr style=\"text-align: right;\">\n",
       "      <th></th>\n",
       "      <th>name</th>\n",
       "      <th>platform</th>\n",
       "      <th>year_of_release</th>\n",
       "      <th>genre</th>\n",
       "      <th>na_sales</th>\n",
       "      <th>eu_sales</th>\n",
       "      <th>jp_sales</th>\n",
       "      <th>other_sales</th>\n",
       "      <th>critic_score</th>\n",
       "      <th>user_score</th>\n",
       "      <th>rating</th>\n",
       "    </tr>\n",
       "  </thead>\n",
       "  <tbody>\n",
       "    <tr>\n",
       "      <td>0</td>\n",
       "      <td>wii sports</td>\n",
       "      <td>wii</td>\n",
       "      <td>2006.0</td>\n",
       "      <td>sports</td>\n",
       "      <td>41.36</td>\n",
       "      <td>28.96</td>\n",
       "      <td>3.77</td>\n",
       "      <td>8.45</td>\n",
       "      <td>76.0</td>\n",
       "      <td>8</td>\n",
       "      <td>e</td>\n",
       "    </tr>\n",
       "    <tr>\n",
       "      <td>1</td>\n",
       "      <td>super mario bros.</td>\n",
       "      <td>nes</td>\n",
       "      <td>1985.0</td>\n",
       "      <td>platform</td>\n",
       "      <td>29.08</td>\n",
       "      <td>3.58</td>\n",
       "      <td>6.81</td>\n",
       "      <td>0.77</td>\n",
       "      <td>NaN</td>\n",
       "      <td>NaN</td>\n",
       "      <td>NaN</td>\n",
       "    </tr>\n",
       "    <tr>\n",
       "      <td>2</td>\n",
       "      <td>mario kart wii</td>\n",
       "      <td>wii</td>\n",
       "      <td>2008.0</td>\n",
       "      <td>racing</td>\n",
       "      <td>15.68</td>\n",
       "      <td>12.76</td>\n",
       "      <td>3.79</td>\n",
       "      <td>3.29</td>\n",
       "      <td>82.0</td>\n",
       "      <td>8.3</td>\n",
       "      <td>e</td>\n",
       "    </tr>\n",
       "    <tr>\n",
       "      <td>3</td>\n",
       "      <td>wii sports resort</td>\n",
       "      <td>wii</td>\n",
       "      <td>2009.0</td>\n",
       "      <td>sports</td>\n",
       "      <td>15.61</td>\n",
       "      <td>10.93</td>\n",
       "      <td>3.28</td>\n",
       "      <td>2.95</td>\n",
       "      <td>80.0</td>\n",
       "      <td>8</td>\n",
       "      <td>e</td>\n",
       "    </tr>\n",
       "    <tr>\n",
       "      <td>4</td>\n",
       "      <td>pokemon red/pokemon blue</td>\n",
       "      <td>gb</td>\n",
       "      <td>1996.0</td>\n",
       "      <td>role-playing</td>\n",
       "      <td>11.27</td>\n",
       "      <td>8.89</td>\n",
       "      <td>10.22</td>\n",
       "      <td>1.00</td>\n",
       "      <td>NaN</td>\n",
       "      <td>NaN</td>\n",
       "      <td>NaN</td>\n",
       "    </tr>\n",
       "  </tbody>\n",
       "</table>\n",
       "</div>"
      ],
      "text/plain": [
       "                       name platform  year_of_release         genre  na_sales  \\\n",
       "0                wii sports      wii           2006.0        sports     41.36   \n",
       "1         super mario bros.      nes           1985.0      platform     29.08   \n",
       "2            mario kart wii      wii           2008.0        racing     15.68   \n",
       "3         wii sports resort      wii           2009.0        sports     15.61   \n",
       "4  pokemon red/pokemon blue       gb           1996.0  role-playing     11.27   \n",
       "\n",
       "   eu_sales  jp_sales  other_sales  critic_score user_score rating  \n",
       "0     28.96      3.77         8.45          76.0          8      e  \n",
       "1      3.58      6.81         0.77           NaN        NaN    NaN  \n",
       "2     12.76      3.79         3.29          82.0        8.3      e  \n",
       "3     10.93      3.28         2.95          80.0          8      e  \n",
       "4      8.89     10.22         1.00           NaN        NaN    NaN  "
      ]
     },
     "execution_count": 7,
     "metadata": {},
     "output_type": "execute_result"
    }
   ],
   "source": [
    "games['name'] = games['name'].str.lower()\n",
    "games['platform'] = games['platform'].str.lower()\n",
    "games['genre'] = games['genre'].str.lower()\n",
    "games['rating'] = games['rating'].str.lower()\n",
    "games.head()"
   ]
  },
  {
   "cell_type": "code",
   "execution_count": 8,
   "id": "7e6bda20",
   "metadata": {},
   "outputs": [
    {
     "data": {
      "text/plain": [
       "0"
      ]
     },
     "execution_count": 8,
     "metadata": {},
     "output_type": "execute_result"
    }
   ],
   "source": [
    "games.duplicated().sum()"
   ]
  },
  {
   "cell_type": "markdown",
   "id": "29e78eac",
   "metadata": {},
   "source": [
    "Явных дубликатов в данных нет, все буквы приведены к нижнему регистру."
   ]
  },
  {
   "cell_type": "markdown",
   "id": "f4e556d1",
   "metadata": {},
   "source": [
    "### Поиск пропусков и замена типов данных"
   ]
  },
  {
   "cell_type": "markdown",
   "id": "650cd2fc",
   "metadata": {},
   "source": [
    "Найдём пропуски в данных"
   ]
  },
  {
   "cell_type": "code",
   "execution_count": 9,
   "id": "82f00e17",
   "metadata": {},
   "outputs": [
    {
     "data": {
      "text/plain": [
       "name                  2\n",
       "platform              0\n",
       "year_of_release     269\n",
       "genre                 2\n",
       "na_sales              0\n",
       "eu_sales              0\n",
       "jp_sales              0\n",
       "other_sales           0\n",
       "critic_score       8578\n",
       "user_score         6701\n",
       "rating             6766\n",
       "dtype: int64"
      ]
     },
     "execution_count": 9,
     "metadata": {},
     "output_type": "execute_result"
    }
   ],
   "source": [
    "games.isna().sum()"
   ]
  },
  {
   "cell_type": "markdown",
   "id": "63a16f3a",
   "metadata": {},
   "source": [
    "Посчитаем, какой процент от общего количества игр занимают отсутствующие значения."
   ]
  },
  {
   "cell_type": "code",
   "execution_count": 10,
   "id": "2037d173",
   "metadata": {},
   "outputs": [
    {
     "name": "stdout",
     "output_type": "stream",
     "text": [
      "Процент пропусков в name 0.0%\n",
      "Процент пропусков в platform 0.0%\n",
      "Процент пропусков в year_of_release 1.6%\n",
      "Процент пропусков в genre 0.0%\n",
      "Процент пропусков в na_sales 0.0%\n",
      "Процент пропусков в eu_sales 0.0%\n",
      "Процент пропусков в jp_sales 0.0%\n",
      "Процент пропусков в other_sales 0.0%\n",
      "Процент пропусков в critic_score 51.3%\n",
      "Процент пропусков в user_score 40.1%\n",
      "Процент пропусков в rating 40.5%\n"
     ]
    }
   ],
   "source": [
    "for row in games:\n",
    "    a = games[row].isna().sum() / len(games[row])\n",
    "    print('Процент пропусков в', row, f'{a:.1%}' )"
   ]
  },
  {
   "cell_type": "markdown",
   "id": "79133941",
   "metadata": {},
   "source": [
    "1.6% пропусков в годе выпуска! Немилосердно избавляемся от них.\n",
    "\n",
    "А вот пропущенных значений в оценках и рейтинге очень много, половина. Пока трогать их не будем."
   ]
  },
  {
   "cell_type": "code",
   "execution_count": 11,
   "id": "c06a496d",
   "metadata": {},
   "outputs": [],
   "source": [
    "games = games.dropna(subset = ['year_of_release', 'name', 'genre'])"
   ]
  },
  {
   "cell_type": "code",
   "execution_count": 12,
   "id": "c80c338b",
   "metadata": {
    "scrolled": true
   },
   "outputs": [
    {
     "data": {
      "text/plain": [
       "name                  0\n",
       "platform              0\n",
       "year_of_release       0\n",
       "genre                 0\n",
       "na_sales              0\n",
       "eu_sales              0\n",
       "jp_sales              0\n",
       "other_sales           0\n",
       "critic_score       8461\n",
       "user_score         6605\n",
       "rating             6676\n",
       "dtype: int64"
      ]
     },
     "execution_count": 12,
     "metadata": {},
     "output_type": "execute_result"
    }
   ],
   "source": [
    "games.isna().sum()"
   ]
  },
  {
   "cell_type": "markdown",
   "id": "2fc42289",
   "metadata": {},
   "source": [
    "Отсутствующих значений в выбранных столбцах больше нет, значит, можно привести столбец год выпуска к типу int. Это максимально подходящий для нас тип, т.к. сложных дат для формата datetime тут нет, и год не может быть дробным. Так что, год, пора становиться целочисленным."
   ]
  },
  {
   "cell_type": "code",
   "execution_count": 13,
   "id": "116b2e6e",
   "metadata": {
    "scrolled": true
   },
   "outputs": [
    {
     "name": "stdout",
     "output_type": "stream",
     "text": [
      "<class 'pandas.core.frame.DataFrame'>\n",
      "Int64Index: 16444 entries, 0 to 16714\n",
      "Data columns (total 11 columns):\n",
      "name               16444 non-null object\n",
      "platform           16444 non-null object\n",
      "year_of_release    16444 non-null int32\n",
      "genre              16444 non-null object\n",
      "na_sales           16444 non-null float64\n",
      "eu_sales           16444 non-null float64\n",
      "jp_sales           16444 non-null float64\n",
      "other_sales        16444 non-null float64\n",
      "critic_score       7983 non-null float64\n",
      "user_score         9839 non-null object\n",
      "rating             9768 non-null object\n",
      "dtypes: float64(5), int32(1), object(5)\n",
      "memory usage: 1.4+ MB\n"
     ]
    }
   ],
   "source": [
    "games['year_of_release'] = games['year_of_release'].astype('int')\n",
    "games.info()"
   ]
  },
  {
   "cell_type": "markdown",
   "id": "7b79d3ba",
   "metadata": {},
   "source": [
    "Значения прибылей точно должны остаться дробными, т.к. они записаны в миллионах. Отбросить хвост у миллиона - непростительно!\n",
    "\n",
    "Пора заняться столбцом user_score, он у нас должен стать дробным."
   ]
  },
  {
   "cell_type": "code",
   "execution_count": 14,
   "id": "4e14c72c",
   "metadata": {
    "scrolled": false
   },
   "outputs": [
    {
     "data": {
      "text/plain": [
       "tbd    2376\n",
       "7.8     322\n",
       "8       285\n",
       "8.2     276\n",
       "8.3     252\n",
       "       ... \n",
       "1.3       2\n",
       "0.7       2\n",
       "0.2       2\n",
       "0         1\n",
       "9.7       1\n",
       "Name: user_score, Length: 96, dtype: int64"
      ]
     },
     "execution_count": 14,
     "metadata": {},
     "output_type": "execute_result"
    }
   ],
   "source": [
    "games['user_score'].value_counts()"
   ]
  },
  {
   "cell_type": "markdown",
   "id": "b41bd624",
   "metadata": {},
   "source": [
    "tbd - это рейтинг, который ещё не определён, to be determined. Возможно, оценок было мало, или игру вообще никто не оценивал, но факт остаётся фактом. Оценки нет, значит, можноз заменить tbd на nan."
   ]
  },
  {
   "cell_type": "code",
   "execution_count": 15,
   "id": "476b083d",
   "metadata": {},
   "outputs": [],
   "source": [
    "games.loc[games['user_score'] == 'tbd', 'user_score'] = float('nan')\n",
    "games['user_score'] = games['user_score'].astype(float)"
   ]
  },
  {
   "cell_type": "code",
   "execution_count": 16,
   "id": "fe4412d1",
   "metadata": {
    "scrolled": true
   },
   "outputs": [
    {
     "data": {
      "text/plain": [
       "7.8    322\n",
       "8.0    285\n",
       "8.2    276\n",
       "8.3    252\n",
       "7.5    249\n",
       "      ... \n",
       "9.6      2\n",
       "0.6      2\n",
       "1.9      2\n",
       "9.7      1\n",
       "0.0      1\n",
       "Name: user_score, Length: 95, dtype: int64"
      ]
     },
     "execution_count": 16,
     "metadata": {},
     "output_type": "execute_result"
    }
   ],
   "source": [
    "games['user_score'].value_counts()"
   ]
  },
  {
   "cell_type": "markdown",
   "id": "94e43a5b",
   "metadata": {},
   "source": [
    "Посмотрим, что у нас там в жанровом разнообразии."
   ]
  },
  {
   "cell_type": "code",
   "execution_count": 17,
   "id": "dc11439a",
   "metadata": {},
   "outputs": [
    {
     "data": {
      "text/plain": [
       "action          3307\n",
       "sports          2306\n",
       "misc            1721\n",
       "role-playing    1481\n",
       "shooter         1296\n",
       "adventure       1293\n",
       "racing          1226\n",
       "platform         878\n",
       "simulation       857\n",
       "fighting         837\n",
       "strategy         673\n",
       "puzzle           569\n",
       "Name: genre, dtype: int64"
      ]
     },
     "execution_count": 17,
     "metadata": {},
     "output_type": "execute_result"
    }
   ],
   "source": [
    "games['genre'].value_counts()"
   ]
  },
  {
   "cell_type": "markdown",
   "id": "d579621e",
   "metadata": {},
   "source": [
    "Ошибочно-опечаточных жанров нет, идём дальше, к платформам."
   ]
  },
  {
   "cell_type": "code",
   "execution_count": 18,
   "id": "0f30bdcc",
   "metadata": {},
   "outputs": [
    {
     "data": {
      "text/plain": [
       "ps2     2127\n",
       "ds      2121\n",
       "ps3     1306\n",
       "wii     1286\n",
       "x360    1232\n",
       "psp     1193\n",
       "ps      1190\n",
       "pc       957\n",
       "gba      811\n",
       "xb       803\n",
       "gc       542\n",
       "3ds      512\n",
       "psv      429\n",
       "ps4      392\n",
       "n64      316\n",
       "xone     247\n",
       "snes     239\n",
       "sat      173\n",
       "wiiu     147\n",
       "2600     116\n",
       "nes       98\n",
       "gb        97\n",
       "dc        52\n",
       "gen       27\n",
       "ng        12\n",
       "scd        6\n",
       "ws         6\n",
       "3do        3\n",
       "tg16       2\n",
       "gg         1\n",
       "pcfx       1\n",
       "Name: platform, dtype: int64"
      ]
     },
     "execution_count": 18,
     "metadata": {},
     "output_type": "execute_result"
    }
   ],
   "source": [
    "games['platform'].value_counts()"
   ]
  },
  {
   "cell_type": "markdown",
   "id": "95b39859",
   "metadata": {},
   "source": [
    "Явно выделяется хвост из платформ, у каждой из которых не набирается и 50 продаж. Избавимся от них, никакой особой статистики они нам не дадут."
   ]
  },
  {
   "cell_type": "code",
   "execution_count": 19,
   "id": "1cfbbe15",
   "metadata": {},
   "outputs": [
    {
     "data": {
      "text/plain": [
       "ps2     2127\n",
       "ds      2121\n",
       "ps3     1306\n",
       "wii     1286\n",
       "x360    1232\n",
       "psp     1193\n",
       "ps      1190\n",
       "pc       957\n",
       "gba      811\n",
       "xb       803\n",
       "gc       542\n",
       "3ds      512\n",
       "psv      429\n",
       "ps4      392\n",
       "n64      316\n",
       "xone     247\n",
       "snes     239\n",
       "sat      173\n",
       "wiiu     147\n",
       "2600     116\n",
       "nes       98\n",
       "gb        97\n",
       "dc        52\n",
       "Name: platform, dtype: int64"
      ]
     },
     "execution_count": 19,
     "metadata": {},
     "output_type": "execute_result"
    }
   ],
   "source": [
    "excess_platforms = 'gen', 'ng', 'scd', 'ws', '3do', 'tg16', 'gg', 'pcfx'\n",
    "games = games.query('platform not in @excess_platforms')\n",
    "games['platform'].value_counts()"
   ]
  },
  {
   "cell_type": "markdown",
   "id": "c6f23793",
   "metadata": {},
   "source": [
    "Лишние платформы убрали, идём в рейтинг."
   ]
  },
  {
   "cell_type": "code",
   "execution_count": 20,
   "id": "544ccfaf",
   "metadata": {
    "scrolled": false
   },
   "outputs": [
    {
     "data": {
      "text/plain": [
       "e       3921\n",
       "t       2905\n",
       "m       1536\n",
       "e10+    1393\n",
       "ec         8\n",
       "k-a        3\n",
       "ao         1\n",
       "rp         1\n",
       "Name: rating, dtype: int64"
      ]
     },
     "execution_count": 20,
     "metadata": {},
     "output_type": "execute_result"
    }
   ],
   "source": [
    "games['rating'].value_counts()"
   ]
  },
  {
   "cell_type": "markdown",
   "id": "4824bd66",
   "metadata": {},
   "source": [
    "Уберём странные оценки ec, k-a, ao и rp."
   ]
  },
  {
   "cell_type": "code",
   "execution_count": 21,
   "id": "d2d42e6e",
   "metadata": {},
   "outputs": [
    {
     "data": {
      "text/plain": [
       "e       3921\n",
       "t       2905\n",
       "m       1536\n",
       "e10+    1393\n",
       "Name: rating, dtype: int64"
      ]
     },
     "execution_count": 21,
     "metadata": {},
     "output_type": "execute_result"
    }
   ],
   "source": [
    "excess_rating = 'ec', 'k-a', 'ao', 'rp'\n",
    "games = games.query('rating not in @excess_rating')\n",
    "games['rating'].value_counts()"
   ]
  },
  {
   "cell_type": "code",
   "execution_count": 22,
   "id": "68207050",
   "metadata": {},
   "outputs": [
    {
     "data": {
      "text/plain": [
       "6618"
      ]
     },
     "execution_count": 22,
     "metadata": {},
     "output_type": "execute_result"
    }
   ],
   "source": [
    "games['rating'].isna().sum()"
   ]
  },
  {
   "cell_type": "markdown",
   "id": "9d648319",
   "metadata": {},
   "source": [
    "В некоторых играх отсутствует значение возрастного рейтинга. Заменим пропуски значением n/d - not determined."
   ]
  },
  {
   "cell_type": "code",
   "execution_count": 23,
   "id": "0c947279",
   "metadata": {},
   "outputs": [],
   "source": [
    "games['rating'] = games['rating'].fillna('n/d')"
   ]
  },
  {
   "cell_type": "code",
   "execution_count": 24,
   "id": "9564bd95",
   "metadata": {},
   "outputs": [
    {
     "data": {
      "text/plain": [
       "0"
      ]
     },
     "execution_count": 24,
     "metadata": {},
     "output_type": "execute_result"
    }
   ],
   "source": [
    "games['rating'].isna().sum()"
   ]
  },
  {
   "cell_type": "markdown",
   "id": "b5f14167",
   "metadata": {},
   "source": [
    "Данные максимально подготовлены для того, чтобы можно было начинать с ними работать."
   ]
  },
  {
   "cell_type": "markdown",
   "id": "ef5dfb1e",
   "metadata": {},
   "source": [
    "### Суммарные продажи во всех регионах"
   ]
  },
  {
   "cell_type": "markdown",
   "id": "da3a6e21",
   "metadata": {},
   "source": [
    "Добавим в нашу таблицу новый столбец, в котором посчитаем суммарные продажи для каждой игры по всем регионам."
   ]
  },
  {
   "cell_type": "code",
   "execution_count": 25,
   "id": "436163f3",
   "metadata": {},
   "outputs": [
    {
     "data": {
      "text/html": [
       "<div>\n",
       "<style scoped>\n",
       "    .dataframe tbody tr th:only-of-type {\n",
       "        vertical-align: middle;\n",
       "    }\n",
       "\n",
       "    .dataframe tbody tr th {\n",
       "        vertical-align: top;\n",
       "    }\n",
       "\n",
       "    .dataframe thead th {\n",
       "        text-align: right;\n",
       "    }\n",
       "</style>\n",
       "<table border=\"1\" class=\"dataframe\">\n",
       "  <thead>\n",
       "    <tr style=\"text-align: right;\">\n",
       "      <th></th>\n",
       "      <th>name</th>\n",
       "      <th>platform</th>\n",
       "      <th>year_of_release</th>\n",
       "      <th>genre</th>\n",
       "      <th>na_sales</th>\n",
       "      <th>eu_sales</th>\n",
       "      <th>jp_sales</th>\n",
       "      <th>other_sales</th>\n",
       "      <th>critic_score</th>\n",
       "      <th>user_score</th>\n",
       "      <th>rating</th>\n",
       "      <th>total_sales</th>\n",
       "    </tr>\n",
       "  </thead>\n",
       "  <tbody>\n",
       "    <tr>\n",
       "      <td>0</td>\n",
       "      <td>wii sports</td>\n",
       "      <td>wii</td>\n",
       "      <td>2006</td>\n",
       "      <td>sports</td>\n",
       "      <td>41.36</td>\n",
       "      <td>28.96</td>\n",
       "      <td>3.77</td>\n",
       "      <td>8.45</td>\n",
       "      <td>76.0</td>\n",
       "      <td>8.0</td>\n",
       "      <td>e</td>\n",
       "      <td>82.54</td>\n",
       "    </tr>\n",
       "    <tr>\n",
       "      <td>1</td>\n",
       "      <td>super mario bros.</td>\n",
       "      <td>nes</td>\n",
       "      <td>1985</td>\n",
       "      <td>platform</td>\n",
       "      <td>29.08</td>\n",
       "      <td>3.58</td>\n",
       "      <td>6.81</td>\n",
       "      <td>0.77</td>\n",
       "      <td>NaN</td>\n",
       "      <td>NaN</td>\n",
       "      <td>n/d</td>\n",
       "      <td>40.24</td>\n",
       "    </tr>\n",
       "    <tr>\n",
       "      <td>2</td>\n",
       "      <td>mario kart wii</td>\n",
       "      <td>wii</td>\n",
       "      <td>2008</td>\n",
       "      <td>racing</td>\n",
       "      <td>15.68</td>\n",
       "      <td>12.76</td>\n",
       "      <td>3.79</td>\n",
       "      <td>3.29</td>\n",
       "      <td>82.0</td>\n",
       "      <td>8.3</td>\n",
       "      <td>e</td>\n",
       "      <td>35.52</td>\n",
       "    </tr>\n",
       "    <tr>\n",
       "      <td>3</td>\n",
       "      <td>wii sports resort</td>\n",
       "      <td>wii</td>\n",
       "      <td>2009</td>\n",
       "      <td>sports</td>\n",
       "      <td>15.61</td>\n",
       "      <td>10.93</td>\n",
       "      <td>3.28</td>\n",
       "      <td>2.95</td>\n",
       "      <td>80.0</td>\n",
       "      <td>8.0</td>\n",
       "      <td>e</td>\n",
       "      <td>32.77</td>\n",
       "    </tr>\n",
       "    <tr>\n",
       "      <td>4</td>\n",
       "      <td>pokemon red/pokemon blue</td>\n",
       "      <td>gb</td>\n",
       "      <td>1996</td>\n",
       "      <td>role-playing</td>\n",
       "      <td>11.27</td>\n",
       "      <td>8.89</td>\n",
       "      <td>10.22</td>\n",
       "      <td>1.00</td>\n",
       "      <td>NaN</td>\n",
       "      <td>NaN</td>\n",
       "      <td>n/d</td>\n",
       "      <td>31.38</td>\n",
       "    </tr>\n",
       "  </tbody>\n",
       "</table>\n",
       "</div>"
      ],
      "text/plain": [
       "                       name platform  year_of_release         genre  na_sales  \\\n",
       "0                wii sports      wii             2006        sports     41.36   \n",
       "1         super mario bros.      nes             1985      platform     29.08   \n",
       "2            mario kart wii      wii             2008        racing     15.68   \n",
       "3         wii sports resort      wii             2009        sports     15.61   \n",
       "4  pokemon red/pokemon blue       gb             1996  role-playing     11.27   \n",
       "\n",
       "   eu_sales  jp_sales  other_sales  critic_score  user_score rating  \\\n",
       "0     28.96      3.77         8.45          76.0         8.0      e   \n",
       "1      3.58      6.81         0.77           NaN         NaN    n/d   \n",
       "2     12.76      3.79         3.29          82.0         8.3      e   \n",
       "3     10.93      3.28         2.95          80.0         8.0      e   \n",
       "4      8.89     10.22         1.00           NaN         NaN    n/d   \n",
       "\n",
       "   total_sales  \n",
       "0        82.54  \n",
       "1        40.24  \n",
       "2        35.52  \n",
       "3        32.77  \n",
       "4        31.38  "
      ]
     },
     "execution_count": 25,
     "metadata": {},
     "output_type": "execute_result"
    }
   ],
   "source": [
    "games['total_sales'] = games['na_sales'] + games['eu_sales'] + games['jp_sales'] + games['other_sales']\n",
    "games.head()"
   ]
  },
  {
   "cell_type": "markdown",
   "id": "36a1a8d8",
   "metadata": {},
   "source": [
    "### Вывод\n",
    "\n",
    "Столбцы к нижнему регистру приведены. \n",
    "\n",
    "Тип данных в колонке год выпуска приведён к типу int.\n",
    "\n",
    "Значения tbd в столбце user_score заменены на nan, сам столбец принял тип float.\n",
    "\n",
    "Пропуски в рейтинге оставлены на месте, как категориальные переменные, пропуски в пользовательских оценках и оценках критиков оставлены на месте, как временно не представляющие интереса."
   ]
  },
  {
   "cell_type": "markdown",
   "id": "05035631",
   "metadata": {},
   "source": [
    "## Исследовательский анализ данных"
   ]
  },
  {
   "cell_type": "markdown",
   "id": "1cbe15e7",
   "metadata": {},
   "source": [
    "### Распределение игр по годам"
   ]
  },
  {
   "cell_type": "markdown",
   "id": "47fbff49",
   "metadata": {},
   "source": [
    "Сгруппируем данные по году выпуска и посчитаем, сколько игр выходило в каждый год."
   ]
  },
  {
   "cell_type": "code",
   "execution_count": 26,
   "id": "1fe337c9",
   "metadata": {},
   "outputs": [
    {
     "data": {
      "text/plain": [
       "year_of_release\n",
       "1980       9\n",
       "1981      46\n",
       "1982      36\n",
       "1983      17\n",
       "1984      14\n",
       "1985      14\n",
       "1986      21\n",
       "1987      16\n",
       "1988      15\n",
       "1989      17\n",
       "1990      15\n",
       "1991      40\n",
       "1992      36\n",
       "1993      50\n",
       "1994      99\n",
       "1995     211\n",
       "1996     259\n",
       "1997     287\n",
       "1998     379\n",
       "1999     336\n",
       "2000     348\n",
       "2001     480\n",
       "2002     829\n",
       "2003     775\n",
       "2004     762\n",
       "2005     936\n",
       "2006    1006\n",
       "2007    1197\n",
       "2008    1427\n",
       "2009    1425\n",
       "2010    1251\n",
       "2011    1134\n",
       "2012     653\n",
       "2013     544\n",
       "2014     581\n",
       "2015     606\n",
       "2016     502\n",
       "Name: name, dtype: int64"
      ]
     },
     "execution_count": 26,
     "metadata": {},
     "output_type": "execute_result"
    }
   ],
   "source": [
    "games_by_years = games.groupby('year_of_release')['name'].count()\n",
    "games_by_years"
   ]
  },
  {
   "cell_type": "markdown",
   "id": "fea439a9",
   "metadata": {},
   "source": [
    "Посмотрим распределение для наглядности."
   ]
  },
  {
   "cell_type": "code",
   "execution_count": 27,
   "id": "4523937e",
   "metadata": {
    "scrolled": true
   },
   "outputs": [
    {
     "data": {
      "text/plain": [
       "<matplotlib.axes._subplots.AxesSubplot at 0x184a432ec48>"
      ]
     },
     "execution_count": 27,
     "metadata": {},
     "output_type": "execute_result"
    },
    {
     "data": {
      "image/png": "[encoded data removed]",
      "text/plain": [
       "<Figure size 432x288 with 1 Axes>"
      ]
     },
     "metadata": {
      "needs_background": "light"
     },
     "output_type": "display_data"
    }
   ],
   "source": [
    "games_by_years.plot(style='o-')"
   ]
  },
  {
   "cell_type": "markdown",
   "id": "5935c448",
   "metadata": {},
   "source": [
    "На графике видно, что в 1995 году началася рост по количеству выпускаемых игр, начали развиваться технологии. В 2006-2011 годах был резкий бум по количеству игр, с 2012 по 2016 количество игр зафиксировалось около 550-600 игр в год. Думаю, этот период мы и будем рассматривать при дальнейшем анализе."
   ]
  },
  {
   "cell_type": "markdown",
   "id": "492cf189",
   "metadata": {},
   "source": [
    "### Самые популярные платформы"
   ]
  },
  {
   "cell_type": "markdown",
   "id": "620e391d",
   "metadata": {},
   "source": [
    "Создадим сводную таблицу, которая посчитает нам общую выручку по каждой игровой платформе, а потом возьмём десять самых успешных платформ."
   ]
  },
  {
   "cell_type": "code",
   "execution_count": 28,
   "id": "b3e0a5a7",
   "metadata": {},
   "outputs": [
    {
     "data": {
      "text/html": [
       "<div>\n",
       "<style scoped>\n",
       "    .dataframe tbody tr th:only-of-type {\n",
       "        vertical-align: middle;\n",
       "    }\n",
       "\n",
       "    .dataframe tbody tr th {\n",
       "        vertical-align: top;\n",
       "    }\n",
       "\n",
       "    .dataframe thead th {\n",
       "        text-align: right;\n",
       "    }\n",
       "</style>\n",
       "<table border=\"1\" class=\"dataframe\">\n",
       "  <thead>\n",
       "    <tr style=\"text-align: right;\">\n",
       "      <th></th>\n",
       "      <th>total_sales</th>\n",
       "    </tr>\n",
       "    <tr>\n",
       "      <th>platform</th>\n",
       "      <th></th>\n",
       "    </tr>\n",
       "  </thead>\n",
       "  <tbody>\n",
       "    <tr>\n",
       "      <td>ps2</td>\n",
       "      <td>1233.32</td>\n",
       "    </tr>\n",
       "    <tr>\n",
       "      <td>x360</td>\n",
       "      <td>961.24</td>\n",
       "    </tr>\n",
       "    <tr>\n",
       "      <td>ps3</td>\n",
       "      <td>931.34</td>\n",
       "    </tr>\n",
       "    <tr>\n",
       "      <td>wii</td>\n",
       "      <td>890.52</td>\n",
       "    </tr>\n",
       "    <tr>\n",
       "      <td>ds</td>\n",
       "      <td>802.13</td>\n",
       "    </tr>\n",
       "    <tr>\n",
       "      <td>ps</td>\n",
       "      <td>725.67</td>\n",
       "    </tr>\n",
       "    <tr>\n",
       "      <td>ps4</td>\n",
       "      <td>314.14</td>\n",
       "    </tr>\n",
       "    <tr>\n",
       "      <td>gba</td>\n",
       "      <td>312.88</td>\n",
       "    </tr>\n",
       "    <tr>\n",
       "      <td>psp</td>\n",
       "      <td>289.53</td>\n",
       "    </tr>\n",
       "    <tr>\n",
       "      <td>3ds</td>\n",
       "      <td>257.81</td>\n",
       "    </tr>\n",
       "  </tbody>\n",
       "</table>\n",
       "</div>"
      ],
      "text/plain": [
       "          total_sales\n",
       "platform             \n",
       "ps2           1233.32\n",
       "x360           961.24\n",
       "ps3            931.34\n",
       "wii            890.52\n",
       "ds             802.13\n",
       "ps             725.67\n",
       "ps4            314.14\n",
       "gba            312.88\n",
       "psp            289.53\n",
       "3ds            257.81"
      ]
     },
     "execution_count": 28,
     "metadata": {},
     "output_type": "execute_result"
    }
   ],
   "source": [
    "top_10_platforms = games.pivot_table(index='platform', values='total_sales', aggfunc='sum').sort_values(\n",
    "    by='total_sales', ascending=False).head(10)\n",
    "#top_10_platforms = top_10_platforms.reset_index().rename_axis(None, axis=1)\n",
    "top_10_platforms"
   ]
  },
  {
   "cell_type": "markdown",
   "id": "91065463",
   "metadata": {},
   "source": [
    "Посмотрим, как выглядит распределение по этим платформам по заработанным деньгам."
   ]
  },
  {
   "cell_type": "code",
   "execution_count": 29,
   "id": "84732a44",
   "metadata": {},
   "outputs": [
    {
     "data": {
      "text/plain": [
       "<matplotlib.axes._subplots.AxesSubplot at 0x184a689eac8>"
      ]
     },
     "execution_count": 29,
     "metadata": {},
     "output_type": "execute_result"
    },
    {
     "data": {
      "image/png": "[encoded data removed]",
      "text/plain": [
       "<Figure size 864x360 with 1 Axes>"
      ]
     },
     "metadata": {
      "needs_background": "light"
     },
     "output_type": "display_data"
    }
   ],
   "source": [
    "games.query('platform in @top_10_platforms.index').pivot_table(\n",
    "    index='year_of_release', columns = 'platform', values='total_sales', aggfunc='sum').plot(grid=True, figsize=(12, 5)\n",
    "                                                                                            )"
   ]
  },
  {
   "cell_type": "markdown",
   "id": "60b89221",
   "metadata": {},
   "source": [
    "Введём порог минимального заработка и посмотрим, сколько в среднем живут платформы, которые имеют хорошую выручку."
   ]
  },
  {
   "cell_type": "code",
   "execution_count": 30,
   "id": "7bf06bb7",
   "metadata": {},
   "outputs": [
    {
     "data": {
      "text/plain": [
       "year_of_release    7.130435\n",
       "dtype: float64"
      ]
     },
     "execution_count": 30,
     "metadata": {},
     "output_type": "execute_result"
    }
   ],
   "source": [
    "min_sales = 5\n",
    "report = games.groupby(['platform', 'year_of_release']).agg({'total_sales' : 'sum'}).query('total_sales > @min_sales')\n",
    "report.reset_index().groupby('platform').agg({'year_of_release' : 'nunique'}).mean()"
   ]
  },
  {
   "cell_type": "markdown",
   "id": "96d37162",
   "metadata": {},
   "source": [
    "Среднее время жизни каждой платформы - 7 лет."
   ]
  },
  {
   "cell_type": "markdown",
   "id": "53b6d792",
   "metadata": {},
   "source": [
    "### Потенциальная прибыль"
   ]
  },
  {
   "cell_type": "markdown",
   "id": "8db45b32",
   "metadata": {},
   "source": [
    "Посмотрим на прибыль современных платформ. Возьмём актуальный период для игр, которые выходили после 2012 года. На графике в предыдущем шаге видно, что с 2005 по 2011 год в игровой индустрии произошёл резкий рост количества выпускаемых игр. Аномально резкий для статистики. А в 2012 этот процесс успокоился и среднее количество игр в год остановилось на отметке 550-600 игр в год. Предполагаю, что резких скачков в ближайшее время не предвидится (до создания и развития новых технологий погружения в видеоигры)."
   ]
  },
  {
   "cell_type": "code",
   "execution_count": 31,
   "id": "00067337",
   "metadata": {},
   "outputs": [
    {
     "data": {
      "text/plain": [
       "<matplotlib.axes._subplots.AxesSubplot at 0x184a699bd08>"
      ]
     },
     "execution_count": 31,
     "metadata": {},
     "output_type": "execute_result"
    },
    {
     "data": {
      "image/png": "[encoded data removed]",
      "text/plain": [
       "<Figure size 864x720 with 1 Axes>"
      ]
     },
     "metadata": {
      "needs_background": "light"
     },
     "output_type": "display_data"
    }
   ],
   "source": [
    "current_period = games.query('year_of_release > 2012')\n",
    "current_period.pivot_table(\n",
    "    index='year_of_release', columns = 'platform', values='total_sales', aggfunc='sum').plot(grid=True, figsize=(12, 10))"
   ]
  },
  {
   "cell_type": "markdown",
   "id": "65153877",
   "metadata": {},
   "source": [
    "Возьмём только последние поколения платформ и посмотрим, сколько денег каждая из них заработала."
   ]
  },
  {
   "cell_type": "code",
   "execution_count": 32,
   "id": "7df69c7a",
   "metadata": {},
   "outputs": [
    {
     "data": {
      "text/html": [
       "<div>\n",
       "<style scoped>\n",
       "    .dataframe tbody tr th:only-of-type {\n",
       "        vertical-align: middle;\n",
       "    }\n",
       "\n",
       "    .dataframe tbody tr th {\n",
       "        vertical-align: top;\n",
       "    }\n",
       "\n",
       "    .dataframe thead th {\n",
       "        text-align: right;\n",
       "    }\n",
       "</style>\n",
       "<table border=\"1\" class=\"dataframe\">\n",
       "  <thead>\n",
       "    <tr style=\"text-align: right;\">\n",
       "      <th></th>\n",
       "      <th>total_sales</th>\n",
       "    </tr>\n",
       "    <tr>\n",
       "      <th>platform</th>\n",
       "      <th></th>\n",
       "    </tr>\n",
       "  </thead>\n",
       "  <tbody>\n",
       "    <tr>\n",
       "      <td>ps4</td>\n",
       "      <td>314.14</td>\n",
       "    </tr>\n",
       "    <tr>\n",
       "      <td>xone</td>\n",
       "      <td>159.32</td>\n",
       "    </tr>\n",
       "    <tr>\n",
       "      <td>3ds</td>\n",
       "      <td>143.25</td>\n",
       "    </tr>\n",
       "    <tr>\n",
       "      <td>wiiu</td>\n",
       "      <td>64.63</td>\n",
       "    </tr>\n",
       "    <tr>\n",
       "      <td>pc</td>\n",
       "      <td>39.43</td>\n",
       "    </tr>\n",
       "  </tbody>\n",
       "</table>\n",
       "</div>"
      ],
      "text/plain": [
       "          total_sales\n",
       "platform             \n",
       "ps4            314.14\n",
       "xone           159.32\n",
       "3ds            143.25\n",
       "wiiu            64.63\n",
       "pc              39.43"
      ]
     },
     "execution_count": 32,
     "metadata": {},
     "output_type": "execute_result"
    }
   ],
   "source": [
    "list_of_top_5 = ['ps4','xone','pc','wiiu','3ds']\n",
    "top_5_platforms = current_period[current_period['platform'].isin(list_of_top_5)]\n",
    "top_5_platforms_sales = top_5_platforms.pivot_table(index='platform', values='total_sales', aggfunc='sum').sort_values(\n",
    "    by='total_sales', ascending=False)\n",
    "top_5_platforms_sales"
   ]
  },
  {
   "cell_type": "markdown",
   "id": "0b72977d",
   "metadata": {},
   "source": [
    "Посмотрим, сколько игр выпустила каждая платформа и на их средние показатели."
   ]
  },
  {
   "cell_type": "code",
   "execution_count": 33,
   "id": "cc79a9cc",
   "metadata": {},
   "outputs": [
    {
     "data": {
      "text/html": [
       "<div>\n",
       "<style scoped>\n",
       "    .dataframe tbody tr th:only-of-type {\n",
       "        vertical-align: middle;\n",
       "    }\n",
       "\n",
       "    .dataframe tbody tr th {\n",
       "        vertical-align: top;\n",
       "    }\n",
       "\n",
       "    .dataframe thead th {\n",
       "        text-align: right;\n",
       "    }\n",
       "</style>\n",
       "<table border=\"1\" class=\"dataframe\">\n",
       "  <thead>\n",
       "    <tr style=\"text-align: right;\">\n",
       "      <th></th>\n",
       "      <th>count</th>\n",
       "      <th>mean</th>\n",
       "      <th>std</th>\n",
       "      <th>min</th>\n",
       "      <th>25%</th>\n",
       "      <th>50%</th>\n",
       "      <th>75%</th>\n",
       "      <th>max</th>\n",
       "    </tr>\n",
       "    <tr>\n",
       "      <th>platform</th>\n",
       "      <th></th>\n",
       "      <th></th>\n",
       "      <th></th>\n",
       "      <th></th>\n",
       "      <th></th>\n",
       "      <th></th>\n",
       "      <th></th>\n",
       "      <th></th>\n",
       "    </tr>\n",
       "  </thead>\n",
       "  <tbody>\n",
       "    <tr>\n",
       "      <td>3ds</td>\n",
       "      <td>303.0</td>\n",
       "      <td>0.472772</td>\n",
       "      <td>1.381347</td>\n",
       "      <td>0.01</td>\n",
       "      <td>0.04</td>\n",
       "      <td>0.09</td>\n",
       "      <td>0.280</td>\n",
       "      <td>14.60</td>\n",
       "    </tr>\n",
       "    <tr>\n",
       "      <td>pc</td>\n",
       "      <td>189.0</td>\n",
       "      <td>0.208624</td>\n",
       "      <td>0.352304</td>\n",
       "      <td>0.01</td>\n",
       "      <td>0.03</td>\n",
       "      <td>0.08</td>\n",
       "      <td>0.230</td>\n",
       "      <td>3.05</td>\n",
       "    </tr>\n",
       "    <tr>\n",
       "      <td>ps4</td>\n",
       "      <td>392.0</td>\n",
       "      <td>0.801378</td>\n",
       "      <td>1.609456</td>\n",
       "      <td>0.01</td>\n",
       "      <td>0.06</td>\n",
       "      <td>0.20</td>\n",
       "      <td>0.730</td>\n",
       "      <td>14.63</td>\n",
       "    </tr>\n",
       "    <tr>\n",
       "      <td>wiiu</td>\n",
       "      <td>115.0</td>\n",
       "      <td>0.562000</td>\n",
       "      <td>1.038778</td>\n",
       "      <td>0.01</td>\n",
       "      <td>0.06</td>\n",
       "      <td>0.20</td>\n",
       "      <td>0.595</td>\n",
       "      <td>7.09</td>\n",
       "    </tr>\n",
       "    <tr>\n",
       "      <td>xone</td>\n",
       "      <td>247.0</td>\n",
       "      <td>0.645020</td>\n",
       "      <td>1.036139</td>\n",
       "      <td>0.01</td>\n",
       "      <td>0.06</td>\n",
       "      <td>0.22</td>\n",
       "      <td>0.685</td>\n",
       "      <td>7.39</td>\n",
       "    </tr>\n",
       "  </tbody>\n",
       "</table>\n",
       "</div>"
      ],
      "text/plain": [
       "          count      mean       std   min   25%   50%    75%    max\n",
       "platform                                                           \n",
       "3ds       303.0  0.472772  1.381347  0.01  0.04  0.09  0.280  14.60\n",
       "pc        189.0  0.208624  0.352304  0.01  0.03  0.08  0.230   3.05\n",
       "ps4       392.0  0.801378  1.609456  0.01  0.06  0.20  0.730  14.63\n",
       "wiiu      115.0  0.562000  1.038778  0.01  0.06  0.20  0.595   7.09\n",
       "xone      247.0  0.645020  1.036139  0.01  0.06  0.22  0.685   7.39"
      ]
     },
     "execution_count": 33,
     "metadata": {},
     "output_type": "execute_result"
    }
   ],
   "source": [
    "top_5_platforms.groupby('platform')['total_sales'].describe()"
   ]
  },
  {
   "cell_type": "markdown",
   "id": "fb25c4db",
   "metadata": {},
   "source": [
    "Наибольшие надежды можно возлагать на ps4, у него на актуальный момент времени наибольшая выручка. Xone и 3ds занимают почётное второе и третье места."
   ]
  },
  {
   "cell_type": "markdown",
   "id": "4a16aa12",
   "metadata": {},
   "source": [
    "### Диаграмма размаха"
   ]
  },
  {
   "cell_type": "markdown",
   "id": "fb7a91d1",
   "metadata": {},
   "source": [
    "Посмотрим диаграмму размаха для наших топ-платформ по вырученным средствам."
   ]
  },
  {
   "cell_type": "code",
   "execution_count": 34,
   "id": "86cbb6f0",
   "metadata": {},
   "outputs": [
    {
     "data": {
      "text/plain": [
       "Text(0, 0.5, 'Глобальные продажи')"
      ]
     },
     "execution_count": 34,
     "metadata": {},
     "output_type": "execute_result"
    },
    {
     "data": {
      "image/png": "[encoded data removed]",
      "text/plain": [
       "<Figure size 720x1440 with 1 Axes>"
      ]
     },
     "metadata": {
      "needs_background": "light"
     },
     "output_type": "display_data"
    }
   ],
   "source": [
    "top_5_platforms.boxplot(by='platform', column='total_sales', figsize=(10,20))\n",
    "plt.xlabel('Платформа')\n",
    "plt.ylabel('Глобальные продажи')"
   ]
  },
  {
   "cell_type": "markdown",
   "id": "29829bf9",
   "metadata": {},
   "source": [
    "Из-за больших выбросов график не особо нагляден, так что \"отрежем\" выбросы, превышающие 2 млн и построим график ещё раз."
   ]
  },
  {
   "cell_type": "code",
   "execution_count": 35,
   "id": "2d225571",
   "metadata": {},
   "outputs": [
    {
     "data": {
      "text/plain": [
       "Text(0, 0.5, 'Глобальные продажи')"
      ]
     },
     "execution_count": 35,
     "metadata": {},
     "output_type": "execute_result"
    },
    {
     "data": {
      "image/png": "[encoded data removed]",
      "text/plain": [
       "<Figure size 720x1440 with 1 Axes>"
      ]
     },
     "metadata": {
      "needs_background": "light"
     },
     "output_type": "display_data"
    }
   ],
   "source": [
    "top_5_platforms = top_5_platforms[top_5_platforms['total_sales']<2]\n",
    "top_5_platforms.boxplot(by='platform', column='total_sales', figsize=(10,20))\n",
    "plt.xlabel('Платформа')\n",
    "plt.ylabel('Глобальные продажи')"
   ]
  },
  {
   "cell_type": "markdown",
   "id": "ca018246",
   "metadata": {},
   "source": [
    "Вот теперь по графику видно, что больше всего продаж у xone и wiiu, хотя по медиане от них не отстаёт ps4, который на предыдущей таблице показал большее количество вырученных в общем средств."
   ]
  },
  {
   "cell_type": "markdown",
   "id": "62e8aa6d",
   "metadata": {},
   "source": [
    "### Влияние оценок критиков на продажи"
   ]
  },
  {
   "cell_type": "markdown",
   "id": "2b624d60",
   "metadata": {},
   "source": [
    "Напишем функцию, которая посчитает для наших платформ корреляцию, построит для них диаграммы рессяния и оценит влияние оценок на продажи (с нашей помощью, конечно)."
   ]
  },
  {
   "cell_type": "code",
   "execution_count": 36,
   "id": "6b7a86d8",
   "metadata": {},
   "outputs": [],
   "source": [
    "def correlation(name_of_platform):\n",
    "    platform = games[games['platform']==name_of_platform]\n",
    "    fig, ax = plt.subplots(1 ,2, figsize=(15,5))\n",
    "    sns.scatterplot(x='user_score', y='total_sales', data=platform, ax=ax[0])\n",
    "    sns.scatterplot(x='critic_score', y='total_sales', data=platform, ax=ax[1])\n",
    "    fig.suptitle(name_of_platform, fontsize=15)\n",
    "    ax[0].set(xlabel='Оценка пользователей')\n",
    "    ax[1].set(xlabel='Оценка критиков')\n",
    "    ax[0].set(ylabel='Количество продаж')\n",
    "    ax[1].set(ylabel='Количество продаж')\n",
    "    plt.show()\n",
    "    \n",
    "    correl = platform['user_score'].corr(platform['total_sales'])\n",
    "    critic_correl = platform['critic_score'].corr(platform['total_sales'])\n",
    "    \n",
    "    \n",
    "    if 0.35 > critic_correl >= 0.1:\n",
    "        print('Корреляция между отзывами критиков и игровой платформой ', name_of_platform.upper(), ': Низкая', critic_correl)\n",
    "    if 0.7 > critic_correl >= 0.35:\n",
    "        print('Корреляция между отзывами критиков и игровой платформой ', name_of_platform.upper(), ': Средняя', critic_correl)\n",
    "    if 1 >= critic_correl >= 0.7:\n",
    "        print('Корреляция между отзывами критиков и игровой платформой ', name_of_platform.upper(), ': Высокая', critic_correl)\n",
    "       \n",
    "    if 0.35 > correl >= 0.1:\n",
    "        print('Корреляция между отзывами пользователей и продажами ', name_of_platform.upper(), ': Низкая', correl)\n",
    "    if 0.7 > correl >= 0.35:\n",
    "        print('Корреляция между отзывами пользователей и продажами ', name_of_platform.upper(), ': Средняя', correl)\n",
    "    if 1 >= correl >= 0.7:\n",
    "        print('Корреляция между отзывами пользователей и продажами ', name_of_platform.upper(), ': Высокая', correl)\n",
    "        \n",
    "    if 0.1 >= correl >= -0.1:\n",
    "        print('Корреляция между отзывами пользователей и продажами ', name_of_platform.upper(), ': Корреляция не выявлена', correl)\n",
    "    if -0.1 >= correl >= -0.35:\n",
    "        print('Корреляция между отзывами пользователей и продажами ', name_of_platform.upper(), ': Низкая обратная', correl)\n",
    "    if -0.35 >= correl >= -0.7:\n",
    "        print('Корреляция между отзывами пользователей и продажами ', name_of_platform.upper(), ': Средняя обратная', correl)\n",
    "    if -0.7 >= correl >= -1:\n",
    "        print('Корреляция между отзывами пользователей и продажами ', name_of_platform.upper(), ': Высокая обратная', correl)"
   ]
  },
  {
   "cell_type": "code",
   "execution_count": 37,
   "id": "6613ac49",
   "metadata": {},
   "outputs": [
    {
     "data": {
      "image/png": "[encoded data removed]",
      "text/plain": [
       "<Figure size 1080x360 with 2 Axes>"
      ]
     },
     "metadata": {
      "needs_background": "light"
     },
     "output_type": "display_data"
    },
    {
     "name": "stdout",
     "output_type": "stream",
     "text": [
      "Корреляция между отзывами критиков и игровой платформой  PS4 : Средняя 0.4065679020617816\n",
      "Корреляция между отзывами пользователей и продажами  PS4 : Корреляция не выявлена -0.03195711020455643\n"
     ]
    },
    {
     "data": {
      "image/png": "[encoded data removed]",
      "text/plain": [
       "<Figure size 1080x360 with 2 Axes>"
      ]
     },
     "metadata": {
      "needs_background": "light"
     },
     "output_type": "display_data"
    },
    {
     "name": "stdout",
     "output_type": "stream",
     "text": [
      "Корреляция между отзывами критиков и игровой платформой  XONE : Средняя 0.4169983280084017\n",
      "Корреляция между отзывами пользователей и продажами  XONE : Корреляция не выявлена -0.06892505328279416\n"
     ]
    },
    {
     "data": {
      "image/png": "[encoded data removed]",
      "text/plain": [
       "<Figure size 1080x360 with 2 Axes>"
      ]
     },
     "metadata": {
      "needs_background": "light"
     },
     "output_type": "display_data"
    },
    {
     "name": "stdout",
     "output_type": "stream",
     "text": [
      "Корреляция между отзывами критиков и игровой платформой  PC : Низкая 0.2570939878348148\n",
      "Корреляция между отзывами пользователей и продажами  PC : Корреляция не выявлена 0.007906855647676406\n"
     ]
    },
    {
     "data": {
      "image/png": "[encoded data removed]",
      "text/plain": [
       "<Figure size 1080x360 with 2 Axes>"
      ]
     },
     "metadata": {
      "needs_background": "light"
     },
     "output_type": "display_data"
    },
    {
     "name": "stdout",
     "output_type": "stream",
     "text": [
      "Корреляция между отзывами критиков и игровой платформой  WIIU : Низкая 0.34837976012017485\n",
      "Корреляция между отзывами пользователей и продажами  WIIU : Средняя 0.4002190202148617\n"
     ]
    },
    {
     "data": {
      "image/png": "[encoded data removed]",
      "text/plain": [
       "<Figure size 1080x360 with 2 Axes>"
      ]
     },
     "metadata": {
      "needs_background": "light"
     },
     "output_type": "display_data"
    },
    {
     "name": "stdout",
     "output_type": "stream",
     "text": [
      "Корреляция между отзывами критиков и игровой платформой  3DS : Низкая 0.34873973059848346\n",
      "Корреляция между отзывами пользователей и продажами  3DS : Низкая 0.22207843643390876\n"
     ]
    }
   ],
   "source": [
    "for platform in list_of_top_5:\n",
    "    correlation(platform)"
   ]
  },
  {
   "cell_type": "markdown",
   "id": "1df9ee34",
   "metadata": {},
   "source": [
    "Как показывают вычисления и графики, пользователи ps4 и xone больше доверяют оценкам критиков, чем отзывам других пользователей, пользователи pc не особо доверяют ни тем, ни другим, а пользователи wiiu и 3ds примерно одинаково отталкиваются от оценок пользователей и от оценок критиков при покупке игр."
   ]
  },
  {
   "cell_type": "markdown",
   "id": "7018e0e6",
   "metadata": {},
   "source": [
    "### Распределение игр по жанрам"
   ]
  },
  {
   "cell_type": "markdown",
   "id": "c3374072",
   "metadata": {},
   "source": [
    "Составим сводную таблицу, в которой посчитаем, сколько денег принёс каждый из игровых жанров."
   ]
  },
  {
   "cell_type": "code",
   "execution_count": 38,
   "id": "b30ff68e",
   "metadata": {},
   "outputs": [
    {
     "data": {
      "text/html": [
       "<div>\n",
       "<style scoped>\n",
       "    .dataframe tbody tr th:only-of-type {\n",
       "        vertical-align: middle;\n",
       "    }\n",
       "\n",
       "    .dataframe tbody tr th {\n",
       "        vertical-align: top;\n",
       "    }\n",
       "\n",
       "    .dataframe thead th {\n",
       "        text-align: right;\n",
       "    }\n",
       "</style>\n",
       "<table border=\"1\" class=\"dataframe\">\n",
       "  <thead>\n",
       "    <tr style=\"text-align: right;\">\n",
       "      <th></th>\n",
       "      <th>total_sales</th>\n",
       "    </tr>\n",
       "    <tr>\n",
       "      <th>genre</th>\n",
       "      <th></th>\n",
       "    </tr>\n",
       "  </thead>\n",
       "  <tbody>\n",
       "    <tr>\n",
       "      <td>shooter</td>\n",
       "      <td>0.260</td>\n",
       "    </tr>\n",
       "    <tr>\n",
       "      <td>platform</td>\n",
       "      <td>0.245</td>\n",
       "    </tr>\n",
       "    <tr>\n",
       "      <td>sports</td>\n",
       "      <td>0.230</td>\n",
       "    </tr>\n",
       "    <tr>\n",
       "      <td>role-playing</td>\n",
       "      <td>0.160</td>\n",
       "    </tr>\n",
       "    <tr>\n",
       "      <td>fighting</td>\n",
       "      <td>0.120</td>\n",
       "    </tr>\n",
       "    <tr>\n",
       "      <td>misc</td>\n",
       "      <td>0.110</td>\n",
       "    </tr>\n",
       "    <tr>\n",
       "      <td>action</td>\n",
       "      <td>0.100</td>\n",
       "    </tr>\n",
       "    <tr>\n",
       "      <td>racing</td>\n",
       "      <td>0.100</td>\n",
       "    </tr>\n",
       "    <tr>\n",
       "      <td>simulation</td>\n",
       "      <td>0.090</td>\n",
       "    </tr>\n",
       "    <tr>\n",
       "      <td>puzzle</td>\n",
       "      <td>0.085</td>\n",
       "    </tr>\n",
       "    <tr>\n",
       "      <td>strategy</td>\n",
       "      <td>0.080</td>\n",
       "    </tr>\n",
       "    <tr>\n",
       "      <td>adventure</td>\n",
       "      <td>0.060</td>\n",
       "    </tr>\n",
       "  </tbody>\n",
       "</table>\n",
       "</div>"
      ],
      "text/plain": [
       "              total_sales\n",
       "genre                    \n",
       "shooter             0.260\n",
       "platform            0.245\n",
       "sports              0.230\n",
       "role-playing        0.160\n",
       "fighting            0.120\n",
       "misc                0.110\n",
       "action              0.100\n",
       "racing              0.100\n",
       "simulation          0.090\n",
       "puzzle              0.085\n",
       "strategy            0.080\n",
       "adventure           0.060"
      ]
     },
     "execution_count": 38,
     "metadata": {},
     "output_type": "execute_result"
    }
   ],
   "source": [
    "distribution_by_genre = top_5_platforms.pivot_table(index='genre', values='total_sales', aggfunc='median').sort_values(\n",
    "    by='total_sales', ascending=False)\n",
    "distribution_by_genre"
   ]
  },
  {
   "cell_type": "code",
   "execution_count": 39,
   "id": "5df0a36f",
   "metadata": {},
   "outputs": [
    {
     "data": {
      "text/plain": [
       "<matplotlib.axes._subplots.AxesSubplot at 0x184a6cef7c8>"
      ]
     },
     "execution_count": 39,
     "metadata": {},
     "output_type": "execute_result"
    },
    {
     "data": {
      "image/png": "[encoded data removed]",
      "text/plain": [
       "<Figure size 432x288 with 1 Axes>"
      ]
     },
     "metadata": {},
     "output_type": "display_data"
    }
   ],
   "source": [
    "distribution_by_genre['total_sales'].plot(kind='pie')"
   ]
  },
  {
   "cell_type": "markdown",
   "id": "de7985e6",
   "metadata": {},
   "source": [
    "Получается, средний стабильный доход приносят игры жанров шутер, платформы и спорт. Игры жанра экшн плетутся где-то во второй половине списка."
   ]
  },
  {
   "cell_type": "markdown",
   "id": "d4ccf33a",
   "metadata": {},
   "source": [
    "### Вывод\n",
    "\n",
    "Больше всего денег создателям приносят экшн игры и платформа ps4, но и игр она выпускает больше всех остальных платформ."
   ]
  },
  {
   "cell_type": "markdown",
   "id": "7e1f5657",
   "metadata": {},
   "source": [
    "## Портрет пользователей"
   ]
  },
  {
   "cell_type": "markdown",
   "id": "0f778318",
   "metadata": {},
   "source": [
    "### Исследования"
   ]
  },
  {
   "cell_type": "markdown",
   "id": "56cbb675",
   "metadata": {},
   "source": [
    "Напишем функцию, которая посчитает нам топ-5 платформ, жанров и рейтингов для каждого региона, и заодно построит графики этих распределений."
   ]
  },
  {
   "cell_type": "code",
   "execution_count": 40,
   "id": "1fdbaf34",
   "metadata": {},
   "outputs": [],
   "source": [
    "def current_user_portrait(row, title):\n",
    "    temp = current_period\n",
    "    fig, axes = plt.subplots(1, 3, figsize=(20, 4))\n",
    "    for pivot, ax in zip(list(['platform','genre','rating']), axes):\n",
    "        ppivot = temp.pivot_table(index=pivot, values=row, aggfunc='sum').sort_values(by=row, ascending=False).reset_index().rename_axis(None, axis=1).head(5)\n",
    "        display(ppivot)\n",
    "\n",
    "        sns.set_palette(\"BuGn_r\")\n",
    "        sns.barplot(data=ppivot, x=pivot, y=row, ax=ax)\n",
    "        fig.suptitle(title, fontsize=15)"
   ]
  },
  {
   "cell_type": "markdown",
   "id": "dc160a34",
   "metadata": {},
   "source": [
    "Вызовем нашу функцию для Северной Америки"
   ]
  },
  {
   "cell_type": "code",
   "execution_count": 41,
   "id": "243f51ed",
   "metadata": {
    "scrolled": false
   },
   "outputs": [
    {
     "data": {
      "text/html": [
       "<div>\n",
       "<style scoped>\n",
       "    .dataframe tbody tr th:only-of-type {\n",
       "        vertical-align: middle;\n",
       "    }\n",
       "\n",
       "    .dataframe tbody tr th {\n",
       "        vertical-align: top;\n",
       "    }\n",
       "\n",
       "    .dataframe thead th {\n",
       "        text-align: right;\n",
       "    }\n",
       "</style>\n",
       "<table border=\"1\" class=\"dataframe\">\n",
       "  <thead>\n",
       "    <tr style=\"text-align: right;\">\n",
       "      <th></th>\n",
       "      <th>platform</th>\n",
       "      <th>na_sales</th>\n",
       "    </tr>\n",
       "  </thead>\n",
       "  <tbody>\n",
       "    <tr>\n",
       "      <td>0</td>\n",
       "      <td>ps4</td>\n",
       "      <td>108.74</td>\n",
       "    </tr>\n",
       "    <tr>\n",
       "      <td>1</td>\n",
       "      <td>xone</td>\n",
       "      <td>93.12</td>\n",
       "    </tr>\n",
       "    <tr>\n",
       "      <td>2</td>\n",
       "      <td>x360</td>\n",
       "      <td>81.66</td>\n",
       "    </tr>\n",
       "    <tr>\n",
       "      <td>3</td>\n",
       "      <td>ps3</td>\n",
       "      <td>63.50</td>\n",
       "    </tr>\n",
       "    <tr>\n",
       "      <td>4</td>\n",
       "      <td>3ds</td>\n",
       "      <td>38.20</td>\n",
       "    </tr>\n",
       "  </tbody>\n",
       "</table>\n",
       "</div>"
      ],
      "text/plain": [
       "  platform  na_sales\n",
       "0      ps4    108.74\n",
       "1     xone     93.12\n",
       "2     x360     81.66\n",
       "3      ps3     63.50\n",
       "4      3ds     38.20"
      ]
     },
     "metadata": {},
     "output_type": "display_data"
    },
    {
     "data": {
      "text/html": [
       "<div>\n",
       "<style scoped>\n",
       "    .dataframe tbody tr th:only-of-type {\n",
       "        vertical-align: middle;\n",
       "    }\n",
       "\n",
       "    .dataframe tbody tr th {\n",
       "        vertical-align: top;\n",
       "    }\n",
       "\n",
       "    .dataframe thead th {\n",
       "        text-align: right;\n",
       "    }\n",
       "</style>\n",
       "<table border=\"1\" class=\"dataframe\">\n",
       "  <thead>\n",
       "    <tr style=\"text-align: right;\">\n",
       "      <th></th>\n",
       "      <th>genre</th>\n",
       "      <th>na_sales</th>\n",
       "    </tr>\n",
       "  </thead>\n",
       "  <tbody>\n",
       "    <tr>\n",
       "      <td>0</td>\n",
       "      <td>action</td>\n",
       "      <td>126.05</td>\n",
       "    </tr>\n",
       "    <tr>\n",
       "      <td>1</td>\n",
       "      <td>shooter</td>\n",
       "      <td>109.74</td>\n",
       "    </tr>\n",
       "    <tr>\n",
       "      <td>2</td>\n",
       "      <td>sports</td>\n",
       "      <td>65.27</td>\n",
       "    </tr>\n",
       "    <tr>\n",
       "      <td>3</td>\n",
       "      <td>role-playing</td>\n",
       "      <td>46.40</td>\n",
       "    </tr>\n",
       "    <tr>\n",
       "      <td>4</td>\n",
       "      <td>misc</td>\n",
       "      <td>27.49</td>\n",
       "    </tr>\n",
       "  </tbody>\n",
       "</table>\n",
       "</div>"
      ],
      "text/plain": [
       "          genre  na_sales\n",
       "0        action    126.05\n",
       "1       shooter    109.74\n",
       "2        sports     65.27\n",
       "3  role-playing     46.40\n",
       "4          misc     27.49"
      ]
     },
     "metadata": {},
     "output_type": "display_data"
    },
    {
     "data": {
      "text/html": [
       "<div>\n",
       "<style scoped>\n",
       "    .dataframe tbody tr th:only-of-type {\n",
       "        vertical-align: middle;\n",
       "    }\n",
       "\n",
       "    .dataframe tbody tr th {\n",
       "        vertical-align: top;\n",
       "    }\n",
       "\n",
       "    .dataframe thead th {\n",
       "        text-align: right;\n",
       "    }\n",
       "</style>\n",
       "<table border=\"1\" class=\"dataframe\">\n",
       "  <thead>\n",
       "    <tr style=\"text-align: right;\">\n",
       "      <th></th>\n",
       "      <th>rating</th>\n",
       "      <th>na_sales</th>\n",
       "    </tr>\n",
       "  </thead>\n",
       "  <tbody>\n",
       "    <tr>\n",
       "      <td>0</td>\n",
       "      <td>m</td>\n",
       "      <td>165.21</td>\n",
       "    </tr>\n",
       "    <tr>\n",
       "      <td>1</td>\n",
       "      <td>n/d</td>\n",
       "      <td>89.42</td>\n",
       "    </tr>\n",
       "    <tr>\n",
       "      <td>2</td>\n",
       "      <td>e</td>\n",
       "      <td>79.05</td>\n",
       "    </tr>\n",
       "    <tr>\n",
       "      <td>3</td>\n",
       "      <td>e10+</td>\n",
       "      <td>54.24</td>\n",
       "    </tr>\n",
       "    <tr>\n",
       "      <td>4</td>\n",
       "      <td>t</td>\n",
       "      <td>49.79</td>\n",
       "    </tr>\n",
       "  </tbody>\n",
       "</table>\n",
       "</div>"
      ],
      "text/plain": [
       "  rating  na_sales\n",
       "0      m    165.21\n",
       "1    n/d     89.42\n",
       "2      e     79.05\n",
       "3   e10+     54.24\n",
       "4      t     49.79"
      ]
     },
     "metadata": {},
     "output_type": "display_data"
    },
    {
     "data": {
      "image/png": "[encoded data removed]",
      "text/plain": [
       "<Figure size 1440x288 with 3 Axes>"
      ]
     },
     "metadata": {
      "needs_background": "light"
     },
     "output_type": "display_data"
    }
   ],
   "source": [
    "current_user_portrait('na_sales','Топ 5 платформ, жанров и рейтингов за весь период')"
   ]
  },
  {
   "cell_type": "markdown",
   "id": "de78fe7a",
   "metadata": {},
   "source": [
    "Больше всего покупают ps4, хотя остальные платформы отстают не сильно, самый любимый жанр - экшн, рядом шутеры, рейтинг - m (от 17 лет), сильно лидирует."
   ]
  },
  {
   "cell_type": "markdown",
   "id": "961cbfcd",
   "metadata": {},
   "source": [
    "Вызовем функцию для жителей Европы"
   ]
  },
  {
   "cell_type": "code",
   "execution_count": 42,
   "id": "58e66898",
   "metadata": {
    "scrolled": false
   },
   "outputs": [
    {
     "data": {
      "text/html": [
       "<div>\n",
       "<style scoped>\n",
       "    .dataframe tbody tr th:only-of-type {\n",
       "        vertical-align: middle;\n",
       "    }\n",
       "\n",
       "    .dataframe tbody tr th {\n",
       "        vertical-align: top;\n",
       "    }\n",
       "\n",
       "    .dataframe thead th {\n",
       "        text-align: right;\n",
       "    }\n",
       "</style>\n",
       "<table border=\"1\" class=\"dataframe\">\n",
       "  <thead>\n",
       "    <tr style=\"text-align: right;\">\n",
       "      <th></th>\n",
       "      <th>platform</th>\n",
       "      <th>eu_sales</th>\n",
       "    </tr>\n",
       "  </thead>\n",
       "  <tbody>\n",
       "    <tr>\n",
       "      <td>0</td>\n",
       "      <td>ps4</td>\n",
       "      <td>141.09</td>\n",
       "    </tr>\n",
       "    <tr>\n",
       "      <td>1</td>\n",
       "      <td>ps3</td>\n",
       "      <td>67.81</td>\n",
       "    </tr>\n",
       "    <tr>\n",
       "      <td>2</td>\n",
       "      <td>xone</td>\n",
       "      <td>51.59</td>\n",
       "    </tr>\n",
       "    <tr>\n",
       "      <td>3</td>\n",
       "      <td>x360</td>\n",
       "      <td>42.52</td>\n",
       "    </tr>\n",
       "    <tr>\n",
       "      <td>4</td>\n",
       "      <td>3ds</td>\n",
       "      <td>30.96</td>\n",
       "    </tr>\n",
       "  </tbody>\n",
       "</table>\n",
       "</div>"
      ],
      "text/plain": [
       "  platform  eu_sales\n",
       "0      ps4    141.09\n",
       "1      ps3     67.81\n",
       "2     xone     51.59\n",
       "3     x360     42.52\n",
       "4      3ds     30.96"
      ]
     },
     "metadata": {},
     "output_type": "display_data"
    },
    {
     "data": {
      "text/html": [
       "<div>\n",
       "<style scoped>\n",
       "    .dataframe tbody tr th:only-of-type {\n",
       "        vertical-align: middle;\n",
       "    }\n",
       "\n",
       "    .dataframe tbody tr th {\n",
       "        vertical-align: top;\n",
       "    }\n",
       "\n",
       "    .dataframe thead th {\n",
       "        text-align: right;\n",
       "    }\n",
       "</style>\n",
       "<table border=\"1\" class=\"dataframe\">\n",
       "  <thead>\n",
       "    <tr style=\"text-align: right;\">\n",
       "      <th></th>\n",
       "      <th>genre</th>\n",
       "      <th>eu_sales</th>\n",
       "    </tr>\n",
       "  </thead>\n",
       "  <tbody>\n",
       "    <tr>\n",
       "      <td>0</td>\n",
       "      <td>action</td>\n",
       "      <td>118.13</td>\n",
       "    </tr>\n",
       "    <tr>\n",
       "      <td>1</td>\n",
       "      <td>shooter</td>\n",
       "      <td>87.86</td>\n",
       "    </tr>\n",
       "    <tr>\n",
       "      <td>2</td>\n",
       "      <td>sports</td>\n",
       "      <td>60.52</td>\n",
       "    </tr>\n",
       "    <tr>\n",
       "      <td>3</td>\n",
       "      <td>role-playing</td>\n",
       "      <td>36.97</td>\n",
       "    </tr>\n",
       "    <tr>\n",
       "      <td>4</td>\n",
       "      <td>racing</td>\n",
       "      <td>20.19</td>\n",
       "    </tr>\n",
       "  </tbody>\n",
       "</table>\n",
       "</div>"
      ],
      "text/plain": [
       "          genre  eu_sales\n",
       "0        action    118.13\n",
       "1       shooter     87.86\n",
       "2        sports     60.52\n",
       "3  role-playing     36.97\n",
       "4        racing     20.19"
      ]
     },
     "metadata": {},
     "output_type": "display_data"
    },
    {
     "data": {
      "text/html": [
       "<div>\n",
       "<style scoped>\n",
       "    .dataframe tbody tr th:only-of-type {\n",
       "        vertical-align: middle;\n",
       "    }\n",
       "\n",
       "    .dataframe tbody tr th {\n",
       "        vertical-align: top;\n",
       "    }\n",
       "\n",
       "    .dataframe thead th {\n",
       "        text-align: right;\n",
       "    }\n",
       "</style>\n",
       "<table border=\"1\" class=\"dataframe\">\n",
       "  <thead>\n",
       "    <tr style=\"text-align: right;\">\n",
       "      <th></th>\n",
       "      <th>rating</th>\n",
       "      <th>eu_sales</th>\n",
       "    </tr>\n",
       "  </thead>\n",
       "  <tbody>\n",
       "    <tr>\n",
       "      <td>0</td>\n",
       "      <td>m</td>\n",
       "      <td>145.32</td>\n",
       "    </tr>\n",
       "    <tr>\n",
       "      <td>1</td>\n",
       "      <td>e</td>\n",
       "      <td>83.36</td>\n",
       "    </tr>\n",
       "    <tr>\n",
       "      <td>2</td>\n",
       "      <td>n/d</td>\n",
       "      <td>78.91</td>\n",
       "    </tr>\n",
       "    <tr>\n",
       "      <td>3</td>\n",
       "      <td>e10+</td>\n",
       "      <td>42.69</td>\n",
       "    </tr>\n",
       "    <tr>\n",
       "      <td>4</td>\n",
       "      <td>t</td>\n",
       "      <td>41.95</td>\n",
       "    </tr>\n",
       "  </tbody>\n",
       "</table>\n",
       "</div>"
      ],
      "text/plain": [
       "  rating  eu_sales\n",
       "0      m    145.32\n",
       "1      e     83.36\n",
       "2    n/d     78.91\n",
       "3   e10+     42.69\n",
       "4      t     41.95"
      ]
     },
     "metadata": {},
     "output_type": "display_data"
    },
    {
     "data": {
      "image/png": "[encoded data removed]",
      "text/plain": [
       "<Figure size 1440x288 with 3 Axes>"
      ]
     },
     "metadata": {
      "needs_background": "light"
     },
     "output_type": "display_data"
    }
   ],
   "source": [
    "current_user_portrait('eu_sales','Топ 5 платформ, жанров и рейтингов за весь период')"
   ]
  },
  {
   "cell_type": "markdown",
   "id": "04f2ff62",
   "metadata": {},
   "source": [
    "Их лидирующая платформа - ps4, от ближайшего конкурента её отделяет перевес по продажам больше чем в два раза. Любимый жанр - экшн, на втором месте шутеры, как и в Америке. Самый популярный рейтинг - m, тоже перевес почти в два раза."
   ]
  },
  {
   "cell_type": "markdown",
   "id": "55ef0acd",
   "metadata": {},
   "source": [
    "Вызовем функцию для жителей Японии."
   ]
  },
  {
   "cell_type": "code",
   "execution_count": 43,
   "id": "b76de401",
   "metadata": {},
   "outputs": [
    {
     "data": {
      "text/html": [
       "<div>\n",
       "<style scoped>\n",
       "    .dataframe tbody tr th:only-of-type {\n",
       "        vertical-align: middle;\n",
       "    }\n",
       "\n",
       "    .dataframe tbody tr th {\n",
       "        vertical-align: top;\n",
       "    }\n",
       "\n",
       "    .dataframe thead th {\n",
       "        text-align: right;\n",
       "    }\n",
       "</style>\n",
       "<table border=\"1\" class=\"dataframe\">\n",
       "  <thead>\n",
       "    <tr style=\"text-align: right;\">\n",
       "      <th></th>\n",
       "      <th>platform</th>\n",
       "      <th>jp_sales</th>\n",
       "    </tr>\n",
       "  </thead>\n",
       "  <tbody>\n",
       "    <tr>\n",
       "      <td>0</td>\n",
       "      <td>3ds</td>\n",
       "      <td>67.81</td>\n",
       "    </tr>\n",
       "    <tr>\n",
       "      <td>1</td>\n",
       "      <td>ps3</td>\n",
       "      <td>23.35</td>\n",
       "    </tr>\n",
       "    <tr>\n",
       "      <td>2</td>\n",
       "      <td>psv</td>\n",
       "      <td>18.59</td>\n",
       "    </tr>\n",
       "    <tr>\n",
       "      <td>3</td>\n",
       "      <td>ps4</td>\n",
       "      <td>15.96</td>\n",
       "    </tr>\n",
       "    <tr>\n",
       "      <td>4</td>\n",
       "      <td>wiiu</td>\n",
       "      <td>10.88</td>\n",
       "    </tr>\n",
       "  </tbody>\n",
       "</table>\n",
       "</div>"
      ],
      "text/plain": [
       "  platform  jp_sales\n",
       "0      3ds     67.81\n",
       "1      ps3     23.35\n",
       "2      psv     18.59\n",
       "3      ps4     15.96\n",
       "4     wiiu     10.88"
      ]
     },
     "metadata": {},
     "output_type": "display_data"
    },
    {
     "data": {
      "text/html": [
       "<div>\n",
       "<style scoped>\n",
       "    .dataframe tbody tr th:only-of-type {\n",
       "        vertical-align: middle;\n",
       "    }\n",
       "\n",
       "    .dataframe tbody tr th {\n",
       "        vertical-align: top;\n",
       "    }\n",
       "\n",
       "    .dataframe thead th {\n",
       "        text-align: right;\n",
       "    }\n",
       "</style>\n",
       "<table border=\"1\" class=\"dataframe\">\n",
       "  <thead>\n",
       "    <tr style=\"text-align: right;\">\n",
       "      <th></th>\n",
       "      <th>genre</th>\n",
       "      <th>jp_sales</th>\n",
       "    </tr>\n",
       "  </thead>\n",
       "  <tbody>\n",
       "    <tr>\n",
       "      <td>0</td>\n",
       "      <td>role-playing</td>\n",
       "      <td>51.04</td>\n",
       "    </tr>\n",
       "    <tr>\n",
       "      <td>1</td>\n",
       "      <td>action</td>\n",
       "      <td>40.49</td>\n",
       "    </tr>\n",
       "    <tr>\n",
       "      <td>2</td>\n",
       "      <td>misc</td>\n",
       "      <td>9.20</td>\n",
       "    </tr>\n",
       "    <tr>\n",
       "      <td>3</td>\n",
       "      <td>fighting</td>\n",
       "      <td>7.65</td>\n",
       "    </tr>\n",
       "    <tr>\n",
       "      <td>4</td>\n",
       "      <td>shooter</td>\n",
       "      <td>6.61</td>\n",
       "    </tr>\n",
       "  </tbody>\n",
       "</table>\n",
       "</div>"
      ],
      "text/plain": [
       "          genre  jp_sales\n",
       "0  role-playing     51.04\n",
       "1        action     40.49\n",
       "2          misc      9.20\n",
       "3      fighting      7.65\n",
       "4       shooter      6.61"
      ]
     },
     "metadata": {},
     "output_type": "display_data"
    },
    {
     "data": {
      "text/html": [
       "<div>\n",
       "<style scoped>\n",
       "    .dataframe tbody tr th:only-of-type {\n",
       "        vertical-align: middle;\n",
       "    }\n",
       "\n",
       "    .dataframe tbody tr th {\n",
       "        vertical-align: top;\n",
       "    }\n",
       "\n",
       "    .dataframe thead th {\n",
       "        text-align: right;\n",
       "    }\n",
       "</style>\n",
       "<table border=\"1\" class=\"dataframe\">\n",
       "  <thead>\n",
       "    <tr style=\"text-align: right;\">\n",
       "      <th></th>\n",
       "      <th>rating</th>\n",
       "      <th>jp_sales</th>\n",
       "    </tr>\n",
       "  </thead>\n",
       "  <tbody>\n",
       "    <tr>\n",
       "      <td>0</td>\n",
       "      <td>n/d</td>\n",
       "      <td>85.05</td>\n",
       "    </tr>\n",
       "    <tr>\n",
       "      <td>1</td>\n",
       "      <td>t</td>\n",
       "      <td>20.59</td>\n",
       "    </tr>\n",
       "    <tr>\n",
       "      <td>2</td>\n",
       "      <td>e</td>\n",
       "      <td>15.14</td>\n",
       "    </tr>\n",
       "    <tr>\n",
       "      <td>3</td>\n",
       "      <td>m</td>\n",
       "      <td>14.11</td>\n",
       "    </tr>\n",
       "    <tr>\n",
       "      <td>4</td>\n",
       "      <td>e10+</td>\n",
       "      <td>5.89</td>\n",
       "    </tr>\n",
       "  </tbody>\n",
       "</table>\n",
       "</div>"
      ],
      "text/plain": [
       "  rating  jp_sales\n",
       "0    n/d     85.05\n",
       "1      t     20.59\n",
       "2      e     15.14\n",
       "3      m     14.11\n",
       "4   e10+      5.89"
      ]
     },
     "metadata": {},
     "output_type": "display_data"
    },
    {
     "data": {
      "image/png": "[encoded data removed]",
      "text/plain": [
       "<Figure size 1440x288 with 3 Axes>"
      ]
     },
     "metadata": {
      "needs_background": "light"
     },
     "output_type": "display_data"
    }
   ],
   "source": [
    "current_user_portrait('jp_sales','Топ 5 платформ, жанров и рейтингов за весь период')"
   ]
  },
  {
   "cell_type": "markdown",
   "id": "1ded57d9",
   "metadata": {},
   "source": [
    "У них всё поменялось: самая популярная приставка - 3ds; по жанрам экнш сместился на второе место, а на первое вышли рпг; с рейтингом вообще какой-то шок: преобладают игры с неопределённым рейтингом, а за ними распоожились игры для подростков."
   ]
  },
  {
   "cell_type": "markdown",
   "id": "0a9dbb5c",
   "metadata": {},
   "source": [
    "### Вывод\n",
    "\n",
    "Общая картина для пользователей из Европы и Северной Америки примерно одинаковая, а вот в Японии заметно различие. Думаю, это связано с разницей менталитетов. Американцы и европейцы по менталитету и жизненным ценностям пракически не отличаются, в то время как Япония - это абсолютно другой мир.\n",
    "\n",
    "Что касается рейтинга esrb, в Европе и Америке преобладает рейтинг m - для взрослых. Игры с присутствием насилия, реалистичных смертей, секса и употребления различных веществ. \n",
    "\n",
    "Сам рейтинг был создан в 1994 году, и очевидно, что не все игры из нашего списка могли получить свой рейтинг, если они вышли раньше. Но в данных таких пропусков было больше шести тысяч. А игр, вышедших до 1994 - несколько сотен. Поэтому я грешу всё-таки на пропуски в данных по какой-то другой причине, технической или человеческой"
   ]
  },
  {
   "cell_type": "markdown",
   "id": "695e53d3",
   "metadata": {},
   "source": [
    "## Проверка гипотез"
   ]
  },
  {
   "cell_type": "markdown",
   "id": "ad99e289",
   "metadata": {},
   "source": [
    "### Первая гипотеза - о рейтингах платформ Xbox one и PC"
   ]
  },
  {
   "cell_type": "markdown",
   "id": "44383902",
   "metadata": {},
   "source": [
    "Нам нужно проверить, являются ли средние пользовательские рейтинги платформ Xbox One и PC одинаковыми. Гипотеза H0: \"Средние пользовательские рейтинги платформ Xbox One и PC равны\". Гипотеза Н1: \"Средние пользовательские рейтинги платформ Xbox One и PC НЕ равны\".\n",
    "\n",
    "Для начала составим два датафрейма. В первый соберём актуальные данные по платформе Xbox One, во второй - по PC. Перед проверкой гипотез, почистим данные от пропусков."
   ]
  },
  {
   "cell_type": "code",
   "execution_count": 44,
   "id": "43d4bebd",
   "metadata": {},
   "outputs": [
    {
     "data": {
      "text/html": [
       "<div>\n",
       "<style scoped>\n",
       "    .dataframe tbody tr th:only-of-type {\n",
       "        vertical-align: middle;\n",
       "    }\n",
       "\n",
       "    .dataframe tbody tr th {\n",
       "        vertical-align: top;\n",
       "    }\n",
       "\n",
       "    .dataframe thead th {\n",
       "        text-align: right;\n",
       "    }\n",
       "</style>\n",
       "<table border=\"1\" class=\"dataframe\">\n",
       "  <thead>\n",
       "    <tr style=\"text-align: right;\">\n",
       "      <th></th>\n",
       "      <th>name</th>\n",
       "      <th>platform</th>\n",
       "      <th>year_of_release</th>\n",
       "      <th>genre</th>\n",
       "      <th>na_sales</th>\n",
       "      <th>eu_sales</th>\n",
       "      <th>jp_sales</th>\n",
       "      <th>other_sales</th>\n",
       "      <th>critic_score</th>\n",
       "      <th>user_score</th>\n",
       "      <th>rating</th>\n",
       "      <th>total_sales</th>\n",
       "    </tr>\n",
       "  </thead>\n",
       "  <tbody>\n",
       "    <tr>\n",
       "      <td>165</td>\n",
       "      <td>grand theft auto v</td>\n",
       "      <td>xone</td>\n",
       "      <td>2014</td>\n",
       "      <td>action</td>\n",
       "      <td>2.81</td>\n",
       "      <td>2.19</td>\n",
       "      <td>0.00</td>\n",
       "      <td>0.47</td>\n",
       "      <td>97.0</td>\n",
       "      <td>7.9</td>\n",
       "      <td>m</td>\n",
       "      <td>5.47</td>\n",
       "    </tr>\n",
       "    <tr>\n",
       "      <td>179</td>\n",
       "      <td>call of duty: advanced warfare</td>\n",
       "      <td>xone</td>\n",
       "      <td>2014</td>\n",
       "      <td>shooter</td>\n",
       "      <td>3.22</td>\n",
       "      <td>1.55</td>\n",
       "      <td>0.01</td>\n",
       "      <td>0.48</td>\n",
       "      <td>81.0</td>\n",
       "      <td>5.4</td>\n",
       "      <td>m</td>\n",
       "      <td>5.26</td>\n",
       "    </tr>\n",
       "    <tr>\n",
       "      <td>242</td>\n",
       "      <td>halo 5: guardians</td>\n",
       "      <td>xone</td>\n",
       "      <td>2015</td>\n",
       "      <td>shooter</td>\n",
       "      <td>2.78</td>\n",
       "      <td>1.27</td>\n",
       "      <td>0.03</td>\n",
       "      <td>0.41</td>\n",
       "      <td>84.0</td>\n",
       "      <td>6.4</td>\n",
       "      <td>t</td>\n",
       "      <td>4.49</td>\n",
       "    </tr>\n",
       "    <tr>\n",
       "      <td>270</td>\n",
       "      <td>fallout 4</td>\n",
       "      <td>xone</td>\n",
       "      <td>2015</td>\n",
       "      <td>role-playing</td>\n",
       "      <td>2.51</td>\n",
       "      <td>1.32</td>\n",
       "      <td>0.01</td>\n",
       "      <td>0.38</td>\n",
       "      <td>88.0</td>\n",
       "      <td>6.2</td>\n",
       "      <td>m</td>\n",
       "      <td>4.22</td>\n",
       "    </tr>\n",
       "    <tr>\n",
       "      <td>373</td>\n",
       "      <td>assassin's creed: unity</td>\n",
       "      <td>xone</td>\n",
       "      <td>2014</td>\n",
       "      <td>action</td>\n",
       "      <td>2.27</td>\n",
       "      <td>0.90</td>\n",
       "      <td>0.00</td>\n",
       "      <td>0.33</td>\n",
       "      <td>72.0</td>\n",
       "      <td>4.1</td>\n",
       "      <td>m</td>\n",
       "      <td>3.50</td>\n",
       "    </tr>\n",
       "  </tbody>\n",
       "</table>\n",
       "</div>"
      ],
      "text/plain": [
       "                               name platform  year_of_release         genre  \\\n",
       "165              grand theft auto v     xone             2014        action   \n",
       "179  call of duty: advanced warfare     xone             2014       shooter   \n",
       "242               halo 5: guardians     xone             2015       shooter   \n",
       "270                       fallout 4     xone             2015  role-playing   \n",
       "373         assassin's creed: unity     xone             2014        action   \n",
       "\n",
       "     na_sales  eu_sales  jp_sales  other_sales  critic_score  user_score  \\\n",
       "165      2.81      2.19      0.00         0.47          97.0         7.9   \n",
       "179      3.22      1.55      0.01         0.48          81.0         5.4   \n",
       "242      2.78      1.27      0.03         0.41          84.0         6.4   \n",
       "270      2.51      1.32      0.01         0.38          88.0         6.2   \n",
       "373      2.27      0.90      0.00         0.33          72.0         4.1   \n",
       "\n",
       "    rating  total_sales  \n",
       "165      m         5.47  \n",
       "179      m         5.26  \n",
       "242      t         4.49  \n",
       "270      m         4.22  \n",
       "373      m         3.50  "
      ]
     },
     "execution_count": 44,
     "metadata": {},
     "output_type": "execute_result"
    }
   ],
   "source": [
    "xone_games = current_period.query('platform == \"xone\"')\n",
    "xone_games.dropna(subset=['user_score'], inplace=True)\n",
    "xone_games.head()"
   ]
  },
  {
   "cell_type": "code",
   "execution_count": 45,
   "id": "dd70117a",
   "metadata": {},
   "outputs": [
    {
     "data": {
      "text/html": [
       "<div>\n",
       "<style scoped>\n",
       "    .dataframe tbody tr th:only-of-type {\n",
       "        vertical-align: middle;\n",
       "    }\n",
       "\n",
       "    .dataframe tbody tr th {\n",
       "        vertical-align: top;\n",
       "    }\n",
       "\n",
       "    .dataframe thead th {\n",
       "        text-align: right;\n",
       "    }\n",
       "</style>\n",
       "<table border=\"1\" class=\"dataframe\">\n",
       "  <thead>\n",
       "    <tr style=\"text-align: right;\">\n",
       "      <th></th>\n",
       "      <th>name</th>\n",
       "      <th>platform</th>\n",
       "      <th>year_of_release</th>\n",
       "      <th>genre</th>\n",
       "      <th>na_sales</th>\n",
       "      <th>eu_sales</th>\n",
       "      <th>jp_sales</th>\n",
       "      <th>other_sales</th>\n",
       "      <th>critic_score</th>\n",
       "      <th>user_score</th>\n",
       "      <th>rating</th>\n",
       "      <th>total_sales</th>\n",
       "    </tr>\n",
       "  </thead>\n",
       "  <tbody>\n",
       "    <tr>\n",
       "      <td>458</td>\n",
       "      <td>the sims 4</td>\n",
       "      <td>pc</td>\n",
       "      <td>2014</td>\n",
       "      <td>simulation</td>\n",
       "      <td>1.00</td>\n",
       "      <td>1.82</td>\n",
       "      <td>0.0</td>\n",
       "      <td>0.23</td>\n",
       "      <td>70.0</td>\n",
       "      <td>3.9</td>\n",
       "      <td>t</td>\n",
       "      <td>3.05</td>\n",
       "    </tr>\n",
       "    <tr>\n",
       "      <td>1095</td>\n",
       "      <td>starcraft ii: heart of the swarm</td>\n",
       "      <td>pc</td>\n",
       "      <td>2013</td>\n",
       "      <td>strategy</td>\n",
       "      <td>0.83</td>\n",
       "      <td>0.66</td>\n",
       "      <td>0.0</td>\n",
       "      <td>0.18</td>\n",
       "      <td>86.0</td>\n",
       "      <td>7.9</td>\n",
       "      <td>t</td>\n",
       "      <td>1.67</td>\n",
       "    </tr>\n",
       "    <tr>\n",
       "      <td>1351</td>\n",
       "      <td>simcity (2013)</td>\n",
       "      <td>pc</td>\n",
       "      <td>2013</td>\n",
       "      <td>simulation</td>\n",
       "      <td>0.48</td>\n",
       "      <td>0.77</td>\n",
       "      <td>0.0</td>\n",
       "      <td>0.17</td>\n",
       "      <td>64.0</td>\n",
       "      <td>2.2</td>\n",
       "      <td>e10+</td>\n",
       "      <td>1.42</td>\n",
       "    </tr>\n",
       "    <tr>\n",
       "      <td>1437</td>\n",
       "      <td>battlefield 4</td>\n",
       "      <td>pc</td>\n",
       "      <td>2013</td>\n",
       "      <td>shooter</td>\n",
       "      <td>0.39</td>\n",
       "      <td>0.87</td>\n",
       "      <td>0.0</td>\n",
       "      <td>0.10</td>\n",
       "      <td>81.0</td>\n",
       "      <td>6.0</td>\n",
       "      <td>m</td>\n",
       "      <td>1.36</td>\n",
       "    </tr>\n",
       "    <tr>\n",
       "      <td>1530</td>\n",
       "      <td>fallout 4</td>\n",
       "      <td>pc</td>\n",
       "      <td>2015</td>\n",
       "      <td>role-playing</td>\n",
       "      <td>0.51</td>\n",
       "      <td>0.67</td>\n",
       "      <td>0.0</td>\n",
       "      <td>0.10</td>\n",
       "      <td>84.0</td>\n",
       "      <td>5.4</td>\n",
       "      <td>m</td>\n",
       "      <td>1.28</td>\n",
       "    </tr>\n",
       "  </tbody>\n",
       "</table>\n",
       "</div>"
      ],
      "text/plain": [
       "                                  name platform  year_of_release  \\\n",
       "458                         the sims 4       pc             2014   \n",
       "1095  starcraft ii: heart of the swarm       pc             2013   \n",
       "1351                    simcity (2013)       pc             2013   \n",
       "1437                     battlefield 4       pc             2013   \n",
       "1530                         fallout 4       pc             2015   \n",
       "\n",
       "             genre  na_sales  eu_sales  jp_sales  other_sales  critic_score  \\\n",
       "458     simulation      1.00      1.82       0.0         0.23          70.0   \n",
       "1095      strategy      0.83      0.66       0.0         0.18          86.0   \n",
       "1351    simulation      0.48      0.77       0.0         0.17          64.0   \n",
       "1437       shooter      0.39      0.87       0.0         0.10          81.0   \n",
       "1530  role-playing      0.51      0.67       0.0         0.10          84.0   \n",
       "\n",
       "      user_score rating  total_sales  \n",
       "458          3.9      t         3.05  \n",
       "1095         7.9      t         1.67  \n",
       "1351         2.2   e10+         1.42  \n",
       "1437         6.0      m         1.36  \n",
       "1530         5.4      m         1.28  "
      ]
     },
     "execution_count": 45,
     "metadata": {},
     "output_type": "execute_result"
    }
   ],
   "source": [
    "pc_games = current_period.query('platform == \"pc\"')\n",
    "pc_games.dropna(subset=['user_score'], inplace=True)\n",
    "pc_games.head()"
   ]
  },
  {
   "cell_type": "markdown",
   "id": "ebc7e065",
   "metadata": {},
   "source": [
    "Возьмём альфа = 0.01 и проверим гипотезы с помощью метода ttest_ind(), т.к. нам надо сравнить данные из двух разных массивов."
   ]
  },
  {
   "cell_type": "code",
   "execution_count": 46,
   "id": "54745bab",
   "metadata": {},
   "outputs": [
    {
     "name": "stdout",
     "output_type": "stream",
     "text": [
      "p-значение:  0.14012658403611647\n",
      "Не получилось отвергнуть нулевую гипотезу\n"
     ]
    }
   ],
   "source": [
    "results = st.stats.ttest_ind(xone_games['user_score'], pc_games['user_score'], equal_var=True)\n",
    "alpha = 0.01\n",
    "print('p-значение: ', results.pvalue)\n",
    "if results.pvalue < alpha:\n",
    "    print(\"Отвергаем нулевую гипотезу\")\n",
    "else:\n",
    "    print(\"Не получилось отвергнуть нулевую гипотезу\") "
   ]
  },
  {
   "cell_type": "markdown",
   "id": "2d9c6685",
   "metadata": {},
   "source": [
    "Получается, пользовательский рейтинг не зависит от того, на какой платформе вышла игра. На любой платформе может выйти как шедевр, так и противоположность."
   ]
  },
  {
   "cell_type": "markdown",
   "id": "90ab4477",
   "metadata": {},
   "source": [
    "### Вторая гипотеза - о рейтингах жанров Action и Sports"
   ]
  },
  {
   "cell_type": "markdown",
   "id": "e4dfb408",
   "metadata": {},
   "source": [
    "Нам нужно проверить, являются ли средние пользовательские рейтинги жанров Action и Sports разными. Возьмём гипотезу Н0: \"средние пользовательские рейтинги жанров Action и Sports равны\". Н1: \"средние пользовательские рейтинги жанров Action и Sports НЕ равны\". Нас интересует именно альтернативная гипотеза. \n",
    "\n",
    "Составим два дата фрейма и избавимся в них от пропусков."
   ]
  },
  {
   "cell_type": "code",
   "execution_count": 47,
   "id": "f330ce68",
   "metadata": {},
   "outputs": [
    {
     "data": {
      "text/html": [
       "<div>\n",
       "<style scoped>\n",
       "    .dataframe tbody tr th:only-of-type {\n",
       "        vertical-align: middle;\n",
       "    }\n",
       "\n",
       "    .dataframe tbody tr th {\n",
       "        vertical-align: top;\n",
       "    }\n",
       "\n",
       "    .dataframe thead th {\n",
       "        text-align: right;\n",
       "    }\n",
       "</style>\n",
       "<table border=\"1\" class=\"dataframe\">\n",
       "  <thead>\n",
       "    <tr style=\"text-align: right;\">\n",
       "      <th></th>\n",
       "      <th>name</th>\n",
       "      <th>platform</th>\n",
       "      <th>year_of_release</th>\n",
       "      <th>genre</th>\n",
       "      <th>na_sales</th>\n",
       "      <th>eu_sales</th>\n",
       "      <th>jp_sales</th>\n",
       "      <th>other_sales</th>\n",
       "      <th>critic_score</th>\n",
       "      <th>user_score</th>\n",
       "      <th>rating</th>\n",
       "      <th>total_sales</th>\n",
       "    </tr>\n",
       "  </thead>\n",
       "  <tbody>\n",
       "    <tr>\n",
       "      <td>16</td>\n",
       "      <td>grand theft auto v</td>\n",
       "      <td>ps3</td>\n",
       "      <td>2013</td>\n",
       "      <td>action</td>\n",
       "      <td>7.02</td>\n",
       "      <td>9.09</td>\n",
       "      <td>0.98</td>\n",
       "      <td>3.96</td>\n",
       "      <td>97.0</td>\n",
       "      <td>8.2</td>\n",
       "      <td>m</td>\n",
       "      <td>21.05</td>\n",
       "    </tr>\n",
       "    <tr>\n",
       "      <td>23</td>\n",
       "      <td>grand theft auto v</td>\n",
       "      <td>x360</td>\n",
       "      <td>2013</td>\n",
       "      <td>action</td>\n",
       "      <td>9.66</td>\n",
       "      <td>5.14</td>\n",
       "      <td>0.06</td>\n",
       "      <td>1.41</td>\n",
       "      <td>97.0</td>\n",
       "      <td>8.1</td>\n",
       "      <td>m</td>\n",
       "      <td>16.27</td>\n",
       "    </tr>\n",
       "    <tr>\n",
       "      <td>42</td>\n",
       "      <td>grand theft auto v</td>\n",
       "      <td>ps4</td>\n",
       "      <td>2014</td>\n",
       "      <td>action</td>\n",
       "      <td>3.96</td>\n",
       "      <td>6.31</td>\n",
       "      <td>0.38</td>\n",
       "      <td>1.97</td>\n",
       "      <td>97.0</td>\n",
       "      <td>8.3</td>\n",
       "      <td>m</td>\n",
       "      <td>12.62</td>\n",
       "    </tr>\n",
       "    <tr>\n",
       "      <td>149</td>\n",
       "      <td>the last of us</td>\n",
       "      <td>ps3</td>\n",
       "      <td>2013</td>\n",
       "      <td>action</td>\n",
       "      <td>2.41</td>\n",
       "      <td>2.18</td>\n",
       "      <td>0.28</td>\n",
       "      <td>0.99</td>\n",
       "      <td>95.0</td>\n",
       "      <td>9.1</td>\n",
       "      <td>m</td>\n",
       "      <td>5.86</td>\n",
       "    </tr>\n",
       "    <tr>\n",
       "      <td>165</td>\n",
       "      <td>grand theft auto v</td>\n",
       "      <td>xone</td>\n",
       "      <td>2014</td>\n",
       "      <td>action</td>\n",
       "      <td>2.81</td>\n",
       "      <td>2.19</td>\n",
       "      <td>0.00</td>\n",
       "      <td>0.47</td>\n",
       "      <td>97.0</td>\n",
       "      <td>7.9</td>\n",
       "      <td>m</td>\n",
       "      <td>5.47</td>\n",
       "    </tr>\n",
       "  </tbody>\n",
       "</table>\n",
       "</div>"
      ],
      "text/plain": [
       "                   name platform  year_of_release   genre  na_sales  eu_sales  \\\n",
       "16   grand theft auto v      ps3             2013  action      7.02      9.09   \n",
       "23   grand theft auto v     x360             2013  action      9.66      5.14   \n",
       "42   grand theft auto v      ps4             2014  action      3.96      6.31   \n",
       "149      the last of us      ps3             2013  action      2.41      2.18   \n",
       "165  grand theft auto v     xone             2014  action      2.81      2.19   \n",
       "\n",
       "     jp_sales  other_sales  critic_score  user_score rating  total_sales  \n",
       "16       0.98         3.96          97.0         8.2      m        21.05  \n",
       "23       0.06         1.41          97.0         8.1      m        16.27  \n",
       "42       0.38         1.97          97.0         8.3      m        12.62  \n",
       "149      0.28         0.99          95.0         9.1      m         5.86  \n",
       "165      0.00         0.47          97.0         7.9      m         5.47  "
      ]
     },
     "execution_count": 47,
     "metadata": {},
     "output_type": "execute_result"
    }
   ],
   "source": [
    "action_games = current_period.query('genre == \"action\"')\n",
    "action_games.dropna(subset=['user_score'], inplace=True)\n",
    "action_games.head()"
   ]
  },
  {
   "cell_type": "code",
   "execution_count": 48,
   "id": "9c57d2a9",
   "metadata": {
    "scrolled": false
   },
   "outputs": [
    {
     "data": {
      "text/html": [
       "<div>\n",
       "<style scoped>\n",
       "    .dataframe tbody tr th:only-of-type {\n",
       "        vertical-align: middle;\n",
       "    }\n",
       "\n",
       "    .dataframe tbody tr th {\n",
       "        vertical-align: top;\n",
       "    }\n",
       "\n",
       "    .dataframe thead th {\n",
       "        text-align: right;\n",
       "    }\n",
       "</style>\n",
       "<table border=\"1\" class=\"dataframe\">\n",
       "  <thead>\n",
       "    <tr style=\"text-align: right;\">\n",
       "      <th></th>\n",
       "      <th>name</th>\n",
       "      <th>platform</th>\n",
       "      <th>year_of_release</th>\n",
       "      <th>genre</th>\n",
       "      <th>na_sales</th>\n",
       "      <th>eu_sales</th>\n",
       "      <th>jp_sales</th>\n",
       "      <th>other_sales</th>\n",
       "      <th>critic_score</th>\n",
       "      <th>user_score</th>\n",
       "      <th>rating</th>\n",
       "      <th>total_sales</th>\n",
       "    </tr>\n",
       "  </thead>\n",
       "  <tbody>\n",
       "    <tr>\n",
       "      <td>77</td>\n",
       "      <td>fifa 16</td>\n",
       "      <td>ps4</td>\n",
       "      <td>2015</td>\n",
       "      <td>sports</td>\n",
       "      <td>1.12</td>\n",
       "      <td>6.12</td>\n",
       "      <td>0.06</td>\n",
       "      <td>1.28</td>\n",
       "      <td>82.0</td>\n",
       "      <td>4.3</td>\n",
       "      <td>e</td>\n",
       "      <td>8.58</td>\n",
       "    </tr>\n",
       "    <tr>\n",
       "      <td>94</td>\n",
       "      <td>fifa 17</td>\n",
       "      <td>ps4</td>\n",
       "      <td>2016</td>\n",
       "      <td>sports</td>\n",
       "      <td>0.66</td>\n",
       "      <td>5.75</td>\n",
       "      <td>0.08</td>\n",
       "      <td>1.11</td>\n",
       "      <td>85.0</td>\n",
       "      <td>5.0</td>\n",
       "      <td>e</td>\n",
       "      <td>7.60</td>\n",
       "    </tr>\n",
       "    <tr>\n",
       "      <td>126</td>\n",
       "      <td>fifa 14</td>\n",
       "      <td>ps3</td>\n",
       "      <td>2013</td>\n",
       "      <td>sports</td>\n",
       "      <td>0.78</td>\n",
       "      <td>4.24</td>\n",
       "      <td>0.07</td>\n",
       "      <td>1.37</td>\n",
       "      <td>86.0</td>\n",
       "      <td>4.3</td>\n",
       "      <td>e</td>\n",
       "      <td>6.46</td>\n",
       "    </tr>\n",
       "    <tr>\n",
       "      <td>143</td>\n",
       "      <td>fifa 15</td>\n",
       "      <td>ps4</td>\n",
       "      <td>2014</td>\n",
       "      <td>sports</td>\n",
       "      <td>0.80</td>\n",
       "      <td>4.33</td>\n",
       "      <td>0.05</td>\n",
       "      <td>0.90</td>\n",
       "      <td>82.0</td>\n",
       "      <td>5.7</td>\n",
       "      <td>e</td>\n",
       "      <td>6.08</td>\n",
       "    </tr>\n",
       "    <tr>\n",
       "      <td>264</td>\n",
       "      <td>fifa 15</td>\n",
       "      <td>ps3</td>\n",
       "      <td>2014</td>\n",
       "      <td>sports</td>\n",
       "      <td>0.58</td>\n",
       "      <td>3.02</td>\n",
       "      <td>0.04</td>\n",
       "      <td>0.64</td>\n",
       "      <td>NaN</td>\n",
       "      <td>4.5</td>\n",
       "      <td>e</td>\n",
       "      <td>4.28</td>\n",
       "    </tr>\n",
       "  </tbody>\n",
       "</table>\n",
       "</div>"
      ],
      "text/plain": [
       "        name platform  year_of_release   genre  na_sales  eu_sales  jp_sales  \\\n",
       "77   fifa 16      ps4             2015  sports      1.12      6.12      0.06   \n",
       "94   fifa 17      ps4             2016  sports      0.66      5.75      0.08   \n",
       "126  fifa 14      ps3             2013  sports      0.78      4.24      0.07   \n",
       "143  fifa 15      ps4             2014  sports      0.80      4.33      0.05   \n",
       "264  fifa 15      ps3             2014  sports      0.58      3.02      0.04   \n",
       "\n",
       "     other_sales  critic_score  user_score rating  total_sales  \n",
       "77          1.28          82.0         4.3      e         8.58  \n",
       "94          1.11          85.0         5.0      e         7.60  \n",
       "126         1.37          86.0         4.3      e         6.46  \n",
       "143         0.90          82.0         5.7      e         6.08  \n",
       "264         0.64           NaN         4.5      e         4.28  "
      ]
     },
     "execution_count": 48,
     "metadata": {},
     "output_type": "execute_result"
    }
   ],
   "source": [
    "sports_games = current_period.query('genre == \"sports\"')\n",
    "sports_games.dropna(subset=['user_score'], inplace=True)\n",
    "sports_games.head()"
   ]
  },
  {
   "cell_type": "markdown",
   "id": "fd33bbcd",
   "metadata": {},
   "source": [
    "Возьмём альфа = 0.01 и проверим гипотезы с помощью метода ttest_ind(), т.к. нам надо сравнить данные из двух разных массивов."
   ]
  },
  {
   "cell_type": "code",
   "execution_count": 49,
   "id": "b24557e0",
   "metadata": {},
   "outputs": [
    {
     "name": "stdout",
     "output_type": "stream",
     "text": [
      "p-значение:  1.0517832389140023e-27\n",
      "Отвергаем нулевую гипотезу\n"
     ]
    }
   ],
   "source": [
    "results = st.stats.ttest_ind(action_games['user_score'], sports_games['user_score'], equal_var=True)\n",
    "alpha = 0.01\n",
    "print('p-значение: ', results.pvalue)\n",
    "if results.pvalue < alpha:\n",
    "    print(\"Отвергаем нулевую гипотезу\")\n",
    "else:\n",
    "    print(\"Не получилось отвергнуть нулевую гипотезу\") "
   ]
  },
  {
   "cell_type": "markdown",
   "id": "d23e08b6",
   "metadata": {},
   "source": [
    "Мы отвергаем нулевую гипотезу, получается, средние пользовательские рейтинги игр разных жанров действительно разные."
   ]
  },
  {
   "cell_type": "markdown",
   "id": "418bf32e",
   "metadata": {},
   "source": [
    "## Общий вывод\n",
    "\n"
   ]
  },
  {
   "cell_type": "markdown",
   "id": "6a168c5b",
   "metadata": {},
   "source": [
    "Игровые предпочтения жителей Америки и Европы практически не различаются, а в Японии преобладают абсолютно другие игры, рейтинги и жанры.\n",
    "\n",
    "Больше на продажи влияют отзывы критиков, а отзывы пользователей влияют незначительно, либо не влияют вообще.\n",
    "\n",
    "Больше всего игр выходит в жанре экшн, меньше всего паззлов, рпг и шутеры уступают лидеру двойной объём выпускаемых игр.\n",
    "\n",
    "Платформа с самой большой выручкой и самым большим выпуском игр - ps4. За ней идут xbox one и wiiu. \n",
    "\n",
    "Проверка гипотез показала, что средний рейтинг игры не зависит от такого на какой платформе она вышла, а вот от жанра оценка зависит сильно. Думаю, это связано с тем, что экшн игр выпускают очень много, и создатели не всегда задумываются о качестве игры. В итоге получается, что в куче игр достаточно много игр с плохими отзывами. Отсюда и результат. "
   ]
  }
 ],
 "metadata": {
  "ExecuteTimeLog": [
   {
    "duration": 1385,
    "start_time": "2022-01-27T12:39:50.175Z"
   },
   {
    "duration": 2054,
    "start_time": "2022-01-27T12:39:51.562Z"
   },
   {
    "duration": -726,
    "start_time": "2022-01-27T12:39:54.347Z"
   },
   {
    "duration": -726,
    "start_time": "2022-01-27T12:39:54.349Z"
   },
   {
    "duration": -728,
    "start_time": "2022-01-27T12:39:54.352Z"
   },
   {
    "duration": -729,
    "start_time": "2022-01-27T12:39:54.355Z"
   },
   {
    "duration": -731,
    "start_time": "2022-01-27T12:39:54.358Z"
   },
   {
    "duration": -732,
    "start_time": "2022-01-27T12:39:54.360Z"
   },
   {
    "duration": -734,
    "start_time": "2022-01-27T12:39:54.363Z"
   },
   {
    "duration": -736,
    "start_time": "2022-01-27T12:39:54.366Z"
   },
   {
    "duration": -737,
    "start_time": "2022-01-27T12:39:54.368Z"
   },
   {
    "duration": -739,
    "start_time": "2022-01-27T12:39:54.371Z"
   },
   {
    "duration": -741,
    "start_time": "2022-01-27T12:39:54.374Z"
   },
   {
    "duration": -742,
    "start_time": "2022-01-27T12:39:54.376Z"
   },
   {
    "duration": -744,
    "start_time": "2022-01-27T12:39:54.380Z"
   },
   {
    "duration": -750,
    "start_time": "2022-01-27T12:39:54.387Z"
   },
   {
    "duration": -752,
    "start_time": "2022-01-27T12:39:54.390Z"
   },
   {
    "duration": -753,
    "start_time": "2022-01-27T12:39:54.392Z"
   },
   {
    "duration": -754,
    "start_time": "2022-01-27T12:39:54.395Z"
   },
   {
    "duration": -756,
    "start_time": "2022-01-27T12:39:54.398Z"
   },
   {
    "duration": -758,
    "start_time": "2022-01-27T12:39:54.401Z"
   },
   {
    "duration": -759,
    "start_time": "2022-01-27T12:39:54.404Z"
   },
   {
    "duration": -761,
    "start_time": "2022-01-27T12:39:54.407Z"
   },
   {
    "duration": -762,
    "start_time": "2022-01-27T12:39:54.409Z"
   },
   {
    "duration": -764,
    "start_time": "2022-01-27T12:39:54.412Z"
   },
   {
    "duration": -765,
    "start_time": "2022-01-27T12:39:54.414Z"
   },
   {
    "duration": -768,
    "start_time": "2022-01-27T12:39:54.418Z"
   },
   {
    "duration": -775,
    "start_time": "2022-01-27T12:39:54.426Z"
   },
   {
    "duration": -776,
    "start_time": "2022-01-27T12:39:54.429Z"
   },
   {
    "duration": -777,
    "start_time": "2022-01-27T12:39:54.431Z"
   },
   {
    "duration": -779,
    "start_time": "2022-01-27T12:39:54.434Z"
   },
   {
    "duration": -781,
    "start_time": "2022-01-27T12:39:54.437Z"
   },
   {
    "duration": -782,
    "start_time": "2022-01-27T12:39:54.439Z"
   },
   {
    "duration": -784,
    "start_time": "2022-01-27T12:39:54.442Z"
   },
   {
    "duration": -738,
    "start_time": "2022-01-27T12:39:54.445Z"
   },
   {
    "duration": -739,
    "start_time": "2022-01-27T12:39:54.447Z"
   },
   {
    "duration": -741,
    "start_time": "2022-01-27T12:39:54.450Z"
   },
   {
    "duration": -743,
    "start_time": "2022-01-27T12:39:54.453Z"
   },
   {
    "duration": -745,
    "start_time": "2022-01-27T12:39:54.456Z"
   },
   {
    "duration": -746,
    "start_time": "2022-01-27T12:39:54.458Z"
   },
   {
    "duration": -748,
    "start_time": "2022-01-27T12:39:54.461Z"
   },
   {
    "duration": -749,
    "start_time": "2022-01-27T12:39:54.463Z"
   },
   {
    "duration": -751,
    "start_time": "2022-01-27T12:39:54.466Z"
   },
   {
    "duration": -753,
    "start_time": "2022-01-27T12:39:54.469Z"
   },
   {
    "duration": -754,
    "start_time": "2022-01-27T12:39:54.471Z"
   },
   {
    "duration": -755,
    "start_time": "2022-01-27T12:39:54.473Z"
   },
   {
    "duration": 1138,
    "start_time": "2022-01-27T12:40:13.553Z"
   },
   {
    "duration": 57,
    "start_time": "2022-01-27T12:40:14.694Z"
   },
   {
    "duration": 12,
    "start_time": "2022-01-27T12:40:14.755Z"
   },
   {
    "duration": 31,
    "start_time": "2022-01-27T12:40:14.769Z"
   },
   {
    "duration": 17,
    "start_time": "2022-01-27T12:40:14.802Z"
   },
   {
    "duration": 33,
    "start_time": "2022-01-27T12:40:14.821Z"
   },
   {
    "duration": 66,
    "start_time": "2022-01-27T12:40:14.857Z"
   },
   {
    "duration": 21,
    "start_time": "2022-01-27T12:40:14.925Z"
   },
   {
    "duration": 11,
    "start_time": "2022-01-27T12:40:14.948Z"
   },
   {
    "duration": 25,
    "start_time": "2022-01-27T12:40:14.961Z"
   },
   {
    "duration": 29,
    "start_time": "2022-01-27T12:40:14.988Z"
   },
   {
    "duration": 33,
    "start_time": "2022-01-27T12:40:15.020Z"
   },
   {
    "duration": 28,
    "start_time": "2022-01-27T12:40:15.055Z"
   },
   {
    "duration": 21,
    "start_time": "2022-01-27T12:40:15.085Z"
   },
   {
    "duration": 27,
    "start_time": "2022-01-27T12:40:15.108Z"
   },
   {
    "duration": 25,
    "start_time": "2022-01-27T12:40:15.137Z"
   },
   {
    "duration": 25,
    "start_time": "2022-01-27T12:40:15.164Z"
   },
   {
    "duration": 23,
    "start_time": "2022-01-27T12:40:15.191Z"
   },
   {
    "duration": 31,
    "start_time": "2022-01-27T12:40:15.217Z"
   },
   {
    "duration": 15,
    "start_time": "2022-01-27T12:40:15.250Z"
   },
   {
    "duration": 32,
    "start_time": "2022-01-27T12:40:15.267Z"
   },
   {
    "duration": 16,
    "start_time": "2022-01-27T12:40:15.302Z"
   },
   {
    "duration": 19,
    "start_time": "2022-01-27T12:40:15.320Z"
   },
   {
    "duration": 216,
    "start_time": "2022-01-27T12:40:15.342Z"
   },
   {
    "duration": 15,
    "start_time": "2022-01-27T12:40:15.560Z"
   },
   {
    "duration": 371,
    "start_time": "2022-01-27T12:40:15.577Z"
   },
   {
    "duration": 19,
    "start_time": "2022-01-27T12:40:15.951Z"
   },
   {
    "duration": 435,
    "start_time": "2022-01-27T12:40:15.972Z"
   },
   {
    "duration": 19,
    "start_time": "2022-01-27T12:40:16.409Z"
   },
   {
    "duration": 29,
    "start_time": "2022-01-27T12:40:16.430Z"
   },
   {
    "duration": 478,
    "start_time": "2022-01-27T12:40:16.462Z"
   },
   {
    "duration": 538,
    "start_time": "2022-01-27T12:40:16.943Z"
   },
   {
    "duration": 10,
    "start_time": "2022-01-27T12:40:17.482Z"
   },
   {
    "duration": 2915,
    "start_time": "2022-01-27T12:40:17.508Z"
   },
   {
    "duration": 14,
    "start_time": "2022-01-27T12:40:20.425Z"
   },
   {
    "duration": 124,
    "start_time": "2022-01-27T12:40:20.441Z"
   },
   {
    "duration": 5,
    "start_time": "2022-01-27T12:40:20.566Z"
   },
   {
    "duration": 521,
    "start_time": "2022-01-27T12:40:20.573Z"
   },
   {
    "duration": 532,
    "start_time": "2022-01-27T12:40:21.096Z"
   },
   {
    "duration": 617,
    "start_time": "2022-01-27T12:40:21.630Z"
   },
   {
    "duration": 20,
    "start_time": "2022-01-27T12:40:22.249Z"
   },
   {
    "duration": 40,
    "start_time": "2022-01-27T12:40:22.271Z"
   },
   {
    "duration": 18,
    "start_time": "2022-01-27T12:40:22.313Z"
   },
   {
    "duration": 28,
    "start_time": "2022-01-27T12:40:22.333Z"
   },
   {
    "duration": 24,
    "start_time": "2022-01-27T12:40:22.363Z"
   },
   {
    "duration": 5,
    "start_time": "2022-01-27T12:40:22.389Z"
   },
   {
    "duration": 8,
    "start_time": "2022-01-27T12:50:27.022Z"
   },
   {
    "duration": 1610,
    "start_time": "2022-01-29T10:11:20.714Z"
   },
   {
    "duration": 78,
    "start_time": "2022-01-29T10:11:22.327Z"
   },
   {
    "duration": 16,
    "start_time": "2022-01-29T10:11:22.409Z"
   },
   {
    "duration": 28,
    "start_time": "2022-01-29T10:11:22.430Z"
   },
   {
    "duration": 8,
    "start_time": "2022-01-29T10:11:22.460Z"
   },
   {
    "duration": 19,
    "start_time": "2022-01-29T10:11:22.470Z"
   },
   {
    "duration": 80,
    "start_time": "2022-01-29T10:11:22.492Z"
   },
   {
    "duration": 27,
    "start_time": "2022-01-29T10:11:22.576Z"
   },
   {
    "duration": 27,
    "start_time": "2022-01-29T10:11:22.606Z"
   },
   {
    "duration": 41,
    "start_time": "2022-01-29T10:11:22.636Z"
   },
   {
    "duration": 11,
    "start_time": "2022-01-29T10:11:22.679Z"
   },
   {
    "duration": 41,
    "start_time": "2022-01-29T10:11:22.693Z"
   },
   {
    "duration": 20,
    "start_time": "2022-01-29T10:11:22.737Z"
   },
   {
    "duration": 10,
    "start_time": "2022-01-29T10:11:22.759Z"
   },
   {
    "duration": 23,
    "start_time": "2022-01-29T10:11:22.771Z"
   },
   {
    "duration": 34,
    "start_time": "2022-01-29T10:11:22.796Z"
   },
   {
    "duration": 16,
    "start_time": "2022-01-29T10:11:22.833Z"
   },
   {
    "duration": 18,
    "start_time": "2022-01-29T10:11:22.852Z"
   },
   {
    "duration": 35,
    "start_time": "2022-01-29T10:11:22.873Z"
   },
   {
    "duration": 23,
    "start_time": "2022-01-29T10:11:22.910Z"
   },
   {
    "duration": 28,
    "start_time": "2022-01-29T10:11:22.936Z"
   },
   {
    "duration": 30,
    "start_time": "2022-01-29T10:11:41.439Z"
   },
   {
    "duration": 29,
    "start_time": "2022-01-29T10:13:11.720Z"
   },
   {
    "duration": 640,
    "start_time": "2022-01-29T10:18:23.080Z"
   },
   {
    "duration": 28,
    "start_time": "2022-01-29T10:18:25.725Z"
   },
   {
    "duration": 37,
    "start_time": "2022-01-29T10:18:27.534Z"
   },
   {
    "duration": 693,
    "start_time": "2022-01-29T10:18:31.420Z"
   },
   {
    "duration": 721,
    "start_time": "2022-01-29T10:18:34.339Z"
   },
   {
    "duration": 13,
    "start_time": "2022-01-29T10:18:47.800Z"
   },
   {
    "duration": 4080,
    "start_time": "2022-01-29T10:18:51.612Z"
   },
   {
    "duration": 23,
    "start_time": "2022-01-29T10:18:56.039Z"
   },
   {
    "duration": 163,
    "start_time": "2022-01-29T10:18:57.248Z"
   },
   {
    "duration": 441,
    "start_time": "2022-01-29T10:19:58.355Z"
   },
   {
    "duration": 326,
    "start_time": "2022-01-29T10:20:08.146Z"
   },
   {
    "duration": 178,
    "start_time": "2022-01-29T10:20:21.297Z"
   },
   {
    "duration": 20,
    "start_time": "2022-01-29T10:20:36.076Z"
   },
   {
    "duration": 217,
    "start_time": "2022-01-29T10:20:43.116Z"
   },
   {
    "duration": 23,
    "start_time": "2022-01-29T10:22:32.856Z"
   },
   {
    "duration": 237,
    "start_time": "2022-01-29T10:22:34.023Z"
   },
   {
    "duration": 324,
    "start_time": "2022-01-29T10:22:50.960Z"
   },
   {
    "duration": 334,
    "start_time": "2022-01-29T10:23:06.376Z"
   },
   {
    "duration": 20,
    "start_time": "2022-01-29T10:23:28.644Z"
   },
   {
    "duration": 161,
    "start_time": "2022-01-29T10:23:30.755Z"
   },
   {
    "duration": 334,
    "start_time": "2022-02-02T08:11:12.263Z"
   },
   {
    "duration": 1272,
    "start_time": "2022-02-02T08:12:01.539Z"
   },
   {
    "duration": 61,
    "start_time": "2022-02-02T08:12:02.813Z"
   },
   {
    "duration": 11,
    "start_time": "2022-02-02T08:12:02.877Z"
   },
   {
    "duration": 7,
    "start_time": "2022-02-02T08:12:02.890Z"
   },
   {
    "duration": 23,
    "start_time": "2022-02-02T08:12:02.899Z"
   },
   {
    "duration": 16,
    "start_time": "2022-02-02T08:12:02.924Z"
   },
   {
    "duration": 77,
    "start_time": "2022-02-02T08:12:02.943Z"
   },
   {
    "duration": 33,
    "start_time": "2022-02-02T08:12:03.025Z"
   },
   {
    "duration": 18,
    "start_time": "2022-02-02T08:12:03.061Z"
   },
   {
    "duration": 43,
    "start_time": "2022-02-02T08:12:03.081Z"
   },
   {
    "duration": 17,
    "start_time": "2022-02-02T08:12:03.127Z"
   },
   {
    "duration": 15,
    "start_time": "2022-02-02T08:12:03.147Z"
   },
   {
    "duration": 25,
    "start_time": "2022-02-02T08:12:03.164Z"
   },
   {
    "duration": 13,
    "start_time": "2022-02-02T08:12:03.191Z"
   },
   {
    "duration": 26,
    "start_time": "2022-02-02T08:12:03.206Z"
   },
   {
    "duration": 21,
    "start_time": "2022-02-02T08:12:03.235Z"
   },
   {
    "duration": 13,
    "start_time": "2022-02-02T08:12:03.258Z"
   },
   {
    "duration": 15,
    "start_time": "2022-02-02T08:12:03.272Z"
   },
   {
    "duration": 37,
    "start_time": "2022-02-02T08:12:03.289Z"
   },
   {
    "duration": 9,
    "start_time": "2022-02-02T08:12:03.329Z"
   },
   {
    "duration": 31,
    "start_time": "2022-02-02T08:12:03.340Z"
   },
   {
    "duration": 21,
    "start_time": "2022-02-02T08:12:03.373Z"
   },
   {
    "duration": 13,
    "start_time": "2022-02-02T08:12:03.420Z"
   },
   {
    "duration": 244,
    "start_time": "2022-02-02T08:12:03.437Z"
   },
   {
    "duration": 17,
    "start_time": "2022-02-02T08:12:03.683Z"
   },
   {
    "duration": 388,
    "start_time": "2022-02-02T08:12:03.701Z"
   },
   {
    "duration": 28,
    "start_time": "2022-02-02T08:12:04.091Z"
   },
   {
    "duration": 494,
    "start_time": "2022-02-02T08:12:04.121Z"
   },
   {
    "duration": 22,
    "start_time": "2022-02-02T08:12:04.618Z"
   },
   {
    "duration": 30,
    "start_time": "2022-02-02T08:12:04.643Z"
   },
   {
    "duration": 507,
    "start_time": "2022-02-02T08:12:04.675Z"
   },
   {
    "duration": 572,
    "start_time": "2022-02-02T08:12:05.184Z"
   },
   {
    "duration": 9,
    "start_time": "2022-02-02T08:12:05.759Z"
   },
   {
    "duration": 3392,
    "start_time": "2022-02-02T08:12:05.770Z"
   },
   {
    "duration": 17,
    "start_time": "2022-02-02T08:12:09.164Z"
   },
   {
    "duration": 190,
    "start_time": "2022-02-02T08:12:09.183Z"
   },
   {
    "duration": 6,
    "start_time": "2022-02-02T08:12:09.375Z"
   },
   {
    "duration": 631,
    "start_time": "2022-02-02T08:12:09.383Z"
   },
   {
    "duration": 590,
    "start_time": "2022-02-02T08:12:10.016Z"
   },
   {
    "duration": 736,
    "start_time": "2022-02-02T08:12:19.037Z"
   },
   {
    "duration": 26,
    "start_time": "2022-02-02T08:13:01.027Z"
   },
   {
    "duration": 19,
    "start_time": "2022-02-02T08:13:04.098Z"
   },
   {
    "duration": 25,
    "start_time": "2022-02-02T08:13:19.214Z"
   },
   {
    "duration": 6,
    "start_time": "2022-02-02T08:13:21.000Z"
   },
   {
    "duration": 1287,
    "start_time": "2022-02-02T08:13:39.846Z"
   },
   {
    "duration": 55,
    "start_time": "2022-02-02T08:13:41.135Z"
   },
   {
    "duration": 10,
    "start_time": "2022-02-02T08:13:41.192Z"
   },
   {
    "duration": 17,
    "start_time": "2022-02-02T08:13:41.204Z"
   },
   {
    "duration": 15,
    "start_time": "2022-02-02T08:13:41.223Z"
   },
   {
    "duration": 23,
    "start_time": "2022-02-02T08:13:41.240Z"
   },
   {
    "duration": 66,
    "start_time": "2022-02-02T08:13:41.265Z"
   },
   {
    "duration": 22,
    "start_time": "2022-02-02T08:13:41.335Z"
   },
   {
    "duration": 8,
    "start_time": "2022-02-02T08:13:41.359Z"
   },
   {
    "duration": 16,
    "start_time": "2022-02-02T08:13:41.369Z"
   },
   {
    "duration": 37,
    "start_time": "2022-02-02T08:13:41.387Z"
   },
   {
    "duration": 13,
    "start_time": "2022-02-02T08:13:41.426Z"
   },
   {
    "duration": 17,
    "start_time": "2022-02-02T08:13:41.441Z"
   },
   {
    "duration": 8,
    "start_time": "2022-02-02T08:13:41.460Z"
   },
   {
    "duration": 12,
    "start_time": "2022-02-02T08:13:41.470Z"
   },
   {
    "duration": 36,
    "start_time": "2022-02-02T08:13:41.484Z"
   },
   {
    "duration": 10,
    "start_time": "2022-02-02T08:13:41.523Z"
   },
   {
    "duration": 16,
    "start_time": "2022-02-02T08:13:41.535Z"
   },
   {
    "duration": 17,
    "start_time": "2022-02-02T08:13:41.553Z"
   },
   {
    "duration": 8,
    "start_time": "2022-02-02T08:13:41.572Z"
   },
   {
    "duration": 46,
    "start_time": "2022-02-02T08:13:41.582Z"
   },
   {
    "duration": 20,
    "start_time": "2022-02-02T08:13:41.630Z"
   },
   {
    "duration": 8,
    "start_time": "2022-02-02T08:13:41.654Z"
   },
   {
    "duration": 254,
    "start_time": "2022-02-02T08:13:41.664Z"
   },
   {
    "duration": 20,
    "start_time": "2022-02-02T08:13:41.920Z"
   },
   {
    "duration": 338,
    "start_time": "2022-02-02T08:13:41.943Z"
   },
   {
    "duration": 15,
    "start_time": "2022-02-02T08:13:42.283Z"
   },
   {
    "duration": 430,
    "start_time": "2022-02-02T08:13:42.300Z"
   },
   {
    "duration": 21,
    "start_time": "2022-02-02T08:13:42.733Z"
   },
   {
    "duration": 24,
    "start_time": "2022-02-02T08:13:42.756Z"
   },
   {
    "duration": 592,
    "start_time": "2022-02-02T08:13:42.782Z"
   },
   {
    "duration": 513,
    "start_time": "2022-02-02T08:13:43.376Z"
   },
   {
    "duration": 8,
    "start_time": "2022-02-02T08:13:43.891Z"
   },
   {
    "duration": 3178,
    "start_time": "2022-02-02T08:13:43.901Z"
   },
   {
    "duration": 16,
    "start_time": "2022-02-02T08:13:47.081Z"
   },
   {
    "duration": 173,
    "start_time": "2022-02-02T08:13:47.099Z"
   },
   {
    "duration": 6,
    "start_time": "2022-02-02T08:13:47.275Z"
   },
   {
    "duration": 523,
    "start_time": "2022-02-02T08:13:47.283Z"
   },
   {
    "duration": 558,
    "start_time": "2022-02-02T08:13:47.808Z"
   },
   {
    "duration": 643,
    "start_time": "2022-02-02T08:13:48.368Z"
   },
   {
    "duration": 24,
    "start_time": "2022-02-02T08:13:49.013Z"
   },
   {
    "duration": 23,
    "start_time": "2022-02-02T08:13:49.039Z"
   },
   {
    "duration": 6,
    "start_time": "2022-02-02T08:13:49.063Z"
   },
   {
    "duration": 51,
    "start_time": "2022-02-02T08:13:49.071Z"
   },
   {
    "duration": 25,
    "start_time": "2022-02-02T08:13:49.124Z"
   },
   {
    "duration": 5,
    "start_time": "2022-02-02T08:13:49.151Z"
   },
   {
    "duration": 9,
    "start_time": "2022-02-02T08:22:06.476Z"
   },
   {
    "duration": 7,
    "start_time": "2022-02-02T08:22:07.352Z"
   },
   {
    "duration": 1056,
    "start_time": "2022-02-02T08:22:11.437Z"
   },
   {
    "duration": 4,
    "start_time": "2022-02-02T08:26:55.545Z"
   },
   {
    "duration": 58,
    "start_time": "2022-02-02T08:26:55.552Z"
   },
   {
    "duration": 13,
    "start_time": "2022-02-02T08:26:55.612Z"
   },
   {
    "duration": 13,
    "start_time": "2022-02-02T08:26:55.628Z"
   },
   {
    "duration": 29,
    "start_time": "2022-02-02T08:26:55.643Z"
   },
   {
    "duration": 27,
    "start_time": "2022-02-02T08:26:55.673Z"
   },
   {
    "duration": 54,
    "start_time": "2022-02-02T08:26:55.702Z"
   },
   {
    "duration": 21,
    "start_time": "2022-02-02T08:26:55.758Z"
   },
   {
    "duration": 10,
    "start_time": "2022-02-02T08:26:55.781Z"
   },
   {
    "duration": 36,
    "start_time": "2022-02-02T08:26:55.793Z"
   },
   {
    "duration": 15,
    "start_time": "2022-02-02T08:26:55.831Z"
   },
   {
    "duration": 13,
    "start_time": "2022-02-02T08:26:55.849Z"
   },
   {
    "duration": 20,
    "start_time": "2022-02-02T08:26:55.864Z"
   },
   {
    "duration": 35,
    "start_time": "2022-02-02T08:26:55.886Z"
   },
   {
    "duration": 26,
    "start_time": "2022-02-02T08:26:55.923Z"
   },
   {
    "duration": 25,
    "start_time": "2022-02-02T08:26:55.951Z"
   },
   {
    "duration": 14,
    "start_time": "2022-02-02T08:26:55.978Z"
   },
   {
    "duration": 23,
    "start_time": "2022-02-02T08:26:55.993Z"
   },
   {
    "duration": 41,
    "start_time": "2022-02-02T08:26:56.019Z"
   },
   {
    "duration": 13,
    "start_time": "2022-02-02T08:26:56.063Z"
   },
   {
    "duration": 26,
    "start_time": "2022-02-02T08:26:56.078Z"
   },
   {
    "duration": 21,
    "start_time": "2022-02-02T08:26:56.106Z"
   },
   {
    "duration": 12,
    "start_time": "2022-02-02T08:26:56.129Z"
   },
   {
    "duration": 220,
    "start_time": "2022-02-02T08:26:56.145Z"
   },
   {
    "duration": 17,
    "start_time": "2022-02-02T08:26:56.368Z"
   },
   {
    "duration": 351,
    "start_time": "2022-02-02T08:26:56.387Z"
   },
   {
    "duration": 17,
    "start_time": "2022-02-02T08:26:56.741Z"
   },
   {
    "duration": 431,
    "start_time": "2022-02-02T08:26:56.759Z"
   },
   {
    "duration": 32,
    "start_time": "2022-02-02T08:26:57.192Z"
   },
   {
    "duration": 31,
    "start_time": "2022-02-02T08:26:57.226Z"
   },
   {
    "duration": 485,
    "start_time": "2022-02-02T08:26:57.259Z"
   },
   {
    "duration": 505,
    "start_time": "2022-02-02T08:26:57.746Z"
   },
   {
    "duration": 10,
    "start_time": "2022-02-02T08:26:58.253Z"
   },
   {
    "duration": 3162,
    "start_time": "2022-02-02T08:26:58.265Z"
   },
   {
    "duration": 20,
    "start_time": "2022-02-02T08:27:01.429Z"
   },
   {
    "duration": 173,
    "start_time": "2022-02-02T08:27:01.450Z"
   },
   {
    "duration": 7,
    "start_time": "2022-02-02T08:27:04.279Z"
   },
   {
    "duration": 5,
    "start_time": "2022-02-02T08:27:04.667Z"
   },
   {
    "duration": 590,
    "start_time": "2022-02-02T08:27:06.198Z"
   },
   {
    "duration": 13,
    "start_time": "2022-02-02T08:27:28.334Z"
   },
   {
    "duration": 5,
    "start_time": "2022-02-02T08:27:30.213Z"
   },
   {
    "duration": 612,
    "start_time": "2022-02-02T08:27:33.594Z"
   },
   {
    "duration": 552,
    "start_time": "2022-02-02T08:27:42.963Z"
   },
   {
    "duration": 688,
    "start_time": "2022-02-02T08:27:48.394Z"
   },
   {
    "duration": 8,
    "start_time": "2022-02-02T08:28:42.248Z"
   },
   {
    "duration": 6,
    "start_time": "2022-02-02T08:28:43.049Z"
   },
   {
    "duration": 589,
    "start_time": "2022-02-02T08:28:43.829Z"
   },
   {
    "duration": 502,
    "start_time": "2022-02-02T08:28:48.026Z"
   },
   {
    "duration": 574,
    "start_time": "2022-02-02T08:28:50.408Z"
   },
   {
    "duration": 7,
    "start_time": "2022-02-02T09:19:51.878Z"
   },
   {
    "duration": 5,
    "start_time": "2022-02-02T09:19:52.667Z"
   },
   {
    "duration": 943,
    "start_time": "2022-02-02T09:19:53.294Z"
   },
   {
    "duration": 993,
    "start_time": "2022-02-02T09:19:54.310Z"
   },
   {
    "duration": 66,
    "start_time": "2022-02-02T09:19:55.239Z"
   },
   {
    "duration": 19,
    "start_time": "2022-02-02T09:19:57.266Z"
   },
   {
    "duration": 17,
    "start_time": "2022-02-02T09:19:57.471Z"
   },
   {
    "duration": 7,
    "start_time": "2022-02-02T09:19:57.894Z"
   },
   {
    "duration": 4,
    "start_time": "2022-02-02T09:23:22.070Z"
   },
   {
    "duration": 5,
    "start_time": "2022-02-02T09:23:23.276Z"
   },
   {
    "duration": 1114,
    "start_time": "2022-02-02T09:23:24.145Z"
   },
   {
    "duration": 6,
    "start_time": "2022-02-02T09:23:32.616Z"
   },
   {
    "duration": 1531,
    "start_time": "2022-02-02T09:23:45.325Z"
   },
   {
    "duration": 53,
    "start_time": "2022-02-02T09:23:46.858Z"
   },
   {
    "duration": 17,
    "start_time": "2022-02-02T09:23:46.914Z"
   },
   {
    "duration": 10,
    "start_time": "2022-02-02T09:23:46.933Z"
   },
   {
    "duration": 8,
    "start_time": "2022-02-02T09:23:46.944Z"
   },
   {
    "duration": 16,
    "start_time": "2022-02-02T09:23:46.954Z"
   },
   {
    "duration": 65,
    "start_time": "2022-02-02T09:23:46.972Z"
   },
   {
    "duration": 20,
    "start_time": "2022-02-02T09:23:47.040Z"
   },
   {
    "duration": 9,
    "start_time": "2022-02-02T09:23:47.062Z"
   },
   {
    "duration": 24,
    "start_time": "2022-02-02T09:23:47.073Z"
   },
   {
    "duration": 30,
    "start_time": "2022-02-02T09:23:47.100Z"
   },
   {
    "duration": 17,
    "start_time": "2022-02-02T09:23:47.132Z"
   },
   {
    "duration": 15,
    "start_time": "2022-02-02T09:23:47.152Z"
   },
   {
    "duration": 10,
    "start_time": "2022-02-02T09:23:47.169Z"
   },
   {
    "duration": 37,
    "start_time": "2022-02-02T09:23:47.181Z"
   },
   {
    "duration": 13,
    "start_time": "2022-02-02T09:23:47.220Z"
   },
   {
    "duration": 13,
    "start_time": "2022-02-02T09:23:47.234Z"
   },
   {
    "duration": 10,
    "start_time": "2022-02-02T09:23:47.249Z"
   },
   {
    "duration": 16,
    "start_time": "2022-02-02T09:23:47.261Z"
   },
   {
    "duration": 6,
    "start_time": "2022-02-02T09:23:47.279Z"
   },
   {
    "duration": 42,
    "start_time": "2022-02-02T09:23:47.287Z"
   },
   {
    "duration": 17,
    "start_time": "2022-02-02T09:23:47.331Z"
   },
   {
    "duration": 11,
    "start_time": "2022-02-02T09:23:47.351Z"
   },
   {
    "duration": 274,
    "start_time": "2022-02-02T09:23:47.364Z"
   },
   {
    "duration": 24,
    "start_time": "2022-02-02T09:23:47.640Z"
   },
   {
    "duration": 410,
    "start_time": "2022-02-02T09:23:47.666Z"
   },
   {
    "duration": 16,
    "start_time": "2022-02-02T09:23:48.078Z"
   },
   {
    "duration": 458,
    "start_time": "2022-02-02T09:23:48.096Z"
   },
   {
    "duration": 18,
    "start_time": "2022-02-02T09:23:48.557Z"
   },
   {
    "duration": 54,
    "start_time": "2022-02-02T09:23:48.577Z"
   },
   {
    "duration": 519,
    "start_time": "2022-02-02T09:23:48.633Z"
   },
   {
    "duration": 533,
    "start_time": "2022-02-02T09:23:49.155Z"
   },
   {
    "duration": 9,
    "start_time": "2022-02-02T09:23:49.690Z"
   },
   {
    "duration": 3719,
    "start_time": "2022-02-02T09:23:49.701Z"
   },
   {
    "duration": 26,
    "start_time": "2022-02-02T09:23:53.422Z"
   },
   {
    "duration": 188,
    "start_time": "2022-02-02T09:23:53.453Z"
   },
   {
    "duration": 8,
    "start_time": "2022-02-02T09:24:24.233Z"
   },
   {
    "duration": 1442,
    "start_time": "2022-02-02T09:24:55.871Z"
   },
   {
    "duration": 70,
    "start_time": "2022-02-02T09:24:57.315Z"
   },
   {
    "duration": 14,
    "start_time": "2022-02-02T09:24:57.769Z"
   },
   {
    "duration": 5,
    "start_time": "2022-02-02T09:25:05.947Z"
   },
   {
    "duration": 6,
    "start_time": "2022-02-02T09:25:06.562Z"
   },
   {
    "duration": 15,
    "start_time": "2022-02-02T09:25:08.299Z"
   },
   {
    "duration": 46,
    "start_time": "2022-02-02T09:25:10.066Z"
   },
   {
    "duration": 23,
    "start_time": "2022-02-02T09:25:10.602Z"
   },
   {
    "duration": 10,
    "start_time": "2022-02-02T09:25:12.387Z"
   },
   {
    "duration": 23,
    "start_time": "2022-02-02T09:25:20.304Z"
   },
   {
    "duration": 14,
    "start_time": "2022-02-02T09:25:21.351Z"
   },
   {
    "duration": 14,
    "start_time": "2022-02-02T09:25:23.117Z"
   },
   {
    "duration": 13,
    "start_time": "2022-02-02T09:25:24.650Z"
   },
   {
    "duration": 9,
    "start_time": "2022-02-02T09:25:31.157Z"
   },
   {
    "duration": 10,
    "start_time": "2022-02-02T09:25:33.271Z"
   },
   {
    "duration": 8,
    "start_time": "2022-02-02T09:25:37.126Z"
   },
   {
    "duration": 9,
    "start_time": "2022-02-02T09:25:37.640Z"
   },
   {
    "duration": 9,
    "start_time": "2022-02-02T09:25:39.077Z"
   },
   {
    "duration": 27,
    "start_time": "2022-02-02T09:25:40.763Z"
   },
   {
    "duration": 9,
    "start_time": "2022-02-02T09:25:43.044Z"
   },
   {
    "duration": 19,
    "start_time": "2022-02-02T09:25:49.421Z"
   },
   {
    "duration": 6,
    "start_time": "2022-02-02T09:26:13.792Z"
   },
   {
    "duration": 9,
    "start_time": "2022-02-02T09:26:58.428Z"
   },
   {
    "duration": 4408,
    "start_time": "2022-02-02T09:27:07.275Z"
   },
   {
    "duration": 3838,
    "start_time": "2022-02-02T09:27:26.101Z"
   },
   {
    "duration": 315,
    "start_time": "2022-02-02T09:27:41.203Z"
   },
   {
    "duration": 1322,
    "start_time": "2022-02-02T09:28:05.883Z"
   },
   {
    "duration": 84,
    "start_time": "2022-02-02T09:28:07.207Z"
   },
   {
    "duration": 11,
    "start_time": "2022-02-02T09:28:07.293Z"
   },
   {
    "duration": 17,
    "start_time": "2022-02-02T09:28:07.306Z"
   },
   {
    "duration": 18,
    "start_time": "2022-02-02T09:28:07.325Z"
   },
   {
    "duration": 15,
    "start_time": "2022-02-02T09:28:07.345Z"
   },
   {
    "duration": 36,
    "start_time": "2022-02-02T09:28:07.362Z"
   },
   {
    "duration": 36,
    "start_time": "2022-02-02T09:28:07.401Z"
   },
   {
    "duration": 9,
    "start_time": "2022-02-02T09:28:07.439Z"
   },
   {
    "duration": 17,
    "start_time": "2022-02-02T09:28:07.451Z"
   },
   {
    "duration": 12,
    "start_time": "2022-02-02T09:28:07.471Z"
   },
   {
    "duration": 56,
    "start_time": "2022-02-02T09:28:07.485Z"
   },
   {
    "duration": 14,
    "start_time": "2022-02-02T09:28:07.543Z"
   },
   {
    "duration": 37,
    "start_time": "2022-02-02T09:28:07.559Z"
   },
   {
    "duration": 13,
    "start_time": "2022-02-02T09:28:07.598Z"
   },
   {
    "duration": 11,
    "start_time": "2022-02-02T09:28:07.613Z"
   },
   {
    "duration": 12,
    "start_time": "2022-02-02T09:28:07.634Z"
   },
   {
    "duration": 13,
    "start_time": "2022-02-02T09:28:07.648Z"
   },
   {
    "duration": 18,
    "start_time": "2022-02-02T09:28:07.663Z"
   },
   {
    "duration": 7,
    "start_time": "2022-02-02T09:28:07.683Z"
   },
   {
    "duration": 32,
    "start_time": "2022-02-02T09:28:07.692Z"
   },
   {
    "duration": 7,
    "start_time": "2022-02-02T09:28:07.726Z"
   },
   {
    "duration": 11,
    "start_time": "2022-02-02T09:28:07.738Z"
   },
   {
    "duration": 7,
    "start_time": "2022-02-02T09:28:43.737Z"
   },
   {
    "duration": 6,
    "start_time": "2022-02-02T09:28:46.341Z"
   },
   {
    "duration": 1150,
    "start_time": "2022-02-02T09:29:38.958Z"
   },
   {
    "duration": 69,
    "start_time": "2022-02-02T09:29:40.110Z"
   },
   {
    "duration": 12,
    "start_time": "2022-02-02T09:29:40.181Z"
   },
   {
    "duration": 4,
    "start_time": "2022-02-02T09:29:40.196Z"
   },
   {
    "duration": 27,
    "start_time": "2022-02-02T09:29:40.202Z"
   },
   {
    "duration": 21,
    "start_time": "2022-02-02T09:29:40.230Z"
   },
   {
    "duration": 39,
    "start_time": "2022-02-02T09:29:40.253Z"
   },
   {
    "duration": 39,
    "start_time": "2022-02-02T09:29:40.295Z"
   },
   {
    "duration": 12,
    "start_time": "2022-02-02T09:29:40.336Z"
   },
   {
    "duration": 16,
    "start_time": "2022-02-02T09:29:40.350Z"
   },
   {
    "duration": 11,
    "start_time": "2022-02-02T09:29:40.368Z"
   },
   {
    "duration": 10,
    "start_time": "2022-02-02T09:29:40.381Z"
   },
   {
    "duration": 21,
    "start_time": "2022-02-02T09:29:40.422Z"
   },
   {
    "duration": 9,
    "start_time": "2022-02-02T09:29:40.444Z"
   },
   {
    "duration": 13,
    "start_time": "2022-02-02T09:29:40.455Z"
   },
   {
    "duration": 7,
    "start_time": "2022-02-02T09:29:40.470Z"
   },
   {
    "duration": 11,
    "start_time": "2022-02-02T09:29:40.479Z"
   },
   {
    "duration": 13,
    "start_time": "2022-02-02T09:29:40.521Z"
   },
   {
    "duration": 22,
    "start_time": "2022-02-02T09:29:40.536Z"
   },
   {
    "duration": 10,
    "start_time": "2022-02-02T09:29:40.561Z"
   },
   {
    "duration": 23,
    "start_time": "2022-02-02T09:29:40.572Z"
   },
   {
    "duration": 13,
    "start_time": "2022-02-02T09:29:45.152Z"
   },
   {
    "duration": 8,
    "start_time": "2022-02-02T09:29:46.346Z"
   },
   {
    "duration": 6,
    "start_time": "2022-02-02T09:30:05.375Z"
   },
   {
    "duration": 7,
    "start_time": "2022-02-02T09:30:06.565Z"
   },
   {
    "duration": 7,
    "start_time": "2022-02-02T09:30:07.929Z"
   },
   {
    "duration": 3,
    "start_time": "2022-02-02T09:34:05.100Z"
   },
   {
    "duration": 70,
    "start_time": "2022-02-02T09:34:05.107Z"
   },
   {
    "duration": 12,
    "start_time": "2022-02-02T09:34:05.178Z"
   },
   {
    "duration": 12,
    "start_time": "2022-02-02T09:34:05.192Z"
   },
   {
    "duration": 21,
    "start_time": "2022-02-02T09:34:05.206Z"
   },
   {
    "duration": 18,
    "start_time": "2022-02-02T09:34:05.230Z"
   },
   {
    "duration": 74,
    "start_time": "2022-02-02T09:34:05.250Z"
   },
   {
    "duration": 28,
    "start_time": "2022-02-02T09:34:05.326Z"
   },
   {
    "duration": 9,
    "start_time": "2022-02-02T09:34:05.357Z"
   },
   {
    "duration": 20,
    "start_time": "2022-02-02T09:34:05.369Z"
   },
   {
    "duration": 34,
    "start_time": "2022-02-02T09:34:05.391Z"
   },
   {
    "duration": 18,
    "start_time": "2022-02-02T09:34:05.427Z"
   },
   {
    "duration": 17,
    "start_time": "2022-02-02T09:34:05.448Z"
   },
   {
    "duration": 11,
    "start_time": "2022-02-02T09:34:05.467Z"
   },
   {
    "duration": 14,
    "start_time": "2022-02-02T09:34:05.480Z"
   },
   {
    "duration": 33,
    "start_time": "2022-02-02T09:34:05.496Z"
   },
   {
    "duration": 21,
    "start_time": "2022-02-02T09:34:05.533Z"
   },
   {
    "duration": 15,
    "start_time": "2022-02-02T09:34:05.556Z"
   },
   {
    "duration": 24,
    "start_time": "2022-02-02T09:34:05.574Z"
   },
   {
    "duration": 19,
    "start_time": "2022-02-02T09:34:05.600Z"
   },
   {
    "duration": 15,
    "start_time": "2022-02-02T09:34:05.621Z"
   },
   {
    "duration": 17,
    "start_time": "2022-02-02T09:34:05.638Z"
   },
   {
    "duration": 11,
    "start_time": "2022-02-02T09:34:05.657Z"
   },
   {
    "duration": 11,
    "start_time": "2022-02-02T09:34:05.673Z"
   },
   {
    "duration": 22,
    "start_time": "2022-02-02T09:34:05.686Z"
   },
   {
    "duration": 10,
    "start_time": "2022-02-02T09:34:05.718Z"
   },
   {
    "duration": 295,
    "start_time": "2022-02-02T09:34:05.730Z"
   },
   {
    "duration": 24,
    "start_time": "2022-02-02T09:34:06.027Z"
   },
   {
    "duration": 426,
    "start_time": "2022-02-02T09:34:06.053Z"
   },
   {
    "duration": 21,
    "start_time": "2022-02-02T09:34:06.481Z"
   },
   {
    "duration": 447,
    "start_time": "2022-02-02T09:34:06.518Z"
   },
   {
    "duration": 18,
    "start_time": "2022-02-02T09:34:06.967Z"
   },
   {
    "duration": 48,
    "start_time": "2022-02-02T09:34:06.987Z"
   },
   {
    "duration": 514,
    "start_time": "2022-02-02T09:34:07.037Z"
   },
   {
    "duration": 477,
    "start_time": "2022-02-02T09:34:07.554Z"
   },
   {
    "duration": 14,
    "start_time": "2022-02-02T09:34:08.034Z"
   },
   {
    "duration": 3140,
    "start_time": "2022-02-02T09:34:08.050Z"
   },
   {
    "duration": 30,
    "start_time": "2022-02-02T09:34:11.192Z"
   },
   {
    "duration": 130,
    "start_time": "2022-02-02T09:34:11.226Z"
   },
   {
    "duration": 6,
    "start_time": "2022-02-02T09:34:13.009Z"
   },
   {
    "duration": 661,
    "start_time": "2022-02-02T09:34:14.508Z"
   },
   {
    "duration": 445,
    "start_time": "2022-02-02T09:34:36.632Z"
   },
   {
    "duration": 13,
    "start_time": "2022-02-02T09:34:48.122Z"
   },
   {
    "duration": 551,
    "start_time": "2022-02-02T09:34:50.326Z"
   },
   {
    "duration": 5,
    "start_time": "2022-02-02T09:35:01.911Z"
   },
   {
    "duration": 627,
    "start_time": "2022-02-02T09:35:04.103Z"
   },
   {
    "duration": 552,
    "start_time": "2022-02-02T09:35:14.319Z"
   },
   {
    "duration": 679,
    "start_time": "2022-02-02T09:35:21.432Z"
   }
  ],
  "celltoolbar": "Необработанный формат ячейки",
  "kernelspec": {
   "display_name": "Python 3 (ipykernel)",
   "language": "python",
   "name": "python3"
  },
  "language_info": {
   "codemirror_mode": {
    "name": "ipython",
    "version": 3
   },
   "file_extension": ".py",
   "mimetype": "text/x-python",
   "name": "python",
   "nbconvert_exporter": "python",
   "pygments_lexer": "ipython3",
   "version": "3.7.8"
  },
  "toc": {
   "base_numbering": 1,
   "nav_menu": {},
   "number_sections": false,
   "sideBar": true,
   "skip_h1_title": false,
   "title_cell": "Table of Contents",
   "title_sidebar": "Contents",
   "toc_cell": true,
   "toc_position": {
    "height": "calc(100% - 180px)",
    "left": "10px",
    "top": "150px",
    "width": "348.352px"
   },
   "toc_section_display": true,
   "toc_window_display": true
  }
 },
 "nbformat": 4,
 "nbformat_minor": 5
}
