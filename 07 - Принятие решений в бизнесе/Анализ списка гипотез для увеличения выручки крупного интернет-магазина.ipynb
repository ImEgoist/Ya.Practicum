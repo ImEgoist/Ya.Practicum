{
 "cells": [
  {
   "cell_type": "markdown",
   "metadata": {},
   "source": [
    "## Общая информация"
   ]
  },
  {
   "cell_type": "markdown",
   "metadata": {},
   "source": [
    "Я — аналитик крупного интернет-магазина. Вместе с отделом маркетинга мы подготовили список гипотез для увеличения выручки.\n",
    "Здесь мы приоритизируем гипотезы, запустим A/B-тест и проанализируем его результаты.\n",
    "\n",
    "**Описание данных**\n",
    "\n",
    "Файл *hypothesis.csv*\n",
    "\n",
    "- Hypothesis — краткое описание гипотезы;\n",
    "- Reach — охват пользователей по 10-балльной шкале;\n",
    "- Impact — влияние на пользователей по 10-балльной шкале;\n",
    "- Confidence — уверенность в гипотезе по 10-балльной шкале;\n",
    "- Efforts — затраты ресурсов на проверку гипотезы по 10-балльной шкале. Чем больше значение Efforts, тем дороже проверка гипотезы.\n",
    "\n",
    "Файл *orders.csv*\n",
    "\n",
    "- transactionId — идентификатор заказа;\n",
    "- visitorId — идентификатор пользователя, совершившего заказ;\n",
    "- date — дата, когда был совершён заказ;\n",
    "- revenue — выручка заказа;\n",
    "- group — группа A/B-теста, в которую попал заказ.\n",
    "\n",
    "Файл *visitors.csv*\n",
    "\n",
    "- date — дата;\n",
    "- group — группа A/B-теста;\n",
    "- visitors — количество пользователей в указанную дату в указанной группе A/B-теста"
   ]
  },
  {
   "cell_type": "markdown",
   "metadata": {},
   "source": [
    "Начнём с общей информации о проекте: загрузим необходимые библиотеки и познакомимся с таблицами."
   ]
  },
  {
   "cell_type": "code",
   "execution_count": 1,
   "metadata": {},
   "outputs": [],
   "source": [
    "import pandas as pd\n",
    "import matplotlib.pyplot as plt\n",
    "import scipy.stats as stats\n",
    "from datetime import datetime\n",
    "import datetime as dt\n",
    "import numpy as np\n",
    "\n",
    "pd.set_option('display.max_columns', None)\n",
    "pd.options.display.max_colwidth = 150 "
   ]
  },
  {
   "cell_type": "code",
   "execution_count": 2,
   "metadata": {},
   "outputs": [],
   "source": [
    "try: \n",
    "    hypothesis, orders, visitors = (pd.read_csv('/datasets/hypothesis.csv'), \n",
    "                                    pd.read_csv('/datasets/orders.csv'),\n",
    "                                    pd.read_csv('/datasets/visitors.csv'))\n",
    "except:\n",
    "    hypothesis, orders, visitors = (pd.read_csv('hypothesis.csv'), \n",
    "                                    pd.read_csv('orders.csv'),\n",
    "                                    pd.read_csv('visitors.csv'))"
   ]
  },
  {
   "cell_type": "code",
   "execution_count": 3,
   "metadata": {},
   "outputs": [],
   "source": [
    "def information(data):\n",
    "    display(data.info())\n",
    "    display(data.head(10))\n",
    "    print('Выявлено дубликатов:', data.duplicated().sum())\n",
    "    print('Выявлено пропусков:')\n",
    "    print(round((data.isna().mean()*100),2))"
   ]
  },
  {
   "cell_type": "code",
   "execution_count": 4,
   "metadata": {
    "scrolled": false
   },
   "outputs": [
    {
     "name": "stdout",
     "output_type": "stream",
     "text": [
      "<class 'pandas.core.frame.DataFrame'>\n",
      "RangeIndex: 9 entries, 0 to 8\n",
      "Data columns (total 5 columns):\n",
      " #   Column      Non-Null Count  Dtype \n",
      "---  ------      --------------  ----- \n",
      " 0   Hypothesis  9 non-null      object\n",
      " 1   Reach       9 non-null      int64 \n",
      " 2   Impact      9 non-null      int64 \n",
      " 3   Confidence  9 non-null      int64 \n",
      " 4   Efforts     9 non-null      int64 \n",
      "dtypes: int64(4), object(1)\n",
      "memory usage: 488.0+ bytes\n"
     ]
    },
    {
     "data": {
      "text/plain": [
       "None"
      ]
     },
     "metadata": {},
     "output_type": "display_data"
    },
    {
     "data": {
      "text/html": [
       "<div>\n",
       "<style scoped>\n",
       "    .dataframe tbody tr th:only-of-type {\n",
       "        vertical-align: middle;\n",
       "    }\n",
       "\n",
       "    .dataframe tbody tr th {\n",
       "        vertical-align: top;\n",
       "    }\n",
       "\n",
       "    .dataframe thead th {\n",
       "        text-align: right;\n",
       "    }\n",
       "</style>\n",
       "<table border=\"1\" class=\"dataframe\">\n",
       "  <thead>\n",
       "    <tr style=\"text-align: right;\">\n",
       "      <th></th>\n",
       "      <th>Hypothesis</th>\n",
       "      <th>Reach</th>\n",
       "      <th>Impact</th>\n",
       "      <th>Confidence</th>\n",
       "      <th>Efforts</th>\n",
       "    </tr>\n",
       "  </thead>\n",
       "  <tbody>\n",
       "    <tr>\n",
       "      <th>0</th>\n",
       "      <td>Добавить два новых канала привлечения трафика, что позволит привлекать на 30% больше пользователей</td>\n",
       "      <td>3</td>\n",
       "      <td>10</td>\n",
       "      <td>8</td>\n",
       "      <td>6</td>\n",
       "    </tr>\n",
       "    <tr>\n",
       "      <th>1</th>\n",
       "      <td>Запустить собственную службу доставки, что сократит срок доставки заказов</td>\n",
       "      <td>2</td>\n",
       "      <td>5</td>\n",
       "      <td>4</td>\n",
       "      <td>10</td>\n",
       "    </tr>\n",
       "    <tr>\n",
       "      <th>2</th>\n",
       "      <td>Добавить блоки рекомендаций товаров на сайт интернет магазина, чтобы повысить конверсию и средний чек заказа</td>\n",
       "      <td>8</td>\n",
       "      <td>3</td>\n",
       "      <td>7</td>\n",
       "      <td>3</td>\n",
       "    </tr>\n",
       "    <tr>\n",
       "      <th>3</th>\n",
       "      <td>Изменить структура категорий, что увеличит конверсию, т.к. пользователи быстрее найдут нужный товар</td>\n",
       "      <td>8</td>\n",
       "      <td>3</td>\n",
       "      <td>3</td>\n",
       "      <td>8</td>\n",
       "    </tr>\n",
       "    <tr>\n",
       "      <th>4</th>\n",
       "      <td>Изменить цвет фона главной страницы, чтобы увеличить вовлеченность пользователей</td>\n",
       "      <td>3</td>\n",
       "      <td>1</td>\n",
       "      <td>1</td>\n",
       "      <td>1</td>\n",
       "    </tr>\n",
       "    <tr>\n",
       "      <th>5</th>\n",
       "      <td>Добавить страницу отзывов клиентов о магазине, что позволит увеличить количество заказов</td>\n",
       "      <td>3</td>\n",
       "      <td>2</td>\n",
       "      <td>2</td>\n",
       "      <td>3</td>\n",
       "    </tr>\n",
       "    <tr>\n",
       "      <th>6</th>\n",
       "      <td>Показать на главной странице баннеры с актуальными акциями и распродажами, чтобы увеличить конверсию</td>\n",
       "      <td>5</td>\n",
       "      <td>3</td>\n",
       "      <td>8</td>\n",
       "      <td>3</td>\n",
       "    </tr>\n",
       "    <tr>\n",
       "      <th>7</th>\n",
       "      <td>Добавить форму подписки на все основные страницы, чтобы собрать базу клиентов для email-рассылок</td>\n",
       "      <td>10</td>\n",
       "      <td>7</td>\n",
       "      <td>8</td>\n",
       "      <td>5</td>\n",
       "    </tr>\n",
       "    <tr>\n",
       "      <th>8</th>\n",
       "      <td>Запустить акцию, дающую скидку на товар в день рождения</td>\n",
       "      <td>1</td>\n",
       "      <td>9</td>\n",
       "      <td>9</td>\n",
       "      <td>5</td>\n",
       "    </tr>\n",
       "  </tbody>\n",
       "</table>\n",
       "</div>"
      ],
      "text/plain": [
       "                                                                                                     Hypothesis  \\\n",
       "0            Добавить два новых канала привлечения трафика, что позволит привлекать на 30% больше пользователей   \n",
       "1                                     Запустить собственную службу доставки, что сократит срок доставки заказов   \n",
       "2  Добавить блоки рекомендаций товаров на сайт интернет магазина, чтобы повысить конверсию и средний чек заказа   \n",
       "3           Изменить структура категорий, что увеличит конверсию, т.к. пользователи быстрее найдут нужный товар   \n",
       "4                              Изменить цвет фона главной страницы, чтобы увеличить вовлеченность пользователей   \n",
       "5                      Добавить страницу отзывов клиентов о магазине, что позволит увеличить количество заказов   \n",
       "6          Показать на главной странице баннеры с актуальными акциями и распродажами, чтобы увеличить конверсию   \n",
       "7              Добавить форму подписки на все основные страницы, чтобы собрать базу клиентов для email-рассылок   \n",
       "8                                                       Запустить акцию, дающую скидку на товар в день рождения   \n",
       "\n",
       "   Reach  Impact  Confidence  Efforts  \n",
       "0      3      10           8        6  \n",
       "1      2       5           4       10  \n",
       "2      8       3           7        3  \n",
       "3      8       3           3        8  \n",
       "4      3       1           1        1  \n",
       "5      3       2           2        3  \n",
       "6      5       3           8        3  \n",
       "7     10       7           8        5  \n",
       "8      1       9           9        5  "
      ]
     },
     "metadata": {},
     "output_type": "display_data"
    },
    {
     "name": "stdout",
     "output_type": "stream",
     "text": [
      "Выявлено дубликатов: 0\n",
      "Выявлено пропусков:\n",
      "Hypothesis    0.0\n",
      "Reach         0.0\n",
      "Impact        0.0\n",
      "Confidence    0.0\n",
      "Efforts       0.0\n",
      "dtype: float64\n"
     ]
    }
   ],
   "source": [
    "information(hypothesis)"
   ]
  },
  {
   "cell_type": "code",
   "execution_count": 5,
   "metadata": {
    "scrolled": false
   },
   "outputs": [
    {
     "name": "stdout",
     "output_type": "stream",
     "text": [
      "<class 'pandas.core.frame.DataFrame'>\n",
      "RangeIndex: 1197 entries, 0 to 1196\n",
      "Data columns (total 5 columns):\n",
      " #   Column         Non-Null Count  Dtype \n",
      "---  ------         --------------  ----- \n",
      " 0   transactionId  1197 non-null   int64 \n",
      " 1   visitorId      1197 non-null   int64 \n",
      " 2   date           1197 non-null   object\n",
      " 3   revenue        1197 non-null   int64 \n",
      " 4   group          1197 non-null   object\n",
      "dtypes: int64(3), object(2)\n",
      "memory usage: 46.9+ KB\n"
     ]
    },
    {
     "data": {
      "text/plain": [
       "None"
      ]
     },
     "metadata": {},
     "output_type": "display_data"
    },
    {
     "data": {
      "text/html": [
       "<div>\n",
       "<style scoped>\n",
       "    .dataframe tbody tr th:only-of-type {\n",
       "        vertical-align: middle;\n",
       "    }\n",
       "\n",
       "    .dataframe tbody tr th {\n",
       "        vertical-align: top;\n",
       "    }\n",
       "\n",
       "    .dataframe thead th {\n",
       "        text-align: right;\n",
       "    }\n",
       "</style>\n",
       "<table border=\"1\" class=\"dataframe\">\n",
       "  <thead>\n",
       "    <tr style=\"text-align: right;\">\n",
       "      <th></th>\n",
       "      <th>transactionId</th>\n",
       "      <th>visitorId</th>\n",
       "      <th>date</th>\n",
       "      <th>revenue</th>\n",
       "      <th>group</th>\n",
       "    </tr>\n",
       "  </thead>\n",
       "  <tbody>\n",
       "    <tr>\n",
       "      <th>0</th>\n",
       "      <td>3667963787</td>\n",
       "      <td>3312258926</td>\n",
       "      <td>2019-08-15</td>\n",
       "      <td>1650</td>\n",
       "      <td>B</td>\n",
       "    </tr>\n",
       "    <tr>\n",
       "      <th>1</th>\n",
       "      <td>2804400009</td>\n",
       "      <td>3642806036</td>\n",
       "      <td>2019-08-15</td>\n",
       "      <td>730</td>\n",
       "      <td>B</td>\n",
       "    </tr>\n",
       "    <tr>\n",
       "      <th>2</th>\n",
       "      <td>2961555356</td>\n",
       "      <td>4069496402</td>\n",
       "      <td>2019-08-15</td>\n",
       "      <td>400</td>\n",
       "      <td>A</td>\n",
       "    </tr>\n",
       "    <tr>\n",
       "      <th>3</th>\n",
       "      <td>3797467345</td>\n",
       "      <td>1196621759</td>\n",
       "      <td>2019-08-15</td>\n",
       "      <td>9759</td>\n",
       "      <td>B</td>\n",
       "    </tr>\n",
       "    <tr>\n",
       "      <th>4</th>\n",
       "      <td>2282983706</td>\n",
       "      <td>2322279887</td>\n",
       "      <td>2019-08-15</td>\n",
       "      <td>2308</td>\n",
       "      <td>B</td>\n",
       "    </tr>\n",
       "    <tr>\n",
       "      <th>5</th>\n",
       "      <td>182168103</td>\n",
       "      <td>935554773</td>\n",
       "      <td>2019-08-15</td>\n",
       "      <td>2210</td>\n",
       "      <td>B</td>\n",
       "    </tr>\n",
       "    <tr>\n",
       "      <th>6</th>\n",
       "      <td>398296753</td>\n",
       "      <td>2900797465</td>\n",
       "      <td>2019-08-15</td>\n",
       "      <td>1860</td>\n",
       "      <td>B</td>\n",
       "    </tr>\n",
       "    <tr>\n",
       "      <th>7</th>\n",
       "      <td>2626614568</td>\n",
       "      <td>78758296</td>\n",
       "      <td>2019-08-15</td>\n",
       "      <td>1044</td>\n",
       "      <td>A</td>\n",
       "    </tr>\n",
       "    <tr>\n",
       "      <th>8</th>\n",
       "      <td>1576988021</td>\n",
       "      <td>295230930</td>\n",
       "      <td>2019-08-15</td>\n",
       "      <td>13710</td>\n",
       "      <td>A</td>\n",
       "    </tr>\n",
       "    <tr>\n",
       "      <th>9</th>\n",
       "      <td>1506739906</td>\n",
       "      <td>1882260405</td>\n",
       "      <td>2019-08-15</td>\n",
       "      <td>1855</td>\n",
       "      <td>B</td>\n",
       "    </tr>\n",
       "  </tbody>\n",
       "</table>\n",
       "</div>"
      ],
      "text/plain": [
       "   transactionId   visitorId        date  revenue group\n",
       "0     3667963787  3312258926  2019-08-15     1650     B\n",
       "1     2804400009  3642806036  2019-08-15      730     B\n",
       "2     2961555356  4069496402  2019-08-15      400     A\n",
       "3     3797467345  1196621759  2019-08-15     9759     B\n",
       "4     2282983706  2322279887  2019-08-15     2308     B\n",
       "5      182168103   935554773  2019-08-15     2210     B\n",
       "6      398296753  2900797465  2019-08-15     1860     B\n",
       "7     2626614568    78758296  2019-08-15     1044     A\n",
       "8     1576988021   295230930  2019-08-15    13710     A\n",
       "9     1506739906  1882260405  2019-08-15     1855     B"
      ]
     },
     "metadata": {},
     "output_type": "display_data"
    },
    {
     "name": "stdout",
     "output_type": "stream",
     "text": [
      "Выявлено дубликатов: 0\n",
      "Выявлено пропусков:\n",
      "transactionId    0.0\n",
      "visitorId        0.0\n",
      "date             0.0\n",
      "revenue          0.0\n",
      "group            0.0\n",
      "dtype: float64\n"
     ]
    }
   ],
   "source": [
    "information(orders)"
   ]
  },
  {
   "cell_type": "code",
   "execution_count": 6,
   "metadata": {
    "scrolled": false
   },
   "outputs": [
    {
     "name": "stdout",
     "output_type": "stream",
     "text": [
      "<class 'pandas.core.frame.DataFrame'>\n",
      "RangeIndex: 62 entries, 0 to 61\n",
      "Data columns (total 3 columns):\n",
      " #   Column    Non-Null Count  Dtype \n",
      "---  ------    --------------  ----- \n",
      " 0   date      62 non-null     object\n",
      " 1   group     62 non-null     object\n",
      " 2   visitors  62 non-null     int64 \n",
      "dtypes: int64(1), object(2)\n",
      "memory usage: 1.6+ KB\n"
     ]
    },
    {
     "data": {
      "text/plain": [
       "None"
      ]
     },
     "metadata": {},
     "output_type": "display_data"
    },
    {
     "data": {
      "text/html": [
       "<div>\n",
       "<style scoped>\n",
       "    .dataframe tbody tr th:only-of-type {\n",
       "        vertical-align: middle;\n",
       "    }\n",
       "\n",
       "    .dataframe tbody tr th {\n",
       "        vertical-align: top;\n",
       "    }\n",
       "\n",
       "    .dataframe thead th {\n",
       "        text-align: right;\n",
       "    }\n",
       "</style>\n",
       "<table border=\"1\" class=\"dataframe\">\n",
       "  <thead>\n",
       "    <tr style=\"text-align: right;\">\n",
       "      <th></th>\n",
       "      <th>date</th>\n",
       "      <th>group</th>\n",
       "      <th>visitors</th>\n",
       "    </tr>\n",
       "  </thead>\n",
       "  <tbody>\n",
       "    <tr>\n",
       "      <th>0</th>\n",
       "      <td>2019-08-01</td>\n",
       "      <td>A</td>\n",
       "      <td>719</td>\n",
       "    </tr>\n",
       "    <tr>\n",
       "      <th>1</th>\n",
       "      <td>2019-08-02</td>\n",
       "      <td>A</td>\n",
       "      <td>619</td>\n",
       "    </tr>\n",
       "    <tr>\n",
       "      <th>2</th>\n",
       "      <td>2019-08-03</td>\n",
       "      <td>A</td>\n",
       "      <td>507</td>\n",
       "    </tr>\n",
       "    <tr>\n",
       "      <th>3</th>\n",
       "      <td>2019-08-04</td>\n",
       "      <td>A</td>\n",
       "      <td>717</td>\n",
       "    </tr>\n",
       "    <tr>\n",
       "      <th>4</th>\n",
       "      <td>2019-08-05</td>\n",
       "      <td>A</td>\n",
       "      <td>756</td>\n",
       "    </tr>\n",
       "    <tr>\n",
       "      <th>5</th>\n",
       "      <td>2019-08-06</td>\n",
       "      <td>A</td>\n",
       "      <td>667</td>\n",
       "    </tr>\n",
       "    <tr>\n",
       "      <th>6</th>\n",
       "      <td>2019-08-07</td>\n",
       "      <td>A</td>\n",
       "      <td>644</td>\n",
       "    </tr>\n",
       "    <tr>\n",
       "      <th>7</th>\n",
       "      <td>2019-08-08</td>\n",
       "      <td>A</td>\n",
       "      <td>610</td>\n",
       "    </tr>\n",
       "    <tr>\n",
       "      <th>8</th>\n",
       "      <td>2019-08-09</td>\n",
       "      <td>A</td>\n",
       "      <td>617</td>\n",
       "    </tr>\n",
       "    <tr>\n",
       "      <th>9</th>\n",
       "      <td>2019-08-10</td>\n",
       "      <td>A</td>\n",
       "      <td>406</td>\n",
       "    </tr>\n",
       "  </tbody>\n",
       "</table>\n",
       "</div>"
      ],
      "text/plain": [
       "         date group  visitors\n",
       "0  2019-08-01     A       719\n",
       "1  2019-08-02     A       619\n",
       "2  2019-08-03     A       507\n",
       "3  2019-08-04     A       717\n",
       "4  2019-08-05     A       756\n",
       "5  2019-08-06     A       667\n",
       "6  2019-08-07     A       644\n",
       "7  2019-08-08     A       610\n",
       "8  2019-08-09     A       617\n",
       "9  2019-08-10     A       406"
      ]
     },
     "metadata": {},
     "output_type": "display_data"
    },
    {
     "name": "stdout",
     "output_type": "stream",
     "text": [
      "Выявлено дубликатов: 0\n",
      "Выявлено пропусков:\n",
      "date        0.0\n",
      "group       0.0\n",
      "visitors    0.0\n",
      "dtype: float64\n"
     ]
    }
   ],
   "source": [
    "information(visitors)"
   ]
  },
  {
   "cell_type": "markdown",
   "metadata": {},
   "source": [
    "Пропусков в таблицах нет, дубликатов тоже. В таблице hypothesis хранятся названия гипотез и параменты по ним; в таблице orders - данные о заказах: номер заказа, айди пользователя, дата заказа, выручка и группа, к которой относится пользователь; в таблице visitors - информация о количестве посетителей в каждый конкретный день и принадлежность их к группе теста.\n",
    "\n",
    "Сильно в таблицах ничего менять не будем, заменим только в orders и visitors формат даты."
   ]
  },
  {
   "cell_type": "code",
   "execution_count": 7,
   "metadata": {},
   "outputs": [],
   "source": [
    "orders['date'] = orders['date'].map(lambda x: dt.datetime.strptime(x, '%Y-%m-%d'))\n",
    "visitors['date'] = visitors['date'].map(lambda x: dt.datetime.strptime(x, '%Y-%m-%d'))"
   ]
  },
  {
   "cell_type": "markdown",
   "metadata": {},
   "source": [
    "Посмотрим, сколько пользователей находится в каждой из групп"
   ]
  },
  {
   "cell_type": "code",
   "execution_count": 8,
   "metadata": {},
   "outputs": [
    {
     "data": {
      "text/plain": [
       "B    640\n",
       "A    557\n",
       "Name: group, dtype: int64"
      ]
     },
     "execution_count": 8,
     "metadata": {},
     "output_type": "execute_result"
    }
   ],
   "source": [
    "orders['group'].value_counts()"
   ]
  },
  {
   "cell_type": "markdown",
   "metadata": {},
   "source": [
    "Пользователи по группам распределены не равномерно. В группе В на 80 пользователей больше. \n",
    "\n",
    "Посмотрим, есть ли пользователи, находящиеся в обеих группах теста"
   ]
  },
  {
   "cell_type": "code",
   "execution_count": 9,
   "metadata": {},
   "outputs": [
    {
     "data": {
      "text/plain": [
       "group    58\n",
       "dtype: int64"
      ]
     },
     "execution_count": 9,
     "metadata": {},
     "output_type": "execute_result"
    }
   ],
   "source": [
    "users_in_both_groups = orders.pivot_table(index='visitorId', values='group', aggfunc='nunique')\n",
    "users_in_both_groups.query('group >= 2').count()"
   ]
  },
  {
   "cell_type": "markdown",
   "metadata": {},
   "source": [
    "Таких пользователей оказалось 58. Делать с ними ничего не будем, т.к. конкретных указаний по их поводу мы не получали, просто будем иметь их в виду.\n",
    "\n",
    "В принципе данные готовы для дальнейшей работы. Пропусков и дубликатов ни в одной из таблиц нет, дата приведена в необходимый формат."
   ]
  },
  {
   "cell_type": "markdown",
   "metadata": {},
   "source": [
    "## Приоритизация гипотез"
   ]
  },
  {
   "cell_type": "markdown",
   "metadata": {},
   "source": [
    "Для приоритизации гипотез воспользуемся способамми ICE и RICE. Посмотрим снова на таблицу hypothesis. \n"
   ]
  },
  {
   "cell_type": "code",
   "execution_count": 10,
   "metadata": {},
   "outputs": [
    {
     "data": {
      "text/html": [
       "<div>\n",
       "<style scoped>\n",
       "    .dataframe tbody tr th:only-of-type {\n",
       "        vertical-align: middle;\n",
       "    }\n",
       "\n",
       "    .dataframe tbody tr th {\n",
       "        vertical-align: top;\n",
       "    }\n",
       "\n",
       "    .dataframe thead th {\n",
       "        text-align: right;\n",
       "    }\n",
       "</style>\n",
       "<table border=\"1\" class=\"dataframe\">\n",
       "  <thead>\n",
       "    <tr style=\"text-align: right;\">\n",
       "      <th></th>\n",
       "      <th>Hypothesis</th>\n",
       "      <th>Reach</th>\n",
       "      <th>Impact</th>\n",
       "      <th>Confidence</th>\n",
       "      <th>Efforts</th>\n",
       "    </tr>\n",
       "  </thead>\n",
       "  <tbody>\n",
       "    <tr>\n",
       "      <th>0</th>\n",
       "      <td>Добавить два новых канала привлечения трафика, что позволит привлекать на 30% больше пользователей</td>\n",
       "      <td>3</td>\n",
       "      <td>10</td>\n",
       "      <td>8</td>\n",
       "      <td>6</td>\n",
       "    </tr>\n",
       "    <tr>\n",
       "      <th>1</th>\n",
       "      <td>Запустить собственную службу доставки, что сократит срок доставки заказов</td>\n",
       "      <td>2</td>\n",
       "      <td>5</td>\n",
       "      <td>4</td>\n",
       "      <td>10</td>\n",
       "    </tr>\n",
       "    <tr>\n",
       "      <th>2</th>\n",
       "      <td>Добавить блоки рекомендаций товаров на сайт интернет магазина, чтобы повысить конверсию и средний чек заказа</td>\n",
       "      <td>8</td>\n",
       "      <td>3</td>\n",
       "      <td>7</td>\n",
       "      <td>3</td>\n",
       "    </tr>\n",
       "    <tr>\n",
       "      <th>3</th>\n",
       "      <td>Изменить структура категорий, что увеличит конверсию, т.к. пользователи быстрее найдут нужный товар</td>\n",
       "      <td>8</td>\n",
       "      <td>3</td>\n",
       "      <td>3</td>\n",
       "      <td>8</td>\n",
       "    </tr>\n",
       "    <tr>\n",
       "      <th>4</th>\n",
       "      <td>Изменить цвет фона главной страницы, чтобы увеличить вовлеченность пользователей</td>\n",
       "      <td>3</td>\n",
       "      <td>1</td>\n",
       "      <td>1</td>\n",
       "      <td>1</td>\n",
       "    </tr>\n",
       "    <tr>\n",
       "      <th>5</th>\n",
       "      <td>Добавить страницу отзывов клиентов о магазине, что позволит увеличить количество заказов</td>\n",
       "      <td>3</td>\n",
       "      <td>2</td>\n",
       "      <td>2</td>\n",
       "      <td>3</td>\n",
       "    </tr>\n",
       "    <tr>\n",
       "      <th>6</th>\n",
       "      <td>Показать на главной странице баннеры с актуальными акциями и распродажами, чтобы увеличить конверсию</td>\n",
       "      <td>5</td>\n",
       "      <td>3</td>\n",
       "      <td>8</td>\n",
       "      <td>3</td>\n",
       "    </tr>\n",
       "    <tr>\n",
       "      <th>7</th>\n",
       "      <td>Добавить форму подписки на все основные страницы, чтобы собрать базу клиентов для email-рассылок</td>\n",
       "      <td>10</td>\n",
       "      <td>7</td>\n",
       "      <td>8</td>\n",
       "      <td>5</td>\n",
       "    </tr>\n",
       "    <tr>\n",
       "      <th>8</th>\n",
       "      <td>Запустить акцию, дающую скидку на товар в день рождения</td>\n",
       "      <td>1</td>\n",
       "      <td>9</td>\n",
       "      <td>9</td>\n",
       "      <td>5</td>\n",
       "    </tr>\n",
       "  </tbody>\n",
       "</table>\n",
       "</div>"
      ],
      "text/plain": [
       "                                                                                                     Hypothesis  \\\n",
       "0            Добавить два новых канала привлечения трафика, что позволит привлекать на 30% больше пользователей   \n",
       "1                                     Запустить собственную службу доставки, что сократит срок доставки заказов   \n",
       "2  Добавить блоки рекомендаций товаров на сайт интернет магазина, чтобы повысить конверсию и средний чек заказа   \n",
       "3           Изменить структура категорий, что увеличит конверсию, т.к. пользователи быстрее найдут нужный товар   \n",
       "4                              Изменить цвет фона главной страницы, чтобы увеличить вовлеченность пользователей   \n",
       "5                      Добавить страницу отзывов клиентов о магазине, что позволит увеличить количество заказов   \n",
       "6          Показать на главной странице баннеры с актуальными акциями и распродажами, чтобы увеличить конверсию   \n",
       "7              Добавить форму подписки на все основные страницы, чтобы собрать базу клиентов для email-рассылок   \n",
       "8                                                       Запустить акцию, дающую скидку на товар в день рождения   \n",
       "\n",
       "   Reach  Impact  Confidence  Efforts  \n",
       "0      3      10           8        6  \n",
       "1      2       5           4       10  \n",
       "2      8       3           7        3  \n",
       "3      8       3           3        8  \n",
       "4      3       1           1        1  \n",
       "5      3       2           2        3  \n",
       "6      5       3           8        3  \n",
       "7     10       7           8        5  \n",
       "8      1       9           9        5  "
      ]
     },
     "execution_count": 10,
     "metadata": {},
     "output_type": "execute_result"
    }
   ],
   "source": [
    "hypothesis"
   ]
  },
  {
   "cell_type": "markdown",
   "metadata": {},
   "source": [
    "Сначала посчитаем ICE для всех наших гипотез."
   ]
  },
  {
   "cell_type": "code",
   "execution_count": 11,
   "metadata": {},
   "outputs": [
    {
     "data": {
      "text/html": [
       "<div>\n",
       "<style scoped>\n",
       "    .dataframe tbody tr th:only-of-type {\n",
       "        vertical-align: middle;\n",
       "    }\n",
       "\n",
       "    .dataframe tbody tr th {\n",
       "        vertical-align: top;\n",
       "    }\n",
       "\n",
       "    .dataframe thead th {\n",
       "        text-align: right;\n",
       "    }\n",
       "</style>\n",
       "<table border=\"1\" class=\"dataframe\">\n",
       "  <thead>\n",
       "    <tr style=\"text-align: right;\">\n",
       "      <th></th>\n",
       "      <th>Hypothesis</th>\n",
       "      <th>ICE</th>\n",
       "    </tr>\n",
       "  </thead>\n",
       "  <tbody>\n",
       "    <tr>\n",
       "      <th>8</th>\n",
       "      <td>Запустить акцию, дающую скидку на товар в день рождения</td>\n",
       "      <td>16.200000</td>\n",
       "    </tr>\n",
       "    <tr>\n",
       "      <th>0</th>\n",
       "      <td>Добавить два новых канала привлечения трафика, что позволит привлекать на 30% больше пользователей</td>\n",
       "      <td>13.333333</td>\n",
       "    </tr>\n",
       "    <tr>\n",
       "      <th>7</th>\n",
       "      <td>Добавить форму подписки на все основные страницы, чтобы собрать базу клиентов для email-рассылок</td>\n",
       "      <td>11.200000</td>\n",
       "    </tr>\n",
       "    <tr>\n",
       "      <th>6</th>\n",
       "      <td>Показать на главной странице баннеры с актуальными акциями и распродажами, чтобы увеличить конверсию</td>\n",
       "      <td>8.000000</td>\n",
       "    </tr>\n",
       "    <tr>\n",
       "      <th>2</th>\n",
       "      <td>Добавить блоки рекомендаций товаров на сайт интернет магазина, чтобы повысить конверсию и средний чек заказа</td>\n",
       "      <td>7.000000</td>\n",
       "    </tr>\n",
       "    <tr>\n",
       "      <th>1</th>\n",
       "      <td>Запустить собственную службу доставки, что сократит срок доставки заказов</td>\n",
       "      <td>2.000000</td>\n",
       "    </tr>\n",
       "    <tr>\n",
       "      <th>5</th>\n",
       "      <td>Добавить страницу отзывов клиентов о магазине, что позволит увеличить количество заказов</td>\n",
       "      <td>1.333333</td>\n",
       "    </tr>\n",
       "    <tr>\n",
       "      <th>3</th>\n",
       "      <td>Изменить структура категорий, что увеличит конверсию, т.к. пользователи быстрее найдут нужный товар</td>\n",
       "      <td>1.125000</td>\n",
       "    </tr>\n",
       "    <tr>\n",
       "      <th>4</th>\n",
       "      <td>Изменить цвет фона главной страницы, чтобы увеличить вовлеченность пользователей</td>\n",
       "      <td>1.000000</td>\n",
       "    </tr>\n",
       "  </tbody>\n",
       "</table>\n",
       "</div>"
      ],
      "text/plain": [
       "                                                                                                     Hypothesis  \\\n",
       "8                                                       Запустить акцию, дающую скидку на товар в день рождения   \n",
       "0            Добавить два новых канала привлечения трафика, что позволит привлекать на 30% больше пользователей   \n",
       "7              Добавить форму подписки на все основные страницы, чтобы собрать базу клиентов для email-рассылок   \n",
       "6          Показать на главной странице баннеры с актуальными акциями и распродажами, чтобы увеличить конверсию   \n",
       "2  Добавить блоки рекомендаций товаров на сайт интернет магазина, чтобы повысить конверсию и средний чек заказа   \n",
       "1                                     Запустить собственную службу доставки, что сократит срок доставки заказов   \n",
       "5                      Добавить страницу отзывов клиентов о магазине, что позволит увеличить количество заказов   \n",
       "3           Изменить структура категорий, что увеличит конверсию, т.к. пользователи быстрее найдут нужный товар   \n",
       "4                              Изменить цвет фона главной страницы, чтобы увеличить вовлеченность пользователей   \n",
       "\n",
       "         ICE  \n",
       "8  16.200000  \n",
       "0  13.333333  \n",
       "7  11.200000  \n",
       "6   8.000000  \n",
       "2   7.000000  \n",
       "1   2.000000  \n",
       "5   1.333333  \n",
       "3   1.125000  \n",
       "4   1.000000  "
      ]
     },
     "execution_count": 11,
     "metadata": {},
     "output_type": "execute_result"
    }
   ],
   "source": [
    "hypothesis['ICE'] = (hypothesis['Impact'] * hypothesis['Confidence']) / hypothesis['Efforts']\n",
    "hypothesis[['Hypothesis', 'ICE']].sort_values(by='ICE', ascending=False)"
   ]
  },
  {
   "cell_type": "markdown",
   "metadata": {},
   "source": [
    "В лидерах гипотеза под номером 8: \"Запустить акцию, дающую скидку на товар в день рождения\". В топ лидеров попали ещё гипотезы под номерами 0 \"Добавить два новых канала привлечения трафика, что позволит привлекать на 30% больше пользователей\", 7 \"Добавить форму подписки на все основные страницы, чтобы собрать базу клиентов для email-рассылок\" и 6 \"Показать на главной странице баннеры с актуальными акциями и распродажами, чтобы увеличить конверсию\"\n",
    "\n",
    "Посмотрим, сохранятся ли лидеры, если приоритизировать гипотезы методом RICE"
   ]
  },
  {
   "cell_type": "code",
   "execution_count": 12,
   "metadata": {},
   "outputs": [
    {
     "data": {
      "text/html": [
       "<div>\n",
       "<style scoped>\n",
       "    .dataframe tbody tr th:only-of-type {\n",
       "        vertical-align: middle;\n",
       "    }\n",
       "\n",
       "    .dataframe tbody tr th {\n",
       "        vertical-align: top;\n",
       "    }\n",
       "\n",
       "    .dataframe thead th {\n",
       "        text-align: right;\n",
       "    }\n",
       "</style>\n",
       "<table border=\"1\" class=\"dataframe\">\n",
       "  <thead>\n",
       "    <tr style=\"text-align: right;\">\n",
       "      <th></th>\n",
       "      <th>Hypothesis</th>\n",
       "      <th>RICE</th>\n",
       "    </tr>\n",
       "  </thead>\n",
       "  <tbody>\n",
       "    <tr>\n",
       "      <th>7</th>\n",
       "      <td>Добавить форму подписки на все основные страницы, чтобы собрать базу клиентов для email-рассылок</td>\n",
       "      <td>112.0</td>\n",
       "    </tr>\n",
       "    <tr>\n",
       "      <th>2</th>\n",
       "      <td>Добавить блоки рекомендаций товаров на сайт интернет магазина, чтобы повысить конверсию и средний чек заказа</td>\n",
       "      <td>56.0</td>\n",
       "    </tr>\n",
       "    <tr>\n",
       "      <th>0</th>\n",
       "      <td>Добавить два новых канала привлечения трафика, что позволит привлекать на 30% больше пользователей</td>\n",
       "      <td>40.0</td>\n",
       "    </tr>\n",
       "    <tr>\n",
       "      <th>6</th>\n",
       "      <td>Показать на главной странице баннеры с актуальными акциями и распродажами, чтобы увеличить конверсию</td>\n",
       "      <td>40.0</td>\n",
       "    </tr>\n",
       "    <tr>\n",
       "      <th>8</th>\n",
       "      <td>Запустить акцию, дающую скидку на товар в день рождения</td>\n",
       "      <td>16.2</td>\n",
       "    </tr>\n",
       "    <tr>\n",
       "      <th>3</th>\n",
       "      <td>Изменить структура категорий, что увеличит конверсию, т.к. пользователи быстрее найдут нужный товар</td>\n",
       "      <td>9.0</td>\n",
       "    </tr>\n",
       "    <tr>\n",
       "      <th>1</th>\n",
       "      <td>Запустить собственную службу доставки, что сократит срок доставки заказов</td>\n",
       "      <td>4.0</td>\n",
       "    </tr>\n",
       "    <tr>\n",
       "      <th>5</th>\n",
       "      <td>Добавить страницу отзывов клиентов о магазине, что позволит увеличить количество заказов</td>\n",
       "      <td>4.0</td>\n",
       "    </tr>\n",
       "    <tr>\n",
       "      <th>4</th>\n",
       "      <td>Изменить цвет фона главной страницы, чтобы увеличить вовлеченность пользователей</td>\n",
       "      <td>3.0</td>\n",
       "    </tr>\n",
       "  </tbody>\n",
       "</table>\n",
       "</div>"
      ],
      "text/plain": [
       "                                                                                                     Hypothesis  \\\n",
       "7              Добавить форму подписки на все основные страницы, чтобы собрать базу клиентов для email-рассылок   \n",
       "2  Добавить блоки рекомендаций товаров на сайт интернет магазина, чтобы повысить конверсию и средний чек заказа   \n",
       "0            Добавить два новых канала привлечения трафика, что позволит привлекать на 30% больше пользователей   \n",
       "6          Показать на главной странице баннеры с актуальными акциями и распродажами, чтобы увеличить конверсию   \n",
       "8                                                       Запустить акцию, дающую скидку на товар в день рождения   \n",
       "3           Изменить структура категорий, что увеличит конверсию, т.к. пользователи быстрее найдут нужный товар   \n",
       "1                                     Запустить собственную службу доставки, что сократит срок доставки заказов   \n",
       "5                      Добавить страницу отзывов клиентов о магазине, что позволит увеличить количество заказов   \n",
       "4                              Изменить цвет фона главной страницы, чтобы увеличить вовлеченность пользователей   \n",
       "\n",
       "    RICE  \n",
       "7  112.0  \n",
       "2   56.0  \n",
       "0   40.0  \n",
       "6   40.0  \n",
       "8   16.2  \n",
       "3    9.0  \n",
       "1    4.0  \n",
       "5    4.0  \n",
       "4    3.0  "
      ]
     },
     "execution_count": 12,
     "metadata": {},
     "output_type": "execute_result"
    }
   ],
   "source": [
    "hypothesis['RICE'] = (hypothesis['Reach'] * hypothesis['Impact'] * hypothesis['Confidence']) / hypothesis['Efforts']\n",
    "hypothesis[['Hypothesis', 'RICE']].sort_values(by='RICE', ascending=False)"
   ]
  },
  {
   "cell_type": "markdown",
   "metadata": {},
   "source": [
    "Гипотезы под номерами 7, 6 и 0 остались в топе, а вот гипотеза под номером 8 уехала на пятую строчку. \n",
    "\n",
    "Разница в приоритетах случилась из-за того, что метод ICE учитывает изменение удовлетворённости пользователей пользователей, затраты на проверку гипотезы и уверенность в гипотезе, в то время как в методе RICE добавляется ещё и охват пользователей, то есть насколько много людей смогут нововведение оценить. Здесь у гипотезы под номером 7 все показатели достаточно высокие, а затраты низкие, вот она и выбилась в лидеры с самым показателем охвата аудитории."
   ]
  },
  {
   "cell_type": "markdown",
   "metadata": {},
   "source": [
    "## Анализ A/B-теста"
   ]
  },
  {
   "cell_type": "markdown",
   "metadata": {},
   "source": [
    "Мы запустили A/B-тест, получили по нему данные в таблицах orders и visitors, и тепепь можем начать их анализ."
   ]
  },
  {
   "cell_type": "markdown",
   "metadata": {},
   "source": [
    "### График кумулятивной выручки"
   ]
  },
  {
   "cell_type": "markdown",
   "metadata": {},
   "source": [
    "Первым делом построим график кумулятивной выручки, чтобы увидеть, как накапливались данные. Чтобы построить графики, нужно собрать кумулятивные данные.\n",
    "\n",
    "Создадим массив уникальных пар значений дат и групп теста методом drop_duplicates()"
   ]
  },
  {
   "cell_type": "code",
   "execution_count": 13,
   "metadata": {},
   "outputs": [],
   "source": [
    "datesGroups = orders[['date','group']].drop_duplicates() "
   ]
  },
  {
   "cell_type": "markdown",
   "metadata": {},
   "source": [
    "Соберём агрегированные кумулятивные по дням данные о заказах в несколько действий.\n",
    "\n",
    "Получим строки таблицы orders, дата которых меньше или равна дате элемента из datesGroups, а группа теста равна группе из datesGroups.\n",
    "\n",
    "Агрегируем значения. Вычислим максимальную дату. Для группы тоже рассчитаем максимум, и хотя она будет определённой, сделаем это, чтобы столбец 'group' не пропал из итогового вывода. Найдём число уникальных ID заказов и пользователей. Подсчитаем сумму средних чеков."
   ]
  },
  {
   "cell_type": "code",
   "execution_count": 14,
   "metadata": {},
   "outputs": [],
   "source": [
    "ordersAggregated = datesGroups.apply(lambda x: orders[np.logical_and(orders['date'] <= x['date'], orders['group'] == x['group'])]\\\n",
    ".agg({'date' : 'max', 'group' : 'max', 'transactionId' : 'nunique', 'visitorId' : 'nunique', 'revenue' : 'sum'}), axis=1).sort_values(by=['date','group'])"
   ]
  },
  {
   "cell_type": "markdown",
   "metadata": {},
   "source": [
    "Аналогично получим агрегированные кумулятивные по дням данные о посетителях интернет-магазина"
   ]
  },
  {
   "cell_type": "code",
   "execution_count": 15,
   "metadata": {},
   "outputs": [],
   "source": [
    "visitorsAggregated = datesGroups.apply(lambda x: visitors[np.logical_and(visitors['date'] <= x['date'], visitors['group'] == x['group'])].agg({'date' : 'max', 'group' : 'max', 'visitors' : 'sum'}), axis=1).sort_values(by=['date','group'])"
   ]
  },
  {
   "cell_type": "markdown",
   "metadata": {},
   "source": [
    "Объединим обе таблицы в одну с понятными названиями столбцов"
   ]
  },
  {
   "cell_type": "code",
   "execution_count": 16,
   "metadata": {},
   "outputs": [
    {
     "data": {
      "text/html": [
       "<div>\n",
       "<style scoped>\n",
       "    .dataframe tbody tr th:only-of-type {\n",
       "        vertical-align: middle;\n",
       "    }\n",
       "\n",
       "    .dataframe tbody tr th {\n",
       "        vertical-align: top;\n",
       "    }\n",
       "\n",
       "    .dataframe thead th {\n",
       "        text-align: right;\n",
       "    }\n",
       "</style>\n",
       "<table border=\"1\" class=\"dataframe\">\n",
       "  <thead>\n",
       "    <tr style=\"text-align: right;\">\n",
       "      <th></th>\n",
       "      <th>date</th>\n",
       "      <th>group</th>\n",
       "      <th>orders</th>\n",
       "      <th>buyers</th>\n",
       "      <th>revenue</th>\n",
       "      <th>visitors</th>\n",
       "    </tr>\n",
       "  </thead>\n",
       "  <tbody>\n",
       "    <tr>\n",
       "      <th>0</th>\n",
       "      <td>2019-08-01</td>\n",
       "      <td>A</td>\n",
       "      <td>24</td>\n",
       "      <td>20</td>\n",
       "      <td>148579</td>\n",
       "      <td>719</td>\n",
       "    </tr>\n",
       "    <tr>\n",
       "      <th>1</th>\n",
       "      <td>2019-08-01</td>\n",
       "      <td>B</td>\n",
       "      <td>21</td>\n",
       "      <td>20</td>\n",
       "      <td>101217</td>\n",
       "      <td>713</td>\n",
       "    </tr>\n",
       "    <tr>\n",
       "      <th>2</th>\n",
       "      <td>2019-08-02</td>\n",
       "      <td>A</td>\n",
       "      <td>44</td>\n",
       "      <td>38</td>\n",
       "      <td>242401</td>\n",
       "      <td>1338</td>\n",
       "    </tr>\n",
       "    <tr>\n",
       "      <th>3</th>\n",
       "      <td>2019-08-02</td>\n",
       "      <td>B</td>\n",
       "      <td>45</td>\n",
       "      <td>43</td>\n",
       "      <td>266748</td>\n",
       "      <td>1294</td>\n",
       "    </tr>\n",
       "    <tr>\n",
       "      <th>4</th>\n",
       "      <td>2019-08-03</td>\n",
       "      <td>A</td>\n",
       "      <td>68</td>\n",
       "      <td>62</td>\n",
       "      <td>354874</td>\n",
       "      <td>1845</td>\n",
       "    </tr>\n",
       "  </tbody>\n",
       "</table>\n",
       "</div>"
      ],
      "text/plain": [
       "        date group  orders  buyers  revenue  visitors\n",
       "0 2019-08-01     A      24      20   148579       719\n",
       "1 2019-08-01     B      21      20   101217       713\n",
       "2 2019-08-02     A      44      38   242401      1338\n",
       "3 2019-08-02     B      45      43   266748      1294\n",
       "4 2019-08-03     A      68      62   354874      1845"
      ]
     },
     "execution_count": 16,
     "metadata": {},
     "output_type": "execute_result"
    }
   ],
   "source": [
    "# создаем массив уникальных пар значений дат и групп теста\n",
    "datesGroups = orders[['date','group']].drop_duplicates()\n",
    "\n",
    "# получаем агрегированные кумулятивные по дням данные о заказах \n",
    "ordersAggregated = datesGroups.apply(lambda x: orders[np.logical_and(orders['date'] <= x['date'], orders['group'] == x['group'])].agg({'date' : 'max', 'group' : 'max', 'transactionId' : 'nunique', 'visitorId' : 'nunique', 'revenue' : 'sum'}), axis=1).sort_values(by=['date','group'])\n",
    "\n",
    "# получаем агрегированные кумулятивные по дням данные о посетителях интернет-магазина \n",
    "visitorsAggregated = datesGroups.apply(lambda x: visitors[np.logical_and(visitors['date'] <= x['date'], visitors['group'] == x['group'])].agg({'date' : 'max', 'group' : 'max', 'visitors' : 'sum'}), axis=1).sort_values(by=['date','group'])\n",
    "\n",
    "# объединяем кумулятивные данные в одной таблице и присваиваем ее столбцам понятные названия\n",
    "cumulativeData = ordersAggregated.merge(visitorsAggregated, left_on=['date', 'group'], right_on=['date', 'group'])\n",
    "cumulativeData.columns = ['date', 'group', 'orders', 'buyers', 'revenue', 'visitors']\n",
    "\n",
    "cumulativeData.head()"
   ]
  },
  {
   "cell_type": "markdown",
   "metadata": {},
   "source": [
    "Построим графики кумулятивной выручки по дням и группам A/B-тестирования"
   ]
  },
  {
   "cell_type": "code",
   "execution_count": 17,
   "metadata": {},
   "outputs": [
    {
     "data": {
      "text/plain": [
       "<matplotlib.legend.Legend at 0x7f0d36c97c40>"
      ]
     },
     "execution_count": 17,
     "metadata": {},
     "output_type": "execute_result"
    },
    {
     "data": {
      "image/png": "[encoded data removed]",
      "text/plain": [
       "<Figure size 432x288 with 1 Axes>"
      ]
     },
     "metadata": {
      "needs_background": "light"
     },
     "output_type": "display_data"
    }
   ],
   "source": [
    "# датафрейм с кумулятивным количеством заказов и кумулятивной выручкой по дням в группе А\n",
    "cumulativeRevenueA = cumulativeData[cumulativeData['group']=='A'][['date','revenue', 'orders']]\n",
    "\n",
    "# датафрейм с кумулятивным количеством заказов и кумулятивной выручкой по дням в группе B\n",
    "cumulativeRevenueB = cumulativeData[cumulativeData['group']=='B'][['date','revenue', 'orders']]\n",
    "\n",
    "# Строим график выручки группы А\n",
    "plt.plot(cumulativeRevenueA['date'], cumulativeRevenueA['revenue'], label='A')\n",
    "\n",
    "# Строим график выручки группы B\n",
    "plt.plot(cumulativeRevenueB['date'], cumulativeRevenueB['revenue'], label='B')\n",
    "\n",
    "plt.xticks(rotation=45)\n",
    "plt.legend() \n",
    "plt.title('Кумулятивная выручка по группам')\n",
    "plt.xlabel('Дата, день')\n",
    "plt.ylabel('Выручка, руб')\n",
    "plt.legend() "
   ]
  },
  {
   "cell_type": "markdown",
   "metadata": {},
   "source": [
    "Выручка увеличивается в течение всего теста. Для группы В заметен резкий скачок по прибыли 17.08, и дальше обе группы увеличиваются практически идентично. Скачок может говорить о том, что, например, в это время совершили несколько очень дорогих заказов."
   ]
  },
  {
   "cell_type": "markdown",
   "metadata": {},
   "source": [
    "### График кумулятивного среднего чека"
   ]
  },
  {
   "cell_type": "markdown",
   "metadata": {},
   "source": [
    "Построим графики среднего чека по группам — разделим кумулятивную выручку на кумулятивное число заказов"
   ]
  },
  {
   "cell_type": "code",
   "execution_count": 18,
   "metadata": {},
   "outputs": [
    {
     "data": {
      "text/plain": [
       "<matplotlib.legend.Legend at 0x7f0d369b66a0>"
      ]
     },
     "execution_count": 18,
     "metadata": {},
     "output_type": "execute_result"
    },
    {
     "data": {
      "image/png": "[encoded data removed]",
      "text/plain": [
       "<Figure size 432x288 with 1 Axes>"
      ]
     },
     "metadata": {
      "needs_background": "light"
     },
     "output_type": "display_data"
    }
   ],
   "source": [
    "plt.plot(cumulativeRevenueA['date'], cumulativeRevenueA['revenue']/cumulativeRevenueA['orders'], label='A')\n",
    "plt.plot(cumulativeRevenueB['date'], cumulativeRevenueB['revenue']/cumulativeRevenueB['orders'], label='B')\n",
    "plt.xticks(rotation=45)\n",
    "plt.title('Кумулятивный средний чек по группам')\n",
    "plt.xlabel('Дата, день')\n",
    "plt.ylabel('Средний чек, руб')\n",
    "plt.legend() \n",
    "plt.legend()"
   ]
  },
  {
   "cell_type": "markdown",
   "metadata": {},
   "source": [
    "Кумулятивный средний чек нестабилен. Того же 17.08 со средним чеком группы В что-то произошло, возможно, те самые очень крупные чеки. Тогда ей нужно больше данных, чтобы прийти к реальному среднему чеку и установиться на его уровне. На графике видно резкий рост, после которого небольшое снижение. Чек группы А стабилизируется во второй половине месяца на отметке 7000-8000."
   ]
  },
  {
   "cell_type": "markdown",
   "metadata": {},
   "source": [
    "### График относительного изменения кумулятивного среднего чека группы B к группе A"
   ]
  },
  {
   "cell_type": "markdown",
   "metadata": {},
   "source": [
    "Построим график относительного различия для среднего чека"
   ]
  },
  {
   "cell_type": "code",
   "execution_count": 19,
   "metadata": {},
   "outputs": [
    {
     "data": {
      "image/png": "[encoded data removed]",
      "text/plain": [
       "<Figure size 432x288 with 1 Axes>"
      ]
     },
     "metadata": {
      "needs_background": "light"
     },
     "output_type": "display_data"
    }
   ],
   "source": [
    "mergedCumulativeRevenue = cumulativeRevenueA.merge(cumulativeRevenueB, left_on='date', right_on='date', how='left', suffixes=['A', 'B'])\n",
    "\n",
    "plt.plot(mergedCumulativeRevenue['date'], (mergedCumulativeRevenue['revenueB']/mergedCumulativeRevenue['ordersB'])/(mergedCumulativeRevenue['revenueA']/mergedCumulativeRevenue['ordersA'])-1)\n",
    "\n",
    "plt.axhline(y=0, color='black', linestyle='--')\n",
    "plt.xticks(rotation=45)\n",
    "plt.title('Относительное изменение кумулятивного среднего чека группы B к группе A')\n",
    "plt.xlabel('Дата, день')\n",
    "plt.ylabel('Отношение средних чеков')\n",
    "plt.show()"
   ]
  },
  {
   "cell_type": "markdown",
   "metadata": {},
   "source": [
    "На графике видно резкий спад с 09.08 по 13.08 и резкий рост 17.08. График скачет, значит, на него влияют выбросы."
   ]
  },
  {
   "cell_type": "markdown",
   "metadata": {},
   "source": [
    "### График кумулятивной конверсии по группам"
   ]
  },
  {
   "cell_type": "markdown",
   "metadata": {},
   "source": [
    "Аналогично проанализируем график кумулятивной конверсии"
   ]
  },
  {
   "cell_type": "code",
   "execution_count": 20,
   "metadata": {},
   "outputs": [
    {
     "data": {
      "text/plain": [
       "(18109.0, 18139.0, 0.02, 0.04)"
      ]
     },
     "execution_count": 20,
     "metadata": {},
     "output_type": "execute_result"
    },
    {
     "data": {
      "image/png": "[encoded data removed]",
      "text/plain": [
       "<Figure size 432x288 with 1 Axes>"
      ]
     },
     "metadata": {
      "needs_background": "light"
     },
     "output_type": "display_data"
    }
   ],
   "source": [
    "# считаем кумулятивную конверсию\n",
    "cumulativeData['conversion'] = cumulativeData['orders']/cumulativeData['visitors']\n",
    "\n",
    "# отделяем данные по группе A\n",
    "cumulativeDataA = cumulativeData[cumulativeData['group']=='A']\n",
    "\n",
    "# отделяем данные по группе B\n",
    "cumulativeDataB = cumulativeData[cumulativeData['group']=='B']\n",
    "\n",
    "# строим графики\n",
    "plt.plot(cumulativeDataA['date'], cumulativeDataA['conversion'], label='A')\n",
    "plt.plot(cumulativeDataB['date'], cumulativeDataB['conversion'], label='B')\n",
    "plt.legend()\n",
    "plt.xticks(rotation=45)\n",
    "plt.title(\"Кумулятивная конверсия по группам\")\n",
    "plt.xlabel('Дата, день')\n",
    "plt.ylabel('Конверсия')\n",
    "\n",
    "# задаем масштаб осей\n",
    "plt.axis([datetime.strptime('2019-08-01', '%Y-%m-%d'), datetime.strptime('2019-08-31', '%Y-%m-%d'), 0.02, 0.04])"
   ]
  },
  {
   "cell_type": "markdown",
   "metadata": {},
   "source": [
    "В начале наблюдений видны колебания на обоих графиках, в дальнейшем конверсия группы В стала больше и стабилизировалась на значении примерно 0.035, а конверсия группы А находится на значении 0.03. На графике конверсия значительна, но по числовым значениям получается, что конверсия группы В примерно 3,5%, а группы А - 3%."
   ]
  },
  {
   "cell_type": "markdown",
   "metadata": {},
   "source": [
    "### График относительного изменения кумулятивной конверсии группы B к группе A"
   ]
  },
  {
   "cell_type": "markdown",
   "metadata": {},
   "source": [
    "Построим график относительного различия кумулятивных конверсий"
   ]
  },
  {
   "cell_type": "code",
   "execution_count": 21,
   "metadata": {},
   "outputs": [
    {
     "data": {
      "text/plain": [
       "(18109.0, 18139.0, -0.2, 0.3)"
      ]
     },
     "execution_count": 21,
     "metadata": {},
     "output_type": "execute_result"
    },
    {
     "data": {
      "image/png": "[encoded data removed]",
      "text/plain": [
       "<Figure size 432x288 with 1 Axes>"
      ]
     },
     "metadata": {
      "needs_background": "light"
     },
     "output_type": "display_data"
    }
   ],
   "source": [
    "mergedCumulativeConversions = cumulativeDataA[['date','conversion']].merge(cumulativeDataB[['date','conversion']], left_on='date', right_on='date', how='left', suffixes=['A', 'B'])\n",
    "\n",
    "plt.plot(mergedCumulativeConversions['date'], mergedCumulativeConversions['conversionB']/mergedCumulativeConversions['conversionA']-1, label=\"Относительный прирост конверсии группы B относительно группы A\")\n",
    "plt.legend()\n",
    "plt.xlabel('Дата, день')\n",
    "plt.ylabel('Значение прироста')\n",
    "\n",
    "plt.xticks(rotation=45)\n",
    "\n",
    "plt.axhline(y=0, color='black', linestyle='--')\n",
    "plt.axis([datetime.strptime('2019-08-01', '%Y-%m-%d'), datetime.strptime('2019-08-31', '%Y-%m-%d'), -0.2, 0.3])"
   ]
  },
  {
   "cell_type": "markdown",
   "metadata": {},
   "source": [
    "Сначала конверсия группы В была меньше, но затем выросла."
   ]
  },
  {
   "cell_type": "markdown",
   "metadata": {},
   "source": [
    "### Точечный график количества заказов по пользователям"
   ]
  },
  {
   "cell_type": "markdown",
   "metadata": {},
   "source": [
    "Подсчитаем количество заказов по пользователям"
   ]
  },
  {
   "cell_type": "code",
   "execution_count": 22,
   "metadata": {},
   "outputs": [],
   "source": [
    "ordersByUsers = (\n",
    "    orders.groupby('visitorId', as_index=False)\n",
    "    .agg({'transactionId': pd.Series.nunique})\n",
    ")\n",
    "\n",
    "ordersByUsers.columns = ['transactionId', 'orders']"
   ]
  },
  {
   "cell_type": "markdown",
   "metadata": {},
   "source": [
    "Построим точечный график количества заказов по пользователям"
   ]
  },
  {
   "cell_type": "code",
   "execution_count": 23,
   "metadata": {
    "scrolled": true
   },
   "outputs": [
    {
     "data": {
      "image/png": "[encoded data removed]",
      "text/plain": [
       "<Figure size 432x288 with 1 Axes>"
      ]
     },
     "metadata": {
      "needs_background": "light"
     },
     "output_type": "display_data"
    }
   ],
   "source": [
    "x_values = pd.Series(range(0,len(ordersByUsers)))\n",
    "\n",
    "plt.scatter(x_values, ordersByUsers['orders']) \n",
    "\n",
    "plt.title('Распределение числа заказов по пользователям')\n",
    "plt.xlabel('Число пользователей, чел')\n",
    "plt.ylabel('Число заказов, шт')\n",
    "plt.show()"
   ]
  },
  {
   "cell_type": "markdown",
   "metadata": {},
   "source": [
    "Большинство пользователей совершили 1 заказ, ожидаемо. Можно предположить, что аномальными будут являться от 4 заказов на пользователя."
   ]
  },
  {
   "cell_type": "markdown",
   "metadata": {},
   "source": [
    "### 95-й и 99-й перцентили количества заказов на пользователя"
   ]
  },
  {
   "cell_type": "markdown",
   "metadata": {},
   "source": [
    "Для наглядности сгруппируем число заказов по пользователям и найдём наибольшее количество заказов на одного пользователя."
   ]
  },
  {
   "cell_type": "code",
   "execution_count": 24,
   "metadata": {},
   "outputs": [
    {
     "data": {
      "text/html": [
       "<div>\n",
       "<style scoped>\n",
       "    .dataframe tbody tr th:only-of-type {\n",
       "        vertical-align: middle;\n",
       "    }\n",
       "\n",
       "    .dataframe tbody tr th {\n",
       "        vertical-align: top;\n",
       "    }\n",
       "\n",
       "    .dataframe thead th {\n",
       "        text-align: right;\n",
       "    }\n",
       "</style>\n",
       "<table border=\"1\" class=\"dataframe\">\n",
       "  <thead>\n",
       "    <tr style=\"text-align: right;\">\n",
       "      <th></th>\n",
       "      <th>visitorId</th>\n",
       "      <th>orders</th>\n",
       "    </tr>\n",
       "  </thead>\n",
       "  <tbody>\n",
       "    <tr>\n",
       "      <th>1023</th>\n",
       "      <td>4256040402</td>\n",
       "      <td>11</td>\n",
       "    </tr>\n",
       "    <tr>\n",
       "      <th>591</th>\n",
       "      <td>2458001652</td>\n",
       "      <td>11</td>\n",
       "    </tr>\n",
       "    <tr>\n",
       "      <th>569</th>\n",
       "      <td>2378935119</td>\n",
       "      <td>9</td>\n",
       "    </tr>\n",
       "    <tr>\n",
       "      <th>487</th>\n",
       "      <td>2038680547</td>\n",
       "      <td>8</td>\n",
       "    </tr>\n",
       "    <tr>\n",
       "      <th>44</th>\n",
       "      <td>199603092</td>\n",
       "      <td>5</td>\n",
       "    </tr>\n",
       "  </tbody>\n",
       "</table>\n",
       "</div>"
      ],
      "text/plain": [
       "       visitorId  orders\n",
       "1023  4256040402      11\n",
       "591   2458001652      11\n",
       "569   2378935119       9\n",
       "487   2038680547       8\n",
       "44     199603092       5"
      ]
     },
     "execution_count": 24,
     "metadata": {},
     "output_type": "execute_result"
    }
   ],
   "source": [
    "ordersByUsers = (\n",
    "    orders.groupby('visitorId', as_index=False)\n",
    "    .agg({'transactionId': pd.Series.nunique})\n",
    ")\n",
    "\n",
    "ordersByUsers.columns = ['visitorId', 'orders']\n",
    "\n",
    "ordersByUsers.sort_values(by='orders', ascending=False).head()"
   ]
  },
  {
   "cell_type": "markdown",
   "metadata": {},
   "source": [
    "Самое большое количество заказов у одного пользователя - 11.\n",
    "\n",
    "Т.к. принято отсеивать от 1% до 5% наблюдений с крайними значениями, найдём 95 и 99 перцентили среднего чека в выборке"
   ]
  },
  {
   "cell_type": "code",
   "execution_count": 25,
   "metadata": {},
   "outputs": [
    {
     "data": {
      "text/plain": [
       "array([2., 4.])"
      ]
     },
     "execution_count": 25,
     "metadata": {},
     "output_type": "execute_result"
    }
   ],
   "source": [
    "np.percentile(ordersByUsers['orders'], [95, 99])"
   ]
  },
  {
   "cell_type": "markdown",
   "metadata": {},
   "source": [
    "Раз 95 перцентиль равен 2, значит, 95% всех пользователей совершили 1-2 заказа. И не больше 1% пользователей совершили 4 заказа. Примем аномальные заказы больше 3."
   ]
  },
  {
   "cell_type": "markdown",
   "metadata": {},
   "source": [
    "### Точечный график стоимостей заказов"
   ]
  },
  {
   "cell_type": "markdown",
   "metadata": {},
   "source": [
    "Построим точечный график стоимостей заказов"
   ]
  },
  {
   "cell_type": "code",
   "execution_count": 26,
   "metadata": {},
   "outputs": [
    {
     "data": {
      "image/png": "[encoded data removed]",
      "text/plain": [
       "<Figure size 432x288 with 1 Axes>"
      ]
     },
     "metadata": {
      "needs_background": "light"
     },
     "output_type": "display_data"
    }
   ],
   "source": [
    "x_values = pd.Series(range(0,len(orders['revenue'])))\n",
    "plt.scatter(x_values, orders['revenue']) \n",
    "plt.title('Распределение стоимости заказов')\n",
    "plt.xlabel('Число пользователей, чел')\n",
    "plt.ylabel('Стоимость заказов, руб')\n",
    "plt.axis([0, 1200, 0, 130000])\n",
    "\n",
    "plt.show()"
   ]
  },
  {
   "cell_type": "markdown",
   "metadata": {},
   "source": [
    "Как мы и предполагали, есть несколько дорогих заказов стоимостью около 100 тыс. рублей, большинство заказов находятся в пределах 20 тыс. рублей. По графику можно выбрать границу аномальных заказов между 30 и 40 тыс. рублей."
   ]
  },
  {
   "cell_type": "markdown",
   "metadata": {},
   "source": [
    "### 95-й и 99-й перцентили стоимости заказов"
   ]
  },
  {
   "cell_type": "markdown",
   "metadata": {},
   "source": [
    "Определим 95 и 99 перцентили среднего чека в выборке"
   ]
  },
  {
   "cell_type": "code",
   "execution_count": 27,
   "metadata": {
    "scrolled": true
   },
   "outputs": [
    {
     "data": {
      "text/plain": [
       "array([28000. , 58233.2])"
      ]
     },
     "execution_count": 27,
     "metadata": {},
     "output_type": "execute_result"
    }
   ],
   "source": [
    "np.percentile(orders['revenue'], [95, 99])"
   ]
  },
  {
   "cell_type": "markdown",
   "metadata": {},
   "source": [
    "95% пользователей совершали заказы на сумму меньше 28 тыс рублей. И всего 1% пользователей совершили заказы дороже 58 тыс. Можно принять за границу аномальных заказов заказы стоимостью 30 тыс. рублей."
   ]
  },
  {
   "cell_type": "markdown",
   "metadata": {},
   "source": [
    "### Статистическая значимость различий в конверсии между группами по «сырым» данным"
   ]
  },
  {
   "cell_type": "markdown",
   "metadata": {},
   "source": [
    "Посчитаем статистическую значимость различий в конверсии и среднем чеке между группами по «сырым» данным — без удаления аномальных пользователей.\n",
    "\n",
    "Начнём с подготовки данных"
   ]
  },
  {
   "cell_type": "code",
   "execution_count": 28,
   "metadata": {},
   "outputs": [
    {
     "data": {
      "text/html": [
       "<div>\n",
       "<style scoped>\n",
       "    .dataframe tbody tr th:only-of-type {\n",
       "        vertical-align: middle;\n",
       "    }\n",
       "\n",
       "    .dataframe tbody tr th {\n",
       "        vertical-align: top;\n",
       "    }\n",
       "\n",
       "    .dataframe thead th {\n",
       "        text-align: right;\n",
       "    }\n",
       "</style>\n",
       "<table border=\"1\" class=\"dataframe\">\n",
       "  <thead>\n",
       "    <tr style=\"text-align: right;\">\n",
       "      <th></th>\n",
       "      <th>date</th>\n",
       "      <th>ordersPerDateA</th>\n",
       "      <th>revenuePerDateA</th>\n",
       "      <th>ordersPerDateB</th>\n",
       "      <th>revenuePerDateB</th>\n",
       "      <th>ordersCummulativeA</th>\n",
       "      <th>revenueCummulativeA</th>\n",
       "      <th>ordersCummulativeB</th>\n",
       "      <th>revenueCummulativeB</th>\n",
       "      <th>visitorsPerDateA</th>\n",
       "      <th>visitorsPerDateB</th>\n",
       "      <th>visitorsCummulativeA</th>\n",
       "      <th>visitorsCummulativeB</th>\n",
       "    </tr>\n",
       "  </thead>\n",
       "  <tbody>\n",
       "    <tr>\n",
       "      <th>0</th>\n",
       "      <td>2019-08-01</td>\n",
       "      <td>24</td>\n",
       "      <td>148579</td>\n",
       "      <td>21</td>\n",
       "      <td>101217</td>\n",
       "      <td>24</td>\n",
       "      <td>148579</td>\n",
       "      <td>21</td>\n",
       "      <td>101217</td>\n",
       "      <td>719</td>\n",
       "      <td>713</td>\n",
       "      <td>719</td>\n",
       "      <td>713</td>\n",
       "    </tr>\n",
       "    <tr>\n",
       "      <th>1</th>\n",
       "      <td>2019-08-02</td>\n",
       "      <td>20</td>\n",
       "      <td>93822</td>\n",
       "      <td>24</td>\n",
       "      <td>165531</td>\n",
       "      <td>44</td>\n",
       "      <td>242401</td>\n",
       "      <td>45</td>\n",
       "      <td>266748</td>\n",
       "      <td>619</td>\n",
       "      <td>581</td>\n",
       "      <td>1338</td>\n",
       "      <td>1294</td>\n",
       "    </tr>\n",
       "    <tr>\n",
       "      <th>2</th>\n",
       "      <td>2019-08-03</td>\n",
       "      <td>24</td>\n",
       "      <td>112473</td>\n",
       "      <td>16</td>\n",
       "      <td>114248</td>\n",
       "      <td>68</td>\n",
       "      <td>354874</td>\n",
       "      <td>61</td>\n",
       "      <td>380996</td>\n",
       "      <td>507</td>\n",
       "      <td>509</td>\n",
       "      <td>1845</td>\n",
       "      <td>1803</td>\n",
       "    </tr>\n",
       "    <tr>\n",
       "      <th>3</th>\n",
       "      <td>2019-08-04</td>\n",
       "      <td>16</td>\n",
       "      <td>70825</td>\n",
       "      <td>17</td>\n",
       "      <td>108571</td>\n",
       "      <td>84</td>\n",
       "      <td>425699</td>\n",
       "      <td>78</td>\n",
       "      <td>489567</td>\n",
       "      <td>717</td>\n",
       "      <td>770</td>\n",
       "      <td>2562</td>\n",
       "      <td>2573</td>\n",
       "    </tr>\n",
       "    <tr>\n",
       "      <th>4</th>\n",
       "      <td>2019-08-05</td>\n",
       "      <td>25</td>\n",
       "      <td>124218</td>\n",
       "      <td>23</td>\n",
       "      <td>92428</td>\n",
       "      <td>109</td>\n",
       "      <td>549917</td>\n",
       "      <td>101</td>\n",
       "      <td>581995</td>\n",
       "      <td>756</td>\n",
       "      <td>707</td>\n",
       "      <td>3318</td>\n",
       "      <td>3280</td>\n",
       "    </tr>\n",
       "  </tbody>\n",
       "</table>\n",
       "</div>"
      ],
      "text/plain": [
       "        date  ordersPerDateA  revenuePerDateA  ordersPerDateB  \\\n",
       "0 2019-08-01              24           148579              21   \n",
       "1 2019-08-02              20            93822              24   \n",
       "2 2019-08-03              24           112473              16   \n",
       "3 2019-08-04              16            70825              17   \n",
       "4 2019-08-05              25           124218              23   \n",
       "\n",
       "   revenuePerDateB  ordersCummulativeA  revenueCummulativeA  \\\n",
       "0           101217                  24               148579   \n",
       "1           165531                  44               242401   \n",
       "2           114248                  68               354874   \n",
       "3           108571                  84               425699   \n",
       "4            92428                 109               549917   \n",
       "\n",
       "   ordersCummulativeB  revenueCummulativeB  visitorsPerDateA  \\\n",
       "0                  21               101217               719   \n",
       "1                  45               266748               619   \n",
       "2                  61               380996               507   \n",
       "3                  78               489567               717   \n",
       "4                 101               581995               756   \n",
       "\n",
       "   visitorsPerDateB  visitorsCummulativeA  visitorsCummulativeB  \n",
       "0               713                   719                   713  \n",
       "1               581                  1338                  1294  \n",
       "2               509                  1845                  1803  \n",
       "3               770                  2562                  2573  \n",
       "4               707                  3318                  3280  "
      ]
     },
     "execution_count": 28,
     "metadata": {},
     "output_type": "execute_result"
    }
   ],
   "source": [
    "visitorsADaily = visitors[visitors['group'] == 'A'][['date', 'visitors']]\n",
    "visitorsADaily.columns = ['date', 'visitorsPerDateA']\n",
    "\n",
    "visitorsACummulative = visitorsADaily.apply(\n",
    "    lambda x: visitorsADaily[visitorsADaily['date'] <= x['date']].agg(\n",
    "        {'date': 'max', 'visitorsPerDateA': 'sum'}\n",
    "    ),\n",
    "    axis=1,\n",
    ")\n",
    "visitorsACummulative.columns = ['date', 'visitorsCummulativeA']\n",
    "\n",
    "visitorsBDaily = visitors[visitors['group'] == 'B'][['date', 'visitors']]\n",
    "visitorsBDaily.columns = ['date', 'visitorsPerDateB']\n",
    "\n",
    "visitorsBCummulative = visitorsBDaily.apply(\n",
    "    lambda x: visitorsBDaily[visitorsBDaily['date'] <= x['date']].agg(\n",
    "        {'date': 'max', 'visitorsPerDateB': 'sum'}\n",
    "    ),\n",
    "    axis=1,\n",
    ")\n",
    "visitorsBCummulative.columns = ['date', 'visitorsCummulativeB']\n",
    "\n",
    "ordersADaily = (\n",
    "    orders[orders['group'] == 'A'][['date', 'transactionId', 'visitorId', 'revenue']]\n",
    "    .groupby('date', as_index=False)\n",
    "    .agg({'transactionId': pd.Series.nunique, 'revenue': 'sum'})\n",
    ")\n",
    "ordersADaily.columns = ['date', 'ordersPerDateA', 'revenuePerDateA']\n",
    "\n",
    "ordersACummulative = ordersADaily.apply(\n",
    "    lambda x: ordersADaily[ordersADaily['date'] <= x['date']].agg(\n",
    "        {'date': 'max', 'ordersPerDateA': 'sum', 'revenuePerDateA': 'sum'}\n",
    "    ),\n",
    "    axis=1,\n",
    ").sort_values(by=['date'])\n",
    "ordersACummulative.columns = [\n",
    "    'date',\n",
    "    'ordersCummulativeA',\n",
    "    'revenueCummulativeA',\n",
    "]\n",
    "\n",
    "ordersBDaily = (\n",
    "    orders[orders['group'] == 'B'][['date', 'transactionId', 'visitorId', 'revenue']]\n",
    "    .groupby('date', as_index=False)\n",
    "    .agg({'transactionId': pd.Series.nunique, 'revenue': 'sum'})\n",
    ")\n",
    "ordersBDaily.columns = ['date', 'ordersPerDateB', 'revenuePerDateB']\n",
    "\n",
    "ordersBCummulative = ordersBDaily.apply(\n",
    "    lambda x: ordersBDaily[ordersBDaily['date'] <= x['date']].agg(\n",
    "        {'date': 'max', 'ordersPerDateB': 'sum', 'revenuePerDateB': 'sum'}\n",
    "    ),\n",
    "    axis=1,\n",
    ").sort_values(by=['date'])\n",
    "ordersBCummulative.columns = [\n",
    "    'date',\n",
    "    'ordersCummulativeB',\n",
    "    'revenueCummulativeB',\n",
    "]\n",
    "\n",
    "data = (\n",
    "    ordersADaily.merge(\n",
    "        ordersBDaily, left_on='date', right_on='date', how='left'\n",
    "    )\n",
    "    .merge(ordersACummulative, left_on='date', right_on='date', how='left')\n",
    "    .merge(ordersBCummulative, left_on='date', right_on='date', how='left')\n",
    "    .merge(visitorsADaily, left_on='date', right_on='date', how='left')\n",
    "    .merge(visitorsBDaily, left_on='date', right_on='date', how='left')\n",
    "    .merge(visitorsACummulative, left_on='date', right_on='date', how='left')\n",
    "    .merge(visitorsBCummulative, left_on='date', right_on='date', how='left')\n",
    ")\n",
    "\n",
    "data.head()"
   ]
  },
  {
   "cell_type": "markdown",
   "metadata": {},
   "source": [
    "Посчитаем статистическую значимость различия в конверсии между группами.\n",
    "Создадим переменные ordersByUsersA и ordersByUsersB со столбцами ['userId', 'orders']. В них для пользователей, которые заказывали хотя бы 1 раз, укажем число совершённых заказов."
   ]
  },
  {
   "cell_type": "code",
   "execution_count": 29,
   "metadata": {},
   "outputs": [],
   "source": [
    "ordersByUsersA = (\n",
    "    orders[orders['group'] == 'A']\n",
    "    .groupby('visitorId', as_index=False)\n",
    "    .agg({'transactionId': pd.Series.nunique})\n",
    ")\n",
    "ordersByUsersA.columns = ['visitorId', 'orders']\n",
    "\n",
    "ordersByUsersB = (\n",
    "    orders[orders['group'] == 'B']\n",
    "    .groupby('visitorId', as_index=False)\n",
    "    .agg({'transactionId': pd.Series.nunique})\n",
    ")\n",
    "ordersByUsersB.columns = ['visitorId', 'orders'] "
   ]
  },
  {
   "cell_type": "markdown",
   "metadata": {},
   "source": [
    "Объявим переменные sampleA и sampleB, в которых пользователям из разных групп будет соответствовать количество заказов. Тем, кто ничего не заказал, будут соответствовать нули. Это нужно, чтобы подготовить выборки к проверке критерием Манна-Уитни."
   ]
  },
  {
   "cell_type": "code",
   "execution_count": 30,
   "metadata": {},
   "outputs": [],
   "source": [
    "sampleA = pd.concat([ordersByUsersA['orders'],pd.Series(0, index=np.arange(data['visitorsPerDateA'].sum() - len(ordersByUsersA['orders'])), name='orders')],axis=0)\n",
    "\n",
    "sampleB = pd.concat([ordersByUsersB['orders'],pd.Series(0, index=np.arange(data['visitorsPerDateB'].sum() - len(ordersByUsersB['orders'])), name='orders')],axis=0)"
   ]
  },
  {
   "cell_type": "markdown",
   "metadata": {},
   "source": [
    "Сформулируем гипотезы\n",
    "\n",
    "Н0 - различия в конверсиях между группами по «сырым» данным статистически не значимы\n",
    "\n",
    "Н1 - различия в конверсиях между группами по «сырым» данным статистически значимы\n",
    "\n",
    "Пороговое значение alpha примем за 5%.\n",
    "\n",
    "Применим критерий и отформатируем p-value, округлив его до трёх знаков после запятой."
   ]
  },
  {
   "cell_type": "code",
   "execution_count": 31,
   "metadata": {},
   "outputs": [
    {
     "name": "stdout",
     "output_type": "stream",
     "text": [
      "P-value по конверсии до очистки данных: 0.017\n",
      "Относительный прирост конверсии группы B: 0.138\n"
     ]
    }
   ],
   "source": [
    "print(\"P-value по конверсии до очистки данных: {0:.3f}\".format(stats.mannwhitneyu(sampleA, sampleB)[1]))\n",
    "\n",
    "print(\"Относительный прирост конверсии группы B: {0:.3f}\".format(sampleB.mean() / sampleA.mean() - 1))"
   ]
  },
  {
   "cell_type": "markdown",
   "metadata": {},
   "source": [
    "Первое число — p-value = 0.017, меньше 0.05. Значит, нулевую гипотезу о том, что статистически значимых различий в конверсии между группами нет, отвергаем.\n",
    "\n",
    "Второе число говорит о том, что прирост конверсии для группы В на 13.8% больше, чем для группы А."
   ]
  },
  {
   "cell_type": "markdown",
   "metadata": {},
   "source": [
    "### статистическую значимость различий в среднем чеке заказа между группами по «сырым» данным"
   ]
  },
  {
   "cell_type": "markdown",
   "metadata": {},
   "source": [
    "Сравним средние чеки по \"сырым\" данным.\n",
    "\n",
    "Сформулируем гипотезы\n",
    "\n",
    "Н0 - различия в среднем чеке заказа между группами по «сырым» данным статистически не значимы\n",
    "\n",
    "Н1 - различия в среднем чеке заказа между группами по «сырым» данным статистически значимы\n",
    "\n",
    "Чтобы рассчитать статистическую значимость различий в среднем чеке между сегментами, передадим критерию mannwhitneyu() данные о выручке с заказов.\n",
    "\n",
    "А ещё найдём относительные различия в среднем чеке между группами"
   ]
  },
  {
   "cell_type": "code",
   "execution_count": 32,
   "metadata": {},
   "outputs": [
    {
     "name": "stdout",
     "output_type": "stream",
     "text": [
      "P-value по среднему чеку до очистки данных 0.729\n",
      "Относительный прирост среднего чека группы B к среднему чеку группы А до очистки данных: 0.259\n"
     ]
    }
   ],
   "source": [
    "print('P-value по среднему чеку до очистки данных {0:.3f}'.format(stats.mannwhitneyu(orders[orders['group']=='A']['revenue'], orders[orders['group']=='B']['revenue'])[1]))\n",
    "print('Относительный прирост среднего чека группы B к среднему чеку группы А до очистки данных: {0:.3f}'.format(orders[orders['group']=='B']['revenue'].mean()/orders[orders['group']=='A']['revenue'].mean()-1))"
   ]
  },
  {
   "cell_type": "markdown",
   "metadata": {},
   "source": [
    "P-value значительно больше 0.05. Значит, причин отвергать нулевую гипотезу и считать, что в среднем чеке есть различия, нет. И средний чек группы B значительно выше среднего чека группы A, аж на 25%"
   ]
  },
  {
   "cell_type": "markdown",
   "metadata": {},
   "source": [
    "### статистическую значимость различий в конверсии между группами по «очищенным» данным"
   ]
  },
  {
   "cell_type": "markdown",
   "metadata": {},
   "source": [
    "Примем за аномальных пользователей тех, кто совершил от 4 заказов или совершил заказ дороже 30 тыс рублей. "
   ]
  },
  {
   "cell_type": "code",
   "execution_count": 33,
   "metadata": {},
   "outputs": [
    {
     "data": {
      "text/plain": [
       "1099    148427295\n",
       "928     204675465\n",
       "684     358944393\n",
       "648     382846391\n",
       "1189    393266494\n",
       "Name: visitorId, dtype: int64"
      ]
     },
     "execution_count": 33,
     "metadata": {},
     "output_type": "execute_result"
    }
   ],
   "source": [
    "usersWithManyOrders = pd.concat(\n",
    "    [\n",
    "        ordersByUsersA[ordersByUsersA['orders'] > 4]['visitorId'],\n",
    "        ordersByUsersB[ordersByUsersB['orders'] > 4]['visitorId'],\n",
    "    ],\n",
    "    axis=0,\n",
    ")\n",
    "usersWithExpensiveOrders = orders[orders['revenue'] > 30000]['visitorId']\n",
    "abnormalUsers = (\n",
    "    pd.concat([usersWithManyOrders, usersWithExpensiveOrders], axis=0)\n",
    "    .drop_duplicates()\n",
    "    .sort_values()\n",
    ")\n",
    "abnormalUsers.head()"
   ]
  },
  {
   "cell_type": "code",
   "execution_count": 34,
   "metadata": {},
   "outputs": [
    {
     "data": {
      "text/plain": [
       "(53,)"
      ]
     },
     "execution_count": 34,
     "metadata": {},
     "output_type": "execute_result"
    }
   ],
   "source": [
    "abnormalUsers.shape"
   ]
  },
  {
   "cell_type": "markdown",
   "metadata": {},
   "source": [
    "53 аномальных пользователя"
   ]
  },
  {
   "cell_type": "code",
   "execution_count": 35,
   "metadata": {},
   "outputs": [],
   "source": [
    "sampleAFiltered = pd.concat(\n",
    "    [\n",
    "        ordersByUsersA[\n",
    "            np.logical_not(ordersByUsersA['visitorId'].isin(abnormalUsers))\n",
    "        ]['orders'],\n",
    "        pd.Series(\n",
    "            0,\n",
    "            index=np.arange(\n",
    "                data['visitorsPerDateA'].sum() - len(ordersByUsersA['orders'])\n",
    "            ),\n",
    "            name='orders',\n",
    "        ),\n",
    "    ],\n",
    "    axis=0,\n",
    ")\n",
    "\n",
    "sampleBFiltered = pd.concat(\n",
    "    [\n",
    "        ordersByUsersB[\n",
    "            np.logical_not(ordersByUsersB['visitorId'].isin(abnormalUsers))\n",
    "        ]['orders'],\n",
    "        pd.Series(\n",
    "            0,\n",
    "            index=np.arange(\n",
    "                data['visitorsPerDateB'].sum() - len(ordersByUsersB['orders'])\n",
    "            ),\n",
    "            name='orders',\n",
    "        ),\n",
    "    ],\n",
    "    axis=0,\n",
    ")"
   ]
  },
  {
   "cell_type": "markdown",
   "metadata": {},
   "source": [
    "Применим статистический критерий Манна-Уитни к полученным выборкам:"
   ]
  },
  {
   "cell_type": "code",
   "execution_count": 36,
   "metadata": {},
   "outputs": [
    {
     "name": "stdout",
     "output_type": "stream",
     "text": [
      "P-value по конверсии после очистки данных: 0.019\n",
      "Относительный прирост конверсии группы B к конверсии группы А после очистки данных: 0.144\n"
     ]
    }
   ],
   "source": [
    "print('P-value по конверсии после очистки данных: {0:.3f}'.format(stats.mannwhitneyu(sampleAFiltered, sampleBFiltered)[1]))\n",
    "print('Относительный прирост конверсии группы B к конверсии группы А после очистки данных: {0:.3f}'.format(sampleBFiltered.mean()/sampleAFiltered.mean()-1))"
   ]
  },
  {
   "cell_type": "markdown",
   "metadata": {},
   "source": [
    "Как и в случае с сырыми данными, статистическая значимость достигнута. Отвергаем нулевую гипотезу. Сегмент B лучше сегмента А. Относительный прирост конверсии очищенной группы B к А увеличился на 2% и равен 15%"
   ]
  },
  {
   "cell_type": "markdown",
   "metadata": {},
   "source": [
    "### статистическую значимость различий в среднем чеке заказа между группами по «очищенным» данным"
   ]
  },
  {
   "cell_type": "markdown",
   "metadata": {},
   "source": [
    "Результаты по конверсии практически не изменились. Произошло ли что-нибудь с результатами по среднему чеку?"
   ]
  },
  {
   "cell_type": "code",
   "execution_count": 37,
   "metadata": {},
   "outputs": [
    {
     "name": "stdout",
     "output_type": "stream",
     "text": [
      "P-value по среднему чеку после очистки данных: 0.979\n",
      "Относительный прирост среднего чека группы B к среднему чеку группы А после очистки данных: -0.017\n"
     ]
    }
   ],
   "source": [
    "print(\n",
    "    'P-value по среднему чеку после очистки данных: {0:.3f}'.format(\n",
    "        stats.mannwhitneyu(\n",
    "            orders[\n",
    "                np.logical_and(\n",
    "                    orders['group'] == 'A',\n",
    "                    np.logical_not(orders['visitorId'].isin(abnormalUsers)),\n",
    "                )\n",
    "            ]['revenue'],\n",
    "            orders[\n",
    "                np.logical_and(\n",
    "                    orders['group'] == 'B',\n",
    "                    np.logical_not(orders['visitorId'].isin(abnormalUsers)),\n",
    "                )\n",
    "            ]['revenue'],\n",
    "        )[1]\n",
    "    )\n",
    ")\n",
    "\n",
    "print(\n",
    "    \"Относительный прирост среднего чека группы B к среднему чеку группы А после очистки данных: {0:.3f}\".format(\n",
    "        orders[\n",
    "            np.logical_and(\n",
    "                orders['group'] == 'B',\n",
    "                np.logical_not(orders['visitorId'].isin(abnormalUsers)),\n",
    "            )\n",
    "        ]['revenue'].mean()\n",
    "        / orders[\n",
    "            np.logical_and(\n",
    "                orders['group'] == 'A',\n",
    "                np.logical_not(orders['visitorId'].isin(abnormalUsers)),\n",
    "            )\n",
    "        ]['revenue'].mean()\n",
    "        - 1\n",
    "    )\n",
    ")"
   ]
  },
  {
   "cell_type": "markdown",
   "metadata": {},
   "source": [
    "P-value увеличился, но и разница между сегментами сократилась с 25% до -2%."
   ]
  },
  {
   "cell_type": "markdown",
   "metadata": {},
   "source": [
    "## Вывод"
   ]
  },
  {
   "cell_type": "markdown",
   "metadata": {},
   "source": [
    "Опираясь на полученные результаты и несмотря на то, что по среднему чеку статистической значимости не обнаружено, рекомендовано остановить тест и зафиксировать победу группы В. Группа B статистически значимо лучше группы A по метрике конверсии, но различий в средних чеках нет. Так как задача стоит в эффективности гипотезы по увеличению выручки, следует обратить внимание на конверсию. Выручка не всегда покажет положительную или отрицательную динамику, точнее сложно понять по выручке, без учета числа покупателей.\n",
    "\n",
    "Коверсия влияет на выручку, и поэтому раз конверсия в случае группы В значимо увеличилась, то и выручка увеличилась тоже. Даже с учетом того, что средний чек остался без изменений."
   ]
  }
 ],
 "metadata": {
  "ExecuteTimeLog": [
   {
    "duration": 588,
    "start_time": "2022-03-20T07:35:19.405Z"
   },
   {
    "duration": 4,
    "start_time": "2022-03-20T07:35:26.217Z"
   },
   {
    "duration": 25,
    "start_time": "2022-03-20T07:35:26.753Z"
   },
   {
    "duration": 44,
    "start_time": "2022-03-20T07:35:34.316Z"
   },
   {
    "duration": 5,
    "start_time": "2022-03-20T07:36:08.100Z"
   },
   {
    "duration": 35,
    "start_time": "2022-03-20T07:36:18.294Z"
   },
   {
    "duration": 11,
    "start_time": "2022-03-20T07:37:24.326Z"
   },
   {
    "duration": 18,
    "start_time": "2022-03-20T07:37:47.643Z"
   },
   {
    "duration": 16,
    "start_time": "2022-03-20T07:38:36.596Z"
   },
   {
    "duration": 5,
    "start_time": "2022-03-20T07:38:52.157Z"
   },
   {
    "duration": 16,
    "start_time": "2022-03-20T07:38:58.657Z"
   },
   {
    "duration": 5,
    "start_time": "2022-03-20T07:39:00.150Z"
   },
   {
    "duration": 16,
    "start_time": "2022-03-20T07:39:03.705Z"
   },
   {
    "duration": 208,
    "start_time": "2022-03-20T07:42:28.143Z"
   },
   {
    "duration": 198,
    "start_time": "2022-03-20T07:42:48.371Z"
   },
   {
    "duration": 127,
    "start_time": "2022-03-20T07:42:53.915Z"
   },
   {
    "duration": 65,
    "start_time": "2022-03-20T07:43:00.493Z"
   },
   {
    "duration": 32,
    "start_time": "2022-03-20T07:43:17.852Z"
   },
   {
    "duration": 33,
    "start_time": "2022-03-20T07:43:26.791Z"
   },
   {
    "duration": 674,
    "start_time": "2022-03-20T07:45:31.335Z"
   },
   {
    "duration": 984,
    "start_time": "2022-03-20T07:46:50.739Z"
   },
   {
    "duration": 4,
    "start_time": "2022-03-20T07:46:58.988Z"
   },
   {
    "duration": 19,
    "start_time": "2022-03-20T07:47:03.029Z"
   },
   {
    "duration": 1013,
    "start_time": "2022-03-20T07:47:13.499Z"
   },
   {
    "duration": 984,
    "start_time": "2022-03-20T07:48:10.380Z"
   },
   {
    "duration": 928,
    "start_time": "2022-03-20T07:48:15.669Z"
   },
   {
    "duration": 1045,
    "start_time": "2022-03-20T07:48:32.385Z"
   },
   {
    "duration": 6,
    "start_time": "2022-03-20T07:48:45.725Z"
   },
   {
    "duration": 1003,
    "start_time": "2022-03-20T07:49:17.258Z"
   },
   {
    "duration": 1371,
    "start_time": "2022-03-20T08:47:33.339Z"
   },
   {
    "duration": 918,
    "start_time": "2022-03-20T08:48:38.153Z"
   },
   {
    "duration": 19,
    "start_time": "2022-03-20T08:48:39.074Z"
   },
   {
    "duration": 12,
    "start_time": "2022-03-20T08:48:39.096Z"
   },
   {
    "duration": 67,
    "start_time": "2022-03-20T08:48:39.111Z"
   },
   {
    "duration": 19,
    "start_time": "2022-03-20T08:48:39.180Z"
   },
   {
    "duration": 61,
    "start_time": "2022-03-20T08:48:39.201Z"
   },
   {
    "duration": 55,
    "start_time": "2022-03-20T08:48:39.265Z"
   },
   {
    "duration": 38,
    "start_time": "2022-03-20T08:48:39.322Z"
   },
   {
    "duration": 31,
    "start_time": "2022-03-20T08:48:39.362Z"
   },
   {
    "duration": 59,
    "start_time": "2022-03-20T08:48:39.397Z"
   },
   {
    "duration": 6,
    "start_time": "2022-03-20T08:48:39.459Z"
   },
   {
    "duration": 1276,
    "start_time": "2022-03-20T08:50:34.555Z"
   },
   {
    "duration": 861,
    "start_time": "2022-03-20T08:50:47.792Z"
   },
   {
    "duration": 18,
    "start_time": "2022-03-20T08:50:48.658Z"
   },
   {
    "duration": 11,
    "start_time": "2022-03-20T08:50:48.678Z"
   },
   {
    "duration": 69,
    "start_time": "2022-03-20T08:50:48.692Z"
   },
   {
    "duration": 15,
    "start_time": "2022-03-20T08:50:48.763Z"
   },
   {
    "duration": 38,
    "start_time": "2022-03-20T08:50:48.780Z"
   },
   {
    "duration": 61,
    "start_time": "2022-03-20T08:50:48.820Z"
   },
   {
    "duration": 33,
    "start_time": "2022-03-20T08:50:48.883Z"
   },
   {
    "duration": 60,
    "start_time": "2022-03-20T08:50:48.918Z"
   },
   {
    "duration": 22,
    "start_time": "2022-03-20T08:50:48.981Z"
   },
   {
    "duration": 9,
    "start_time": "2022-03-20T08:51:09.757Z"
   },
   {
    "duration": 139,
    "start_time": "2022-03-20T08:51:27.772Z"
   },
   {
    "duration": 290,
    "start_time": "2022-03-20T08:52:21.830Z"
   },
   {
    "duration": 237,
    "start_time": "2022-03-20T08:52:45.813Z"
   },
   {
    "duration": 49,
    "start_time": "2022-03-20T08:52:59.522Z"
   },
   {
    "duration": 492,
    "start_time": "2022-03-20T08:53:37.751Z"
   },
   {
    "duration": 437,
    "start_time": "2022-03-20T08:54:02.292Z"
   },
   {
    "duration": 308,
    "start_time": "2022-03-20T08:55:05.157Z"
   },
   {
    "duration": 505,
    "start_time": "2022-03-20T08:56:19.206Z"
   },
   {
    "duration": 397,
    "start_time": "2022-03-20T08:57:44.914Z"
   },
   {
    "duration": 322,
    "start_time": "2022-03-20T08:58:15.009Z"
   },
   {
    "duration": 480,
    "start_time": "2022-03-20T08:59:24.401Z"
   },
   {
    "duration": 446,
    "start_time": "2022-03-20T09:00:41.461Z"
   },
   {
    "duration": 516,
    "start_time": "2022-03-20T09:24:49.175Z"
   },
   {
    "duration": 474,
    "start_time": "2022-03-20T09:25:24.297Z"
   },
   {
    "duration": 504,
    "start_time": "2022-03-20T09:26:29.456Z"
   },
   {
    "duration": 454,
    "start_time": "2022-03-20T09:27:34.276Z"
   },
   {
    "duration": 12,
    "start_time": "2022-03-20T09:29:21.851Z"
   },
   {
    "duration": 299,
    "start_time": "2022-03-20T09:29:41.364Z"
   },
   {
    "duration": 212,
    "start_time": "2022-03-20T09:30:42.610Z"
   },
   {
    "duration": 225,
    "start_time": "2022-03-20T09:31:25.835Z"
   },
   {
    "duration": 15,
    "start_time": "2022-03-20T09:36:16.527Z"
   },
   {
    "duration": 6,
    "start_time": "2022-03-20T09:44:20.293Z"
   },
   {
    "duration": 420,
    "start_time": "2022-03-20T09:48:29.315Z"
   },
   {
    "duration": 278,
    "start_time": "2022-03-20T09:49:07.283Z"
   },
   {
    "duration": 8,
    "start_time": "2022-03-20T09:51:56.642Z"
   },
   {
    "duration": 205,
    "start_time": "2022-03-20T09:55:06.897Z"
   },
   {
    "duration": 9,
    "start_time": "2022-03-20T09:55:34.235Z"
   },
   {
    "duration": 234,
    "start_time": "2022-03-20T09:58:05.740Z"
   },
   {
    "duration": 533,
    "start_time": "2022-03-20T09:59:38.543Z"
   },
   {
    "duration": 502,
    "start_time": "2022-03-20T10:01:02.229Z"
   },
   {
    "duration": 436,
    "start_time": "2022-03-20T10:01:59.980Z"
   },
   {
    "duration": 12,
    "start_time": "2022-03-20T10:05:37.833Z"
   },
   {
    "duration": 12,
    "start_time": "2022-03-20T10:06:16.257Z"
   },
   {
    "duration": 496,
    "start_time": "2022-03-20T10:06:46.678Z"
   },
   {
    "duration": 404,
    "start_time": "2022-03-20T10:06:50.300Z"
   },
   {
    "duration": 470,
    "start_time": "2022-03-20T10:06:51.719Z"
   },
   {
    "duration": 12,
    "start_time": "2022-03-20T10:06:52.192Z"
   },
   {
    "duration": 54,
    "start_time": "2022-03-20T10:06:52.600Z"
   },
   {
    "duration": 19,
    "start_time": "2022-03-20T10:10:33.600Z"
   },
   {
    "duration": 3817,
    "start_time": "2022-03-20T10:10:56.733Z"
   },
   {
    "duration": 15,
    "start_time": "2022-03-20T10:12:30.668Z"
   },
   {
    "duration": 15,
    "start_time": "2022-03-20T10:12:43.192Z"
   },
   {
    "duration": 7,
    "start_time": "2022-03-20T10:12:46.505Z"
   },
   {
    "duration": 4033,
    "start_time": "2022-03-20T10:14:02.432Z"
   },
   {
    "duration": 13,
    "start_time": "2022-03-20T10:14:25.175Z"
   },
   {
    "duration": 35,
    "start_time": "2022-03-20T10:14:26.650Z"
   },
   {
    "duration": 3975,
    "start_time": "2022-03-20T10:15:05.333Z"
   },
   {
    "duration": 23,
    "start_time": "2022-03-20T10:15:31.525Z"
   },
   {
    "duration": 346,
    "start_time": "2022-03-20T10:28:15.426Z"
   },
   {
    "duration": 236,
    "start_time": "2022-03-20T10:29:00.860Z"
   },
   {
    "duration": 278,
    "start_time": "2022-03-20T10:29:27.237Z"
   },
   {
    "duration": 7,
    "start_time": "2022-03-20T10:29:48.130Z"
   },
   {
    "duration": 6,
    "start_time": "2022-03-20T10:29:59.970Z"
   },
   {
    "duration": 1632,
    "start_time": "2022-03-21T05:42:45.846Z"
   },
   {
    "duration": 18,
    "start_time": "2022-03-21T05:42:47.481Z"
   },
   {
    "duration": 4,
    "start_time": "2022-03-21T05:42:47.501Z"
   },
   {
    "duration": 61,
    "start_time": "2022-03-21T05:42:47.508Z"
   },
   {
    "duration": 15,
    "start_time": "2022-03-21T05:42:47.573Z"
   },
   {
    "duration": 17,
    "start_time": "2022-03-21T05:42:47.590Z"
   },
   {
    "duration": 57,
    "start_time": "2022-03-21T05:42:47.609Z"
   },
   {
    "duration": 33,
    "start_time": "2022-03-21T05:42:47.668Z"
   },
   {
    "duration": 28,
    "start_time": "2022-03-21T05:42:47.704Z"
   },
   {
    "duration": 21,
    "start_time": "2022-03-21T05:42:47.767Z"
   },
   {
    "duration": 12,
    "start_time": "2022-03-21T05:42:47.790Z"
   },
   {
    "duration": 288,
    "start_time": "2022-03-21T05:42:47.804Z"
   },
   {
    "duration": 221,
    "start_time": "2022-03-21T05:42:48.095Z"
   },
   {
    "duration": 476,
    "start_time": "2022-03-21T05:42:48.321Z"
   },
   {
    "duration": 396,
    "start_time": "2022-03-21T05:42:48.799Z"
   },
   {
    "duration": 273,
    "start_time": "2022-03-21T05:42:49.197Z"
   },
   {
    "duration": 386,
    "start_time": "2022-03-21T05:42:49.472Z"
   },
   {
    "duration": 421,
    "start_time": "2022-03-21T05:42:49.860Z"
   },
   {
    "duration": 0,
    "start_time": "2022-03-21T05:42:50.284Z"
   },
   {
    "duration": 0,
    "start_time": "2022-03-21T05:42:50.286Z"
   },
   {
    "duration": 0,
    "start_time": "2022-03-21T05:42:50.287Z"
   },
   {
    "duration": 0,
    "start_time": "2022-03-21T05:42:50.289Z"
   },
   {
    "duration": 0,
    "start_time": "2022-03-21T05:42:50.291Z"
   },
   {
    "duration": 0,
    "start_time": "2022-03-21T05:42:50.293Z"
   },
   {
    "duration": 0,
    "start_time": "2022-03-21T05:42:50.295Z"
   },
   {
    "duration": 0,
    "start_time": "2022-03-21T05:42:50.297Z"
   },
   {
    "duration": 0,
    "start_time": "2022-03-21T05:42:50.298Z"
   },
   {
    "duration": 0,
    "start_time": "2022-03-21T05:42:50.300Z"
   },
   {
    "duration": 0,
    "start_time": "2022-03-21T05:42:50.302Z"
   },
   {
    "duration": 0,
    "start_time": "2022-03-21T05:42:50.303Z"
   },
   {
    "duration": 0,
    "start_time": "2022-03-21T05:42:50.305Z"
   },
   {
    "duration": 0,
    "start_time": "2022-03-21T05:42:50.307Z"
   },
   {
    "duration": 0,
    "start_time": "2022-03-21T05:42:50.308Z"
   },
   {
    "duration": 0,
    "start_time": "2022-03-21T05:42:50.310Z"
   },
   {
    "duration": 0,
    "start_time": "2022-03-21T05:42:50.311Z"
   },
   {
    "duration": 4,
    "start_time": "2022-03-21T05:43:19.267Z"
   },
   {
    "duration": 4,
    "start_time": "2022-03-21T05:43:23.026Z"
   },
   {
    "duration": 12,
    "start_time": "2022-03-21T05:43:23.046Z"
   },
   {
    "duration": 4,
    "start_time": "2022-03-21T05:43:23.061Z"
   },
   {
    "duration": 31,
    "start_time": "2022-03-21T05:43:23.068Z"
   },
   {
    "duration": 14,
    "start_time": "2022-03-21T05:43:23.102Z"
   },
   {
    "duration": 54,
    "start_time": "2022-03-21T05:43:23.118Z"
   },
   {
    "duration": 44,
    "start_time": "2022-03-21T05:43:23.174Z"
   },
   {
    "duration": 32,
    "start_time": "2022-03-21T05:43:23.221Z"
   },
   {
    "duration": 37,
    "start_time": "2022-03-21T05:43:23.256Z"
   },
   {
    "duration": 20,
    "start_time": "2022-03-21T05:43:23.295Z"
   },
   {
    "duration": 10,
    "start_time": "2022-03-21T05:43:23.318Z"
   },
   {
    "duration": 309,
    "start_time": "2022-03-21T05:43:23.330Z"
   },
   {
    "duration": 228,
    "start_time": "2022-03-21T05:43:23.641Z"
   },
   {
    "duration": 481,
    "start_time": "2022-03-21T05:43:23.871Z"
   },
   {
    "duration": 280,
    "start_time": "2022-03-21T05:43:24.354Z"
   },
   {
    "duration": 266,
    "start_time": "2022-03-21T05:43:24.637Z"
   },
   {
    "duration": 348,
    "start_time": "2022-03-21T05:43:24.905Z"
   },
   {
    "duration": 275,
    "start_time": "2022-03-21T05:43:25.255Z"
   },
   {
    "duration": 479,
    "start_time": "2022-03-21T05:43:25.533Z"
   },
   {
    "duration": 1,
    "start_time": "2022-03-21T05:43:26.014Z"
   },
   {
    "duration": 0,
    "start_time": "2022-03-21T05:43:26.016Z"
   },
   {
    "duration": 0,
    "start_time": "2022-03-21T05:43:26.018Z"
   },
   {
    "duration": 0,
    "start_time": "2022-03-21T05:43:26.019Z"
   },
   {
    "duration": 0,
    "start_time": "2022-03-21T05:43:26.020Z"
   },
   {
    "duration": 0,
    "start_time": "2022-03-21T05:43:26.021Z"
   },
   {
    "duration": 0,
    "start_time": "2022-03-21T05:43:26.023Z"
   },
   {
    "duration": 0,
    "start_time": "2022-03-21T05:43:26.024Z"
   },
   {
    "duration": 0,
    "start_time": "2022-03-21T05:43:26.025Z"
   },
   {
    "duration": 0,
    "start_time": "2022-03-21T05:43:26.027Z"
   },
   {
    "duration": 0,
    "start_time": "2022-03-21T05:43:26.028Z"
   },
   {
    "duration": 0,
    "start_time": "2022-03-21T05:43:26.029Z"
   },
   {
    "duration": 0,
    "start_time": "2022-03-21T05:43:26.031Z"
   },
   {
    "duration": 0,
    "start_time": "2022-03-21T05:43:26.033Z"
   },
   {
    "duration": 0,
    "start_time": "2022-03-21T05:43:26.068Z"
   },
   {
    "duration": 0,
    "start_time": "2022-03-21T05:43:26.070Z"
   },
   {
    "duration": 405,
    "start_time": "2022-03-21T05:44:28.698Z"
   },
   {
    "duration": 455,
    "start_time": "2022-03-21T05:44:44.706Z"
   },
   {
    "duration": 407,
    "start_time": "2022-03-21T05:45:23.910Z"
   },
   {
    "duration": 399,
    "start_time": "2022-03-21T05:45:30.639Z"
   },
   {
    "duration": 447,
    "start_time": "2022-03-21T06:05:27.779Z"
   },
   {
    "duration": 1455,
    "start_time": "2022-03-21T06:05:35.021Z"
   },
   {
    "duration": 40,
    "start_time": "2022-03-21T06:05:36.479Z"
   },
   {
    "duration": 5,
    "start_time": "2022-03-21T06:05:36.521Z"
   },
   {
    "duration": 52,
    "start_time": "2022-03-21T06:05:36.528Z"
   },
   {
    "duration": 31,
    "start_time": "2022-03-21T06:05:36.583Z"
   },
   {
    "duration": 59,
    "start_time": "2022-03-21T06:05:36.616Z"
   },
   {
    "duration": 20,
    "start_time": "2022-03-21T06:05:36.677Z"
   },
   {
    "duration": 23,
    "start_time": "2022-03-21T06:05:36.699Z"
   },
   {
    "duration": 22,
    "start_time": "2022-03-21T06:05:36.724Z"
   },
   {
    "duration": 27,
    "start_time": "2022-03-21T06:05:36.748Z"
   },
   {
    "duration": 394,
    "start_time": "2022-03-21T06:05:36.777Z"
   },
   {
    "duration": 228,
    "start_time": "2022-03-21T06:05:37.173Z"
   },
   {
    "duration": 574,
    "start_time": "2022-03-21T06:05:37.404Z"
   },
   {
    "duration": 423,
    "start_time": "2022-03-21T06:05:37.983Z"
   },
   {
    "duration": 284,
    "start_time": "2022-03-21T06:05:38.409Z"
   },
   {
    "duration": 341,
    "start_time": "2022-03-21T06:05:38.695Z"
   },
   {
    "duration": 281,
    "start_time": "2022-03-21T06:05:39.039Z"
   },
   {
    "duration": 401,
    "start_time": "2022-03-21T06:05:39.322Z"
   },
   {
    "duration": 232,
    "start_time": "2022-03-21T06:05:39.726Z"
   },
   {
    "duration": 267,
    "start_time": "2022-03-21T06:05:39.968Z"
   },
   {
    "duration": 202,
    "start_time": "2022-03-21T06:05:40.237Z"
   },
   {
    "duration": 7,
    "start_time": "2022-03-21T06:05:40.441Z"
   },
   {
    "duration": 223,
    "start_time": "2022-03-21T06:05:40.451Z"
   },
   {
    "duration": 6,
    "start_time": "2022-03-21T06:05:40.677Z"
   },
   {
    "duration": 387,
    "start_time": "2022-03-21T06:05:40.685Z"
   },
   {
    "duration": 331,
    "start_time": "2022-03-21T06:05:41.075Z"
   },
   {
    "duration": 9,
    "start_time": "2022-03-21T06:05:41.408Z"
   },
   {
    "duration": 28,
    "start_time": "2022-03-21T06:05:41.419Z"
   },
   {
    "duration": 15,
    "start_time": "2022-03-21T06:05:41.467Z"
   },
   {
    "duration": 14,
    "start_time": "2022-03-21T06:05:41.484Z"
   },
   {
    "duration": 15,
    "start_time": "2022-03-21T06:05:41.500Z"
   },
   {
    "duration": 12,
    "start_time": "2022-03-21T06:05:41.517Z"
   },
   {
    "duration": 60,
    "start_time": "2022-03-21T06:05:41.530Z"
   },
   {
    "duration": 19,
    "start_time": "2022-03-21T06:05:41.592Z"
   },
   {
    "duration": 14,
    "start_time": "2022-03-21T06:08:54.945Z"
   },
   {
    "duration": 5,
    "start_time": "2022-03-21T06:09:40.382Z"
   },
   {
    "duration": 1318,
    "start_time": "2022-03-21T06:09:48.050Z"
   },
   {
    "duration": 43,
    "start_time": "2022-03-21T06:09:49.371Z"
   },
   {
    "duration": 5,
    "start_time": "2022-03-21T06:09:49.416Z"
   },
   {
    "duration": 71,
    "start_time": "2022-03-21T06:09:49.424Z"
   },
   {
    "duration": 29,
    "start_time": "2022-03-21T06:09:49.497Z"
   },
   {
    "duration": 53,
    "start_time": "2022-03-21T06:09:49.528Z"
   },
   {
    "duration": 22,
    "start_time": "2022-03-21T06:09:49.583Z"
   },
   {
    "duration": 19,
    "start_time": "2022-03-21T06:09:49.608Z"
   },
   {
    "duration": 41,
    "start_time": "2022-03-21T06:09:49.629Z"
   },
   {
    "duration": 7,
    "start_time": "2022-03-21T06:09:49.674Z"
   },
   {
    "duration": 286,
    "start_time": "2022-03-21T06:09:49.683Z"
   },
   {
    "duration": 228,
    "start_time": "2022-03-21T06:09:49.971Z"
   },
   {
    "duration": 479,
    "start_time": "2022-03-21T06:09:50.201Z"
   },
   {
    "duration": 414,
    "start_time": "2022-03-21T06:09:50.682Z"
   },
   {
    "duration": 274,
    "start_time": "2022-03-21T06:09:51.098Z"
   },
   {
    "duration": 360,
    "start_time": "2022-03-21T06:09:51.375Z"
   },
   {
    "duration": 287,
    "start_time": "2022-03-21T06:09:51.737Z"
   },
   {
    "duration": 385,
    "start_time": "2022-03-21T06:09:52.027Z"
   },
   {
    "duration": 230,
    "start_time": "2022-03-21T06:09:52.415Z"
   },
   {
    "duration": 243,
    "start_time": "2022-03-21T06:09:52.647Z"
   },
   {
    "duration": 208,
    "start_time": "2022-03-21T06:09:52.892Z"
   },
   {
    "duration": 6,
    "start_time": "2022-03-21T06:09:53.102Z"
   },
   {
    "duration": 222,
    "start_time": "2022-03-21T06:09:53.111Z"
   },
   {
    "duration": 6,
    "start_time": "2022-03-21T06:09:53.336Z"
   },
   {
    "duration": 406,
    "start_time": "2022-03-21T06:09:53.345Z"
   },
   {
    "duration": 278,
    "start_time": "2022-03-21T06:09:53.753Z"
   },
   {
    "duration": 9,
    "start_time": "2022-03-21T06:09:54.033Z"
   },
   {
    "duration": 45,
    "start_time": "2022-03-21T06:09:54.048Z"
   },
   {
    "duration": 16,
    "start_time": "2022-03-21T06:09:54.095Z"
   },
   {
    "duration": 15,
    "start_time": "2022-03-21T06:09:54.114Z"
   },
   {
    "duration": 39,
    "start_time": "2022-03-21T06:09:54.131Z"
   },
   {
    "duration": 11,
    "start_time": "2022-03-21T06:09:54.172Z"
   },
   {
    "duration": 27,
    "start_time": "2022-03-21T06:09:54.186Z"
   },
   {
    "duration": 52,
    "start_time": "2022-03-21T06:09:54.215Z"
   },
   {
    "duration": 15,
    "start_time": "2022-03-21T06:34:33.501Z"
   },
   {
    "duration": 14,
    "start_time": "2022-03-21T06:34:48.851Z"
   },
   {
    "duration": 609,
    "start_time": "2022-03-21T06:52:05.953Z"
   },
   {
    "duration": 1330,
    "start_time": "2022-03-21T06:53:35.748Z"
   },
   {
    "duration": 63,
    "start_time": "2022-03-21T06:53:37.081Z"
   },
   {
    "duration": 6,
    "start_time": "2022-03-21T06:53:37.146Z"
   },
   {
    "duration": 41,
    "start_time": "2022-03-21T06:53:37.154Z"
   },
   {
    "duration": 30,
    "start_time": "2022-03-21T06:53:37.199Z"
   },
   {
    "duration": 61,
    "start_time": "2022-03-21T06:53:37.232Z"
   },
   {
    "duration": 21,
    "start_time": "2022-03-21T06:53:37.295Z"
   },
   {
    "duration": 623,
    "start_time": "2022-03-21T06:53:37.318Z"
   },
   {
    "duration": 53,
    "start_time": "2022-03-21T06:53:51.106Z"
   },
   {
    "duration": 501,
    "start_time": "2022-03-21T06:54:36.512Z"
   },
   {
    "duration": 7,
    "start_time": "2022-03-21T07:03:08.357Z"
   },
   {
    "duration": 20,
    "start_time": "2022-03-21T07:04:21.881Z"
   },
   {
    "duration": 14,
    "start_time": "2022-03-21T07:04:30.435Z"
   },
   {
    "duration": 21,
    "start_time": "2022-03-21T07:04:34.797Z"
   },
   {
    "duration": 22,
    "start_time": "2022-03-21T07:05:03.588Z"
   },
   {
    "duration": 20,
    "start_time": "2022-03-21T07:07:36.217Z"
   },
   {
    "duration": 492,
    "start_time": "2022-03-21T07:31:28.423Z"
   },
   {
    "duration": 481,
    "start_time": "2022-03-21T07:33:32.860Z"
   },
   {
    "duration": 5,
    "start_time": "2022-03-21T07:46:41.076Z"
   },
   {
    "duration": 79,
    "start_time": "2022-03-21T07:46:41.084Z"
   },
   {
    "duration": 6,
    "start_time": "2022-03-21T07:46:41.165Z"
   },
   {
    "duration": 40,
    "start_time": "2022-03-21T07:46:41.174Z"
   },
   {
    "duration": 68,
    "start_time": "2022-03-21T07:46:41.217Z"
   },
   {
    "duration": 32,
    "start_time": "2022-03-21T07:46:41.288Z"
   },
   {
    "duration": 60,
    "start_time": "2022-03-21T07:46:41.322Z"
   },
   {
    "duration": 7,
    "start_time": "2022-03-21T07:46:41.384Z"
   },
   {
    "duration": 22,
    "start_time": "2022-03-21T07:46:41.393Z"
   },
   {
    "duration": 11,
    "start_time": "2022-03-21T07:46:41.417Z"
   },
   {
    "duration": 47,
    "start_time": "2022-03-21T07:46:41.430Z"
   },
   {
    "duration": 17,
    "start_time": "2022-03-21T07:46:41.479Z"
   },
   {
    "duration": 12,
    "start_time": "2022-03-21T07:46:41.498Z"
   },
   {
    "duration": 342,
    "start_time": "2022-03-21T07:46:41.516Z"
   },
   {
    "duration": 224,
    "start_time": "2022-03-21T07:46:41.866Z"
   },
   {
    "duration": 503,
    "start_time": "2022-03-21T07:46:42.093Z"
   },
   {
    "duration": 338,
    "start_time": "2022-03-21T07:46:42.598Z"
   },
   {
    "duration": 292,
    "start_time": "2022-03-21T07:46:42.938Z"
   },
   {
    "duration": 397,
    "start_time": "2022-03-21T07:46:43.233Z"
   },
   {
    "duration": 323,
    "start_time": "2022-03-21T07:46:43.632Z"
   },
   {
    "duration": 400,
    "start_time": "2022-03-21T07:46:43.957Z"
   },
   {
    "duration": 242,
    "start_time": "2022-03-21T07:46:44.360Z"
   },
   {
    "duration": 303,
    "start_time": "2022-03-21T07:46:44.605Z"
   },
   {
    "duration": 237,
    "start_time": "2022-03-21T07:46:44.911Z"
   },
   {
    "duration": 20,
    "start_time": "2022-03-21T07:46:45.150Z"
   },
   {
    "duration": 400,
    "start_time": "2022-03-21T07:46:45.173Z"
   },
   {
    "duration": 8,
    "start_time": "2022-03-21T07:46:45.575Z"
   },
   {
    "duration": 407,
    "start_time": "2022-03-21T07:46:45.586Z"
   },
   {
    "duration": 279,
    "start_time": "2022-03-21T07:46:45.996Z"
   },
   {
    "duration": 9,
    "start_time": "2022-03-21T07:46:46.277Z"
   },
   {
    "duration": 37,
    "start_time": "2022-03-21T07:46:46.288Z"
   },
   {
    "duration": 14,
    "start_time": "2022-03-21T07:46:46.327Z"
   },
   {
    "duration": 39,
    "start_time": "2022-03-21T07:46:46.343Z"
   },
   {
    "duration": 8,
    "start_time": "2022-03-21T07:46:46.384Z"
   },
   {
    "duration": 13,
    "start_time": "2022-03-21T07:46:46.394Z"
   },
   {
    "duration": 60,
    "start_time": "2022-03-21T07:46:46.409Z"
   },
   {
    "duration": 21,
    "start_time": "2022-03-21T07:46:46.472Z"
   },
   {
    "duration": 297,
    "start_time": "2022-03-21T07:51:04.985Z"
   },
   {
    "duration": 437,
    "start_time": "2022-03-21T07:55:38.159Z"
   },
   {
    "duration": 435,
    "start_time": "2022-03-21T07:56:11.342Z"
   },
   {
    "duration": 309,
    "start_time": "2022-03-21T08:05:21.233Z"
   },
   {
    "duration": 309,
    "start_time": "2022-03-21T08:05:36.809Z"
   },
   {
    "duration": 307,
    "start_time": "2022-03-21T08:05:45.105Z"
   },
   {
    "duration": 425,
    "start_time": "2022-03-21T08:26:33.533Z"
   },
   {
    "duration": 237,
    "start_time": "2022-03-21T08:28:29.604Z"
   },
   {
    "duration": 356,
    "start_time": "2022-03-21T08:32:44.783Z"
   },
   {
    "duration": 263,
    "start_time": "2022-03-21T08:33:07.625Z"
   },
   {
    "duration": 44,
    "start_time": "2022-03-21T08:50:13.374Z"
   },
   {
    "duration": 35,
    "start_time": "2022-03-21T08:50:19.831Z"
   },
   {
    "duration": 35,
    "start_time": "2022-03-21T08:50:25.310Z"
   },
   {
    "duration": 32,
    "start_time": "2022-03-21T08:51:48.237Z"
   },
   {
    "duration": 15,
    "start_time": "2022-03-21T08:54:36.086Z"
   },
   {
    "duration": 14,
    "start_time": "2022-03-21T09:00:49.373Z"
   },
   {
    "duration": 5,
    "start_time": "2022-03-21T09:00:51.517Z"
   },
   {
    "duration": 7,
    "start_time": "2022-03-21T09:01:39.524Z"
   },
   {
    "duration": 12,
    "start_time": "2022-03-21T09:02:17.714Z"
   },
   {
    "duration": 6,
    "start_time": "2022-03-21T09:02:22.164Z"
   },
   {
    "duration": 9,
    "start_time": "2022-03-21T09:02:33.172Z"
   },
   {
    "duration": 8,
    "start_time": "2022-03-21T09:02:40.213Z"
   },
   {
    "duration": 15,
    "start_time": "2022-03-21T09:03:12.724Z"
   },
   {
    "duration": 6,
    "start_time": "2022-03-21T09:03:13.708Z"
   },
   {
    "duration": 30,
    "start_time": "2022-03-21T09:04:19.839Z"
   },
   {
    "duration": 20,
    "start_time": "2022-03-21T09:06:00.390Z"
   },
   {
    "duration": 109,
    "start_time": "2022-03-21T09:31:23.510Z"
   },
   {
    "duration": 1304,
    "start_time": "2022-03-22T05:36:09.383Z"
   },
   {
    "duration": 112,
    "start_time": "2022-03-22T05:36:10.689Z"
   },
   {
    "duration": 4,
    "start_time": "2022-03-22T05:36:10.802Z"
   },
   {
    "duration": 36,
    "start_time": "2022-03-22T05:36:10.807Z"
   },
   {
    "duration": 22,
    "start_time": "2022-03-22T05:36:10.846Z"
   },
   {
    "duration": 20,
    "start_time": "2022-03-22T05:36:10.869Z"
   },
   {
    "duration": 43,
    "start_time": "2022-03-22T05:36:10.891Z"
   },
   {
    "duration": 11,
    "start_time": "2022-03-22T05:36:10.936Z"
   },
   {
    "duration": 17,
    "start_time": "2022-03-22T05:36:10.949Z"
   },
   {
    "duration": 8,
    "start_time": "2022-03-22T05:36:10.967Z"
   },
   {
    "duration": 15,
    "start_time": "2022-03-22T05:36:10.977Z"
   },
   {
    "duration": 39,
    "start_time": "2022-03-22T05:36:10.994Z"
   },
   {
    "duration": 7,
    "start_time": "2022-03-22T05:36:11.035Z"
   },
   {
    "duration": 187,
    "start_time": "2022-03-22T05:36:11.047Z"
   },
   {
    "duration": 141,
    "start_time": "2022-03-22T05:36:11.236Z"
   },
   {
    "duration": 299,
    "start_time": "2022-03-22T05:36:11.378Z"
   },
   {
    "duration": 291,
    "start_time": "2022-03-22T05:36:11.679Z"
   },
   {
    "duration": 208,
    "start_time": "2022-03-22T05:36:11.972Z"
   },
   {
    "duration": 369,
    "start_time": "2022-03-22T05:36:12.182Z"
   },
   {
    "duration": 218,
    "start_time": "2022-03-22T05:36:12.553Z"
   },
   {
    "duration": 291,
    "start_time": "2022-03-22T05:36:12.773Z"
   },
   {
    "duration": 100,
    "start_time": "2022-03-22T05:36:13.066Z"
   },
   {
    "duration": 0,
    "start_time": "2022-03-22T05:36:13.167Z"
   },
   {
    "duration": 0,
    "start_time": "2022-03-22T05:36:13.168Z"
   },
   {
    "duration": 0,
    "start_time": "2022-03-22T05:36:13.169Z"
   },
   {
    "duration": 0,
    "start_time": "2022-03-22T05:36:13.171Z"
   },
   {
    "duration": 0,
    "start_time": "2022-03-22T05:36:13.172Z"
   },
   {
    "duration": 0,
    "start_time": "2022-03-22T05:36:13.173Z"
   },
   {
    "duration": 0,
    "start_time": "2022-03-22T05:36:13.174Z"
   },
   {
    "duration": 0,
    "start_time": "2022-03-22T05:36:13.175Z"
   },
   {
    "duration": 0,
    "start_time": "2022-03-22T05:36:13.177Z"
   },
   {
    "duration": 0,
    "start_time": "2022-03-22T05:36:13.178Z"
   },
   {
    "duration": 0,
    "start_time": "2022-03-22T05:36:13.179Z"
   },
   {
    "duration": 0,
    "start_time": "2022-03-22T05:36:13.180Z"
   },
   {
    "duration": 0,
    "start_time": "2022-03-22T05:36:13.181Z"
   },
   {
    "duration": 0,
    "start_time": "2022-03-22T05:36:13.183Z"
   },
   {
    "duration": 47,
    "start_time": "2022-03-22T07:00:56.298Z"
   },
   {
    "duration": 1361,
    "start_time": "2022-03-22T07:01:01.540Z"
   },
   {
    "duration": 36,
    "start_time": "2022-03-22T07:01:02.904Z"
   },
   {
    "duration": 4,
    "start_time": "2022-03-22T07:01:02.942Z"
   },
   {
    "duration": 60,
    "start_time": "2022-03-22T07:01:02.947Z"
   },
   {
    "duration": 21,
    "start_time": "2022-03-22T07:01:03.009Z"
   },
   {
    "duration": 33,
    "start_time": "2022-03-22T07:01:03.031Z"
   },
   {
    "duration": 14,
    "start_time": "2022-03-22T07:01:03.065Z"
   },
   {
    "duration": 38,
    "start_time": "2022-03-22T07:01:03.081Z"
   },
   {
    "duration": 29,
    "start_time": "2022-03-22T07:01:03.120Z"
   },
   {
    "duration": 21,
    "start_time": "2022-03-22T07:01:03.151Z"
   },
   {
    "duration": 52,
    "start_time": "2022-03-22T07:01:03.174Z"
   },
   {
    "duration": 42,
    "start_time": "2022-03-22T07:01:03.228Z"
   },
   {
    "duration": 30,
    "start_time": "2022-03-22T07:01:03.272Z"
   },
   {
    "duration": 174,
    "start_time": "2022-03-22T07:01:03.305Z"
   },
   {
    "duration": 128,
    "start_time": "2022-03-22T07:01:03.481Z"
   },
   {
    "duration": 278,
    "start_time": "2022-03-22T07:01:03.610Z"
   },
   {
    "duration": 268,
    "start_time": "2022-03-22T07:01:03.890Z"
   },
   {
    "duration": 185,
    "start_time": "2022-03-22T07:01:04.160Z"
   },
   {
    "duration": 361,
    "start_time": "2022-03-22T07:01:04.347Z"
   },
   {
    "duration": 182,
    "start_time": "2022-03-22T07:01:04.710Z"
   },
   {
    "duration": 254,
    "start_time": "2022-03-22T07:01:04.893Z"
   },
   {
    "duration": 99,
    "start_time": "2022-03-22T07:01:05.149Z"
   },
   {
    "duration": 0,
    "start_time": "2022-03-22T07:01:05.249Z"
   },
   {
    "duration": 0,
    "start_time": "2022-03-22T07:01:05.251Z"
   },
   {
    "duration": 0,
    "start_time": "2022-03-22T07:01:05.252Z"
   },
   {
    "duration": 0,
    "start_time": "2022-03-22T07:01:05.254Z"
   },
   {
    "duration": 0,
    "start_time": "2022-03-22T07:01:05.263Z"
   },
   {
    "duration": 0,
    "start_time": "2022-03-22T07:01:05.264Z"
   },
   {
    "duration": 0,
    "start_time": "2022-03-22T07:01:05.265Z"
   },
   {
    "duration": 0,
    "start_time": "2022-03-22T07:01:05.267Z"
   },
   {
    "duration": 0,
    "start_time": "2022-03-22T07:01:05.268Z"
   },
   {
    "duration": 0,
    "start_time": "2022-03-22T07:01:05.270Z"
   },
   {
    "duration": 0,
    "start_time": "2022-03-22T07:01:05.271Z"
   },
   {
    "duration": 1,
    "start_time": "2022-03-22T07:01:05.272Z"
   },
   {
    "duration": 0,
    "start_time": "2022-03-22T07:01:05.274Z"
   },
   {
    "duration": 0,
    "start_time": "2022-03-22T07:01:05.275Z"
   },
   {
    "duration": 0,
    "start_time": "2022-03-22T07:01:05.277Z"
   },
   {
    "duration": 114,
    "start_time": "2022-03-22T07:01:19.420Z"
   },
   {
    "duration": 118,
    "start_time": "2022-03-22T07:01:21.936Z"
   },
   {
    "duration": 1151,
    "start_time": "2022-03-23T14:43:48.643Z"
   },
   {
    "duration": 33,
    "start_time": "2022-03-23T14:43:49.798Z"
   },
   {
    "duration": 4,
    "start_time": "2022-03-23T14:43:49.833Z"
   },
   {
    "duration": 27,
    "start_time": "2022-03-23T14:43:49.840Z"
   },
   {
    "duration": 20,
    "start_time": "2022-03-23T14:43:49.869Z"
   },
   {
    "duration": 18,
    "start_time": "2022-03-23T14:43:49.891Z"
   },
   {
    "duration": 13,
    "start_time": "2022-03-23T14:43:49.911Z"
   },
   {
    "duration": 43,
    "start_time": "2022-03-23T14:43:49.925Z"
   },
   {
    "duration": 18,
    "start_time": "2022-03-23T14:43:49.969Z"
   },
   {
    "duration": 7,
    "start_time": "2022-03-23T14:43:49.990Z"
   },
   {
    "duration": 18,
    "start_time": "2022-03-23T14:43:49.998Z"
   },
   {
    "duration": 18,
    "start_time": "2022-03-23T14:43:50.018Z"
   },
   {
    "duration": 9,
    "start_time": "2022-03-23T14:43:50.038Z"
   },
   {
    "duration": 169,
    "start_time": "2022-03-23T14:43:50.048Z"
   },
   {
    "duration": 120,
    "start_time": "2022-03-23T14:43:50.219Z"
   },
   {
    "duration": 278,
    "start_time": "2022-03-23T14:43:50.341Z"
   },
   {
    "duration": 262,
    "start_time": "2022-03-23T14:43:50.621Z"
   },
   {
    "duration": 185,
    "start_time": "2022-03-23T14:43:50.885Z"
   },
   {
    "duration": 305,
    "start_time": "2022-03-23T14:43:51.072Z"
   },
   {
    "duration": 186,
    "start_time": "2022-03-23T14:43:51.379Z"
   },
   {
    "duration": 271,
    "start_time": "2022-03-23T14:43:51.567Z"
   },
   {
    "duration": 120,
    "start_time": "2022-03-23T14:43:51.840Z"
   },
   {
    "duration": 115,
    "start_time": "2022-03-23T14:43:51.962Z"
   },
   {
    "duration": 138,
    "start_time": "2022-03-23T14:43:52.079Z"
   },
   {
    "duration": 5,
    "start_time": "2022-03-23T14:43:52.218Z"
   },
   {
    "duration": 139,
    "start_time": "2022-03-23T14:43:52.224Z"
   },
   {
    "duration": 5,
    "start_time": "2022-03-23T14:43:52.364Z"
   },
   {
    "duration": 230,
    "start_time": "2022-03-23T14:43:52.372Z"
   },
   {
    "duration": 128,
    "start_time": "2022-03-23T14:43:52.603Z"
   },
   {
    "duration": 7,
    "start_time": "2022-03-23T14:43:52.733Z"
   },
   {
    "duration": 36,
    "start_time": "2022-03-23T14:43:52.741Z"
   },
   {
    "duration": 11,
    "start_time": "2022-03-23T14:43:52.779Z"
   },
   {
    "duration": 13,
    "start_time": "2022-03-23T14:43:52.791Z"
   },
   {
    "duration": 16,
    "start_time": "2022-03-23T14:43:52.806Z"
   },
   {
    "duration": 10,
    "start_time": "2022-03-23T14:43:52.824Z"
   },
   {
    "duration": 34,
    "start_time": "2022-03-23T14:43:52.836Z"
   },
   {
    "duration": 14,
    "start_time": "2022-03-23T14:43:52.872Z"
   }
  ],
  "kernelspec": {
   "display_name": "Python 3 (ipykernel)",
   "language": "python",
   "name": "python3"
  },
  "language_info": {
   "codemirror_mode": {
    "name": "ipython",
    "version": 3
   },
   "file_extension": ".py",
   "mimetype": "text/x-python",
   "name": "python",
   "nbconvert_exporter": "python",
   "pygments_lexer": "ipython3",
   "version": "3.7.8"
  },
  "toc": {
   "base_numbering": 1,
   "nav_menu": {},
   "number_sections": true,
   "sideBar": true,
   "skip_h1_title": true,
   "title_cell": "Table of Contents",
   "title_sidebar": "Contents",
   "toc_cell": false,
   "toc_position": {},
   "toc_section_display": true,
   "toc_window_display": true
  }
 },
 "nbformat": 4,
 "nbformat_minor": 2
}
