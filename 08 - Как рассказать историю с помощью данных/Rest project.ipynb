{
 "cells": [
  {
   "cell_type": "markdown",
   "id": "f53f4ecb",
   "metadata": {
    "toc": true
   },
   "source": [
    "<h1>Table of Contents<span class=\"tocSkip\"></span></h1>\n",
    "<div class=\"toc\"><ul class=\"toc-item\"><li><span><a href=\"#Загрузка-и-подготовка-данных\" data-toc-modified-id=\"Загрузка-и-подготовка-данных-1\"><span class=\"toc-item-num\">1&nbsp;&nbsp;</span>Загрузка и подготовка данных</a></span><ul class=\"toc-item\"><li><span><a href=\"#Общая-информация-о-данных\" data-toc-modified-id=\"Общая-информация-о-данных-1.1\"><span class=\"toc-item-num\">1.1&nbsp;&nbsp;</span>Общая информация о данных</a></span></li><li><span><a href=\"#Поиск-дубликатов\" data-toc-modified-id=\"Поиск-дубликатов-1.2\"><span class=\"toc-item-num\">1.2&nbsp;&nbsp;</span>Поиск дубликатов</a></span></li><li><span><a href=\"#Вывод\" data-toc-modified-id=\"Вывод-1.3\"><span class=\"toc-item-num\">1.3&nbsp;&nbsp;</span>Вывод</a></span></li></ul></li><li><span><a href=\"#Анализ-данных\" data-toc-modified-id=\"Анализ-данных-2\"><span class=\"toc-item-num\">2&nbsp;&nbsp;</span>Анализ данных</a></span><ul class=\"toc-item\"><li><span><a href=\"#Соотношение-видов-ООП-по-количеству\" data-toc-modified-id=\"Соотношение-видов-ООП-по-количеству-2.1\"><span class=\"toc-item-num\">2.1&nbsp;&nbsp;</span>Соотношение видов ООП по количеству</a></span></li><li><span><a href=\"#Соотношение-сетевых-и-несетевых-заведений-по-количеству\" data-toc-modified-id=\"Соотношение-сетевых-и-несетевых-заведений-по-количеству-2.2\"><span class=\"toc-item-num\">2.2&nbsp;&nbsp;</span>Соотношение сетевых и несетевых заведений по количеству</a></span></li><li><span><a href=\"#Для-какого-вида-ООП-характерно-сетевое-распространение\" data-toc-modified-id=\"Для-какого-вида-ООП-характерно-сетевое-распространение-2.3\"><span class=\"toc-item-num\">2.3&nbsp;&nbsp;</span>Для какого вида ООП характерно сетевое распространение</a></span></li><li><span><a href=\"#Характерные-черты-сетевых-заведений-по-количеству-посадочных-мест\" data-toc-modified-id=\"Характерные-черты-сетевых-заведений-по-количеству-посадочных-мест-2.4\"><span class=\"toc-item-num\">2.4&nbsp;&nbsp;</span>Характерные черты сетевых заведений по количеству посадочных мест</a></span></li><li><span><a href=\"#Среднее-количество-посадочных-мест-для-каждого-вида-объекта-общественного-питания\" data-toc-modified-id=\"Среднее-количество-посадочных-мест-для-каждого-вида-объекта-общественного-питания-2.5\"><span class=\"toc-item-num\">2.5&nbsp;&nbsp;</span>Среднее количество посадочных мест для каждого вида объекта общественного питания</a></span></li><li><span><a href=\"#Выделим-в-отдельный-столбец-информацию-об-улице-из-столбца-address\" data-toc-modified-id=\"Выделим-в-отдельный-столбец-информацию-об-улице-из-столбца-address-2.6\"><span class=\"toc-item-num\">2.6&nbsp;&nbsp;</span>Выделим в отдельный столбец информацию об улице из столбца address</a></span></li><li><span><a href=\"#Составим-топ-10-улиц-по-количеству-ООП\" data-toc-modified-id=\"Составим-топ-10-улиц-по-количеству-ООП-2.7\"><span class=\"toc-item-num\">2.7&nbsp;&nbsp;</span>Составим топ-10 улиц по количеству ООП</a></span></li><li><span><a href=\"#Найдём-число-улиц-с-одним-ООП\" data-toc-modified-id=\"Найдём-число-улиц-с-одним-ООП-2.8\"><span class=\"toc-item-num\">2.8&nbsp;&nbsp;</span>Найдём число улиц с одним ООП</a></span></li><li><span><a href=\"#Распределение-количества-посадочных-мест-для-улиц-с-большим-количеством-ООП\" data-toc-modified-id=\"Распределение-количества-посадочных-мест-для-улиц-с-большим-количеством-ООП-2.9\"><span class=\"toc-item-num\">2.9&nbsp;&nbsp;</span>Распределение количества посадочных мест для улиц с большим количеством ООП</a></span></li></ul></li><li><span><a href=\"#Общий-вывод\" data-toc-modified-id=\"Общий-вывод-3\"><span class=\"toc-item-num\">3&nbsp;&nbsp;</span>Общий вывод</a></span></li></ul></div>"
   ]
  },
  {
   "cell_type": "markdown",
   "id": "5e13d076",
   "metadata": {},
   "source": [
    "# Описание проекта"
   ]
  },
  {
   "cell_type": "markdown",
   "id": "4d924e70",
   "metadata": {},
   "source": [
    "Мы решили открыть небольшое кафе в Москве. Оно оригинальное — гостей должны обслуживать роботы. Проект многообещающий, но дорогой. Вместе с партнёрами мы решились обратиться к инвесторам. Их интересует текущее положение дел на рынке — сможем ли мы снискать популярность на долгое время, когда все зеваки насмотрятся на роботов-официантов?\n",
    "\n",
    "Я — гуру аналитики, и партнёры просят меня подготовить исследование рынка. У меня есть открытые данные о заведениях общественного питания в Москве."
   ]
  },
  {
   "cell_type": "markdown",
   "id": "a40f93a3",
   "metadata": {},
   "source": [
    "# Описание данных"
   ]
  },
  {
   "cell_type": "markdown",
   "id": "ef08ca4c",
   "metadata": {},
   "source": [
    "Таблица rest_data:\n",
    "\n",
    "1. id — идентификатор объекта;\n",
    "2. object_name — название объекта общественного питания;\n",
    "3. chain — сетевой ресторан;\n",
    "4. object_type — тип объекта общественного питания;\n",
    "5. address — адрес;\n",
    "6. number — количество посадочных мест."
   ]
  },
  {
   "cell_type": "markdown",
   "id": "e718114d",
   "metadata": {},
   "source": [
    "## Загрузка и подготовка данных"
   ]
  },
  {
   "cell_type": "markdown",
   "id": "b07d2426",
   "metadata": {},
   "source": [
    "Импортируем все необходимые нам библиотеки, далее новые библиотеки будем добавлять сюда же"
   ]
  },
  {
   "cell_type": "code",
   "execution_count": 2,
   "id": "2bd1b581",
   "metadata": {},
   "outputs": [],
   "source": [
    "import pandas as pd\n",
    "import matplotlib.pyplot as plt\n",
    "import seaborn as sns\n",
    "import plotly.express as px\n",
    "\n",
    "pd.set_option('display.max_columns', None)\n",
    "pd.options.display.max_colwidth = 150 "
   ]
  },
  {
   "cell_type": "markdown",
   "id": "36376024",
   "metadata": {},
   "source": [
    "Прочитаем файл и положим его в переменную rest_data"
   ]
  },
  {
   "cell_type": "code",
   "execution_count": 3,
   "id": "502abbe8",
   "metadata": {},
   "outputs": [],
   "source": [
    "try: \n",
    "    rest_data = pd.read_csv('rest_data.csv')\n",
    "except: \n",
    "    rest_data = pd.read_csv('/datasets/rest_data.csv')"
   ]
  },
  {
   "cell_type": "markdown",
   "id": "c035df72",
   "metadata": {},
   "source": [
    "### Общая информация о данных"
   ]
  },
  {
   "cell_type": "markdown",
   "id": "e66005b5",
   "metadata": {},
   "source": [
    "Напишем функцию, которая выдаст нам первую поверхностную информацию: покажет 10 первых строк таблицы, посчитает количество явных дубликатов в строках и количество пропусков в данных."
   ]
  },
  {
   "cell_type": "code",
   "execution_count": 4,
   "id": "4b38ea47",
   "metadata": {},
   "outputs": [],
   "source": [
    "def information(data):\n",
    "    display(data.info())\n",
    "    display(data.head(10))\n",
    "    print('Выявлено дубликатов:', data.duplicated().sum())\n",
    "    print('Выявлено пропусков:')\n",
    "    print(round((data.isna().mean()*100),2))"
   ]
  },
  {
   "cell_type": "code",
   "execution_count": 5,
   "id": "4bbff40d",
   "metadata": {},
   "outputs": [
    {
     "name": "stdout",
     "output_type": "stream",
     "text": [
      "<class 'pandas.core.frame.DataFrame'>\n",
      "RangeIndex: 15366 entries, 0 to 15365\n",
      "Data columns (total 6 columns):\n",
      "id             15366 non-null int64\n",
      "object_name    15366 non-null object\n",
      "chain          15366 non-null object\n",
      "object_type    15366 non-null object\n",
      "address        15366 non-null object\n",
      "number         15366 non-null int64\n",
      "dtypes: int64(2), object(4)\n",
      "memory usage: 720.4+ KB\n"
     ]
    },
    {
     "data": {
      "text/plain": [
       "None"
      ]
     },
     "metadata": {},
     "output_type": "display_data"
    },
    {
     "data": {
      "text/html": [
       "<div>\n",
       "<style scoped>\n",
       "    .dataframe tbody tr th:only-of-type {\n",
       "        vertical-align: middle;\n",
       "    }\n",
       "\n",
       "    .dataframe tbody tr th {\n",
       "        vertical-align: top;\n",
       "    }\n",
       "\n",
       "    .dataframe thead th {\n",
       "        text-align: right;\n",
       "    }\n",
       "</style>\n",
       "<table border=\"1\" class=\"dataframe\">\n",
       "  <thead>\n",
       "    <tr style=\"text-align: right;\">\n",
       "      <th></th>\n",
       "      <th>id</th>\n",
       "      <th>object_name</th>\n",
       "      <th>chain</th>\n",
       "      <th>object_type</th>\n",
       "      <th>address</th>\n",
       "      <th>number</th>\n",
       "    </tr>\n",
       "  </thead>\n",
       "  <tbody>\n",
       "    <tr>\n",
       "      <td>0</td>\n",
       "      <td>151635</td>\n",
       "      <td>СМЕТАНА</td>\n",
       "      <td>нет</td>\n",
       "      <td>кафе</td>\n",
       "      <td>город Москва, улица Егора Абакумова, дом 9</td>\n",
       "      <td>48</td>\n",
       "    </tr>\n",
       "    <tr>\n",
       "      <td>1</td>\n",
       "      <td>77874</td>\n",
       "      <td>Родник</td>\n",
       "      <td>нет</td>\n",
       "      <td>кафе</td>\n",
       "      <td>город Москва, улица Талалихина, дом 2/1, корпус 1</td>\n",
       "      <td>35</td>\n",
       "    </tr>\n",
       "    <tr>\n",
       "      <td>2</td>\n",
       "      <td>24309</td>\n",
       "      <td>Кафе «Академия»</td>\n",
       "      <td>нет</td>\n",
       "      <td>кафе</td>\n",
       "      <td>город Москва, Абельмановская улица, дом 6</td>\n",
       "      <td>95</td>\n",
       "    </tr>\n",
       "    <tr>\n",
       "      <td>3</td>\n",
       "      <td>21894</td>\n",
       "      <td>ПИЦЦЕТОРИЯ</td>\n",
       "      <td>да</td>\n",
       "      <td>кафе</td>\n",
       "      <td>город Москва, Абрамцевская улица, дом 1</td>\n",
       "      <td>40</td>\n",
       "    </tr>\n",
       "    <tr>\n",
       "      <td>4</td>\n",
       "      <td>119365</td>\n",
       "      <td>Кафе «Вишневая метель»</td>\n",
       "      <td>нет</td>\n",
       "      <td>кафе</td>\n",
       "      <td>город Москва, Абрамцевская улица, дом 9, корпус 1</td>\n",
       "      <td>50</td>\n",
       "    </tr>\n",
       "    <tr>\n",
       "      <td>5</td>\n",
       "      <td>27429</td>\n",
       "      <td>СТОЛ. ПРИ ГОУ СОШ № 1051</td>\n",
       "      <td>нет</td>\n",
       "      <td>столовая</td>\n",
       "      <td>город Москва, Абрамцевская улица, дом 15, корпус 1</td>\n",
       "      <td>240</td>\n",
       "    </tr>\n",
       "    <tr>\n",
       "      <td>6</td>\n",
       "      <td>148815</td>\n",
       "      <td>Брусника</td>\n",
       "      <td>да</td>\n",
       "      <td>кафе</td>\n",
       "      <td>город Москва, переулок Сивцев Вражек, дом 6/2</td>\n",
       "      <td>10</td>\n",
       "    </tr>\n",
       "    <tr>\n",
       "      <td>7</td>\n",
       "      <td>20957</td>\n",
       "      <td>Буфет МТУСИ</td>\n",
       "      <td>нет</td>\n",
       "      <td>столовая</td>\n",
       "      <td>город Москва, Авиамоторная улица, дом 8, строение 1</td>\n",
       "      <td>90</td>\n",
       "    </tr>\n",
       "    <tr>\n",
       "      <td>8</td>\n",
       "      <td>20958</td>\n",
       "      <td>КПФ СЕМЬЯ-1</td>\n",
       "      <td>нет</td>\n",
       "      <td>столовая</td>\n",
       "      <td>город Москва, Авиамоторная улица, дом 8, строение 1</td>\n",
       "      <td>150</td>\n",
       "    </tr>\n",
       "    <tr>\n",
       "      <td>9</td>\n",
       "      <td>28858</td>\n",
       "      <td>Столовая МТУСИ</td>\n",
       "      <td>нет</td>\n",
       "      <td>столовая</td>\n",
       "      <td>город Москва, Авиамоторная улица, дом 8, строение 1</td>\n",
       "      <td>120</td>\n",
       "    </tr>\n",
       "  </tbody>\n",
       "</table>\n",
       "</div>"
      ],
      "text/plain": [
       "       id               object_name chain object_type  \\\n",
       "0  151635                   СМЕТАНА   нет        кафе   \n",
       "1   77874                    Родник   нет        кафе   \n",
       "2   24309           Кафе «Академия»   нет        кафе   \n",
       "3   21894                ПИЦЦЕТОРИЯ    да        кафе   \n",
       "4  119365    Кафе «Вишневая метель»   нет        кафе   \n",
       "5   27429  СТОЛ. ПРИ ГОУ СОШ № 1051   нет    столовая   \n",
       "6  148815                  Брусника    да        кафе   \n",
       "7   20957               Буфет МТУСИ   нет    столовая   \n",
       "8   20958               КПФ СЕМЬЯ-1   нет    столовая   \n",
       "9   28858            Столовая МТУСИ   нет    столовая   \n",
       "\n",
       "                                               address  number  \n",
       "0           город Москва, улица Егора Абакумова, дом 9      48  \n",
       "1    город Москва, улица Талалихина, дом 2/1, корпус 1      35  \n",
       "2            город Москва, Абельмановская улица, дом 6      95  \n",
       "3              город Москва, Абрамцевская улица, дом 1      40  \n",
       "4    город Москва, Абрамцевская улица, дом 9, корпус 1      50  \n",
       "5   город Москва, Абрамцевская улица, дом 15, корпус 1     240  \n",
       "6        город Москва, переулок Сивцев Вражек, дом 6/2      10  \n",
       "7  город Москва, Авиамоторная улица, дом 8, строение 1      90  \n",
       "8  город Москва, Авиамоторная улица, дом 8, строение 1     150  \n",
       "9  город Москва, Авиамоторная улица, дом 8, строение 1     120  "
      ]
     },
     "metadata": {},
     "output_type": "display_data"
    },
    {
     "name": "stdout",
     "output_type": "stream",
     "text": [
      "Выявлено дубликатов: 0\n",
      "Выявлено пропусков:\n",
      "id             0.0\n",
      "object_name    0.0\n",
      "chain          0.0\n",
      "object_type    0.0\n",
      "address        0.0\n",
      "number         0.0\n",
      "dtype: float64\n"
     ]
    }
   ],
   "source": [
    "information(rest_data)"
   ]
  },
  {
   "cell_type": "code",
   "execution_count": 6,
   "id": "19f932a1",
   "metadata": {},
   "outputs": [
    {
     "data": {
      "text/plain": [
       "(15366, 6)"
      ]
     },
     "execution_count": 6,
     "metadata": {},
     "output_type": "execute_result"
    }
   ],
   "source": [
    "rest_data.shape"
   ]
  },
  {
   "cell_type": "markdown",
   "id": "02c47579",
   "metadata": {},
   "source": [
    "Наша таблица состоит из 15366 строк. Пропусков в данных нет, как и явных дубликатов. Но в этой таблице у каждой строки есть уникальный id, поэтому дубликаты могут и скрываться. Их поиском мы займёмся чуть позже. "
   ]
  },
  {
   "cell_type": "markdown",
   "id": "7194b64c",
   "metadata": {},
   "source": [
    "### Поиск дубликатов"
   ]
  },
  {
   "cell_type": "markdown",
   "id": "65ed4b12",
   "metadata": {},
   "source": [
    "Для начала приведём названия всех ООП - объектов общественного питания -  к нижнему регистру."
   ]
  },
  {
   "cell_type": "code",
   "execution_count": 7,
   "id": "528f853b",
   "metadata": {
    "scrolled": true
   },
   "outputs": [
    {
     "data": {
      "text/html": [
       "<div>\n",
       "<style scoped>\n",
       "    .dataframe tbody tr th:only-of-type {\n",
       "        vertical-align: middle;\n",
       "    }\n",
       "\n",
       "    .dataframe tbody tr th {\n",
       "        vertical-align: top;\n",
       "    }\n",
       "\n",
       "    .dataframe thead th {\n",
       "        text-align: right;\n",
       "    }\n",
       "</style>\n",
       "<table border=\"1\" class=\"dataframe\">\n",
       "  <thead>\n",
       "    <tr style=\"text-align: right;\">\n",
       "      <th></th>\n",
       "      <th>id</th>\n",
       "      <th>object_name</th>\n",
       "      <th>chain</th>\n",
       "      <th>object_type</th>\n",
       "      <th>address</th>\n",
       "      <th>number</th>\n",
       "    </tr>\n",
       "  </thead>\n",
       "  <tbody>\n",
       "    <tr>\n",
       "      <td>0</td>\n",
       "      <td>151635</td>\n",
       "      <td>сметана</td>\n",
       "      <td>нет</td>\n",
       "      <td>кафе</td>\n",
       "      <td>город Москва, улица Егора Абакумова, дом 9</td>\n",
       "      <td>48</td>\n",
       "    </tr>\n",
       "    <tr>\n",
       "      <td>1</td>\n",
       "      <td>77874</td>\n",
       "      <td>родник</td>\n",
       "      <td>нет</td>\n",
       "      <td>кафе</td>\n",
       "      <td>город Москва, улица Талалихина, дом 2/1, корпус 1</td>\n",
       "      <td>35</td>\n",
       "    </tr>\n",
       "    <tr>\n",
       "      <td>2</td>\n",
       "      <td>24309</td>\n",
       "      <td>кафе «академия»</td>\n",
       "      <td>нет</td>\n",
       "      <td>кафе</td>\n",
       "      <td>город Москва, Абельмановская улица, дом 6</td>\n",
       "      <td>95</td>\n",
       "    </tr>\n",
       "    <tr>\n",
       "      <td>3</td>\n",
       "      <td>21894</td>\n",
       "      <td>пиццетория</td>\n",
       "      <td>да</td>\n",
       "      <td>кафе</td>\n",
       "      <td>город Москва, Абрамцевская улица, дом 1</td>\n",
       "      <td>40</td>\n",
       "    </tr>\n",
       "    <tr>\n",
       "      <td>4</td>\n",
       "      <td>119365</td>\n",
       "      <td>кафе «вишневая метель»</td>\n",
       "      <td>нет</td>\n",
       "      <td>кафе</td>\n",
       "      <td>город Москва, Абрамцевская улица, дом 9, корпус 1</td>\n",
       "      <td>50</td>\n",
       "    </tr>\n",
       "  </tbody>\n",
       "</table>\n",
       "</div>"
      ],
      "text/plain": [
       "       id             object_name chain object_type  \\\n",
       "0  151635                 сметана   нет        кафе   \n",
       "1   77874                  родник   нет        кафе   \n",
       "2   24309         кафе «академия»   нет        кафе   \n",
       "3   21894              пиццетория    да        кафе   \n",
       "4  119365  кафе «вишневая метель»   нет        кафе   \n",
       "\n",
       "                                             address  number  \n",
       "0         город Москва, улица Егора Абакумова, дом 9      48  \n",
       "1  город Москва, улица Талалихина, дом 2/1, корпус 1      35  \n",
       "2          город Москва, Абельмановская улица, дом 6      95  \n",
       "3            город Москва, Абрамцевская улица, дом 1      40  \n",
       "4  город Москва, Абрамцевская улица, дом 9, корпус 1      50  "
      ]
     },
     "execution_count": 7,
     "metadata": {},
     "output_type": "execute_result"
    }
   ],
   "source": [
    "rest_data['object_name'] = rest_data['object_name'].str.lower()\n",
    "rest_data.head()"
   ]
  },
  {
   "cell_type": "markdown",
   "id": "c49ffd7f",
   "metadata": {},
   "source": [
    "Посмотрим, есть ли в наших данныъх заведения с количеством посадочных мест равным нулю"
   ]
  },
  {
   "cell_type": "code",
   "execution_count": 8,
   "id": "23cf6a5e",
   "metadata": {},
   "outputs": [
    {
     "data": {
      "text/html": [
       "<div>\n",
       "<style scoped>\n",
       "    .dataframe tbody tr th:only-of-type {\n",
       "        vertical-align: middle;\n",
       "    }\n",
       "\n",
       "    .dataframe tbody tr th {\n",
       "        vertical-align: top;\n",
       "    }\n",
       "\n",
       "    .dataframe thead th {\n",
       "        text-align: right;\n",
       "    }\n",
       "</style>\n",
       "<table border=\"1\" class=\"dataframe\">\n",
       "  <thead>\n",
       "    <tr style=\"text-align: right;\">\n",
       "      <th></th>\n",
       "      <th>id</th>\n",
       "      <th>object_name</th>\n",
       "      <th>chain</th>\n",
       "      <th>object_type</th>\n",
       "      <th>address</th>\n",
       "      <th>number</th>\n",
       "    </tr>\n",
       "  </thead>\n",
       "  <tbody>\n",
       "    <tr>\n",
       "      <td>137</td>\n",
       "      <td>115498</td>\n",
       "      <td>пекарня &amp; донер</td>\n",
       "      <td>нет</td>\n",
       "      <td>закусочная</td>\n",
       "      <td>город Москва, Бутырская улица, дом 9, корпус 2</td>\n",
       "      <td>0</td>\n",
       "    </tr>\n",
       "    <tr>\n",
       "      <td>154</td>\n",
       "      <td>152556</td>\n",
       "      <td>шаурма в пите</td>\n",
       "      <td>нет</td>\n",
       "      <td>предприятие быстрого обслуживания</td>\n",
       "      <td>город Москва, Варшавское шоссе, дом 72, корпус 2</td>\n",
       "      <td>0</td>\n",
       "    </tr>\n",
       "    <tr>\n",
       "      <td>157</td>\n",
       "      <td>149568</td>\n",
       "      <td>суши</td>\n",
       "      <td>нет</td>\n",
       "      <td>предприятие быстрого обслуживания</td>\n",
       "      <td>город Москва, улица Маршала Василевского, дом 3, корпус 1</td>\n",
       "      <td>0</td>\n",
       "    </tr>\n",
       "    <tr>\n",
       "      <td>190</td>\n",
       "      <td>126956</td>\n",
       "      <td>шаурма, куры-гриль</td>\n",
       "      <td>нет</td>\n",
       "      <td>предприятие быстрого обслуживания</td>\n",
       "      <td>город Москва, 1-я Владимирская улица, дом 21</td>\n",
       "      <td>0</td>\n",
       "    </tr>\n",
       "    <tr>\n",
       "      <td>195</td>\n",
       "      <td>149531</td>\n",
       "      <td>шаурма, куры-гриль</td>\n",
       "      <td>нет</td>\n",
       "      <td>предприятие быстрого обслуживания</td>\n",
       "      <td>город Москва, 2-я Владимирская улица, дом 44/10</td>\n",
       "      <td>0</td>\n",
       "    </tr>\n",
       "    <tr>\n",
       "      <td>198</td>\n",
       "      <td>124201</td>\n",
       "      <td>шаурма, выпечка</td>\n",
       "      <td>нет</td>\n",
       "      <td>предприятие быстрого обслуживания</td>\n",
       "      <td>город Москва, 3-я Владимирская улица, дом 27</td>\n",
       "      <td>0</td>\n",
       "    </tr>\n",
       "    <tr>\n",
       "      <td>206</td>\n",
       "      <td>150836</td>\n",
       "      <td>гбоу школа №1468</td>\n",
       "      <td>нет</td>\n",
       "      <td>столовая</td>\n",
       "      <td>город Москва, Волгоградский проспект, дом 17, строение 1</td>\n",
       "      <td>0</td>\n",
       "    </tr>\n",
       "    <tr>\n",
       "      <td>219</td>\n",
       "      <td>156226</td>\n",
       "      <td>суши-шоп</td>\n",
       "      <td>нет</td>\n",
       "      <td>закусочная</td>\n",
       "      <td>город Москва, Волоколамское шоссе, дом 92</td>\n",
       "      <td>0</td>\n",
       "    </tr>\n",
       "    <tr>\n",
       "      <td>240</td>\n",
       "      <td>154738</td>\n",
       "      <td>пекарня</td>\n",
       "      <td>нет</td>\n",
       "      <td>предприятие быстрого обслуживания</td>\n",
       "      <td>город Москва, улица Гастелло, дом 37</td>\n",
       "      <td>0</td>\n",
       "    </tr>\n",
       "    <tr>\n",
       "      <td>278</td>\n",
       "      <td>25742</td>\n",
       "      <td>бистро</td>\n",
       "      <td>нет</td>\n",
       "      <td>предприятие быстрого обслуживания</td>\n",
       "      <td>город Москва, Тверская улица, дом 27, строение 1</td>\n",
       "      <td>0</td>\n",
       "    </tr>\n",
       "  </tbody>\n",
       "</table>\n",
       "</div>"
      ],
      "text/plain": [
       "         id         object_name chain                        object_type  \\\n",
       "137  115498     пекарня & донер   нет                         закусочная   \n",
       "154  152556       шаурма в пите   нет  предприятие быстрого обслуживания   \n",
       "157  149568                суши   нет  предприятие быстрого обслуживания   \n",
       "190  126956  шаурма, куры-гриль   нет  предприятие быстрого обслуживания   \n",
       "195  149531  шаурма, куры-гриль   нет  предприятие быстрого обслуживания   \n",
       "198  124201     шаурма, выпечка   нет  предприятие быстрого обслуживания   \n",
       "206  150836    гбоу школа №1468   нет                           столовая   \n",
       "219  156226            суши-шоп   нет                         закусочная   \n",
       "240  154738             пекарня   нет  предприятие быстрого обслуживания   \n",
       "278   25742              бистро   нет  предприятие быстрого обслуживания   \n",
       "\n",
       "                                                       address  number  \n",
       "137             город Москва, Бутырская улица, дом 9, корпус 2       0  \n",
       "154           город Москва, Варшавское шоссе, дом 72, корпус 2       0  \n",
       "157  город Москва, улица Маршала Василевского, дом 3, корпус 1       0  \n",
       "190               город Москва, 1-я Владимирская улица, дом 21       0  \n",
       "195            город Москва, 2-я Владимирская улица, дом 44/10       0  \n",
       "198               город Москва, 3-я Владимирская улица, дом 27       0  \n",
       "206   город Москва, Волгоградский проспект, дом 17, строение 1       0  \n",
       "219                  город Москва, Волоколамское шоссе, дом 92       0  \n",
       "240                       город Москва, улица Гастелло, дом 37       0  \n",
       "278           город Москва, Тверская улица, дом 27, строение 1       0  "
      ]
     },
     "execution_count": 8,
     "metadata": {},
     "output_type": "execute_result"
    }
   ],
   "source": [
    "rest_data.loc[rest_data['number'] == 0].head(10)"
   ]
  },
  {
   "cell_type": "markdown",
   "id": "9dc6376d",
   "metadata": {},
   "source": [
    "Есть, и, судя по всему, немало! Посчитаем, сколько же их"
   ]
  },
  {
   "cell_type": "code",
   "execution_count": 9,
   "id": "b0498d93",
   "metadata": {
    "scrolled": true
   },
   "outputs": [
    {
     "data": {
      "text/plain": [
       "id             1621\n",
       "object_name    1621\n",
       "chain          1621\n",
       "object_type    1621\n",
       "address        1621\n",
       "number         1621\n",
       "dtype: int64"
      ]
     },
     "execution_count": 9,
     "metadata": {},
     "output_type": "execute_result"
    }
   ],
   "source": [
    "rest_data.loc[rest_data['number'] == 0].count()"
   ]
  },
  {
   "cell_type": "markdown",
   "id": "5bbc3589",
   "metadata": {},
   "source": [
    "1576! 10% от всего датасета. Но если посмотреть на данные, можно заметить, что это в основном шаурма, бистро, пончики. Видимо, это заведения типа ларьков, где не предусмотрены посадочные места в принципе. Затесавшаяся судя же гбоу школа №1468 тоже предполагает отсутствие посадочных мест для людей с улицы. Было бы достаточно странно, если бы любой прохожий мог зайти и покушать в школьной столовой. В общем, трогать эти нули не будем\n",
    "\n",
    "Посмотрим, есть ли артефакты среди типов ООП."
   ]
  },
  {
   "cell_type": "code",
   "execution_count": 10,
   "id": "6f807d2c",
   "metadata": {},
   "outputs": [
    {
     "data": {
      "text/plain": [
       "array(['кафе', 'столовая', 'закусочная',\n",
       "       'предприятие быстрого обслуживания', 'ресторан', 'кафетерий',\n",
       "       'буфет', 'бар', 'магазин (отдел кулинарии)'], dtype=object)"
      ]
     },
     "execution_count": 10,
     "metadata": {},
     "output_type": "execute_result"
    }
   ],
   "source": [
    "rest_data['object_type'].unique()"
   ]
  },
  {
   "cell_type": "markdown",
   "id": "0c08ee61",
   "metadata": {},
   "source": [
    "Артефактов нет, но я хочу заменить слишком длинные названия на более короткие. Поменяем 'предприятие быстрого обслуживания' на 'бистро' и 'магазин (отдел кулинарии)' на 'кулинария'"
   ]
  },
  {
   "cell_type": "code",
   "execution_count": 11,
   "id": "6c78e620",
   "metadata": {},
   "outputs": [],
   "source": [
    "rest_data.replace({\"object_type\": {'предприятие быстрого обслуживания':'бистро',\n",
    "                            'магазин (отдел кулинарии)': 'кулинария'}}, inplace=True)"
   ]
  },
  {
   "cell_type": "code",
   "execution_count": 12,
   "id": "e9f89da5",
   "metadata": {
    "scrolled": true
   },
   "outputs": [
    {
     "data": {
      "text/plain": [
       "array(['кафе', 'столовая', 'закусочная', 'бистро', 'ресторан',\n",
       "       'кафетерий', 'буфет', 'бар', 'кулинария'], dtype=object)"
      ]
     },
     "execution_count": 12,
     "metadata": {},
     "output_type": "execute_result"
    }
   ],
   "source": [
    "rest_data['object_type'].unique()"
   ]
  },
  {
   "cell_type": "markdown",
   "id": "6dabc1b9",
   "metadata": {},
   "source": [
    "Так-то лучше. Теперь посмотрим, сколько у нас закралось дубликатов в связке имя_объекта + адрес."
   ]
  },
  {
   "cell_type": "code",
   "execution_count": 13,
   "id": "909d1f4c",
   "metadata": {},
   "outputs": [
    {
     "data": {
      "text/plain": [
       "225"
      ]
     },
     "execution_count": 13,
     "metadata": {},
     "output_type": "execute_result"
    }
   ],
   "source": [
    "rest_data.duplicated(['object_name', 'address']).sum()"
   ]
  },
  {
   "cell_type": "markdown",
   "id": "3a3a2b28",
   "metadata": {},
   "source": [
    "Всего 225. Нещадно от них избавляемся. "
   ]
  },
  {
   "cell_type": "code",
   "execution_count": 14,
   "id": "79287eef",
   "metadata": {},
   "outputs": [],
   "source": [
    "rest_data.drop_duplicates(['object_name', 'address'], inplace=True)"
   ]
  },
  {
   "cell_type": "code",
   "execution_count": 15,
   "id": "a5fa5599",
   "metadata": {
    "scrolled": true
   },
   "outputs": [
    {
     "name": "stdout",
     "output_type": "stream",
     "text": [
      "<class 'pandas.core.frame.DataFrame'>\n",
      "Int64Index: 15141 entries, 0 to 15364\n",
      "Data columns (total 6 columns):\n",
      "id             15141 non-null int64\n",
      "object_name    15141 non-null object\n",
      "chain          15141 non-null object\n",
      "object_type    15141 non-null object\n",
      "address        15141 non-null object\n",
      "number         15141 non-null int64\n",
      "dtypes: int64(2), object(4)\n",
      "memory usage: 828.0+ KB\n"
     ]
    }
   ],
   "source": [
    "rest_data.info()"
   ]
  },
  {
   "cell_type": "markdown",
   "id": "a6b03cf4",
   "metadata": {},
   "source": [
    "Теперь посмотрим на уникальные названия заведений."
   ]
  },
  {
   "cell_type": "code",
   "execution_count": 16,
   "id": "b04dfc2b",
   "metadata": {
    "scrolled": true
   },
   "outputs": [
    {
     "data": {
      "text/plain": [
       "array(['сметана', 'родник', 'кафе «академия»', ..., 'бар мята lounge',\n",
       "       'мята lounge октябрьская', 'кальянная «мята lounge»'], dtype=object)"
      ]
     },
     "execution_count": 16,
     "metadata": {},
     "output_type": "execute_result"
    }
   ],
   "source": [
    "rest_data['object_name'].unique()"
   ]
  },
  {
   "cell_type": "markdown",
   "id": "d4a2bcbf",
   "metadata": {},
   "source": [
    "'бар мята lounge', 'мята lounge октябрьская', 'кальянная «мята lounge»'. Мда. Артефакты так артефакты. Отлавливать их все по 15 тысячам строк как-то не очень хочется. Оставим, как есть. Задачи выловить и все дубликаты в названиях заведений перед нами не ставили."
   ]
  },
  {
   "cell_type": "markdown",
   "id": "c02450e2",
   "metadata": {},
   "source": [
    "### Вывод\n",
    "\n",
    "Перед намидатасет с 15 000 строк. Пропусков в данных нет, замена форматов в столбцах не требуется, столбец с названиями объектов приведён к нижнему регистру. Явные дубликаты в названии ООП и адресе выявлены и уничтожены, неявные скрываются в данных. Но их мы трогать не будем. Можно приступать к анализу."
   ]
  },
  {
   "cell_type": "markdown",
   "id": "96c54350",
   "metadata": {},
   "source": [
    "## Анализ данных"
   ]
  },
  {
   "cell_type": "markdown",
   "id": "f8d3e31e",
   "metadata": {},
   "source": [
    "### Соотношение видов ООП по количеству\n",
    "\n",
    "Сгруппируем данные по столбцу \"тип объекта\" и посчитаем количество значений для каждого типа заведения."
   ]
  },
  {
   "cell_type": "code",
   "execution_count": 17,
   "id": "44024b2b",
   "metadata": {
    "scrolled": true
   },
   "outputs": [
    {
     "data": {
      "text/html": [
       "<div>\n",
       "<style scoped>\n",
       "    .dataframe tbody tr th:only-of-type {\n",
       "        vertical-align: middle;\n",
       "    }\n",
       "\n",
       "    .dataframe tbody tr th {\n",
       "        vertical-align: top;\n",
       "    }\n",
       "\n",
       "    .dataframe thead th {\n",
       "        text-align: right;\n",
       "    }\n",
       "</style>\n",
       "<table border=\"1\" class=\"dataframe\">\n",
       "  <thead>\n",
       "    <tr style=\"text-align: right;\">\n",
       "      <th></th>\n",
       "      <th>object_type</th>\n",
       "      <th>number</th>\n",
       "    </tr>\n",
       "  </thead>\n",
       "  <tbody>\n",
       "    <tr>\n",
       "      <td>4</td>\n",
       "      <td>кафе</td>\n",
       "      <td>5991</td>\n",
       "    </tr>\n",
       "    <tr>\n",
       "      <td>8</td>\n",
       "      <td>столовая</td>\n",
       "      <td>2572</td>\n",
       "    </tr>\n",
       "    <tr>\n",
       "      <td>7</td>\n",
       "      <td>ресторан</td>\n",
       "      <td>2271</td>\n",
       "    </tr>\n",
       "    <tr>\n",
       "      <td>1</td>\n",
       "      <td>бистро</td>\n",
       "      <td>1885</td>\n",
       "    </tr>\n",
       "    <tr>\n",
       "      <td>0</td>\n",
       "      <td>бар</td>\n",
       "      <td>849</td>\n",
       "    </tr>\n",
       "    <tr>\n",
       "      <td>2</td>\n",
       "      <td>буфет</td>\n",
       "      <td>565</td>\n",
       "    </tr>\n",
       "    <tr>\n",
       "      <td>5</td>\n",
       "      <td>кафетерий</td>\n",
       "      <td>392</td>\n",
       "    </tr>\n",
       "    <tr>\n",
       "      <td>3</td>\n",
       "      <td>закусочная</td>\n",
       "      <td>344</td>\n",
       "    </tr>\n",
       "    <tr>\n",
       "      <td>6</td>\n",
       "      <td>кулинария</td>\n",
       "      <td>272</td>\n",
       "    </tr>\n",
       "  </tbody>\n",
       "</table>\n",
       "</div>"
      ],
      "text/plain": [
       "  object_type  number\n",
       "4        кафе    5991\n",
       "8    столовая    2572\n",
       "7    ресторан    2271\n",
       "1      бистро    1885\n",
       "0         бар     849\n",
       "2       буфет     565\n",
       "5   кафетерий     392\n",
       "3  закусочная     344\n",
       "6   кулинария     272"
      ]
     },
     "execution_count": 17,
     "metadata": {},
     "output_type": "execute_result"
    }
   ],
   "source": [
    "objects_by_type = rest_data.groupby('object_type')['id'].count().reset_index().sort_values(by='id', ascending=False)\n",
    "objects_by_type.columns = ['object_type', 'number']\n",
    "objects_by_type"
   ]
  },
  {
   "cell_type": "markdown",
   "id": "5f98d5f0",
   "metadata": {},
   "source": [
    "Построим график"
   ]
  },
  {
   "cell_type": "code",
   "execution_count": 18,
   "id": "7df153fd",
   "metadata": {},
   "outputs": [
    {
     "data": {
      "text/plain": [
       "(array([0, 1, 2, 3, 4, 5, 6, 7, 8]), <a list of 9 Text xticklabel objects>)"
      ]
     },
     "execution_count": 18,
     "metadata": {},
     "output_type": "execute_result"
    },
    {
     "data": {
      "image/png": "[encoded data removed]",
      "text/plain": [
       "<Figure size 432x288 with 1 Axes>"
      ]
     },
     "metadata": {
      "needs_background": "light"
     },
     "output_type": "display_data"
    }
   ],
   "source": [
    "a1 = sns.barplot(x='object_type', y='number', data=objects_by_type) \n",
    "a1.set_title('Распределение видов общественного питания по количеству')\n",
    "a1.set_xlabel('Вид общественного питания')\n",
    "a1.set_ylabel('Количество, шт')\n",
    "plt.xticks(rotation=45)"
   ]
  },
  {
   "cell_type": "markdown",
   "id": "5ea5daaf",
   "metadata": {},
   "source": [
    "Кафе в два раза больше, чем ближайших конкурентов. Почти 6 000 записей. Мне кажется это достаточно логичным. Под кафе может подразумеваться практически всё, что угодно. Арендная плата должна быть относительно невысокой, проходимость большая и такие же небольшие зарплаты сотрудникам. Выглядит как достаточно выгодный вариант, отсюда и такое количество."
   ]
  },
  {
   "cell_type": "markdown",
   "id": "3057a182",
   "metadata": {},
   "source": [
    "### Соотношение сетевых и несетевых заведений по количеству\n",
    "\n",
    "Сгруппируем данные по столбцу \"chain\" и посчитаем количество значений для всех заведений."
   ]
  },
  {
   "cell_type": "code",
   "execution_count": 19,
   "id": "fe872700",
   "metadata": {},
   "outputs": [
    {
     "data": {
      "text/html": [
       "<div>\n",
       "<style scoped>\n",
       "    .dataframe tbody tr th:only-of-type {\n",
       "        vertical-align: middle;\n",
       "    }\n",
       "\n",
       "    .dataframe tbody tr th {\n",
       "        vertical-align: top;\n",
       "    }\n",
       "\n",
       "    .dataframe thead th {\n",
       "        text-align: right;\n",
       "    }\n",
       "</style>\n",
       "<table border=\"1\" class=\"dataframe\">\n",
       "  <thead>\n",
       "    <tr style=\"text-align: right;\">\n",
       "      <th></th>\n",
       "      <th>chain</th>\n",
       "      <th>number</th>\n",
       "    </tr>\n",
       "  </thead>\n",
       "  <tbody>\n",
       "    <tr>\n",
       "      <td>1</td>\n",
       "      <td>нет</td>\n",
       "      <td>12204</td>\n",
       "    </tr>\n",
       "    <tr>\n",
       "      <td>0</td>\n",
       "      <td>да</td>\n",
       "      <td>2937</td>\n",
       "    </tr>\n",
       "  </tbody>\n",
       "</table>\n",
       "</div>"
      ],
      "text/plain": [
       "  chain  number\n",
       "1   нет   12204\n",
       "0    да    2937"
      ]
     },
     "execution_count": 19,
     "metadata": {},
     "output_type": "execute_result"
    }
   ],
   "source": [
    "chains = rest_data.groupby('chain')['id'].count().reset_index().sort_values(by='id', ascending=False)\n",
    "chains.columns = ['chain', 'number']\n",
    "chains"
   ]
  },
  {
   "cell_type": "code",
   "execution_count": 20,
   "id": "0c01cd4e",
   "metadata": {},
   "outputs": [
    {
     "data": {
      "image/png": "[encoded data removed]",
      "text/plain": [
       "<Figure size 432x288 with 1 Axes>"
      ]
     },
     "metadata": {},
     "output_type": "display_data"
    }
   ],
   "source": [
    "a2 = chains['number'].plot(kind='pie', autopct='%1.1f%%')\n",
    "a2.set_title('Соотношение видов общественного питания по количеству')\n",
    "L=plt.legend(loc='upper left', bbox_to_anchor=(1.0, 1.0))\n",
    "L.get_texts()[0].set_text('Несетевой ресторан')\n",
    "L.get_texts()[1].set_text('Сетевой ресторан')"
   ]
  },
  {
   "cell_type": "markdown",
   "id": "0817d60c",
   "metadata": {},
   "source": [
    "Почти 81% всех заведений являются несетевыми. Теперь взглянем конкретнее на каждый из типов объектов.\n",
    "\n",
    "Создадим сводную таблицу, в которой отразим, сколько объектов каждого типа являются сетевыми и несетевыми."
   ]
  },
  {
   "cell_type": "code",
   "execution_count": 21,
   "id": "bc4a7111",
   "metadata": {},
   "outputs": [
    {
     "data": {
      "text/html": [
       "<div>\n",
       "<style scoped>\n",
       "    .dataframe tbody tr th:only-of-type {\n",
       "        vertical-align: middle;\n",
       "    }\n",
       "\n",
       "    .dataframe tbody tr th {\n",
       "        vertical-align: top;\n",
       "    }\n",
       "\n",
       "    .dataframe thead th {\n",
       "        text-align: right;\n",
       "    }\n",
       "</style>\n",
       "<table border=\"1\" class=\"dataframe\">\n",
       "  <thead>\n",
       "    <tr style=\"text-align: right;\">\n",
       "      <th></th>\n",
       "      <th>object_type</th>\n",
       "      <th>chain</th>\n",
       "      <th>count</th>\n",
       "    </tr>\n",
       "  </thead>\n",
       "  <tbody>\n",
       "    <tr>\n",
       "      <td>0</td>\n",
       "      <td>бар</td>\n",
       "      <td>да</td>\n",
       "      <td>37</td>\n",
       "    </tr>\n",
       "    <tr>\n",
       "      <td>1</td>\n",
       "      <td>бар</td>\n",
       "      <td>нет</td>\n",
       "      <td>812</td>\n",
       "    </tr>\n",
       "    <tr>\n",
       "      <td>2</td>\n",
       "      <td>бистро</td>\n",
       "      <td>да</td>\n",
       "      <td>782</td>\n",
       "    </tr>\n",
       "    <tr>\n",
       "      <td>3</td>\n",
       "      <td>бистро</td>\n",
       "      <td>нет</td>\n",
       "      <td>1103</td>\n",
       "    </tr>\n",
       "    <tr>\n",
       "      <td>4</td>\n",
       "      <td>буфет</td>\n",
       "      <td>да</td>\n",
       "      <td>9</td>\n",
       "    </tr>\n",
       "    <tr>\n",
       "      <td>5</td>\n",
       "      <td>буфет</td>\n",
       "      <td>нет</td>\n",
       "      <td>556</td>\n",
       "    </tr>\n",
       "    <tr>\n",
       "      <td>6</td>\n",
       "      <td>закусочная</td>\n",
       "      <td>да</td>\n",
       "      <td>56</td>\n",
       "    </tr>\n",
       "    <tr>\n",
       "      <td>7</td>\n",
       "      <td>закусочная</td>\n",
       "      <td>нет</td>\n",
       "      <td>288</td>\n",
       "    </tr>\n",
       "    <tr>\n",
       "      <td>8</td>\n",
       "      <td>кафе</td>\n",
       "      <td>да</td>\n",
       "      <td>1382</td>\n",
       "    </tr>\n",
       "    <tr>\n",
       "      <td>9</td>\n",
       "      <td>кафе</td>\n",
       "      <td>нет</td>\n",
       "      <td>4609</td>\n",
       "    </tr>\n",
       "    <tr>\n",
       "      <td>10</td>\n",
       "      <td>кафетерий</td>\n",
       "      <td>да</td>\n",
       "      <td>51</td>\n",
       "    </tr>\n",
       "    <tr>\n",
       "      <td>11</td>\n",
       "      <td>кафетерий</td>\n",
       "      <td>нет</td>\n",
       "      <td>341</td>\n",
       "    </tr>\n",
       "    <tr>\n",
       "      <td>12</td>\n",
       "      <td>кулинария</td>\n",
       "      <td>да</td>\n",
       "      <td>78</td>\n",
       "    </tr>\n",
       "    <tr>\n",
       "      <td>13</td>\n",
       "      <td>кулинария</td>\n",
       "      <td>нет</td>\n",
       "      <td>194</td>\n",
       "    </tr>\n",
       "    <tr>\n",
       "      <td>14</td>\n",
       "      <td>ресторан</td>\n",
       "      <td>да</td>\n",
       "      <td>539</td>\n",
       "    </tr>\n",
       "    <tr>\n",
       "      <td>15</td>\n",
       "      <td>ресторан</td>\n",
       "      <td>нет</td>\n",
       "      <td>1732</td>\n",
       "    </tr>\n",
       "    <tr>\n",
       "      <td>16</td>\n",
       "      <td>столовая</td>\n",
       "      <td>да</td>\n",
       "      <td>3</td>\n",
       "    </tr>\n",
       "    <tr>\n",
       "      <td>17</td>\n",
       "      <td>столовая</td>\n",
       "      <td>нет</td>\n",
       "      <td>2569</td>\n",
       "    </tr>\n",
       "  </tbody>\n",
       "</table>\n",
       "</div>"
      ],
      "text/plain": [
       "   object_type chain  count\n",
       "0          бар    да     37\n",
       "1          бар   нет    812\n",
       "2       бистро    да    782\n",
       "3       бистро   нет   1103\n",
       "4        буфет    да      9\n",
       "5        буфет   нет    556\n",
       "6   закусочная    да     56\n",
       "7   закусочная   нет    288\n",
       "8         кафе    да   1382\n",
       "9         кафе   нет   4609\n",
       "10   кафетерий    да     51\n",
       "11   кафетерий   нет    341\n",
       "12   кулинария    да     78\n",
       "13   кулинария   нет    194\n",
       "14    ресторан    да    539\n",
       "15    ресторан   нет   1732\n",
       "16    столовая    да      3\n",
       "17    столовая   нет   2569"
      ]
     },
     "execution_count": 21,
     "metadata": {},
     "output_type": "execute_result"
    }
   ],
   "source": [
    "objects_by_chain = rest_data.pivot_table(index=['object_type','chain'], values='id', aggfunc='count').reset_index()\n",
    "objects_by_chain.columns = ['object_type','chain','count']\n",
    "objects_by_chain"
   ]
  },
  {
   "cell_type": "markdown",
   "id": "574f4128",
   "metadata": {},
   "source": [
    "Построим график"
   ]
  },
  {
   "cell_type": "code",
   "execution_count": 22,
   "id": "ca8a0130",
   "metadata": {},
   "outputs": [
    {
     "data": {
      "image/png": "[encoded data removed]",
      "text/plain": [
       "<Figure size 1152x288 with 1 Axes>"
      ]
     },
     "metadata": {
      "needs_background": "light"
     },
     "output_type": "display_data"
    }
   ],
   "source": [
    "a3=sns.catplot(x='object_type', y='count', hue='chain', data=objects_by_chain, kind='bar',height=4, aspect=4, \n",
    "             palette=\"Paired\", legend=False)\n",
    "plt.title(\"Соотношение сетевых и несетевых заведений\", fontsize=14)\n",
    "plt.xlabel('Вид общественного питания', fontsize=12)\n",
    "plt.ylabel('Количество, шт', fontsize=12)\n",
    "L=plt.legend()\n",
    "L.get_texts()[0].set_text('Сетевой ресторан')\n",
    "L.get_texts()[1].set_text('Несетевой ресторан')"
   ]
  },
  {
   "cell_type": "markdown",
   "id": "26d6c54c",
   "metadata": {},
   "source": [
    "Столовых, баров и буфетов сетевых почти нет."
   ]
  },
  {
   "cell_type": "markdown",
   "id": "7e460f95",
   "metadata": {},
   "source": [
    "### Для какого вида ООП характерно сетевое распространение\n",
    "\n",
    "Создадим сводную таблицу, в которой отразим, сколько объектов каждого типа являются сетевыми и несетевыми."
   ]
  },
  {
   "cell_type": "code",
   "execution_count": 23,
   "id": "52af45ed",
   "metadata": {
    "scrolled": true
   },
   "outputs": [
    {
     "data": {
      "text/html": [
       "<div>\n",
       "<style scoped>\n",
       "    .dataframe tbody tr th:only-of-type {\n",
       "        vertical-align: middle;\n",
       "    }\n",
       "\n",
       "    .dataframe tbody tr th {\n",
       "        vertical-align: top;\n",
       "    }\n",
       "\n",
       "    .dataframe thead th {\n",
       "        text-align: right;\n",
       "    }\n",
       "</style>\n",
       "<table border=\"1\" class=\"dataframe\">\n",
       "  <thead>\n",
       "    <tr style=\"text-align: right;\">\n",
       "      <th></th>\n",
       "      <th>object_type</th>\n",
       "      <th>chained</th>\n",
       "      <th>not_chained</th>\n",
       "      <th>total</th>\n",
       "      <th>%</th>\n",
       "    </tr>\n",
       "  </thead>\n",
       "  <tbody>\n",
       "    <tr>\n",
       "      <td>1</td>\n",
       "      <td>бистро</td>\n",
       "      <td>782</td>\n",
       "      <td>1103</td>\n",
       "      <td>1885</td>\n",
       "      <td>41.485411</td>\n",
       "    </tr>\n",
       "    <tr>\n",
       "      <td>6</td>\n",
       "      <td>кулинария</td>\n",
       "      <td>78</td>\n",
       "      <td>194</td>\n",
       "      <td>272</td>\n",
       "      <td>28.676471</td>\n",
       "    </tr>\n",
       "    <tr>\n",
       "      <td>7</td>\n",
       "      <td>ресторан</td>\n",
       "      <td>539</td>\n",
       "      <td>1732</td>\n",
       "      <td>2271</td>\n",
       "      <td>23.734038</td>\n",
       "    </tr>\n",
       "    <tr>\n",
       "      <td>4</td>\n",
       "      <td>кафе</td>\n",
       "      <td>1382</td>\n",
       "      <td>4609</td>\n",
       "      <td>5991</td>\n",
       "      <td>23.067935</td>\n",
       "    </tr>\n",
       "    <tr>\n",
       "      <td>3</td>\n",
       "      <td>закусочная</td>\n",
       "      <td>56</td>\n",
       "      <td>288</td>\n",
       "      <td>344</td>\n",
       "      <td>16.279070</td>\n",
       "    </tr>\n",
       "    <tr>\n",
       "      <td>5</td>\n",
       "      <td>кафетерий</td>\n",
       "      <td>51</td>\n",
       "      <td>341</td>\n",
       "      <td>392</td>\n",
       "      <td>13.010204</td>\n",
       "    </tr>\n",
       "    <tr>\n",
       "      <td>0</td>\n",
       "      <td>бар</td>\n",
       "      <td>37</td>\n",
       "      <td>812</td>\n",
       "      <td>849</td>\n",
       "      <td>4.358068</td>\n",
       "    </tr>\n",
       "    <tr>\n",
       "      <td>2</td>\n",
       "      <td>буфет</td>\n",
       "      <td>9</td>\n",
       "      <td>556</td>\n",
       "      <td>565</td>\n",
       "      <td>1.592920</td>\n",
       "    </tr>\n",
       "    <tr>\n",
       "      <td>8</td>\n",
       "      <td>столовая</td>\n",
       "      <td>3</td>\n",
       "      <td>2569</td>\n",
       "      <td>2572</td>\n",
       "      <td>0.116641</td>\n",
       "    </tr>\n",
       "  </tbody>\n",
       "</table>\n",
       "</div>"
      ],
      "text/plain": [
       "  object_type  chained  not_chained  total          %\n",
       "1      бистро      782         1103   1885  41.485411\n",
       "6   кулинария       78          194    272  28.676471\n",
       "7    ресторан      539         1732   2271  23.734038\n",
       "4        кафе     1382         4609   5991  23.067935\n",
       "3  закусочная       56          288    344  16.279070\n",
       "5   кафетерий       51          341    392  13.010204\n",
       "0         бар       37          812    849   4.358068\n",
       "2       буфет        9          556    565   1.592920\n",
       "8    столовая        3         2569   2572   0.116641"
      ]
     },
     "execution_count": 23,
     "metadata": {},
     "output_type": "execute_result"
    }
   ],
   "source": [
    "chained_rate= rest_data.pivot_table(index=['object_type'], columns='chain', values='id', aggfunc='count').reset_index()\n",
    "chained_rate.columns = ['object_type','chained','not_chained']\n",
    "chained_rate['total']=chained_rate['chained']+chained_rate['not_chained']\n",
    "chained_rate['%']=chained_rate['chained']/chained_rate['total']*100\n",
    "chained_rate = chained_rate.sort_values(by='%', ascending=False)\n",
    "chained_rate"
   ]
  },
  {
   "cell_type": "markdown",
   "id": "944b6432",
   "metadata": {},
   "source": [
    "Больше всего сетевых заведений характерно для бистро и отделов кулинарии в магазинах. Самый маленький процент сетевых заведений в Москве - это столовые."
   ]
  },
  {
   "cell_type": "code",
   "execution_count": 24,
   "id": "d8099d8e",
   "metadata": {},
   "outputs": [
    {
     "data": {
      "text/plain": [
       "(array([0, 1, 2, 3, 4, 5, 6, 7, 8]), <a list of 9 Text xticklabel objects>)"
      ]
     },
     "execution_count": 24,
     "metadata": {},
     "output_type": "execute_result"
    },
    {
     "data": {
      "image/png": "[encoded data removed]",
      "text/plain": [
       "<Figure size 432x288 with 1 Axes>"
      ]
     },
     "metadata": {
      "needs_background": "light"
     },
     "output_type": "display_data"
    }
   ],
   "source": [
    "a4=sns.barplot(x='object_type', y=\"%\", data=chained_rate)\n",
    "a4.set_title('Доля сетевых заведений')\n",
    "a4.set_xlabel('Вид общественного питания')\n",
    "a4.set_ylabel('Процент')\n",
    "plt.xticks(rotation=30)"
   ]
  },
  {
   "cell_type": "markdown",
   "id": "ba7bffd2",
   "metadata": {},
   "source": [
    "Больше всего сетевых бистро, их больше 40%. И меньше всего - столовых. Мы видели в списке столовую в школе, думаю, у нас есть и другие частные столовые в списке. Поэтому всего столовых много, а сетевых - мало."
   ]
  },
  {
   "cell_type": "markdown",
   "id": "96158fa0",
   "metadata": {},
   "source": [
    "### Характерные черты сетевых заведений по количеству посадочных мест"
   ]
  },
  {
   "cell_type": "markdown",
   "id": "4fcada46",
   "metadata": {},
   "source": [
    "Выделим из нашего датафрейма все сетевые ООП и построим график распределения посадочных мест для таких заведений."
   ]
  },
  {
   "cell_type": "code",
   "execution_count": 25,
   "id": "edfeed97",
   "metadata": {},
   "outputs": [
    {
     "data": {
      "image/png": "[encoded data removed]",
      "text/plain": [
       "<Figure size 1296x288 with 1 Axes>"
      ]
     },
     "metadata": {
      "needs_background": "light"
     },
     "output_type": "display_data"
    }
   ],
   "source": [
    "chained_objects = rest_data.loc[rest_data['chain'] == 'да']\n",
    "plt.figure(figsize=(18,4))\n",
    "sns.distplot(chained_objects['number'], bins=20)\n",
    "plt.xlabel(\" \")\n",
    "plt.ylabel(\"Плотность\")\n",
    "plt.title(\"Плотность распределения сетевых ООП по количеству посадочных мест\", size=14);"
   ]
  },
  {
   "cell_type": "markdown",
   "id": "21c37a8c",
   "metadata": {},
   "source": [
    "Плотность распределения сетевых ООП по количеству посадочных мест имеет форму распределения Пуассона со смещением влево, т.е. в городе преобладает большее число заведений с малым количеством посадочных мест - до 50 мест, далее плотность распределения идет к резкому уменьшению и практически равна нулю на отметке в 300 посадочных мест."
   ]
  },
  {
   "cell_type": "markdown",
   "id": "929985f7",
   "metadata": {},
   "source": [
    "### Среднее количество посадочных мест для каждого вида объекта общественного питания\n",
    "\n",
    "Разделим сетевые заведения на группы: предположим, что много - это если в сети больше 5 заведений, и много - это больше 20 посадочных мест в заведении, и построим график получившегося распределения"
   ]
  },
  {
   "cell_type": "code",
   "execution_count": 26,
   "id": "30c60abf",
   "metadata": {},
   "outputs": [
    {
     "data": {
      "text/html": [
       "<div>\n",
       "<style scoped>\n",
       "    .dataframe tbody tr th:only-of-type {\n",
       "        vertical-align: middle;\n",
       "    }\n",
       "\n",
       "    .dataframe tbody tr th {\n",
       "        vertical-align: top;\n",
       "    }\n",
       "\n",
       "    .dataframe thead th {\n",
       "        text-align: right;\n",
       "    }\n",
       "</style>\n",
       "<table border=\"1\" class=\"dataframe\">\n",
       "  <thead>\n",
       "    <tr style=\"text-align: right;\">\n",
       "      <th></th>\n",
       "      <th>Число сетей</th>\n",
       "      <th>Медианное число заведений</th>\n",
       "      <th>Медианное число посадочных мест</th>\n",
       "    </tr>\n",
       "    <tr>\n",
       "      <th>Группа</th>\n",
       "      <th></th>\n",
       "      <th></th>\n",
       "      <th></th>\n",
       "    </tr>\n",
       "  </thead>\n",
       "  <tbody>\n",
       "    <tr>\n",
       "      <td>Мало заведений - Мало мест</td>\n",
       "      <td>136</td>\n",
       "      <td>1</td>\n",
       "      <td>10.00</td>\n",
       "    </tr>\n",
       "    <tr>\n",
       "      <td>Мало заведений - Много мест</td>\n",
       "      <td>348</td>\n",
       "      <td>1</td>\n",
       "      <td>64.00</td>\n",
       "    </tr>\n",
       "    <tr>\n",
       "      <td>Много заведений - Мало мест</td>\n",
       "      <td>23</td>\n",
       "      <td>13</td>\n",
       "      <td>11.50</td>\n",
       "    </tr>\n",
       "    <tr>\n",
       "      <td>Много заведений - Много мест</td>\n",
       "      <td>69</td>\n",
       "      <td>10</td>\n",
       "      <td>57.75</td>\n",
       "    </tr>\n",
       "  </tbody>\n",
       "</table>\n",
       "</div>"
      ],
      "text/plain": [
       "                              Число сетей  Медианное число заведений  \\\n",
       "Группа                                                                 \n",
       "Мало заведений - Мало мест            136                          1   \n",
       "Мало заведений - Много мест           348                          1   \n",
       "Много заведений - Мало мест            23                         13   \n",
       "Много заведений - Много мест           69                         10   \n",
       "\n",
       "                              Медианное число посадочных мест  \n",
       "Группа                                                         \n",
       "Мало заведений - Мало мест                              10.00  \n",
       "Мало заведений - Много мест                             64.00  \n",
       "Много заведений - Мало мест                             11.50  \n",
       "Много заведений - Много мест                            57.75  "
      ]
     },
     "execution_count": 26,
     "metadata": {},
     "output_type": "execute_result"
    },
    {
     "data": {
      "image/png": "[encoded data removed]",
      "text/plain": [
       "<Figure size 432x288 with 1 Axes>"
      ]
     },
     "metadata": {
      "needs_background": "light"
     },
     "output_type": "display_data"
    }
   ],
   "source": [
    "chains = rest_data.query('chain == \"да\"')\n",
    "chains = chains.groupby('object_name').agg({'id': 'count', 'number': 'mean'})\n",
    "\n",
    "chains['rest_num_group'] = 'Мало заведений'\n",
    "chains.loc[chains['id'] > 5, 'rest_num_group'] = 'Много заведений'\n",
    "\n",
    "chains['seat_num_group'] = 'Мало мест'\n",
    "chains.loc[chains['number'] > 20, 'seat_num_group'] = 'Много мест'\n",
    "\n",
    "chains['Группа'] = chains['rest_num_group'].astype(str) + ' - ' + chains['seat_num_group'].astype(str)\n",
    "sns.scatterplot(data=chains, x='id', y='number', hue='Группа')\n",
    "plt.xlabel('Число заведений'), plt.ylabel('Среднее число посадочных мест')\n",
    "\n",
    "chains.reset_index().groupby('Группа').agg({'object_name': 'nunique', 'id': 'median', 'number': 'median'})\\\n",
    "                                        .rename(columns = {'object_name': 'Число сетей', \n",
    "                                                          'id': 'Медианное число заведений',\n",
    "                                                          'number': 'Медианное число посадочных мест'})"
   ]
  },
  {
   "cell_type": "markdown",
   "id": "adabc092",
   "metadata": {},
   "source": [
    "По графику можно сделать вывод, что в Москве преобладают сети, в которых меньше пяти заведений с достаточно большим количеством посадочных мест.\n",
    "\n",
    "Посчитаем среднее количество посадочных мест для каждого типа ООП"
   ]
  },
  {
   "cell_type": "code",
   "execution_count": 27,
   "id": "de5d4445",
   "metadata": {},
   "outputs": [
    {
     "data": {
      "text/html": [
       "<div>\n",
       "<style scoped>\n",
       "    .dataframe tbody tr th:only-of-type {\n",
       "        vertical-align: middle;\n",
       "    }\n",
       "\n",
       "    .dataframe tbody tr th {\n",
       "        vertical-align: top;\n",
       "    }\n",
       "\n",
       "    .dataframe thead tr th {\n",
       "        text-align: left;\n",
       "    }\n",
       "</style>\n",
       "<table border=\"1\" class=\"dataframe\">\n",
       "  <thead>\n",
       "    <tr>\n",
       "      <th></th>\n",
       "      <th>object_type</th>\n",
       "      <th>mean</th>\n",
       "    </tr>\n",
       "    <tr>\n",
       "      <th></th>\n",
       "      <th></th>\n",
       "      <th>number</th>\n",
       "    </tr>\n",
       "  </thead>\n",
       "  <tbody>\n",
       "    <tr>\n",
       "      <td>8</td>\n",
       "      <td>столовая</td>\n",
       "      <td>130.457621</td>\n",
       "    </tr>\n",
       "    <tr>\n",
       "      <td>7</td>\n",
       "      <td>ресторан</td>\n",
       "      <td>97.128137</td>\n",
       "    </tr>\n",
       "    <tr>\n",
       "      <td>2</td>\n",
       "      <td>буфет</td>\n",
       "      <td>51.660177</td>\n",
       "    </tr>\n",
       "    <tr>\n",
       "      <td>0</td>\n",
       "      <td>бар</td>\n",
       "      <td>43.660777</td>\n",
       "    </tr>\n",
       "    <tr>\n",
       "      <td>4</td>\n",
       "      <td>кафе</td>\n",
       "      <td>39.915707</td>\n",
       "    </tr>\n",
       "    <tr>\n",
       "      <td>1</td>\n",
       "      <td>бистро</td>\n",
       "      <td>20.743767</td>\n",
       "    </tr>\n",
       "    <tr>\n",
       "      <td>5</td>\n",
       "      <td>кафетерий</td>\n",
       "      <td>9.155612</td>\n",
       "    </tr>\n",
       "    <tr>\n",
       "      <td>3</td>\n",
       "      <td>закусочная</td>\n",
       "      <td>6.904070</td>\n",
       "    </tr>\n",
       "    <tr>\n",
       "      <td>6</td>\n",
       "      <td>кулинария</td>\n",
       "      <td>5.610294</td>\n",
       "    </tr>\n",
       "  </tbody>\n",
       "</table>\n",
       "</div>"
      ],
      "text/plain": [
       "  object_type        mean\n",
       "                   number\n",
       "8    столовая  130.457621\n",
       "7    ресторан   97.128137\n",
       "2       буфет   51.660177\n",
       "0         бар   43.660777\n",
       "4        кафе   39.915707\n",
       "1      бистро   20.743767\n",
       "5   кафетерий    9.155612\n",
       "3  закусочная    6.904070\n",
       "6   кулинария    5.610294"
      ]
     },
     "execution_count": 27,
     "metadata": {},
     "output_type": "execute_result"
    }
   ],
   "source": [
    "avg_number = rest_data.pivot_table(index='object_type', values='number',\\\n",
    "                        aggfunc= ['mean']).reset_index().sort_values(by=('mean','number'), ascending=False)\n",
    "avg_number"
   ]
  },
  {
   "cell_type": "markdown",
   "id": "015c057f",
   "metadata": {},
   "source": [
    "Построим график"
   ]
  },
  {
   "cell_type": "code",
   "execution_count": 28,
   "id": "b144b713",
   "metadata": {},
   "outputs": [
    {
     "data": {
      "image/png": "[encoded data removed]",
      "text/plain": [
       "<Figure size 720x432 with 1 Axes>"
      ]
     },
     "metadata": {
      "needs_background": "light"
     },
     "output_type": "display_data"
    }
   ],
   "source": [
    "plt.figure(figsize=(10,6))\n",
    "a5 = sns.barplot(x='object_type', y='number', data=rest_data, palette=\"Set3\")\n",
    "a5.set_xlabel('Тип объекта')\n",
    "a5.set_ylabel('Количество мест')\n",
    "a5.set_title('Среднее количество мест на объектах общественного питания в Москве')\n",
    "plt.show()"
   ]
  },
  {
   "cell_type": "markdown",
   "id": "168a233d",
   "metadata": {},
   "source": [
    "Больше всего мест в среднем у столовых, оно и понятно. В столовых обычно питание дешевле в сравнении с остальными типами ООП, и они берут количеством людей, которых могут накормить единовременно. Это тоже достаточно логично на мой взгляд."
   ]
  },
  {
   "cell_type": "markdown",
   "id": "8dba11e4",
   "metadata": {},
   "source": [
    "### Выделим в отдельный столбец информацию об улице из столбца address"
   ]
  },
  {
   "cell_type": "code",
   "execution_count": 29,
   "id": "ab079705",
   "metadata": {},
   "outputs": [
    {
     "data": {
      "text/html": [
       "<div>\n",
       "<style scoped>\n",
       "    .dataframe tbody tr th:only-of-type {\n",
       "        vertical-align: middle;\n",
       "    }\n",
       "\n",
       "    .dataframe tbody tr th {\n",
       "        vertical-align: top;\n",
       "    }\n",
       "\n",
       "    .dataframe thead th {\n",
       "        text-align: right;\n",
       "    }\n",
       "</style>\n",
       "<table border=\"1\" class=\"dataframe\">\n",
       "  <thead>\n",
       "    <tr style=\"text-align: right;\">\n",
       "      <th></th>\n",
       "      <th>id</th>\n",
       "      <th>object_name</th>\n",
       "      <th>chain</th>\n",
       "      <th>object_type</th>\n",
       "      <th>address</th>\n",
       "      <th>number</th>\n",
       "      <th>streetname</th>\n",
       "    </tr>\n",
       "  </thead>\n",
       "  <tbody>\n",
       "    <tr>\n",
       "      <td>0</td>\n",
       "      <td>151635</td>\n",
       "      <td>сметана</td>\n",
       "      <td>нет</td>\n",
       "      <td>кафе</td>\n",
       "      <td>город Москва, улица Егора Абакумова, дом 9</td>\n",
       "      <td>48</td>\n",
       "      <td>улица Егора Абакумова</td>\n",
       "    </tr>\n",
       "    <tr>\n",
       "      <td>1</td>\n",
       "      <td>77874</td>\n",
       "      <td>родник</td>\n",
       "      <td>нет</td>\n",
       "      <td>кафе</td>\n",
       "      <td>город Москва, улица Талалихина, дом 2/1, корпус 1</td>\n",
       "      <td>35</td>\n",
       "      <td>улица Талалихина</td>\n",
       "    </tr>\n",
       "    <tr>\n",
       "      <td>2</td>\n",
       "      <td>24309</td>\n",
       "      <td>кафе «академия»</td>\n",
       "      <td>нет</td>\n",
       "      <td>кафе</td>\n",
       "      <td>город Москва, Абельмановская улица, дом 6</td>\n",
       "      <td>95</td>\n",
       "      <td>Абельмановская улица</td>\n",
       "    </tr>\n",
       "    <tr>\n",
       "      <td>3</td>\n",
       "      <td>21894</td>\n",
       "      <td>пиццетория</td>\n",
       "      <td>да</td>\n",
       "      <td>кафе</td>\n",
       "      <td>город Москва, Абрамцевская улица, дом 1</td>\n",
       "      <td>40</td>\n",
       "      <td>Абрамцевская улица</td>\n",
       "    </tr>\n",
       "    <tr>\n",
       "      <td>4</td>\n",
       "      <td>119365</td>\n",
       "      <td>кафе «вишневая метель»</td>\n",
       "      <td>нет</td>\n",
       "      <td>кафе</td>\n",
       "      <td>город Москва, Абрамцевская улица, дом 9, корпус 1</td>\n",
       "      <td>50</td>\n",
       "      <td>Абрамцевская улица</td>\n",
       "    </tr>\n",
       "  </tbody>\n",
       "</table>\n",
       "</div>"
      ],
      "text/plain": [
       "       id             object_name chain object_type  \\\n",
       "0  151635                 сметана   нет        кафе   \n",
       "1   77874                  родник   нет        кафе   \n",
       "2   24309         кафе «академия»   нет        кафе   \n",
       "3   21894              пиццетория    да        кафе   \n",
       "4  119365  кафе «вишневая метель»   нет        кафе   \n",
       "\n",
       "                                             address  number  \\\n",
       "0         город Москва, улица Егора Абакумова, дом 9      48   \n",
       "1  город Москва, улица Талалихина, дом 2/1, корпус 1      35   \n",
       "2          город Москва, Абельмановская улица, дом 6      95   \n",
       "3            город Москва, Абрамцевская улица, дом 1      40   \n",
       "4  город Москва, Абрамцевская улица, дом 9, корпус 1      50   \n",
       "\n",
       "              streetname  \n",
       "0  улица Егора Абакумова  \n",
       "1       улица Талалихина  \n",
       "2   Абельмановская улица  \n",
       "3     Абрамцевская улица  \n",
       "4     Абрамцевская улица  "
      ]
     },
     "execution_count": 29,
     "metadata": {},
     "output_type": "execute_result"
    }
   ],
   "source": [
    "rest_data['streetname'] = rest_data['address'].apply(lambda x: x.split(',')[1])\n",
    "rest_data['streetname'] = rest_data['streetname'].str.strip()\n",
    "rest_data.head()"
   ]
  },
  {
   "cell_type": "markdown",
   "id": "bfbd47cb",
   "metadata": {},
   "source": [
    "### Составим топ-10 улиц по количеству ООП"
   ]
  },
  {
   "cell_type": "markdown",
   "id": "ff5679eb",
   "metadata": {},
   "source": [
    "Выделим в датафрейме колонку с названием улицы и сгруппируем по количеству ООП"
   ]
  },
  {
   "cell_type": "code",
   "execution_count": 30,
   "id": "26b69ec5",
   "metadata": {
    "scrolled": true
   },
   "outputs": [
    {
     "data": {
      "text/html": [
       "<div>\n",
       "<style scoped>\n",
       "    .dataframe tbody tr th:only-of-type {\n",
       "        vertical-align: middle;\n",
       "    }\n",
       "\n",
       "    .dataframe tbody tr th {\n",
       "        vertical-align: top;\n",
       "    }\n",
       "\n",
       "    .dataframe thead th {\n",
       "        text-align: right;\n",
       "    }\n",
       "</style>\n",
       "<table border=\"1\" class=\"dataframe\">\n",
       "  <thead>\n",
       "    <tr style=\"text-align: right;\">\n",
       "      <th></th>\n",
       "      <th>streetname</th>\n",
       "      <th>cafe_number</th>\n",
       "    </tr>\n",
       "  </thead>\n",
       "  <tbody>\n",
       "    <tr>\n",
       "      <td>0</td>\n",
       "      <td>город Зеленоград</td>\n",
       "      <td>230</td>\n",
       "    </tr>\n",
       "    <tr>\n",
       "      <td>1</td>\n",
       "      <td>проспект Мира</td>\n",
       "      <td>196</td>\n",
       "    </tr>\n",
       "    <tr>\n",
       "      <td>2</td>\n",
       "      <td>Профсоюзная улица</td>\n",
       "      <td>179</td>\n",
       "    </tr>\n",
       "    <tr>\n",
       "      <td>3</td>\n",
       "      <td>Ленинградский проспект</td>\n",
       "      <td>169</td>\n",
       "    </tr>\n",
       "    <tr>\n",
       "      <td>4</td>\n",
       "      <td>Пресненская набережная</td>\n",
       "      <td>165</td>\n",
       "    </tr>\n",
       "    <tr>\n",
       "      <td>5</td>\n",
       "      <td>Варшавское шоссе</td>\n",
       "      <td>159</td>\n",
       "    </tr>\n",
       "    <tr>\n",
       "      <td>6</td>\n",
       "      <td>Ленинский проспект</td>\n",
       "      <td>147</td>\n",
       "    </tr>\n",
       "    <tr>\n",
       "      <td>7</td>\n",
       "      <td>поселение Сосенское</td>\n",
       "      <td>136</td>\n",
       "    </tr>\n",
       "    <tr>\n",
       "      <td>8</td>\n",
       "      <td>проспект Вернадского</td>\n",
       "      <td>126</td>\n",
       "    </tr>\n",
       "    <tr>\n",
       "      <td>9</td>\n",
       "      <td>Кутузовский проспект</td>\n",
       "      <td>112</td>\n",
       "    </tr>\n",
       "  </tbody>\n",
       "</table>\n",
       "</div>"
      ],
      "text/plain": [
       "               streetname  cafe_number\n",
       "0        город Зеленоград          230\n",
       "1           проспект Мира          196\n",
       "2       Профсоюзная улица          179\n",
       "3  Ленинградский проспект          169\n",
       "4  Пресненская набережная          165\n",
       "5        Варшавское шоссе          159\n",
       "6      Ленинский проспект          147\n",
       "7     поселение Сосенское          136\n",
       "8    проспект Вернадского          126\n",
       "9    Кутузовский проспект          112"
      ]
     },
     "execution_count": 30,
     "metadata": {},
     "output_type": "execute_result"
    }
   ],
   "source": [
    "streets=rest_data['streetname'].value_counts().reset_index()\n",
    "streets.columns = ['streetname','cafe_number']\n",
    "streets.head(10)"
   ]
  },
  {
   "cell_type": "markdown",
   "id": "028aaa34",
   "metadata": {},
   "source": [
    "Видим, что в первую десятку попали город Зеленоград и поселение Сосенское. Из нашего топа мы их уберём, потому что всё-таки они не являются одной улицей."
   ]
  },
  {
   "cell_type": "code",
   "execution_count": 31,
   "id": "1a09e7bc",
   "metadata": {},
   "outputs": [
    {
     "data": {
      "text/html": [
       "<div>\n",
       "<style scoped>\n",
       "    .dataframe tbody tr th:only-of-type {\n",
       "        vertical-align: middle;\n",
       "    }\n",
       "\n",
       "    .dataframe tbody tr th {\n",
       "        vertical-align: top;\n",
       "    }\n",
       "\n",
       "    .dataframe thead th {\n",
       "        text-align: right;\n",
       "    }\n",
       "</style>\n",
       "<table border=\"1\" class=\"dataframe\">\n",
       "  <thead>\n",
       "    <tr style=\"text-align: right;\">\n",
       "      <th></th>\n",
       "      <th>streetname</th>\n",
       "      <th>cafe_number</th>\n",
       "    </tr>\n",
       "  </thead>\n",
       "  <tbody>\n",
       "    <tr>\n",
       "      <td>1</td>\n",
       "      <td>проспект Мира</td>\n",
       "      <td>196</td>\n",
       "    </tr>\n",
       "    <tr>\n",
       "      <td>2</td>\n",
       "      <td>Профсоюзная улица</td>\n",
       "      <td>179</td>\n",
       "    </tr>\n",
       "    <tr>\n",
       "      <td>3</td>\n",
       "      <td>Ленинградский проспект</td>\n",
       "      <td>169</td>\n",
       "    </tr>\n",
       "    <tr>\n",
       "      <td>4</td>\n",
       "      <td>Пресненская набережная</td>\n",
       "      <td>165</td>\n",
       "    </tr>\n",
       "    <tr>\n",
       "      <td>5</td>\n",
       "      <td>Варшавское шоссе</td>\n",
       "      <td>159</td>\n",
       "    </tr>\n",
       "    <tr>\n",
       "      <td>6</td>\n",
       "      <td>Ленинский проспект</td>\n",
       "      <td>147</td>\n",
       "    </tr>\n",
       "    <tr>\n",
       "      <td>8</td>\n",
       "      <td>проспект Вернадского</td>\n",
       "      <td>126</td>\n",
       "    </tr>\n",
       "    <tr>\n",
       "      <td>9</td>\n",
       "      <td>Кутузовский проспект</td>\n",
       "      <td>112</td>\n",
       "    </tr>\n",
       "    <tr>\n",
       "      <td>10</td>\n",
       "      <td>Каширское шоссе</td>\n",
       "      <td>110</td>\n",
       "    </tr>\n",
       "    <tr>\n",
       "      <td>11</td>\n",
       "      <td>Кировоградская улица</td>\n",
       "      <td>106</td>\n",
       "    </tr>\n",
       "  </tbody>\n",
       "</table>\n",
       "</div>"
      ],
      "text/plain": [
       "                streetname  cafe_number\n",
       "1            проспект Мира          196\n",
       "2        Профсоюзная улица          179\n",
       "3   Ленинградский проспект          169\n",
       "4   Пресненская набережная          165\n",
       "5         Варшавское шоссе          159\n",
       "6       Ленинский проспект          147\n",
       "8     проспект Вернадского          126\n",
       "9     Кутузовский проспект          112\n",
       "10         Каширское шоссе          110\n",
       "11    Кировоградская улица          106"
      ]
     },
     "execution_count": 31,
     "metadata": {},
     "output_type": "execute_result"
    }
   ],
   "source": [
    "top_10_streets = streets.query('streetname != \"город Зеленоград\" and streetname != \"поселение Сосенское\"').head(10)\n",
    "top_10_streets"
   ]
  },
  {
   "cell_type": "markdown",
   "id": "8f31a4d2",
   "metadata": {},
   "source": [
    "Построим график"
   ]
  },
  {
   "cell_type": "code",
   "execution_count": 32,
   "id": "1ad3f7b7",
   "metadata": {
    "scrolled": true
   },
   "outputs": [
    {
     "data": {
      "image/png": "[encoded data removed]",
      "text/plain": [
       "<Figure size 432x288 with 1 Axes>"
      ]
     },
     "metadata": {
      "needs_background": "light"
     },
     "output_type": "display_data"
    }
   ],
   "source": [
    "a6 = sns.barplot(x='streetname', y='cafe_number', data=top_10_streets, palette=\"Set2\")\n",
    "a6.set_xlabel('Название улицы')\n",
    "a6.set_ylabel('Количество заведений')\n",
    "a6.set_title('Топ-10 улиц по количеству объектов общественного питания')\n",
    "plt.xticks(rotation=35)\n",
    "plt.show()"
   ]
  },
  {
   "cell_type": "markdown",
   "id": "8d0b509c",
   "metadata": {},
   "source": [
    "Самые \"густонаселённые\" улицы - те, проходят через несколько районов, большие, артерии города. Оно и понятно: чем длиннее улица, тем больше на ней можно открыть заведений.\n",
    "\n",
    "Воспользуемся справочником улиц Москвы Мосгаз и сопоставим полученные нами данные с районами Москвы"
   ]
  },
  {
   "cell_type": "code",
   "execution_count": 33,
   "id": "d5e7eacf",
   "metadata": {},
   "outputs": [
    {
     "data": {
      "text/html": [
       "<div>\n",
       "<style scoped>\n",
       "    .dataframe tbody tr th:only-of-type {\n",
       "        vertical-align: middle;\n",
       "    }\n",
       "\n",
       "    .dataframe tbody tr th {\n",
       "        vertical-align: top;\n",
       "    }\n",
       "\n",
       "    .dataframe thead th {\n",
       "        text-align: right;\n",
       "    }\n",
       "</style>\n",
       "<table border=\"1\" class=\"dataframe\">\n",
       "  <thead>\n",
       "    <tr style=\"text-align: right;\">\n",
       "      <th></th>\n",
       "      <th>streetname</th>\n",
       "      <th>areaid</th>\n",
       "      <th>okrug</th>\n",
       "      <th>area</th>\n",
       "    </tr>\n",
       "  </thead>\n",
       "  <tbody>\n",
       "    <tr>\n",
       "      <td>0</td>\n",
       "      <td>Выставочный переулок</td>\n",
       "      <td>17</td>\n",
       "      <td>ЦАО</td>\n",
       "      <td>Пресненский район</td>\n",
       "    </tr>\n",
       "    <tr>\n",
       "      <td>1</td>\n",
       "      <td>улица Гашека</td>\n",
       "      <td>17</td>\n",
       "      <td>ЦАО</td>\n",
       "      <td>Пресненский район</td>\n",
       "    </tr>\n",
       "    <tr>\n",
       "      <td>2</td>\n",
       "      <td>Большая Никитская улица</td>\n",
       "      <td>17</td>\n",
       "      <td>ЦАО</td>\n",
       "      <td>Пресненский район</td>\n",
       "    </tr>\n",
       "    <tr>\n",
       "      <td>3</td>\n",
       "      <td>Глубокий переулок</td>\n",
       "      <td>17</td>\n",
       "      <td>ЦАО</td>\n",
       "      <td>Пресненский район</td>\n",
       "    </tr>\n",
       "    <tr>\n",
       "      <td>4</td>\n",
       "      <td>Большой Гнездниковский переулок</td>\n",
       "      <td>17</td>\n",
       "      <td>ЦАО</td>\n",
       "      <td>Пресненский район</td>\n",
       "    </tr>\n",
       "  </tbody>\n",
       "</table>\n",
       "</div>"
      ],
      "text/plain": [
       "                        streetname  areaid okrug               area\n",
       "0             Выставочный переулок      17   ЦАО  Пресненский район\n",
       "1                     улица Гашека      17   ЦАО  Пресненский район\n",
       "2          Большая Никитская улица      17   ЦАО  Пресненский район\n",
       "3                Глубокий переулок      17   ЦАО  Пресненский район\n",
       "4  Большой Гнездниковский переулок      17   ЦАО  Пресненский район"
      ]
     },
     "execution_count": 33,
     "metadata": {},
     "output_type": "execute_result"
    }
   ],
   "source": [
    "from io import BytesIO\n",
    "import requests\n",
    "\n",
    "spreadsheet_id = '1DzxfPNDARr4A5drj2kQXuwAfr1-F1gFQdqb5OQ1mHSY'\n",
    "file_name = 'https://docs.google.com/spreadsheets/d/{}/export?format=csv'.format(spreadsheet_id) # указываем путь к файлу, но после d/ указываем id файла, при помощи .format()\n",
    "r = requests.get(file_name)\n",
    "districts = pd.read_csv(BytesIO(r.content))\n",
    "districts.head()"
   ]
  },
  {
   "cell_type": "markdown",
   "id": "d92f7b3c",
   "metadata": {},
   "source": [
    "Соединим таблицы, чтобы объединить названия улиц с округами и районами, в которых они находятся"
   ]
  },
  {
   "cell_type": "code",
   "execution_count": 34,
   "id": "9a2cc442",
   "metadata": {},
   "outputs": [
    {
     "data": {
      "text/html": [
       "<div>\n",
       "<style scoped>\n",
       "    .dataframe tbody tr th:only-of-type {\n",
       "        vertical-align: middle;\n",
       "    }\n",
       "\n",
       "    .dataframe tbody tr th {\n",
       "        vertical-align: top;\n",
       "    }\n",
       "\n",
       "    .dataframe thead th {\n",
       "        text-align: right;\n",
       "    }\n",
       "</style>\n",
       "<table border=\"1\" class=\"dataframe\">\n",
       "  <thead>\n",
       "    <tr style=\"text-align: right;\">\n",
       "      <th></th>\n",
       "      <th>streetname</th>\n",
       "      <th>cafe_number</th>\n",
       "      <th>okrug</th>\n",
       "      <th>area</th>\n",
       "    </tr>\n",
       "  </thead>\n",
       "  <tbody>\n",
       "    <tr>\n",
       "      <td>0</td>\n",
       "      <td>проспект Мира</td>\n",
       "      <td>196</td>\n",
       "      <td>СВАО</td>\n",
       "      <td>Алексеевский район</td>\n",
       "    </tr>\n",
       "    <tr>\n",
       "      <td>1</td>\n",
       "      <td>проспект Мира</td>\n",
       "      <td>196</td>\n",
       "      <td>СВАО</td>\n",
       "      <td>Ярославский Район</td>\n",
       "    </tr>\n",
       "    <tr>\n",
       "      <td>2</td>\n",
       "      <td>проспект Мира</td>\n",
       "      <td>196</td>\n",
       "      <td>СВАО</td>\n",
       "      <td>Район Марьина роща</td>\n",
       "    </tr>\n",
       "    <tr>\n",
       "      <td>3</td>\n",
       "      <td>проспект Мира</td>\n",
       "      <td>196</td>\n",
       "      <td>СВАО</td>\n",
       "      <td>Останкинский район</td>\n",
       "    </tr>\n",
       "    <tr>\n",
       "      <td>4</td>\n",
       "      <td>проспект Мира</td>\n",
       "      <td>196</td>\n",
       "      <td>СВАО</td>\n",
       "      <td>Район Ростокино</td>\n",
       "    </tr>\n",
       "    <tr>\n",
       "      <td>5</td>\n",
       "      <td>проспект Мира</td>\n",
       "      <td>196</td>\n",
       "      <td>СВАО</td>\n",
       "      <td>Район Свиблово</td>\n",
       "    </tr>\n",
       "    <tr>\n",
       "      <td>6</td>\n",
       "      <td>проспект Мира</td>\n",
       "      <td>196</td>\n",
       "      <td>ЦАО</td>\n",
       "      <td>Мещанский район</td>\n",
       "    </tr>\n",
       "    <tr>\n",
       "      <td>7</td>\n",
       "      <td>Профсоюзная улица</td>\n",
       "      <td>179</td>\n",
       "      <td>ЮЗАО</td>\n",
       "      <td>Академический район</td>\n",
       "    </tr>\n",
       "    <tr>\n",
       "      <td>8</td>\n",
       "      <td>Профсоюзная улица</td>\n",
       "      <td>179</td>\n",
       "      <td>ЮЗАО</td>\n",
       "      <td>Район Черемушки</td>\n",
       "    </tr>\n",
       "    <tr>\n",
       "      <td>9</td>\n",
       "      <td>Профсоюзная улица</td>\n",
       "      <td>179</td>\n",
       "      <td>ЮЗАО</td>\n",
       "      <td>Район Ясенево</td>\n",
       "    </tr>\n",
       "    <tr>\n",
       "      <td>10</td>\n",
       "      <td>Профсоюзная улица</td>\n",
       "      <td>179</td>\n",
       "      <td>ЮЗАО</td>\n",
       "      <td>Район Коньково</td>\n",
       "    </tr>\n",
       "    <tr>\n",
       "      <td>11</td>\n",
       "      <td>Профсоюзная улица</td>\n",
       "      <td>179</td>\n",
       "      <td>ЮЗАО</td>\n",
       "      <td>Обручевский район</td>\n",
       "    </tr>\n",
       "    <tr>\n",
       "      <td>12</td>\n",
       "      <td>Профсоюзная улица</td>\n",
       "      <td>179</td>\n",
       "      <td>ЮЗАО</td>\n",
       "      <td>Район Теплый Стан</td>\n",
       "    </tr>\n",
       "    <tr>\n",
       "      <td>13</td>\n",
       "      <td>Ленинградский проспект</td>\n",
       "      <td>169</td>\n",
       "      <td>САО</td>\n",
       "      <td>Район Аэропорт</td>\n",
       "    </tr>\n",
       "    <tr>\n",
       "      <td>14</td>\n",
       "      <td>Ленинградский проспект</td>\n",
       "      <td>169</td>\n",
       "      <td>САО</td>\n",
       "      <td>Район Беговой</td>\n",
       "    </tr>\n",
       "    <tr>\n",
       "      <td>15</td>\n",
       "      <td>Ленинградский проспект</td>\n",
       "      <td>169</td>\n",
       "      <td>САО</td>\n",
       "      <td>Хорошевский район</td>\n",
       "    </tr>\n",
       "    <tr>\n",
       "      <td>16</td>\n",
       "      <td>Ленинградский проспект</td>\n",
       "      <td>169</td>\n",
       "      <td>САО</td>\n",
       "      <td>Район Сокол</td>\n",
       "    </tr>\n",
       "    <tr>\n",
       "      <td>17</td>\n",
       "      <td>Пресненская набережная</td>\n",
       "      <td>165</td>\n",
       "      <td>ЦАО</td>\n",
       "      <td>Пресненский район</td>\n",
       "    </tr>\n",
       "    <tr>\n",
       "      <td>18</td>\n",
       "      <td>Варшавское шоссе</td>\n",
       "      <td>159</td>\n",
       "      <td>ЮАО</td>\n",
       "      <td>Район Чертаново Центральное</td>\n",
       "    </tr>\n",
       "    <tr>\n",
       "      <td>19</td>\n",
       "      <td>Варшавское шоссе</td>\n",
       "      <td>159</td>\n",
       "      <td>ЮАО</td>\n",
       "      <td>Район Чертаново Северное</td>\n",
       "    </tr>\n",
       "    <tr>\n",
       "      <td>20</td>\n",
       "      <td>Варшавское шоссе</td>\n",
       "      <td>159</td>\n",
       "      <td>ЮАО</td>\n",
       "      <td>Район Чертаново Южное</td>\n",
       "    </tr>\n",
       "    <tr>\n",
       "      <td>21</td>\n",
       "      <td>Варшавское шоссе</td>\n",
       "      <td>159</td>\n",
       "      <td>ЮАО</td>\n",
       "      <td>Донской район</td>\n",
       "    </tr>\n",
       "    <tr>\n",
       "      <td>22</td>\n",
       "      <td>Варшавское шоссе</td>\n",
       "      <td>159</td>\n",
       "      <td>ЮАО</td>\n",
       "      <td>Район Нагатино-Садовники</td>\n",
       "    </tr>\n",
       "    <tr>\n",
       "      <td>23</td>\n",
       "      <td>Варшавское шоссе</td>\n",
       "      <td>159</td>\n",
       "      <td>ЮАО</td>\n",
       "      <td>Нагорный район</td>\n",
       "    </tr>\n",
       "    <tr>\n",
       "      <td>24</td>\n",
       "      <td>Варшавское шоссе</td>\n",
       "      <td>159</td>\n",
       "      <td>ЮЗАО</td>\n",
       "      <td>Район Северное Бутово</td>\n",
       "    </tr>\n",
       "    <tr>\n",
       "      <td>25</td>\n",
       "      <td>Варшавское шоссе</td>\n",
       "      <td>159</td>\n",
       "      <td>ЮЗАО</td>\n",
       "      <td>Район Южное Бутово</td>\n",
       "    </tr>\n",
       "    <tr>\n",
       "      <td>26</td>\n",
       "      <td>Ленинский проспект</td>\n",
       "      <td>147</td>\n",
       "      <td>ЗАО</td>\n",
       "      <td>Район Проспект Вернадского</td>\n",
       "    </tr>\n",
       "    <tr>\n",
       "      <td>27</td>\n",
       "      <td>Ленинский проспект</td>\n",
       "      <td>147</td>\n",
       "      <td>ЗАО</td>\n",
       "      <td>Район Тропарево-Никулино</td>\n",
       "    </tr>\n",
       "    <tr>\n",
       "      <td>28</td>\n",
       "      <td>Ленинский проспект</td>\n",
       "      <td>147</td>\n",
       "      <td>ЮАО</td>\n",
       "      <td>Донской район</td>\n",
       "    </tr>\n",
       "    <tr>\n",
       "      <td>29</td>\n",
       "      <td>Ленинский проспект</td>\n",
       "      <td>147</td>\n",
       "      <td>ЮЗАО</td>\n",
       "      <td>Район Гагаринский</td>\n",
       "    </tr>\n",
       "    <tr>\n",
       "      <td>30</td>\n",
       "      <td>Ленинский проспект</td>\n",
       "      <td>147</td>\n",
       "      <td>ЮЗАО</td>\n",
       "      <td>Ломоносовский район</td>\n",
       "    </tr>\n",
       "    <tr>\n",
       "      <td>31</td>\n",
       "      <td>Ленинский проспект</td>\n",
       "      <td>147</td>\n",
       "      <td>ЮЗАО</td>\n",
       "      <td>Обручевский район</td>\n",
       "    </tr>\n",
       "    <tr>\n",
       "      <td>32</td>\n",
       "      <td>Ленинский проспект</td>\n",
       "      <td>147</td>\n",
       "      <td>ЮЗАО</td>\n",
       "      <td>Район Теплый Стан</td>\n",
       "    </tr>\n",
       "    <tr>\n",
       "      <td>33</td>\n",
       "      <td>Ленинский проспект</td>\n",
       "      <td>147</td>\n",
       "      <td>ЦАО</td>\n",
       "      <td>Район Якиманка</td>\n",
       "    </tr>\n",
       "    <tr>\n",
       "      <td>34</td>\n",
       "      <td>проспект Вернадского</td>\n",
       "      <td>126</td>\n",
       "      <td>ЗАО</td>\n",
       "      <td>Район Проспект Вернадского</td>\n",
       "    </tr>\n",
       "    <tr>\n",
       "      <td>35</td>\n",
       "      <td>проспект Вернадского</td>\n",
       "      <td>126</td>\n",
       "      <td>ЗАО</td>\n",
       "      <td>Район Раменки</td>\n",
       "    </tr>\n",
       "    <tr>\n",
       "      <td>36</td>\n",
       "      <td>проспект Вернадского</td>\n",
       "      <td>126</td>\n",
       "      <td>ЗАО</td>\n",
       "      <td>Район Тропарево-Никулино</td>\n",
       "    </tr>\n",
       "    <tr>\n",
       "      <td>37</td>\n",
       "      <td>проспект Вернадского</td>\n",
       "      <td>126</td>\n",
       "      <td>ЮЗАО</td>\n",
       "      <td>Район Гагаринский</td>\n",
       "    </tr>\n",
       "    <tr>\n",
       "      <td>38</td>\n",
       "      <td>проспект Вернадского</td>\n",
       "      <td>126</td>\n",
       "      <td>ЮЗАО</td>\n",
       "      <td>Ломоносовский район</td>\n",
       "    </tr>\n",
       "    <tr>\n",
       "      <td>39</td>\n",
       "      <td>Кутузовский проспект</td>\n",
       "      <td>112</td>\n",
       "      <td>ЗАО</td>\n",
       "      <td>Район Дорогомилово</td>\n",
       "    </tr>\n",
       "    <tr>\n",
       "      <td>40</td>\n",
       "      <td>Кутузовский проспект</td>\n",
       "      <td>112</td>\n",
       "      <td>ЗАО</td>\n",
       "      <td>Район Фили-Давыдково</td>\n",
       "    </tr>\n",
       "    <tr>\n",
       "      <td>41</td>\n",
       "      <td>Каширское шоссе</td>\n",
       "      <td>110</td>\n",
       "      <td>ЮАО</td>\n",
       "      <td>Район Москворечье-Сабурово</td>\n",
       "    </tr>\n",
       "    <tr>\n",
       "      <td>42</td>\n",
       "      <td>Каширское шоссе</td>\n",
       "      <td>110</td>\n",
       "      <td>ЮАО</td>\n",
       "      <td>Район Нагатино-Садовники</td>\n",
       "    </tr>\n",
       "    <tr>\n",
       "      <td>43</td>\n",
       "      <td>Каширское шоссе</td>\n",
       "      <td>110</td>\n",
       "      <td>ЮАО</td>\n",
       "      <td>Район Орехово-Борисово Южное</td>\n",
       "    </tr>\n",
       "    <tr>\n",
       "      <td>44</td>\n",
       "      <td>Каширское шоссе</td>\n",
       "      <td>110</td>\n",
       "      <td>ЮАО</td>\n",
       "      <td>Район Орехово-Борисово Северное</td>\n",
       "    </tr>\n",
       "    <tr>\n",
       "      <td>45</td>\n",
       "      <td>Кировоградская улица</td>\n",
       "      <td>106</td>\n",
       "      <td>ЮАО</td>\n",
       "      <td>Район Чертаново Центральное</td>\n",
       "    </tr>\n",
       "    <tr>\n",
       "      <td>46</td>\n",
       "      <td>Кировоградская улица</td>\n",
       "      <td>106</td>\n",
       "      <td>ЮАО</td>\n",
       "      <td>Район Чертаново Северное</td>\n",
       "    </tr>\n",
       "    <tr>\n",
       "      <td>47</td>\n",
       "      <td>Кировоградская улица</td>\n",
       "      <td>106</td>\n",
       "      <td>ЮАО</td>\n",
       "      <td>Район Чертаново Южное</td>\n",
       "    </tr>\n",
       "  </tbody>\n",
       "</table>\n",
       "</div>"
      ],
      "text/plain": [
       "                streetname  cafe_number okrug                             area\n",
       "0            проспект Мира          196  СВАО               Алексеевский район\n",
       "1            проспект Мира          196  СВАО                Ярославский Район\n",
       "2            проспект Мира          196  СВАО               Район Марьина роща\n",
       "3            проспект Мира          196  СВАО               Останкинский район\n",
       "4            проспект Мира          196  СВАО                  Район Ростокино\n",
       "5            проспект Мира          196  СВАО                   Район Свиблово\n",
       "6            проспект Мира          196   ЦАО                  Мещанский район\n",
       "7        Профсоюзная улица          179  ЮЗАО              Академический район\n",
       "8        Профсоюзная улица          179  ЮЗАО                  Район Черемушки\n",
       "9        Профсоюзная улица          179  ЮЗАО                    Район Ясенево\n",
       "10       Профсоюзная улица          179  ЮЗАО                   Район Коньково\n",
       "11       Профсоюзная улица          179  ЮЗАО                Обручевский район\n",
       "12       Профсоюзная улица          179  ЮЗАО                Район Теплый Стан\n",
       "13  Ленинградский проспект          169   САО                   Район Аэропорт\n",
       "14  Ленинградский проспект          169   САО                    Район Беговой\n",
       "15  Ленинградский проспект          169   САО                Хорошевский район\n",
       "16  Ленинградский проспект          169   САО                      Район Сокол\n",
       "17  Пресненская набережная          165   ЦАО                Пресненский район\n",
       "18        Варшавское шоссе          159   ЮАО      Район Чертаново Центральное\n",
       "19        Варшавское шоссе          159   ЮАО         Район Чертаново Северное\n",
       "20        Варшавское шоссе          159   ЮАО            Район Чертаново Южное\n",
       "21        Варшавское шоссе          159   ЮАО                    Донской район\n",
       "22        Варшавское шоссе          159   ЮАО         Район Нагатино-Садовники\n",
       "23        Варшавское шоссе          159   ЮАО                   Нагорный район\n",
       "24        Варшавское шоссе          159  ЮЗАО            Район Северное Бутово\n",
       "25        Варшавское шоссе          159  ЮЗАО               Район Южное Бутово\n",
       "26      Ленинский проспект          147   ЗАО       Район Проспект Вернадского\n",
       "27      Ленинский проспект          147   ЗАО         Район Тропарево-Никулино\n",
       "28      Ленинский проспект          147   ЮАО                    Донской район\n",
       "29      Ленинский проспект          147  ЮЗАО                Район Гагаринский\n",
       "30      Ленинский проспект          147  ЮЗАО              Ломоносовский район\n",
       "31      Ленинский проспект          147  ЮЗАО                Обручевский район\n",
       "32      Ленинский проспект          147  ЮЗАО                Район Теплый Стан\n",
       "33      Ленинский проспект          147   ЦАО                   Район Якиманка\n",
       "34    проспект Вернадского          126   ЗАО       Район Проспект Вернадского\n",
       "35    проспект Вернадского          126   ЗАО                    Район Раменки\n",
       "36    проспект Вернадского          126   ЗАО         Район Тропарево-Никулино\n",
       "37    проспект Вернадского          126  ЮЗАО                Район Гагаринский\n",
       "38    проспект Вернадского          126  ЮЗАО              Ломоносовский район\n",
       "39    Кутузовский проспект          112   ЗАО               Район Дорогомилово\n",
       "40    Кутузовский проспект          112   ЗАО             Район Фили-Давыдково\n",
       "41         Каширское шоссе          110   ЮАО       Район Москворечье-Сабурово\n",
       "42         Каширское шоссе          110   ЮАО         Район Нагатино-Садовники\n",
       "43         Каширское шоссе          110   ЮАО     Район Орехово-Борисово Южное\n",
       "44         Каширское шоссе          110   ЮАО  Район Орехово-Борисово Северное\n",
       "45    Кировоградская улица          106   ЮАО      Район Чертаново Центральное\n",
       "46    Кировоградская улица          106   ЮАО         Район Чертаново Северное\n",
       "47    Кировоградская улица          106   ЮАО            Район Чертаново Южное"
      ]
     },
     "execution_count": 34,
     "metadata": {},
     "output_type": "execute_result"
    }
   ],
   "source": [
    "top_10_streets = top_10_streets.merge(districts[['streetname', 'okrug', 'area']], on='streetname', how='left')\n",
    "top_10_streets"
   ]
  },
  {
   "cell_type": "code",
   "execution_count": 35,
   "id": "01ed50d2",
   "metadata": {},
   "outputs": [
    {
     "data": {
      "text/html": [
       "<div>\n",
       "<style scoped>\n",
       "    .dataframe tbody tr th:only-of-type {\n",
       "        vertical-align: middle;\n",
       "    }\n",
       "\n",
       "    .dataframe tbody tr th {\n",
       "        vertical-align: top;\n",
       "    }\n",
       "\n",
       "    .dataframe thead th {\n",
       "        text-align: right;\n",
       "    }\n",
       "</style>\n",
       "<table border=\"1\" class=\"dataframe\">\n",
       "  <thead>\n",
       "    <tr style=\"text-align: right;\">\n",
       "      <th></th>\n",
       "      <th></th>\n",
       "      <th>area</th>\n",
       "    </tr>\n",
       "    <tr>\n",
       "      <th>streetname</th>\n",
       "      <th>okrug</th>\n",
       "      <th></th>\n",
       "    </tr>\n",
       "  </thead>\n",
       "  <tbody>\n",
       "    <tr>\n",
       "      <td rowspan=\"2\" valign=\"top\">Варшавское шоссе</td>\n",
       "      <td>ЮАО</td>\n",
       "      <td>6</td>\n",
       "    </tr>\n",
       "    <tr>\n",
       "      <td>ЮЗАО</td>\n",
       "      <td>2</td>\n",
       "    </tr>\n",
       "    <tr>\n",
       "      <td>Каширское шоссе</td>\n",
       "      <td>ЮАО</td>\n",
       "      <td>4</td>\n",
       "    </tr>\n",
       "    <tr>\n",
       "      <td>Кировоградская улица</td>\n",
       "      <td>ЮАО</td>\n",
       "      <td>3</td>\n",
       "    </tr>\n",
       "    <tr>\n",
       "      <td>Кутузовский проспект</td>\n",
       "      <td>ЗАО</td>\n",
       "      <td>2</td>\n",
       "    </tr>\n",
       "    <tr>\n",
       "      <td>Ленинградский проспект</td>\n",
       "      <td>САО</td>\n",
       "      <td>4</td>\n",
       "    </tr>\n",
       "    <tr>\n",
       "      <td rowspan=\"4\" valign=\"top\">Ленинский проспект</td>\n",
       "      <td>ЗАО</td>\n",
       "      <td>2</td>\n",
       "    </tr>\n",
       "    <tr>\n",
       "      <td>ЦАО</td>\n",
       "      <td>1</td>\n",
       "    </tr>\n",
       "    <tr>\n",
       "      <td>ЮАО</td>\n",
       "      <td>1</td>\n",
       "    </tr>\n",
       "    <tr>\n",
       "      <td>ЮЗАО</td>\n",
       "      <td>4</td>\n",
       "    </tr>\n",
       "    <tr>\n",
       "      <td>Пресненская набережная</td>\n",
       "      <td>ЦАО</td>\n",
       "      <td>1</td>\n",
       "    </tr>\n",
       "    <tr>\n",
       "      <td>Профсоюзная улица</td>\n",
       "      <td>ЮЗАО</td>\n",
       "      <td>6</td>\n",
       "    </tr>\n",
       "    <tr>\n",
       "      <td rowspan=\"2\" valign=\"top\">проспект Вернадского</td>\n",
       "      <td>ЗАО</td>\n",
       "      <td>3</td>\n",
       "    </tr>\n",
       "    <tr>\n",
       "      <td>ЮЗАО</td>\n",
       "      <td>2</td>\n",
       "    </tr>\n",
       "    <tr>\n",
       "      <td rowspan=\"2\" valign=\"top\">проспект Мира</td>\n",
       "      <td>СВАО</td>\n",
       "      <td>6</td>\n",
       "    </tr>\n",
       "    <tr>\n",
       "      <td>ЦАО</td>\n",
       "      <td>1</td>\n",
       "    </tr>\n",
       "  </tbody>\n",
       "</table>\n",
       "</div>"
      ],
      "text/plain": [
       "                              area\n",
       "streetname             okrug      \n",
       "Варшавское шоссе       ЮАО       6\n",
       "                       ЮЗАО      2\n",
       "Каширское шоссе        ЮАО       4\n",
       "Кировоградская улица   ЮАО       3\n",
       "Кутузовский проспект   ЗАО       2\n",
       "Ленинградский проспект САО       4\n",
       "Ленинский проспект     ЗАО       2\n",
       "                       ЦАО       1\n",
       "                       ЮАО       1\n",
       "                       ЮЗАО      4\n",
       "Пресненская набережная ЦАО       1\n",
       "Профсоюзная улица      ЮЗАО      6\n",
       "проспект Вернадского   ЗАО       3\n",
       "                       ЮЗАО      2\n",
       "проспект Мира          СВАО      6\n",
       "                       ЦАО       1"
      ]
     },
     "execution_count": 35,
     "metadata": {},
     "output_type": "execute_result"
    }
   ],
   "source": [
    "top_areas = top_10_streets.pivot_table(index=['streetname', 'okrug'], values='area', aggfunc='count')\n",
    "top_areas"
   ]
  },
  {
   "cell_type": "markdown",
   "id": "9a8540e5",
   "metadata": {},
   "source": [
    "Районы выделили, округа тоже. Можно увидеть, что самые топ-округа по количеству заведений - южный и юго-западный АО."
   ]
  },
  {
   "cell_type": "markdown",
   "id": "0a9a84cd",
   "metadata": {},
   "source": [
    "### Найдём число улиц с одним ООП"
   ]
  },
  {
   "cell_type": "markdown",
   "id": "8fe1c1dd",
   "metadata": {},
   "source": [
    "Выделим из нашей таблицы данные об улицах, на которых находится только одно заведение"
   ]
  },
  {
   "cell_type": "code",
   "execution_count": 36,
   "id": "1428b199",
   "metadata": {},
   "outputs": [
    {
     "data": {
      "text/html": [
       "<div>\n",
       "<style scoped>\n",
       "    .dataframe tbody tr th:only-of-type {\n",
       "        vertical-align: middle;\n",
       "    }\n",
       "\n",
       "    .dataframe tbody tr th {\n",
       "        vertical-align: top;\n",
       "    }\n",
       "\n",
       "    .dataframe thead th {\n",
       "        text-align: right;\n",
       "    }\n",
       "</style>\n",
       "<table border=\"1\" class=\"dataframe\">\n",
       "  <thead>\n",
       "    <tr style=\"text-align: right;\">\n",
       "      <th></th>\n",
       "      <th>streetname</th>\n",
       "      <th>cafe_number</th>\n",
       "    </tr>\n",
       "  </thead>\n",
       "  <tbody>\n",
       "    <tr>\n",
       "      <td>1320</td>\n",
       "      <td>2-й Кадашёвский переулок</td>\n",
       "      <td>1</td>\n",
       "    </tr>\n",
       "    <tr>\n",
       "      <td>1321</td>\n",
       "      <td>деревня Сенькино-Секерино</td>\n",
       "      <td>1</td>\n",
       "    </tr>\n",
       "    <tr>\n",
       "      <td>1322</td>\n",
       "      <td>владение 32Б</td>\n",
       "      <td>1</td>\n",
       "    </tr>\n",
       "    <tr>\n",
       "      <td>1323</td>\n",
       "      <td>Будайская улица</td>\n",
       "      <td>1</td>\n",
       "    </tr>\n",
       "    <tr>\n",
       "      <td>1324</td>\n",
       "      <td>Петроверигский переулок</td>\n",
       "      <td>1</td>\n",
       "    </tr>\n",
       "    <tr>\n",
       "      <td>...</td>\n",
       "      <td>...</td>\n",
       "      <td>...</td>\n",
       "    </tr>\n",
       "    <tr>\n",
       "      <td>1895</td>\n",
       "      <td>Большой Предтеченский переулок</td>\n",
       "      <td>1</td>\n",
       "    </tr>\n",
       "    <tr>\n",
       "      <td>1896</td>\n",
       "      <td>Триумфальная площадь</td>\n",
       "      <td>1</td>\n",
       "    </tr>\n",
       "    <tr>\n",
       "      <td>1897</td>\n",
       "      <td>2-й Хуторской переулок</td>\n",
       "      <td>1</td>\n",
       "    </tr>\n",
       "    <tr>\n",
       "      <td>1898</td>\n",
       "      <td>улица Академика Павлова</td>\n",
       "      <td>1</td>\n",
       "    </tr>\n",
       "    <tr>\n",
       "      <td>1899</td>\n",
       "      <td>Ялтинская улица</td>\n",
       "      <td>1</td>\n",
       "    </tr>\n",
       "  </tbody>\n",
       "</table>\n",
       "<p>580 rows × 2 columns</p>\n",
       "</div>"
      ],
      "text/plain": [
       "                          streetname  cafe_number\n",
       "1320        2-й Кадашёвский переулок            1\n",
       "1321       деревня Сенькино-Секерино            1\n",
       "1322                    владение 32Б            1\n",
       "1323                 Будайская улица            1\n",
       "1324         Петроверигский переулок            1\n",
       "...                              ...          ...\n",
       "1895  Большой Предтеченский переулок            1\n",
       "1896            Триумфальная площадь            1\n",
       "1897          2-й Хуторской переулок            1\n",
       "1898         улица Академика Павлова            1\n",
       "1899                 Ялтинская улица            1\n",
       "\n",
       "[580 rows x 2 columns]"
      ]
     },
     "execution_count": 36,
     "metadata": {},
     "output_type": "execute_result"
    }
   ],
   "source": [
    "one_rest_streets = streets.query('cafe_number == 1')\n",
    "one_rest_streets"
   ]
  },
  {
   "cell_type": "markdown",
   "id": "46e97397",
   "metadata": {},
   "source": [
    "Сеодиним таблицы и свяжем снова улицы с районами и округами"
   ]
  },
  {
   "cell_type": "code",
   "execution_count": 37,
   "id": "4ef8c52d",
   "metadata": {},
   "outputs": [
    {
     "data": {
      "text/html": [
       "<div>\n",
       "<style scoped>\n",
       "    .dataframe tbody tr th:only-of-type {\n",
       "        vertical-align: middle;\n",
       "    }\n",
       "\n",
       "    .dataframe tbody tr th {\n",
       "        vertical-align: top;\n",
       "    }\n",
       "\n",
       "    .dataframe thead th {\n",
       "        text-align: right;\n",
       "    }\n",
       "</style>\n",
       "<table border=\"1\" class=\"dataframe\">\n",
       "  <thead>\n",
       "    <tr style=\"text-align: right;\">\n",
       "      <th></th>\n",
       "      <th>streetname</th>\n",
       "      <th>cafe_number</th>\n",
       "      <th>okrug</th>\n",
       "      <th>area</th>\n",
       "    </tr>\n",
       "  </thead>\n",
       "  <tbody>\n",
       "    <tr>\n",
       "      <td>0</td>\n",
       "      <td>2-й Кадашёвский переулок</td>\n",
       "      <td>1</td>\n",
       "      <td>ЦАО</td>\n",
       "      <td>Район Якиманка</td>\n",
       "    </tr>\n",
       "    <tr>\n",
       "      <td>1</td>\n",
       "      <td>деревня Сенькино-Секерино</td>\n",
       "      <td>1</td>\n",
       "      <td>NaN</td>\n",
       "      <td>NaN</td>\n",
       "    </tr>\n",
       "    <tr>\n",
       "      <td>2</td>\n",
       "      <td>владение 32Б</td>\n",
       "      <td>1</td>\n",
       "      <td>NaN</td>\n",
       "      <td>NaN</td>\n",
       "    </tr>\n",
       "    <tr>\n",
       "      <td>3</td>\n",
       "      <td>Будайская улица</td>\n",
       "      <td>1</td>\n",
       "      <td>СВАО</td>\n",
       "      <td>Район Ростокино</td>\n",
       "    </tr>\n",
       "    <tr>\n",
       "      <td>4</td>\n",
       "      <td>Петроверигский переулок</td>\n",
       "      <td>1</td>\n",
       "      <td>ЦАО</td>\n",
       "      <td>Басманный район</td>\n",
       "    </tr>\n",
       "    <tr>\n",
       "      <td>...</td>\n",
       "      <td>...</td>\n",
       "      <td>...</td>\n",
       "      <td>...</td>\n",
       "      <td>...</td>\n",
       "    </tr>\n",
       "    <tr>\n",
       "      <td>618</td>\n",
       "      <td>Большой Предтеченский переулок</td>\n",
       "      <td>1</td>\n",
       "      <td>ЦАО</td>\n",
       "      <td>Пресненский район</td>\n",
       "    </tr>\n",
       "    <tr>\n",
       "      <td>619</td>\n",
       "      <td>Триумфальная площадь</td>\n",
       "      <td>1</td>\n",
       "      <td>ЦАО</td>\n",
       "      <td>Тверской район</td>\n",
       "    </tr>\n",
       "    <tr>\n",
       "      <td>620</td>\n",
       "      <td>2-й Хуторской переулок</td>\n",
       "      <td>1</td>\n",
       "      <td>САО</td>\n",
       "      <td>Савеловский район</td>\n",
       "    </tr>\n",
       "    <tr>\n",
       "      <td>621</td>\n",
       "      <td>улица Академика Павлова</td>\n",
       "      <td>1</td>\n",
       "      <td>ЗАО</td>\n",
       "      <td>Район Кунцево</td>\n",
       "    </tr>\n",
       "    <tr>\n",
       "      <td>622</td>\n",
       "      <td>Ялтинская улица</td>\n",
       "      <td>1</td>\n",
       "      <td>ЮАО</td>\n",
       "      <td>Нагорный район</td>\n",
       "    </tr>\n",
       "  </tbody>\n",
       "</table>\n",
       "<p>623 rows × 4 columns</p>\n",
       "</div>"
      ],
      "text/plain": [
       "                         streetname  cafe_number okrug               area\n",
       "0          2-й Кадашёвский переулок            1   ЦАО     Район Якиманка\n",
       "1         деревня Сенькино-Секерино            1   NaN                NaN\n",
       "2                      владение 32Б            1   NaN                NaN\n",
       "3                   Будайская улица            1  СВАО    Район Ростокино\n",
       "4           Петроверигский переулок            1   ЦАО    Басманный район\n",
       "..                              ...          ...   ...                ...\n",
       "618  Большой Предтеченский переулок            1   ЦАО  Пресненский район\n",
       "619            Триумфальная площадь            1   ЦАО     Тверской район\n",
       "620          2-й Хуторской переулок            1   САО  Савеловский район\n",
       "621         улица Академика Павлова            1   ЗАО      Район Кунцево\n",
       "622                 Ялтинская улица            1   ЮАО     Нагорный район\n",
       "\n",
       "[623 rows x 4 columns]"
      ]
     },
     "execution_count": 37,
     "metadata": {},
     "output_type": "execute_result"
    }
   ],
   "source": [
    "one_rest_streets = one_rest_streets.merge(districts[['streetname', 'okrug', 'area']], on='streetname', how='left')\n",
    "one_rest_streets"
   ]
  },
  {
   "cell_type": "markdown",
   "id": "dd8bc7dd",
   "metadata": {},
   "source": [
    "Посчитаем топ-10 районов, в которых наибольшее количество улиц с единственным заведением на ней."
   ]
  },
  {
   "cell_type": "code",
   "execution_count": 38,
   "id": "0ba0cfa3",
   "metadata": {},
   "outputs": [
    {
     "data": {
      "text/html": [
       "<div>\n",
       "<style scoped>\n",
       "    .dataframe tbody tr th:only-of-type {\n",
       "        vertical-align: middle;\n",
       "    }\n",
       "\n",
       "    .dataframe tbody tr th {\n",
       "        vertical-align: top;\n",
       "    }\n",
       "\n",
       "    .dataframe thead th {\n",
       "        text-align: right;\n",
       "    }\n",
       "</style>\n",
       "<table border=\"1\" class=\"dataframe\">\n",
       "  <thead>\n",
       "    <tr style=\"text-align: right;\">\n",
       "      <th></th>\n",
       "      <th>area</th>\n",
       "      <th>cafe_number</th>\n",
       "    </tr>\n",
       "  </thead>\n",
       "  <tbody>\n",
       "    <tr>\n",
       "      <td>0</td>\n",
       "      <td>Таганский район</td>\n",
       "      <td>27</td>\n",
       "    </tr>\n",
       "    <tr>\n",
       "      <td>1</td>\n",
       "      <td>Басманный район</td>\n",
       "      <td>26</td>\n",
       "    </tr>\n",
       "    <tr>\n",
       "      <td>2</td>\n",
       "      <td>Район Хамовники</td>\n",
       "      <td>26</td>\n",
       "    </tr>\n",
       "    <tr>\n",
       "      <td>3</td>\n",
       "      <td>Тверской район</td>\n",
       "      <td>20</td>\n",
       "    </tr>\n",
       "    <tr>\n",
       "      <td>4</td>\n",
       "      <td>Пресненский район</td>\n",
       "      <td>19</td>\n",
       "    </tr>\n",
       "    <tr>\n",
       "      <td>5</td>\n",
       "      <td>Район Марьина роща</td>\n",
       "      <td>18</td>\n",
       "    </tr>\n",
       "    <tr>\n",
       "      <td>6</td>\n",
       "      <td>Район Арбат</td>\n",
       "      <td>17</td>\n",
       "    </tr>\n",
       "    <tr>\n",
       "      <td>7</td>\n",
       "      <td>Мещанский район</td>\n",
       "      <td>16</td>\n",
       "    </tr>\n",
       "    <tr>\n",
       "      <td>8</td>\n",
       "      <td>Район Сокольники</td>\n",
       "      <td>15</td>\n",
       "    </tr>\n",
       "    <tr>\n",
       "      <td>9</td>\n",
       "      <td>Район Замоскворечье</td>\n",
       "      <td>14</td>\n",
       "    </tr>\n",
       "  </tbody>\n",
       "</table>\n",
       "</div>"
      ],
      "text/plain": [
       "                  area  cafe_number\n",
       "0      Таганский район           27\n",
       "1      Басманный район           26\n",
       "2      Район Хамовники           26\n",
       "3       Тверской район           20\n",
       "4    Пресненский район           19\n",
       "5   Район Марьина роща           18\n",
       "6          Район Арбат           17\n",
       "7      Мещанский район           16\n",
       "8     Район Сокольники           15\n",
       "9  Район Замоскворечье           14"
      ]
     },
     "execution_count": 38,
     "metadata": {},
     "output_type": "execute_result"
    }
   ],
   "source": [
    "one_rest_areas=one_rest_streets['area'].value_counts().reset_index().head(10)\n",
    "one_rest_areas.columns = ['area','cafe_number']\n",
    "one_rest_areas"
   ]
  },
  {
   "cell_type": "markdown",
   "id": "df2559be",
   "metadata": {},
   "source": [
    "Построим график"
   ]
  },
  {
   "cell_type": "code",
   "execution_count": 39,
   "id": "ad6d90f7",
   "metadata": {},
   "outputs": [
    {
     "data": {
      "image/png": "[encoded data removed]",
      "text/plain": [
       "<Figure size 720x432 with 1 Axes>"
      ]
     },
     "metadata": {
      "needs_background": "light"
     },
     "output_type": "display_data"
    }
   ],
   "source": [
    "plt.figure(figsize=(10,6))\n",
    "a7 = sns.barplot(x='area', y='cafe_number', data=one_rest_areas, palette=\"Set2\")\n",
    "a7.set_xlabel('Название улицы')\n",
    "a7.set_ylabel('Количество заведений')\n",
    "a7.set_title('Топ-10 районов с одним ООП на улице')\n",
    "plt.xticks(rotation=35)\n",
    "plt.show()"
   ]
  },
  {
   "cell_type": "markdown",
   "id": "2f929ca1",
   "metadata": {},
   "source": [
    "Видим, что лидируют районы Таганский, Хамовники и Басманный. Эти три центральных района Москвы. Могу предположить, что это связано с тем, что улички в центре в основном маленькие, короткие, и их много.\n",
    "\n",
    "Единственное, что вызывает вопрос: в наш список не попали улицы, на которых вообще нет ООП. Так что вряд ли надо отталкиваться именно от этого показателя"
   ]
  },
  {
   "cell_type": "markdown",
   "id": "d5dbc135",
   "metadata": {},
   "source": [
    "### Распределение количества посадочных мест для улиц с большим количеством ООП"
   ]
  },
  {
   "cell_type": "markdown",
   "id": "99dea0be",
   "metadata": {},
   "source": [
    "Выделим список названий улиц из нашего топ-10"
   ]
  },
  {
   "cell_type": "code",
   "execution_count": 40,
   "id": "8bb8e50b",
   "metadata": {},
   "outputs": [
    {
     "data": {
      "text/plain": [
       "['проспект Мира',\n",
       " 'Профсоюзная улица',\n",
       " 'Ленинградский проспект',\n",
       " 'Пресненская набережная',\n",
       " 'Варшавское шоссе',\n",
       " 'Ленинский проспект',\n",
       " 'проспект Вернадского',\n",
       " 'Кутузовский проспект',\n",
       " 'Каширское шоссе',\n",
       " 'Кировоградская улица']"
      ]
     },
     "execution_count": 40,
     "metadata": {},
     "output_type": "execute_result"
    }
   ],
   "source": [
    "list_of_top_10_streets = list(top_10_streets['streetname'].unique())\n",
    "list_of_top_10_streets"
   ]
  },
  {
   "cell_type": "markdown",
   "id": "fb961b75",
   "metadata": {},
   "source": [
    "Посчитаем среднее значение посадочных мест в заведениях на улицах из топ-10"
   ]
  },
  {
   "cell_type": "code",
   "execution_count": 41,
   "id": "d994654b",
   "metadata": {},
   "outputs": [
    {
     "data": {
      "text/html": [
       "<div>\n",
       "<style scoped>\n",
       "    .dataframe tbody tr th:only-of-type {\n",
       "        vertical-align: middle;\n",
       "    }\n",
       "\n",
       "    .dataframe tbody tr th {\n",
       "        vertical-align: top;\n",
       "    }\n",
       "\n",
       "    .dataframe thead th {\n",
       "        text-align: right;\n",
       "    }\n",
       "</style>\n",
       "<table border=\"1\" class=\"dataframe\">\n",
       "  <thead>\n",
       "    <tr style=\"text-align: right;\">\n",
       "      <th></th>\n",
       "      <th>streetname</th>\n",
       "      <th>number</th>\n",
       "    </tr>\n",
       "  </thead>\n",
       "  <tbody>\n",
       "    <tr>\n",
       "      <td>0</td>\n",
       "      <td>проспект Мира</td>\n",
       "      <td>12275</td>\n",
       "    </tr>\n",
       "    <tr>\n",
       "      <td>1</td>\n",
       "      <td>Кутузовский проспект</td>\n",
       "      <td>9697</td>\n",
       "    </tr>\n",
       "    <tr>\n",
       "      <td>2</td>\n",
       "      <td>Ленинский проспект</td>\n",
       "      <td>9330</td>\n",
       "    </tr>\n",
       "    <tr>\n",
       "      <td>3</td>\n",
       "      <td>Ленинградский проспект</td>\n",
       "      <td>8945</td>\n",
       "    </tr>\n",
       "    <tr>\n",
       "      <td>4</td>\n",
       "      <td>проспект Вернадского</td>\n",
       "      <td>8787</td>\n",
       "    </tr>\n",
       "    <tr>\n",
       "      <td>5</td>\n",
       "      <td>Варшавское шоссе</td>\n",
       "      <td>8475</td>\n",
       "    </tr>\n",
       "    <tr>\n",
       "      <td>6</td>\n",
       "      <td>Профсоюзная улица</td>\n",
       "      <td>8427</td>\n",
       "    </tr>\n",
       "    <tr>\n",
       "      <td>7</td>\n",
       "      <td>Пресненская набережная</td>\n",
       "      <td>7586</td>\n",
       "    </tr>\n",
       "    <tr>\n",
       "      <td>8</td>\n",
       "      <td>Кировоградская улица</td>\n",
       "      <td>6427</td>\n",
       "    </tr>\n",
       "    <tr>\n",
       "      <td>9</td>\n",
       "      <td>Каширское шоссе</td>\n",
       "      <td>6155</td>\n",
       "    </tr>\n",
       "  </tbody>\n",
       "</table>\n",
       "</div>"
      ],
      "text/plain": [
       "               streetname  number\n",
       "0           проспект Мира   12275\n",
       "1    Кутузовский проспект    9697\n",
       "2      Ленинский проспект    9330\n",
       "3  Ленинградский проспект    8945\n",
       "4    проспект Вернадского    8787\n",
       "5        Варшавское шоссе    8475\n",
       "6       Профсоюзная улица    8427\n",
       "7  Пресненская набережная    7586\n",
       "8    Кировоградская улица    6427\n",
       "9         Каширское шоссе    6155"
      ]
     },
     "execution_count": 41,
     "metadata": {},
     "output_type": "execute_result"
    }
   ],
   "source": [
    "number_of_seats = rest_data.query('streetname in @list_of_top_10_streets').groupby('streetname').agg({'number' : 'sum'}).sort_values(by = 'number', ascending = False).reset_index()\n",
    "number_of_seats"
   ]
  },
  {
   "cell_type": "markdown",
   "id": "627a242f",
   "metadata": {},
   "source": [
    "Построим график"
   ]
  },
  {
   "cell_type": "code",
   "execution_count": 42,
   "id": "794f7a88",
   "metadata": {},
   "outputs": [
    {
     "data": {
      "image/png": "[encoded data removed]",
      "text/plain": [
       "<Figure size 432x288 with 1 Axes>"
      ]
     },
     "metadata": {
      "needs_background": "light"
     },
     "output_type": "display_data"
    }
   ],
   "source": [
    "a8 = sns.barplot(x='streetname', y='number', data=number_of_seats, palette=\"Set3\")\n",
    "a8.set_title('Количество мест в ООП на топ-10 в Москве')\n",
    "a8.set_xlabel('Улица')\n",
    "a8.set_ylabel('Количество мест')\n",
    "plt.xticks(rotation=30)\n",
    "plt.show()"
   ]
  },
  {
   "cell_type": "markdown",
   "id": "6cdf5c02",
   "metadata": {},
   "source": [
    "Вполне закономерно: в нашем топ-10 на первом месте был проспект Мира по количеству заведений; посадочных мест на проспекте Мира тоже больше всего. Хотя отрыв приличный - от Кутузовского проспекта его отделяет почти 2 000 мест. Замыкает список лидеров Каширское шоссе с примерно 6 000 мест."
   ]
  },
  {
   "cell_type": "markdown",
   "id": "949f534c",
   "metadata": {},
   "source": [
    "## Общий вывод"
   ]
  },
  {
   "cell_type": "markdown",
   "id": "c91b8a60",
   "metadata": {},
   "source": [
    "В Москве из всех видов ООП самыми многочисленными являются кафе, при этом столовых и ресторанов почти в 3 раза меньше, т.е. конкуренция в этих видах ООП намного ниже, а популярность их высока.\n",
    "\n",
    "Соотношение несетевых к сетевым заведениям по всем видам ООП достаточно большое и в среднем доля сетевых ООП составляет 19,3 %. Среди сетевых ООП минимальная доля приходится на столовые - всего 0,12 %.\n",
    "\n",
    "Количество посадочных мест очень разное в зависимости от вида ООП: самое большое в столовых - порядка 130, за ними идут рестораны - 90-100 и буфеты - порядка 50 мест, минимальное же количество посадочных мест в отделах кулинарии магазинов и закусочных - в районе 10 мест. \n",
    "\n",
    "По нашей задаче можно сделать следующий вывод: кафе должно быть сетевым, чтобы охватить те улицы и районы, которые могут принять большое количество людей. Например, южный и юго-западный районы ближе к центру. Согласно ТЗ обслуживание гостей с помощью роботов предполагает количество посадочных мест выше среднего. Можно позволить себе увеличить количество мест в отличие от обычного кафе, то есть сделать не 40 мест, как в среднем в кафе, а 90-100, как у ресторанов."
   ]
  },
  {
   "cell_type": "markdown",
   "id": "0a13ea65",
   "metadata": {},
   "source": [
    "Ссылка на презентацию\n",
    "\n",
    "https://disk.yandex.ru/d/wFJ4AbeoaXZ87Q"
   ]
  }
 ],
 "metadata": {
  "kernelspec": {
   "display_name": "Python 3 (ipykernel)",
   "language": "python",
   "name": "python3"
  },
  "language_info": {
   "codemirror_mode": {
    "name": "ipython",
    "version": 3
   },
   "file_extension": ".py",
   "mimetype": "text/x-python",
   "name": "python",
   "nbconvert_exporter": "python",
   "pygments_lexer": "ipython3",
   "version": "3.7.8"
  },
  "toc": {
   "base_numbering": 1,
   "nav_menu": {},
   "number_sections": true,
   "sideBar": true,
   "skip_h1_title": true,
   "title_cell": "Table of Contents",
   "title_sidebar": "Contents",
   "toc_cell": true,
   "toc_position": {},
   "toc_section_display": true,
   "toc_window_display": true
  }
 },
 "nbformat": 4,
 "nbformat_minor": 5
}
