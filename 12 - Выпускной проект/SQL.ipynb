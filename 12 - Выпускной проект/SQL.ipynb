{
 "cells": [
  {
   "cell_type": "markdown",
   "id": "824bee85",
   "metadata": {
    "toc": true
   },
   "source": [
    "<h1>Table of Contents<span class=\"tocSkip\"></span></h1>\n",
    "<div class=\"toc\"><ul class=\"toc-item\"><li><span><a href=\"#Описание-данных\" data-toc-modified-id=\"Описание-данных-1\"><span class=\"toc-item-num\">1&nbsp;&nbsp;</span>Описание данных</a></span><ul class=\"toc-item\"><li><span><a href=\"#Задания\" data-toc-modified-id=\"Задания-1.1\"><span class=\"toc-item-num\">1.1&nbsp;&nbsp;</span>Задания</a></span></li></ul></li><li><span><a href=\"#Создание-подключения\" data-toc-modified-id=\"Создание-подключения-2\"><span class=\"toc-item-num\">2&nbsp;&nbsp;</span>Создание подключения</a></span><ul class=\"toc-item\"><li><span><a href=\"#Таблица-books\" data-toc-modified-id=\"Таблица-books-2.1\"><span class=\"toc-item-num\">2.1&nbsp;&nbsp;</span>Таблица books</a></span></li><li><span><a href=\"#Таблица-authors\" data-toc-modified-id=\"Таблица-authors-2.2\"><span class=\"toc-item-num\">2.2&nbsp;&nbsp;</span>Таблица authors</a></span></li><li><span><a href=\"#publishers\" data-toc-modified-id=\"publishers-2.3\"><span class=\"toc-item-num\">2.3&nbsp;&nbsp;</span>publishers</a></span></li><li><span><a href=\"#ratings\" data-toc-modified-id=\"ratings-2.4\"><span class=\"toc-item-num\">2.4&nbsp;&nbsp;</span>ratings</a></span></li><li><span><a href=\"#reviews\" data-toc-modified-id=\"reviews-2.5\"><span class=\"toc-item-num\">2.5&nbsp;&nbsp;</span>reviews</a></span></li></ul></li><li><span><a href=\"#Задания\" data-toc-modified-id=\"Задания-3\"><span class=\"toc-item-num\">3&nbsp;&nbsp;</span>Задания</a></span><ul class=\"toc-item\"><li><span><a href=\"#Количество-книг,-вышедших-после-1-января-2000-года\" data-toc-modified-id=\"Количество-книг,-вышедших-после-1-января-2000-года-3.1\"><span class=\"toc-item-num\">3.1&nbsp;&nbsp;</span>Количество книг, вышедших после 1 января 2000 года</a></span></li><li><span><a href=\"#Количество-обзоров-и-средняя-оценка\" data-toc-modified-id=\"Количество-обзоров-и-средняя-оценка-3.2\"><span class=\"toc-item-num\">3.2&nbsp;&nbsp;</span>Количество обзоров и средняя оценка</a></span></li><li><span><a href=\"#Издательство-с-наибольшим-количеством-книг\" data-toc-modified-id=\"Издательство-с-наибольшим-количеством-книг-3.3\"><span class=\"toc-item-num\">3.3&nbsp;&nbsp;</span>Издательство с наибольшим количеством книг</a></span></li><li><span><a href=\"#Автор-с-самой-высокой-средней-оценкой-книг\" data-toc-modified-id=\"Автор-с-самой-высокой-средней-оценкой-книг-3.4\"><span class=\"toc-item-num\">3.4&nbsp;&nbsp;</span>Автор с самой высокой средней оценкой книг</a></span></li><li><span><a href=\"#Среднее-количество-обзоров-от-пользователей,-которые-поставили-более-50-оценок\" data-toc-modified-id=\"Среднее-количество-обзоров-от-пользователей,-которые-поставили-более-50-оценок-3.5\"><span class=\"toc-item-num\">3.5&nbsp;&nbsp;</span>Среднее количество обзоров от пользователей, которые поставили более 50 оценок</a></span></li></ul></li><li><span><a href=\"#Вывод\" data-toc-modified-id=\"Вывод-4\"><span class=\"toc-item-num\">4&nbsp;&nbsp;</span>Вывод</a></span></li></ul></div>"
   ]
  },
  {
   "cell_type": "markdown",
   "id": "aaa14998",
   "metadata": {},
   "source": [
    "## Описание данных"
   ]
  },
  {
   "cell_type": "markdown",
   "id": "669295b6",
   "metadata": {},
   "source": [
    "Коронавирус застал мир врасплох, изменив привычный порядок вещей. В свободное время жители городов больше не выходят на улицу, не посещают кафе и торговые центры. Зато стало больше времени для книг. Это заметили стартаперы — и бросились создавать приложения для тех, кто любит читать. Наша компания решила быть на волне и купила крупный сервис для чтения книг по подписке. Моя первая задача как аналитика — проанализировать базу данных. В ней — информация о книгах, издательствах, авторах, а также пользовательские обзоры книг. Эти данные помогут сформулировать ценностное предложение для нового продукта."
   ]
  },
  {
   "cell_type": "markdown",
   "id": "8b5dcbfe",
   "metadata": {},
   "source": [
    "Таблица **books** содержит данные о книгах:\n",
    "- book_id — идентификатор книги;\n",
    "- author_id — идентификатор автора;\n",
    "- title — название книги;\n",
    "- num_pages — количество страниц;\n",
    "- publication_date — дата публикации книги;\n",
    "- publisher_id — идентификатор издателя.\n",
    "\n",
    "Таблица **authors** содержит данные об авторах:\n",
    "- author_id — идентификатор автора;\n",
    "- author — имя автора.\n",
    "\n",
    "Таблица **publishers** содержит данные об издательствах:\n",
    "- publisher_id — идентификатор издательства;\n",
    "- publisher — название издательства;\n",
    "\n",
    "Таблица **ratings** содержит данные о пользовательских оценках книг:\n",
    "- rating_id — идентификатор оценки;\n",
    "- book_id — идентификатор книги;\n",
    "- username — имя пользователя, оставившего оценку;\n",
    "- rating — оценка книги.\n",
    "\n",
    "Таблица **reviews** содержит данные о пользовательских обзорах на книги:\n",
    "- review_id — идентификатор обзора;\n",
    "- book_id — идентификатор книги;\n",
    "- username — имя пользователя, написавшего обзор;\n",
    "- text — текст обзора"
   ]
  },
  {
   "cell_type": "markdown",
   "id": "8dc3ccbd",
   "metadata": {},
   "source": [
    "### Задания\n",
    "\n",
    "- Посчитайте, сколько книг вышло после 1 января 2000 года;\n",
    "- Для каждой книги посчитайте количество обзоров и среднюю оценку;\n",
    "- Определите издательство, которое выпустило наибольшее число книг толще 50 страниц — так вы исключите из анализа брошюры;\n",
    "- Определите автора с самой высокой средней оценкой книг — учитывайте только книги с 50 и более оценками;\n",
    "- Посчитайте среднее количество обзоров от пользователей, которые поставили больше 50 оценок."
   ]
  },
  {
   "cell_type": "markdown",
   "id": "9da39208",
   "metadata": {},
   "source": [
    "## Создание подключения"
   ]
  },
  {
   "cell_type": "markdown",
   "id": "9332b306",
   "metadata": {},
   "source": [
    "Импортируем необходимые библиотеки"
   ]
  },
  {
   "cell_type": "code",
   "execution_count": 1,
   "id": "c5df0dcb",
   "metadata": {},
   "outputs": [],
   "source": [
    "import pandas as pd \n",
    "from sqlalchemy import create_engine "
   ]
  },
  {
   "cell_type": "markdown",
   "id": "dc1d1218",
   "metadata": {},
   "source": [
    "Установим параметры подключения к базе данных"
   ]
  },
  {
   "cell_type": "code",
   "execution_count": 2,
   "id": "4a962f7b",
   "metadata": {},
   "outputs": [],
   "source": [
    "db_config = {'user': 'praktikum_student', # имя пользователя\n",
    "    'pwd': 'Sdf4$2;d-d30pp', # пароль\n",
    "    'host': 'rc1b-wcoijxj3yxfsf3fs.mdb.yandexcloud.net', \n",
    "    'port': 6432, # порт подключения\n",
    "    'db': 'data-analyst-final-project-db'} # название базы данных"
   ]
  },
  {
   "cell_type": "code",
   "execution_count": 3,
   "id": "baa92344",
   "metadata": {},
   "outputs": [],
   "source": [
    "connection_string = 'postgresql://{}:{}@{}:{}/{}'.format(db_config['user'], \n",
    "    db_config['pwd'], \n",
    "    db_config['host'], \n",
    "    db_config['port'], \n",
    "    db_config['db']) "
   ]
  },
  {
   "cell_type": "markdown",
   "id": "0fcc5528",
   "metadata": {},
   "source": [
    "Сохраним коннектор"
   ]
  },
  {
   "cell_type": "code",
   "execution_count": 4,
   "id": "1e33bd3c",
   "metadata": {},
   "outputs": [],
   "source": [
    "engine = create_engine(connection_string, connect_args={'sslmode':'require'}) "
   ]
  },
  {
   "cell_type": "markdown",
   "id": "c1f9599a",
   "metadata": {},
   "source": [
    "### Таблица books"
   ]
  },
  {
   "cell_type": "code",
   "execution_count": 5,
   "id": "ffd27f00",
   "metadata": {},
   "outputs": [
    {
     "data": {
      "text/html": [
       "<div>\n",
       "<style scoped>\n",
       "    .dataframe tbody tr th:only-of-type {\n",
       "        vertical-align: middle;\n",
       "    }\n",
       "\n",
       "    .dataframe tbody tr th {\n",
       "        vertical-align: top;\n",
       "    }\n",
       "\n",
       "    .dataframe thead th {\n",
       "        text-align: right;\n",
       "    }\n",
       "</style>\n",
       "<table border=\"1\" class=\"dataframe\">\n",
       "  <thead>\n",
       "    <tr style=\"text-align: right;\">\n",
       "      <th></th>\n",
       "      <th>book_id</th>\n",
       "      <th>author_id</th>\n",
       "      <th>title</th>\n",
       "      <th>num_pages</th>\n",
       "      <th>publication_date</th>\n",
       "      <th>publisher_id</th>\n",
       "    </tr>\n",
       "  </thead>\n",
       "  <tbody>\n",
       "    <tr>\n",
       "      <th>0</th>\n",
       "      <td>1</td>\n",
       "      <td>546</td>\n",
       "      <td>'Salem's Lot</td>\n",
       "      <td>594</td>\n",
       "      <td>2005-11-01</td>\n",
       "      <td>93</td>\n",
       "    </tr>\n",
       "    <tr>\n",
       "      <th>1</th>\n",
       "      <td>2</td>\n",
       "      <td>465</td>\n",
       "      <td>1 000 Places to See Before You Die</td>\n",
       "      <td>992</td>\n",
       "      <td>2003-05-22</td>\n",
       "      <td>336</td>\n",
       "    </tr>\n",
       "    <tr>\n",
       "      <th>2</th>\n",
       "      <td>3</td>\n",
       "      <td>407</td>\n",
       "      <td>13 Little Blue Envelopes (Little Blue Envelope...</td>\n",
       "      <td>322</td>\n",
       "      <td>2010-12-21</td>\n",
       "      <td>135</td>\n",
       "    </tr>\n",
       "    <tr>\n",
       "      <th>3</th>\n",
       "      <td>4</td>\n",
       "      <td>82</td>\n",
       "      <td>1491: New Revelations of the Americas Before C...</td>\n",
       "      <td>541</td>\n",
       "      <td>2006-10-10</td>\n",
       "      <td>309</td>\n",
       "    </tr>\n",
       "    <tr>\n",
       "      <th>4</th>\n",
       "      <td>5</td>\n",
       "      <td>125</td>\n",
       "      <td>1776</td>\n",
       "      <td>386</td>\n",
       "      <td>2006-07-04</td>\n",
       "      <td>268</td>\n",
       "    </tr>\n",
       "  </tbody>\n",
       "</table>\n",
       "</div>"
      ],
      "text/plain": [
       "   book_id  author_id                                              title  \\\n",
       "0        1        546                                       'Salem's Lot   \n",
       "1        2        465                 1 000 Places to See Before You Die   \n",
       "2        3        407  13 Little Blue Envelopes (Little Blue Envelope...   \n",
       "3        4         82  1491: New Revelations of the Americas Before C...   \n",
       "4        5        125                                               1776   \n",
       "\n",
       "   num_pages publication_date  publisher_id  \n",
       "0        594       2005-11-01            93  \n",
       "1        992       2003-05-22           336  \n",
       "2        322       2010-12-21           135  \n",
       "3        541       2006-10-10           309  \n",
       "4        386       2006-07-04           268  "
      ]
     },
     "execution_count": 5,
     "metadata": {},
     "output_type": "execute_result"
    }
   ],
   "source": [
    "pd.io.sql.read_sql('''\n",
    "SELECT *\n",
    "FROM books\n",
    "LIMIT 5\n",
    "''', con = engine)"
   ]
  },
  {
   "cell_type": "code",
   "execution_count": 6,
   "id": "bccfd102",
   "metadata": {},
   "outputs": [
    {
     "data": {
      "text/html": [
       "<div>\n",
       "<style scoped>\n",
       "    .dataframe tbody tr th:only-of-type {\n",
       "        vertical-align: middle;\n",
       "    }\n",
       "\n",
       "    .dataframe tbody tr th {\n",
       "        vertical-align: top;\n",
       "    }\n",
       "\n",
       "    .dataframe thead th {\n",
       "        text-align: right;\n",
       "    }\n",
       "</style>\n",
       "<table border=\"1\" class=\"dataframe\">\n",
       "  <thead>\n",
       "    <tr style=\"text-align: right;\">\n",
       "      <th></th>\n",
       "      <th>count</th>\n",
       "    </tr>\n",
       "  </thead>\n",
       "  <tbody>\n",
       "    <tr>\n",
       "      <th>0</th>\n",
       "      <td>1000</td>\n",
       "    </tr>\n",
       "  </tbody>\n",
       "</table>\n",
       "</div>"
      ],
      "text/plain": [
       "   count\n",
       "0   1000"
      ]
     },
     "execution_count": 6,
     "metadata": {},
     "output_type": "execute_result"
    }
   ],
   "source": [
    "pd.io.sql.read_sql('''\n",
    "SELECT COUNT(*)\n",
    "FROM books\n",
    "''', con = engine)"
   ]
  },
  {
   "cell_type": "markdown",
   "id": "ce53c2da",
   "metadata": {},
   "source": [
    "В базе содержится информация о 1000 книг"
   ]
  },
  {
   "cell_type": "markdown",
   "id": "2be68728",
   "metadata": {},
   "source": [
    "### Таблица authors"
   ]
  },
  {
   "cell_type": "code",
   "execution_count": 7,
   "id": "6acae1e0",
   "metadata": {
    "scrolled": true
   },
   "outputs": [
    {
     "data": {
      "text/html": [
       "<div>\n",
       "<style scoped>\n",
       "    .dataframe tbody tr th:only-of-type {\n",
       "        vertical-align: middle;\n",
       "    }\n",
       "\n",
       "    .dataframe tbody tr th {\n",
       "        vertical-align: top;\n",
       "    }\n",
       "\n",
       "    .dataframe thead th {\n",
       "        text-align: right;\n",
       "    }\n",
       "</style>\n",
       "<table border=\"1\" class=\"dataframe\">\n",
       "  <thead>\n",
       "    <tr style=\"text-align: right;\">\n",
       "      <th></th>\n",
       "      <th>author_id</th>\n",
       "      <th>author</th>\n",
       "    </tr>\n",
       "  </thead>\n",
       "  <tbody>\n",
       "    <tr>\n",
       "      <th>0</th>\n",
       "      <td>1</td>\n",
       "      <td>A.S. Byatt</td>\n",
       "    </tr>\n",
       "    <tr>\n",
       "      <th>1</th>\n",
       "      <td>2</td>\n",
       "      <td>Aesop/Laura Harris/Laura Gibbs</td>\n",
       "    </tr>\n",
       "    <tr>\n",
       "      <th>2</th>\n",
       "      <td>3</td>\n",
       "      <td>Agatha Christie</td>\n",
       "    </tr>\n",
       "    <tr>\n",
       "      <th>3</th>\n",
       "      <td>4</td>\n",
       "      <td>Alan Brennert</td>\n",
       "    </tr>\n",
       "    <tr>\n",
       "      <th>4</th>\n",
       "      <td>5</td>\n",
       "      <td>Alan Moore/David   Lloyd</td>\n",
       "    </tr>\n",
       "  </tbody>\n",
       "</table>\n",
       "</div>"
      ],
      "text/plain": [
       "   author_id                          author\n",
       "0          1                      A.S. Byatt\n",
       "1          2  Aesop/Laura Harris/Laura Gibbs\n",
       "2          3                 Agatha Christie\n",
       "3          4                   Alan Brennert\n",
       "4          5        Alan Moore/David   Lloyd"
      ]
     },
     "execution_count": 7,
     "metadata": {},
     "output_type": "execute_result"
    }
   ],
   "source": [
    "pd.io.sql.read_sql('''\n",
    "SELECT *\n",
    "FROM authors\n",
    "LIMIT 5\n",
    "''', con = engine)"
   ]
  },
  {
   "cell_type": "code",
   "execution_count": 8,
   "id": "7da825b2",
   "metadata": {},
   "outputs": [
    {
     "data": {
      "text/html": [
       "<div>\n",
       "<style scoped>\n",
       "    .dataframe tbody tr th:only-of-type {\n",
       "        vertical-align: middle;\n",
       "    }\n",
       "\n",
       "    .dataframe tbody tr th {\n",
       "        vertical-align: top;\n",
       "    }\n",
       "\n",
       "    .dataframe thead th {\n",
       "        text-align: right;\n",
       "    }\n",
       "</style>\n",
       "<table border=\"1\" class=\"dataframe\">\n",
       "  <thead>\n",
       "    <tr style=\"text-align: right;\">\n",
       "      <th></th>\n",
       "      <th>count</th>\n",
       "    </tr>\n",
       "  </thead>\n",
       "  <tbody>\n",
       "    <tr>\n",
       "      <th>0</th>\n",
       "      <td>636</td>\n",
       "    </tr>\n",
       "  </tbody>\n",
       "</table>\n",
       "</div>"
      ],
      "text/plain": [
       "   count\n",
       "0    636"
      ]
     },
     "execution_count": 8,
     "metadata": {},
     "output_type": "execute_result"
    }
   ],
   "source": [
    "pd.io.sql.read_sql('''\n",
    "SELECT COUNT(*)\n",
    "FROM authors\n",
    "''', con = engine)"
   ]
  },
  {
   "cell_type": "markdown",
   "id": "bb2d104d",
   "metadata": {},
   "source": [
    "Эти книги написали 636 авторов"
   ]
  },
  {
   "cell_type": "markdown",
   "id": "d489b7ed",
   "metadata": {},
   "source": [
    "### publishers"
   ]
  },
  {
   "cell_type": "code",
   "execution_count": 9,
   "id": "dbe21bc9",
   "metadata": {},
   "outputs": [
    {
     "data": {
      "text/html": [
       "<div>\n",
       "<style scoped>\n",
       "    .dataframe tbody tr th:only-of-type {\n",
       "        vertical-align: middle;\n",
       "    }\n",
       "\n",
       "    .dataframe tbody tr th {\n",
       "        vertical-align: top;\n",
       "    }\n",
       "\n",
       "    .dataframe thead th {\n",
       "        text-align: right;\n",
       "    }\n",
       "</style>\n",
       "<table border=\"1\" class=\"dataframe\">\n",
       "  <thead>\n",
       "    <tr style=\"text-align: right;\">\n",
       "      <th></th>\n",
       "      <th>publisher_id</th>\n",
       "      <th>publisher</th>\n",
       "    </tr>\n",
       "  </thead>\n",
       "  <tbody>\n",
       "    <tr>\n",
       "      <th>0</th>\n",
       "      <td>1</td>\n",
       "      <td>Ace</td>\n",
       "    </tr>\n",
       "    <tr>\n",
       "      <th>1</th>\n",
       "      <td>2</td>\n",
       "      <td>Ace Book</td>\n",
       "    </tr>\n",
       "    <tr>\n",
       "      <th>2</th>\n",
       "      <td>3</td>\n",
       "      <td>Ace Books</td>\n",
       "    </tr>\n",
       "    <tr>\n",
       "      <th>3</th>\n",
       "      <td>4</td>\n",
       "      <td>Ace Hardcover</td>\n",
       "    </tr>\n",
       "    <tr>\n",
       "      <th>4</th>\n",
       "      <td>5</td>\n",
       "      <td>Addison Wesley Publishing Company</td>\n",
       "    </tr>\n",
       "  </tbody>\n",
       "</table>\n",
       "</div>"
      ],
      "text/plain": [
       "   publisher_id                          publisher\n",
       "0             1                                Ace\n",
       "1             2                           Ace Book\n",
       "2             3                          Ace Books\n",
       "3             4                      Ace Hardcover\n",
       "4             5  Addison Wesley Publishing Company"
      ]
     },
     "execution_count": 9,
     "metadata": {},
     "output_type": "execute_result"
    }
   ],
   "source": [
    "pd.io.sql.read_sql('''\n",
    "SELECT *\n",
    "FROM publishers\n",
    "LIMIT 5\n",
    "''', con = engine)"
   ]
  },
  {
   "cell_type": "code",
   "execution_count": 10,
   "id": "50e13937",
   "metadata": {},
   "outputs": [
    {
     "data": {
      "text/html": [
       "<div>\n",
       "<style scoped>\n",
       "    .dataframe tbody tr th:only-of-type {\n",
       "        vertical-align: middle;\n",
       "    }\n",
       "\n",
       "    .dataframe tbody tr th {\n",
       "        vertical-align: top;\n",
       "    }\n",
       "\n",
       "    .dataframe thead th {\n",
       "        text-align: right;\n",
       "    }\n",
       "</style>\n",
       "<table border=\"1\" class=\"dataframe\">\n",
       "  <thead>\n",
       "    <tr style=\"text-align: right;\">\n",
       "      <th></th>\n",
       "      <th>count</th>\n",
       "    </tr>\n",
       "  </thead>\n",
       "  <tbody>\n",
       "    <tr>\n",
       "      <th>0</th>\n",
       "      <td>340</td>\n",
       "    </tr>\n",
       "  </tbody>\n",
       "</table>\n",
       "</div>"
      ],
      "text/plain": [
       "   count\n",
       "0    340"
      ]
     },
     "execution_count": 10,
     "metadata": {},
     "output_type": "execute_result"
    }
   ],
   "source": [
    "pd.io.sql.read_sql('''\n",
    "SELECT COUNT(*)\n",
    "FROM publishers\n",
    "''', con = engine)"
   ]
  },
  {
   "cell_type": "markdown",
   "id": "80139a67",
   "metadata": {},
   "source": [
    "Всего 340 издательств, которые выпустили эти книги"
   ]
  },
  {
   "cell_type": "markdown",
   "id": "777cef39",
   "metadata": {},
   "source": [
    "### ratings"
   ]
  },
  {
   "cell_type": "code",
   "execution_count": 11,
   "id": "a4c59505",
   "metadata": {},
   "outputs": [
    {
     "data": {
      "text/html": [
       "<div>\n",
       "<style scoped>\n",
       "    .dataframe tbody tr th:only-of-type {\n",
       "        vertical-align: middle;\n",
       "    }\n",
       "\n",
       "    .dataframe tbody tr th {\n",
       "        vertical-align: top;\n",
       "    }\n",
       "\n",
       "    .dataframe thead th {\n",
       "        text-align: right;\n",
       "    }\n",
       "</style>\n",
       "<table border=\"1\" class=\"dataframe\">\n",
       "  <thead>\n",
       "    <tr style=\"text-align: right;\">\n",
       "      <th></th>\n",
       "      <th>rating_id</th>\n",
       "      <th>book_id</th>\n",
       "      <th>username</th>\n",
       "      <th>rating</th>\n",
       "    </tr>\n",
       "  </thead>\n",
       "  <tbody>\n",
       "    <tr>\n",
       "      <th>0</th>\n",
       "      <td>1</td>\n",
       "      <td>1</td>\n",
       "      <td>ryanfranco</td>\n",
       "      <td>4</td>\n",
       "    </tr>\n",
       "    <tr>\n",
       "      <th>1</th>\n",
       "      <td>2</td>\n",
       "      <td>1</td>\n",
       "      <td>grantpatricia</td>\n",
       "      <td>2</td>\n",
       "    </tr>\n",
       "    <tr>\n",
       "      <th>2</th>\n",
       "      <td>3</td>\n",
       "      <td>1</td>\n",
       "      <td>brandtandrea</td>\n",
       "      <td>5</td>\n",
       "    </tr>\n",
       "    <tr>\n",
       "      <th>3</th>\n",
       "      <td>4</td>\n",
       "      <td>2</td>\n",
       "      <td>lorichen</td>\n",
       "      <td>3</td>\n",
       "    </tr>\n",
       "    <tr>\n",
       "      <th>4</th>\n",
       "      <td>5</td>\n",
       "      <td>2</td>\n",
       "      <td>mariokeller</td>\n",
       "      <td>2</td>\n",
       "    </tr>\n",
       "  </tbody>\n",
       "</table>\n",
       "</div>"
      ],
      "text/plain": [
       "   rating_id  book_id       username  rating\n",
       "0          1        1     ryanfranco       4\n",
       "1          2        1  grantpatricia       2\n",
       "2          3        1   brandtandrea       5\n",
       "3          4        2       lorichen       3\n",
       "4          5        2    mariokeller       2"
      ]
     },
     "execution_count": 11,
     "metadata": {},
     "output_type": "execute_result"
    }
   ],
   "source": [
    "pd.io.sql.read_sql('''\n",
    "SELECT *\n",
    "FROM ratings\n",
    "LIMIT 5\n",
    "''', con = engine)"
   ]
  },
  {
   "cell_type": "code",
   "execution_count": 12,
   "id": "c96abe9a",
   "metadata": {},
   "outputs": [
    {
     "data": {
      "text/html": [
       "<div>\n",
       "<style scoped>\n",
       "    .dataframe tbody tr th:only-of-type {\n",
       "        vertical-align: middle;\n",
       "    }\n",
       "\n",
       "    .dataframe tbody tr th {\n",
       "        vertical-align: top;\n",
       "    }\n",
       "\n",
       "    .dataframe thead th {\n",
       "        text-align: right;\n",
       "    }\n",
       "</style>\n",
       "<table border=\"1\" class=\"dataframe\">\n",
       "  <thead>\n",
       "    <tr style=\"text-align: right;\">\n",
       "      <th></th>\n",
       "      <th>count</th>\n",
       "    </tr>\n",
       "  </thead>\n",
       "  <tbody>\n",
       "    <tr>\n",
       "      <th>0</th>\n",
       "      <td>6456</td>\n",
       "    </tr>\n",
       "  </tbody>\n",
       "</table>\n",
       "</div>"
      ],
      "text/plain": [
       "   count\n",
       "0   6456"
      ]
     },
     "execution_count": 12,
     "metadata": {},
     "output_type": "execute_result"
    }
   ],
   "source": [
    "pd.io.sql.read_sql('''\n",
    "SELECT COUNT(*)\n",
    "FROM ratings\n",
    "''', con = engine)"
   ]
  },
  {
   "cell_type": "markdown",
   "id": "bf775bf6",
   "metadata": {},
   "source": [
    "Книги получили 6,5 тысяч оценок от пользователей"
   ]
  },
  {
   "cell_type": "markdown",
   "id": "0e9dd804",
   "metadata": {},
   "source": [
    "### reviews"
   ]
  },
  {
   "cell_type": "code",
   "execution_count": 13,
   "id": "6b6e5dce",
   "metadata": {},
   "outputs": [
    {
     "data": {
      "text/html": [
       "<div>\n",
       "<style scoped>\n",
       "    .dataframe tbody tr th:only-of-type {\n",
       "        vertical-align: middle;\n",
       "    }\n",
       "\n",
       "    .dataframe tbody tr th {\n",
       "        vertical-align: top;\n",
       "    }\n",
       "\n",
       "    .dataframe thead th {\n",
       "        text-align: right;\n",
       "    }\n",
       "</style>\n",
       "<table border=\"1\" class=\"dataframe\">\n",
       "  <thead>\n",
       "    <tr style=\"text-align: right;\">\n",
       "      <th></th>\n",
       "      <th>review_id</th>\n",
       "      <th>book_id</th>\n",
       "      <th>username</th>\n",
       "      <th>text</th>\n",
       "    </tr>\n",
       "  </thead>\n",
       "  <tbody>\n",
       "    <tr>\n",
       "      <th>0</th>\n",
       "      <td>1</td>\n",
       "      <td>1</td>\n",
       "      <td>brandtandrea</td>\n",
       "      <td>Mention society tell send professor analysis. ...</td>\n",
       "    </tr>\n",
       "    <tr>\n",
       "      <th>1</th>\n",
       "      <td>2</td>\n",
       "      <td>1</td>\n",
       "      <td>ryanfranco</td>\n",
       "      <td>Foot glass pretty audience hit themselves. Amo...</td>\n",
       "    </tr>\n",
       "    <tr>\n",
       "      <th>2</th>\n",
       "      <td>3</td>\n",
       "      <td>2</td>\n",
       "      <td>lorichen</td>\n",
       "      <td>Listen treat keep worry. Miss husband tax but ...</td>\n",
       "    </tr>\n",
       "    <tr>\n",
       "      <th>3</th>\n",
       "      <td>4</td>\n",
       "      <td>3</td>\n",
       "      <td>johnsonamanda</td>\n",
       "      <td>Finally month interesting blue could nature cu...</td>\n",
       "    </tr>\n",
       "    <tr>\n",
       "      <th>4</th>\n",
       "      <td>5</td>\n",
       "      <td>3</td>\n",
       "      <td>scotttamara</td>\n",
       "      <td>Nation purpose heavy give wait song will. List...</td>\n",
       "    </tr>\n",
       "  </tbody>\n",
       "</table>\n",
       "</div>"
      ],
      "text/plain": [
       "   review_id  book_id       username  \\\n",
       "0          1        1   brandtandrea   \n",
       "1          2        1     ryanfranco   \n",
       "2          3        2       lorichen   \n",
       "3          4        3  johnsonamanda   \n",
       "4          5        3    scotttamara   \n",
       "\n",
       "                                                text  \n",
       "0  Mention society tell send professor analysis. ...  \n",
       "1  Foot glass pretty audience hit themselves. Amo...  \n",
       "2  Listen treat keep worry. Miss husband tax but ...  \n",
       "3  Finally month interesting blue could nature cu...  \n",
       "4  Nation purpose heavy give wait song will. List...  "
      ]
     },
     "execution_count": 13,
     "metadata": {},
     "output_type": "execute_result"
    }
   ],
   "source": [
    "pd.io.sql.read_sql('''\n",
    "SELECT *\n",
    "FROM reviews\n",
    "LIMIT 5\n",
    "''', con = engine)"
   ]
  },
  {
   "cell_type": "code",
   "execution_count": 14,
   "id": "9159e2d5",
   "metadata": {},
   "outputs": [
    {
     "data": {
      "text/html": [
       "<div>\n",
       "<style scoped>\n",
       "    .dataframe tbody tr th:only-of-type {\n",
       "        vertical-align: middle;\n",
       "    }\n",
       "\n",
       "    .dataframe tbody tr th {\n",
       "        vertical-align: top;\n",
       "    }\n",
       "\n",
       "    .dataframe thead th {\n",
       "        text-align: right;\n",
       "    }\n",
       "</style>\n",
       "<table border=\"1\" class=\"dataframe\">\n",
       "  <thead>\n",
       "    <tr style=\"text-align: right;\">\n",
       "      <th></th>\n",
       "      <th>count</th>\n",
       "    </tr>\n",
       "  </thead>\n",
       "  <tbody>\n",
       "    <tr>\n",
       "      <th>0</th>\n",
       "      <td>2793</td>\n",
       "    </tr>\n",
       "  </tbody>\n",
       "</table>\n",
       "</div>"
      ],
      "text/plain": [
       "   count\n",
       "0   2793"
      ]
     },
     "execution_count": 14,
     "metadata": {},
     "output_type": "execute_result"
    }
   ],
   "source": [
    "pd.io.sql.read_sql('''\n",
    "SELECT COUNT(*)\n",
    "FROM reviews\n",
    "''', con = engine)"
   ]
  },
  {
   "cell_type": "markdown",
   "id": "0db943df",
   "metadata": {},
   "source": [
    "И на данные книги написано 2800 отзывов"
   ]
  },
  {
   "cell_type": "markdown",
   "id": "83176dde",
   "metadata": {},
   "source": [
    "## Задания"
   ]
  },
  {
   "cell_type": "markdown",
   "id": "bdeaba46",
   "metadata": {},
   "source": [
    "### Количество книг, вышедших после 1 января 2000 года"
   ]
  },
  {
   "cell_type": "code",
   "execution_count": 15,
   "id": "bbcb469b",
   "metadata": {},
   "outputs": [
    {
     "data": {
      "text/html": [
       "<div>\n",
       "<style scoped>\n",
       "    .dataframe tbody tr th:only-of-type {\n",
       "        vertical-align: middle;\n",
       "    }\n",
       "\n",
       "    .dataframe tbody tr th {\n",
       "        vertical-align: top;\n",
       "    }\n",
       "\n",
       "    .dataframe thead th {\n",
       "        text-align: right;\n",
       "    }\n",
       "</style>\n",
       "<table border=\"1\" class=\"dataframe\">\n",
       "  <thead>\n",
       "    <tr style=\"text-align: right;\">\n",
       "      <th></th>\n",
       "      <th>count</th>\n",
       "    </tr>\n",
       "  </thead>\n",
       "  <tbody>\n",
       "    <tr>\n",
       "      <th>0</th>\n",
       "      <td>821</td>\n",
       "    </tr>\n",
       "  </tbody>\n",
       "</table>\n",
       "</div>"
      ],
      "text/plain": [
       "   count\n",
       "0    821"
      ]
     },
     "execution_count": 15,
     "metadata": {},
     "output_type": "execute_result"
    }
   ],
   "source": [
    "pd.io.sql.read_sql('''\n",
    "SELECT COUNT(*)\n",
    "FROM books\n",
    "WHERE publication_date >= '2000-01-01'\n",
    "''', con = engine)"
   ]
  },
  {
   "cell_type": "markdown",
   "id": "00ffea26",
   "metadata": {
    "scrolled": true
   },
   "source": [
    "В период с 01 января 2000 года вышла 821 книга"
   ]
  },
  {
   "cell_type": "markdown",
   "id": "760378d3",
   "metadata": {},
   "source": [
    "### Количество обзоров и средняя оценка "
   ]
  },
  {
   "cell_type": "markdown",
   "id": "d1538560",
   "metadata": {},
   "source": [
    "Посчитаем среднюю оценку и количество отзывов для каждой книги"
   ]
  },
  {
   "cell_type": "code",
   "execution_count": 23,
   "id": "dce88ba0",
   "metadata": {},
   "outputs": [
    {
     "data": {
      "text/html": [
       "<div>\n",
       "<style scoped>\n",
       "    .dataframe tbody tr th:only-of-type {\n",
       "        vertical-align: middle;\n",
       "    }\n",
       "\n",
       "    .dataframe tbody tr th {\n",
       "        vertical-align: top;\n",
       "    }\n",
       "\n",
       "    .dataframe thead th {\n",
       "        text-align: right;\n",
       "    }\n",
       "</style>\n",
       "<table border=\"1\" class=\"dataframe\">\n",
       "  <thead>\n",
       "    <tr style=\"text-align: right;\">\n",
       "      <th></th>\n",
       "      <th>title</th>\n",
       "      <th>rew_count</th>\n",
       "      <th>avg_rt</th>\n",
       "    </tr>\n",
       "  </thead>\n",
       "  <tbody>\n",
       "    <tr>\n",
       "      <th>0</th>\n",
       "      <td>A Dirty Job (Grim Reaper  #1)</td>\n",
       "      <td>4.0</td>\n",
       "      <td>5.00</td>\n",
       "    </tr>\n",
       "    <tr>\n",
       "      <th>1</th>\n",
       "      <td>Tai-Pan (Asian Saga  #2)</td>\n",
       "      <td>2.0</td>\n",
       "      <td>5.00</td>\n",
       "    </tr>\n",
       "    <tr>\n",
       "      <th>2</th>\n",
       "      <td>School's Out—Forever (Maximum Ride  #2)</td>\n",
       "      <td>3.0</td>\n",
       "      <td>5.00</td>\n",
       "    </tr>\n",
       "    <tr>\n",
       "      <th>3</th>\n",
       "      <td>Piercing the Darkness (Darkness  #2)</td>\n",
       "      <td>2.0</td>\n",
       "      <td>5.00</td>\n",
       "    </tr>\n",
       "    <tr>\n",
       "      <th>4</th>\n",
       "      <td>The War of Art: Break Through the Blocks &amp; Win...</td>\n",
       "      <td>2.0</td>\n",
       "      <td>5.00</td>\n",
       "    </tr>\n",
       "    <tr>\n",
       "      <th>...</th>\n",
       "      <td>...</td>\n",
       "      <td>...</td>\n",
       "      <td>...</td>\n",
       "    </tr>\n",
       "    <tr>\n",
       "      <th>995</th>\n",
       "      <td>The World Is Flat: A Brief History of the Twen...</td>\n",
       "      <td>3.0</td>\n",
       "      <td>2.25</td>\n",
       "    </tr>\n",
       "    <tr>\n",
       "      <th>996</th>\n",
       "      <td>His Excellency: George Washington</td>\n",
       "      <td>2.0</td>\n",
       "      <td>2.00</td>\n",
       "    </tr>\n",
       "    <tr>\n",
       "      <th>997</th>\n",
       "      <td>Junky</td>\n",
       "      <td>2.0</td>\n",
       "      <td>2.00</td>\n",
       "    </tr>\n",
       "    <tr>\n",
       "      <th>998</th>\n",
       "      <td>Drowning Ruth</td>\n",
       "      <td>3.0</td>\n",
       "      <td>2.00</td>\n",
       "    </tr>\n",
       "    <tr>\n",
       "      <th>999</th>\n",
       "      <td>Harvesting the Heart</td>\n",
       "      <td>2.0</td>\n",
       "      <td>1.50</td>\n",
       "    </tr>\n",
       "  </tbody>\n",
       "</table>\n",
       "<p>1000 rows × 3 columns</p>\n",
       "</div>"
      ],
      "text/plain": [
       "                                                 title  rew_count  avg_rt\n",
       "0                        A Dirty Job (Grim Reaper  #1)        4.0    5.00\n",
       "1                             Tai-Pan (Asian Saga  #2)        2.0    5.00\n",
       "2              School's Out—Forever (Maximum Ride  #2)        3.0    5.00\n",
       "3                 Piercing the Darkness (Darkness  #2)        2.0    5.00\n",
       "4    The War of Art: Break Through the Blocks & Win...        2.0    5.00\n",
       "..                                                 ...        ...     ...\n",
       "995  The World Is Flat: A Brief History of the Twen...        3.0    2.25\n",
       "996                  His Excellency: George Washington        2.0    2.00\n",
       "997                                              Junky        2.0    2.00\n",
       "998                                      Drowning Ruth        3.0    2.00\n",
       "999                               Harvesting the Heart        2.0    1.50\n",
       "\n",
       "[1000 rows x 3 columns]"
      ]
     },
     "execution_count": 23,
     "metadata": {},
     "output_type": "execute_result"
    }
   ],
   "source": [
    "pd.io.sql.read_sql('''\n",
    "WITH rew AS (SELECT book_id,\n",
    "                    COUNT(review_id) AS rew_count\n",
    "             FROM reviews\n",
    "             GROUP BY book_id\n",
    "             ), \n",
    "     rt AS (SELECT book_id,\n",
    "                   AVG(rating) AS avg_rt\n",
    "            FROM ratings\n",
    "            GROUP BY book_id\n",
    "            )\n",
    "SELECT b.title,\n",
    "       rew_count,\n",
    "       avg_rt\n",
    "FROM books AS b \n",
    "LEFT JOIN rew ON b.book_id = rew.book_id\n",
    "LEFT JOIN rt ON b.book_id = rt.book_id\n",
    "ORDER BY avg_rt DESC\n",
    "''', con = engine)"
   ]
  },
  {
   "cell_type": "markdown",
   "id": "fddd476f",
   "metadata": {},
   "source": [
    "### Издательство с наибольшим количеством книг"
   ]
  },
  {
   "cell_type": "markdown",
   "id": "6d37586a",
   "metadata": {},
   "source": [
    "Определим издательство, которое выпустило больше всего книг. Примем условие, что книга содержит более 50 страниц, чтобы отбросить брошюры"
   ]
  },
  {
   "cell_type": "code",
   "execution_count": 17,
   "id": "30bff776",
   "metadata": {},
   "outputs": [
    {
     "data": {
      "text/html": [
       "<div>\n",
       "<style scoped>\n",
       "    .dataframe tbody tr th:only-of-type {\n",
       "        vertical-align: middle;\n",
       "    }\n",
       "\n",
       "    .dataframe tbody tr th {\n",
       "        vertical-align: top;\n",
       "    }\n",
       "\n",
       "    .dataframe thead th {\n",
       "        text-align: right;\n",
       "    }\n",
       "</style>\n",
       "<table border=\"1\" class=\"dataframe\">\n",
       "  <thead>\n",
       "    <tr style=\"text-align: right;\">\n",
       "      <th></th>\n",
       "      <th>publisher</th>\n",
       "      <th>count</th>\n",
       "    </tr>\n",
       "  </thead>\n",
       "  <tbody>\n",
       "    <tr>\n",
       "      <th>0</th>\n",
       "      <td>Penguin Books</td>\n",
       "      <td>42</td>\n",
       "    </tr>\n",
       "  </tbody>\n",
       "</table>\n",
       "</div>"
      ],
      "text/plain": [
       "       publisher  count\n",
       "0  Penguin Books     42"
      ]
     },
     "execution_count": 17,
     "metadata": {},
     "output_type": "execute_result"
    }
   ],
   "source": [
    "pd.io.sql.read_sql('''\n",
    "SELECT p.publisher,\n",
    "       COUNT(b.book_id)\n",
    "FROM books AS b\n",
    "LEFT JOIN publishers AS p ON b.publisher_id = p.publisher_id\n",
    "WHERE b.num_pages > 50\n",
    "GROUP BY p.publisher_id\n",
    "ORDER BY COUNT(b.book_id) DESC\n",
    "LIMIT 1\n",
    "''', con = engine)"
   ]
  },
  {
   "cell_type": "markdown",
   "id": "7665ba39",
   "metadata": {},
   "source": [
    "### Автор с самой высокой средней оценкой книг"
   ]
  },
  {
   "cell_type": "markdown",
   "id": "9da9b1f5",
   "metadata": {},
   "source": [
    "Найдём автора, который имеет самую высокую среднюю оценку за все выпущенные им книги."
   ]
  },
  {
   "cell_type": "code",
   "execution_count": 18,
   "id": "68fd2ddd",
   "metadata": {},
   "outputs": [
    {
     "data": {
      "text/html": [
       "<div>\n",
       "<style scoped>\n",
       "    .dataframe tbody tr th:only-of-type {\n",
       "        vertical-align: middle;\n",
       "    }\n",
       "\n",
       "    .dataframe tbody tr th {\n",
       "        vertical-align: top;\n",
       "    }\n",
       "\n",
       "    .dataframe thead th {\n",
       "        text-align: right;\n",
       "    }\n",
       "</style>\n",
       "<table border=\"1\" class=\"dataframe\">\n",
       "  <thead>\n",
       "    <tr style=\"text-align: right;\">\n",
       "      <th></th>\n",
       "      <th>author</th>\n",
       "      <th>rate</th>\n",
       "    </tr>\n",
       "  </thead>\n",
       "  <tbody>\n",
       "    <tr>\n",
       "      <th>0</th>\n",
       "      <td>J.K. Rowling/Mary GrandPré</td>\n",
       "      <td>4.283844</td>\n",
       "    </tr>\n",
       "  </tbody>\n",
       "</table>\n",
       "</div>"
      ],
      "text/plain": [
       "                       author      rate\n",
       "0  J.K. Rowling/Mary GrandPré  4.283844"
      ]
     },
     "execution_count": 18,
     "metadata": {},
     "output_type": "execute_result"
    }
   ],
   "source": [
    "pd.io.sql.read_sql('''\n",
    "SELECT a.author,\n",
    "       AVG(book_rating.rate) AS rate\n",
    "FROM books LEFT JOIN (SELECT book_id,\n",
    "                             AVG(rating) AS rate,\n",
    "                             COUNT(rating_id) AS rating_count\n",
    "                      FROM ratings\n",
    "                      GROUP BY book_id\n",
    "                      ) AS book_rating ON book_rating.book_id = books.book_id\n",
    "LEFT JOIN authors AS a ON a.author_id = books.author_id\n",
    "WHERE rating_count >= 50\n",
    "GROUP BY a.author\n",
    "ORDER BY rate DESC\n",
    "LIMIT 1\n",
    "''', con = engine)"
   ]
  },
  {
   "cell_type": "markdown",
   "id": "a75768c0",
   "metadata": {},
   "source": [
    "### Среднее количество обзоров от пользователей, которые поставили более 50 оценок"
   ]
  },
  {
   "cell_type": "markdown",
   "id": "830c004e",
   "metadata": {},
   "source": [
    "Найдём среднее количество обзоров от пользователей, которые поставили более пятидесяти оценок. Для этого создадим две временные таблицы: в первой отберём тех, кто поставил более 50 оценок, а во второй - посчитаем, сколько отзывов оставляют пользователи."
   ]
  },
  {
   "cell_type": "code",
   "execution_count": 19,
   "id": "227a0b7e",
   "metadata": {},
   "outputs": [
    {
     "data": {
      "text/html": [
       "<div>\n",
       "<style scoped>\n",
       "    .dataframe tbody tr th:only-of-type {\n",
       "        vertical-align: middle;\n",
       "    }\n",
       "\n",
       "    .dataframe tbody tr th {\n",
       "        vertical-align: top;\n",
       "    }\n",
       "\n",
       "    .dataframe thead th {\n",
       "        text-align: right;\n",
       "    }\n",
       "</style>\n",
       "<table border=\"1\" class=\"dataframe\">\n",
       "  <thead>\n",
       "    <tr style=\"text-align: right;\">\n",
       "      <th></th>\n",
       "      <th>avg</th>\n",
       "    </tr>\n",
       "  </thead>\n",
       "  <tbody>\n",
       "    <tr>\n",
       "      <th>0</th>\n",
       "      <td>24.333333</td>\n",
       "    </tr>\n",
       "  </tbody>\n",
       "</table>\n",
       "</div>"
      ],
      "text/plain": [
       "         avg\n",
       "0  24.333333"
      ]
     },
     "execution_count": 19,
     "metadata": {},
     "output_type": "execute_result"
    }
   ],
   "source": [
    "pd.io.sql.read_sql('''\n",
    "WITH \n",
    "    user_rating AS (\n",
    "        SELECT username,\n",
    "               COUNT(rating_id) AS rate\n",
    "        FROM ratings\n",
    "        GROUP BY username\n",
    "        HAVING COUNT(rating_id) > 50\n",
    "    ), \n",
    "    user_review AS (\n",
    "        SELECT username,\n",
    "               COUNT(review_id) AS rew\n",
    "        FROM reviews\n",
    "        GROUP BY username\n",
    "    )\n",
    "SELECT AVG(rew)\n",
    "FROM user_rating LEFT JOIN user_review ON user_rating.username = user_review.username\n",
    "''', con = engine)"
   ]
  },
  {
   "cell_type": "markdown",
   "id": "996eb473",
   "metadata": {},
   "source": [
    "## Вывод\n",
    "\n",
    "1. В нашей базе 1000 книг, 636 записей об авторах и 340 издательств\n",
    "2. Пользователи оставили 6.5 тысяч оценок книгам и 2.8 тысяч отзывов\n",
    "3. После 1 января 2000 года вышла 821 книга\n",
    "4. Самая высоко-оценённая книга имеет рейтинг 5 и 16 отзывов\n",
    "5. Больше всего книг выпустило издание Penguin Books. Они выпустили 42 книги\n",
    "6. Самая высокая средняя оценка за книги у автора - у создательницы серии книг про Гарри Поттера Джоан Роулинг\n",
    "7. Пользователи, которые поставили более 50 оценок книгам, оставляют в сренем 24 отзыва."
   ]
  }
 ],
 "metadata": {
  "ExecuteTimeLog": [
   {
    "duration": 13959,
    "start_time": "2022-06-29T17:07:22.128Z"
   },
   {
    "duration": 108,
    "start_time": "2022-06-29T17:07:36.089Z"
   },
   {
    "duration": 13,
    "start_time": "2022-06-29T17:07:36.198Z"
   },
   {
    "duration": 13,
    "start_time": "2022-06-29T17:07:36.213Z"
   },
   {
    "duration": 28,
    "start_time": "2022-06-29T17:07:36.228Z"
   },
   {
    "duration": 35,
    "start_time": "2022-06-29T17:07:36.258Z"
   },
   {
    "duration": 11,
    "start_time": "2022-06-29T17:07:36.295Z"
   },
   {
    "duration": 26,
    "start_time": "2022-06-29T17:07:36.307Z"
   },
   {
    "duration": 15,
    "start_time": "2022-06-29T17:07:36.335Z"
   },
   {
    "duration": 30,
    "start_time": "2022-06-29T17:07:36.352Z"
   },
   {
    "duration": 22,
    "start_time": "2022-06-29T17:07:36.383Z"
   },
   {
    "duration": 16,
    "start_time": "2022-06-29T17:08:27.867Z"
   },
   {
    "duration": 521,
    "start_time": "2022-06-30T08:25:54.794Z"
   },
   {
    "duration": 3,
    "start_time": "2022-06-30T08:25:56.795Z"
   },
   {
    "duration": 3,
    "start_time": "2022-06-30T08:25:57.257Z"
   },
   {
    "duration": 7197,
    "start_time": "2022-06-30T08:25:58.057Z"
   },
   {
    "duration": 418,
    "start_time": "2022-06-30T08:26:23.525Z"
   },
   {
    "duration": 82,
    "start_time": "2022-06-30T08:26:41.466Z"
   },
   {
    "duration": 73,
    "start_time": "2022-06-30T08:27:02.875Z"
   },
   {
    "duration": 76,
    "start_time": "2022-06-30T08:27:23.039Z"
   },
   {
    "duration": 72,
    "start_time": "2022-06-30T08:27:42.109Z"
   },
   {
    "duration": 75,
    "start_time": "2022-06-30T08:27:53.759Z"
   },
   {
    "duration": 76,
    "start_time": "2022-06-30T08:28:02.747Z"
   },
   {
    "duration": 76,
    "start_time": "2022-06-30T08:28:14.162Z"
   },
   {
    "duration": 73,
    "start_time": "2022-06-30T08:28:24.953Z"
   },
   {
    "duration": 76,
    "start_time": "2022-06-30T08:32:32.541Z"
   },
   {
    "duration": 73,
    "start_time": "2022-06-30T08:32:44.462Z"
   },
   {
    "duration": 113,
    "start_time": "2022-06-30T08:33:34.851Z"
   },
   {
    "duration": 157,
    "start_time": "2022-06-30T08:39:06.289Z"
   },
   {
    "duration": 176,
    "start_time": "2022-06-30T08:39:26.517Z"
   },
   {
    "duration": 170,
    "start_time": "2022-06-30T08:39:37.773Z"
   },
   {
    "duration": 151,
    "start_time": "2022-06-30T08:39:50.491Z"
   },
   {
    "duration": 77,
    "start_time": "2022-06-30T08:40:03.612Z"
   },
   {
    "duration": 122,
    "start_time": "2022-06-30T08:41:43.675Z"
   },
   {
    "duration": 88,
    "start_time": "2022-06-30T08:42:55.814Z"
   },
   {
    "duration": 172,
    "start_time": "2022-06-30T08:43:19.784Z"
   },
   {
    "duration": 77,
    "start_time": "2022-06-30T08:44:44.373Z"
   },
   {
    "duration": 496,
    "start_time": "2022-06-30T16:55:17.473Z"
   },
   {
    "duration": 3,
    "start_time": "2022-06-30T16:55:17.971Z"
   },
   {
    "duration": 6,
    "start_time": "2022-06-30T16:55:17.975Z"
   },
   {
    "duration": 11824,
    "start_time": "2022-06-30T16:55:17.982Z"
   },
   {
    "duration": 74,
    "start_time": "2022-06-30T16:55:29.807Z"
   },
   {
    "duration": 9,
    "start_time": "2022-06-30T16:55:29.882Z"
   },
   {
    "duration": 12,
    "start_time": "2022-06-30T16:55:29.892Z"
   },
   {
    "duration": 9,
    "start_time": "2022-06-30T16:55:29.905Z"
   },
   {
    "duration": 10,
    "start_time": "2022-06-30T16:55:29.915Z"
   },
   {
    "duration": 8,
    "start_time": "2022-06-30T16:55:29.928Z"
   },
   {
    "duration": 12,
    "start_time": "2022-06-30T16:55:29.938Z"
   },
   {
    "duration": 11,
    "start_time": "2022-06-30T16:55:29.951Z"
   },
   {
    "duration": 13,
    "start_time": "2022-06-30T16:55:29.964Z"
   },
   {
    "duration": 9,
    "start_time": "2022-06-30T16:55:29.979Z"
   },
   {
    "duration": 10,
    "start_time": "2022-06-30T16:55:29.989Z"
   },
   {
    "duration": 36,
    "start_time": "2022-06-30T16:55:30.000Z"
   },
   {
    "duration": 11,
    "start_time": "2022-06-30T16:55:30.037Z"
   },
   {
    "duration": 27,
    "start_time": "2022-06-30T16:55:30.049Z"
   },
   {
    "duration": 13,
    "start_time": "2022-06-30T16:55:30.077Z"
   },
   {
    "duration": 191,
    "start_time": "2022-06-30T16:55:55.259Z"
   },
   {
    "duration": 29,
    "start_time": "2022-06-30T16:56:20.758Z"
   },
   {
    "duration": 15,
    "start_time": "2022-06-30T16:56:30.026Z"
   },
   {
    "duration": 14,
    "start_time": "2022-06-30T16:56:34.459Z"
   },
   {
    "duration": 17,
    "start_time": "2022-06-30T16:56:43.622Z"
   },
   {
    "duration": 559,
    "start_time": "2022-06-30T19:25:16.826Z"
   },
   {
    "duration": 3,
    "start_time": "2022-06-30T19:25:17.388Z"
   },
   {
    "duration": 19,
    "start_time": "2022-06-30T19:25:17.393Z"
   },
   {
    "duration": 5678,
    "start_time": "2022-06-30T19:25:17.414Z"
   },
   {
    "duration": 267,
    "start_time": "2022-06-30T19:25:23.094Z"
   },
   {
    "duration": 78,
    "start_time": "2022-06-30T19:25:23.363Z"
   },
   {
    "duration": 73,
    "start_time": "2022-06-30T19:25:23.443Z"
   },
   {
    "duration": 72,
    "start_time": "2022-06-30T19:25:23.518Z"
   },
   {
    "duration": 73,
    "start_time": "2022-06-30T19:25:23.591Z"
   },
   {
    "duration": 72,
    "start_time": "2022-06-30T19:25:23.665Z"
   },
   {
    "duration": 75,
    "start_time": "2022-06-30T19:25:23.738Z"
   },
   {
    "duration": 73,
    "start_time": "2022-06-30T19:25:23.814Z"
   },
   {
    "duration": 74,
    "start_time": "2022-06-30T19:25:23.888Z"
   },
   {
    "duration": 71,
    "start_time": "2022-06-30T19:25:23.965Z"
   },
   {
    "duration": 73,
    "start_time": "2022-06-30T19:25:24.038Z"
   },
   {
    "duration": 113,
    "start_time": "2022-06-30T19:25:24.113Z"
   },
   {
    "duration": 74,
    "start_time": "2022-06-30T19:25:24.227Z"
   },
   {
    "duration": 77,
    "start_time": "2022-06-30T19:25:24.303Z"
   },
   {
    "duration": 90,
    "start_time": "2022-06-30T19:25:24.382Z"
   },
   {
    "duration": 209,
    "start_time": "2022-06-30T19:30:37.162Z"
   },
   {
    "duration": 148,
    "start_time": "2022-06-30T19:30:59.029Z"
   },
   {
    "duration": 75,
    "start_time": "2022-06-30T19:31:28.889Z"
   },
   {
    "duration": 74,
    "start_time": "2022-06-30T19:31:44.039Z"
   },
   {
    "duration": 79,
    "start_time": "2022-06-30T19:31:47.942Z"
   },
   {
    "duration": 94,
    "start_time": "2022-06-30T19:33:34.413Z"
   },
   {
    "duration": 79,
    "start_time": "2022-06-30T19:34:41.952Z"
   },
   {
    "duration": 83,
    "start_time": "2022-06-30T19:34:47.399Z"
   },
   {
    "duration": 577,
    "start_time": "2022-07-01T06:07:47.236Z"
   },
   {
    "duration": 3,
    "start_time": "2022-07-01T06:07:47.815Z"
   },
   {
    "duration": 8,
    "start_time": "2022-07-01T06:07:47.820Z"
   },
   {
    "duration": 12832,
    "start_time": "2022-07-01T06:07:47.829Z"
   },
   {
    "duration": 76,
    "start_time": "2022-07-01T06:08:00.663Z"
   },
   {
    "duration": 13,
    "start_time": "2022-07-01T06:08:00.741Z"
   },
   {
    "duration": 12,
    "start_time": "2022-07-01T06:08:00.755Z"
   },
   {
    "duration": 14,
    "start_time": "2022-07-01T06:08:00.769Z"
   },
   {
    "duration": 15,
    "start_time": "2022-07-01T06:08:00.784Z"
   },
   {
    "duration": 11,
    "start_time": "2022-07-01T06:08:00.801Z"
   },
   {
    "duration": 40,
    "start_time": "2022-07-01T06:08:00.814Z"
   },
   {
    "duration": 13,
    "start_time": "2022-07-01T06:08:00.856Z"
   },
   {
    "duration": 20,
    "start_time": "2022-07-01T06:08:00.871Z"
   },
   {
    "duration": 12,
    "start_time": "2022-07-01T06:08:00.894Z"
   },
   {
    "duration": 13,
    "start_time": "2022-07-01T06:08:00.907Z"
   },
   {
    "duration": 45,
    "start_time": "2022-07-01T06:08:00.922Z"
   },
   {
    "duration": 13,
    "start_time": "2022-07-01T06:08:00.969Z"
   },
   {
    "duration": 21,
    "start_time": "2022-07-01T06:08:00.984Z"
   },
   {
    "duration": 15,
    "start_time": "2022-07-01T06:08:01.007Z"
   },
   {
    "duration": 535,
    "start_time": "2022-07-01T06:09:53.874Z"
   },
   {
    "duration": 3,
    "start_time": "2022-07-01T06:09:54.411Z"
   },
   {
    "duration": 14,
    "start_time": "2022-07-01T06:09:54.416Z"
   },
   {
    "duration": 13900,
    "start_time": "2022-07-01T06:09:54.432Z"
   },
   {
    "duration": 65,
    "start_time": "2022-07-01T06:10:08.335Z"
   },
   {
    "duration": 10,
    "start_time": "2022-07-01T06:10:08.402Z"
   },
   {
    "duration": 10,
    "start_time": "2022-07-01T06:10:08.413Z"
   },
   {
    "duration": 9,
    "start_time": "2022-07-01T06:10:08.425Z"
   },
   {
    "duration": 10,
    "start_time": "2022-07-01T06:10:08.435Z"
   },
   {
    "duration": 8,
    "start_time": "2022-07-01T06:10:08.447Z"
   },
   {
    "duration": 11,
    "start_time": "2022-07-01T06:10:08.457Z"
   },
   {
    "duration": 10,
    "start_time": "2022-07-01T06:10:08.470Z"
   },
   {
    "duration": 11,
    "start_time": "2022-07-01T06:10:08.482Z"
   },
   {
    "duration": 9,
    "start_time": "2022-07-01T06:10:08.496Z"
   },
   {
    "duration": 10,
    "start_time": "2022-07-01T06:10:08.507Z"
   },
   {
    "duration": 30,
    "start_time": "2022-07-01T06:10:08.542Z"
   },
   {
    "duration": 12,
    "start_time": "2022-07-01T06:10:08.574Z"
   },
   {
    "duration": 16,
    "start_time": "2022-07-01T06:10:08.588Z"
   },
   {
    "duration": 16,
    "start_time": "2022-07-01T06:10:08.606Z"
   },
   {
    "duration": 27,
    "start_time": "2022-07-01T06:10:31.465Z"
   },
   {
    "duration": 28,
    "start_time": "2022-07-01T06:14:02.227Z"
   },
   {
    "duration": 57,
    "start_time": "2022-07-01T07:44:26.248Z"
   },
   {
    "duration": 540,
    "start_time": "2022-07-01T07:44:31.206Z"
   },
   {
    "duration": 3,
    "start_time": "2022-07-01T07:44:31.748Z"
   },
   {
    "duration": 11,
    "start_time": "2022-07-01T07:44:31.752Z"
   },
   {
    "duration": 7150,
    "start_time": "2022-07-01T07:44:31.769Z"
   },
   {
    "duration": 333,
    "start_time": "2022-07-01T07:44:38.921Z"
   },
   {
    "duration": 99,
    "start_time": "2022-07-01T07:44:39.256Z"
   },
   {
    "duration": 90,
    "start_time": "2022-07-01T07:44:39.357Z"
   },
   {
    "duration": 91,
    "start_time": "2022-07-01T07:44:39.449Z"
   },
   {
    "duration": 96,
    "start_time": "2022-07-01T07:44:39.542Z"
   },
   {
    "duration": 73,
    "start_time": "2022-07-01T07:44:39.641Z"
   },
   {
    "duration": 78,
    "start_time": "2022-07-01T07:44:39.716Z"
   },
   {
    "duration": 74,
    "start_time": "2022-07-01T07:44:39.796Z"
   },
   {
    "duration": 77,
    "start_time": "2022-07-01T07:44:39.871Z"
   },
   {
    "duration": 74,
    "start_time": "2022-07-01T07:44:39.949Z"
   },
   {
    "duration": 77,
    "start_time": "2022-07-01T07:44:40.025Z"
   },
   {
    "duration": 233,
    "start_time": "2022-07-01T07:44:40.105Z"
   },
   {
    "duration": 1,
    "start_time": "2022-07-01T07:44:40.339Z"
   },
   {
    "duration": 0,
    "start_time": "2022-07-01T07:44:40.341Z"
   },
   {
    "duration": 0,
    "start_time": "2022-07-01T07:44:40.342Z"
   },
   {
    "duration": 84,
    "start_time": "2022-07-01T07:44:58.574Z"
   },
   {
    "duration": 87,
    "start_time": "2022-07-01T07:50:11.195Z"
   },
   {
    "duration": 103,
    "start_time": "2022-07-01T07:56:41.403Z"
   },
   {
    "duration": 103,
    "start_time": "2022-07-01T07:57:23.896Z"
   },
   {
    "duration": 105,
    "start_time": "2022-07-01T07:58:37.961Z"
   },
   {
    "duration": 104,
    "start_time": "2022-07-01T07:58:51.174Z"
   },
   {
    "duration": 577,
    "start_time": "2022-07-01T09:12:36.816Z"
   },
   {
    "duration": 4,
    "start_time": "2022-07-01T09:12:37.395Z"
   },
   {
    "duration": 9,
    "start_time": "2022-07-01T09:12:37.401Z"
   },
   {
    "duration": 12684,
    "start_time": "2022-07-01T09:12:37.413Z"
   },
   {
    "duration": 70,
    "start_time": "2022-07-01T09:12:50.099Z"
   },
   {
    "duration": 11,
    "start_time": "2022-07-01T09:12:50.171Z"
   },
   {
    "duration": 10,
    "start_time": "2022-07-01T09:12:50.184Z"
   },
   {
    "duration": 9,
    "start_time": "2022-07-01T09:12:50.196Z"
   },
   {
    "duration": 11,
    "start_time": "2022-07-01T09:12:50.207Z"
   },
   {
    "duration": 24,
    "start_time": "2022-07-01T09:12:50.221Z"
   },
   {
    "duration": 12,
    "start_time": "2022-07-01T09:12:50.246Z"
   },
   {
    "duration": 10,
    "start_time": "2022-07-01T09:12:50.260Z"
   },
   {
    "duration": 14,
    "start_time": "2022-07-01T09:12:50.271Z"
   },
   {
    "duration": 11,
    "start_time": "2022-07-01T09:12:50.286Z"
   },
   {
    "duration": 11,
    "start_time": "2022-07-01T09:12:50.298Z"
   },
   {
    "duration": 54,
    "start_time": "2022-07-01T09:12:50.311Z"
   },
   {
    "duration": 14,
    "start_time": "2022-07-01T09:12:50.368Z"
   },
   {
    "duration": 15,
    "start_time": "2022-07-01T09:12:50.383Z"
   },
   {
    "duration": 13,
    "start_time": "2022-07-01T09:12:50.400Z"
   },
   {
    "duration": 25,
    "start_time": "2022-07-01T09:13:07.971Z"
   },
   {
    "duration": 197,
    "start_time": "2022-07-01T09:13:13.312Z"
   },
   {
    "duration": 20,
    "start_time": "2022-07-01T09:13:17.441Z"
   },
   {
    "duration": 25,
    "start_time": "2022-07-01T09:13:21.630Z"
   }
  ],
  "kernelspec": {
   "display_name": "Python 3 (ipykernel)",
   "language": "python",
   "name": "python3"
  },
  "language_info": {
   "codemirror_mode": {
    "name": "ipython",
    "version": 3
   },
   "file_extension": ".py",
   "mimetype": "text/x-python",
   "name": "python",
   "nbconvert_exporter": "python",
   "pygments_lexer": "ipython3",
   "version": "3.7.8"
  },
  "toc": {
   "base_numbering": 1,
   "nav_menu": {},
   "number_sections": true,
   "sideBar": true,
   "skip_h1_title": true,
   "title_cell": "Table of Contents",
   "title_sidebar": "Contents",
   "toc_cell": true,
   "toc_position": {},
   "toc_section_display": true,
   "toc_window_display": true
  }
 },
 "nbformat": 4,
 "nbformat_minor": 5
}
