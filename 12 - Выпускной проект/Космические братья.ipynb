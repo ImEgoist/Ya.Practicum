{
 "cells": [
  {
   "cell_type": "markdown",
   "id": "84cc5825",
   "metadata": {},
   "source": [
    "<div style=\"border:solid purple 5px; padding: 20px\"> \n",
    "\n",
    "<b>Космическое привет 🖖!</b>\n",
    "    \n",
    "\n",
    "Для упрощения коммуникации мои пометки будут в отдельных Markdown ячейках. <b>Пожалуйста, не удаляй и не меняй их</b> — так будет проще отслеживать внесенные изменения. К слову о доработках. Будет намного удобнее, если о сделанных изменениях ты так же сообщишь мне в отдельной Markdown ячейке (это позволит принять проект куда быстрее). \n",
    "    \n",
    "<hr>    \n",
    "Несколько  слов об оформлении. Мои комментарии будут оформлены тремя цветами:\n",
    "\n",
    "<div class=\"alert alert-success\">\n",
    "<b> 🤌  Комментарий тимлида</b>   — зеленый комментарий означает, что эта часть работы выполнена отлично;</div>\n",
    "    \n",
    "<div class=\"alert alert-warning\">\n",
    "<b>🕵️‍♀️  Комментарий тимлида </b> — желтый цвет укажет на хорошо проделанную работу и предложит (хоть это и необязательно) немного доработать текущий этап проекта;</div>\n",
    "    \n",
    "<div class=\"alert alert-danger\">\n",
    "<b> 👨‍🚒  Комментарий тимлида</b> — красный комментарий означает, что некоторые аспекты придется изменить, так как без их исправления работу принять я не смогу.</div> \n",
    "    \n",
    "    \n",
    "<div class=\"alert alert-info\">\n",
    "<b>🧑‍🎓 Комментарий джуна </b> — если хочешь, то можешь использовать синий цвет для своих комментариев, скопировав разметку из этой ячейки</div>    \n",
    "\n",
    "\n",
    "\n",
    "</div>      "
   ]
  },
  {
   "cell_type": "markdown",
   "id": "0719c35f",
   "metadata": {},
   "source": [
    "<div style=\"border:solid purple 5px; padding: 20px\"> \n",
    "Очень цельная работа. Хоть есть несколько критических моментов, требующих доработки, но твое исследование производит сильное впечатление ✋\n",
    "    \n",
    "Основные моменты, требующие доработки: \n",
    "    \n",
    "- код в самом начале не работает;\n",
    "    \n",
    "    \n",
    "- использование \"магических чисел\" <a href = \"https://ru.wikipedia.org/wiki/%D0%9C%D0%B0%D0%B3%D0%B8%D1%87%D0%B5%D1%81%D0%BA%D0%BE%D0%B5_%D1%87%D0%B8%D1%81%D0%BB%D0%BE_(%D0%BF%D1%80%D0%BE%D0%B3%D1%80%D0%B0%D0%BC%D0%BC%D0%B8%D1%80%D0%BE%D0%B2%D0%B0%D0%BD%D0%B8%D0%B5)\"> тык; </a>     \n",
    "\n",
    "- односторонняя проверка гипотез.\n",
    "    \n",
    "    \n",
    "Если у тебя будут возникать вопросы или же покажется, что что-то я пропустила при проверке, обязательно пиши в личку, так мы быстрее разберемся).\n",
    "\n",
    "С нетерпением жду твои правки \n",
    "    \n",
    "![](https://i.gifer.com/iAe.gif)"
   ]
  },
  {
   "cell_type": "markdown",
   "id": "09324bfb",
   "metadata": {},
   "source": [
    "<div style=\"border:solid purple 5px; padding: 20px\"> \n",
    "С удовольствием принимаю твою работу! :)\n",
    "    \n",
    "Успехов с дашбордом 🙌"
   ]
  },
  {
   "cell_type": "markdown",
   "id": "fcea6ebf",
   "metadata": {
    "toc": true
   },
   "source": [
    "<h1>Table of Contents<span class=\"tocSkip\"></span></h1>\n",
    "<div class=\"toc\"><ul class=\"toc-item\"><li><span><a href=\"#Задача-проекта-и-описание-данных\" data-toc-modified-id=\"Задача-проекта-и-описание-данных-1\"><span class=\"toc-item-num\">1&nbsp;&nbsp;</span>Задача проекта и описание данных</a></span><ul class=\"toc-item\"><li><span><a href=\"#Основные-цели-проекта:\" data-toc-modified-id=\"Основные-цели-проекта:-1.1\"><span class=\"toc-item-num\">1.1&nbsp;&nbsp;</span>Основные цели проекта:</a></span></li></ul></li><li><span><a href=\"#Подготовка-данных\" data-toc-modified-id=\"Подготовка-данных-2\"><span class=\"toc-item-num\">2&nbsp;&nbsp;</span>Подготовка данных</a></span><ul class=\"toc-item\"><li><span><a href=\"#Загрузка-библиотек\" data-toc-modified-id=\"Загрузка-библиотек-2.1\"><span class=\"toc-item-num\">2.1&nbsp;&nbsp;</span>Загрузка библиотек</a></span></li><li><span><a href=\"#Первый-взгляд-на-данные\" data-toc-modified-id=\"Первый-взгляд-на-данные-2.2\"><span class=\"toc-item-num\">2.2&nbsp;&nbsp;</span>Первый взгляд на данные</a></span></li><li><span><a href=\"#Датасет-с-данными-о-рекламе\" data-toc-modified-id=\"Датасет-с-данными-о-рекламе-2.3\"><span class=\"toc-item-num\">2.3&nbsp;&nbsp;</span>Датасет с данными о рекламе</a></span></li><li><span><a href=\"#Датасет-с-информацией-о-внутриигровых-действиях\" data-toc-modified-id=\"Датасет-с-информацией-о-внутриигровых-действиях-2.4\"><span class=\"toc-item-num\">2.4&nbsp;&nbsp;</span>Датасет с информацией о внутриигровых действиях</a></span></li><li><span><a href=\"#Датасет-с-информацией-о-пользователях\" data-toc-modified-id=\"Датасет-с-информацией-о-пользователях-2.5\"><span class=\"toc-item-num\">2.5&nbsp;&nbsp;</span>Датасет с информацией о пользователях</a></span></li><li><span><a href=\"#Вывод\" data-toc-modified-id=\"Вывод-2.6\"><span class=\"toc-item-num\">2.6&nbsp;&nbsp;</span>Вывод</a></span></li></ul></li><li><span><a href=\"#Исследовательский-анализ-данных\" data-toc-modified-id=\"Исследовательский-анализ-данных-3\"><span class=\"toc-item-num\">3&nbsp;&nbsp;</span>Исследовательский анализ данных</a></span><ul class=\"toc-item\"><li><span><a href=\"#Затраты-на-рекламу\" data-toc-modified-id=\"Затраты-на-рекламу-3.1\"><span class=\"toc-item-num\">3.1&nbsp;&nbsp;</span>Затраты на рекламу</a></span></li><li><span><a href=\"#Процент-пользователей,-перешедших-на-следующий-уровень\" data-toc-modified-id=\"Процент-пользователей,-перешедших-на-следующий-уровень-3.2\"><span class=\"toc-item-num\">3.2&nbsp;&nbsp;</span>Процент пользователей, перешедших на следующий уровень</a></span></li><li><span><a href=\"#Количество-построенных-зданий-по-дням\" data-toc-modified-id=\"Количество-построенных-зданий-по-дням-3.3\"><span class=\"toc-item-num\">3.3&nbsp;&nbsp;</span>Количество построенных зданий по дням</a></span></li><li><span><a href=\"#Количество-построенных-зданий-по-игрокам\" data-toc-modified-id=\"Количество-построенных-зданий-по-игрокам-3.4\"><span class=\"toc-item-num\">3.4&nbsp;&nbsp;</span>Количество построенных зданий по игрокам</a></span></li><li><span><a href=\"#Вывод\" data-toc-modified-id=\"Вывод-3.5\"><span class=\"toc-item-num\">3.5&nbsp;&nbsp;</span>Вывод</a></span></li></ul></li><li><span><a href=\"#Проверка-гипотез\" data-toc-modified-id=\"Проверка-гипотез-4\"><span class=\"toc-item-num\">4&nbsp;&nbsp;</span>Проверка гипотез</a></span><ul class=\"toc-item\"><li><span><a href=\"#Первая-гипотеза\" data-toc-modified-id=\"Первая-гипотеза-4.1\"><span class=\"toc-item-num\">4.1&nbsp;&nbsp;</span>Первая гипотеза</a></span></li><li><span><a href=\"#Вторая-гипотеза\" data-toc-modified-id=\"Вторая-гипотеза-4.2\"><span class=\"toc-item-num\">4.2&nbsp;&nbsp;</span>Вторая гипотеза</a></span></li><li><span><a href=\"#Вывод\" data-toc-modified-id=\"Вывод-4.3\"><span class=\"toc-item-num\">4.3&nbsp;&nbsp;</span>Вывод</a></span></li></ul></li><li><span><a href=\"#Построение-моделей-монетизации\" data-toc-modified-id=\"Построение-моделей-монетизации-5\"><span class=\"toc-item-num\">5&nbsp;&nbsp;</span>Построение моделей монетизации</a></span><ul class=\"toc-item\"><li><span><a href=\"#Если-показывать-рекламу-после-каждого-строительства\" data-toc-modified-id=\"Если-показывать-рекламу-после-каждого-строительства-5.1\"><span class=\"toc-item-num\">5.1&nbsp;&nbsp;</span>Если показывать рекламу после каждого строительства</a></span></li><li><span><a href=\"#Реклама-в-4-случаях-из-5\" data-toc-modified-id=\"Реклама-в-4-случаях-из-5-5.2\"><span class=\"toc-item-num\">5.2&nbsp;&nbsp;</span>Реклама в 4 случаях из 5</a></span></li><li><span><a href=\"#Реклама-в-9-случаях-из-10\" data-toc-modified-id=\"Реклама-в-9-случаях-из-10-5.3\"><span class=\"toc-item-num\">5.3&nbsp;&nbsp;</span>Реклама в 9 случаях из 10</a></span></li><li><span><a href=\"#Увеличиваем-показы-рекламы\" data-toc-modified-id=\"Увеличиваем-показы-рекламы-5.4\"><span class=\"toc-item-num\">5.4&nbsp;&nbsp;</span>Увеличиваем показы рекламы</a></span></li><li><span><a href=\"#Вывод\" data-toc-modified-id=\"Вывод-5.5\"><span class=\"toc-item-num\">5.5&nbsp;&nbsp;</span>Вывод</a></span></li></ul></li><li><span><a href=\"#Вывод\" data-toc-modified-id=\"Вывод-6\"><span class=\"toc-item-num\">6&nbsp;&nbsp;</span>Вывод</a></span><ul class=\"toc-item\"><li><span><a href=\"#Общий-вывод-по-данным\" data-toc-modified-id=\"Общий-вывод-по-данным-6.1\"><span class=\"toc-item-num\">6.1&nbsp;&nbsp;</span>Общий вывод по данным</a></span></li><li><span><a href=\"#Рекомендации\" data-toc-modified-id=\"Рекомендации-6.2\"><span class=\"toc-item-num\">6.2&nbsp;&nbsp;</span>Рекомендации</a></span></li></ul></li></ul></div>"
   ]
  },
  {
   "cell_type": "markdown",
   "id": "70046c13",
   "metadata": {},
   "source": [
    "# Ссылка на презенацию: https://disk.yandex.ru/i/pdXpzaWH2s3Oug"
   ]
  },
  {
   "cell_type": "markdown",
   "id": "a6cbc378",
   "metadata": {},
   "source": [
    "<div class=\"alert alert-success\">\n",
    "<b> 🤌  Комментарий тимлида </b>  \n",
    "    \n",
    "С презентацией все ок :)\n",
    "    \n",
    "</div>"
   ]
  },
  {
   "cell_type": "markdown",
   "id": "b6e88c29",
   "metadata": {},
   "source": [
    "# Дашборд https://datalens.yandex/xoj164qijlpmp"
   ]
  },
  {
   "cell_type": "markdown",
   "id": "3458647a",
   "metadata": {},
   "source": [
    "## Задача проекта и описание данных\n",
    "\n",
    "Многие игры зарабатывают с помощью рекламы. И все они сталкиваются с противоречием: пользователь разозлится и уйдёт, если начать показывать ему рекламу раньше, чем игра его затянет. Но чем позже создатели игры включат рекламу, тем меньше они заработают.\n",
    "Аналитик помогает бизнесу выбрать оптимальное время для запуска рекламы. Зная расходы на продвижение игры, он может рассчитать её окупаемость при разных сценариях. Пока создатели игры планируют показывать её на экране выбором постройки.\n",
    "Поможем им не уйти в минус! Сформируем модель монетизации игрового приложения.\n",
    "\n",
    "Основной датасет содержит данные о событиях, совершенных в мобильной игре «Космические братья». В ней пользователи строят свою космическую программу и пытаются преуспеть в нелёгком деле колонизации галактики. Основная монетизация игры — только планируется. Но предполагается, что в приложении будет происходить показ рекламы на экране с выбором типа объекта\n",
    "для постройки. В датасете представлены данные по игре пользователей на первом уровне.\n",
    "\n",
    "Завершение первого уровня требует от игрока выполнения одного из двух условий:\n",
    "- Победа над первым врагом\n",
    "- Реализация проекта - разработка орбитальной сборки спутников\n",
    "\n",
    "В датасете содержатся данные первых пользователей приложения — когорты пользователей, которые начали пользоваться приложением в период с 4 по 10 мая включительно.\n",
    "\n",
    "Датасет game_actions.csv:\n",
    "- event_datetime — время события;\n",
    "- event — одно из трёх событий:\n",
    "    1. building — объект построен,\n",
    "    2. finished_stage_1 — первый уровень завершён,\n",
    "    3. project — проект завершён;\n",
    "- building_type — один из трёх типов здания:\n",
    "    1. assembly_shop — сборочный цех,\n",
    "    2. spaceport — космопорт,\n",
    "    3. research_center — исследовательский центр;\n",
    "- user_id — идентификатор пользователя;\n",
    "- project_type — тип реализованного проекта;\n",
    "\n",
    "Помимо основного датасета есть два датасета с информацией о рекламных активностях. Они также помогут в решении задачи.\n",
    "\n",
    "Датасет ad_cost.csv содержит колонки:\n",
    "- day - день, в который был совершен клик по объявлению\n",
    "- source - источник трафика\n",
    "- cost - стоимость кликов\n",
    "\n",
    "Датасет user_source.csv содержит колонки:\n",
    "- user_id - идентификатор пользователя\n",
    "- source - источников, с которого пришёл пользователь, установивший приложение\n",
    "\n",
    "Стоимость одного просмотра рекламы - 0.07 у.е."
   ]
  },
  {
   "cell_type": "markdown",
   "id": "418e1439",
   "metadata": {},
   "source": [
    "### Основные цели проекта:\n",
    "\n",
    "- Построить модель монетизации игрового приложения;\n",
    "- Выбрать оптимальное время для запуска рекламы, т.е. рассчитать, на каком этапе мы будем запускать рекламу и каким количеством её можем пожертвовать, чтобы не \"утопить\" пользователей в рекламе; \n",
    "- Рассчитать окупаемость рекламы при разных сценариях монетизации. "
   ]
  },
  {
   "cell_type": "markdown",
   "id": "557596a5",
   "metadata": {},
   "source": [
    "## Подготовка данных"
   ]
  },
  {
   "cell_type": "markdown",
   "id": "be3693f7",
   "metadata": {},
   "source": [
    "### Загрузка библиотек"
   ]
  },
  {
   "cell_type": "code",
   "execution_count": 1,
   "id": "85c18840",
   "metadata": {},
   "outputs": [],
   "source": [
    "import pandas as pd\n",
    "import matplotlib.pyplot as plt\n",
    "import seaborn as sns\n",
    "import datetime\n",
    "from scipy import stats as st\n",
    "from scipy.stats import ttest_ind \n",
    "import numpy as np"
   ]
  },
  {
   "cell_type": "markdown",
   "id": "43f9299c",
   "metadata": {},
   "source": [
    "### Первый взгляд на данные"
   ]
  },
  {
   "cell_type": "markdown",
   "id": "e4956c44",
   "metadata": {},
   "source": [
    "Прочитаем и запишем датасеты в переменные ads, actions и users"
   ]
  },
  {
   "cell_type": "markdown",
   "id": "71f9468e",
   "metadata": {},
   "source": [
    "<div class=\"alert alert-danger\">\n",
    "<b> 👨‍🚒  Комментарий тимлида</b> \n",
    "    \n",
    "Кажется, работа над проектов велась локально и пути к файлам не были изменены на общедоступные. Сейчас я внесу изменения в твой код, но в следующий раз будь внимательней. Стоит писать код таким образом, что бы он запускался и в jupiter hub, и локально без внесения дополнительных правок. Этого можно добиться многими способами. Например, использовать конструкцию try-except — для путей файлов: try — пути на локальном компьютере, except пути на сервере. Или применить библиотеку os:\n",
    "\n",
    "```\n",
    "import os\n",
    "\n",
    "pth1 = '/folder_1/data.csv'\n",
    "pth2 = '/folder_2/data.csv'\n",
    "\n",
    "if os.path.exists(pth1):\n",
    "    query_1 = pd.read_csv(pth1)\n",
    "elif os.path.exists(pth2):\n",
    "    query_1 = pd.read_csv(pth2)\n",
    "else:\n",
    "    print('Something is wrong)\n",
    "```    \n",
    "</div>"
   ]
  },
  {
   "cell_type": "code",
   "execution_count": 2,
   "id": "9441cd39",
   "metadata": {},
   "outputs": [],
   "source": [
    "#код ревьюера\n",
    "ads = pd.read_csv('/datasets/ad_costs.csv')\n",
    "actions = pd.read_csv('/datasets/game_actions.csv')\n",
    "users = pd.read_csv('/datasets/user_source.csv')"
   ]
  },
  {
   "cell_type": "code",
   "execution_count": 3,
   "id": "e1df45f4",
   "metadata": {},
   "outputs": [],
   "source": [
    "try:\n",
    "    ads = pd.read_csv('ad_costs.csv')\n",
    "    actions = pd.read_csv('game_actions.csv')\n",
    "    users = pd.read_csv('user_source.csv')\n",
    "except:\n",
    "    ads = pd.read_csv('/datasets/ad_costs.csv')\n",
    "    actions = pd.read_csv('/datasets/game_actions.csv')\n",
    "    users = pd.read_csv('/datasets/user_source.csv')"
   ]
  },
  {
   "cell_type": "markdown",
   "id": "01f05d45",
   "metadata": {},
   "source": [
    "<div class=\"alert alert-info\">\n",
    "<b>🧑‍🎓 Комментарий джуна </b> Я поняла, действительно забыла поменять пути =) Так будет норм? </div> "
   ]
  },
  {
   "cell_type": "markdown",
   "id": "d53ac184",
   "metadata": {},
   "source": [
    "<div class=\"alert alert-success\">\n",
    "<b> 🤌  Комментарий тимлида (v.2)</b>  \n",
    "    \n",
    "Более чем норм :)\n",
    "    \n",
    "</div>"
   ]
  },
  {
   "cell_type": "markdown",
   "id": "1ad27706",
   "metadata": {},
   "source": [
    "Напишем функцию, которая даст нам первую поверхностную информацию о каждом датасете"
   ]
  },
  {
   "cell_type": "code",
   "execution_count": 4,
   "id": "f68c5386",
   "metadata": {},
   "outputs": [],
   "source": [
    "def information(data):\n",
    "    display(data.info())\n",
    "    display(data.head(10))\n",
    "    print('Выявлено дубликатов:', data.duplicated().sum())\n",
    "    print('Выявлено пропусков:')\n",
    "    print(round((data.isna().mean()*100),2))"
   ]
  },
  {
   "cell_type": "markdown",
   "id": "f87f0d53",
   "metadata": {},
   "source": [
    "### Датасет с данными о рекламе"
   ]
  },
  {
   "cell_type": "markdown",
   "id": "e2f472b0",
   "metadata": {},
   "source": [
    "Начнём с данных о купленной рекламе"
   ]
  },
  {
   "cell_type": "code",
   "execution_count": 5,
   "id": "699a1987",
   "metadata": {},
   "outputs": [
    {
     "name": "stdout",
     "output_type": "stream",
     "text": [
      "<class 'pandas.core.frame.DataFrame'>\n",
      "RangeIndex: 28 entries, 0 to 27\n",
      "Data columns (total 3 columns):\n",
      " #   Column  Non-Null Count  Dtype  \n",
      "---  ------  --------------  -----  \n",
      " 0   source  28 non-null     object \n",
      " 1   day     28 non-null     object \n",
      " 2   cost    28 non-null     float64\n",
      "dtypes: float64(1), object(2)\n",
      "memory usage: 800.0+ bytes\n"
     ]
    },
    {
     "data": {
      "text/plain": [
       "None"
      ]
     },
     "metadata": {},
     "output_type": "display_data"
    },
    {
     "data": {
      "text/html": [
       "<div>\n",
       "<style scoped>\n",
       "    .dataframe tbody tr th:only-of-type {\n",
       "        vertical-align: middle;\n",
       "    }\n",
       "\n",
       "    .dataframe tbody tr th {\n",
       "        vertical-align: top;\n",
       "    }\n",
       "\n",
       "    .dataframe thead th {\n",
       "        text-align: right;\n",
       "    }\n",
       "</style>\n",
       "<table border=\"1\" class=\"dataframe\">\n",
       "  <thead>\n",
       "    <tr style=\"text-align: right;\">\n",
       "      <th></th>\n",
       "      <th>source</th>\n",
       "      <th>day</th>\n",
       "      <th>cost</th>\n",
       "    </tr>\n",
       "  </thead>\n",
       "  <tbody>\n",
       "    <tr>\n",
       "      <th>0</th>\n",
       "      <td>facebook_ads</td>\n",
       "      <td>2020-05-03</td>\n",
       "      <td>935.882786</td>\n",
       "    </tr>\n",
       "    <tr>\n",
       "      <th>1</th>\n",
       "      <td>facebook_ads</td>\n",
       "      <td>2020-05-04</td>\n",
       "      <td>548.354480</td>\n",
       "    </tr>\n",
       "    <tr>\n",
       "      <th>2</th>\n",
       "      <td>facebook_ads</td>\n",
       "      <td>2020-05-05</td>\n",
       "      <td>260.185754</td>\n",
       "    </tr>\n",
       "    <tr>\n",
       "      <th>3</th>\n",
       "      <td>facebook_ads</td>\n",
       "      <td>2020-05-06</td>\n",
       "      <td>177.982200</td>\n",
       "    </tr>\n",
       "    <tr>\n",
       "      <th>4</th>\n",
       "      <td>facebook_ads</td>\n",
       "      <td>2020-05-07</td>\n",
       "      <td>111.766796</td>\n",
       "    </tr>\n",
       "    <tr>\n",
       "      <th>5</th>\n",
       "      <td>facebook_ads</td>\n",
       "      <td>2020-05-08</td>\n",
       "      <td>68.009276</td>\n",
       "    </tr>\n",
       "    <tr>\n",
       "      <th>6</th>\n",
       "      <td>facebook_ads</td>\n",
       "      <td>2020-05-09</td>\n",
       "      <td>38.723350</td>\n",
       "    </tr>\n",
       "    <tr>\n",
       "      <th>7</th>\n",
       "      <td>instagram_new_adverts</td>\n",
       "      <td>2020-05-03</td>\n",
       "      <td>943.204717</td>\n",
       "    </tr>\n",
       "    <tr>\n",
       "      <th>8</th>\n",
       "      <td>instagram_new_adverts</td>\n",
       "      <td>2020-05-04</td>\n",
       "      <td>502.925451</td>\n",
       "    </tr>\n",
       "    <tr>\n",
       "      <th>9</th>\n",
       "      <td>instagram_new_adverts</td>\n",
       "      <td>2020-05-05</td>\n",
       "      <td>313.970984</td>\n",
       "    </tr>\n",
       "  </tbody>\n",
       "</table>\n",
       "</div>"
      ],
      "text/plain": [
       "                  source         day        cost\n",
       "0           facebook_ads  2020-05-03  935.882786\n",
       "1           facebook_ads  2020-05-04  548.354480\n",
       "2           facebook_ads  2020-05-05  260.185754\n",
       "3           facebook_ads  2020-05-06  177.982200\n",
       "4           facebook_ads  2020-05-07  111.766796\n",
       "5           facebook_ads  2020-05-08   68.009276\n",
       "6           facebook_ads  2020-05-09   38.723350\n",
       "7  instagram_new_adverts  2020-05-03  943.204717\n",
       "8  instagram_new_adverts  2020-05-04  502.925451\n",
       "9  instagram_new_adverts  2020-05-05  313.970984"
      ]
     },
     "metadata": {},
     "output_type": "display_data"
    },
    {
     "name": "stdout",
     "output_type": "stream",
     "text": [
      "Выявлено дубликатов: 0\n",
      "Выявлено пропусков:\n",
      "source    0.0\n",
      "day       0.0\n",
      "cost      0.0\n",
      "dtype: float64\n"
     ]
    }
   ],
   "source": [
    "information(ads)"
   ]
  },
  {
   "cell_type": "markdown",
   "id": "a7029785",
   "metadata": {},
   "source": [
    "Ни пропусков, ни дубликатов здесь нет, но столбец с датами нужно привести к верному формату"
   ]
  },
  {
   "cell_type": "code",
   "execution_count": 6,
   "id": "559082cc",
   "metadata": {},
   "outputs": [
    {
     "name": "stdout",
     "output_type": "stream",
     "text": [
      "<class 'pandas.core.frame.DataFrame'>\n",
      "RangeIndex: 28 entries, 0 to 27\n",
      "Data columns (total 3 columns):\n",
      " #   Column  Non-Null Count  Dtype         \n",
      "---  ------  --------------  -----         \n",
      " 0   source  28 non-null     object        \n",
      " 1   day     28 non-null     datetime64[ns]\n",
      " 2   cost    28 non-null     float64       \n",
      "dtypes: datetime64[ns](1), float64(1), object(1)\n",
      "memory usage: 800.0+ bytes\n"
     ]
    }
   ],
   "source": [
    "ads['day'] = pd.to_datetime(ads['day'], format='%Y-%m-%d')\n",
    "ads.info()"
   ]
  },
  {
   "cell_type": "code",
   "execution_count": 7,
   "id": "196c2479",
   "metadata": {},
   "outputs": [
    {
     "data": {
      "text/plain": [
       "instagram_new_adverts      7\n",
       "yandex_direct              7\n",
       "youtube_channel_reklama    7\n",
       "facebook_ads               7\n",
       "Name: source, dtype: int64"
      ]
     },
     "execution_count": 7,
     "metadata": {},
     "output_type": "execute_result"
    }
   ],
   "source": [
    "ads['source'].value_counts()"
   ]
  },
  {
   "cell_type": "markdown",
   "id": "3d750d1b",
   "metadata": {},
   "source": [
    "Всего 4 источника траффика: фейсбук, яндекс.директ, ютуб и инстаграм."
   ]
  },
  {
   "cell_type": "code",
   "execution_count": 8,
   "id": "f22fcb4b",
   "metadata": {},
   "outputs": [
    {
     "data": {
      "text/plain": [
       "2020-05-05    4\n",
       "2020-05-09    4\n",
       "2020-05-06    4\n",
       "2020-05-03    4\n",
       "2020-05-07    4\n",
       "2020-05-04    4\n",
       "2020-05-08    4\n",
       "Name: day, dtype: int64"
      ]
     },
     "execution_count": 8,
     "metadata": {},
     "output_type": "execute_result"
    }
   ],
   "source": [
    "ads['day'].value_counts()"
   ]
  },
  {
   "cell_type": "markdown",
   "id": "8a34c754",
   "metadata": {},
   "source": [
    "Рассматриваемы период - 7 дней, с 3 мая 2020 года по 9 мая 2020 года. Каждый день рекламу покупали у всех четырёх источников."
   ]
  },
  {
   "cell_type": "markdown",
   "id": "95d61dca",
   "metadata": {},
   "source": [
    "### Датасет с информацией о внутриигровых действиях"
   ]
  },
  {
   "cell_type": "markdown",
   "id": "bc2b5f6c",
   "metadata": {},
   "source": [
    "Посмотрим на данные о внутриигровых действиях"
   ]
  },
  {
   "cell_type": "code",
   "execution_count": 9,
   "id": "dc3f6b54",
   "metadata": {
    "scrolled": false
   },
   "outputs": [
    {
     "name": "stdout",
     "output_type": "stream",
     "text": [
      "<class 'pandas.core.frame.DataFrame'>\n",
      "RangeIndex: 135640 entries, 0 to 135639\n",
      "Data columns (total 5 columns):\n",
      " #   Column          Non-Null Count   Dtype \n",
      "---  ------          --------------   ----- \n",
      " 0   event_datetime  135640 non-null  object\n",
      " 1   event           135640 non-null  object\n",
      " 2   building_type   127957 non-null  object\n",
      " 3   user_id         135640 non-null  object\n",
      " 4   project_type    1866 non-null    object\n",
      "dtypes: object(5)\n",
      "memory usage: 5.2+ MB\n"
     ]
    },
    {
     "data": {
      "text/plain": [
       "None"
      ]
     },
     "metadata": {},
     "output_type": "display_data"
    },
    {
     "data": {
      "text/html": [
       "<div>\n",
       "<style scoped>\n",
       "    .dataframe tbody tr th:only-of-type {\n",
       "        vertical-align: middle;\n",
       "    }\n",
       "\n",
       "    .dataframe tbody tr th {\n",
       "        vertical-align: top;\n",
       "    }\n",
       "\n",
       "    .dataframe thead th {\n",
       "        text-align: right;\n",
       "    }\n",
       "</style>\n",
       "<table border=\"1\" class=\"dataframe\">\n",
       "  <thead>\n",
       "    <tr style=\"text-align: right;\">\n",
       "      <th></th>\n",
       "      <th>event_datetime</th>\n",
       "      <th>event</th>\n",
       "      <th>building_type</th>\n",
       "      <th>user_id</th>\n",
       "      <th>project_type</th>\n",
       "    </tr>\n",
       "  </thead>\n",
       "  <tbody>\n",
       "    <tr>\n",
       "      <th>0</th>\n",
       "      <td>2020-05-04 00:00:01</td>\n",
       "      <td>building</td>\n",
       "      <td>assembly_shop</td>\n",
       "      <td>55e92310-cb8e-4754-b622-597e124b03de</td>\n",
       "      <td>NaN</td>\n",
       "    </tr>\n",
       "    <tr>\n",
       "      <th>1</th>\n",
       "      <td>2020-05-04 00:00:03</td>\n",
       "      <td>building</td>\n",
       "      <td>assembly_shop</td>\n",
       "      <td>c07b1c10-f477-44dc-81dc-ec82254b1347</td>\n",
       "      <td>NaN</td>\n",
       "    </tr>\n",
       "    <tr>\n",
       "      <th>2</th>\n",
       "      <td>2020-05-04 00:00:16</td>\n",
       "      <td>building</td>\n",
       "      <td>assembly_shop</td>\n",
       "      <td>6edd42cc-e753-4ff6-a947-2107cd560710</td>\n",
       "      <td>NaN</td>\n",
       "    </tr>\n",
       "    <tr>\n",
       "      <th>3</th>\n",
       "      <td>2020-05-04 00:00:16</td>\n",
       "      <td>building</td>\n",
       "      <td>assembly_shop</td>\n",
       "      <td>92c69003-d60a-444a-827f-8cc51bf6bf4c</td>\n",
       "      <td>NaN</td>\n",
       "    </tr>\n",
       "    <tr>\n",
       "      <th>4</th>\n",
       "      <td>2020-05-04 00:00:35</td>\n",
       "      <td>building</td>\n",
       "      <td>assembly_shop</td>\n",
       "      <td>cdc6bb92-0ccb-4490-9866-ef142f09139d</td>\n",
       "      <td>NaN</td>\n",
       "    </tr>\n",
       "    <tr>\n",
       "      <th>5</th>\n",
       "      <td>2020-05-04 00:00:36</td>\n",
       "      <td>building</td>\n",
       "      <td>assembly_shop</td>\n",
       "      <td>06c592ca-902d-42bb-bac3-75ce84cca159</td>\n",
       "      <td>NaN</td>\n",
       "    </tr>\n",
       "    <tr>\n",
       "      <th>6</th>\n",
       "      <td>2020-05-04 00:00:36</td>\n",
       "      <td>building</td>\n",
       "      <td>assembly_shop</td>\n",
       "      <td>4fe0f101-694b-4e31-9740-d1d87f7208ea</td>\n",
       "      <td>NaN</td>\n",
       "    </tr>\n",
       "    <tr>\n",
       "      <th>7</th>\n",
       "      <td>2020-05-04 00:00:38</td>\n",
       "      <td>building</td>\n",
       "      <td>assembly_shop</td>\n",
       "      <td>beb8ca15-33a9-465d-b47b-89aa96f89c9a</td>\n",
       "      <td>NaN</td>\n",
       "    </tr>\n",
       "    <tr>\n",
       "      <th>8</th>\n",
       "      <td>2020-05-04 00:00:44</td>\n",
       "      <td>building</td>\n",
       "      <td>assembly_shop</td>\n",
       "      <td>65a92713-5969-48b1-8945-bfefa5063887</td>\n",
       "      <td>NaN</td>\n",
       "    </tr>\n",
       "    <tr>\n",
       "      <th>9</th>\n",
       "      <td>2020-05-04 00:01:33</td>\n",
       "      <td>building</td>\n",
       "      <td>assembly_shop</td>\n",
       "      <td>fa352362-d258-472c-b295-2796ccc39fa3</td>\n",
       "      <td>NaN</td>\n",
       "    </tr>\n",
       "  </tbody>\n",
       "</table>\n",
       "</div>"
      ],
      "text/plain": [
       "        event_datetime     event  building_type  \\\n",
       "0  2020-05-04 00:00:01  building  assembly_shop   \n",
       "1  2020-05-04 00:00:03  building  assembly_shop   \n",
       "2  2020-05-04 00:00:16  building  assembly_shop   \n",
       "3  2020-05-04 00:00:16  building  assembly_shop   \n",
       "4  2020-05-04 00:00:35  building  assembly_shop   \n",
       "5  2020-05-04 00:00:36  building  assembly_shop   \n",
       "6  2020-05-04 00:00:36  building  assembly_shop   \n",
       "7  2020-05-04 00:00:38  building  assembly_shop   \n",
       "8  2020-05-04 00:00:44  building  assembly_shop   \n",
       "9  2020-05-04 00:01:33  building  assembly_shop   \n",
       "\n",
       "                                user_id project_type  \n",
       "0  55e92310-cb8e-4754-b622-597e124b03de          NaN  \n",
       "1  c07b1c10-f477-44dc-81dc-ec82254b1347          NaN  \n",
       "2  6edd42cc-e753-4ff6-a947-2107cd560710          NaN  \n",
       "3  92c69003-d60a-444a-827f-8cc51bf6bf4c          NaN  \n",
       "4  cdc6bb92-0ccb-4490-9866-ef142f09139d          NaN  \n",
       "5  06c592ca-902d-42bb-bac3-75ce84cca159          NaN  \n",
       "6  4fe0f101-694b-4e31-9740-d1d87f7208ea          NaN  \n",
       "7  beb8ca15-33a9-465d-b47b-89aa96f89c9a          NaN  \n",
       "8  65a92713-5969-48b1-8945-bfefa5063887          NaN  \n",
       "9  fa352362-d258-472c-b295-2796ccc39fa3          NaN  "
      ]
     },
     "metadata": {},
     "output_type": "display_data"
    },
    {
     "name": "stdout",
     "output_type": "stream",
     "text": [
      "Выявлено дубликатов: 1\n",
      "Выявлено пропусков:\n",
      "event_datetime     0.00\n",
      "event              0.00\n",
      "building_type      5.66\n",
      "user_id            0.00\n",
      "project_type      98.62\n",
      "dtype: float64\n"
     ]
    }
   ],
   "source": [
    "information(actions)"
   ]
  },
  {
   "cell_type": "markdown",
   "id": "0395b879",
   "metadata": {},
   "source": [
    "Выявлен один явный дубликат, мы от него избавимся. Столбец с временем события переведём в нужный формат.\n",
    "\n",
    "Присутствуют пропуски в колонке с типом постройки. Вероятно, это означает, что есть игроки, которые не стали ничего вообще строить. Много пропусков в колонке тип проекта. Предполагаю, это означает, что такое маленькое количество игроков дошли до этого проекта, раз он является условием перехода на новый уровень. "
   ]
  },
  {
   "cell_type": "code",
   "execution_count": 10,
   "id": "a6dadcb2",
   "metadata": {},
   "outputs": [],
   "source": [
    "actions = actions.drop_duplicates().reset_index(drop=True)"
   ]
  },
  {
   "cell_type": "code",
   "execution_count": 11,
   "id": "a087db69",
   "metadata": {},
   "outputs": [],
   "source": [
    "actions['event_datetime'] = pd.to_datetime(actions['event_datetime'], format='%Y-%m-%d')"
   ]
  },
  {
   "cell_type": "code",
   "execution_count": 12,
   "id": "251b4436",
   "metadata": {},
   "outputs": [
    {
     "name": "stdout",
     "output_type": "stream",
     "text": [
      "<class 'pandas.core.frame.DataFrame'>\n",
      "RangeIndex: 135639 entries, 0 to 135638\n",
      "Data columns (total 5 columns):\n",
      " #   Column          Non-Null Count   Dtype         \n",
      "---  ------          --------------   -----         \n",
      " 0   event_datetime  135639 non-null  datetime64[ns]\n",
      " 1   event           135639 non-null  object        \n",
      " 2   building_type   127956 non-null  object        \n",
      " 3   user_id         135639 non-null  object        \n",
      " 4   project_type    1866 non-null    object        \n",
      "dtypes: datetime64[ns](1), object(4)\n",
      "memory usage: 5.2+ MB\n"
     ]
    }
   ],
   "source": [
    "actions.info()"
   ]
  },
  {
   "cell_type": "markdown",
   "id": "ec36d627",
   "metadata": {},
   "source": [
    "Выделим наибольшую и наименьшую даты, собранные в датасете."
   ]
  },
  {
   "cell_type": "code",
   "execution_count": 13,
   "id": "9a2b98bb",
   "metadata": {},
   "outputs": [
    {
     "data": {
      "text/plain": [
       "Timestamp('2020-05-04 00:00:01')"
      ]
     },
     "execution_count": 13,
     "metadata": {},
     "output_type": "execute_result"
    }
   ],
   "source": [
    "actions['event_datetime'].min()"
   ]
  },
  {
   "cell_type": "code",
   "execution_count": 14,
   "id": "7397fd0b",
   "metadata": {},
   "outputs": [
    {
     "data": {
      "text/plain": [
       "Timestamp('2020-06-05 12:32:49')"
      ]
     },
     "execution_count": 14,
     "metadata": {},
     "output_type": "execute_result"
    }
   ],
   "source": [
    "actions['event_datetime'].max()"
   ]
  },
  {
   "cell_type": "markdown",
   "id": "1b48cd4c",
   "metadata": {},
   "source": [
    "В нашем распоряжении данные за период времени с 4 мая 2020 года по 5 июня 2020 года. \n",
    "Уберём из записи время и оставим только дату в отдельный столбец, чтобы удобнее было производить рассчёты."
   ]
  },
  {
   "cell_type": "code",
   "execution_count": 15,
   "id": "b398ae8d",
   "metadata": {},
   "outputs": [],
   "source": [
    "actions['date'] = pd.DatetimeIndex(actions['event_datetime']).date"
   ]
  },
  {
   "cell_type": "code",
   "execution_count": 16,
   "id": "3c52ce35",
   "metadata": {},
   "outputs": [
    {
     "data": {
      "text/html": [
       "<div>\n",
       "<style scoped>\n",
       "    .dataframe tbody tr th:only-of-type {\n",
       "        vertical-align: middle;\n",
       "    }\n",
       "\n",
       "    .dataframe tbody tr th {\n",
       "        vertical-align: top;\n",
       "    }\n",
       "\n",
       "    .dataframe thead th {\n",
       "        text-align: right;\n",
       "    }\n",
       "</style>\n",
       "<table border=\"1\" class=\"dataframe\">\n",
       "  <thead>\n",
       "    <tr style=\"text-align: right;\">\n",
       "      <th></th>\n",
       "      <th>event_datetime</th>\n",
       "      <th>event</th>\n",
       "      <th>building_type</th>\n",
       "      <th>user_id</th>\n",
       "      <th>project_type</th>\n",
       "      <th>date</th>\n",
       "    </tr>\n",
       "  </thead>\n",
       "  <tbody>\n",
       "    <tr>\n",
       "      <th>0</th>\n",
       "      <td>2020-05-04 00:00:01</td>\n",
       "      <td>building</td>\n",
       "      <td>assembly_shop</td>\n",
       "      <td>55e92310-cb8e-4754-b622-597e124b03de</td>\n",
       "      <td>NaN</td>\n",
       "      <td>2020-05-04</td>\n",
       "    </tr>\n",
       "    <tr>\n",
       "      <th>1</th>\n",
       "      <td>2020-05-04 00:00:03</td>\n",
       "      <td>building</td>\n",
       "      <td>assembly_shop</td>\n",
       "      <td>c07b1c10-f477-44dc-81dc-ec82254b1347</td>\n",
       "      <td>NaN</td>\n",
       "      <td>2020-05-04</td>\n",
       "    </tr>\n",
       "    <tr>\n",
       "      <th>2</th>\n",
       "      <td>2020-05-04 00:00:16</td>\n",
       "      <td>building</td>\n",
       "      <td>assembly_shop</td>\n",
       "      <td>6edd42cc-e753-4ff6-a947-2107cd560710</td>\n",
       "      <td>NaN</td>\n",
       "      <td>2020-05-04</td>\n",
       "    </tr>\n",
       "    <tr>\n",
       "      <th>3</th>\n",
       "      <td>2020-05-04 00:00:16</td>\n",
       "      <td>building</td>\n",
       "      <td>assembly_shop</td>\n",
       "      <td>92c69003-d60a-444a-827f-8cc51bf6bf4c</td>\n",
       "      <td>NaN</td>\n",
       "      <td>2020-05-04</td>\n",
       "    </tr>\n",
       "    <tr>\n",
       "      <th>4</th>\n",
       "      <td>2020-05-04 00:00:35</td>\n",
       "      <td>building</td>\n",
       "      <td>assembly_shop</td>\n",
       "      <td>cdc6bb92-0ccb-4490-9866-ef142f09139d</td>\n",
       "      <td>NaN</td>\n",
       "      <td>2020-05-04</td>\n",
       "    </tr>\n",
       "  </tbody>\n",
       "</table>\n",
       "</div>"
      ],
      "text/plain": [
       "       event_datetime     event  building_type  \\\n",
       "0 2020-05-04 00:00:01  building  assembly_shop   \n",
       "1 2020-05-04 00:00:03  building  assembly_shop   \n",
       "2 2020-05-04 00:00:16  building  assembly_shop   \n",
       "3 2020-05-04 00:00:16  building  assembly_shop   \n",
       "4 2020-05-04 00:00:35  building  assembly_shop   \n",
       "\n",
       "                                user_id project_type        date  \n",
       "0  55e92310-cb8e-4754-b622-597e124b03de          NaN  2020-05-04  \n",
       "1  c07b1c10-f477-44dc-81dc-ec82254b1347          NaN  2020-05-04  \n",
       "2  6edd42cc-e753-4ff6-a947-2107cd560710          NaN  2020-05-04  \n",
       "3  92c69003-d60a-444a-827f-8cc51bf6bf4c          NaN  2020-05-04  \n",
       "4  cdc6bb92-0ccb-4490-9866-ef142f09139d          NaN  2020-05-04  "
      ]
     },
     "execution_count": 16,
     "metadata": {},
     "output_type": "execute_result"
    }
   ],
   "source": [
    "actions.head()"
   ]
  },
  {
   "cell_type": "markdown",
   "id": "2cf46273",
   "metadata": {},
   "source": [
    "Посмотрим, у каких событий пропуски в колонке строящегося здания. "
   ]
  },
  {
   "cell_type": "code",
   "execution_count": 17,
   "id": "8f4a156f",
   "metadata": {
    "scrolled": false
   },
   "outputs": [
    {
     "data": {
      "text/html": [
       "<div>\n",
       "<style scoped>\n",
       "    .dataframe tbody tr th:only-of-type {\n",
       "        vertical-align: middle;\n",
       "    }\n",
       "\n",
       "    .dataframe tbody tr th {\n",
       "        vertical-align: top;\n",
       "    }\n",
       "\n",
       "    .dataframe thead th {\n",
       "        text-align: right;\n",
       "    }\n",
       "</style>\n",
       "<table border=\"1\" class=\"dataframe\">\n",
       "  <thead>\n",
       "    <tr style=\"text-align: right;\">\n",
       "      <th></th>\n",
       "      <th>event_datetime</th>\n",
       "      <th>event</th>\n",
       "      <th>building_type</th>\n",
       "      <th>user_id</th>\n",
       "      <th>project_type</th>\n",
       "      <th>date</th>\n",
       "    </tr>\n",
       "  </thead>\n",
       "  <tbody>\n",
       "    <tr>\n",
       "      <th>6659</th>\n",
       "      <td>2020-05-04 19:47:29</td>\n",
       "      <td>finished_stage_1</td>\n",
       "      <td>NaN</td>\n",
       "      <td>ced7b368-818f-48f6-9461-2346de0892c5</td>\n",
       "      <td>NaN</td>\n",
       "      <td>2020-05-04</td>\n",
       "    </tr>\n",
       "    <tr>\n",
       "      <th>13134</th>\n",
       "      <td>2020-05-05 13:22:09</td>\n",
       "      <td>finished_stage_1</td>\n",
       "      <td>NaN</td>\n",
       "      <td>7ef7fc89-2779-46ea-b328-9e5035b83af5</td>\n",
       "      <td>NaN</td>\n",
       "      <td>2020-05-05</td>\n",
       "    </tr>\n",
       "    <tr>\n",
       "      <th>15274</th>\n",
       "      <td>2020-05-05 18:54:37</td>\n",
       "      <td>finished_stage_1</td>\n",
       "      <td>NaN</td>\n",
       "      <td>70db22b3-c2f4-43bc-94ea-51c8d2904a29</td>\n",
       "      <td>NaN</td>\n",
       "      <td>2020-05-05</td>\n",
       "    </tr>\n",
       "    <tr>\n",
       "      <th>16284</th>\n",
       "      <td>2020-05-05 21:27:29</td>\n",
       "      <td>finished_stage_1</td>\n",
       "      <td>NaN</td>\n",
       "      <td>903fc9ef-ba97-4b12-9d5c-ac8d602fbd8b</td>\n",
       "      <td>NaN</td>\n",
       "      <td>2020-05-05</td>\n",
       "    </tr>\n",
       "    <tr>\n",
       "      <th>19650</th>\n",
       "      <td>2020-05-06 06:02:22</td>\n",
       "      <td>finished_stage_1</td>\n",
       "      <td>NaN</td>\n",
       "      <td>58e077ba-feb1-4556-a5a0-d96bd04efa39</td>\n",
       "      <td>NaN</td>\n",
       "      <td>2020-05-06</td>\n",
       "    </tr>\n",
       "    <tr>\n",
       "      <th>...</th>\n",
       "      <td>...</td>\n",
       "      <td>...</td>\n",
       "      <td>...</td>\n",
       "      <td>...</td>\n",
       "      <td>...</td>\n",
       "      <td>...</td>\n",
       "    </tr>\n",
       "    <tr>\n",
       "      <th>135631</th>\n",
       "      <td>2020-06-04 15:50:38</td>\n",
       "      <td>finished_stage_1</td>\n",
       "      <td>NaN</td>\n",
       "      <td>22cce310-fe10-41a2-941b-9c3d63327fea</td>\n",
       "      <td>NaN</td>\n",
       "      <td>2020-06-04</td>\n",
       "    </tr>\n",
       "    <tr>\n",
       "      <th>135632</th>\n",
       "      <td>2020-06-04 17:56:14</td>\n",
       "      <td>finished_stage_1</td>\n",
       "      <td>NaN</td>\n",
       "      <td>d477dde8-7c22-4f23-9c4f-4ec31a1aa4c8</td>\n",
       "      <td>NaN</td>\n",
       "      <td>2020-06-04</td>\n",
       "    </tr>\n",
       "    <tr>\n",
       "      <th>135635</th>\n",
       "      <td>2020-06-05 02:25:12</td>\n",
       "      <td>finished_stage_1</td>\n",
       "      <td>NaN</td>\n",
       "      <td>515c1952-99aa-4bca-a7ea-d0449eb5385a</td>\n",
       "      <td>NaN</td>\n",
       "      <td>2020-06-05</td>\n",
       "    </tr>\n",
       "    <tr>\n",
       "      <th>135637</th>\n",
       "      <td>2020-06-05 12:12:27</td>\n",
       "      <td>finished_stage_1</td>\n",
       "      <td>NaN</td>\n",
       "      <td>32572adb-900f-4b5d-a453-1eb1e6d88d8b</td>\n",
       "      <td>NaN</td>\n",
       "      <td>2020-06-05</td>\n",
       "    </tr>\n",
       "    <tr>\n",
       "      <th>135638</th>\n",
       "      <td>2020-06-05 12:32:49</td>\n",
       "      <td>finished_stage_1</td>\n",
       "      <td>NaN</td>\n",
       "      <td>f21d179f-1c4b-437e-b9c6-ab1976907195</td>\n",
       "      <td>NaN</td>\n",
       "      <td>2020-06-05</td>\n",
       "    </tr>\n",
       "  </tbody>\n",
       "</table>\n",
       "<p>7683 rows × 6 columns</p>\n",
       "</div>"
      ],
      "text/plain": [
       "            event_datetime             event building_type  \\\n",
       "6659   2020-05-04 19:47:29  finished_stage_1           NaN   \n",
       "13134  2020-05-05 13:22:09  finished_stage_1           NaN   \n",
       "15274  2020-05-05 18:54:37  finished_stage_1           NaN   \n",
       "16284  2020-05-05 21:27:29  finished_stage_1           NaN   \n",
       "19650  2020-05-06 06:02:22  finished_stage_1           NaN   \n",
       "...                    ...               ...           ...   \n",
       "135631 2020-06-04 15:50:38  finished_stage_1           NaN   \n",
       "135632 2020-06-04 17:56:14  finished_stage_1           NaN   \n",
       "135635 2020-06-05 02:25:12  finished_stage_1           NaN   \n",
       "135637 2020-06-05 12:12:27  finished_stage_1           NaN   \n",
       "135638 2020-06-05 12:32:49  finished_stage_1           NaN   \n",
       "\n",
       "                                     user_id project_type        date  \n",
       "6659    ced7b368-818f-48f6-9461-2346de0892c5          NaN  2020-05-04  \n",
       "13134   7ef7fc89-2779-46ea-b328-9e5035b83af5          NaN  2020-05-05  \n",
       "15274   70db22b3-c2f4-43bc-94ea-51c8d2904a29          NaN  2020-05-05  \n",
       "16284   903fc9ef-ba97-4b12-9d5c-ac8d602fbd8b          NaN  2020-05-05  \n",
       "19650   58e077ba-feb1-4556-a5a0-d96bd04efa39          NaN  2020-05-06  \n",
       "...                                      ...          ...         ...  \n",
       "135631  22cce310-fe10-41a2-941b-9c3d63327fea          NaN  2020-06-04  \n",
       "135632  d477dde8-7c22-4f23-9c4f-4ec31a1aa4c8          NaN  2020-06-04  \n",
       "135635  515c1952-99aa-4bca-a7ea-d0449eb5385a          NaN  2020-06-05  \n",
       "135637  32572adb-900f-4b5d-a453-1eb1e6d88d8b          NaN  2020-06-05  \n",
       "135638  f21d179f-1c4b-437e-b9c6-ab1976907195          NaN  2020-06-05  \n",
       "\n",
       "[7683 rows x 6 columns]"
      ]
     },
     "execution_count": 17,
     "metadata": {},
     "output_type": "execute_result"
    }
   ],
   "source": [
    "a = actions.query('building_type.isna()')\n",
    "a"
   ]
  },
  {
   "cell_type": "code",
   "execution_count": 18,
   "id": "bf88bf78",
   "metadata": {},
   "outputs": [
    {
     "data": {
      "text/plain": [
       "finished_stage_1    5817\n",
       "project             1866\n",
       "Name: event, dtype: int64"
      ]
     },
     "execution_count": 18,
     "metadata": {},
     "output_type": "execute_result"
    }
   ],
   "source": [
    "a['event'].value_counts()"
   ]
  },
  {
   "cell_type": "markdown",
   "id": "415a397e",
   "metadata": {},
   "source": [
    "Понятно. Эти пропуски связаны с тем, что игрок уже всё простроил и дошёл до конца уровня, либо находится на стадии выполнения проекта, то есть тоже уже всё построил. Идём дальше. Посмотрим, какие различные значения предлагаются в наших данных."
   ]
  },
  {
   "cell_type": "code",
   "execution_count": 19,
   "id": "989cae85",
   "metadata": {
    "scrolled": true
   },
   "outputs": [
    {
     "data": {
      "text/plain": [
       "spaceport          59325\n",
       "assembly_shop      54494\n",
       "research_center    14137\n",
       "Name: building_type, dtype: int64"
      ]
     },
     "execution_count": 19,
     "metadata": {},
     "output_type": "execute_result"
    }
   ],
   "source": [
    "actions['building_type'].value_counts()"
   ]
  },
  {
   "cell_type": "markdown",
   "id": "480762c4",
   "metadata": {},
   "source": [
    "Всего три типа здания, которые может построить игрок на первом уровне."
   ]
  },
  {
   "cell_type": "code",
   "execution_count": 20,
   "id": "a37c94ff",
   "metadata": {
    "scrolled": true
   },
   "outputs": [
    {
     "data": {
      "text/plain": [
       "building            127956\n",
       "finished_stage_1      5817\n",
       "project               1866\n",
       "Name: event, dtype: int64"
      ]
     },
     "execution_count": 20,
     "metadata": {},
     "output_type": "execute_result"
    }
   ],
   "source": [
    "actions['event'].value_counts()"
   ]
  },
  {
   "cell_type": "markdown",
   "id": "4bbc08a8",
   "metadata": {},
   "source": [
    "Игрок наш может находиться в трёх состояниях: строительство, проект или финиш. Где-то там ещё должны находиться сведения об игроках, которые дошли до конца уровня через ПВП. Это будут те игроки, которые выполнили все действия и дошли до финальной стадии, но которые не выполняли проект. "
   ]
  },
  {
   "cell_type": "code",
   "execution_count": 21,
   "id": "ea7a2393",
   "metadata": {
    "scrolled": true
   },
   "outputs": [
    {
     "data": {
      "text/plain": [
       "satellite_orbital_assembly    1866\n",
       "Name: project_type, dtype: int64"
      ]
     },
     "execution_count": 21,
     "metadata": {},
     "output_type": "execute_result"
    }
   ],
   "source": [
    "actions['project_type'].value_counts()"
   ]
  },
  {
   "cell_type": "markdown",
   "id": "0be2757e",
   "metadata": {},
   "source": [
    "Проект на первом уровне у игроков всего один."
   ]
  },
  {
   "cell_type": "code",
   "execution_count": 22,
   "id": "0a8711ef",
   "metadata": {
    "scrolled": true
   },
   "outputs": [
    {
     "data": {
      "text/plain": [
       "2020-05-10    15207\n",
       "2020-05-09    13129\n",
       "2020-05-08    12059\n",
       "2020-05-07    10858\n",
       "2020-05-06     9925\n",
       "2020-05-05     9055\n",
       "2020-05-11     8185\n",
       "2020-05-04     8171\n",
       "2020-05-12     7918\n",
       "2020-05-13     7624\n",
       "2020-05-14     6830\n",
       "2020-05-15     5952\n",
       "2020-05-16     5099\n",
       "2020-05-17     3955\n",
       "2020-05-18     2847\n",
       "2020-05-19     2319\n",
       "2020-05-20     1837\n",
       "2020-05-21     1370\n",
       "2020-05-22      946\n",
       "2020-05-23      707\n",
       "2020-05-24      491\n",
       "2020-05-25      382\n",
       "2020-05-26      262\n",
       "2020-05-27      180\n",
       "2020-05-28      118\n",
       "2020-05-29       79\n",
       "2020-05-30       44\n",
       "2020-05-31       29\n",
       "2020-06-01       20\n",
       "2020-06-02       15\n",
       "2020-06-03       11\n",
       "2020-06-04       10\n",
       "2020-06-05        5\n",
       "Name: date, dtype: int64"
      ]
     },
     "execution_count": 22,
     "metadata": {},
     "output_type": "execute_result"
    }
   ],
   "source": [
    "actions['date'].value_counts()"
   ]
  },
  {
   "cell_type": "markdown",
   "id": "b1f31664",
   "metadata": {},
   "source": [
    "С 4 мая виден резкий рост количества событий, кооторые совершали игроки. Предполагаю, это связано с запуском рекламы. Пик игровой активности пришёлся на 10 мая, а потом активность пошла на спад. Каждый день с 11 мая количество активностей уменьшается."
   ]
  },
  {
   "cell_type": "code",
   "execution_count": 23,
   "id": "ba0f5805",
   "metadata": {},
   "outputs": [
    {
     "data": {
      "text/plain": [
       "ff841992-d93b-462e-bc6e-18c24a514f36    22\n",
       "d6aca06a-cd75-4cd8-b8cd-240a3c163884    22\n",
       "bf542075-e3a2-4e79-82d8-3838e86d2a25    22\n",
       "296c14d6-34a8-4cc9-8b87-80c089e3ebdb    21\n",
       "c133dd1d-c5d0-48e8-aaf7-f654be5b9b56    21\n",
       "                                        ..\n",
       "bffb446d-dd9b-401a-b84f-73f5e1b38234     1\n",
       "8a0c43d1-e44e-4799-845a-d4b61d00c0c7     1\n",
       "f0841197-ade8-4cf4-ab47-e59e1a32d6b7     1\n",
       "1cd22d84-9a82-402a-86ee-185e76eb7a6d     1\n",
       "fcefbdaa-5f8b-49a6-91f3-8c09e0a94a5d     1\n",
       "Name: user_id, Length: 13576, dtype: int64"
      ]
     },
     "execution_count": 23,
     "metadata": {},
     "output_type": "execute_result"
    }
   ],
   "source": [
    "actions['user_id'].value_counts()"
   ]
  },
  {
   "cell_type": "markdown",
   "id": "1570f33a",
   "metadata": {},
   "source": [
    "В нашем распоряжении записи о действиях 13.5 тысяч пользователей."
   ]
  },
  {
   "cell_type": "markdown",
   "id": "7b6f73ae",
   "metadata": {},
   "source": [
    "### Датасет с информацией о пользователях"
   ]
  },
  {
   "cell_type": "markdown",
   "id": "c2d283fc",
   "metadata": {},
   "source": [
    "Посмотрим, откуда пришёл каждый из наших игроков."
   ]
  },
  {
   "cell_type": "code",
   "execution_count": 24,
   "id": "28051f31",
   "metadata": {
    "scrolled": false
   },
   "outputs": [
    {
     "name": "stdout",
     "output_type": "stream",
     "text": [
      "<class 'pandas.core.frame.DataFrame'>\n",
      "RangeIndex: 13576 entries, 0 to 13575\n",
      "Data columns (total 2 columns):\n",
      " #   Column   Non-Null Count  Dtype \n",
      "---  ------   --------------  ----- \n",
      " 0   user_id  13576 non-null  object\n",
      " 1   source   13576 non-null  object\n",
      "dtypes: object(2)\n",
      "memory usage: 212.2+ KB\n"
     ]
    },
    {
     "data": {
      "text/plain": [
       "None"
      ]
     },
     "metadata": {},
     "output_type": "display_data"
    },
    {
     "data": {
      "text/html": [
       "<div>\n",
       "<style scoped>\n",
       "    .dataframe tbody tr th:only-of-type {\n",
       "        vertical-align: middle;\n",
       "    }\n",
       "\n",
       "    .dataframe tbody tr th {\n",
       "        vertical-align: top;\n",
       "    }\n",
       "\n",
       "    .dataframe thead th {\n",
       "        text-align: right;\n",
       "    }\n",
       "</style>\n",
       "<table border=\"1\" class=\"dataframe\">\n",
       "  <thead>\n",
       "    <tr style=\"text-align: right;\">\n",
       "      <th></th>\n",
       "      <th>user_id</th>\n",
       "      <th>source</th>\n",
       "    </tr>\n",
       "  </thead>\n",
       "  <tbody>\n",
       "    <tr>\n",
       "      <th>0</th>\n",
       "      <td>0001f83c-c6ac-4621-b7f0-8a28b283ac30</td>\n",
       "      <td>facebook_ads</td>\n",
       "    </tr>\n",
       "    <tr>\n",
       "      <th>1</th>\n",
       "      <td>00151b4f-ba38-44a8-a650-d7cf130a0105</td>\n",
       "      <td>yandex_direct</td>\n",
       "    </tr>\n",
       "    <tr>\n",
       "      <th>2</th>\n",
       "      <td>001aaea6-3d14-43f1-8ca8-7f48820f17aa</td>\n",
       "      <td>youtube_channel_reklama</td>\n",
       "    </tr>\n",
       "    <tr>\n",
       "      <th>3</th>\n",
       "      <td>001d39dc-366c-4021-9604-6a3b9ff01e25</td>\n",
       "      <td>instagram_new_adverts</td>\n",
       "    </tr>\n",
       "    <tr>\n",
       "      <th>4</th>\n",
       "      <td>002f508f-67b6-479f-814b-b05f00d4e995</td>\n",
       "      <td>facebook_ads</td>\n",
       "    </tr>\n",
       "    <tr>\n",
       "      <th>5</th>\n",
       "      <td>003b80c6-4164-4157-bb2a-03d0181d39c4</td>\n",
       "      <td>yandex_direct</td>\n",
       "    </tr>\n",
       "    <tr>\n",
       "      <th>6</th>\n",
       "      <td>003ee7e8-6356-4286-a715-62f22a18d2a1</td>\n",
       "      <td>instagram_new_adverts</td>\n",
       "    </tr>\n",
       "    <tr>\n",
       "      <th>7</th>\n",
       "      <td>004074f8-251a-4776-922c-8348dca1a2f6</td>\n",
       "      <td>facebook_ads</td>\n",
       "    </tr>\n",
       "    <tr>\n",
       "      <th>8</th>\n",
       "      <td>00440efd-aa50-4b4b-aae8-ffcd1782729d</td>\n",
       "      <td>facebook_ads</td>\n",
       "    </tr>\n",
       "    <tr>\n",
       "      <th>9</th>\n",
       "      <td>00464e5e-28ed-4be6-bf44-517ef7b3937b</td>\n",
       "      <td>yandex_direct</td>\n",
       "    </tr>\n",
       "  </tbody>\n",
       "</table>\n",
       "</div>"
      ],
      "text/plain": [
       "                                user_id                   source\n",
       "0  0001f83c-c6ac-4621-b7f0-8a28b283ac30             facebook_ads\n",
       "1  00151b4f-ba38-44a8-a650-d7cf130a0105            yandex_direct\n",
       "2  001aaea6-3d14-43f1-8ca8-7f48820f17aa  youtube_channel_reklama\n",
       "3  001d39dc-366c-4021-9604-6a3b9ff01e25    instagram_new_adverts\n",
       "4  002f508f-67b6-479f-814b-b05f00d4e995             facebook_ads\n",
       "5  003b80c6-4164-4157-bb2a-03d0181d39c4            yandex_direct\n",
       "6  003ee7e8-6356-4286-a715-62f22a18d2a1    instagram_new_adverts\n",
       "7  004074f8-251a-4776-922c-8348dca1a2f6             facebook_ads\n",
       "8  00440efd-aa50-4b4b-aae8-ffcd1782729d             facebook_ads\n",
       "9  00464e5e-28ed-4be6-bf44-517ef7b3937b            yandex_direct"
      ]
     },
     "metadata": {},
     "output_type": "display_data"
    },
    {
     "name": "stdout",
     "output_type": "stream",
     "text": [
      "Выявлено дубликатов: 0\n",
      "Выявлено пропусков:\n",
      "user_id    0.0\n",
      "source     0.0\n",
      "dtype: float64\n"
     ]
    }
   ],
   "source": [
    "information(users)"
   ]
  },
  {
   "cell_type": "code",
   "execution_count": 25,
   "id": "7d7366e3",
   "metadata": {
    "scrolled": true
   },
   "outputs": [
    {
     "data": {
      "text/plain": [
       "yandex_direct              4817\n",
       "instagram_new_adverts      3347\n",
       "facebook_ads               2726\n",
       "youtube_channel_reklama    2686\n",
       "Name: source, dtype: int64"
      ]
     },
     "execution_count": 25,
     "metadata": {},
     "output_type": "execute_result"
    },
    {
     "data": {
      "image/png": "[encoded data removed]",
      "text/plain": [
       "<Figure size 432x288 with 1 Axes>"
      ]
     },
     "metadata": {},
     "output_type": "display_data"
    }
   ],
   "source": [
    "users['source'].value_counts().plot(kind='pie', autopct='%1.f%%')\n",
    "users['source'].value_counts()"
   ]
  },
  {
   "cell_type": "markdown",
   "id": "f4732d76",
   "metadata": {},
   "source": [
    "Больше всего игроков пришло с Я.директа, меньше всего пришло с ютуба."
   ]
  },
  {
   "cell_type": "markdown",
   "id": "fab3cfb7",
   "metadata": {},
   "source": [
    "### Вывод\n",
    "\n",
    "Данные к дальнешему исследованию подготовлены, столбцы приведены к нужным типам."
   ]
  },
  {
   "cell_type": "markdown",
   "id": "9441d005",
   "metadata": {},
   "source": [
    "<div class=\"alert alert-success\">\n",
    "<b> 🤌  Комментарий тимлида </b>  \n",
    "    \n",
    "Очень добротно сверстанные разделы с введением и предобработкой. Не забыла ни об одном важном этапе первичного знакомства и подготовки данных 👍\n",
    "    \n",
    "</div>"
   ]
  },
  {
   "cell_type": "markdown",
   "id": "6747e222",
   "metadata": {},
   "source": [
    "## Исследовательский анализ данных"
   ]
  },
  {
   "cell_type": "markdown",
   "id": "122f8fc4",
   "metadata": {},
   "source": [
    "### Затраты на рекламу\n",
    "\n",
    "Посмотрим, сколько всего за рассматриваемый период было потрачено денег на рекламу, сколько - в каждый из дней, и какой источник оплачивали больше всего."
   ]
  },
  {
   "cell_type": "code",
   "execution_count": 26,
   "id": "6209f999",
   "metadata": {},
   "outputs": [
    {
     "data": {
      "text/plain": [
       "7603.576986788023"
      ]
     },
     "execution_count": 26,
     "metadata": {},
     "output_type": "execute_result"
    }
   ],
   "source": [
    "total_ads_cost = ads['cost'].sum()\n",
    "total_ads_cost"
   ]
  },
  {
   "cell_type": "code",
   "execution_count": 27,
   "id": "3b921515",
   "metadata": {},
   "outputs": [
    {
     "data": {
      "text/html": [
       "<div>\n",
       "<style scoped>\n",
       "    .dataframe tbody tr th:only-of-type {\n",
       "        vertical-align: middle;\n",
       "    }\n",
       "\n",
       "    .dataframe tbody tr th {\n",
       "        vertical-align: top;\n",
       "    }\n",
       "\n",
       "    .dataframe thead th {\n",
       "        text-align: right;\n",
       "    }\n",
       "</style>\n",
       "<table border=\"1\" class=\"dataframe\">\n",
       "  <thead>\n",
       "    <tr style=\"text-align: right;\">\n",
       "      <th></th>\n",
       "      <th>cost</th>\n",
       "    </tr>\n",
       "    <tr>\n",
       "      <th>source</th>\n",
       "      <th></th>\n",
       "    </tr>\n",
       "  </thead>\n",
       "  <tbody>\n",
       "    <tr>\n",
       "      <th>facebook_ads</th>\n",
       "      <td>2140.904643</td>\n",
       "    </tr>\n",
       "    <tr>\n",
       "      <th>instagram_new_adverts</th>\n",
       "      <td>2161.441691</td>\n",
       "    </tr>\n",
       "    <tr>\n",
       "      <th>yandex_direct</th>\n",
       "      <td>2233.111449</td>\n",
       "    </tr>\n",
       "    <tr>\n",
       "      <th>youtube_channel_reklama</th>\n",
       "      <td>1068.119204</td>\n",
       "    </tr>\n",
       "  </tbody>\n",
       "</table>\n",
       "</div>"
      ],
      "text/plain": [
       "                                cost\n",
       "source                              \n",
       "facebook_ads             2140.904643\n",
       "instagram_new_adverts    2161.441691\n",
       "yandex_direct            2233.111449\n",
       "youtube_channel_reklama  1068.119204"
      ]
     },
     "execution_count": 27,
     "metadata": {},
     "output_type": "execute_result"
    }
   ],
   "source": [
    "ads.groupby('source').sum()"
   ]
  },
  {
   "cell_type": "code",
   "execution_count": 28,
   "id": "51476e00",
   "metadata": {},
   "outputs": [
    {
     "data": {
      "text/html": [
       "<div>\n",
       "<style scoped>\n",
       "    .dataframe tbody tr th:only-of-type {\n",
       "        vertical-align: middle;\n",
       "    }\n",
       "\n",
       "    .dataframe tbody tr th {\n",
       "        vertical-align: top;\n",
       "    }\n",
       "\n",
       "    .dataframe thead th {\n",
       "        text-align: right;\n",
       "    }\n",
       "</style>\n",
       "<table border=\"1\" class=\"dataframe\">\n",
       "  <thead>\n",
       "    <tr style=\"text-align: right;\">\n",
       "      <th></th>\n",
       "      <th>cost</th>\n",
       "    </tr>\n",
       "    <tr>\n",
       "      <th>day</th>\n",
       "      <th></th>\n",
       "    </tr>\n",
       "  </thead>\n",
       "  <tbody>\n",
       "    <tr>\n",
       "      <th>2020-05-03</th>\n",
       "      <td>3302.451840</td>\n",
       "    </tr>\n",
       "    <tr>\n",
       "      <th>2020-05-04</th>\n",
       "      <td>1865.004649</td>\n",
       "    </tr>\n",
       "    <tr>\n",
       "      <th>2020-05-05</th>\n",
       "      <td>1029.431469</td>\n",
       "    </tr>\n",
       "    <tr>\n",
       "      <th>2020-05-06</th>\n",
       "      <td>620.476519</td>\n",
       "    </tr>\n",
       "    <tr>\n",
       "      <th>2020-05-07</th>\n",
       "      <td>391.852033</td>\n",
       "    </tr>\n",
       "    <tr>\n",
       "      <th>2020-05-08</th>\n",
       "      <td>242.767553</td>\n",
       "    </tr>\n",
       "    <tr>\n",
       "      <th>2020-05-09</th>\n",
       "      <td>151.592924</td>\n",
       "    </tr>\n",
       "  </tbody>\n",
       "</table>\n",
       "</div>"
      ],
      "text/plain": [
       "                   cost\n",
       "day                    \n",
       "2020-05-03  3302.451840\n",
       "2020-05-04  1865.004649\n",
       "2020-05-05  1029.431469\n",
       "2020-05-06   620.476519\n",
       "2020-05-07   391.852033\n",
       "2020-05-08   242.767553\n",
       "2020-05-09   151.592924"
      ]
     },
     "execution_count": 28,
     "metadata": {},
     "output_type": "execute_result"
    }
   ],
   "source": [
    "ads.groupby('day').sum()"
   ]
  },
  {
   "cell_type": "markdown",
   "id": "8c827769",
   "metadata": {},
   "source": [
    "Всего у нас четыре платных источника привлечения пользователей: Яндекс директ, инстаграм, фейсбук и реклама на ютубе. Данные представлены за семь дней: с 3 мая 2020 по 9 мая 2020. За этот период на рекламу потрачено 7604 у.е. Меньше всего денег потрачено на ютуб, на остальные три источника - примерно одинаковые суммы. Самое большое вливание денег произошло 3 мая, и каждый последующий день затраты на рекламу снижались почти в два раза."
   ]
  },
  {
   "cell_type": "markdown",
   "id": "8ea94b5a",
   "metadata": {},
   "source": [
    "<div class=\"alert alert-danger\">\n",
    "<b> 👨‍🚒  Комментарий тимлида</b> \n",
    "    \n",
    "Мы платим не в рублях. Пусть будут условные единицы :)\n",
    "</div>"
   ]
  },
  {
   "cell_type": "markdown",
   "id": "d4c7d523",
   "metadata": {},
   "source": [
    "<div class=\"alert alert-info\">\n",
    "<b>🧑‍🎓 Комментарий джуна </b> Поправила  👌\n",
    "</div> "
   ]
  },
  {
   "cell_type": "markdown",
   "id": "2c30f559",
   "metadata": {},
   "source": [
    "<div class=\"alert alert-success\">\n",
    "<b> 🤌  Комментарий тимлида (v.2)</b>  \n",
    "    \n",
    "👍\n",
    "    \n",
    "</div>"
   ]
  },
  {
   "cell_type": "markdown",
   "id": "4652016b",
   "metadata": {},
   "source": [
    "### Процент пользователей, перешедших на следующий уровень"
   ]
  },
  {
   "cell_type": "markdown",
   "id": "f9b64231",
   "metadata": {},
   "source": [
    "Выделим количество пользователей, которые выполняли проект."
   ]
  },
  {
   "cell_type": "code",
   "execution_count": 29,
   "id": "3a54abfc",
   "metadata": {
    "scrolled": true
   },
   "outputs": [
    {
     "data": {
      "text/html": [
       "<div>\n",
       "<style scoped>\n",
       "    .dataframe tbody tr th:only-of-type {\n",
       "        vertical-align: middle;\n",
       "    }\n",
       "\n",
       "    .dataframe tbody tr th {\n",
       "        vertical-align: top;\n",
       "    }\n",
       "\n",
       "    .dataframe thead th {\n",
       "        text-align: right;\n",
       "    }\n",
       "</style>\n",
       "<table border=\"1\" class=\"dataframe\">\n",
       "  <thead>\n",
       "    <tr style=\"text-align: right;\">\n",
       "      <th></th>\n",
       "      <th>event_datetime</th>\n",
       "      <th>event</th>\n",
       "      <th>building_type</th>\n",
       "      <th>user_id</th>\n",
       "      <th>project_type</th>\n",
       "      <th>date</th>\n",
       "    </tr>\n",
       "  </thead>\n",
       "  <tbody>\n",
       "    <tr>\n",
       "      <th>47121</th>\n",
       "      <td>2020-05-08 18:10:25</td>\n",
       "      <td>project</td>\n",
       "      <td>NaN</td>\n",
       "      <td>e3c66498-9d45-4000-9392-f81e6796e7da</td>\n",
       "      <td>satellite_orbital_assembly</td>\n",
       "      <td>2020-05-08</td>\n",
       "    </tr>\n",
       "    <tr>\n",
       "      <th>57398</th>\n",
       "      <td>2020-05-09 13:49:11</td>\n",
       "      <td>project</td>\n",
       "      <td>NaN</td>\n",
       "      <td>936e7af6-8338-4703-a1df-fc6c3f5b8e34</td>\n",
       "      <td>satellite_orbital_assembly</td>\n",
       "      <td>2020-05-09</td>\n",
       "    </tr>\n",
       "    <tr>\n",
       "      <th>58797</th>\n",
       "      <td>2020-05-09 16:19:33</td>\n",
       "      <td>project</td>\n",
       "      <td>NaN</td>\n",
       "      <td>a4491c86-c498-4f74-a56e-65c136d0e9a1</td>\n",
       "      <td>satellite_orbital_assembly</td>\n",
       "      <td>2020-05-09</td>\n",
       "    </tr>\n",
       "    <tr>\n",
       "      <th>61174</th>\n",
       "      <td>2020-05-09 20:29:01</td>\n",
       "      <td>project</td>\n",
       "      <td>NaN</td>\n",
       "      <td>85d9e675-562b-4329-8bbd-14d3b39096be</td>\n",
       "      <td>satellite_orbital_assembly</td>\n",
       "      <td>2020-05-09</td>\n",
       "    </tr>\n",
       "    <tr>\n",
       "      <th>63770</th>\n",
       "      <td>2020-05-10 00:57:47</td>\n",
       "      <td>project</td>\n",
       "      <td>NaN</td>\n",
       "      <td>1889ca71-3c57-4e61-9ea6-a711971bbf0a</td>\n",
       "      <td>satellite_orbital_assembly</td>\n",
       "      <td>2020-05-10</td>\n",
       "    </tr>\n",
       "    <tr>\n",
       "      <th>...</th>\n",
       "      <td>...</td>\n",
       "      <td>...</td>\n",
       "      <td>...</td>\n",
       "      <td>...</td>\n",
       "      <td>...</td>\n",
       "      <td>...</td>\n",
       "    </tr>\n",
       "    <tr>\n",
       "      <th>135601</th>\n",
       "      <td>2020-06-02 03:04:42</td>\n",
       "      <td>project</td>\n",
       "      <td>NaN</td>\n",
       "      <td>9d98001c-7e14-40d7-896e-46b3047365fd</td>\n",
       "      <td>satellite_orbital_assembly</td>\n",
       "      <td>2020-06-02</td>\n",
       "    </tr>\n",
       "    <tr>\n",
       "      <th>135602</th>\n",
       "      <td>2020-06-02 06:21:03</td>\n",
       "      <td>project</td>\n",
       "      <td>NaN</td>\n",
       "      <td>df4a1e13-eba9-4928-a7cf-ee303d6f80f9</td>\n",
       "      <td>satellite_orbital_assembly</td>\n",
       "      <td>2020-06-02</td>\n",
       "    </tr>\n",
       "    <tr>\n",
       "      <th>135608</th>\n",
       "      <td>2020-06-02 17:17:28</td>\n",
       "      <td>project</td>\n",
       "      <td>NaN</td>\n",
       "      <td>82e46f34-e243-4728-8e20-2e171fc33ea4</td>\n",
       "      <td>satellite_orbital_assembly</td>\n",
       "      <td>2020-06-02</td>\n",
       "    </tr>\n",
       "    <tr>\n",
       "      <th>135616</th>\n",
       "      <td>2020-06-03 09:46:04</td>\n",
       "      <td>project</td>\n",
       "      <td>NaN</td>\n",
       "      <td>fe032991-71e0-48c5-889f-4c3805ba4c9b</td>\n",
       "      <td>satellite_orbital_assembly</td>\n",
       "      <td>2020-06-03</td>\n",
       "    </tr>\n",
       "    <tr>\n",
       "      <th>135629</th>\n",
       "      <td>2020-06-04 08:29:42</td>\n",
       "      <td>project</td>\n",
       "      <td>NaN</td>\n",
       "      <td>d477dde8-7c22-4f23-9c4f-4ec31a1aa4c8</td>\n",
       "      <td>satellite_orbital_assembly</td>\n",
       "      <td>2020-06-04</td>\n",
       "    </tr>\n",
       "  </tbody>\n",
       "</table>\n",
       "<p>1866 rows × 6 columns</p>\n",
       "</div>"
      ],
      "text/plain": [
       "            event_datetime    event building_type  \\\n",
       "47121  2020-05-08 18:10:25  project           NaN   \n",
       "57398  2020-05-09 13:49:11  project           NaN   \n",
       "58797  2020-05-09 16:19:33  project           NaN   \n",
       "61174  2020-05-09 20:29:01  project           NaN   \n",
       "63770  2020-05-10 00:57:47  project           NaN   \n",
       "...                    ...      ...           ...   \n",
       "135601 2020-06-02 03:04:42  project           NaN   \n",
       "135602 2020-06-02 06:21:03  project           NaN   \n",
       "135608 2020-06-02 17:17:28  project           NaN   \n",
       "135616 2020-06-03 09:46:04  project           NaN   \n",
       "135629 2020-06-04 08:29:42  project           NaN   \n",
       "\n",
       "                                     user_id                project_type  \\\n",
       "47121   e3c66498-9d45-4000-9392-f81e6796e7da  satellite_orbital_assembly   \n",
       "57398   936e7af6-8338-4703-a1df-fc6c3f5b8e34  satellite_orbital_assembly   \n",
       "58797   a4491c86-c498-4f74-a56e-65c136d0e9a1  satellite_orbital_assembly   \n",
       "61174   85d9e675-562b-4329-8bbd-14d3b39096be  satellite_orbital_assembly   \n",
       "63770   1889ca71-3c57-4e61-9ea6-a711971bbf0a  satellite_orbital_assembly   \n",
       "...                                      ...                         ...   \n",
       "135601  9d98001c-7e14-40d7-896e-46b3047365fd  satellite_orbital_assembly   \n",
       "135602  df4a1e13-eba9-4928-a7cf-ee303d6f80f9  satellite_orbital_assembly   \n",
       "135608  82e46f34-e243-4728-8e20-2e171fc33ea4  satellite_orbital_assembly   \n",
       "135616  fe032991-71e0-48c5-889f-4c3805ba4c9b  satellite_orbital_assembly   \n",
       "135629  d477dde8-7c22-4f23-9c4f-4ec31a1aa4c8  satellite_orbital_assembly   \n",
       "\n",
       "              date  \n",
       "47121   2020-05-08  \n",
       "57398   2020-05-09  \n",
       "58797   2020-05-09  \n",
       "61174   2020-05-09  \n",
       "63770   2020-05-10  \n",
       "...            ...  \n",
       "135601  2020-06-02  \n",
       "135602  2020-06-02  \n",
       "135608  2020-06-02  \n",
       "135616  2020-06-03  \n",
       "135629  2020-06-04  \n",
       "\n",
       "[1866 rows x 6 columns]"
      ]
     },
     "execution_count": 29,
     "metadata": {},
     "output_type": "execute_result"
    }
   ],
   "source": [
    "actions.query('event == \"project\"')"
   ]
  },
  {
   "cell_type": "code",
   "execution_count": 30,
   "id": "a7bd7103",
   "metadata": {
    "scrolled": true
   },
   "outputs": [
    {
     "data": {
      "text/plain": [
       "1866"
      ]
     },
     "execution_count": 30,
     "metadata": {},
     "output_type": "execute_result"
    }
   ],
   "source": [
    "actions.query('event == \"project\"').groupby('user_id')['user_id'].nunique().count()"
   ]
  },
  {
   "cell_type": "markdown",
   "id": "c5c77172",
   "metadata": {},
   "source": [
    "Посчитаем процент от общего количества пользователей."
   ]
  },
  {
   "cell_type": "code",
   "execution_count": 31,
   "id": "64e61aa3",
   "metadata": {
    "scrolled": true
   },
   "outputs": [
    {
     "data": {
      "text/plain": [
       "13.744843842074248"
      ]
     },
     "execution_count": 31,
     "metadata": {},
     "output_type": "execute_result"
    }
   ],
   "source": [
    "actions.query('event == \"project\"').groupby('user_id')['user_id'].nunique().count() / (\n",
    "    actions.groupby('user_id')['user_id'].nunique().count() \n",
    ") * 100"
   ]
  },
  {
   "cell_type": "markdown",
   "id": "18622f08",
   "metadata": {},
   "source": [
    "Выделим пользователей, дошедших до следующего уровня."
   ]
  },
  {
   "cell_type": "code",
   "execution_count": 32,
   "id": "0211cecf",
   "metadata": {
    "scrolled": true
   },
   "outputs": [
    {
     "data": {
      "text/html": [
       "<div>\n",
       "<style scoped>\n",
       "    .dataframe tbody tr th:only-of-type {\n",
       "        vertical-align: middle;\n",
       "    }\n",
       "\n",
       "    .dataframe tbody tr th {\n",
       "        vertical-align: top;\n",
       "    }\n",
       "\n",
       "    .dataframe thead th {\n",
       "        text-align: right;\n",
       "    }\n",
       "</style>\n",
       "<table border=\"1\" class=\"dataframe\">\n",
       "  <thead>\n",
       "    <tr style=\"text-align: right;\">\n",
       "      <th></th>\n",
       "      <th>event_datetime</th>\n",
       "      <th>event</th>\n",
       "      <th>building_type</th>\n",
       "      <th>user_id</th>\n",
       "      <th>project_type</th>\n",
       "      <th>date</th>\n",
       "    </tr>\n",
       "  </thead>\n",
       "  <tbody>\n",
       "    <tr>\n",
       "      <th>6659</th>\n",
       "      <td>2020-05-04 19:47:29</td>\n",
       "      <td>finished_stage_1</td>\n",
       "      <td>NaN</td>\n",
       "      <td>ced7b368-818f-48f6-9461-2346de0892c5</td>\n",
       "      <td>NaN</td>\n",
       "      <td>2020-05-04</td>\n",
       "    </tr>\n",
       "    <tr>\n",
       "      <th>13134</th>\n",
       "      <td>2020-05-05 13:22:09</td>\n",
       "      <td>finished_stage_1</td>\n",
       "      <td>NaN</td>\n",
       "      <td>7ef7fc89-2779-46ea-b328-9e5035b83af5</td>\n",
       "      <td>NaN</td>\n",
       "      <td>2020-05-05</td>\n",
       "    </tr>\n",
       "    <tr>\n",
       "      <th>15274</th>\n",
       "      <td>2020-05-05 18:54:37</td>\n",
       "      <td>finished_stage_1</td>\n",
       "      <td>NaN</td>\n",
       "      <td>70db22b3-c2f4-43bc-94ea-51c8d2904a29</td>\n",
       "      <td>NaN</td>\n",
       "      <td>2020-05-05</td>\n",
       "    </tr>\n",
       "    <tr>\n",
       "      <th>16284</th>\n",
       "      <td>2020-05-05 21:27:29</td>\n",
       "      <td>finished_stage_1</td>\n",
       "      <td>NaN</td>\n",
       "      <td>903fc9ef-ba97-4b12-9d5c-ac8d602fbd8b</td>\n",
       "      <td>NaN</td>\n",
       "      <td>2020-05-05</td>\n",
       "    </tr>\n",
       "    <tr>\n",
       "      <th>19650</th>\n",
       "      <td>2020-05-06 06:02:22</td>\n",
       "      <td>finished_stage_1</td>\n",
       "      <td>NaN</td>\n",
       "      <td>58e077ba-feb1-4556-a5a0-d96bd04efa39</td>\n",
       "      <td>NaN</td>\n",
       "      <td>2020-05-06</td>\n",
       "    </tr>\n",
       "    <tr>\n",
       "      <th>...</th>\n",
       "      <td>...</td>\n",
       "      <td>...</td>\n",
       "      <td>...</td>\n",
       "      <td>...</td>\n",
       "      <td>...</td>\n",
       "      <td>...</td>\n",
       "    </tr>\n",
       "    <tr>\n",
       "      <th>135631</th>\n",
       "      <td>2020-06-04 15:50:38</td>\n",
       "      <td>finished_stage_1</td>\n",
       "      <td>NaN</td>\n",
       "      <td>22cce310-fe10-41a2-941b-9c3d63327fea</td>\n",
       "      <td>NaN</td>\n",
       "      <td>2020-06-04</td>\n",
       "    </tr>\n",
       "    <tr>\n",
       "      <th>135632</th>\n",
       "      <td>2020-06-04 17:56:14</td>\n",
       "      <td>finished_stage_1</td>\n",
       "      <td>NaN</td>\n",
       "      <td>d477dde8-7c22-4f23-9c4f-4ec31a1aa4c8</td>\n",
       "      <td>NaN</td>\n",
       "      <td>2020-06-04</td>\n",
       "    </tr>\n",
       "    <tr>\n",
       "      <th>135635</th>\n",
       "      <td>2020-06-05 02:25:12</td>\n",
       "      <td>finished_stage_1</td>\n",
       "      <td>NaN</td>\n",
       "      <td>515c1952-99aa-4bca-a7ea-d0449eb5385a</td>\n",
       "      <td>NaN</td>\n",
       "      <td>2020-06-05</td>\n",
       "    </tr>\n",
       "    <tr>\n",
       "      <th>135637</th>\n",
       "      <td>2020-06-05 12:12:27</td>\n",
       "      <td>finished_stage_1</td>\n",
       "      <td>NaN</td>\n",
       "      <td>32572adb-900f-4b5d-a453-1eb1e6d88d8b</td>\n",
       "      <td>NaN</td>\n",
       "      <td>2020-06-05</td>\n",
       "    </tr>\n",
       "    <tr>\n",
       "      <th>135638</th>\n",
       "      <td>2020-06-05 12:32:49</td>\n",
       "      <td>finished_stage_1</td>\n",
       "      <td>NaN</td>\n",
       "      <td>f21d179f-1c4b-437e-b9c6-ab1976907195</td>\n",
       "      <td>NaN</td>\n",
       "      <td>2020-06-05</td>\n",
       "    </tr>\n",
       "  </tbody>\n",
       "</table>\n",
       "<p>5817 rows × 6 columns</p>\n",
       "</div>"
      ],
      "text/plain": [
       "            event_datetime             event building_type  \\\n",
       "6659   2020-05-04 19:47:29  finished_stage_1           NaN   \n",
       "13134  2020-05-05 13:22:09  finished_stage_1           NaN   \n",
       "15274  2020-05-05 18:54:37  finished_stage_1           NaN   \n",
       "16284  2020-05-05 21:27:29  finished_stage_1           NaN   \n",
       "19650  2020-05-06 06:02:22  finished_stage_1           NaN   \n",
       "...                    ...               ...           ...   \n",
       "135631 2020-06-04 15:50:38  finished_stage_1           NaN   \n",
       "135632 2020-06-04 17:56:14  finished_stage_1           NaN   \n",
       "135635 2020-06-05 02:25:12  finished_stage_1           NaN   \n",
       "135637 2020-06-05 12:12:27  finished_stage_1           NaN   \n",
       "135638 2020-06-05 12:32:49  finished_stage_1           NaN   \n",
       "\n",
       "                                     user_id project_type        date  \n",
       "6659    ced7b368-818f-48f6-9461-2346de0892c5          NaN  2020-05-04  \n",
       "13134   7ef7fc89-2779-46ea-b328-9e5035b83af5          NaN  2020-05-05  \n",
       "15274   70db22b3-c2f4-43bc-94ea-51c8d2904a29          NaN  2020-05-05  \n",
       "16284   903fc9ef-ba97-4b12-9d5c-ac8d602fbd8b          NaN  2020-05-05  \n",
       "19650   58e077ba-feb1-4556-a5a0-d96bd04efa39          NaN  2020-05-06  \n",
       "...                                      ...          ...         ...  \n",
       "135631  22cce310-fe10-41a2-941b-9c3d63327fea          NaN  2020-06-04  \n",
       "135632  d477dde8-7c22-4f23-9c4f-4ec31a1aa4c8          NaN  2020-06-04  \n",
       "135635  515c1952-99aa-4bca-a7ea-d0449eb5385a          NaN  2020-06-05  \n",
       "135637  32572adb-900f-4b5d-a453-1eb1e6d88d8b          NaN  2020-06-05  \n",
       "135638  f21d179f-1c4b-437e-b9c6-ab1976907195          NaN  2020-06-05  \n",
       "\n",
       "[5817 rows x 6 columns]"
      ]
     },
     "execution_count": 32,
     "metadata": {},
     "output_type": "execute_result"
    }
   ],
   "source": [
    "actions.query('event == \"finished_stage_1\"')"
   ]
  },
  {
   "cell_type": "markdown",
   "id": "92ef9955",
   "metadata": {},
   "source": [
    "Посчитаем их количество."
   ]
  },
  {
   "cell_type": "code",
   "execution_count": 33,
   "id": "7907841c",
   "metadata": {
    "scrolled": true
   },
   "outputs": [
    {
     "data": {
      "text/plain": [
       "5817"
      ]
     },
     "execution_count": 33,
     "metadata": {},
     "output_type": "execute_result"
    }
   ],
   "source": [
    "actions.query('event == \"finished_stage_1\"').groupby('user_id')['user_id'].nunique().count()"
   ]
  },
  {
   "cell_type": "markdown",
   "id": "92c3c625",
   "metadata": {},
   "source": [
    "И процент от общего числа пользователей."
   ]
  },
  {
   "cell_type": "code",
   "execution_count": 34,
   "id": "d832489b",
   "metadata": {},
   "outputs": [
    {
     "data": {
      "text/plain": [
       "42.847672362993514"
      ]
     },
     "execution_count": 34,
     "metadata": {},
     "output_type": "execute_result"
    }
   ],
   "source": [
    "actions.query('event == \"finished_stage_1\"').groupby('user_id')['user_id'].nunique().count() / (\n",
    "    actions.groupby('user_id')['user_id'].nunique().count() \n",
    ") * 100"
   ]
  },
  {
   "cell_type": "markdown",
   "id": "74fecfc1",
   "metadata": {},
   "source": [
    "43% всех игроков закончили первый уровень. Если проект выполняли 14% игроков, значит, через победу над другим игроков уровень завершили 29% пользователей."
   ]
  },
  {
   "cell_type": "markdown",
   "id": "2ec1eea3",
   "metadata": {},
   "source": [
    "<div class=\"alert alert-success\">\n",
    "<b> 🤌  Комментарий тимлида </b>  \n",
    "    \n",
    "Замечательно, что используешь относительные величины для выводов\n",
    "    \n",
    "</div>"
   ]
  },
  {
   "cell_type": "markdown",
   "id": "76d6433b",
   "metadata": {},
   "source": [
    "### Количество построенных зданий по дням"
   ]
  },
  {
   "cell_type": "markdown",
   "id": "258e25e7",
   "metadata": {},
   "source": [
    "Посмотрим, сколько раз в данных присутствует событие строительство."
   ]
  },
  {
   "cell_type": "code",
   "execution_count": 35,
   "id": "a6f20529",
   "metadata": {},
   "outputs": [
    {
     "data": {
      "text/plain": [
       "building            127956\n",
       "finished_stage_1      5817\n",
       "project               1866\n",
       "Name: event, dtype: int64"
      ]
     },
     "execution_count": 35,
     "metadata": {},
     "output_type": "execute_result"
    }
   ],
   "source": [
    "actions['event'].value_counts()"
   ]
  },
  {
   "cell_type": "markdown",
   "id": "a92c3196",
   "metadata": {},
   "source": [
    "У нас 128 тысяч построенных зданий. Соберём их в таблицу, в которой посчитаем, сколько зданий строилось в каждый из дней."
   ]
  },
  {
   "cell_type": "code",
   "execution_count": 36,
   "id": "36f3e35f",
   "metadata": {},
   "outputs": [
    {
     "data": {
      "text/html": [
       "<div>\n",
       "<style scoped>\n",
       "    .dataframe tbody tr th:only-of-type {\n",
       "        vertical-align: middle;\n",
       "    }\n",
       "\n",
       "    .dataframe tbody tr th {\n",
       "        vertical-align: top;\n",
       "    }\n",
       "\n",
       "    .dataframe thead th {\n",
       "        text-align: right;\n",
       "    }\n",
       "</style>\n",
       "<table border=\"1\" class=\"dataframe\">\n",
       "  <thead>\n",
       "    <tr style=\"text-align: right;\">\n",
       "      <th></th>\n",
       "      <th>date</th>\n",
       "      <th>count</th>\n",
       "    </tr>\n",
       "  </thead>\n",
       "  <tbody>\n",
       "    <tr>\n",
       "      <th>0</th>\n",
       "      <td>2020-05-04</td>\n",
       "      <td>8170</td>\n",
       "    </tr>\n",
       "    <tr>\n",
       "      <th>1</th>\n",
       "      <td>2020-05-05</td>\n",
       "      <td>9052</td>\n",
       "    </tr>\n",
       "    <tr>\n",
       "      <th>2</th>\n",
       "      <td>2020-05-06</td>\n",
       "      <td>9921</td>\n",
       "    </tr>\n",
       "    <tr>\n",
       "      <th>3</th>\n",
       "      <td>2020-05-07</td>\n",
       "      <td>10847</td>\n",
       "    </tr>\n",
       "    <tr>\n",
       "      <th>4</th>\n",
       "      <td>2020-05-08</td>\n",
       "      <td>12030</td>\n",
       "    </tr>\n",
       "    <tr>\n",
       "      <th>5</th>\n",
       "      <td>2020-05-09</td>\n",
       "      <td>13066</td>\n",
       "    </tr>\n",
       "    <tr>\n",
       "      <th>6</th>\n",
       "      <td>2020-05-10</td>\n",
       "      <td>15022</td>\n",
       "    </tr>\n",
       "    <tr>\n",
       "      <th>7</th>\n",
       "      <td>2020-05-11</td>\n",
       "      <td>7876</td>\n",
       "    </tr>\n",
       "    <tr>\n",
       "      <th>8</th>\n",
       "      <td>2020-05-12</td>\n",
       "      <td>7509</td>\n",
       "    </tr>\n",
       "    <tr>\n",
       "      <th>9</th>\n",
       "      <td>2020-05-13</td>\n",
       "      <td>7060</td>\n",
       "    </tr>\n",
       "    <tr>\n",
       "      <th>10</th>\n",
       "      <td>2020-05-14</td>\n",
       "      <td>6140</td>\n",
       "    </tr>\n",
       "    <tr>\n",
       "      <th>11</th>\n",
       "      <td>2020-05-15</td>\n",
       "      <td>5155</td>\n",
       "    </tr>\n",
       "    <tr>\n",
       "      <th>12</th>\n",
       "      <td>2020-05-16</td>\n",
       "      <td>4243</td>\n",
       "    </tr>\n",
       "    <tr>\n",
       "      <th>13</th>\n",
       "      <td>2020-05-17</td>\n",
       "      <td>3180</td>\n",
       "    </tr>\n",
       "    <tr>\n",
       "      <th>14</th>\n",
       "      <td>2020-05-18</td>\n",
       "      <td>2236</td>\n",
       "    </tr>\n",
       "    <tr>\n",
       "      <th>15</th>\n",
       "      <td>2020-05-19</td>\n",
       "      <td>1787</td>\n",
       "    </tr>\n",
       "    <tr>\n",
       "      <th>16</th>\n",
       "      <td>2020-05-20</td>\n",
       "      <td>1349</td>\n",
       "    </tr>\n",
       "    <tr>\n",
       "      <th>17</th>\n",
       "      <td>2020-05-21</td>\n",
       "      <td>988</td>\n",
       "    </tr>\n",
       "    <tr>\n",
       "      <th>18</th>\n",
       "      <td>2020-05-22</td>\n",
       "      <td>695</td>\n",
       "    </tr>\n",
       "    <tr>\n",
       "      <th>19</th>\n",
       "      <td>2020-05-23</td>\n",
       "      <td>509</td>\n",
       "    </tr>\n",
       "    <tr>\n",
       "      <th>20</th>\n",
       "      <td>2020-05-24</td>\n",
       "      <td>349</td>\n",
       "    </tr>\n",
       "    <tr>\n",
       "      <th>21</th>\n",
       "      <td>2020-05-25</td>\n",
       "      <td>255</td>\n",
       "    </tr>\n",
       "    <tr>\n",
       "      <th>22</th>\n",
       "      <td>2020-05-26</td>\n",
       "      <td>184</td>\n",
       "    </tr>\n",
       "    <tr>\n",
       "      <th>23</th>\n",
       "      <td>2020-05-27</td>\n",
       "      <td>120</td>\n",
       "    </tr>\n",
       "    <tr>\n",
       "      <th>24</th>\n",
       "      <td>2020-05-28</td>\n",
       "      <td>81</td>\n",
       "    </tr>\n",
       "    <tr>\n",
       "      <th>25</th>\n",
       "      <td>2020-05-29</td>\n",
       "      <td>49</td>\n",
       "    </tr>\n",
       "    <tr>\n",
       "      <th>26</th>\n",
       "      <td>2020-05-30</td>\n",
       "      <td>33</td>\n",
       "    </tr>\n",
       "    <tr>\n",
       "      <th>27</th>\n",
       "      <td>2020-05-31</td>\n",
       "      <td>19</td>\n",
       "    </tr>\n",
       "    <tr>\n",
       "      <th>28</th>\n",
       "      <td>2020-06-01</td>\n",
       "      <td>12</td>\n",
       "    </tr>\n",
       "    <tr>\n",
       "      <th>29</th>\n",
       "      <td>2020-06-02</td>\n",
       "      <td>6</td>\n",
       "    </tr>\n",
       "    <tr>\n",
       "      <th>30</th>\n",
       "      <td>2020-06-03</td>\n",
       "      <td>7</td>\n",
       "    </tr>\n",
       "    <tr>\n",
       "      <th>31</th>\n",
       "      <td>2020-06-04</td>\n",
       "      <td>4</td>\n",
       "    </tr>\n",
       "    <tr>\n",
       "      <th>32</th>\n",
       "      <td>2020-06-05</td>\n",
       "      <td>2</td>\n",
       "    </tr>\n",
       "  </tbody>\n",
       "</table>\n",
       "</div>"
      ],
      "text/plain": [
       "          date  count\n",
       "0   2020-05-04   8170\n",
       "1   2020-05-05   9052\n",
       "2   2020-05-06   9921\n",
       "3   2020-05-07  10847\n",
       "4   2020-05-08  12030\n",
       "5   2020-05-09  13066\n",
       "6   2020-05-10  15022\n",
       "7   2020-05-11   7876\n",
       "8   2020-05-12   7509\n",
       "9   2020-05-13   7060\n",
       "10  2020-05-14   6140\n",
       "11  2020-05-15   5155\n",
       "12  2020-05-16   4243\n",
       "13  2020-05-17   3180\n",
       "14  2020-05-18   2236\n",
       "15  2020-05-19   1787\n",
       "16  2020-05-20   1349\n",
       "17  2020-05-21    988\n",
       "18  2020-05-22    695\n",
       "19  2020-05-23    509\n",
       "20  2020-05-24    349\n",
       "21  2020-05-25    255\n",
       "22  2020-05-26    184\n",
       "23  2020-05-27    120\n",
       "24  2020-05-28     81\n",
       "25  2020-05-29     49\n",
       "26  2020-05-30     33\n",
       "27  2020-05-31     19\n",
       "28  2020-06-01     12\n",
       "29  2020-06-02      6\n",
       "30  2020-06-03      7\n",
       "31  2020-06-04      4\n",
       "32  2020-06-05      2"
      ]
     },
     "execution_count": 36,
     "metadata": {},
     "output_type": "execute_result"
    }
   ],
   "source": [
    "buildings_by_date = actions.pivot_table(index='date', values='building_type', aggfunc='count').reset_index()\n",
    "buildings_by_date.columns = ['date', 'count']\n",
    "buildings_by_date"
   ]
  },
  {
   "cell_type": "markdown",
   "id": "3406fc5b",
   "metadata": {},
   "source": [
    "Построим график"
   ]
  },
  {
   "cell_type": "code",
   "execution_count": 37,
   "id": "fb8c1c38",
   "metadata": {},
   "outputs": [
    {
     "data": {
      "image/png": "[encoded data removed]",
      "text/plain": [
       "<Figure size 864x576 with 1 Axes>"
      ]
     },
     "metadata": {
      "needs_background": "light"
     },
     "output_type": "display_data"
    }
   ],
   "source": [
    "buildings_by_date.plot(y='count', x='date', figsize=(12, 8), grid=True, legend=True, style='o-')\n",
    "           \n",
    "plt.title('График изменения количества построенных зданий по времени')\n",
    "plt.xlabel('Дата')\n",
    "plt.ylabel('Количество построек')\n",
    "plt.show()"
   ]
  },
  {
   "cell_type": "markdown",
   "id": "ea511b54",
   "metadata": {},
   "source": [
    "Резкий рост объясняется показами рекламы. Не менее резкий спад - тем, что практически все активные игроки достаточно быстро перешли на следующий уровень.\n",
    "\n",
    "Выделим из всего датасета только те строки, в которых присутствуют записи о строительстве."
   ]
  },
  {
   "cell_type": "code",
   "execution_count": 38,
   "id": "f2b66998",
   "metadata": {},
   "outputs": [
    {
     "data": {
      "text/html": [
       "<div>\n",
       "<style scoped>\n",
       "    .dataframe tbody tr th:only-of-type {\n",
       "        vertical-align: middle;\n",
       "    }\n",
       "\n",
       "    .dataframe tbody tr th {\n",
       "        vertical-align: top;\n",
       "    }\n",
       "\n",
       "    .dataframe thead th {\n",
       "        text-align: right;\n",
       "    }\n",
       "</style>\n",
       "<table border=\"1\" class=\"dataframe\">\n",
       "  <thead>\n",
       "    <tr style=\"text-align: right;\">\n",
       "      <th></th>\n",
       "      <th>event_datetime</th>\n",
       "      <th>event</th>\n",
       "      <th>building_type</th>\n",
       "      <th>user_id</th>\n",
       "      <th>project_type</th>\n",
       "      <th>date</th>\n",
       "    </tr>\n",
       "  </thead>\n",
       "  <tbody>\n",
       "    <tr>\n",
       "      <th>0</th>\n",
       "      <td>2020-05-04 00:00:01</td>\n",
       "      <td>building</td>\n",
       "      <td>assembly_shop</td>\n",
       "      <td>55e92310-cb8e-4754-b622-597e124b03de</td>\n",
       "      <td>NaN</td>\n",
       "      <td>2020-05-04</td>\n",
       "    </tr>\n",
       "    <tr>\n",
       "      <th>1</th>\n",
       "      <td>2020-05-04 00:00:03</td>\n",
       "      <td>building</td>\n",
       "      <td>assembly_shop</td>\n",
       "      <td>c07b1c10-f477-44dc-81dc-ec82254b1347</td>\n",
       "      <td>NaN</td>\n",
       "      <td>2020-05-04</td>\n",
       "    </tr>\n",
       "    <tr>\n",
       "      <th>2</th>\n",
       "      <td>2020-05-04 00:00:16</td>\n",
       "      <td>building</td>\n",
       "      <td>assembly_shop</td>\n",
       "      <td>6edd42cc-e753-4ff6-a947-2107cd560710</td>\n",
       "      <td>NaN</td>\n",
       "      <td>2020-05-04</td>\n",
       "    </tr>\n",
       "    <tr>\n",
       "      <th>3</th>\n",
       "      <td>2020-05-04 00:00:16</td>\n",
       "      <td>building</td>\n",
       "      <td>assembly_shop</td>\n",
       "      <td>92c69003-d60a-444a-827f-8cc51bf6bf4c</td>\n",
       "      <td>NaN</td>\n",
       "      <td>2020-05-04</td>\n",
       "    </tr>\n",
       "    <tr>\n",
       "      <th>4</th>\n",
       "      <td>2020-05-04 00:00:35</td>\n",
       "      <td>building</td>\n",
       "      <td>assembly_shop</td>\n",
       "      <td>cdc6bb92-0ccb-4490-9866-ef142f09139d</td>\n",
       "      <td>NaN</td>\n",
       "      <td>2020-05-04</td>\n",
       "    </tr>\n",
       "    <tr>\n",
       "      <th>...</th>\n",
       "      <td>...</td>\n",
       "      <td>...</td>\n",
       "      <td>...</td>\n",
       "      <td>...</td>\n",
       "      <td>...</td>\n",
       "      <td>...</td>\n",
       "    </tr>\n",
       "    <tr>\n",
       "      <th>135626</th>\n",
       "      <td>2020-06-04 05:18:54</td>\n",
       "      <td>building</td>\n",
       "      <td>research_center</td>\n",
       "      <td>d477dde8-7c22-4f23-9c4f-4ec31a1aa4c8</td>\n",
       "      <td>NaN</td>\n",
       "      <td>2020-06-04</td>\n",
       "    </tr>\n",
       "    <tr>\n",
       "      <th>135630</th>\n",
       "      <td>2020-06-04 13:26:25</td>\n",
       "      <td>building</td>\n",
       "      <td>research_center</td>\n",
       "      <td>32572adb-900f-4b5d-a453-1eb1e6d88d8b</td>\n",
       "      <td>NaN</td>\n",
       "      <td>2020-06-04</td>\n",
       "    </tr>\n",
       "    <tr>\n",
       "      <th>135633</th>\n",
       "      <td>2020-06-04 18:14:33</td>\n",
       "      <td>building</td>\n",
       "      <td>research_center</td>\n",
       "      <td>515c1952-99aa-4bca-a7ea-d0449eb5385a</td>\n",
       "      <td>NaN</td>\n",
       "      <td>2020-06-04</td>\n",
       "    </tr>\n",
       "    <tr>\n",
       "      <th>135634</th>\n",
       "      <td>2020-06-05 00:08:06</td>\n",
       "      <td>building</td>\n",
       "      <td>research_center</td>\n",
       "      <td>f21d179f-1c4b-437e-b9c6-ab1976907195</td>\n",
       "      <td>NaN</td>\n",
       "      <td>2020-06-05</td>\n",
       "    </tr>\n",
       "    <tr>\n",
       "      <th>135636</th>\n",
       "      <td>2020-06-05 08:57:52</td>\n",
       "      <td>building</td>\n",
       "      <td>research_center</td>\n",
       "      <td>ed3e7d02-8a96-4be7-9998-e9813ff9c316</td>\n",
       "      <td>NaN</td>\n",
       "      <td>2020-06-05</td>\n",
       "    </tr>\n",
       "  </tbody>\n",
       "</table>\n",
       "<p>127956 rows × 6 columns</p>\n",
       "</div>"
      ],
      "text/plain": [
       "            event_datetime     event    building_type  \\\n",
       "0      2020-05-04 00:00:01  building    assembly_shop   \n",
       "1      2020-05-04 00:00:03  building    assembly_shop   \n",
       "2      2020-05-04 00:00:16  building    assembly_shop   \n",
       "3      2020-05-04 00:00:16  building    assembly_shop   \n",
       "4      2020-05-04 00:00:35  building    assembly_shop   \n",
       "...                    ...       ...              ...   \n",
       "135626 2020-06-04 05:18:54  building  research_center   \n",
       "135630 2020-06-04 13:26:25  building  research_center   \n",
       "135633 2020-06-04 18:14:33  building  research_center   \n",
       "135634 2020-06-05 00:08:06  building  research_center   \n",
       "135636 2020-06-05 08:57:52  building  research_center   \n",
       "\n",
       "                                     user_id project_type        date  \n",
       "0       55e92310-cb8e-4754-b622-597e124b03de          NaN  2020-05-04  \n",
       "1       c07b1c10-f477-44dc-81dc-ec82254b1347          NaN  2020-05-04  \n",
       "2       6edd42cc-e753-4ff6-a947-2107cd560710          NaN  2020-05-04  \n",
       "3       92c69003-d60a-444a-827f-8cc51bf6bf4c          NaN  2020-05-04  \n",
       "4       cdc6bb92-0ccb-4490-9866-ef142f09139d          NaN  2020-05-04  \n",
       "...                                      ...          ...         ...  \n",
       "135626  d477dde8-7c22-4f23-9c4f-4ec31a1aa4c8          NaN  2020-06-04  \n",
       "135630  32572adb-900f-4b5d-a453-1eb1e6d88d8b          NaN  2020-06-04  \n",
       "135633  515c1952-99aa-4bca-a7ea-d0449eb5385a          NaN  2020-06-04  \n",
       "135634  f21d179f-1c4b-437e-b9c6-ab1976907195          NaN  2020-06-05  \n",
       "135636  ed3e7d02-8a96-4be7-9998-e9813ff9c316          NaN  2020-06-05  \n",
       "\n",
       "[127956 rows x 6 columns]"
      ]
     },
     "execution_count": 38,
     "metadata": {},
     "output_type": "execute_result"
    }
   ],
   "source": [
    "building_actions = actions.query('event == \"building\"')\n",
    "building_actions"
   ]
  },
  {
   "cell_type": "markdown",
   "id": "a398bcd2",
   "metadata": {},
   "source": [
    "Посчитаем, сколько зданий по типам было построено в каждый из дней"
   ]
  },
  {
   "cell_type": "code",
   "execution_count": 39,
   "id": "dfe3f9ad",
   "metadata": {},
   "outputs": [
    {
     "data": {
      "text/html": [
       "<div>\n",
       "<style scoped>\n",
       "    .dataframe tbody tr th:only-of-type {\n",
       "        vertical-align: middle;\n",
       "    }\n",
       "\n",
       "    .dataframe tbody tr th {\n",
       "        vertical-align: top;\n",
       "    }\n",
       "\n",
       "    .dataframe thead th {\n",
       "        text-align: right;\n",
       "    }\n",
       "</style>\n",
       "<table border=\"1\" class=\"dataframe\">\n",
       "  <thead>\n",
       "    <tr style=\"text-align: right;\">\n",
       "      <th>building_type</th>\n",
       "      <th>date</th>\n",
       "      <th>assembly_shop</th>\n",
       "      <th>research_center</th>\n",
       "      <th>spaceport</th>\n",
       "    </tr>\n",
       "  </thead>\n",
       "  <tbody>\n",
       "    <tr>\n",
       "      <th>0</th>\n",
       "      <td>2020-05-04</td>\n",
       "      <td>7767.0</td>\n",
       "      <td>NaN</td>\n",
       "      <td>403.0</td>\n",
       "    </tr>\n",
       "    <tr>\n",
       "      <th>1</th>\n",
       "      <td>2020-05-05</td>\n",
       "      <td>7816.0</td>\n",
       "      <td>NaN</td>\n",
       "      <td>1236.0</td>\n",
       "    </tr>\n",
       "    <tr>\n",
       "      <th>2</th>\n",
       "      <td>2020-05-06</td>\n",
       "      <td>7736.0</td>\n",
       "      <td>5.0</td>\n",
       "      <td>2180.0</td>\n",
       "    </tr>\n",
       "    <tr>\n",
       "      <th>3</th>\n",
       "      <td>2020-05-07</td>\n",
       "      <td>7775.0</td>\n",
       "      <td>31.0</td>\n",
       "      <td>3041.0</td>\n",
       "    </tr>\n",
       "    <tr>\n",
       "      <th>4</th>\n",
       "      <td>2020-05-08</td>\n",
       "      <td>7833.0</td>\n",
       "      <td>123.0</td>\n",
       "      <td>4074.0</td>\n",
       "    </tr>\n",
       "    <tr>\n",
       "      <th>5</th>\n",
       "      <td>2020-05-09</td>\n",
       "      <td>7698.0</td>\n",
       "      <td>368.0</td>\n",
       "      <td>5000.0</td>\n",
       "    </tr>\n",
       "    <tr>\n",
       "      <th>6</th>\n",
       "      <td>2020-05-10</td>\n",
       "      <td>7869.0</td>\n",
       "      <td>863.0</td>\n",
       "      <td>6290.0</td>\n",
       "    </tr>\n",
       "    <tr>\n",
       "      <th>7</th>\n",
       "      <td>2020-05-11</td>\n",
       "      <td>NaN</td>\n",
       "      <td>1291.0</td>\n",
       "      <td>6585.0</td>\n",
       "    </tr>\n",
       "    <tr>\n",
       "      <th>8</th>\n",
       "      <td>2020-05-12</td>\n",
       "      <td>NaN</td>\n",
       "      <td>1540.0</td>\n",
       "      <td>5969.0</td>\n",
       "    </tr>\n",
       "    <tr>\n",
       "      <th>9</th>\n",
       "      <td>2020-05-13</td>\n",
       "      <td>NaN</td>\n",
       "      <td>1540.0</td>\n",
       "      <td>5520.0</td>\n",
       "    </tr>\n",
       "    <tr>\n",
       "      <th>10</th>\n",
       "      <td>2020-05-14</td>\n",
       "      <td>NaN</td>\n",
       "      <td>1396.0</td>\n",
       "      <td>4744.0</td>\n",
       "    </tr>\n",
       "    <tr>\n",
       "      <th>11</th>\n",
       "      <td>2020-05-15</td>\n",
       "      <td>NaN</td>\n",
       "      <td>1271.0</td>\n",
       "      <td>3884.0</td>\n",
       "    </tr>\n",
       "    <tr>\n",
       "      <th>12</th>\n",
       "      <td>2020-05-16</td>\n",
       "      <td>NaN</td>\n",
       "      <td>1261.0</td>\n",
       "      <td>2982.0</td>\n",
       "    </tr>\n",
       "    <tr>\n",
       "      <th>13</th>\n",
       "      <td>2020-05-17</td>\n",
       "      <td>NaN</td>\n",
       "      <td>1068.0</td>\n",
       "      <td>2112.0</td>\n",
       "    </tr>\n",
       "    <tr>\n",
       "      <th>14</th>\n",
       "      <td>2020-05-18</td>\n",
       "      <td>NaN</td>\n",
       "      <td>833.0</td>\n",
       "      <td>1403.0</td>\n",
       "    </tr>\n",
       "    <tr>\n",
       "      <th>15</th>\n",
       "      <td>2020-05-19</td>\n",
       "      <td>NaN</td>\n",
       "      <td>648.0</td>\n",
       "      <td>1139.0</td>\n",
       "    </tr>\n",
       "    <tr>\n",
       "      <th>16</th>\n",
       "      <td>2020-05-20</td>\n",
       "      <td>NaN</td>\n",
       "      <td>492.0</td>\n",
       "      <td>857.0</td>\n",
       "    </tr>\n",
       "    <tr>\n",
       "      <th>17</th>\n",
       "      <td>2020-05-21</td>\n",
       "      <td>NaN</td>\n",
       "      <td>382.0</td>\n",
       "      <td>606.0</td>\n",
       "    </tr>\n",
       "    <tr>\n",
       "      <th>18</th>\n",
       "      <td>2020-05-22</td>\n",
       "      <td>NaN</td>\n",
       "      <td>293.0</td>\n",
       "      <td>402.0</td>\n",
       "    </tr>\n",
       "    <tr>\n",
       "      <th>19</th>\n",
       "      <td>2020-05-23</td>\n",
       "      <td>NaN</td>\n",
       "      <td>220.0</td>\n",
       "      <td>289.0</td>\n",
       "    </tr>\n",
       "    <tr>\n",
       "      <th>20</th>\n",
       "      <td>2020-05-24</td>\n",
       "      <td>NaN</td>\n",
       "      <td>152.0</td>\n",
       "      <td>197.0</td>\n",
       "    </tr>\n",
       "    <tr>\n",
       "      <th>21</th>\n",
       "      <td>2020-05-25</td>\n",
       "      <td>NaN</td>\n",
       "      <td>113.0</td>\n",
       "      <td>142.0</td>\n",
       "    </tr>\n",
       "    <tr>\n",
       "      <th>22</th>\n",
       "      <td>2020-05-26</td>\n",
       "      <td>NaN</td>\n",
       "      <td>87.0</td>\n",
       "      <td>97.0</td>\n",
       "    </tr>\n",
       "    <tr>\n",
       "      <th>23</th>\n",
       "      <td>2020-05-27</td>\n",
       "      <td>NaN</td>\n",
       "      <td>47.0</td>\n",
       "      <td>73.0</td>\n",
       "    </tr>\n",
       "    <tr>\n",
       "      <th>24</th>\n",
       "      <td>2020-05-28</td>\n",
       "      <td>NaN</td>\n",
       "      <td>44.0</td>\n",
       "      <td>37.0</td>\n",
       "    </tr>\n",
       "    <tr>\n",
       "      <th>25</th>\n",
       "      <td>2020-05-29</td>\n",
       "      <td>NaN</td>\n",
       "      <td>27.0</td>\n",
       "      <td>22.0</td>\n",
       "    </tr>\n",
       "    <tr>\n",
       "      <th>26</th>\n",
       "      <td>2020-05-30</td>\n",
       "      <td>NaN</td>\n",
       "      <td>17.0</td>\n",
       "      <td>16.0</td>\n",
       "    </tr>\n",
       "    <tr>\n",
       "      <th>27</th>\n",
       "      <td>2020-05-31</td>\n",
       "      <td>NaN</td>\n",
       "      <td>11.0</td>\n",
       "      <td>8.0</td>\n",
       "    </tr>\n",
       "    <tr>\n",
       "      <th>28</th>\n",
       "      <td>2020-06-01</td>\n",
       "      <td>NaN</td>\n",
       "      <td>4.0</td>\n",
       "      <td>8.0</td>\n",
       "    </tr>\n",
       "    <tr>\n",
       "      <th>29</th>\n",
       "      <td>2020-06-02</td>\n",
       "      <td>NaN</td>\n",
       "      <td>2.0</td>\n",
       "      <td>4.0</td>\n",
       "    </tr>\n",
       "    <tr>\n",
       "      <th>30</th>\n",
       "      <td>2020-06-03</td>\n",
       "      <td>NaN</td>\n",
       "      <td>3.0</td>\n",
       "      <td>4.0</td>\n",
       "    </tr>\n",
       "    <tr>\n",
       "      <th>31</th>\n",
       "      <td>2020-06-04</td>\n",
       "      <td>NaN</td>\n",
       "      <td>3.0</td>\n",
       "      <td>1.0</td>\n",
       "    </tr>\n",
       "    <tr>\n",
       "      <th>32</th>\n",
       "      <td>2020-06-05</td>\n",
       "      <td>NaN</td>\n",
       "      <td>2.0</td>\n",
       "      <td>NaN</td>\n",
       "    </tr>\n",
       "  </tbody>\n",
       "</table>\n",
       "</div>"
      ],
      "text/plain": [
       "building_type        date  assembly_shop  research_center  spaceport\n",
       "0              2020-05-04         7767.0              NaN      403.0\n",
       "1              2020-05-05         7816.0              NaN     1236.0\n",
       "2              2020-05-06         7736.0              5.0     2180.0\n",
       "3              2020-05-07         7775.0             31.0     3041.0\n",
       "4              2020-05-08         7833.0            123.0     4074.0\n",
       "5              2020-05-09         7698.0            368.0     5000.0\n",
       "6              2020-05-10         7869.0            863.0     6290.0\n",
       "7              2020-05-11            NaN           1291.0     6585.0\n",
       "8              2020-05-12            NaN           1540.0     5969.0\n",
       "9              2020-05-13            NaN           1540.0     5520.0\n",
       "10             2020-05-14            NaN           1396.0     4744.0\n",
       "11             2020-05-15            NaN           1271.0     3884.0\n",
       "12             2020-05-16            NaN           1261.0     2982.0\n",
       "13             2020-05-17            NaN           1068.0     2112.0\n",
       "14             2020-05-18            NaN            833.0     1403.0\n",
       "15             2020-05-19            NaN            648.0     1139.0\n",
       "16             2020-05-20            NaN            492.0      857.0\n",
       "17             2020-05-21            NaN            382.0      606.0\n",
       "18             2020-05-22            NaN            293.0      402.0\n",
       "19             2020-05-23            NaN            220.0      289.0\n",
       "20             2020-05-24            NaN            152.0      197.0\n",
       "21             2020-05-25            NaN            113.0      142.0\n",
       "22             2020-05-26            NaN             87.0       97.0\n",
       "23             2020-05-27            NaN             47.0       73.0\n",
       "24             2020-05-28            NaN             44.0       37.0\n",
       "25             2020-05-29            NaN             27.0       22.0\n",
       "26             2020-05-30            NaN             17.0       16.0\n",
       "27             2020-05-31            NaN             11.0        8.0\n",
       "28             2020-06-01            NaN              4.0        8.0\n",
       "29             2020-06-02            NaN              2.0        4.0\n",
       "30             2020-06-03            NaN              3.0        4.0\n",
       "31             2020-06-04            NaN              3.0        1.0\n",
       "32             2020-06-05            NaN              2.0        NaN"
      ]
     },
     "execution_count": 39,
     "metadata": {},
     "output_type": "execute_result"
    }
   ],
   "source": [
    "buildings_by_date_by_type = building_actions.pivot_table(\n",
    "        index='date', columns='building_type', values='event', aggfunc='count'\n",
    "    ).reset_index()\n",
    "buildings_by_date_by_type"
   ]
  },
  {
   "cell_type": "markdown",
   "id": "846af5f5",
   "metadata": {},
   "source": [
    "Построим график"
   ]
  },
  {
   "cell_type": "code",
   "execution_count": 40,
   "id": "484ca090",
   "metadata": {},
   "outputs": [
    {
     "data": {
      "image/png": "[encoded data removed]",
      "text/plain": [
       "<Figure size 864x720 with 1 Axes>"
      ]
     },
     "metadata": {
      "needs_background": "light"
     },
     "output_type": "display_data"
    }
   ],
   "source": [
    "buildings_by_date_by_type.plot(figsize=(12, 10), grid=True, rot=45, legend=True, style='o-') \n",
    "\n",
    "plt.title('Количество построек с разбивкой по типам по времени')\n",
    "plt.xlabel('Дата')\n",
    "plt.ylabel('количество зданий')\n",
    "plt.show()"
   ]
  },
  {
   "cell_type": "markdown",
   "id": "e4f6a00d",
   "metadata": {},
   "source": [
    "По графику можно заметить, что реклама сильно повлияла на строительство. Но есть тип зданий assembly_shop, который строился во время активного показа рекламы, а потом резко прекратился. Это явно ненормально. То ли в данных ошибка, то ли у игроков во время рекламного периода был, например, закрытый доступ к этому зданию. Или построить его можно было только перейдя по рекламе. А потом этот доступ убрали. Зачем?"
   ]
  },
  {
   "cell_type": "markdown",
   "id": "e73a0c4e",
   "metadata": {},
   "source": [
    "<div class=\"alert alert-success\">\n",
    "<b> 🤌  Комментарий тимлида </b>  \n",
    "    \n",
    "Так же возможен вариант, что этот тип здания строится самым первым и больше в нем нет необходимости. В любом случае, это то, что можно будет уточнить у гейм дизайнеров.\n",
    "    \n",
    "</div>"
   ]
  },
  {
   "cell_type": "markdown",
   "id": "9a0762f1",
   "metadata": {},
   "source": [
    "<div class=\"alert alert-info\">\n",
    "<b>🧑‍🎓 Комментарий джуна </b> В таком случае мы могли бы наблюдать увеличение количества построек этого здания во время рекламного периода и затем плавный спад, как с двумя другими типами зданий. Ведь игроки приходили к нам на протяжении всего месяца, даже после прекращения показов рекламы. Так что мне кажется, если бы это здание было первым, мы увидели бы какое-то более логичное развитие истории постройки этого здания. А тут строили-строили, и резкий обрыв. По-моему так не должно быть при естественных причинах прекращения строительства </div> "
   ]
  },
  {
   "cell_type": "markdown",
   "id": "28d60769",
   "metadata": {},
   "source": [
    "<div class=\"alert alert-success\">\n",
    "<b> 🤌  Комментарий тимлида (v.2)</b>  \n",
    "    \n",
    "Справедливое замечание\n",
    "    \n",
    "</div>"
   ]
  },
  {
   "cell_type": "markdown",
   "id": "8e2dad37",
   "metadata": {},
   "source": [
    "### Количество построенных зданий по игрокам"
   ]
  },
  {
   "cell_type": "markdown",
   "id": "57937457",
   "metadata": {},
   "source": [
    "Построим таблицу, в которой посчитаем, сколько зданий построил каждый из игроков."
   ]
  },
  {
   "cell_type": "code",
   "execution_count": 41,
   "id": "c5098117",
   "metadata": {},
   "outputs": [
    {
     "data": {
      "text/html": [
       "<div>\n",
       "<style scoped>\n",
       "    .dataframe tbody tr th:only-of-type {\n",
       "        vertical-align: middle;\n",
       "    }\n",
       "\n",
       "    .dataframe tbody tr th {\n",
       "        vertical-align: top;\n",
       "    }\n",
       "\n",
       "    .dataframe thead th {\n",
       "        text-align: right;\n",
       "    }\n",
       "</style>\n",
       "<table border=\"1\" class=\"dataframe\">\n",
       "  <thead>\n",
       "    <tr style=\"text-align: right;\">\n",
       "      <th></th>\n",
       "      <th>user_id</th>\n",
       "      <th>event</th>\n",
       "    </tr>\n",
       "  </thead>\n",
       "  <tbody>\n",
       "    <tr>\n",
       "      <th>8799</th>\n",
       "      <td>a5add3ce-1ac4-4b97-aba0-f040efc4c1b0</td>\n",
       "      <td>20</td>\n",
       "    </tr>\n",
       "    <tr>\n",
       "      <th>8644</th>\n",
       "      <td>a2f85d5e-5a53-43ee-9d41-9e1def085562</td>\n",
       "      <td>20</td>\n",
       "    </tr>\n",
       "    <tr>\n",
       "      <th>10120</th>\n",
       "      <td>bf542075-e3a2-4e79-82d8-3838e86d2a25</td>\n",
       "      <td>20</td>\n",
       "    </tr>\n",
       "    <tr>\n",
       "      <th>1592</th>\n",
       "      <td>1cb5b622-be18-488e-b699-6136a57eb470</td>\n",
       "      <td>20</td>\n",
       "    </tr>\n",
       "    <tr>\n",
       "      <th>11329</th>\n",
       "      <td>d6aca06a-cd75-4cd8-b8cd-240a3c163884</td>\n",
       "      <td>20</td>\n",
       "    </tr>\n",
       "    <tr>\n",
       "      <th>...</th>\n",
       "      <td>...</td>\n",
       "      <td>...</td>\n",
       "    </tr>\n",
       "    <tr>\n",
       "      <th>6601</th>\n",
       "      <td>7ac32352-627b-421c-9319-b77a37947625</td>\n",
       "      <td>1</td>\n",
       "    </tr>\n",
       "    <tr>\n",
       "      <th>4494</th>\n",
       "      <td>531a93d9-f57d-4b60-8eec-ee709ff7c67c</td>\n",
       "      <td>1</td>\n",
       "    </tr>\n",
       "    <tr>\n",
       "      <th>11954</th>\n",
       "      <td>e17fd642-a43d-41d4-86a8-c81c6107f9cc</td>\n",
       "      <td>1</td>\n",
       "    </tr>\n",
       "    <tr>\n",
       "      <th>7406</th>\n",
       "      <td>8a6262b0-0521-4691-bfd2-8d74cf7a5e93</td>\n",
       "      <td>1</td>\n",
       "    </tr>\n",
       "    <tr>\n",
       "      <th>6009</th>\n",
       "      <td>70362b15-8a0b-4fb7-8a67-4454fd7098d7</td>\n",
       "      <td>1</td>\n",
       "    </tr>\n",
       "  </tbody>\n",
       "</table>\n",
       "<p>13576 rows × 2 columns</p>\n",
       "</div>"
      ],
      "text/plain": [
       "                                    user_id  event\n",
       "8799   a5add3ce-1ac4-4b97-aba0-f040efc4c1b0     20\n",
       "8644   a2f85d5e-5a53-43ee-9d41-9e1def085562     20\n",
       "10120  bf542075-e3a2-4e79-82d8-3838e86d2a25     20\n",
       "1592   1cb5b622-be18-488e-b699-6136a57eb470     20\n",
       "11329  d6aca06a-cd75-4cd8-b8cd-240a3c163884     20\n",
       "...                                     ...    ...\n",
       "6601   7ac32352-627b-421c-9319-b77a37947625      1\n",
       "4494   531a93d9-f57d-4b60-8eec-ee709ff7c67c      1\n",
       "11954  e17fd642-a43d-41d4-86a8-c81c6107f9cc      1\n",
       "7406   8a6262b0-0521-4691-bfd2-8d74cf7a5e93      1\n",
       "6009   70362b15-8a0b-4fb7-8a67-4454fd7098d7      1\n",
       "\n",
       "[13576 rows x 2 columns]"
      ]
     },
     "execution_count": 41,
     "metadata": {},
     "output_type": "execute_result"
    }
   ],
   "source": [
    "building_per_user = building_actions.pivot_table(index=['user_id'], values='event', aggfunc='count').reset_index()\n",
    "building_per_user.sort_values(by='event', ascending=False)"
   ]
  },
  {
   "cell_type": "code",
   "execution_count": 42,
   "id": "ce021b3d",
   "metadata": {},
   "outputs": [
    {
     "data": {
      "text/plain": [
       "count    13576.000000\n",
       "mean         9.425162\n",
       "std          3.860800\n",
       "min          1.000000\n",
       "25%          6.000000\n",
       "50%         10.000000\n",
       "75%         12.000000\n",
       "max         20.000000\n",
       "Name: event, dtype: float64"
      ]
     },
     "execution_count": 42,
     "metadata": {},
     "output_type": "execute_result"
    }
   ],
   "source": [
    "building_per_user['event'].describe()"
   ]
  },
  {
   "cell_type": "markdown",
   "id": "75994c4d",
   "metadata": {},
   "source": [
    "Больше половины пользователей построило за время наблюдений 10-12 зданий. И не менее четверти игроков построили больше 6. Неплохой результат."
   ]
  },
  {
   "cell_type": "markdown",
   "id": "e7164311",
   "metadata": {},
   "source": [
    "### Вывод\n",
    "\n",
    "Самый большой мой вопрос в этом пункте: что случилось с assembly_shop? Не может быть такого, что в течение недели его строили по 7 тысяч раз, а потом резко перестали сами по себе. Что-то случилось со зданием. Это нужно проверить.\n",
    "\n",
    "В целом, до следующего уровня дошли 43% игроков, из них 14% через реализацию проекта, а 29% - через победу над врагом.\n",
    "\n",
    "Резкие скачки в строительстве зданий обуславливаются приростом пользователей от рекламы."
   ]
  },
  {
   "cell_type": "markdown",
   "id": "c189f5c3",
   "metadata": {},
   "source": [
    "<div class=\"alert alert-success\">\n",
    "<b> 🤌  Комментарий тимлида </b>  \n",
    "    \n",
    "Хорошо, что так щедро наполняешь выводы своими рассуждениями. Это позволяет читателю погрузиться в работу, даже если он не сильно разбирается коде\n",
    "    \n",
    "![](https://i.gifer.com/FQY.gif)\n",
    "    \n",
    "    \n",
    "\n",
    "    \n",
    "</div>"
   ]
  },
  {
   "cell_type": "markdown",
   "id": "c9d698af",
   "metadata": {},
   "source": [
    "## Проверка гипотез"
   ]
  },
  {
   "cell_type": "markdown",
   "id": "f21ff110",
   "metadata": {},
   "source": [
    "### Первая гипотеза\n",
    "\n",
    "Гипотеза Н0: \"Среднее время прохождения уровня пользователями, которые заканчивают уровень через реализацию проекта, равно среднему времени прохождения уровня пользователями, которые заканчивают уровень победой над другим игроком\".\n",
    "\n",
    "Гипотеза Н1: \"Среднее время прохождения уровня пользователями, которые заканчивают уровень через реализацию проекта, отличается от среднего времени прохождения уровня пользователями, которые заканчивают уровень победой над другим игроком\".\n",
    "\n",
    "Выделим из датафрейма всех пользователей, кто дошёл до завершения уровня."
   ]
  },
  {
   "cell_type": "code",
   "execution_count": 43,
   "id": "c54cc98b",
   "metadata": {
    "scrolled": true
   },
   "outputs": [
    {
     "data": {
      "text/html": [
       "<div>\n",
       "<style scoped>\n",
       "    .dataframe tbody tr th:only-of-type {\n",
       "        vertical-align: middle;\n",
       "    }\n",
       "\n",
       "    .dataframe tbody tr th {\n",
       "        vertical-align: top;\n",
       "    }\n",
       "\n",
       "    .dataframe thead th {\n",
       "        text-align: right;\n",
       "    }\n",
       "</style>\n",
       "<table border=\"1\" class=\"dataframe\">\n",
       "  <thead>\n",
       "    <tr style=\"text-align: right;\">\n",
       "      <th></th>\n",
       "      <th>event_datetime</th>\n",
       "      <th>event</th>\n",
       "      <th>building_type</th>\n",
       "      <th>user_id</th>\n",
       "      <th>project_type</th>\n",
       "      <th>date</th>\n",
       "    </tr>\n",
       "  </thead>\n",
       "  <tbody>\n",
       "    <tr>\n",
       "      <th>6659</th>\n",
       "      <td>2020-05-04 19:47:29</td>\n",
       "      <td>finished_stage_1</td>\n",
       "      <td>NaN</td>\n",
       "      <td>ced7b368-818f-48f6-9461-2346de0892c5</td>\n",
       "      <td>NaN</td>\n",
       "      <td>2020-05-04</td>\n",
       "    </tr>\n",
       "    <tr>\n",
       "      <th>13134</th>\n",
       "      <td>2020-05-05 13:22:09</td>\n",
       "      <td>finished_stage_1</td>\n",
       "      <td>NaN</td>\n",
       "      <td>7ef7fc89-2779-46ea-b328-9e5035b83af5</td>\n",
       "      <td>NaN</td>\n",
       "      <td>2020-05-05</td>\n",
       "    </tr>\n",
       "    <tr>\n",
       "      <th>15274</th>\n",
       "      <td>2020-05-05 18:54:37</td>\n",
       "      <td>finished_stage_1</td>\n",
       "      <td>NaN</td>\n",
       "      <td>70db22b3-c2f4-43bc-94ea-51c8d2904a29</td>\n",
       "      <td>NaN</td>\n",
       "      <td>2020-05-05</td>\n",
       "    </tr>\n",
       "    <tr>\n",
       "      <th>16284</th>\n",
       "      <td>2020-05-05 21:27:29</td>\n",
       "      <td>finished_stage_1</td>\n",
       "      <td>NaN</td>\n",
       "      <td>903fc9ef-ba97-4b12-9d5c-ac8d602fbd8b</td>\n",
       "      <td>NaN</td>\n",
       "      <td>2020-05-05</td>\n",
       "    </tr>\n",
       "    <tr>\n",
       "      <th>19650</th>\n",
       "      <td>2020-05-06 06:02:22</td>\n",
       "      <td>finished_stage_1</td>\n",
       "      <td>NaN</td>\n",
       "      <td>58e077ba-feb1-4556-a5a0-d96bd04efa39</td>\n",
       "      <td>NaN</td>\n",
       "      <td>2020-05-06</td>\n",
       "    </tr>\n",
       "    <tr>\n",
       "      <th>...</th>\n",
       "      <td>...</td>\n",
       "      <td>...</td>\n",
       "      <td>...</td>\n",
       "      <td>...</td>\n",
       "      <td>...</td>\n",
       "      <td>...</td>\n",
       "    </tr>\n",
       "    <tr>\n",
       "      <th>135631</th>\n",
       "      <td>2020-06-04 15:50:38</td>\n",
       "      <td>finished_stage_1</td>\n",
       "      <td>NaN</td>\n",
       "      <td>22cce310-fe10-41a2-941b-9c3d63327fea</td>\n",
       "      <td>NaN</td>\n",
       "      <td>2020-06-04</td>\n",
       "    </tr>\n",
       "    <tr>\n",
       "      <th>135632</th>\n",
       "      <td>2020-06-04 17:56:14</td>\n",
       "      <td>finished_stage_1</td>\n",
       "      <td>NaN</td>\n",
       "      <td>d477dde8-7c22-4f23-9c4f-4ec31a1aa4c8</td>\n",
       "      <td>NaN</td>\n",
       "      <td>2020-06-04</td>\n",
       "    </tr>\n",
       "    <tr>\n",
       "      <th>135635</th>\n",
       "      <td>2020-06-05 02:25:12</td>\n",
       "      <td>finished_stage_1</td>\n",
       "      <td>NaN</td>\n",
       "      <td>515c1952-99aa-4bca-a7ea-d0449eb5385a</td>\n",
       "      <td>NaN</td>\n",
       "      <td>2020-06-05</td>\n",
       "    </tr>\n",
       "    <tr>\n",
       "      <th>135637</th>\n",
       "      <td>2020-06-05 12:12:27</td>\n",
       "      <td>finished_stage_1</td>\n",
       "      <td>NaN</td>\n",
       "      <td>32572adb-900f-4b5d-a453-1eb1e6d88d8b</td>\n",
       "      <td>NaN</td>\n",
       "      <td>2020-06-05</td>\n",
       "    </tr>\n",
       "    <tr>\n",
       "      <th>135638</th>\n",
       "      <td>2020-06-05 12:32:49</td>\n",
       "      <td>finished_stage_1</td>\n",
       "      <td>NaN</td>\n",
       "      <td>f21d179f-1c4b-437e-b9c6-ab1976907195</td>\n",
       "      <td>NaN</td>\n",
       "      <td>2020-06-05</td>\n",
       "    </tr>\n",
       "  </tbody>\n",
       "</table>\n",
       "<p>5817 rows × 6 columns</p>\n",
       "</div>"
      ],
      "text/plain": [
       "            event_datetime             event building_type  \\\n",
       "6659   2020-05-04 19:47:29  finished_stage_1           NaN   \n",
       "13134  2020-05-05 13:22:09  finished_stage_1           NaN   \n",
       "15274  2020-05-05 18:54:37  finished_stage_1           NaN   \n",
       "16284  2020-05-05 21:27:29  finished_stage_1           NaN   \n",
       "19650  2020-05-06 06:02:22  finished_stage_1           NaN   \n",
       "...                    ...               ...           ...   \n",
       "135631 2020-06-04 15:50:38  finished_stage_1           NaN   \n",
       "135632 2020-06-04 17:56:14  finished_stage_1           NaN   \n",
       "135635 2020-06-05 02:25:12  finished_stage_1           NaN   \n",
       "135637 2020-06-05 12:12:27  finished_stage_1           NaN   \n",
       "135638 2020-06-05 12:32:49  finished_stage_1           NaN   \n",
       "\n",
       "                                     user_id project_type        date  \n",
       "6659    ced7b368-818f-48f6-9461-2346de0892c5          NaN  2020-05-04  \n",
       "13134   7ef7fc89-2779-46ea-b328-9e5035b83af5          NaN  2020-05-05  \n",
       "15274   70db22b3-c2f4-43bc-94ea-51c8d2904a29          NaN  2020-05-05  \n",
       "16284   903fc9ef-ba97-4b12-9d5c-ac8d602fbd8b          NaN  2020-05-05  \n",
       "19650   58e077ba-feb1-4556-a5a0-d96bd04efa39          NaN  2020-05-06  \n",
       "...                                      ...          ...         ...  \n",
       "135631  22cce310-fe10-41a2-941b-9c3d63327fea          NaN  2020-06-04  \n",
       "135632  d477dde8-7c22-4f23-9c4f-4ec31a1aa4c8          NaN  2020-06-04  \n",
       "135635  515c1952-99aa-4bca-a7ea-d0449eb5385a          NaN  2020-06-05  \n",
       "135637  32572adb-900f-4b5d-a453-1eb1e6d88d8b          NaN  2020-06-05  \n",
       "135638  f21d179f-1c4b-437e-b9c6-ab1976907195          NaN  2020-06-05  \n",
       "\n",
       "[5817 rows x 6 columns]"
      ]
     },
     "execution_count": 43,
     "metadata": {},
     "output_type": "execute_result"
    }
   ],
   "source": [
    "finalists = actions.query('event == \"finished_stage_1\"')\n",
    "finalists"
   ]
  },
  {
   "cell_type": "markdown",
   "id": "b72deaab",
   "metadata": {},
   "source": [
    "Теперь выделим из датафрейма всех, кто закончил уровень через выполнения проекта (ПвЕ игроки)."
   ]
  },
  {
   "cell_type": "code",
   "execution_count": 44,
   "id": "e6a78cba",
   "metadata": {},
   "outputs": [
    {
     "data": {
      "text/html": [
       "<div>\n",
       "<style scoped>\n",
       "    .dataframe tbody tr th:only-of-type {\n",
       "        vertical-align: middle;\n",
       "    }\n",
       "\n",
       "    .dataframe tbody tr th {\n",
       "        vertical-align: top;\n",
       "    }\n",
       "\n",
       "    .dataframe thead th {\n",
       "        text-align: right;\n",
       "    }\n",
       "</style>\n",
       "<table border=\"1\" class=\"dataframe\">\n",
       "  <thead>\n",
       "    <tr style=\"text-align: right;\">\n",
       "      <th></th>\n",
       "      <th>event_datetime</th>\n",
       "      <th>event</th>\n",
       "      <th>building_type</th>\n",
       "      <th>user_id</th>\n",
       "      <th>project_type</th>\n",
       "      <th>date</th>\n",
       "    </tr>\n",
       "  </thead>\n",
       "  <tbody>\n",
       "    <tr>\n",
       "      <th>47121</th>\n",
       "      <td>2020-05-08 18:10:25</td>\n",
       "      <td>project</td>\n",
       "      <td>NaN</td>\n",
       "      <td>e3c66498-9d45-4000-9392-f81e6796e7da</td>\n",
       "      <td>satellite_orbital_assembly</td>\n",
       "      <td>2020-05-08</td>\n",
       "    </tr>\n",
       "    <tr>\n",
       "      <th>57398</th>\n",
       "      <td>2020-05-09 13:49:11</td>\n",
       "      <td>project</td>\n",
       "      <td>NaN</td>\n",
       "      <td>936e7af6-8338-4703-a1df-fc6c3f5b8e34</td>\n",
       "      <td>satellite_orbital_assembly</td>\n",
       "      <td>2020-05-09</td>\n",
       "    </tr>\n",
       "    <tr>\n",
       "      <th>58797</th>\n",
       "      <td>2020-05-09 16:19:33</td>\n",
       "      <td>project</td>\n",
       "      <td>NaN</td>\n",
       "      <td>a4491c86-c498-4f74-a56e-65c136d0e9a1</td>\n",
       "      <td>satellite_orbital_assembly</td>\n",
       "      <td>2020-05-09</td>\n",
       "    </tr>\n",
       "    <tr>\n",
       "      <th>61174</th>\n",
       "      <td>2020-05-09 20:29:01</td>\n",
       "      <td>project</td>\n",
       "      <td>NaN</td>\n",
       "      <td>85d9e675-562b-4329-8bbd-14d3b39096be</td>\n",
       "      <td>satellite_orbital_assembly</td>\n",
       "      <td>2020-05-09</td>\n",
       "    </tr>\n",
       "    <tr>\n",
       "      <th>63770</th>\n",
       "      <td>2020-05-10 00:57:47</td>\n",
       "      <td>project</td>\n",
       "      <td>NaN</td>\n",
       "      <td>1889ca71-3c57-4e61-9ea6-a711971bbf0a</td>\n",
       "      <td>satellite_orbital_assembly</td>\n",
       "      <td>2020-05-10</td>\n",
       "    </tr>\n",
       "    <tr>\n",
       "      <th>...</th>\n",
       "      <td>...</td>\n",
       "      <td>...</td>\n",
       "      <td>...</td>\n",
       "      <td>...</td>\n",
       "      <td>...</td>\n",
       "      <td>...</td>\n",
       "    </tr>\n",
       "    <tr>\n",
       "      <th>135601</th>\n",
       "      <td>2020-06-02 03:04:42</td>\n",
       "      <td>project</td>\n",
       "      <td>NaN</td>\n",
       "      <td>9d98001c-7e14-40d7-896e-46b3047365fd</td>\n",
       "      <td>satellite_orbital_assembly</td>\n",
       "      <td>2020-06-02</td>\n",
       "    </tr>\n",
       "    <tr>\n",
       "      <th>135602</th>\n",
       "      <td>2020-06-02 06:21:03</td>\n",
       "      <td>project</td>\n",
       "      <td>NaN</td>\n",
       "      <td>df4a1e13-eba9-4928-a7cf-ee303d6f80f9</td>\n",
       "      <td>satellite_orbital_assembly</td>\n",
       "      <td>2020-06-02</td>\n",
       "    </tr>\n",
       "    <tr>\n",
       "      <th>135608</th>\n",
       "      <td>2020-06-02 17:17:28</td>\n",
       "      <td>project</td>\n",
       "      <td>NaN</td>\n",
       "      <td>82e46f34-e243-4728-8e20-2e171fc33ea4</td>\n",
       "      <td>satellite_orbital_assembly</td>\n",
       "      <td>2020-06-02</td>\n",
       "    </tr>\n",
       "    <tr>\n",
       "      <th>135616</th>\n",
       "      <td>2020-06-03 09:46:04</td>\n",
       "      <td>project</td>\n",
       "      <td>NaN</td>\n",
       "      <td>fe032991-71e0-48c5-889f-4c3805ba4c9b</td>\n",
       "      <td>satellite_orbital_assembly</td>\n",
       "      <td>2020-06-03</td>\n",
       "    </tr>\n",
       "    <tr>\n",
       "      <th>135629</th>\n",
       "      <td>2020-06-04 08:29:42</td>\n",
       "      <td>project</td>\n",
       "      <td>NaN</td>\n",
       "      <td>d477dde8-7c22-4f23-9c4f-4ec31a1aa4c8</td>\n",
       "      <td>satellite_orbital_assembly</td>\n",
       "      <td>2020-06-04</td>\n",
       "    </tr>\n",
       "  </tbody>\n",
       "</table>\n",
       "<p>1866 rows × 6 columns</p>\n",
       "</div>"
      ],
      "text/plain": [
       "            event_datetime    event building_type  \\\n",
       "47121  2020-05-08 18:10:25  project           NaN   \n",
       "57398  2020-05-09 13:49:11  project           NaN   \n",
       "58797  2020-05-09 16:19:33  project           NaN   \n",
       "61174  2020-05-09 20:29:01  project           NaN   \n",
       "63770  2020-05-10 00:57:47  project           NaN   \n",
       "...                    ...      ...           ...   \n",
       "135601 2020-06-02 03:04:42  project           NaN   \n",
       "135602 2020-06-02 06:21:03  project           NaN   \n",
       "135608 2020-06-02 17:17:28  project           NaN   \n",
       "135616 2020-06-03 09:46:04  project           NaN   \n",
       "135629 2020-06-04 08:29:42  project           NaN   \n",
       "\n",
       "                                     user_id                project_type  \\\n",
       "47121   e3c66498-9d45-4000-9392-f81e6796e7da  satellite_orbital_assembly   \n",
       "57398   936e7af6-8338-4703-a1df-fc6c3f5b8e34  satellite_orbital_assembly   \n",
       "58797   a4491c86-c498-4f74-a56e-65c136d0e9a1  satellite_orbital_assembly   \n",
       "61174   85d9e675-562b-4329-8bbd-14d3b39096be  satellite_orbital_assembly   \n",
       "63770   1889ca71-3c57-4e61-9ea6-a711971bbf0a  satellite_orbital_assembly   \n",
       "...                                      ...                         ...   \n",
       "135601  9d98001c-7e14-40d7-896e-46b3047365fd  satellite_orbital_assembly   \n",
       "135602  df4a1e13-eba9-4928-a7cf-ee303d6f80f9  satellite_orbital_assembly   \n",
       "135608  82e46f34-e243-4728-8e20-2e171fc33ea4  satellite_orbital_assembly   \n",
       "135616  fe032991-71e0-48c5-889f-4c3805ba4c9b  satellite_orbital_assembly   \n",
       "135629  d477dde8-7c22-4f23-9c4f-4ec31a1aa4c8  satellite_orbital_assembly   \n",
       "\n",
       "              date  \n",
       "47121   2020-05-08  \n",
       "57398   2020-05-09  \n",
       "58797   2020-05-09  \n",
       "61174   2020-05-09  \n",
       "63770   2020-05-10  \n",
       "...            ...  \n",
       "135601  2020-06-02  \n",
       "135602  2020-06-02  \n",
       "135608  2020-06-02  \n",
       "135616  2020-06-03  \n",
       "135629  2020-06-04  \n",
       "\n",
       "[1866 rows x 6 columns]"
      ]
     },
     "execution_count": 44,
     "metadata": {},
     "output_type": "execute_result"
    }
   ],
   "source": [
    "pve_finalists = actions.query('event == \"project\"')\n",
    "pve_finalists"
   ]
  },
  {
   "cell_type": "markdown",
   "id": "02320af0",
   "metadata": {},
   "source": [
    "Выделим айди всех игроков из этой таблицы, чтобы проверить, есть ли они в списке прошедших уровень."
   ]
  },
  {
   "cell_type": "code",
   "execution_count": 45,
   "id": "d802b5ff",
   "metadata": {},
   "outputs": [],
   "source": [
    "pve_ids = list(pve_finalists['user_id'])"
   ]
  },
  {
   "cell_type": "code",
   "execution_count": 46,
   "id": "4d4b5033",
   "metadata": {},
   "outputs": [
    {
     "data": {
      "text/html": [
       "<div>\n",
       "<style scoped>\n",
       "    .dataframe tbody tr th:only-of-type {\n",
       "        vertical-align: middle;\n",
       "    }\n",
       "\n",
       "    .dataframe tbody tr th {\n",
       "        vertical-align: top;\n",
       "    }\n",
       "\n",
       "    .dataframe thead th {\n",
       "        text-align: right;\n",
       "    }\n",
       "</style>\n",
       "<table border=\"1\" class=\"dataframe\">\n",
       "  <thead>\n",
       "    <tr style=\"text-align: right;\">\n",
       "      <th></th>\n",
       "      <th>event_datetime</th>\n",
       "      <th>event</th>\n",
       "      <th>building_type</th>\n",
       "      <th>user_id</th>\n",
       "      <th>project_type</th>\n",
       "      <th>date</th>\n",
       "    </tr>\n",
       "  </thead>\n",
       "  <tbody>\n",
       "    <tr>\n",
       "      <th>64736</th>\n",
       "      <td>2020-05-10 02:37:50</td>\n",
       "      <td>finished_stage_1</td>\n",
       "      <td>NaN</td>\n",
       "      <td>9e57e5bb-49f4-4efb-991c-747d7a88e446</td>\n",
       "      <td>NaN</td>\n",
       "      <td>2020-05-10</td>\n",
       "    </tr>\n",
       "    <tr>\n",
       "      <th>69604</th>\n",
       "      <td>2020-05-10 10:30:22</td>\n",
       "      <td>finished_stage_1</td>\n",
       "      <td>NaN</td>\n",
       "      <td>e3c66498-9d45-4000-9392-f81e6796e7da</td>\n",
       "      <td>NaN</td>\n",
       "      <td>2020-05-10</td>\n",
       "    </tr>\n",
       "    <tr>\n",
       "      <th>72209</th>\n",
       "      <td>2020-05-10 14:40:04</td>\n",
       "      <td>finished_stage_1</td>\n",
       "      <td>NaN</td>\n",
       "      <td>a4491c86-c498-4f74-a56e-65c136d0e9a1</td>\n",
       "      <td>NaN</td>\n",
       "      <td>2020-05-10</td>\n",
       "    </tr>\n",
       "    <tr>\n",
       "      <th>79105</th>\n",
       "      <td>2020-05-11 02:10:33</td>\n",
       "      <td>finished_stage_1</td>\n",
       "      <td>NaN</td>\n",
       "      <td>9f63fad6-17b0-493f-938b-8d19e6d6c38c</td>\n",
       "      <td>NaN</td>\n",
       "      <td>2020-05-11</td>\n",
       "    </tr>\n",
       "    <tr>\n",
       "      <th>81341</th>\n",
       "      <td>2020-05-11 08:37:32</td>\n",
       "      <td>finished_stage_1</td>\n",
       "      <td>NaN</td>\n",
       "      <td>ee21905b-ab5a-44c6-9196-e5c9f8fada19</td>\n",
       "      <td>NaN</td>\n",
       "      <td>2020-05-11</td>\n",
       "    </tr>\n",
       "    <tr>\n",
       "      <th>...</th>\n",
       "      <td>...</td>\n",
       "      <td>...</td>\n",
       "      <td>...</td>\n",
       "      <td>...</td>\n",
       "      <td>...</td>\n",
       "      <td>...</td>\n",
       "    </tr>\n",
       "    <tr>\n",
       "      <th>135610</th>\n",
       "      <td>2020-06-02 20:53:20</td>\n",
       "      <td>finished_stage_1</td>\n",
       "      <td>NaN</td>\n",
       "      <td>9df154c3-fb77-4f8a-a281-0457c0b11cec</td>\n",
       "      <td>NaN</td>\n",
       "      <td>2020-06-02</td>\n",
       "    </tr>\n",
       "    <tr>\n",
       "      <th>135612</th>\n",
       "      <td>2020-06-02 23:31:08</td>\n",
       "      <td>finished_stage_1</td>\n",
       "      <td>NaN</td>\n",
       "      <td>9d98001c-7e14-40d7-896e-46b3047365fd</td>\n",
       "      <td>NaN</td>\n",
       "      <td>2020-06-02</td>\n",
       "    </tr>\n",
       "    <tr>\n",
       "      <th>135619</th>\n",
       "      <td>2020-06-03 14:41:22</td>\n",
       "      <td>finished_stage_1</td>\n",
       "      <td>NaN</td>\n",
       "      <td>82e46f34-e243-4728-8e20-2e171fc33ea4</td>\n",
       "      <td>NaN</td>\n",
       "      <td>2020-06-03</td>\n",
       "    </tr>\n",
       "    <tr>\n",
       "      <th>135628</th>\n",
       "      <td>2020-06-04 08:03:27</td>\n",
       "      <td>finished_stage_1</td>\n",
       "      <td>NaN</td>\n",
       "      <td>fe032991-71e0-48c5-889f-4c3805ba4c9b</td>\n",
       "      <td>NaN</td>\n",
       "      <td>2020-06-04</td>\n",
       "    </tr>\n",
       "    <tr>\n",
       "      <th>135632</th>\n",
       "      <td>2020-06-04 17:56:14</td>\n",
       "      <td>finished_stage_1</td>\n",
       "      <td>NaN</td>\n",
       "      <td>d477dde8-7c22-4f23-9c4f-4ec31a1aa4c8</td>\n",
       "      <td>NaN</td>\n",
       "      <td>2020-06-04</td>\n",
       "    </tr>\n",
       "  </tbody>\n",
       "</table>\n",
       "<p>1866 rows × 6 columns</p>\n",
       "</div>"
      ],
      "text/plain": [
       "            event_datetime             event building_type  \\\n",
       "64736  2020-05-10 02:37:50  finished_stage_1           NaN   \n",
       "69604  2020-05-10 10:30:22  finished_stage_1           NaN   \n",
       "72209  2020-05-10 14:40:04  finished_stage_1           NaN   \n",
       "79105  2020-05-11 02:10:33  finished_stage_1           NaN   \n",
       "81341  2020-05-11 08:37:32  finished_stage_1           NaN   \n",
       "...                    ...               ...           ...   \n",
       "135610 2020-06-02 20:53:20  finished_stage_1           NaN   \n",
       "135612 2020-06-02 23:31:08  finished_stage_1           NaN   \n",
       "135619 2020-06-03 14:41:22  finished_stage_1           NaN   \n",
       "135628 2020-06-04 08:03:27  finished_stage_1           NaN   \n",
       "135632 2020-06-04 17:56:14  finished_stage_1           NaN   \n",
       "\n",
       "                                     user_id project_type        date  \n",
       "64736   9e57e5bb-49f4-4efb-991c-747d7a88e446          NaN  2020-05-10  \n",
       "69604   e3c66498-9d45-4000-9392-f81e6796e7da          NaN  2020-05-10  \n",
       "72209   a4491c86-c498-4f74-a56e-65c136d0e9a1          NaN  2020-05-10  \n",
       "79105   9f63fad6-17b0-493f-938b-8d19e6d6c38c          NaN  2020-05-11  \n",
       "81341   ee21905b-ab5a-44c6-9196-e5c9f8fada19          NaN  2020-05-11  \n",
       "...                                      ...          ...         ...  \n",
       "135610  9df154c3-fb77-4f8a-a281-0457c0b11cec          NaN  2020-06-02  \n",
       "135612  9d98001c-7e14-40d7-896e-46b3047365fd          NaN  2020-06-02  \n",
       "135619  82e46f34-e243-4728-8e20-2e171fc33ea4          NaN  2020-06-03  \n",
       "135628  fe032991-71e0-48c5-889f-4c3805ba4c9b          NaN  2020-06-04  \n",
       "135632  d477dde8-7c22-4f23-9c4f-4ec31a1aa4c8          NaN  2020-06-04  \n",
       "\n",
       "[1866 rows x 6 columns]"
      ]
     },
     "execution_count": 46,
     "metadata": {},
     "output_type": "execute_result"
    }
   ],
   "source": [
    "pve_finalists = finalists[finalists['user_id'].isin(pve_ids)]\n",
    "pve_finalists"
   ]
  },
  {
   "cell_type": "markdown",
   "id": "e40e7611",
   "metadata": {},
   "source": [
    "Все пользователи, завершившие проект, завершили уровень. Вот и хорошо. Теперь по этому же фильтру получим список всех действий, которые совершали данные пользователи."
   ]
  },
  {
   "cell_type": "code",
   "execution_count": 47,
   "id": "bded402f",
   "metadata": {},
   "outputs": [
    {
     "data": {
      "text/html": [
       "<div>\n",
       "<style scoped>\n",
       "    .dataframe tbody tr th:only-of-type {\n",
       "        vertical-align: middle;\n",
       "    }\n",
       "\n",
       "    .dataframe tbody tr th {\n",
       "        vertical-align: top;\n",
       "    }\n",
       "\n",
       "    .dataframe thead th {\n",
       "        text-align: right;\n",
       "    }\n",
       "</style>\n",
       "<table border=\"1\" class=\"dataframe\">\n",
       "  <thead>\n",
       "    <tr style=\"text-align: right;\">\n",
       "      <th></th>\n",
       "      <th>event_datetime</th>\n",
       "      <th>event</th>\n",
       "      <th>building_type</th>\n",
       "      <th>user_id</th>\n",
       "      <th>project_type</th>\n",
       "      <th>date</th>\n",
       "    </tr>\n",
       "  </thead>\n",
       "  <tbody>\n",
       "    <tr>\n",
       "      <th>1</th>\n",
       "      <td>2020-05-04 00:00:03</td>\n",
       "      <td>building</td>\n",
       "      <td>assembly_shop</td>\n",
       "      <td>c07b1c10-f477-44dc-81dc-ec82254b1347</td>\n",
       "      <td>NaN</td>\n",
       "      <td>2020-05-04</td>\n",
       "    </tr>\n",
       "    <tr>\n",
       "      <th>8</th>\n",
       "      <td>2020-05-04 00:00:44</td>\n",
       "      <td>building</td>\n",
       "      <td>assembly_shop</td>\n",
       "      <td>65a92713-5969-48b1-8945-bfefa5063887</td>\n",
       "      <td>NaN</td>\n",
       "      <td>2020-05-04</td>\n",
       "    </tr>\n",
       "    <tr>\n",
       "      <th>9</th>\n",
       "      <td>2020-05-04 00:01:33</td>\n",
       "      <td>building</td>\n",
       "      <td>assembly_shop</td>\n",
       "      <td>fa352362-d258-472c-b295-2796ccc39fa3</td>\n",
       "      <td>NaN</td>\n",
       "      <td>2020-05-04</td>\n",
       "    </tr>\n",
       "    <tr>\n",
       "      <th>13</th>\n",
       "      <td>2020-05-04 00:02:56</td>\n",
       "      <td>building</td>\n",
       "      <td>assembly_shop</td>\n",
       "      <td>7b3b6554-7949-4065-9808-d6c79bdc2f58</td>\n",
       "      <td>NaN</td>\n",
       "      <td>2020-05-04</td>\n",
       "    </tr>\n",
       "    <tr>\n",
       "      <th>20</th>\n",
       "      <td>2020-05-04 00:03:46</td>\n",
       "      <td>building</td>\n",
       "      <td>assembly_shop</td>\n",
       "      <td>b374304d-2f74-4cc1-a4e2-500da44a06c7</td>\n",
       "      <td>NaN</td>\n",
       "      <td>2020-05-04</td>\n",
       "    </tr>\n",
       "    <tr>\n",
       "      <th>...</th>\n",
       "      <td>...</td>\n",
       "      <td>...</td>\n",
       "      <td>...</td>\n",
       "      <td>...</td>\n",
       "      <td>...</td>\n",
       "      <td>...</td>\n",
       "    </tr>\n",
       "    <tr>\n",
       "      <th>135619</th>\n",
       "      <td>2020-06-03 14:41:22</td>\n",
       "      <td>finished_stage_1</td>\n",
       "      <td>NaN</td>\n",
       "      <td>82e46f34-e243-4728-8e20-2e171fc33ea4</td>\n",
       "      <td>NaN</td>\n",
       "      <td>2020-06-03</td>\n",
       "    </tr>\n",
       "    <tr>\n",
       "      <th>135626</th>\n",
       "      <td>2020-06-04 05:18:54</td>\n",
       "      <td>building</td>\n",
       "      <td>research_center</td>\n",
       "      <td>d477dde8-7c22-4f23-9c4f-4ec31a1aa4c8</td>\n",
       "      <td>NaN</td>\n",
       "      <td>2020-06-04</td>\n",
       "    </tr>\n",
       "    <tr>\n",
       "      <th>135628</th>\n",
       "      <td>2020-06-04 08:03:27</td>\n",
       "      <td>finished_stage_1</td>\n",
       "      <td>NaN</td>\n",
       "      <td>fe032991-71e0-48c5-889f-4c3805ba4c9b</td>\n",
       "      <td>NaN</td>\n",
       "      <td>2020-06-04</td>\n",
       "    </tr>\n",
       "    <tr>\n",
       "      <th>135629</th>\n",
       "      <td>2020-06-04 08:29:42</td>\n",
       "      <td>project</td>\n",
       "      <td>NaN</td>\n",
       "      <td>d477dde8-7c22-4f23-9c4f-4ec31a1aa4c8</td>\n",
       "      <td>satellite_orbital_assembly</td>\n",
       "      <td>2020-06-04</td>\n",
       "    </tr>\n",
       "    <tr>\n",
       "      <th>135632</th>\n",
       "      <td>2020-06-04 17:56:14</td>\n",
       "      <td>finished_stage_1</td>\n",
       "      <td>NaN</td>\n",
       "      <td>d477dde8-7c22-4f23-9c4f-4ec31a1aa4c8</td>\n",
       "      <td>NaN</td>\n",
       "      <td>2020-06-04</td>\n",
       "    </tr>\n",
       "  </tbody>\n",
       "</table>\n",
       "<p>27333 rows × 6 columns</p>\n",
       "</div>"
      ],
      "text/plain": [
       "            event_datetime             event    building_type  \\\n",
       "1      2020-05-04 00:00:03          building    assembly_shop   \n",
       "8      2020-05-04 00:00:44          building    assembly_shop   \n",
       "9      2020-05-04 00:01:33          building    assembly_shop   \n",
       "13     2020-05-04 00:02:56          building    assembly_shop   \n",
       "20     2020-05-04 00:03:46          building    assembly_shop   \n",
       "...                    ...               ...              ...   \n",
       "135619 2020-06-03 14:41:22  finished_stage_1              NaN   \n",
       "135626 2020-06-04 05:18:54          building  research_center   \n",
       "135628 2020-06-04 08:03:27  finished_stage_1              NaN   \n",
       "135629 2020-06-04 08:29:42           project              NaN   \n",
       "135632 2020-06-04 17:56:14  finished_stage_1              NaN   \n",
       "\n",
       "                                     user_id                project_type  \\\n",
       "1       c07b1c10-f477-44dc-81dc-ec82254b1347                         NaN   \n",
       "8       65a92713-5969-48b1-8945-bfefa5063887                         NaN   \n",
       "9       fa352362-d258-472c-b295-2796ccc39fa3                         NaN   \n",
       "13      7b3b6554-7949-4065-9808-d6c79bdc2f58                         NaN   \n",
       "20      b374304d-2f74-4cc1-a4e2-500da44a06c7                         NaN   \n",
       "...                                      ...                         ...   \n",
       "135619  82e46f34-e243-4728-8e20-2e171fc33ea4                         NaN   \n",
       "135626  d477dde8-7c22-4f23-9c4f-4ec31a1aa4c8                         NaN   \n",
       "135628  fe032991-71e0-48c5-889f-4c3805ba4c9b                         NaN   \n",
       "135629  d477dde8-7c22-4f23-9c4f-4ec31a1aa4c8  satellite_orbital_assembly   \n",
       "135632  d477dde8-7c22-4f23-9c4f-4ec31a1aa4c8                         NaN   \n",
       "\n",
       "              date  \n",
       "1       2020-05-04  \n",
       "8       2020-05-04  \n",
       "9       2020-05-04  \n",
       "13      2020-05-04  \n",
       "20      2020-05-04  \n",
       "...            ...  \n",
       "135619  2020-06-03  \n",
       "135626  2020-06-04  \n",
       "135628  2020-06-04  \n",
       "135629  2020-06-04  \n",
       "135632  2020-06-04  \n",
       "\n",
       "[27333 rows x 6 columns]"
      ]
     },
     "execution_count": 47,
     "metadata": {},
     "output_type": "execute_result"
    }
   ],
   "source": [
    "pve_dt = actions[actions['user_id'].isin(pve_ids)]\n",
    "pve_dt"
   ]
  },
  {
   "cell_type": "markdown",
   "id": "ce8270d6",
   "metadata": {},
   "source": [
    "Составим сводную таблицу, в которой выделим первый и последний дни активностей игроков, а затем посчитаем их лайфтайм."
   ]
  },
  {
   "cell_type": "code",
   "execution_count": 48,
   "id": "654cd9f6",
   "metadata": {},
   "outputs": [
    {
     "data": {
      "text/html": [
       "<div>\n",
       "<style scoped>\n",
       "    .dataframe tbody tr th:only-of-type {\n",
       "        vertical-align: middle;\n",
       "    }\n",
       "\n",
       "    .dataframe tbody tr th {\n",
       "        vertical-align: top;\n",
       "    }\n",
       "\n",
       "    .dataframe thead th {\n",
       "        text-align: right;\n",
       "    }\n",
       "</style>\n",
       "<table border=\"1\" class=\"dataframe\">\n",
       "  <thead>\n",
       "    <tr style=\"text-align: right;\">\n",
       "      <th></th>\n",
       "      <th>user_id</th>\n",
       "      <th>min_date</th>\n",
       "      <th>max_date</th>\n",
       "      <th>lifetime</th>\n",
       "    </tr>\n",
       "  </thead>\n",
       "  <tbody>\n",
       "    <tr>\n",
       "      <th>0</th>\n",
       "      <td>006380d6-67a6-45de-ab1e-6eb54ad8dbe8</td>\n",
       "      <td>2020-05-04</td>\n",
       "      <td>2020-05-16</td>\n",
       "      <td>12.0</td>\n",
       "    </tr>\n",
       "    <tr>\n",
       "      <th>1</th>\n",
       "      <td>00be7371-fa79-4fbd-b8e7-8ba32e3f8f82</td>\n",
       "      <td>2020-05-08</td>\n",
       "      <td>2020-05-24</td>\n",
       "      <td>16.0</td>\n",
       "    </tr>\n",
       "    <tr>\n",
       "      <th>2</th>\n",
       "      <td>00c2b9f2-2615-439c-aed0-6974e4c6c1c1</td>\n",
       "      <td>2020-05-07</td>\n",
       "      <td>2020-05-27</td>\n",
       "      <td>20.0</td>\n",
       "    </tr>\n",
       "    <tr>\n",
       "      <th>3</th>\n",
       "      <td>00de2809-403e-4476-a2f7-ca1b11700190</td>\n",
       "      <td>2020-05-04</td>\n",
       "      <td>2020-05-18</td>\n",
       "      <td>14.0</td>\n",
       "    </tr>\n",
       "    <tr>\n",
       "      <th>4</th>\n",
       "      <td>00e83261-5fd4-4939-9616-802b5a0202c6</td>\n",
       "      <td>2020-05-05</td>\n",
       "      <td>2020-05-20</td>\n",
       "      <td>15.0</td>\n",
       "    </tr>\n",
       "    <tr>\n",
       "      <th>...</th>\n",
       "      <td>...</td>\n",
       "      <td>...</td>\n",
       "      <td>...</td>\n",
       "      <td>...</td>\n",
       "    </tr>\n",
       "    <tr>\n",
       "      <th>1861</th>\n",
       "      <td>ff50f63a-c4b3-494e-8bf9-3f19dbfc513e</td>\n",
       "      <td>2020-05-04</td>\n",
       "      <td>2020-05-23</td>\n",
       "      <td>19.0</td>\n",
       "    </tr>\n",
       "    <tr>\n",
       "      <th>1862</th>\n",
       "      <td>ff60fcd1-4329-494e-b82d-461fbdf5b5eb</td>\n",
       "      <td>2020-05-05</td>\n",
       "      <td>2020-05-13</td>\n",
       "      <td>8.0</td>\n",
       "    </tr>\n",
       "    <tr>\n",
       "      <th>1863</th>\n",
       "      <td>ff83bdd8-f49a-49fd-8aad-9fa1fb30d516</td>\n",
       "      <td>2020-05-04</td>\n",
       "      <td>2020-05-18</td>\n",
       "      <td>14.0</td>\n",
       "    </tr>\n",
       "    <tr>\n",
       "      <th>1864</th>\n",
       "      <td>ff841992-d93b-462e-bc6e-18c24a514f36</td>\n",
       "      <td>2020-05-05</td>\n",
       "      <td>2020-05-16</td>\n",
       "      <td>11.0</td>\n",
       "    </tr>\n",
       "    <tr>\n",
       "      <th>1865</th>\n",
       "      <td>ffff69cc-fec1-4fd3-9f98-93be1112a6b8</td>\n",
       "      <td>2020-05-08</td>\n",
       "      <td>2020-05-25</td>\n",
       "      <td>17.0</td>\n",
       "    </tr>\n",
       "  </tbody>\n",
       "</table>\n",
       "<p>1866 rows × 4 columns</p>\n",
       "</div>"
      ],
      "text/plain": [
       "                                   user_id    min_date    max_date  lifetime\n",
       "0     006380d6-67a6-45de-ab1e-6eb54ad8dbe8  2020-05-04  2020-05-16      12.0\n",
       "1     00be7371-fa79-4fbd-b8e7-8ba32e3f8f82  2020-05-08  2020-05-24      16.0\n",
       "2     00c2b9f2-2615-439c-aed0-6974e4c6c1c1  2020-05-07  2020-05-27      20.0\n",
       "3     00de2809-403e-4476-a2f7-ca1b11700190  2020-05-04  2020-05-18      14.0\n",
       "4     00e83261-5fd4-4939-9616-802b5a0202c6  2020-05-05  2020-05-20      15.0\n",
       "...                                    ...         ...         ...       ...\n",
       "1861  ff50f63a-c4b3-494e-8bf9-3f19dbfc513e  2020-05-04  2020-05-23      19.0\n",
       "1862  ff60fcd1-4329-494e-b82d-461fbdf5b5eb  2020-05-05  2020-05-13       8.0\n",
       "1863  ff83bdd8-f49a-49fd-8aad-9fa1fb30d516  2020-05-04  2020-05-18      14.0\n",
       "1864  ff841992-d93b-462e-bc6e-18c24a514f36  2020-05-05  2020-05-16      11.0\n",
       "1865  ffff69cc-fec1-4fd3-9f98-93be1112a6b8  2020-05-08  2020-05-25      17.0\n",
       "\n",
       "[1866 rows x 4 columns]"
      ]
     },
     "execution_count": 48,
     "metadata": {},
     "output_type": "execute_result"
    }
   ],
   "source": [
    "pve_mean_time = pve_dt.pivot_table(index=['user_id'], values='date', aggfunc=['min', 'max']).reset_index()\n",
    "pve_mean_time.columns = ['user_id', 'min_date', 'max_date']\n",
    "pve_mean_time['lifetime'] = pve_mean_time['max_date'] - pve_mean_time['min_date']\n",
    "pve_mean_time['lifetime'] = pve_mean_time['lifetime'].astype('timedelta64[D]')\n",
    "pve_mean_time"
   ]
  },
  {
   "cell_type": "markdown",
   "id": "6aaaaf86",
   "metadata": {},
   "source": [
    "Повторим те же действия для игроков, которые завершили уровень через победу над другим игроком (ПвП), только их айди найдём методом исключения: уберём из датафрейма финалистов айди тех, кто завершил уровень через проект, так остануться наши бойцы."
   ]
  },
  {
   "cell_type": "code",
   "execution_count": 49,
   "id": "bd5c4b33",
   "metadata": {},
   "outputs": [
    {
     "data": {
      "text/html": [
       "<div>\n",
       "<style scoped>\n",
       "    .dataframe tbody tr th:only-of-type {\n",
       "        vertical-align: middle;\n",
       "    }\n",
       "\n",
       "    .dataframe tbody tr th {\n",
       "        vertical-align: top;\n",
       "    }\n",
       "\n",
       "    .dataframe thead th {\n",
       "        text-align: right;\n",
       "    }\n",
       "</style>\n",
       "<table border=\"1\" class=\"dataframe\">\n",
       "  <thead>\n",
       "    <tr style=\"text-align: right;\">\n",
       "      <th></th>\n",
       "      <th>event_datetime</th>\n",
       "      <th>event</th>\n",
       "      <th>building_type</th>\n",
       "      <th>user_id</th>\n",
       "      <th>project_type</th>\n",
       "      <th>date</th>\n",
       "    </tr>\n",
       "  </thead>\n",
       "  <tbody>\n",
       "    <tr>\n",
       "      <th>6659</th>\n",
       "      <td>2020-05-04 19:47:29</td>\n",
       "      <td>finished_stage_1</td>\n",
       "      <td>NaN</td>\n",
       "      <td>ced7b368-818f-48f6-9461-2346de0892c5</td>\n",
       "      <td>NaN</td>\n",
       "      <td>2020-05-04</td>\n",
       "    </tr>\n",
       "    <tr>\n",
       "      <th>13134</th>\n",
       "      <td>2020-05-05 13:22:09</td>\n",
       "      <td>finished_stage_1</td>\n",
       "      <td>NaN</td>\n",
       "      <td>7ef7fc89-2779-46ea-b328-9e5035b83af5</td>\n",
       "      <td>NaN</td>\n",
       "      <td>2020-05-05</td>\n",
       "    </tr>\n",
       "    <tr>\n",
       "      <th>15274</th>\n",
       "      <td>2020-05-05 18:54:37</td>\n",
       "      <td>finished_stage_1</td>\n",
       "      <td>NaN</td>\n",
       "      <td>70db22b3-c2f4-43bc-94ea-51c8d2904a29</td>\n",
       "      <td>NaN</td>\n",
       "      <td>2020-05-05</td>\n",
       "    </tr>\n",
       "    <tr>\n",
       "      <th>16284</th>\n",
       "      <td>2020-05-05 21:27:29</td>\n",
       "      <td>finished_stage_1</td>\n",
       "      <td>NaN</td>\n",
       "      <td>903fc9ef-ba97-4b12-9d5c-ac8d602fbd8b</td>\n",
       "      <td>NaN</td>\n",
       "      <td>2020-05-05</td>\n",
       "    </tr>\n",
       "    <tr>\n",
       "      <th>19650</th>\n",
       "      <td>2020-05-06 06:02:22</td>\n",
       "      <td>finished_stage_1</td>\n",
       "      <td>NaN</td>\n",
       "      <td>58e077ba-feb1-4556-a5a0-d96bd04efa39</td>\n",
       "      <td>NaN</td>\n",
       "      <td>2020-05-06</td>\n",
       "    </tr>\n",
       "    <tr>\n",
       "      <th>...</th>\n",
       "      <td>...</td>\n",
       "      <td>...</td>\n",
       "      <td>...</td>\n",
       "      <td>...</td>\n",
       "      <td>...</td>\n",
       "      <td>...</td>\n",
       "    </tr>\n",
       "    <tr>\n",
       "      <th>135627</th>\n",
       "      <td>2020-06-04 06:44:02</td>\n",
       "      <td>finished_stage_1</td>\n",
       "      <td>NaN</td>\n",
       "      <td>18fc6a86-00e7-4f3e-96da-bdb6d550415c</td>\n",
       "      <td>NaN</td>\n",
       "      <td>2020-06-04</td>\n",
       "    </tr>\n",
       "    <tr>\n",
       "      <th>135631</th>\n",
       "      <td>2020-06-04 15:50:38</td>\n",
       "      <td>finished_stage_1</td>\n",
       "      <td>NaN</td>\n",
       "      <td>22cce310-fe10-41a2-941b-9c3d63327fea</td>\n",
       "      <td>NaN</td>\n",
       "      <td>2020-06-04</td>\n",
       "    </tr>\n",
       "    <tr>\n",
       "      <th>135635</th>\n",
       "      <td>2020-06-05 02:25:12</td>\n",
       "      <td>finished_stage_1</td>\n",
       "      <td>NaN</td>\n",
       "      <td>515c1952-99aa-4bca-a7ea-d0449eb5385a</td>\n",
       "      <td>NaN</td>\n",
       "      <td>2020-06-05</td>\n",
       "    </tr>\n",
       "    <tr>\n",
       "      <th>135637</th>\n",
       "      <td>2020-06-05 12:12:27</td>\n",
       "      <td>finished_stage_1</td>\n",
       "      <td>NaN</td>\n",
       "      <td>32572adb-900f-4b5d-a453-1eb1e6d88d8b</td>\n",
       "      <td>NaN</td>\n",
       "      <td>2020-06-05</td>\n",
       "    </tr>\n",
       "    <tr>\n",
       "      <th>135638</th>\n",
       "      <td>2020-06-05 12:32:49</td>\n",
       "      <td>finished_stage_1</td>\n",
       "      <td>NaN</td>\n",
       "      <td>f21d179f-1c4b-437e-b9c6-ab1976907195</td>\n",
       "      <td>NaN</td>\n",
       "      <td>2020-06-05</td>\n",
       "    </tr>\n",
       "  </tbody>\n",
       "</table>\n",
       "<p>3951 rows × 6 columns</p>\n",
       "</div>"
      ],
      "text/plain": [
       "            event_datetime             event building_type  \\\n",
       "6659   2020-05-04 19:47:29  finished_stage_1           NaN   \n",
       "13134  2020-05-05 13:22:09  finished_stage_1           NaN   \n",
       "15274  2020-05-05 18:54:37  finished_stage_1           NaN   \n",
       "16284  2020-05-05 21:27:29  finished_stage_1           NaN   \n",
       "19650  2020-05-06 06:02:22  finished_stage_1           NaN   \n",
       "...                    ...               ...           ...   \n",
       "135627 2020-06-04 06:44:02  finished_stage_1           NaN   \n",
       "135631 2020-06-04 15:50:38  finished_stage_1           NaN   \n",
       "135635 2020-06-05 02:25:12  finished_stage_1           NaN   \n",
       "135637 2020-06-05 12:12:27  finished_stage_1           NaN   \n",
       "135638 2020-06-05 12:32:49  finished_stage_1           NaN   \n",
       "\n",
       "                                     user_id project_type        date  \n",
       "6659    ced7b368-818f-48f6-9461-2346de0892c5          NaN  2020-05-04  \n",
       "13134   7ef7fc89-2779-46ea-b328-9e5035b83af5          NaN  2020-05-05  \n",
       "15274   70db22b3-c2f4-43bc-94ea-51c8d2904a29          NaN  2020-05-05  \n",
       "16284   903fc9ef-ba97-4b12-9d5c-ac8d602fbd8b          NaN  2020-05-05  \n",
       "19650   58e077ba-feb1-4556-a5a0-d96bd04efa39          NaN  2020-05-06  \n",
       "...                                      ...          ...         ...  \n",
       "135627  18fc6a86-00e7-4f3e-96da-bdb6d550415c          NaN  2020-06-04  \n",
       "135631  22cce310-fe10-41a2-941b-9c3d63327fea          NaN  2020-06-04  \n",
       "135635  515c1952-99aa-4bca-a7ea-d0449eb5385a          NaN  2020-06-05  \n",
       "135637  32572adb-900f-4b5d-a453-1eb1e6d88d8b          NaN  2020-06-05  \n",
       "135638  f21d179f-1c4b-437e-b9c6-ab1976907195          NaN  2020-06-05  \n",
       "\n",
       "[3951 rows x 6 columns]"
      ]
     },
     "execution_count": 49,
     "metadata": {},
     "output_type": "execute_result"
    }
   ],
   "source": [
    "pvp_finalists = finalists[~finalists['user_id'].isin(pve_ids)]\n",
    "pvp_finalists"
   ]
  },
  {
   "cell_type": "markdown",
   "id": "733dcc17",
   "metadata": {},
   "source": [
    "Получим список айди пользователей."
   ]
  },
  {
   "cell_type": "code",
   "execution_count": 50,
   "id": "7aa7c9a6",
   "metadata": {},
   "outputs": [],
   "source": [
    "pvp_ids = list(pvp_finalists['user_id'])"
   ]
  },
  {
   "cell_type": "markdown",
   "id": "82e6832e",
   "metadata": {},
   "source": [
    "Применим фильтр по этим айди ко всему датафрейму, чтобы найти все совершенные этими игроками действия"
   ]
  },
  {
   "cell_type": "code",
   "execution_count": 51,
   "id": "eae804f0",
   "metadata": {},
   "outputs": [
    {
     "data": {
      "text/html": [
       "<div>\n",
       "<style scoped>\n",
       "    .dataframe tbody tr th:only-of-type {\n",
       "        vertical-align: middle;\n",
       "    }\n",
       "\n",
       "    .dataframe tbody tr th {\n",
       "        vertical-align: top;\n",
       "    }\n",
       "\n",
       "    .dataframe thead th {\n",
       "        text-align: right;\n",
       "    }\n",
       "</style>\n",
       "<table border=\"1\" class=\"dataframe\">\n",
       "  <thead>\n",
       "    <tr style=\"text-align: right;\">\n",
       "      <th></th>\n",
       "      <th>event_datetime</th>\n",
       "      <th>event</th>\n",
       "      <th>building_type</th>\n",
       "      <th>user_id</th>\n",
       "      <th>project_type</th>\n",
       "      <th>date</th>\n",
       "    </tr>\n",
       "  </thead>\n",
       "  <tbody>\n",
       "    <tr>\n",
       "      <th>2</th>\n",
       "      <td>2020-05-04 00:00:16</td>\n",
       "      <td>building</td>\n",
       "      <td>assembly_shop</td>\n",
       "      <td>6edd42cc-e753-4ff6-a947-2107cd560710</td>\n",
       "      <td>NaN</td>\n",
       "      <td>2020-05-04</td>\n",
       "    </tr>\n",
       "    <tr>\n",
       "      <th>4</th>\n",
       "      <td>2020-05-04 00:00:35</td>\n",
       "      <td>building</td>\n",
       "      <td>assembly_shop</td>\n",
       "      <td>cdc6bb92-0ccb-4490-9866-ef142f09139d</td>\n",
       "      <td>NaN</td>\n",
       "      <td>2020-05-04</td>\n",
       "    </tr>\n",
       "    <tr>\n",
       "      <th>6</th>\n",
       "      <td>2020-05-04 00:00:36</td>\n",
       "      <td>building</td>\n",
       "      <td>assembly_shop</td>\n",
       "      <td>4fe0f101-694b-4e31-9740-d1d87f7208ea</td>\n",
       "      <td>NaN</td>\n",
       "      <td>2020-05-04</td>\n",
       "    </tr>\n",
       "    <tr>\n",
       "      <th>11</th>\n",
       "      <td>2020-05-04 00:02:24</td>\n",
       "      <td>building</td>\n",
       "      <td>assembly_shop</td>\n",
       "      <td>9c200ece-3b74-44c4-8a3f-260f2486c5d7</td>\n",
       "      <td>NaN</td>\n",
       "      <td>2020-05-04</td>\n",
       "    </tr>\n",
       "    <tr>\n",
       "      <th>15</th>\n",
       "      <td>2020-05-04 00:03:10</td>\n",
       "      <td>building</td>\n",
       "      <td>assembly_shop</td>\n",
       "      <td>02bf92c2-17a0-4156-be88-2054fb6b7421</td>\n",
       "      <td>NaN</td>\n",
       "      <td>2020-05-04</td>\n",
       "    </tr>\n",
       "    <tr>\n",
       "      <th>...</th>\n",
       "      <td>...</td>\n",
       "      <td>...</td>\n",
       "      <td>...</td>\n",
       "      <td>...</td>\n",
       "      <td>...</td>\n",
       "      <td>...</td>\n",
       "    </tr>\n",
       "    <tr>\n",
       "      <th>135633</th>\n",
       "      <td>2020-06-04 18:14:33</td>\n",
       "      <td>building</td>\n",
       "      <td>research_center</td>\n",
       "      <td>515c1952-99aa-4bca-a7ea-d0449eb5385a</td>\n",
       "      <td>NaN</td>\n",
       "      <td>2020-06-04</td>\n",
       "    </tr>\n",
       "    <tr>\n",
       "      <th>135634</th>\n",
       "      <td>2020-06-05 00:08:06</td>\n",
       "      <td>building</td>\n",
       "      <td>research_center</td>\n",
       "      <td>f21d179f-1c4b-437e-b9c6-ab1976907195</td>\n",
       "      <td>NaN</td>\n",
       "      <td>2020-06-05</td>\n",
       "    </tr>\n",
       "    <tr>\n",
       "      <th>135635</th>\n",
       "      <td>2020-06-05 02:25:12</td>\n",
       "      <td>finished_stage_1</td>\n",
       "      <td>NaN</td>\n",
       "      <td>515c1952-99aa-4bca-a7ea-d0449eb5385a</td>\n",
       "      <td>NaN</td>\n",
       "      <td>2020-06-05</td>\n",
       "    </tr>\n",
       "    <tr>\n",
       "      <th>135637</th>\n",
       "      <td>2020-06-05 12:12:27</td>\n",
       "      <td>finished_stage_1</td>\n",
       "      <td>NaN</td>\n",
       "      <td>32572adb-900f-4b5d-a453-1eb1e6d88d8b</td>\n",
       "      <td>NaN</td>\n",
       "      <td>2020-06-05</td>\n",
       "    </tr>\n",
       "    <tr>\n",
       "      <th>135638</th>\n",
       "      <td>2020-06-05 12:32:49</td>\n",
       "      <td>finished_stage_1</td>\n",
       "      <td>NaN</td>\n",
       "      <td>f21d179f-1c4b-437e-b9c6-ab1976907195</td>\n",
       "      <td>NaN</td>\n",
       "      <td>2020-06-05</td>\n",
       "    </tr>\n",
       "  </tbody>\n",
       "</table>\n",
       "<p>41136 rows × 6 columns</p>\n",
       "</div>"
      ],
      "text/plain": [
       "            event_datetime             event    building_type  \\\n",
       "2      2020-05-04 00:00:16          building    assembly_shop   \n",
       "4      2020-05-04 00:00:35          building    assembly_shop   \n",
       "6      2020-05-04 00:00:36          building    assembly_shop   \n",
       "11     2020-05-04 00:02:24          building    assembly_shop   \n",
       "15     2020-05-04 00:03:10          building    assembly_shop   \n",
       "...                    ...               ...              ...   \n",
       "135633 2020-06-04 18:14:33          building  research_center   \n",
       "135634 2020-06-05 00:08:06          building  research_center   \n",
       "135635 2020-06-05 02:25:12  finished_stage_1              NaN   \n",
       "135637 2020-06-05 12:12:27  finished_stage_1              NaN   \n",
       "135638 2020-06-05 12:32:49  finished_stage_1              NaN   \n",
       "\n",
       "                                     user_id project_type        date  \n",
       "2       6edd42cc-e753-4ff6-a947-2107cd560710          NaN  2020-05-04  \n",
       "4       cdc6bb92-0ccb-4490-9866-ef142f09139d          NaN  2020-05-04  \n",
       "6       4fe0f101-694b-4e31-9740-d1d87f7208ea          NaN  2020-05-04  \n",
       "11      9c200ece-3b74-44c4-8a3f-260f2486c5d7          NaN  2020-05-04  \n",
       "15      02bf92c2-17a0-4156-be88-2054fb6b7421          NaN  2020-05-04  \n",
       "...                                      ...          ...         ...  \n",
       "135633  515c1952-99aa-4bca-a7ea-d0449eb5385a          NaN  2020-06-04  \n",
       "135634  f21d179f-1c4b-437e-b9c6-ab1976907195          NaN  2020-06-05  \n",
       "135635  515c1952-99aa-4bca-a7ea-d0449eb5385a          NaN  2020-06-05  \n",
       "135637  32572adb-900f-4b5d-a453-1eb1e6d88d8b          NaN  2020-06-05  \n",
       "135638  f21d179f-1c4b-437e-b9c6-ab1976907195          NaN  2020-06-05  \n",
       "\n",
       "[41136 rows x 6 columns]"
      ]
     },
     "execution_count": 51,
     "metadata": {},
     "output_type": "execute_result"
    }
   ],
   "source": [
    "pvp_dt = actions[actions['user_id'].isin(pvp_ids)]\n",
    "pvp_dt"
   ]
  },
  {
   "cell_type": "markdown",
   "id": "7f2f8831",
   "metadata": {},
   "source": [
    "Составим сводную таблицу, в которой выделим первый и последний дни активностей игроков, а затем посчитаем их лайфтайм."
   ]
  },
  {
   "cell_type": "code",
   "execution_count": 52,
   "id": "119ef3cb",
   "metadata": {},
   "outputs": [
    {
     "data": {
      "text/html": [
       "<div>\n",
       "<style scoped>\n",
       "    .dataframe tbody tr th:only-of-type {\n",
       "        vertical-align: middle;\n",
       "    }\n",
       "\n",
       "    .dataframe tbody tr th {\n",
       "        vertical-align: top;\n",
       "    }\n",
       "\n",
       "    .dataframe thead th {\n",
       "        text-align: right;\n",
       "    }\n",
       "</style>\n",
       "<table border=\"1\" class=\"dataframe\">\n",
       "  <thead>\n",
       "    <tr style=\"text-align: right;\">\n",
       "      <th></th>\n",
       "      <th>user_id</th>\n",
       "      <th>min_date</th>\n",
       "      <th>max_date</th>\n",
       "      <th>lifetime</th>\n",
       "    </tr>\n",
       "  </thead>\n",
       "  <tbody>\n",
       "    <tr>\n",
       "      <th>0</th>\n",
       "      <td>001d39dc-366c-4021-9604-6a3b9ff01e25</td>\n",
       "      <td>2020-05-05</td>\n",
       "      <td>2020-05-12</td>\n",
       "      <td>7.0</td>\n",
       "    </tr>\n",
       "    <tr>\n",
       "      <th>1</th>\n",
       "      <td>003ee7e8-6356-4286-a715-62f22a18d2a1</td>\n",
       "      <td>2020-05-05</td>\n",
       "      <td>2020-05-17</td>\n",
       "      <td>12.0</td>\n",
       "    </tr>\n",
       "    <tr>\n",
       "      <th>2</th>\n",
       "      <td>004074f8-251a-4776-922c-8348dca1a2f6</td>\n",
       "      <td>2020-05-04</td>\n",
       "      <td>2020-05-16</td>\n",
       "      <td>12.0</td>\n",
       "    </tr>\n",
       "    <tr>\n",
       "      <th>3</th>\n",
       "      <td>00464e5e-28ed-4be6-bf44-517ef7b3937b</td>\n",
       "      <td>2020-05-04</td>\n",
       "      <td>2020-05-15</td>\n",
       "      <td>11.0</td>\n",
       "    </tr>\n",
       "    <tr>\n",
       "      <th>4</th>\n",
       "      <td>0056c007-c082-43cc-bdef-afc49bca4cb9</td>\n",
       "      <td>2020-05-10</td>\n",
       "      <td>2020-05-16</td>\n",
       "      <td>6.0</td>\n",
       "    </tr>\n",
       "    <tr>\n",
       "      <th>...</th>\n",
       "      <td>...</td>\n",
       "      <td>...</td>\n",
       "      <td>...</td>\n",
       "      <td>...</td>\n",
       "    </tr>\n",
       "    <tr>\n",
       "      <th>3946</th>\n",
       "      <td>ffc6f4fa-3476-47af-85cb-e2ee0551110a</td>\n",
       "      <td>2020-05-04</td>\n",
       "      <td>2020-05-15</td>\n",
       "      <td>11.0</td>\n",
       "    </tr>\n",
       "    <tr>\n",
       "      <th>3947</th>\n",
       "      <td>ffd002f3-3545-423e-8dba-0c6a2d48a3aa</td>\n",
       "      <td>2020-05-06</td>\n",
       "      <td>2020-05-19</td>\n",
       "      <td>13.0</td>\n",
       "    </tr>\n",
       "    <tr>\n",
       "      <th>3948</th>\n",
       "      <td>ffe810f4-1a1f-464b-924d-6f120b0cb8df</td>\n",
       "      <td>2020-05-04</td>\n",
       "      <td>2020-05-18</td>\n",
       "      <td>14.0</td>\n",
       "    </tr>\n",
       "    <tr>\n",
       "      <th>3949</th>\n",
       "      <td>ffef4fed-164c-40e1-bde1-3980f76d0fb5</td>\n",
       "      <td>2020-05-04</td>\n",
       "      <td>2020-05-11</td>\n",
       "      <td>7.0</td>\n",
       "    </tr>\n",
       "    <tr>\n",
       "      <th>3950</th>\n",
       "      <td>fffb626c-5ab6-47c9-8113-2062a2f18494</td>\n",
       "      <td>2020-05-04</td>\n",
       "      <td>2020-05-12</td>\n",
       "      <td>8.0</td>\n",
       "    </tr>\n",
       "  </tbody>\n",
       "</table>\n",
       "<p>3951 rows × 4 columns</p>\n",
       "</div>"
      ],
      "text/plain": [
       "                                   user_id    min_date    max_date  lifetime\n",
       "0     001d39dc-366c-4021-9604-6a3b9ff01e25  2020-05-05  2020-05-12       7.0\n",
       "1     003ee7e8-6356-4286-a715-62f22a18d2a1  2020-05-05  2020-05-17      12.0\n",
       "2     004074f8-251a-4776-922c-8348dca1a2f6  2020-05-04  2020-05-16      12.0\n",
       "3     00464e5e-28ed-4be6-bf44-517ef7b3937b  2020-05-04  2020-05-15      11.0\n",
       "4     0056c007-c082-43cc-bdef-afc49bca4cb9  2020-05-10  2020-05-16       6.0\n",
       "...                                    ...         ...         ...       ...\n",
       "3946  ffc6f4fa-3476-47af-85cb-e2ee0551110a  2020-05-04  2020-05-15      11.0\n",
       "3947  ffd002f3-3545-423e-8dba-0c6a2d48a3aa  2020-05-06  2020-05-19      13.0\n",
       "3948  ffe810f4-1a1f-464b-924d-6f120b0cb8df  2020-05-04  2020-05-18      14.0\n",
       "3949  ffef4fed-164c-40e1-bde1-3980f76d0fb5  2020-05-04  2020-05-11       7.0\n",
       "3950  fffb626c-5ab6-47c9-8113-2062a2f18494  2020-05-04  2020-05-12       8.0\n",
       "\n",
       "[3951 rows x 4 columns]"
      ]
     },
     "execution_count": 52,
     "metadata": {},
     "output_type": "execute_result"
    }
   ],
   "source": [
    "pvp_mean_time = pvp_dt.pivot_table(index=['user_id'], values='date', aggfunc=['min', 'max']).reset_index()\n",
    "pvp_mean_time.columns = ['user_id', 'min_date', 'max_date']\n",
    "pvp_mean_time['lifetime'] = pvp_mean_time['max_date'] - pvp_mean_time['min_date']\n",
    "pvp_mean_time['lifetime'] = pvp_mean_time['lifetime'].astype('timedelta64[D]')\n",
    "pvp_mean_time"
   ]
  },
  {
   "cell_type": "markdown",
   "id": "46f82027",
   "metadata": {},
   "source": [
    "Возьмём пороговое значение альфа = 0.01 и применим метод scipy.stats.ttest_ind, чтобы проверить гипотезу о равенстве средних двух совокупностей."
   ]
  },
  {
   "cell_type": "markdown",
   "id": "60d10a44",
   "metadata": {},
   "source": [
    "<div class=\"alert alert-danger\">\n",
    "<b> 👨‍🚒  Комментарий тимлида</b> \n",
    "    \n",
    "Ты очень верно замечаешь, что мы проверяем среднее. Формулировка для самих гипотез тоже должна звучать как \"среднее ... (время)\"\n",
    "</div>"
   ]
  },
  {
   "cell_type": "markdown",
   "id": "97bdf7b0",
   "metadata": {},
   "source": [
    "<div class=\"alert alert-info\">\n",
    "<b>🧑‍🎓 Комментарий джуна </b> Поправила  👌\n",
    "</div> "
   ]
  },
  {
   "cell_type": "markdown",
   "id": "2f6cc717",
   "metadata": {},
   "source": [
    "<div class=\"alert alert-success\">\n",
    "<b> 🤌  Комментарий тимлида (v.2)</b>  \n",
    "    \n",
    "👍\n",
    "    \n",
    "</div>"
   ]
  },
  {
   "cell_type": "code",
   "execution_count": 53,
   "id": "fcab5349",
   "metadata": {},
   "outputs": [
    {
     "name": "stdout",
     "output_type": "stream",
     "text": [
      "p-значение: 4.363370007994992e-96\n",
      "Отвергаем нулевую гипотезу\n"
     ]
    }
   ],
   "source": [
    "alpha = 0.01\n",
    "results_1 = st.ttest_ind(\n",
    "    pve_mean_time['lifetime'], \n",
    "    pvp_mean_time['lifetime'])\n",
    "\n",
    "print('p-значение:', results_1.pvalue)\n",
    "\n",
    "if results_1.pvalue < alpha:\n",
    "    print(\"Отвергаем нулевую гипотезу\")\n",
    "else:\n",
    "    print(\"Не получилось отвергнуть нулевую гипотезу\")"
   ]
  },
  {
   "cell_type": "markdown",
   "id": "0db7f823",
   "metadata": {},
   "source": [
    "p-значение получилось очень маленьким, значит, среднее время прохождения уровня для пве и пвп пользователей сильно отличается. Переходим ко второй гипотезе"
   ]
  },
  {
   "cell_type": "markdown",
   "id": "85d7539a",
   "metadata": {},
   "source": [
    "### Вторая гипотеза\n",
    "\n",
    "Н0: \"Средний заработок от показов рекламы ПВЕ пользователям такой же, как средний заработок от показов рекламы ПВП пользователям\".\n",
    "\n",
    "Н1: \"Средний заработок от показов рекламы ПВЕ пользователям отличается от среднего заработка от показов рекламы ПВП пользователям\".\n"
   ]
  },
  {
   "cell_type": "markdown",
   "id": "9548603c",
   "metadata": {},
   "source": [
    "Поместим стоимость показа рекламы в переменную one_show_cost"
   ]
  },
  {
   "cell_type": "code",
   "execution_count": 54,
   "id": "d1fdda1d",
   "metadata": {},
   "outputs": [],
   "source": [
    "one_show_cost = 0.07"
   ]
  },
  {
   "cell_type": "markdown",
   "id": "378248a9",
   "metadata": {},
   "source": [
    "Возьмём наш датафрейм с действиями пве-пользователей, оставим в нём только информацию о постройках и сгруппируем по айди, чтобы подсчитать количество построенных ими зданий."
   ]
  },
  {
   "cell_type": "code",
   "execution_count": 55,
   "id": "3828c8fa",
   "metadata": {},
   "outputs": [
    {
     "data": {
      "text/html": [
       "<div>\n",
       "<style scoped>\n",
       "    .dataframe tbody tr th:only-of-type {\n",
       "        vertical-align: middle;\n",
       "    }\n",
       "\n",
       "    .dataframe tbody tr th {\n",
       "        vertical-align: top;\n",
       "    }\n",
       "\n",
       "    .dataframe thead th {\n",
       "        text-align: right;\n",
       "    }\n",
       "</style>\n",
       "<table border=\"1\" class=\"dataframe\">\n",
       "  <thead>\n",
       "    <tr style=\"text-align: right;\">\n",
       "      <th></th>\n",
       "      <th>user_id</th>\n",
       "      <th>event</th>\n",
       "      <th>revenue</th>\n",
       "    </tr>\n",
       "  </thead>\n",
       "  <tbody>\n",
       "    <tr>\n",
       "      <th>0</th>\n",
       "      <td>006380d6-67a6-45de-ab1e-6eb54ad8dbe8</td>\n",
       "      <td>11</td>\n",
       "      <td>0.77</td>\n",
       "    </tr>\n",
       "    <tr>\n",
       "      <th>1</th>\n",
       "      <td>00be7371-fa79-4fbd-b8e7-8ba32e3f8f82</td>\n",
       "      <td>12</td>\n",
       "      <td>0.84</td>\n",
       "    </tr>\n",
       "    <tr>\n",
       "      <th>2</th>\n",
       "      <td>00c2b9f2-2615-439c-aed0-6974e4c6c1c1</td>\n",
       "      <td>11</td>\n",
       "      <td>0.77</td>\n",
       "    </tr>\n",
       "    <tr>\n",
       "      <th>3</th>\n",
       "      <td>00de2809-403e-4476-a2f7-ca1b11700190</td>\n",
       "      <td>13</td>\n",
       "      <td>0.91</td>\n",
       "    </tr>\n",
       "    <tr>\n",
       "      <th>4</th>\n",
       "      <td>00e83261-5fd4-4939-9616-802b5a0202c6</td>\n",
       "      <td>13</td>\n",
       "      <td>0.91</td>\n",
       "    </tr>\n",
       "    <tr>\n",
       "      <th>...</th>\n",
       "      <td>...</td>\n",
       "      <td>...</td>\n",
       "      <td>...</td>\n",
       "    </tr>\n",
       "    <tr>\n",
       "      <th>1861</th>\n",
       "      <td>ff50f63a-c4b3-494e-8bf9-3f19dbfc513e</td>\n",
       "      <td>18</td>\n",
       "      <td>1.26</td>\n",
       "    </tr>\n",
       "    <tr>\n",
       "      <th>1862</th>\n",
       "      <td>ff60fcd1-4329-494e-b82d-461fbdf5b5eb</td>\n",
       "      <td>11</td>\n",
       "      <td>0.77</td>\n",
       "    </tr>\n",
       "    <tr>\n",
       "      <th>1863</th>\n",
       "      <td>ff83bdd8-f49a-49fd-8aad-9fa1fb30d516</td>\n",
       "      <td>13</td>\n",
       "      <td>0.91</td>\n",
       "    </tr>\n",
       "    <tr>\n",
       "      <th>1864</th>\n",
       "      <td>ff841992-d93b-462e-bc6e-18c24a514f36</td>\n",
       "      <td>20</td>\n",
       "      <td>1.40</td>\n",
       "    </tr>\n",
       "    <tr>\n",
       "      <th>1865</th>\n",
       "      <td>ffff69cc-fec1-4fd3-9f98-93be1112a6b8</td>\n",
       "      <td>12</td>\n",
       "      <td>0.84</td>\n",
       "    </tr>\n",
       "  </tbody>\n",
       "</table>\n",
       "<p>1866 rows × 3 columns</p>\n",
       "</div>"
      ],
      "text/plain": [
       "                                   user_id  event  revenue\n",
       "0     006380d6-67a6-45de-ab1e-6eb54ad8dbe8     11     0.77\n",
       "1     00be7371-fa79-4fbd-b8e7-8ba32e3f8f82     12     0.84\n",
       "2     00c2b9f2-2615-439c-aed0-6974e4c6c1c1     11     0.77\n",
       "3     00de2809-403e-4476-a2f7-ca1b11700190     13     0.91\n",
       "4     00e83261-5fd4-4939-9616-802b5a0202c6     13     0.91\n",
       "...                                    ...    ...      ...\n",
       "1861  ff50f63a-c4b3-494e-8bf9-3f19dbfc513e     18     1.26\n",
       "1862  ff60fcd1-4329-494e-b82d-461fbdf5b5eb     11     0.77\n",
       "1863  ff83bdd8-f49a-49fd-8aad-9fa1fb30d516     13     0.91\n",
       "1864  ff841992-d93b-462e-bc6e-18c24a514f36     20     1.40\n",
       "1865  ffff69cc-fec1-4fd3-9f98-93be1112a6b8     12     0.84\n",
       "\n",
       "[1866 rows x 3 columns]"
      ]
     },
     "execution_count": 55,
     "metadata": {},
     "output_type": "execute_result"
    }
   ],
   "source": [
    "pve_dt = pve_dt.query('event == \"building\"')\n",
    "pve_buildings = pve_dt.pivot_table(index = 'user_id', values='event', aggfunc = 'count').reset_index()\n",
    "pve_buildings['revenue'] = pve_buildings['event'] * one_show_cost\n",
    "pve_buildings"
   ]
  },
  {
   "cell_type": "markdown",
   "id": "8ec11492",
   "metadata": {},
   "source": [
    "<div class=\"alert alert-warning\">\n",
    "<b>🕵️‍♀️  Комментарий тимлида </b>\n",
    "\n",
    "\n",
    "Лучше избегать \"магических чисел\" в коде, т.е. вместо того, чтобы умножать на `0.07` лучше стоимость одного показа записать в переменную и использовать ее. Таким образом в случае изменения стоимости не придется по всему коду менять значения\n",
    "    </div>"
   ]
  },
  {
   "cell_type": "markdown",
   "id": "00c8fc5e",
   "metadata": {},
   "source": [
    "<div class=\"alert alert-info\">\n",
    "<b>🧑‍🎓 Комментарий джуна </b> Да, я почему-то не додумалась до этого, хотя переменная напрашивается =) Добавила, считаю с ней\n",
    "</div> "
   ]
  },
  {
   "cell_type": "markdown",
   "id": "b4527117",
   "metadata": {},
   "source": [
    "<div class=\"alert alert-success\">\n",
    "<b> 🤌  Комментарий тимлида (v.2)</b>  \n",
    "    \n",
    "Это вопрос привычки. Скоро войдет в автоматизм, если себя первое время одергивать :)\n",
    "    \n",
    "</div>"
   ]
  },
  {
   "cell_type": "markdown",
   "id": "b1b6dded",
   "metadata": {},
   "source": [
    "Теперь сделаем то же самое для пвп-данных."
   ]
  },
  {
   "cell_type": "code",
   "execution_count": 56,
   "id": "5ae039dd",
   "metadata": {
    "scrolled": false
   },
   "outputs": [
    {
     "data": {
      "text/html": [
       "<div>\n",
       "<style scoped>\n",
       "    .dataframe tbody tr th:only-of-type {\n",
       "        vertical-align: middle;\n",
       "    }\n",
       "\n",
       "    .dataframe tbody tr th {\n",
       "        vertical-align: top;\n",
       "    }\n",
       "\n",
       "    .dataframe thead th {\n",
       "        text-align: right;\n",
       "    }\n",
       "</style>\n",
       "<table border=\"1\" class=\"dataframe\">\n",
       "  <thead>\n",
       "    <tr style=\"text-align: right;\">\n",
       "      <th></th>\n",
       "      <th>user_id</th>\n",
       "      <th>event</th>\n",
       "      <th>revenue</th>\n",
       "    </tr>\n",
       "  </thead>\n",
       "  <tbody>\n",
       "    <tr>\n",
       "      <th>0</th>\n",
       "      <td>001d39dc-366c-4021-9604-6a3b9ff01e25</td>\n",
       "      <td>8</td>\n",
       "      <td>0.56</td>\n",
       "    </tr>\n",
       "    <tr>\n",
       "      <th>1</th>\n",
       "      <td>003ee7e8-6356-4286-a715-62f22a18d2a1</td>\n",
       "      <td>8</td>\n",
       "      <td>0.56</td>\n",
       "    </tr>\n",
       "    <tr>\n",
       "      <th>2</th>\n",
       "      <td>004074f8-251a-4776-922c-8348dca1a2f6</td>\n",
       "      <td>12</td>\n",
       "      <td>0.84</td>\n",
       "    </tr>\n",
       "    <tr>\n",
       "      <th>3</th>\n",
       "      <td>00464e5e-28ed-4be6-bf44-517ef7b3937b</td>\n",
       "      <td>8</td>\n",
       "      <td>0.56</td>\n",
       "    </tr>\n",
       "    <tr>\n",
       "      <th>4</th>\n",
       "      <td>0056c007-c082-43cc-bdef-afc49bca4cb9</td>\n",
       "      <td>3</td>\n",
       "      <td>0.21</td>\n",
       "    </tr>\n",
       "    <tr>\n",
       "      <th>...</th>\n",
       "      <td>...</td>\n",
       "      <td>...</td>\n",
       "      <td>...</td>\n",
       "    </tr>\n",
       "    <tr>\n",
       "      <th>3946</th>\n",
       "      <td>ffc6f4fa-3476-47af-85cb-e2ee0551110a</td>\n",
       "      <td>13</td>\n",
       "      <td>0.91</td>\n",
       "    </tr>\n",
       "    <tr>\n",
       "      <th>3947</th>\n",
       "      <td>ffd002f3-3545-423e-8dba-0c6a2d48a3aa</td>\n",
       "      <td>7</td>\n",
       "      <td>0.49</td>\n",
       "    </tr>\n",
       "    <tr>\n",
       "      <th>3948</th>\n",
       "      <td>ffe810f4-1a1f-464b-924d-6f120b0cb8df</td>\n",
       "      <td>16</td>\n",
       "      <td>1.12</td>\n",
       "    </tr>\n",
       "    <tr>\n",
       "      <th>3949</th>\n",
       "      <td>ffef4fed-164c-40e1-bde1-3980f76d0fb5</td>\n",
       "      <td>9</td>\n",
       "      <td>0.63</td>\n",
       "    </tr>\n",
       "    <tr>\n",
       "      <th>3950</th>\n",
       "      <td>fffb626c-5ab6-47c9-8113-2062a2f18494</td>\n",
       "      <td>9</td>\n",
       "      <td>0.63</td>\n",
       "    </tr>\n",
       "  </tbody>\n",
       "</table>\n",
       "<p>3951 rows × 3 columns</p>\n",
       "</div>"
      ],
      "text/plain": [
       "                                   user_id  event  revenue\n",
       "0     001d39dc-366c-4021-9604-6a3b9ff01e25      8     0.56\n",
       "1     003ee7e8-6356-4286-a715-62f22a18d2a1      8     0.56\n",
       "2     004074f8-251a-4776-922c-8348dca1a2f6     12     0.84\n",
       "3     00464e5e-28ed-4be6-bf44-517ef7b3937b      8     0.56\n",
       "4     0056c007-c082-43cc-bdef-afc49bca4cb9      3     0.21\n",
       "...                                    ...    ...      ...\n",
       "3946  ffc6f4fa-3476-47af-85cb-e2ee0551110a     13     0.91\n",
       "3947  ffd002f3-3545-423e-8dba-0c6a2d48a3aa      7     0.49\n",
       "3948  ffe810f4-1a1f-464b-924d-6f120b0cb8df     16     1.12\n",
       "3949  ffef4fed-164c-40e1-bde1-3980f76d0fb5      9     0.63\n",
       "3950  fffb626c-5ab6-47c9-8113-2062a2f18494      9     0.63\n",
       "\n",
       "[3951 rows x 3 columns]"
      ]
     },
     "execution_count": 56,
     "metadata": {},
     "output_type": "execute_result"
    }
   ],
   "source": [
    "pvp_dt = pvp_dt.query('event == \"building\"')\n",
    "pvp_buildings = pvp_dt.pivot_table(index = 'user_id', values='event', aggfunc = 'count').reset_index()\n",
    "pvp_buildings['revenue'] = pvp_buildings['event'] * one_show_cost\n",
    "pvp_buildings"
   ]
  },
  {
   "cell_type": "markdown",
   "id": "af605b86",
   "metadata": {},
   "source": [
    "Возьмём пороговое значение альфа = 0.01 и применим метод scipy.stats.ttest_ind, чтобы проверить гипотезу о равенстве средних двух совокупностей."
   ]
  },
  {
   "cell_type": "code",
   "execution_count": 57,
   "id": "b9095c0e",
   "metadata": {
    "scrolled": true
   },
   "outputs": [
    {
     "name": "stdout",
     "output_type": "stream",
     "text": [
      "p-значение:  0.0\n",
      "Отвергаем нулевую гипотезу\n"
     ]
    },
    {
     "name": "stderr",
     "output_type": "stream",
     "text": [
      "/tmp/ipykernel_219/3849829953.py:1: DeprecationWarning: Please use `ttest_ind` from the `scipy.stats` namespace, the `scipy.stats.stats` namespace is deprecated.\n",
      "  results_2 = st.stats.ttest_ind(pvp_buildings['revenue'], pve_buildings['revenue']) #, alternative='less')\n"
     ]
    }
   ],
   "source": [
    "results_2 = st.stats.ttest_ind(pvp_buildings['revenue'], pve_buildings['revenue']) #, alternative='less')\n",
    "alpha = 0.01\n",
    "print('p-значение: ', results_2.pvalue)\n",
    "if results_2.pvalue < alpha:\n",
    "    print(\"Отвергаем нулевую гипотезу\")\n",
    "else:\n",
    "    print(\"Не получилось отвергнуть нулевую гипотезу\") "
   ]
  },
  {
   "cell_type": "markdown",
   "id": "4640f3d5",
   "metadata": {},
   "source": [
    "<div class=\"alert alert-danger\">\n",
    "<b> 👨‍🚒  Комментарий тимлида</b> \n",
    "    \n",
    "А зачем? В целом не разделяю стремления к проверке односторонним проверкам, тогда когда данные заведомо могут принимать \"оба положения\". В коммерческой сфере односторонние гипотезы практически НЕ используются. И предлагается использовать двухсторонние. Причем часто даже в исследованиях \"изменили ли дополнительные калории массу тела\" гипотезы формулируют двухсторонние. Хотя казалось бы понятно, что подобная диета приведет к росту веса.\n",
    "</div>"
   ]
  },
  {
   "cell_type": "markdown",
   "id": "7becdd61",
   "metadata": {},
   "source": [
    "<div class=\"alert alert-info\">\n",
    "<b>🧑‍🎓 Комментарий джуна </b> Честно говоря, на этом моменте исследования я словила лёгкую панику, когда получила ноль при проверке гипотезы. Так что я полезла на различные форумы искать, то ли я ку-ку, то ли такое может быть. И наткнулась на эту функцию. \n",
    "    \n",
    "А почему не проверяют, какое значение в итоге выгоднее? Ведь так, например, можно строить предположения о том, что нужно делать бонусы в сторону пвп-направленных игроков больше, чем в сторону пве-игроков, т.к. первые активнее ведут себя в игре, совершают больше действий и вообще для нас как бы лояльнее. Код с функцией удаляю\n",
    "</div> "
   ]
  },
  {
   "cell_type": "markdown",
   "id": "2eccd166",
   "metadata": {},
   "source": [
    "<div class=\"alert alert-success\">\n",
    "<b> 🤌  Комментарий тимлида (v.2)</b>  \n",
    "    \n",
    "Вот в этой небольшой статье куда лучше написано о том, почему при допущении, что различие сравниваемых параметров может быть как положительным, так и отрицательным, лучше использовать дусторонний тест <a href = \"https://studopedia.ru/17_73771_zamechanie-.html\"> тык </a>\n",
    "    \n",
    "</div>"
   ]
  },
  {
   "cell_type": "markdown",
   "id": "9e300744",
   "metadata": {},
   "source": [
    "Средняя выручка от пве-игроков отличается от выручки от пвп-игроков."
   ]
  },
  {
   "cell_type": "markdown",
   "id": "ead88469",
   "metadata": {},
   "source": [
    "### Вывод\n",
    "\n",
    "Обе гипотезы отвергнуты, проверяемые средние значения двух совокупностей даже близко не похожи. Можно предположить, что это две совершенно разные группы пользователей, к которым нужен совершенно разный подход."
   ]
  },
  {
   "cell_type": "markdown",
   "id": "dcdf1413",
   "metadata": {},
   "source": [
    "## Построение моделей монетизации"
   ]
  },
  {
   "cell_type": "markdown",
   "id": "0bb43ffb",
   "metadata": {},
   "source": [
    "### Если показывать рекламу после каждого строительства"
   ]
  },
  {
   "cell_type": "markdown",
   "id": "1c4e83ef",
   "metadata": {},
   "source": [
    "Добавим к таблице с количеством построек за день и добавим новый столбец с итоговой вырукой от показов рекламы за день."
   ]
  },
  {
   "cell_type": "markdown",
   "id": "e2fe7119",
   "metadata": {},
   "source": [
    "Поместим стоимость показа рекламы в переменную one_show_cost"
   ]
  },
  {
   "cell_type": "code",
   "execution_count": 58,
   "id": "a13315d5",
   "metadata": {},
   "outputs": [],
   "source": [
    "one_show_cost = 0.07"
   ]
  },
  {
   "cell_type": "code",
   "execution_count": 59,
   "id": "610611b0",
   "metadata": {},
   "outputs": [
    {
     "data": {
      "text/html": [
       "<div>\n",
       "<style scoped>\n",
       "    .dataframe tbody tr th:only-of-type {\n",
       "        vertical-align: middle;\n",
       "    }\n",
       "\n",
       "    .dataframe tbody tr th {\n",
       "        vertical-align: top;\n",
       "    }\n",
       "\n",
       "    .dataframe thead th {\n",
       "        text-align: right;\n",
       "    }\n",
       "</style>\n",
       "<table border=\"1\" class=\"dataframe\">\n",
       "  <thead>\n",
       "    <tr style=\"text-align: right;\">\n",
       "      <th></th>\n",
       "      <th>date</th>\n",
       "      <th>count</th>\n",
       "      <th>ads_revenue</th>\n",
       "    </tr>\n",
       "  </thead>\n",
       "  <tbody>\n",
       "    <tr>\n",
       "      <th>0</th>\n",
       "      <td>2020-05-04</td>\n",
       "      <td>8170</td>\n",
       "      <td>571.90</td>\n",
       "    </tr>\n",
       "    <tr>\n",
       "      <th>1</th>\n",
       "      <td>2020-05-05</td>\n",
       "      <td>9052</td>\n",
       "      <td>633.64</td>\n",
       "    </tr>\n",
       "    <tr>\n",
       "      <th>2</th>\n",
       "      <td>2020-05-06</td>\n",
       "      <td>9921</td>\n",
       "      <td>694.47</td>\n",
       "    </tr>\n",
       "    <tr>\n",
       "      <th>3</th>\n",
       "      <td>2020-05-07</td>\n",
       "      <td>10847</td>\n",
       "      <td>759.29</td>\n",
       "    </tr>\n",
       "    <tr>\n",
       "      <th>4</th>\n",
       "      <td>2020-05-08</td>\n",
       "      <td>12030</td>\n",
       "      <td>842.10</td>\n",
       "    </tr>\n",
       "    <tr>\n",
       "      <th>5</th>\n",
       "      <td>2020-05-09</td>\n",
       "      <td>13066</td>\n",
       "      <td>914.62</td>\n",
       "    </tr>\n",
       "    <tr>\n",
       "      <th>6</th>\n",
       "      <td>2020-05-10</td>\n",
       "      <td>15022</td>\n",
       "      <td>1051.54</td>\n",
       "    </tr>\n",
       "    <tr>\n",
       "      <th>7</th>\n",
       "      <td>2020-05-11</td>\n",
       "      <td>7876</td>\n",
       "      <td>551.32</td>\n",
       "    </tr>\n",
       "    <tr>\n",
       "      <th>8</th>\n",
       "      <td>2020-05-12</td>\n",
       "      <td>7509</td>\n",
       "      <td>525.63</td>\n",
       "    </tr>\n",
       "    <tr>\n",
       "      <th>9</th>\n",
       "      <td>2020-05-13</td>\n",
       "      <td>7060</td>\n",
       "      <td>494.20</td>\n",
       "    </tr>\n",
       "    <tr>\n",
       "      <th>10</th>\n",
       "      <td>2020-05-14</td>\n",
       "      <td>6140</td>\n",
       "      <td>429.80</td>\n",
       "    </tr>\n",
       "    <tr>\n",
       "      <th>11</th>\n",
       "      <td>2020-05-15</td>\n",
       "      <td>5155</td>\n",
       "      <td>360.85</td>\n",
       "    </tr>\n",
       "    <tr>\n",
       "      <th>12</th>\n",
       "      <td>2020-05-16</td>\n",
       "      <td>4243</td>\n",
       "      <td>297.01</td>\n",
       "    </tr>\n",
       "    <tr>\n",
       "      <th>13</th>\n",
       "      <td>2020-05-17</td>\n",
       "      <td>3180</td>\n",
       "      <td>222.60</td>\n",
       "    </tr>\n",
       "    <tr>\n",
       "      <th>14</th>\n",
       "      <td>2020-05-18</td>\n",
       "      <td>2236</td>\n",
       "      <td>156.52</td>\n",
       "    </tr>\n",
       "    <tr>\n",
       "      <th>15</th>\n",
       "      <td>2020-05-19</td>\n",
       "      <td>1787</td>\n",
       "      <td>125.09</td>\n",
       "    </tr>\n",
       "    <tr>\n",
       "      <th>16</th>\n",
       "      <td>2020-05-20</td>\n",
       "      <td>1349</td>\n",
       "      <td>94.43</td>\n",
       "    </tr>\n",
       "    <tr>\n",
       "      <th>17</th>\n",
       "      <td>2020-05-21</td>\n",
       "      <td>988</td>\n",
       "      <td>69.16</td>\n",
       "    </tr>\n",
       "    <tr>\n",
       "      <th>18</th>\n",
       "      <td>2020-05-22</td>\n",
       "      <td>695</td>\n",
       "      <td>48.65</td>\n",
       "    </tr>\n",
       "    <tr>\n",
       "      <th>19</th>\n",
       "      <td>2020-05-23</td>\n",
       "      <td>509</td>\n",
       "      <td>35.63</td>\n",
       "    </tr>\n",
       "    <tr>\n",
       "      <th>20</th>\n",
       "      <td>2020-05-24</td>\n",
       "      <td>349</td>\n",
       "      <td>24.43</td>\n",
       "    </tr>\n",
       "    <tr>\n",
       "      <th>21</th>\n",
       "      <td>2020-05-25</td>\n",
       "      <td>255</td>\n",
       "      <td>17.85</td>\n",
       "    </tr>\n",
       "    <tr>\n",
       "      <th>22</th>\n",
       "      <td>2020-05-26</td>\n",
       "      <td>184</td>\n",
       "      <td>12.88</td>\n",
       "    </tr>\n",
       "    <tr>\n",
       "      <th>23</th>\n",
       "      <td>2020-05-27</td>\n",
       "      <td>120</td>\n",
       "      <td>8.40</td>\n",
       "    </tr>\n",
       "    <tr>\n",
       "      <th>24</th>\n",
       "      <td>2020-05-28</td>\n",
       "      <td>81</td>\n",
       "      <td>5.67</td>\n",
       "    </tr>\n",
       "    <tr>\n",
       "      <th>25</th>\n",
       "      <td>2020-05-29</td>\n",
       "      <td>49</td>\n",
       "      <td>3.43</td>\n",
       "    </tr>\n",
       "    <tr>\n",
       "      <th>26</th>\n",
       "      <td>2020-05-30</td>\n",
       "      <td>33</td>\n",
       "      <td>2.31</td>\n",
       "    </tr>\n",
       "    <tr>\n",
       "      <th>27</th>\n",
       "      <td>2020-05-31</td>\n",
       "      <td>19</td>\n",
       "      <td>1.33</td>\n",
       "    </tr>\n",
       "    <tr>\n",
       "      <th>28</th>\n",
       "      <td>2020-06-01</td>\n",
       "      <td>12</td>\n",
       "      <td>0.84</td>\n",
       "    </tr>\n",
       "    <tr>\n",
       "      <th>29</th>\n",
       "      <td>2020-06-02</td>\n",
       "      <td>6</td>\n",
       "      <td>0.42</td>\n",
       "    </tr>\n",
       "    <tr>\n",
       "      <th>30</th>\n",
       "      <td>2020-06-03</td>\n",
       "      <td>7</td>\n",
       "      <td>0.49</td>\n",
       "    </tr>\n",
       "    <tr>\n",
       "      <th>31</th>\n",
       "      <td>2020-06-04</td>\n",
       "      <td>4</td>\n",
       "      <td>0.28</td>\n",
       "    </tr>\n",
       "    <tr>\n",
       "      <th>32</th>\n",
       "      <td>2020-06-05</td>\n",
       "      <td>2</td>\n",
       "      <td>0.14</td>\n",
       "    </tr>\n",
       "  </tbody>\n",
       "</table>\n",
       "</div>"
      ],
      "text/plain": [
       "          date  count  ads_revenue\n",
       "0   2020-05-04   8170       571.90\n",
       "1   2020-05-05   9052       633.64\n",
       "2   2020-05-06   9921       694.47\n",
       "3   2020-05-07  10847       759.29\n",
       "4   2020-05-08  12030       842.10\n",
       "5   2020-05-09  13066       914.62\n",
       "6   2020-05-10  15022      1051.54\n",
       "7   2020-05-11   7876       551.32\n",
       "8   2020-05-12   7509       525.63\n",
       "9   2020-05-13   7060       494.20\n",
       "10  2020-05-14   6140       429.80\n",
       "11  2020-05-15   5155       360.85\n",
       "12  2020-05-16   4243       297.01\n",
       "13  2020-05-17   3180       222.60\n",
       "14  2020-05-18   2236       156.52\n",
       "15  2020-05-19   1787       125.09\n",
       "16  2020-05-20   1349        94.43\n",
       "17  2020-05-21    988        69.16\n",
       "18  2020-05-22    695        48.65\n",
       "19  2020-05-23    509        35.63\n",
       "20  2020-05-24    349        24.43\n",
       "21  2020-05-25    255        17.85\n",
       "22  2020-05-26    184        12.88\n",
       "23  2020-05-27    120         8.40\n",
       "24  2020-05-28     81         5.67\n",
       "25  2020-05-29     49         3.43\n",
       "26  2020-05-30     33         2.31\n",
       "27  2020-05-31     19         1.33\n",
       "28  2020-06-01     12         0.84\n",
       "29  2020-06-02      6         0.42\n",
       "30  2020-06-03      7         0.49\n",
       "31  2020-06-04      4         0.28\n",
       "32  2020-06-05      2         0.14"
      ]
     },
     "execution_count": 59,
     "metadata": {},
     "output_type": "execute_result"
    }
   ],
   "source": [
    "buildings_by_date['ads_revenue'] = buildings_by_date['count'] * one_show_cost\n",
    "buildings_by_date"
   ]
  },
  {
   "cell_type": "markdown",
   "id": "c9d23965",
   "metadata": {},
   "source": [
    "<div class=\"alert alert-danger\">\n",
    "<b> 👨‍🚒  Комментарий тимлида</b> \n",
    "    \n",
    "Совершенно точно надо избавляться от магических чисел)  \n",
    "</div>"
   ]
  },
  {
   "cell_type": "markdown",
   "id": "e55f4a13",
   "metadata": {},
   "source": [
    "<div class=\"alert alert-info\">\n",
    "<b>🧑‍🎓 Комментарий джуна </b> Вроде везде посмотрела и заменила на переменную)\n",
    "</div> "
   ]
  },
  {
   "cell_type": "markdown",
   "id": "f77c0dd1",
   "metadata": {},
   "source": [
    "<div class=\"alert alert-success\">\n",
    "<b> 🤌  Комментарий тимлида (v.2)</b>  \n",
    "    \n",
    "👍\n",
    "    \n",
    "</div>"
   ]
  },
  {
   "cell_type": "code",
   "execution_count": 60,
   "id": "4394d3ba",
   "metadata": {
    "scrolled": true
   },
   "outputs": [
    {
     "name": "stdout",
     "output_type": "stream",
     "text": [
      "Если показывать рекламу после каждой постройки, то получится: 8956.92 при затратах на рекламу: 7603.58\n"
     ]
    }
   ],
   "source": [
    "print('Если показывать рекламу после каждой постройки, то получится: {:.2f}'.format(buildings_by_date['ads_revenue'].sum()), \n",
    "      'при затратах на рекламу: {:.2f}'.format(total_ads_cost))"
   ]
  },
  {
   "cell_type": "markdown",
   "id": "7ca9a6d0",
   "metadata": {},
   "source": [
    "Посчитаем наибольшую выручку при таком варианте."
   ]
  },
  {
   "cell_type": "code",
   "execution_count": 61,
   "id": "d46f3f35",
   "metadata": {},
   "outputs": [],
   "source": [
    "max_revenue = buildings_by_date['ads_revenue'].sum() - total_ads_cost"
   ]
  },
  {
   "cell_type": "code",
   "execution_count": 62,
   "id": "beae3ecb",
   "metadata": {
    "scrolled": false
   },
   "outputs": [
    {
     "name": "stdout",
     "output_type": "stream",
     "text": [
      "Выручка составит: 1353.34 или 17.80%\n"
     ]
    }
   ],
   "source": [
    "print('Выручка составит: {:.2f} или {:.2%}'.format(max_revenue, (max_revenue/total_ads_cost)))"
   ]
  },
  {
   "cell_type": "markdown",
   "id": "29ad20be",
   "metadata": {},
   "source": [
    "При показе рекламы после каждого строительства выручка с рекламы за месяц составит меньше 20%.\n",
    "\n",
    "Посчитаем, за сколько показов набралась выручка."
   ]
  },
  {
   "cell_type": "code",
   "execution_count": 63,
   "id": "dbc851ac",
   "metadata": {},
   "outputs": [
    {
     "data": {
      "text/plain": [
       "19333.47"
      ]
     },
     "execution_count": 63,
     "metadata": {},
     "output_type": "execute_result"
    }
   ],
   "source": [
    "round(max_revenue / one_show_cost, 2)"
   ]
  },
  {
   "cell_type": "markdown",
   "id": "5159510a",
   "metadata": {},
   "source": [
    "<div class=\"alert alert-warning\">\n",
    "<b>🕵️‍♀️  Комментарий тимлида </b>\n",
    "\n",
    "\n",
    "Не совсем понятная величина... скорее ожидаешь увидеть количество показов, необходимых, чтобы выйти в ноль. Хотя может я что-то недопоняла\n",
    "    </div>"
   ]
  },
  {
   "cell_type": "markdown",
   "id": "38691ec6",
   "metadata": {},
   "source": [
    "Сколько всего раз была показана реклама"
   ]
  },
  {
   "cell_type": "code",
   "execution_count": 64,
   "id": "995350e4",
   "metadata": {},
   "outputs": [
    {
     "data": {
      "text/plain": [
       "127956"
      ]
     },
     "execution_count": 64,
     "metadata": {},
     "output_type": "execute_result"
    }
   ],
   "source": [
    "buildings_by_date['count'].sum()"
   ]
  },
  {
   "cell_type": "markdown",
   "id": "353f2b9b",
   "metadata": {},
   "source": [
    "Какой процент показанной рекламы от общего количества показов принёс прибыль"
   ]
  },
  {
   "cell_type": "code",
   "execution_count": 65,
   "id": "8d71ea33",
   "metadata": {
    "scrolled": true
   },
   "outputs": [
    {
     "data": {
      "text/plain": [
       "15.11"
      ]
     },
     "execution_count": 65,
     "metadata": {},
     "output_type": "execute_result"
    }
   ],
   "source": [
    "round((max_revenue / one_show_cost) / buildings_by_date['count'].sum() * 100, 2)"
   ]
  },
  {
   "cell_type": "markdown",
   "id": "40824b8b",
   "metadata": {},
   "source": [
    "Получается, 85% совершенных строительств нужно только для того, чтобы покрыть расходы по рекламе, и всего 15% приносят прибыль. Не самая эффективная модель на мой взгляд. "
   ]
  },
  {
   "cell_type": "markdown",
   "id": "e3c33f3e",
   "metadata": {},
   "source": [
    "<div class=\"alert alert-success\">\n",
    "<b> 🤌  Комментарий тимлида </b>  \n",
    "    \n",
    "А, вот так твоя оценка становится понятнее 👍\n",
    "    \n",
    "</div>"
   ]
  },
  {
   "cell_type": "markdown",
   "id": "dcfdad84",
   "metadata": {},
   "source": [
    "### Реклама в 4 случаях из 5"
   ]
  },
  {
   "cell_type": "markdown",
   "id": "aef8b24b",
   "metadata": {},
   "source": [
    "Попробуем уменьшить количество показываемой рекламы, чтобы дойти до уровня самоокупаемости. Посчитаем, сколько денег получим, если будем показывать пользователям рекламу в 4 случаях строительства из 5, то есть оставим 80% показов."
   ]
  },
  {
   "cell_type": "code",
   "execution_count": 66,
   "id": "ad52137d",
   "metadata": {
    "scrolled": true
   },
   "outputs": [
    {
     "name": "stdout",
     "output_type": "stream",
     "text": [
      "Если показывать рекламу при 4 постройках из 5, то получится: 7165.54 при затратах на рекламу: 7603.58\n"
     ]
    }
   ],
   "source": [
    "print('Если показывать рекламу при 4 постройках из 5, то получится: {:.2f} при затратах на рекламу: {:.2f}'.format(\n",
    "    (buildings_by_date['ads_revenue'].sum() * 0.8), total_ads_cost)\n",
    "     )"
   ]
  },
  {
   "cell_type": "markdown",
   "id": "422a8712",
   "metadata": {},
   "source": [
    "Невыгодная модель, ушли в минус. Отбрасываем."
   ]
  },
  {
   "cell_type": "markdown",
   "id": "84839b73",
   "metadata": {},
   "source": [
    "### Реклама в 9 случаях из 10"
   ]
  },
  {
   "cell_type": "markdown",
   "id": "7765fafa",
   "metadata": {},
   "source": [
    "Посчитаем 90% показов рекламы."
   ]
  },
  {
   "cell_type": "code",
   "execution_count": 67,
   "id": "865112cf",
   "metadata": {},
   "outputs": [
    {
     "name": "stdout",
     "output_type": "stream",
     "text": [
      "Если показывать рекламу при 9 постройках из 10, то получится: 8061.23 при затратах на рекламу: 7603.58\n"
     ]
    }
   ],
   "source": [
    "print('Если показывать рекламу при 9 постройках из 10, то получится: {:.2f} при затратах на рекламу: {:.2f}'.format(\n",
    "    (buildings_by_date['ads_revenue'].sum() * 0.9), total_ads_cost)\n",
    "     )"
   ]
  },
  {
   "cell_type": "markdown",
   "id": "e986219a",
   "metadata": {},
   "source": [
    "Вышли в небольшой плюс, нормально. При условии, что 75% пользователей строят 10-12 зданий за прохождение уровня. "
   ]
  },
  {
   "cell_type": "markdown",
   "id": "2e99017b",
   "metadata": {},
   "source": [
    "### Увеличиваем показы рекламы"
   ]
  },
  {
   "cell_type": "markdown",
   "id": "1b84d039",
   "metadata": {},
   "source": [
    "Когда мы выполняли рассчёты для проверки гипотез, мы выделили лайфтайм группы пользователей. Рассмотрим его."
   ]
  },
  {
   "cell_type": "code",
   "execution_count": 68,
   "id": "cae584b2",
   "metadata": {},
   "outputs": [
    {
     "data": {
      "text/plain": [
       "count    1866.000000\n",
       "mean       13.396570\n",
       "std         3.522622\n",
       "min         5.000000\n",
       "25%        11.000000\n",
       "50%        13.000000\n",
       "75%        15.000000\n",
       "max        29.000000\n",
       "Name: lifetime, dtype: float64"
      ]
     },
     "execution_count": 68,
     "metadata": {},
     "output_type": "execute_result"
    }
   ],
   "source": [
    "pve_mean_time['lifetime'].describe()"
   ]
  },
  {
   "cell_type": "code",
   "execution_count": 69,
   "id": "c941b166",
   "metadata": {},
   "outputs": [
    {
     "data": {
      "text/plain": [
       "count    3951.000000\n",
       "mean       11.058466\n",
       "std         4.104875\n",
       "min         0.000000\n",
       "25%         8.000000\n",
       "50%        11.000000\n",
       "75%        13.000000\n",
       "max        31.000000\n",
       "Name: lifetime, dtype: float64"
      ]
     },
     "execution_count": 69,
     "metadata": {},
     "output_type": "execute_result"
    }
   ],
   "source": [
    "pvp_mean_time['lifetime'].describe()"
   ]
  },
  {
   "cell_type": "markdown",
   "id": "d69dae0d",
   "metadata": {},
   "source": [
    "Видно, что не менее 75% игроков проходят уровень за 13-15 дней. И зданий они строят в среднем 10-12. Можно предположить, что игрок в среднем строит одно здание за день, а в некоторые дни не строит совсем. Рассмотрим в таком случае две модели: \n",
    "1. Будем показывать рекламу игрокам в начале строительства и предложим посмотреть бонусную рекламу за ускорение строительства или другой бонус. Здесь предположим, что 50% согласятся.\n",
    "2. Предположим, что здание строится достаточно долго. Тогда можно показать игроку рекламу в начале строительства и по завершении. Ещё предложим точно так же посмотреть дополнительную рекламу за бонусы. Предположим, что 50% также согласятся."
   ]
  },
  {
   "cell_type": "code",
   "execution_count": 70,
   "id": "a90b1a0e",
   "metadata": {},
   "outputs": [
    {
     "name": "stdout",
     "output_type": "stream",
     "text": [
      "Если показывать рекламу при каждом строительстве с бонусными показами, то получится: 13435.38, прибыль составит: 76.70%\n"
     ]
    }
   ],
   "source": [
    "print('Если показывать рекламу при каждом строительстве с бонусными показами, то получится: {:.2f}, прибыль составит: {:.2%}'.format(\n",
    "    (buildings_by_date['ads_revenue'].sum() * 1.5), ((buildings_by_date['ads_revenue'].sum() * 1.5)/total_ads_cost - 1))\n",
    "     )"
   ]
  },
  {
   "cell_type": "code",
   "execution_count": 71,
   "id": "a566f41b",
   "metadata": {},
   "outputs": [
    {
     "name": "stdout",
     "output_type": "stream",
     "text": [
      "Если показывать рекламу дважды за постройку с бонусными показами, то получится: 22392.30, прибыль составит: 194.50%\n"
     ]
    }
   ],
   "source": [
    "print('Если показывать рекламу дважды за постройку с бонусными показами, то получится: {:.2f}, прибыль составит: {:.2%}'.format(\n",
    "    (buildings_by_date['ads_revenue'].sum() * 2.5), (buildings_by_date['ads_revenue'].sum() * 2.5)/total_ads_cost - 1)\n",
    "     )"
   ]
  },
  {
   "cell_type": "markdown",
   "id": "348c95c5",
   "metadata": {},
   "source": [
    "### Вывод\n",
    "\n",
    "Как бы уважительно мы ни относились к пользователям, показы рекламы необходимо увеличивать. Хотя бы предлагать дополнительные показы за бонусы. Даже если их посмотрят меньше половины игроков, прибавка будет существенная. При одном строительстве в день, игроки посмотрят всего одну, максимум две рекламы. Мне этот вариант нравится больше всего, т.к. длительность строительства неизвестна, и здесь рекламой можно подгрузить пользователей."
   ]
  },
  {
   "cell_type": "markdown",
   "id": "29fd2c86",
   "metadata": {},
   "source": [
    "<div class=\"alert alert-success\">\n",
    "<b> 🤌  Комментарий тимлида </b>  \n",
    "    \n",
    "Замечательное предложение. Ты не просто оценила действующую модель, но и предложила альтернативную, которая позволила бы нарастить прибыль. Возможно модели можно было бы комбинировать уменьшение количества показов при завершении строительства с бонусами для ускорения строительства 🧐\n",
    "    \n",
    "</div>"
   ]
  },
  {
   "cell_type": "markdown",
   "id": "31e9da35",
   "metadata": {},
   "source": [
    "<div class=\"alert alert-info\">\n",
    "<b>🧑‍🎓 Комментарий джуна </b> Да! Эта мысль меня сильно захватила) Если предложить крысам жать на кнопку за корм, они будут делать это достаточно часто. Здесь по сути тот же сценарий. Надо дать игрокам возможность смотреть рекламу за незначительные с точки зрения игры бонусы, которые им что-то где-то упростят или ускорят, и они сами будут жать на эту заветную кнопку. Иногда проще посмотреть 30 секунд рекламы, которые снизят время постройки здания, чем ждать по полдня. Проверила на себе)\n",
    "</div> "
   ]
  },
  {
   "cell_type": "markdown",
   "id": "c8fa5d8a",
   "metadata": {},
   "source": [
    "<div class=\"alert alert-success\">\n",
    "<b> 🤌  Комментарий тимлида (v.2)</b>  \n",
    "    \n",
    "![](https://i.gifer.com/72nt.gif)\n",
    "    \n",
    "</div>"
   ]
  },
  {
   "cell_type": "markdown",
   "id": "b82106ef",
   "metadata": {},
   "source": [
    "## Вывод"
   ]
  },
  {
   "cell_type": "markdown",
   "id": "d459a931",
   "metadata": {},
   "source": [
    "### Общий вывод по данным\n",
    "\n",
    "1. Среди всех пользователей, установивших приложение, за месяц игры до завершения первого уровня дошли 43% игроков.\n",
    "2. Реклама хорошо подействовала на привлечение новых пользователей.\n",
    "3. Рекламный период дал какой-то сбой на строительство здания assembly_shop. Его строили только во время рекламного периода. Причём количество построек именного этого типа здания значительно превышало количество построек других зданий. Если бы после завершения рекламного периода его всё ещё можно было строить, мы заработали бы на рекламен значительно больше.\n",
    "4. Средний лайфтайм пользователей 10-13 дней и среднее количество построенных зданий - 10-12. Практически одно здание в день.\n",
    "5. Выручка с показов рекламы за месяц принесла нам всего 18% прибыли - и это при показах рекламы во время каждого строительства, а некоторые игроки за уровень строили по 20 зданий. Я здесь вижу выход только в том, чтобы увеличивать количество показов рекламы пользователям. \n",
    "6. Игроков, завершивших уровень через победу над врагом почти в два раза больше, чем завершивших уровень через реализацию проекта.\n",
    "7. Средняя выручка от пвп-направленных игроков существенно больше выручки от пве-игроков. И среднее время достижения следующего уровня для этих двух категорий пользователей существенно отличается.\n"
   ]
  },
  {
   "cell_type": "markdown",
   "id": "395f4d43",
   "metadata": {},
   "source": [
    "### Рекомендации\n",
    "\n",
    "1. Нужно посмотреть, что случилось со зданиями типа assembly_shop. Без них мы потеряли значительную часть прибыли.\n",
    "2. По рекламе предложения следующие:\n",
    "    1. Ввести возможность показа дополнительной рекламы для ускорения действий в игре: строительства, найма рекрутов и т.д. Так реклама станет полезной для игроков, и они сами будут её включать.\n",
    "    2. Можно установить перманентные баннеры с рекламой.\n",
    "    3. Можно ввести платную функцию отмены рекламы, оставив возможность игрокам смотреть рекламу для бонусов из п.1\n",
    "    4. Можно использовать внутриигровые модели (например, экраны), чтобы прямо во время игры можно было ненавязчиво смотреть рекламу.\n",
    "    5. Сделать навязчивую рекламу каждое определённое время, проведённое в игре или по завершении сражения."
   ]
  },
  {
   "cell_type": "markdown",
   "id": "2f05902b",
   "metadata": {},
   "source": [
    "<div class=\"alert alert-success\">\n",
    "<b> 🤌  Комментарий тимлида </b>  \n",
    "    \n",
    "Исчерпывающий вывод. Без лишней воды, но с основными тезисами, полученными в результате исследования.\n",
    "    \n",
    "</div>"
   ]
  }
 ],
 "metadata": {
  "ExecuteTimeLog": [
   {
    "duration": 1678,
    "start_time": "2022-06-21T15:30:12.914Z"
   },
   {
    "duration": 147,
    "start_time": "2022-06-21T15:30:14.595Z"
   },
   {
    "duration": 0,
    "start_time": "2022-06-21T15:30:14.745Z"
   },
   {
    "duration": 0,
    "start_time": "2022-06-21T15:30:14.746Z"
   },
   {
    "duration": 0,
    "start_time": "2022-06-21T15:30:14.748Z"
   },
   {
    "duration": 0,
    "start_time": "2022-06-21T15:30:14.750Z"
   },
   {
    "duration": 0,
    "start_time": "2022-06-21T15:30:14.751Z"
   },
   {
    "duration": 1,
    "start_time": "2022-06-21T15:30:14.752Z"
   },
   {
    "duration": 0,
    "start_time": "2022-06-21T15:30:14.754Z"
   },
   {
    "duration": 0,
    "start_time": "2022-06-21T15:30:14.756Z"
   },
   {
    "duration": 0,
    "start_time": "2022-06-21T15:30:14.757Z"
   },
   {
    "duration": 0,
    "start_time": "2022-06-21T15:30:14.759Z"
   },
   {
    "duration": 0,
    "start_time": "2022-06-21T15:30:14.761Z"
   },
   {
    "duration": 0,
    "start_time": "2022-06-21T15:30:14.763Z"
   },
   {
    "duration": 0,
    "start_time": "2022-06-21T15:30:14.765Z"
   },
   {
    "duration": 0,
    "start_time": "2022-06-21T15:30:14.766Z"
   },
   {
    "duration": 0,
    "start_time": "2022-06-21T15:30:14.768Z"
   },
   {
    "duration": 0,
    "start_time": "2022-06-21T15:30:14.769Z"
   },
   {
    "duration": 0,
    "start_time": "2022-06-21T15:30:14.771Z"
   },
   {
    "duration": 0,
    "start_time": "2022-06-21T15:30:14.772Z"
   },
   {
    "duration": 0,
    "start_time": "2022-06-21T15:30:14.774Z"
   },
   {
    "duration": 0,
    "start_time": "2022-06-21T15:30:14.823Z"
   },
   {
    "duration": 0,
    "start_time": "2022-06-21T15:30:14.825Z"
   },
   {
    "duration": 0,
    "start_time": "2022-06-21T15:30:14.826Z"
   },
   {
    "duration": 0,
    "start_time": "2022-06-21T15:30:14.827Z"
   },
   {
    "duration": 0,
    "start_time": "2022-06-21T15:30:14.828Z"
   },
   {
    "duration": 0,
    "start_time": "2022-06-21T15:30:14.829Z"
   },
   {
    "duration": 0,
    "start_time": "2022-06-21T15:30:14.830Z"
   },
   {
    "duration": 0,
    "start_time": "2022-06-21T15:30:14.831Z"
   },
   {
    "duration": 0,
    "start_time": "2022-06-21T15:30:14.832Z"
   },
   {
    "duration": 0,
    "start_time": "2022-06-21T15:30:14.833Z"
   },
   {
    "duration": 0,
    "start_time": "2022-06-21T15:30:14.835Z"
   },
   {
    "duration": 0,
    "start_time": "2022-06-21T15:30:14.836Z"
   },
   {
    "duration": 0,
    "start_time": "2022-06-21T15:30:14.838Z"
   },
   {
    "duration": 0,
    "start_time": "2022-06-21T15:30:14.840Z"
   },
   {
    "duration": 0,
    "start_time": "2022-06-21T15:30:14.841Z"
   },
   {
    "duration": 0,
    "start_time": "2022-06-21T15:30:14.843Z"
   },
   {
    "duration": 0,
    "start_time": "2022-06-21T15:30:14.844Z"
   },
   {
    "duration": 0,
    "start_time": "2022-06-21T15:30:14.846Z"
   },
   {
    "duration": 0,
    "start_time": "2022-06-21T15:30:14.847Z"
   },
   {
    "duration": 0,
    "start_time": "2022-06-21T15:30:14.848Z"
   },
   {
    "duration": 0,
    "start_time": "2022-06-21T15:30:14.849Z"
   },
   {
    "duration": 0,
    "start_time": "2022-06-21T15:30:14.851Z"
   },
   {
    "duration": 0,
    "start_time": "2022-06-21T15:30:14.852Z"
   },
   {
    "duration": 0,
    "start_time": "2022-06-21T15:30:14.853Z"
   },
   {
    "duration": 0,
    "start_time": "2022-06-21T15:30:14.854Z"
   },
   {
    "duration": 0,
    "start_time": "2022-06-21T15:30:14.855Z"
   },
   {
    "duration": 0,
    "start_time": "2022-06-21T15:30:14.856Z"
   },
   {
    "duration": 0,
    "start_time": "2022-06-21T15:30:14.857Z"
   },
   {
    "duration": 0,
    "start_time": "2022-06-21T15:30:14.858Z"
   },
   {
    "duration": 0,
    "start_time": "2022-06-21T15:30:14.859Z"
   },
   {
    "duration": 0,
    "start_time": "2022-06-21T15:30:14.923Z"
   },
   {
    "duration": 0,
    "start_time": "2022-06-21T15:30:14.925Z"
   },
   {
    "duration": 0,
    "start_time": "2022-06-21T15:30:14.926Z"
   },
   {
    "duration": 0,
    "start_time": "2022-06-21T15:30:14.927Z"
   },
   {
    "duration": 0,
    "start_time": "2022-06-21T15:30:14.928Z"
   },
   {
    "duration": 0,
    "start_time": "2022-06-21T15:30:14.929Z"
   },
   {
    "duration": 0,
    "start_time": "2022-06-21T15:30:14.930Z"
   },
   {
    "duration": 0,
    "start_time": "2022-06-21T15:30:14.932Z"
   },
   {
    "duration": 0,
    "start_time": "2022-06-21T15:30:14.934Z"
   },
   {
    "duration": 0,
    "start_time": "2022-06-21T15:30:14.935Z"
   },
   {
    "duration": 0,
    "start_time": "2022-06-21T15:30:14.937Z"
   },
   {
    "duration": 0,
    "start_time": "2022-06-21T15:30:14.938Z"
   },
   {
    "duration": 0,
    "start_time": "2022-06-21T15:30:14.939Z"
   },
   {
    "duration": 0,
    "start_time": "2022-06-21T15:30:14.940Z"
   },
   {
    "duration": 0,
    "start_time": "2022-06-21T15:30:14.942Z"
   },
   {
    "duration": 0,
    "start_time": "2022-06-21T15:30:14.943Z"
   },
   {
    "duration": 0,
    "start_time": "2022-06-21T15:30:14.944Z"
   },
   {
    "duration": 0,
    "start_time": "2022-06-21T15:30:14.946Z"
   },
   {
    "duration": 0,
    "start_time": "2022-06-21T15:30:14.947Z"
   },
   {
    "duration": 791,
    "start_time": "2022-06-21T15:31:48.734Z"
   },
   {
    "duration": 336,
    "start_time": "2022-06-21T15:31:57.985Z"
   },
   {
    "duration": 4,
    "start_time": "2022-06-21T15:32:05.430Z"
   },
   {
    "duration": 53,
    "start_time": "2022-06-21T15:32:05.436Z"
   },
   {
    "duration": 47,
    "start_time": "2022-06-21T15:32:05.491Z"
   },
   {
    "duration": 19,
    "start_time": "2022-06-21T15:32:05.543Z"
   },
   {
    "duration": 10,
    "start_time": "2022-06-21T15:32:05.565Z"
   },
   {
    "duration": 198,
    "start_time": "2022-06-21T15:32:05.577Z"
   },
   {
    "duration": 101,
    "start_time": "2022-06-21T15:32:05.777Z"
   },
   {
    "duration": 48,
    "start_time": "2022-06-21T15:32:05.880Z"
   },
   {
    "duration": 43,
    "start_time": "2022-06-21T15:32:05.929Z"
   },
   {
    "duration": 22,
    "start_time": "2022-06-21T15:32:05.974Z"
   },
   {
    "duration": 8,
    "start_time": "2022-06-21T15:32:06.000Z"
   },
   {
    "duration": 46,
    "start_time": "2022-06-21T15:32:06.010Z"
   },
   {
    "duration": 11,
    "start_time": "2022-06-21T15:32:06.058Z"
   },
   {
    "duration": 70,
    "start_time": "2022-06-21T15:32:06.071Z"
   },
   {
    "duration": 7,
    "start_time": "2022-06-21T15:32:06.143Z"
   },
   {
    "duration": 19,
    "start_time": "2022-06-21T15:32:06.152Z"
   },
   {
    "duration": 17,
    "start_time": "2022-06-21T15:32:06.174Z"
   },
   {
    "duration": 36,
    "start_time": "2022-06-21T15:32:06.193Z"
   },
   {
    "duration": 22,
    "start_time": "2022-06-21T15:32:06.231Z"
   },
   {
    "duration": 40,
    "start_time": "2022-06-21T15:32:06.255Z"
   },
   {
    "duration": 47,
    "start_time": "2022-06-21T15:32:06.297Z"
   },
   {
    "duration": 137,
    "start_time": "2022-06-21T15:32:06.347Z"
   },
   {
    "duration": 4,
    "start_time": "2022-06-21T15:32:06.486Z"
   },
   {
    "duration": 13,
    "start_time": "2022-06-21T15:32:06.492Z"
   },
   {
    "duration": 10,
    "start_time": "2022-06-21T15:32:06.523Z"
   },
   {
    "duration": 22,
    "start_time": "2022-06-21T15:32:06.534Z"
   },
   {
    "duration": 13,
    "start_time": "2022-06-21T15:32:06.558Z"
   },
   {
    "duration": 106,
    "start_time": "2022-06-21T15:32:06.572Z"
   },
   {
    "duration": 18,
    "start_time": "2022-06-21T15:32:06.682Z"
   },
   {
    "duration": 36,
    "start_time": "2022-06-21T15:32:06.702Z"
   },
   {
    "duration": 94,
    "start_time": "2022-06-21T15:32:06.740Z"
   },
   {
    "duration": 16,
    "start_time": "2022-06-21T15:32:06.836Z"
   },
   {
    "duration": 43,
    "start_time": "2022-06-21T15:32:06.854Z"
   },
   {
    "duration": 454,
    "start_time": "2022-06-21T15:32:06.899Z"
   },
   {
    "duration": 78,
    "start_time": "2022-06-21T15:32:07.355Z"
   },
   {
    "duration": 189,
    "start_time": "2022-06-21T15:32:07.435Z"
   },
   {
    "duration": 518,
    "start_time": "2022-06-21T15:32:07.626Z"
   },
   {
    "duration": 102,
    "start_time": "2022-06-21T15:32:08.146Z"
   },
   {
    "duration": 9,
    "start_time": "2022-06-21T15:32:08.249Z"
   },
   {
    "duration": 80,
    "start_time": "2022-06-21T15:32:08.260Z"
   },
   {
    "duration": 83,
    "start_time": "2022-06-21T15:32:08.343Z"
   },
   {
    "duration": 5,
    "start_time": "2022-06-21T15:32:08.428Z"
   },
   {
    "duration": 41,
    "start_time": "2022-06-21T15:32:08.434Z"
   },
   {
    "duration": 66,
    "start_time": "2022-06-21T15:32:08.477Z"
   },
   {
    "duration": 747,
    "start_time": "2022-06-21T15:32:08.545Z"
   },
   {
    "duration": 48,
    "start_time": "2022-06-21T15:32:09.294Z"
   },
   {
    "duration": 5,
    "start_time": "2022-06-21T15:32:09.344Z"
   },
   {
    "duration": 40,
    "start_time": "2022-06-21T15:32:09.351Z"
   },
   {
    "duration": 781,
    "start_time": "2022-06-21T15:32:09.392Z"
   },
   {
    "duration": 7,
    "start_time": "2022-06-21T15:32:10.176Z"
   },
   {
    "duration": 51,
    "start_time": "2022-06-21T15:32:10.185Z"
   },
   {
    "duration": 36,
    "start_time": "2022-06-21T15:32:10.240Z"
   },
   {
    "duration": 6,
    "start_time": "2022-06-21T15:32:10.278Z"
   },
   {
    "duration": 8,
    "start_time": "2022-06-21T15:32:10.286Z"
   },
   {
    "duration": 33,
    "start_time": "2022-06-21T15:32:10.295Z"
   },
   {
    "duration": 29,
    "start_time": "2022-06-21T15:32:10.336Z"
   },
   {
    "duration": 5,
    "start_time": "2022-06-21T15:32:10.368Z"
   },
   {
    "duration": 16,
    "start_time": "2022-06-21T15:32:10.375Z"
   },
   {
    "duration": 10,
    "start_time": "2022-06-21T15:32:10.393Z"
   },
   {
    "duration": 7,
    "start_time": "2022-06-21T15:32:10.405Z"
   },
   {
    "duration": 24,
    "start_time": "2022-06-21T15:32:10.414Z"
   },
   {
    "duration": 8,
    "start_time": "2022-06-21T15:32:10.440Z"
   },
   {
    "duration": 10,
    "start_time": "2022-06-21T15:32:10.450Z"
   },
   {
    "duration": 10,
    "start_time": "2022-06-21T15:32:10.462Z"
   },
   {
    "duration": 37,
    "start_time": "2022-06-21T15:32:10.475Z"
   },
   {
    "duration": 38,
    "start_time": "2022-06-21T15:32:10.513Z"
   },
   {
    "duration": 6,
    "start_time": "2022-06-21T15:32:10.554Z"
   },
   {
    "duration": 9,
    "start_time": "2022-06-21T15:32:10.562Z"
   },
   {
    "duration": 102,
    "start_time": "2022-06-21T15:33:40.409Z"
   },
   {
    "duration": 142,
    "start_time": "2022-06-21T15:33:52.408Z"
   },
   {
    "duration": 65,
    "start_time": "2022-06-21T18:03:22.720Z"
   },
   {
    "duration": 1352,
    "start_time": "2022-06-21T18:03:29.008Z"
   },
   {
    "duration": 894,
    "start_time": "2022-06-21T18:03:38.984Z"
   },
   {
    "duration": 302,
    "start_time": "2022-06-21T18:03:39.880Z"
   },
   {
    "duration": 4,
    "start_time": "2022-06-21T18:03:43.271Z"
   },
   {
    "duration": 24,
    "start_time": "2022-06-21T18:03:44.193Z"
   },
   {
    "duration": 12,
    "start_time": "2022-06-21T18:03:44.808Z"
   },
   {
    "duration": 7,
    "start_time": "2022-06-21T18:03:45.052Z"
   },
   {
    "duration": 6,
    "start_time": "2022-06-21T18:03:45.537Z"
   },
   {
    "duration": 135,
    "start_time": "2022-06-21T18:03:46.457Z"
   },
   {
    "duration": 94,
    "start_time": "2022-06-21T18:03:46.911Z"
   },
   {
    "duration": 30,
    "start_time": "2022-06-21T18:03:47.144Z"
   },
   {
    "duration": 32,
    "start_time": "2022-06-21T18:03:47.368Z"
   },
   {
    "duration": 6,
    "start_time": "2022-06-21T18:03:47.803Z"
   },
   {
    "duration": 6,
    "start_time": "2022-06-21T18:03:48.025Z"
   },
   {
    "duration": 35,
    "start_time": "2022-06-21T18:03:48.457Z"
   },
   {
    "duration": 12,
    "start_time": "2022-06-21T18:03:48.678Z"
   },
   {
    "duration": 36,
    "start_time": "2022-06-21T18:03:49.135Z"
   },
   {
    "duration": 8,
    "start_time": "2022-06-21T18:03:49.351Z"
   },
   {
    "duration": 17,
    "start_time": "2022-06-21T18:03:49.785Z"
   },
   {
    "duration": 15,
    "start_time": "2022-06-21T18:03:50.255Z"
   },
   {
    "duration": 12,
    "start_time": "2022-06-21T18:03:50.744Z"
   },
   {
    "duration": 29,
    "start_time": "2022-06-21T18:03:51.221Z"
   },
   {
    "duration": 26,
    "start_time": "2022-06-21T18:03:51.670Z"
   },
   {
    "duration": 32,
    "start_time": "2022-06-21T18:03:52.563Z"
   },
   {
    "duration": 110,
    "start_time": "2022-06-21T18:03:52.796Z"
   },
   {
    "duration": 5,
    "start_time": "2022-06-21T18:03:59.218Z"
   },
   {
    "duration": 10,
    "start_time": "2022-06-21T18:03:59.715Z"
   },
   {
    "duration": 14,
    "start_time": "2022-06-21T18:04:00.106Z"
   },
   {
    "duration": 25,
    "start_time": "2022-06-21T18:05:01.516Z"
   },
   {
    "duration": 14,
    "start_time": "2022-06-21T18:05:01.873Z"
   },
   {
    "duration": 124,
    "start_time": "2022-06-21T18:05:02.719Z"
   },
   {
    "duration": 17,
    "start_time": "2022-06-21T18:05:03.392Z"
   },
   {
    "duration": 18,
    "start_time": "2022-06-21T18:05:04.194Z"
   },
   {
    "duration": 85,
    "start_time": "2022-06-21T18:05:04.750Z"
   },
   {
    "duration": 18,
    "start_time": "2022-06-21T18:05:08.497Z"
   },
   {
    "duration": 39,
    "start_time": "2022-06-21T18:05:09.340Z"
   },
   {
    "duration": 317,
    "start_time": "2022-06-21T18:05:10.443Z"
   },
   {
    "duration": 25,
    "start_time": "2022-06-21T18:05:11.765Z"
   },
   {
    "duration": 66,
    "start_time": "2022-06-21T18:05:12.804Z"
   },
   {
    "duration": 277,
    "start_time": "2022-06-21T18:05:13.920Z"
   },
   {
    "duration": 3,
    "start_time": "2022-06-21T18:11:23.275Z"
   },
   {
    "duration": 3,
    "start_time": "2022-06-21T18:12:28.065Z"
   },
   {
    "duration": 16,
    "start_time": "2022-06-21T18:12:31.454Z"
   },
   {
    "duration": 66,
    "start_time": "2022-06-21T18:12:41.287Z"
   },
   {
    "duration": 10,
    "start_time": "2022-06-21T18:12:54.308Z"
   },
   {
    "duration": 1261,
    "start_time": "2022-06-21T18:13:09.332Z"
   },
   {
    "duration": 136,
    "start_time": "2022-06-21T18:13:10.595Z"
   },
   {
    "duration": 0,
    "start_time": "2022-06-21T18:13:10.735Z"
   },
   {
    "duration": 0,
    "start_time": "2022-06-21T18:13:10.736Z"
   },
   {
    "duration": 0,
    "start_time": "2022-06-21T18:13:10.738Z"
   },
   {
    "duration": 0,
    "start_time": "2022-06-21T18:13:10.740Z"
   },
   {
    "duration": 0,
    "start_time": "2022-06-21T18:13:10.741Z"
   },
   {
    "duration": 0,
    "start_time": "2022-06-21T18:13:10.743Z"
   },
   {
    "duration": 0,
    "start_time": "2022-06-21T18:13:10.744Z"
   },
   {
    "duration": 0,
    "start_time": "2022-06-21T18:13:10.746Z"
   },
   {
    "duration": 0,
    "start_time": "2022-06-21T18:13:10.747Z"
   },
   {
    "duration": 0,
    "start_time": "2022-06-21T18:13:10.749Z"
   },
   {
    "duration": 0,
    "start_time": "2022-06-21T18:13:10.750Z"
   },
   {
    "duration": 0,
    "start_time": "2022-06-21T18:13:10.752Z"
   },
   {
    "duration": 0,
    "start_time": "2022-06-21T18:13:10.753Z"
   },
   {
    "duration": 0,
    "start_time": "2022-06-21T18:13:10.754Z"
   },
   {
    "duration": 0,
    "start_time": "2022-06-21T18:13:10.756Z"
   },
   {
    "duration": 0,
    "start_time": "2022-06-21T18:13:10.757Z"
   },
   {
    "duration": 0,
    "start_time": "2022-06-21T18:13:10.758Z"
   },
   {
    "duration": 0,
    "start_time": "2022-06-21T18:13:10.759Z"
   },
   {
    "duration": 0,
    "start_time": "2022-06-21T18:13:10.761Z"
   },
   {
    "duration": 0,
    "start_time": "2022-06-21T18:13:10.762Z"
   },
   {
    "duration": 0,
    "start_time": "2022-06-21T18:13:10.763Z"
   },
   {
    "duration": 0,
    "start_time": "2022-06-21T18:13:10.764Z"
   },
   {
    "duration": 0,
    "start_time": "2022-06-21T18:13:10.765Z"
   },
   {
    "duration": 0,
    "start_time": "2022-06-21T18:13:10.766Z"
   },
   {
    "duration": 0,
    "start_time": "2022-06-21T18:13:10.768Z"
   },
   {
    "duration": 0,
    "start_time": "2022-06-21T18:13:10.824Z"
   },
   {
    "duration": 0,
    "start_time": "2022-06-21T18:13:10.825Z"
   },
   {
    "duration": 0,
    "start_time": "2022-06-21T18:13:10.827Z"
   },
   {
    "duration": 0,
    "start_time": "2022-06-21T18:13:10.828Z"
   },
   {
    "duration": 0,
    "start_time": "2022-06-21T18:13:10.830Z"
   },
   {
    "duration": 0,
    "start_time": "2022-06-21T18:13:10.832Z"
   },
   {
    "duration": 0,
    "start_time": "2022-06-21T18:13:10.833Z"
   },
   {
    "duration": 0,
    "start_time": "2022-06-21T18:13:10.834Z"
   },
   {
    "duration": 0,
    "start_time": "2022-06-21T18:13:10.836Z"
   },
   {
    "duration": 0,
    "start_time": "2022-06-21T18:13:10.837Z"
   },
   {
    "duration": 0,
    "start_time": "2022-06-21T18:13:10.839Z"
   },
   {
    "duration": 0,
    "start_time": "2022-06-21T18:13:10.841Z"
   },
   {
    "duration": 0,
    "start_time": "2022-06-21T18:13:10.842Z"
   },
   {
    "duration": 0,
    "start_time": "2022-06-21T18:13:10.844Z"
   },
   {
    "duration": 1,
    "start_time": "2022-06-21T18:13:10.844Z"
   },
   {
    "duration": 0,
    "start_time": "2022-06-21T18:13:10.846Z"
   },
   {
    "duration": 0,
    "start_time": "2022-06-21T18:13:10.847Z"
   },
   {
    "duration": 0,
    "start_time": "2022-06-21T18:13:10.848Z"
   },
   {
    "duration": 0,
    "start_time": "2022-06-21T18:13:10.850Z"
   },
   {
    "duration": 0,
    "start_time": "2022-06-21T18:13:10.851Z"
   },
   {
    "duration": 0,
    "start_time": "2022-06-21T18:13:10.852Z"
   },
   {
    "duration": 0,
    "start_time": "2022-06-21T18:13:10.854Z"
   },
   {
    "duration": 0,
    "start_time": "2022-06-21T18:13:10.855Z"
   },
   {
    "duration": 0,
    "start_time": "2022-06-21T18:13:10.856Z"
   },
   {
    "duration": 0,
    "start_time": "2022-06-21T18:13:10.858Z"
   },
   {
    "duration": 0,
    "start_time": "2022-06-21T18:13:10.859Z"
   },
   {
    "duration": 0,
    "start_time": "2022-06-21T18:13:10.861Z"
   },
   {
    "duration": 0,
    "start_time": "2022-06-21T18:13:10.862Z"
   },
   {
    "duration": 0,
    "start_time": "2022-06-21T18:13:10.924Z"
   },
   {
    "duration": 0,
    "start_time": "2022-06-21T18:13:10.925Z"
   },
   {
    "duration": 0,
    "start_time": "2022-06-21T18:13:10.925Z"
   },
   {
    "duration": 0,
    "start_time": "2022-06-21T18:13:10.927Z"
   },
   {
    "duration": 0,
    "start_time": "2022-06-21T18:13:10.927Z"
   },
   {
    "duration": 0,
    "start_time": "2022-06-21T18:13:10.928Z"
   },
   {
    "duration": 0,
    "start_time": "2022-06-21T18:13:10.929Z"
   },
   {
    "duration": 1,
    "start_time": "2022-06-21T18:13:10.936Z"
   },
   {
    "duration": 0,
    "start_time": "2022-06-21T18:13:10.939Z"
   },
   {
    "duration": 0,
    "start_time": "2022-06-21T18:13:10.941Z"
   },
   {
    "duration": 0,
    "start_time": "2022-06-21T18:13:10.942Z"
   },
   {
    "duration": 0,
    "start_time": "2022-06-21T18:13:10.943Z"
   },
   {
    "duration": 1,
    "start_time": "2022-06-21T18:13:10.944Z"
   },
   {
    "duration": 0,
    "start_time": "2022-06-21T18:13:10.946Z"
   },
   {
    "duration": 0,
    "start_time": "2022-06-21T18:13:10.948Z"
   },
   {
    "duration": 0,
    "start_time": "2022-06-21T18:13:10.949Z"
   },
   {
    "duration": 0,
    "start_time": "2022-06-21T18:13:10.951Z"
   },
   {
    "duration": 0,
    "start_time": "2022-06-21T18:13:10.952Z"
   },
   {
    "duration": 1205,
    "start_time": "2022-06-21T18:13:37.662Z"
   },
   {
    "duration": 318,
    "start_time": "2022-06-21T18:13:38.868Z"
   },
   {
    "duration": 265,
    "start_time": "2022-06-21T18:13:39.188Z"
   },
   {
    "duration": 3,
    "start_time": "2022-06-21T18:13:39.456Z"
   },
   {
    "duration": 31,
    "start_time": "2022-06-21T18:13:39.460Z"
   },
   {
    "duration": 11,
    "start_time": "2022-06-21T18:13:39.493Z"
   },
   {
    "duration": 23,
    "start_time": "2022-06-21T18:13:39.505Z"
   },
   {
    "duration": 10,
    "start_time": "2022-06-21T18:13:39.530Z"
   },
   {
    "duration": 162,
    "start_time": "2022-06-21T18:13:39.542Z"
   },
   {
    "duration": 96,
    "start_time": "2022-06-21T18:13:39.707Z"
   },
   {
    "duration": 43,
    "start_time": "2022-06-21T18:13:39.804Z"
   },
   {
    "duration": 30,
    "start_time": "2022-06-21T18:13:39.849Z"
   },
   {
    "duration": 5,
    "start_time": "2022-06-21T18:13:39.881Z"
   },
   {
    "duration": 8,
    "start_time": "2022-06-21T18:13:39.887Z"
   },
   {
    "duration": 72,
    "start_time": "2022-06-21T18:13:39.896Z"
   },
   {
    "duration": 12,
    "start_time": "2022-06-21T18:13:39.970Z"
   },
   {
    "duration": 63,
    "start_time": "2022-06-21T18:13:39.984Z"
   },
   {
    "duration": 6,
    "start_time": "2022-06-21T18:13:40.049Z"
   },
   {
    "duration": 30,
    "start_time": "2022-06-21T18:13:40.057Z"
   },
   {
    "duration": 36,
    "start_time": "2022-06-21T18:13:40.089Z"
   },
   {
    "duration": 16,
    "start_time": "2022-06-21T18:13:40.126Z"
   },
   {
    "duration": 20,
    "start_time": "2022-06-21T18:13:40.144Z"
   },
   {
    "duration": 30,
    "start_time": "2022-06-21T18:13:40.166Z"
   },
   {
    "duration": 53,
    "start_time": "2022-06-21T18:13:40.198Z"
   },
   {
    "duration": 137,
    "start_time": "2022-06-21T18:13:40.254Z"
   },
   {
    "duration": 5,
    "start_time": "2022-06-21T18:13:40.393Z"
   },
   {
    "duration": 24,
    "start_time": "2022-06-21T18:13:40.400Z"
   },
   {
    "duration": 12,
    "start_time": "2022-06-21T18:13:40.430Z"
   },
   {
    "duration": 30,
    "start_time": "2022-06-21T18:13:40.444Z"
   },
   {
    "duration": 14,
    "start_time": "2022-06-21T18:13:40.476Z"
   },
   {
    "duration": 120,
    "start_time": "2022-06-21T18:13:40.492Z"
   },
   {
    "duration": 29,
    "start_time": "2022-06-21T18:13:40.614Z"
   },
   {
    "duration": 17,
    "start_time": "2022-06-21T18:13:40.645Z"
   },
   {
    "duration": 111,
    "start_time": "2022-06-21T18:13:40.664Z"
   },
   {
    "duration": 20,
    "start_time": "2022-06-21T18:13:40.777Z"
   },
   {
    "duration": 44,
    "start_time": "2022-06-21T18:13:40.799Z"
   },
   {
    "duration": 332,
    "start_time": "2022-06-21T18:13:40.845Z"
   },
   {
    "duration": 25,
    "start_time": "2022-06-21T18:13:41.178Z"
   },
   {
    "duration": 75,
    "start_time": "2022-06-21T18:13:41.204Z"
   },
   {
    "duration": 248,
    "start_time": "2022-06-21T18:13:41.280Z"
   },
   {
    "duration": 59,
    "start_time": "2022-06-21T18:13:41.530Z"
   },
   {
    "duration": 9,
    "start_time": "2022-06-21T18:13:41.591Z"
   },
   {
    "duration": 42,
    "start_time": "2022-06-21T18:13:41.602Z"
   },
   {
    "duration": 18,
    "start_time": "2022-06-21T18:13:41.646Z"
   },
   {
    "duration": 4,
    "start_time": "2022-06-21T18:13:41.665Z"
   },
   {
    "duration": 18,
    "start_time": "2022-06-21T18:13:41.670Z"
   },
   {
    "duration": 60,
    "start_time": "2022-06-21T18:13:41.690Z"
   },
   {
    "duration": 372,
    "start_time": "2022-06-21T18:13:41.753Z"
   },
   {
    "duration": 21,
    "start_time": "2022-06-21T18:13:42.128Z"
   },
   {
    "duration": 7,
    "start_time": "2022-06-21T18:13:42.150Z"
   },
   {
    "duration": 37,
    "start_time": "2022-06-21T18:13:42.159Z"
   },
   {
    "duration": 738,
    "start_time": "2022-06-21T18:13:42.197Z"
   },
   {
    "duration": 5,
    "start_time": "2022-06-21T18:13:42.938Z"
   },
   {
    "duration": 66,
    "start_time": "2022-06-21T18:13:42.944Z"
   },
   {
    "duration": 39,
    "start_time": "2022-06-21T18:13:43.011Z"
   },
   {
    "duration": 5,
    "start_time": "2022-06-21T18:13:43.052Z"
   },
   {
    "duration": 12,
    "start_time": "2022-06-21T18:13:43.059Z"
   },
   {
    "duration": 16,
    "start_time": "2022-06-21T18:13:43.073Z"
   },
   {
    "duration": 17,
    "start_time": "2022-06-21T18:13:43.091Z"
   },
   {
    "duration": 14,
    "start_time": "2022-06-21T18:13:43.109Z"
   },
   {
    "duration": 11,
    "start_time": "2022-06-21T18:13:43.124Z"
   },
   {
    "duration": 21,
    "start_time": "2022-06-21T18:13:43.137Z"
   },
   {
    "duration": 17,
    "start_time": "2022-06-21T18:13:43.159Z"
   },
   {
    "duration": 17,
    "start_time": "2022-06-21T18:13:43.178Z"
   },
   {
    "duration": 17,
    "start_time": "2022-06-21T18:13:43.197Z"
   },
   {
    "duration": 16,
    "start_time": "2022-06-21T18:13:43.217Z"
   },
   {
    "duration": 26,
    "start_time": "2022-06-21T18:13:43.235Z"
   },
   {
    "duration": 13,
    "start_time": "2022-06-21T18:13:43.265Z"
   },
   {
    "duration": 15,
    "start_time": "2022-06-21T18:13:43.280Z"
   },
   {
    "duration": 23,
    "start_time": "2022-06-21T18:13:43.297Z"
   },
   {
    "duration": 20,
    "start_time": "2022-06-21T18:13:43.322Z"
   },
   {
    "duration": 13,
    "start_time": "2022-06-21T18:13:43.344Z"
   },
   {
    "duration": 2,
    "start_time": "2022-06-21T18:15:27.869Z"
   },
   {
    "duration": 34,
    "start_time": "2022-06-21T18:15:31.946Z"
   },
   {
    "duration": 36,
    "start_time": "2022-06-21T18:15:37.456Z"
   },
   {
    "duration": 1228,
    "start_time": "2022-06-21T20:29:32.816Z"
   },
   {
    "duration": 293,
    "start_time": "2022-06-21T20:29:34.048Z"
   },
   {
    "duration": 264,
    "start_time": "2022-06-21T20:29:34.344Z"
   },
   {
    "duration": 4,
    "start_time": "2022-06-21T20:29:34.610Z"
   },
   {
    "duration": 39,
    "start_time": "2022-06-21T20:29:34.616Z"
   },
   {
    "duration": 11,
    "start_time": "2022-06-21T20:29:34.657Z"
   },
   {
    "duration": 8,
    "start_time": "2022-06-21T20:29:34.670Z"
   },
   {
    "duration": 8,
    "start_time": "2022-06-21T20:29:34.679Z"
   },
   {
    "duration": 305,
    "start_time": "2022-06-21T20:29:34.726Z"
   },
   {
    "duration": 139,
    "start_time": "2022-06-21T20:29:35.034Z"
   },
   {
    "duration": 82,
    "start_time": "2022-06-21T20:29:35.175Z"
   },
   {
    "duration": 90,
    "start_time": "2022-06-21T20:29:35.259Z"
   },
   {
    "duration": 5,
    "start_time": "2022-06-21T20:29:35.351Z"
   },
   {
    "duration": 5,
    "start_time": "2022-06-21T20:29:35.358Z"
   },
   {
    "duration": 109,
    "start_time": "2022-06-21T20:29:35.365Z"
   },
   {
    "duration": 62,
    "start_time": "2022-06-21T20:29:35.476Z"
   },
   {
    "duration": 113,
    "start_time": "2022-06-21T20:29:35.541Z"
   },
   {
    "duration": 5,
    "start_time": "2022-06-21T20:29:35.656Z"
   },
   {
    "duration": 73,
    "start_time": "2022-06-21T20:29:35.663Z"
   },
   {
    "duration": 33,
    "start_time": "2022-06-21T20:29:35.738Z"
   },
   {
    "duration": 69,
    "start_time": "2022-06-21T20:29:35.773Z"
   },
   {
    "duration": 20,
    "start_time": "2022-06-21T20:29:35.844Z"
   },
   {
    "duration": 95,
    "start_time": "2022-06-21T20:29:35.865Z"
   },
   {
    "duration": 86,
    "start_time": "2022-06-21T20:29:35.962Z"
   },
   {
    "duration": 231,
    "start_time": "2022-06-21T20:29:36.049Z"
   },
   {
    "duration": 48,
    "start_time": "2022-06-21T20:29:36.281Z"
   },
   {
    "duration": 27,
    "start_time": "2022-06-21T20:29:36.331Z"
   },
   {
    "duration": 8,
    "start_time": "2022-06-21T20:29:36.362Z"
   },
   {
    "duration": 80,
    "start_time": "2022-06-21T20:29:36.371Z"
   },
   {
    "duration": 12,
    "start_time": "2022-06-21T20:29:36.453Z"
   },
   {
    "duration": 207,
    "start_time": "2022-06-21T20:29:36.467Z"
   },
   {
    "duration": 26,
    "start_time": "2022-06-21T20:29:36.728Z"
   },
   {
    "duration": 16,
    "start_time": "2022-06-21T20:29:36.756Z"
   },
   {
    "duration": 265,
    "start_time": "2022-06-21T20:29:36.773Z"
   },
   {
    "duration": 19,
    "start_time": "2022-06-21T20:29:37.040Z"
   },
   {
    "duration": 109,
    "start_time": "2022-06-21T20:29:37.061Z"
   },
   {
    "duration": 382,
    "start_time": "2022-06-21T20:29:37.172Z"
   },
   {
    "duration": 26,
    "start_time": "2022-06-21T20:29:37.556Z"
   },
   {
    "duration": 83,
    "start_time": "2022-06-21T20:29:37.584Z"
   },
   {
    "duration": 236,
    "start_time": "2022-06-21T20:29:37.669Z"
   },
   {
    "duration": 69,
    "start_time": "2022-06-21T20:29:37.907Z"
   },
   {
    "duration": 7,
    "start_time": "2022-06-21T20:29:37.978Z"
   },
   {
    "duration": 16,
    "start_time": "2022-06-21T20:29:37.986Z"
   },
   {
    "duration": 42,
    "start_time": "2022-06-21T20:29:38.004Z"
   },
   {
    "duration": 14,
    "start_time": "2022-06-21T20:29:38.048Z"
   },
   {
    "duration": 17,
    "start_time": "2022-06-21T20:29:38.063Z"
   },
   {
    "duration": 23,
    "start_time": "2022-06-21T20:29:38.081Z"
   },
   {
    "duration": 356,
    "start_time": "2022-06-21T20:29:38.106Z"
   },
   {
    "duration": 18,
    "start_time": "2022-06-21T20:29:38.464Z"
   },
   {
    "duration": 6,
    "start_time": "2022-06-21T20:29:38.483Z"
   },
   {
    "duration": 39,
    "start_time": "2022-06-21T20:29:38.490Z"
   },
   {
    "duration": 706,
    "start_time": "2022-06-21T20:29:38.531Z"
   },
   {
    "duration": 7,
    "start_time": "2022-06-21T20:29:39.240Z"
   },
   {
    "duration": 15,
    "start_time": "2022-06-21T20:29:39.249Z"
   },
   {
    "duration": 31,
    "start_time": "2022-06-21T20:29:39.266Z"
   },
   {
    "duration": 48,
    "start_time": "2022-06-21T20:29:39.298Z"
   },
   {
    "duration": 6,
    "start_time": "2022-06-21T20:29:39.347Z"
   },
   {
    "duration": 25,
    "start_time": "2022-06-21T20:29:39.354Z"
   },
   {
    "duration": 15,
    "start_time": "2022-06-21T20:29:39.380Z"
   },
   {
    "duration": 6,
    "start_time": "2022-06-21T20:29:39.396Z"
   },
   {
    "duration": 10,
    "start_time": "2022-06-21T20:29:39.404Z"
   },
   {
    "duration": 29,
    "start_time": "2022-06-21T20:29:39.416Z"
   },
   {
    "duration": 6,
    "start_time": "2022-06-21T20:29:39.448Z"
   },
   {
    "duration": 7,
    "start_time": "2022-06-21T20:29:39.456Z"
   },
   {
    "duration": 22,
    "start_time": "2022-06-21T20:29:39.465Z"
   },
   {
    "duration": 9,
    "start_time": "2022-06-21T20:29:39.489Z"
   },
   {
    "duration": 15,
    "start_time": "2022-06-21T20:29:39.500Z"
   },
   {
    "duration": 15,
    "start_time": "2022-06-21T20:29:39.516Z"
   },
   {
    "duration": 29,
    "start_time": "2022-06-21T20:29:39.534Z"
   },
   {
    "duration": 9,
    "start_time": "2022-06-21T20:29:39.566Z"
   },
   {
    "duration": 12,
    "start_time": "2022-06-21T20:29:39.577Z"
   }
  ],
  "kernelspec": {
   "display_name": "Python 3 (ipykernel)",
   "language": "python",
   "name": "python3"
  },
  "language_info": {
   "codemirror_mode": {
    "name": "ipython",
    "version": 3
   },
   "file_extension": ".py",
   "mimetype": "text/x-python",
   "name": "python",
   "nbconvert_exporter": "python",
   "pygments_lexer": "ipython3",
   "version": "3.7.8"
  },
  "toc": {
   "base_numbering": 1,
   "nav_menu": {},
   "number_sections": true,
   "sideBar": true,
   "skip_h1_title": true,
   "title_cell": "Table of Contents",
   "title_sidebar": "Contents",
   "toc_cell": true,
   "toc_position": {
    "height": "calc(100% - 180px)",
    "left": "10px",
    "top": "150px",
    "width": "310px"
   },
   "toc_section_display": true,
   "toc_window_display": true
  }
 },
 "nbformat": 4,
 "nbformat_minor": 5
}
